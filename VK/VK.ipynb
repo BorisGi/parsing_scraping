{
 "cells": [
  {
   "cell_type": "code",
   "execution_count": null,
   "id": "ca7f83a5",
   "metadata": {},
   "outputs": [],
   "source": []
  },
  {
   "cell_type": "code",
   "execution_count": 1,
   "id": "d9e41112",
   "metadata": {},
   "outputs": [],
   "source": [
    "# для запросов\n",
    "import requests\n",
    "\n",
    "# для работы с JSON\n",
    "import json\n",
    "\n",
    "# для работы с папками\n",
    "import os\n",
    "\n",
    "from time import sleep\n",
    "\n",
    "import math\n",
    "\n",
    "# \n",
    "from datetime import timedelta, date\n",
    "\n",
    "# прогресс-бар\n",
    "from tqdm.notebook import trange, tqdm\n",
    "\n",
    "# для дафреймов\n",
    "import pandas as pd"
   ]
  },
  {
   "cell_type": "code",
   "execution_count": 15,
   "id": "7b095c7b",
   "metadata": {},
   "outputs": [],
   "source": [
    "# путь к файлам\n",
    "\n",
    "file_path = 'C:/00_Data/temp_data/'\n",
    "\n",
    "token_list_path = 'C:/work/keys/vk.txt' # путь к файлу с токеном"
   ]
  },
  {
   "cell_type": "code",
   "execution_count": 16,
   "id": "28a11192",
   "metadata": {},
   "outputs": [],
   "source": [
    "# загружаю токен\n",
    "\n",
    "with open(token_list_path, 'r') as f:\n",
    "    for line in f:\n",
    "        vk_key = line"
   ]
  },
  {
   "cell_type": "code",
   "execution_count": 59,
   "id": "baea6b7f",
   "metadata": {},
   "outputs": [],
   "source": [
    "# настройки для парсинга\n",
    "version = 5.131\n"
   ]
  },
  {
   "cell_type": "code",
   "execution_count": 4,
   "id": "bfc5135c",
   "metadata": {},
   "outputs": [],
   "source": [
    "post_number = 10\n",
    "offset = 0\n",
    "all_post = []"
   ]
  },
  {
   "cell_type": "code",
   "execution_count": 6,
   "id": "a4b66b37",
   "metadata": {},
   "outputs": [],
   "source": [
    "# количество постов на стене\n",
    "\n",
    "all_post_number = requests.get('https://api.vk.com/method/wall.get',\n",
    "                               params={\n",
    "                                   'access_token': vk_key,\n",
    "                                   'v':version,\n",
    "                                   'domain': domain,\n",
    "                               }).json()['response']['count']"
   ]
  },
  {
   "cell_type": "code",
   "execution_count": 7,
   "id": "0c7c834e",
   "metadata": {},
   "outputs": [
    {
     "data": {
      "text/plain": [
       "97"
      ]
     },
     "execution_count": 7,
     "metadata": {},
     "output_type": "execute_result"
    }
   ],
   "source": [
    "# количество страниц\n",
    "\n",
    "page_number = math.ceil(all_post_number / 100)\n",
    "page_number"
   ]
  },
  {
   "cell_type": "code",
   "execution_count": null,
   "id": "2908312b",
   "metadata": {},
   "outputs": [],
   "source": []
  },
  {
   "cell_type": "code",
   "execution_count": null,
   "id": "29dd2f58",
   "metadata": {},
   "outputs": [],
   "source": []
  },
  {
   "cell_type": "code",
   "execution_count": null,
   "id": "09dc3d4d",
   "metadata": {},
   "outputs": [],
   "source": [
    "# код парсера\n",
    "\n",
    "data = []\n",
    "\n",
    "for page in tqdm(range(0, page_number)):\n",
    "    \n",
    "    \n",
    "    response = requests.get('https://api.vk.com/method/wall.get',\n",
    "                            params={\n",
    "                                'access_token': vk_key,\n",
    "                                'v':version,\n",
    "                                'domain': domain,\n",
    "                                'count': post_number,\n",
    "                                'offset': offset,\n",
    "                                'extended': 1\n",
    "                            })\n",
    "   \n",
    "    \n",
    "    sleep(0.5)\n",
    "    offset += 100\n",
    "    \n",
    "    for item in response.json()['response']['items']:\n",
    "        video = 0\n",
    "        photo = 0\n",
    "        \n",
    "        owner_id = item['owner_id']\n",
    "        autor_id = item['from_id']\n",
    "        post_date = item['date']\n",
    "        post_type = item['post_type']\n",
    "        marked_as_ads = item['marked_as_ads']\n",
    "        post_text = item['text']\n",
    "        \n",
    "        try:\n",
    "            attachment_number = len(item['attachments'])\n",
    "            \n",
    "            for i in item['attachments']:\n",
    "                if i['type'] == 'video':\n",
    "                    video += 1\n",
    "                \n",
    "                if i['type'] == 'photo':\n",
    "                    photo += 1\n",
    "            \n",
    "            comment_number = item['comments']['count']\n",
    "            like_number = item['likes']['count']\n",
    "        \n",
    "        except:\n",
    "            attachment_number = 0\n",
    "        \n",
    "        \n",
    "        data.append([owner_id, autor_id,\n",
    "                     post_date, post_type, marked_as_ads,\n",
    "                     post_text,\n",
    "                     attachment_number, video, photo,\n",
    "                     comment_number, like_number])"
   ]
  },
  {
   "cell_type": "code",
   "execution_count": null,
   "id": "2593faf7",
   "metadata": {},
   "outputs": [],
   "source": [
    "# преобразовываю в датафрейм\n",
    "\n",
    "head = ['owner_id', 'autor_id',\n",
    "        'post_date', 'post_type', 'marked_as_ads',\n",
    "        'post_text',\n",
    "        'attachment_number', 'video', 'photo',\n",
    "        'comment_number', 'like_number']\n",
    "\n",
    "work_wall = pd.DataFrame(data, columns=head)"
   ]
  },
  {
   "cell_type": "code",
   "execution_count": null,
   "id": "244500fe",
   "metadata": {},
   "outputs": [],
   "source": [
    "work_wall.sample(3)"
   ]
  },
  {
   "cell_type": "code",
   "execution_count": null,
   "id": "6fa9f0ea",
   "metadata": {},
   "outputs": [],
   "source": [
    "work_wall.shape"
   ]
  },
  {
   "cell_type": "code",
   "execution_count": null,
   "id": "d680feef",
   "metadata": {},
   "outputs": [],
   "source": [
    "all_post_number"
   ]
  },
  {
   "cell_type": "code",
   "execution_count": null,
   "id": "dfda09a0",
   "metadata": {},
   "outputs": [],
   "source": [
    "work_wall.to_excel(file_path + 'VK_' + domain +'.xlsx', index=False)"
   ]
  },
  {
   "cell_type": "code",
   "execution_count": null,
   "id": "04b113a0",
   "metadata": {},
   "outputs": [],
   "source": []
  },
  {
   "cell_type": "code",
   "execution_count": null,
   "id": "a1421c29",
   "metadata": {},
   "outputs": [],
   "source": []
  },
  {
   "cell_type": "markdown",
   "id": "9be06cfa",
   "metadata": {},
   "source": [
    "### Вытаскиваю id групп по нужному запросу"
   ]
  },
  {
   "cell_type": "code",
   "execution_count": 102,
   "id": "a1c39505",
   "metadata": {},
   "outputs": [],
   "source": [
    "# запрос\n",
    "response = requests.get('https://api.vk.com/method/groups.search',\n",
    "                        params={\n",
    "                            'access_token': vk_key,\n",
    "                            'v': version,\n",
    "                            'type': 'group',\n",
    "                            'country_id': 1,\n",
    "                            'count': 1000,\n",
    "                            'sort': 6,\n",
    "                            'q': 'кладоискатели'\n",
    "                            }).json()['response']['items']"
   ]
  },
  {
   "cell_type": "code",
   "execution_count": 103,
   "id": "97708159",
   "metadata": {},
   "outputs": [],
   "source": [
    "group_id_list = []\n",
    "\n",
    "for i in response:\n",
    "    group_id_list.append(i['id'])"
   ]
  },
  {
   "cell_type": "code",
   "execution_count": null,
   "id": "3b34746a",
   "metadata": {},
   "outputs": [],
   "source": []
  },
  {
   "cell_type": "markdown",
   "id": "f2f76b28",
   "metadata": {},
   "source": [
    "### Данные групп\n",
    "\n",
    "Название, количество участников, город, описание, направление"
   ]
  },
  {
   "cell_type": "code",
   "execution_count": 116,
   "id": "aa297ba6",
   "metadata": {},
   "outputs": [
    {
     "data": {
      "application/vnd.jupyter.widget-view+json": {
       "model_id": "a50343a47b74457b9106a679a903a628",
       "version_major": 2,
       "version_minor": 0
      },
      "text/plain": [
       "  0%|          | 0/732 [00:00<?, ?it/s]"
      ]
     },
     "metadata": {},
     "output_type": "display_data"
    }
   ],
   "source": [
    "data_group = []\n",
    "\n",
    "# настройки для парсинга\n",
    "count = 1000\n",
    "offset = 0\n",
    "\n",
    "for group_id in tqdm(group_id_list):\n",
    "    \n",
    "    # запрос\n",
    "    response = requests.get('https://api.vk.com/method/groups.getById',\n",
    "                            params={\n",
    "                                'access_token': vk_key,\n",
    "                                'v':version,\n",
    "                                'group_id': group_id,\n",
    "                                'fields': 'members_count,city,description,activity'\n",
    "                            }).json()['response'][0]\n",
    "    \n",
    "    sleep(0.5)\n",
    "    \n",
    "    \n",
    "    name = response['name']\n",
    "    screen_name = response['screen_name']\n",
    "    members_count = response['members_count']\n",
    "    \n",
    "    try:\n",
    "        city_id = response['city']['id']\n",
    "        city_title = response['city']['title']\n",
    "        \n",
    "    except:\n",
    "        city_id = 'none'\n",
    "        city_title = 'none'\n",
    "            \n",
    "    try:\n",
    "        group_description = response['description']\n",
    "        \n",
    "    except:\n",
    "        group_description = 'none'\n",
    "    \n",
    "    activity = response['activity']\n",
    "    \n",
    "    is_closed = response['is_closed']\n",
    "    \n",
    "    data_group.append([group_id, name, screen_name, members_count, city_id, city_title, group_description, activity, is_closed])"
   ]
  },
  {
   "cell_type": "code",
   "execution_count": 117,
   "id": "4d9442ef",
   "metadata": {},
   "outputs": [],
   "source": [
    "head = ['group_id', 'name', 'screen_name', 'members_count', 'city_id', 'city_title', 'group_description', 'activity', 'closed']\n",
    "\n",
    "work_groups = pd.DataFrame(data_group, columns=head)"
   ]
  },
  {
   "cell_type": "code",
   "execution_count": 118,
   "id": "bf4bd9ec",
   "metadata": {},
   "outputs": [
    {
     "data": {
      "text/plain": [
       "(732, 9)"
      ]
     },
     "execution_count": 118,
     "metadata": {},
     "output_type": "execute_result"
    }
   ],
   "source": [
    "work_groups.shape"
   ]
  },
  {
   "cell_type": "code",
   "execution_count": 119,
   "id": "b4c0a1b7",
   "metadata": {},
   "outputs": [
    {
     "data": {
      "text/html": [
       "<div>\n",
       "<style scoped>\n",
       "    .dataframe tbody tr th:only-of-type {\n",
       "        vertical-align: middle;\n",
       "    }\n",
       "\n",
       "    .dataframe tbody tr th {\n",
       "        vertical-align: top;\n",
       "    }\n",
       "\n",
       "    .dataframe thead th {\n",
       "        text-align: right;\n",
       "    }\n",
       "</style>\n",
       "<table border=\"1\" class=\"dataframe\">\n",
       "  <thead>\n",
       "    <tr style=\"text-align: right;\">\n",
       "      <th></th>\n",
       "      <th>group_id</th>\n",
       "      <th>name</th>\n",
       "      <th>screen_name</th>\n",
       "      <th>members_count</th>\n",
       "      <th>city_id</th>\n",
       "      <th>city_title</th>\n",
       "      <th>group_description</th>\n",
       "      <th>activity</th>\n",
       "      <th>closed</th>\n",
       "    </tr>\n",
       "  </thead>\n",
       "  <tbody>\n",
       "    <tr>\n",
       "      <th>0</th>\n",
       "      <td>30541427</td>\n",
       "      <td>Кладоискатель Металлоискатель Нумизмат</td>\n",
       "      <td>kladoiskatell</td>\n",
       "      <td>108565</td>\n",
       "      <td>1</td>\n",
       "      <td>Москва</td>\n",
       "      <td>Хобби - частная, честная АРХЕОЛОГИЯ\\nГруппа не...</td>\n",
       "      <td>Открытая группа</td>\n",
       "      <td>0</td>\n",
       "    </tr>\n",
       "    <tr>\n",
       "      <th>1</th>\n",
       "      <td>57592667</td>\n",
       "      <td>Minelab detectors - сообщество кладоискателей.</td>\n",
       "      <td>minelabdetectors</td>\n",
       "      <td>88492</td>\n",
       "      <td>1</td>\n",
       "      <td>Москва</td>\n",
       "      <td>Во все времена люди искали  и находили клады и...</td>\n",
       "      <td>Открытая группа</td>\n",
       "      <td>0</td>\n",
       "    </tr>\n",
       "    <tr>\n",
       "      <th>2</th>\n",
       "      <td>108651950</td>\n",
       "      <td>КЛАДОИСКАТЕЛЬ..СТАРИННЫЕ КАРТЫ.</td>\n",
       "      <td>magazinkart</td>\n",
       "      <td>81103</td>\n",
       "      <td>1</td>\n",
       "      <td>Москва</td>\n",
       "      <td>Составление старинных карт для Кладоискателей ...</td>\n",
       "      <td>Открытая группа</td>\n",
       "      <td>0</td>\n",
       "    </tr>\n",
       "    <tr>\n",
       "      <th>3</th>\n",
       "      <td>47055113</td>\n",
       "      <td>Кладоискатели Нумизматы</td>\n",
       "      <td>poiskfan</td>\n",
       "      <td>67541</td>\n",
       "      <td>none</td>\n",
       "      <td>none</td>\n",
       "      <td>vk.com/poiskfan - это группа Кладоискателей, Н...</td>\n",
       "      <td>Открытая группа</td>\n",
       "      <td>0</td>\n",
       "    </tr>\n",
       "    <tr>\n",
       "      <th>4</th>\n",
       "      <td>46232640</td>\n",
       "      <td>У Деда Мити | Металлоискатели | Кладоискатели</td>\n",
       "      <td>udedamiti</td>\n",
       "      <td>60764</td>\n",
       "      <td>270</td>\n",
       "      <td>Подольск</td>\n",
       "      <td>Официальное сообщество магазина для поисковико...</td>\n",
       "      <td>Открытая группа</td>\n",
       "      <td>0</td>\n",
       "    </tr>\n",
       "  </tbody>\n",
       "</table>\n",
       "</div>"
      ],
      "text/plain": [
       "    group_id                                            name  \\\n",
       "0   30541427          Кладоискатель Металлоискатель Нумизмат   \n",
       "1   57592667  Minelab detectors - сообщество кладоискателей.   \n",
       "2  108651950                 КЛАДОИСКАТЕЛЬ..СТАРИННЫЕ КАРТЫ.   \n",
       "3   47055113                         Кладоискатели Нумизматы   \n",
       "4   46232640   У Деда Мити | Металлоискатели | Кладоискатели   \n",
       "\n",
       "        screen_name  members_count city_id city_title  \\\n",
       "0     kladoiskatell         108565       1     Москва   \n",
       "1  minelabdetectors          88492       1     Москва   \n",
       "2       magazinkart          81103       1     Москва   \n",
       "3          poiskfan          67541    none       none   \n",
       "4         udedamiti          60764     270   Подольск   \n",
       "\n",
       "                                   group_description         activity  closed  \n",
       "0  Хобби - частная, честная АРХЕОЛОГИЯ\\nГруппа не...  Открытая группа       0  \n",
       "1  Во все времена люди искали  и находили клады и...  Открытая группа       0  \n",
       "2  Составление старинных карт для Кладоискателей ...  Открытая группа       0  \n",
       "3  vk.com/poiskfan - это группа Кладоискателей, Н...  Открытая группа       0  \n",
       "4  Официальное сообщество магазина для поисковико...  Открытая группа       0  "
      ]
     },
     "execution_count": 119,
     "metadata": {},
     "output_type": "execute_result"
    }
   ],
   "source": [
    "work_groups.head(5)"
   ]
  },
  {
   "cell_type": "code",
   "execution_count": 120,
   "id": "2f83bb82",
   "metadata": {},
   "outputs": [
    {
     "data": {
      "text/plain": [
       "(59, 9)"
      ]
     },
     "execution_count": 120,
     "metadata": {},
     "output_type": "execute_result"
    }
   ],
   "source": [
    "work_groups[work_groups.closed == 1].shape"
   ]
  },
  {
   "cell_type": "code",
   "execution_count": 127,
   "id": "52b5c27d",
   "metadata": {},
   "outputs": [],
   "source": [
    "work_groups_need = work_groups[\n",
    "    (work_groups.members_count >= 1000) &\n",
    "    (work_groups.closed == 0)]"
   ]
  },
  {
   "cell_type": "code",
   "execution_count": 128,
   "id": "bfaa3cbc",
   "metadata": {},
   "outputs": [],
   "source": [
    "# сбрасываю индекс\n",
    "\n",
    "work_groups_need.reset_index(inplace = True, drop = True)"
   ]
  },
  {
   "cell_type": "code",
   "execution_count": 129,
   "id": "720b563f",
   "metadata": {},
   "outputs": [
    {
     "data": {
      "text/plain": [
       "(126, 9)"
      ]
     },
     "execution_count": 129,
     "metadata": {},
     "output_type": "execute_result"
    }
   ],
   "source": [
    "work_groups_need.shape"
   ]
  },
  {
   "cell_type": "code",
   "execution_count": 130,
   "id": "6569b240",
   "metadata": {},
   "outputs": [
    {
     "data": {
      "text/html": [
       "<div>\n",
       "<style scoped>\n",
       "    .dataframe tbody tr th:only-of-type {\n",
       "        vertical-align: middle;\n",
       "    }\n",
       "\n",
       "    .dataframe tbody tr th {\n",
       "        vertical-align: top;\n",
       "    }\n",
       "\n",
       "    .dataframe thead th {\n",
       "        text-align: right;\n",
       "    }\n",
       "</style>\n",
       "<table border=\"1\" class=\"dataframe\">\n",
       "  <thead>\n",
       "    <tr style=\"text-align: right;\">\n",
       "      <th></th>\n",
       "      <th>group_id</th>\n",
       "      <th>name</th>\n",
       "      <th>screen_name</th>\n",
       "      <th>members_count</th>\n",
       "      <th>city_id</th>\n",
       "      <th>city_title</th>\n",
       "      <th>group_description</th>\n",
       "      <th>activity</th>\n",
       "      <th>closed</th>\n",
       "    </tr>\n",
       "  </thead>\n",
       "  <tbody>\n",
       "    <tr>\n",
       "      <th>83</th>\n",
       "      <td>51960292</td>\n",
       "      <td>Коллекционер-кладоискатель</td>\n",
       "      <td>xobbbi</td>\n",
       "      <td>1970</td>\n",
       "      <td>18022</td>\n",
       "      <td>Иланский</td>\n",
       "      <td>Предметы коллекционирования. Покупка, продажа,...</td>\n",
       "      <td>Открытая группа</td>\n",
       "      <td>0</td>\n",
       "    </tr>\n",
       "    <tr>\n",
       "      <th>100</th>\n",
       "      <td>97128072</td>\n",
       "      <td>АйДаКлад.Кладоискатели.Металлоискатели.Нумизмат</td>\n",
       "      <td>idaklad</td>\n",
       "      <td>1561</td>\n",
       "      <td>1</td>\n",
       "      <td>Москва</td>\n",
       "      <td>Магазин товаров для поиска реликвий «АйДаклад»...</td>\n",
       "      <td>Открытая группа</td>\n",
       "      <td>0</td>\n",
       "    </tr>\n",
       "  </tbody>\n",
       "</table>\n",
       "</div>"
      ],
      "text/plain": [
       "     group_id                                             name screen_name  \\\n",
       "83   51960292                       Коллекционер-кладоискатель      xobbbi   \n",
       "100  97128072  АйДаКлад.Кладоискатели.Металлоискатели.Нумизмат     idaklad   \n",
       "\n",
       "     members_count city_id city_title  \\\n",
       "83            1970   18022   Иланский   \n",
       "100           1561       1     Москва   \n",
       "\n",
       "                                     group_description         activity  \\\n",
       "83   Предметы коллекционирования. Покупка, продажа,...  Открытая группа   \n",
       "100  Магазин товаров для поиска реликвий «АйДаклад»...  Открытая группа   \n",
       "\n",
       "     closed  \n",
       "83        0  \n",
       "100       0  "
      ]
     },
     "execution_count": 130,
     "metadata": {},
     "output_type": "execute_result"
    }
   ],
   "source": [
    "work_groups_need.sample(2)"
   ]
  },
  {
   "cell_type": "code",
   "execution_count": 125,
   "id": "9a522fc2",
   "metadata": {},
   "outputs": [],
   "source": [
    "#work_groups.to_excel(file_path + 'groups_info.xlsx', index=False)"
   ]
  },
  {
   "cell_type": "code",
   "execution_count": 126,
   "id": "77ddbb4f",
   "metadata": {},
   "outputs": [],
   "source": [
    "#work_groups.to_csv(file_path + 'groups_info.csv', index=False)"
   ]
  },
  {
   "cell_type": "code",
   "execution_count": null,
   "id": "5b3de7c3",
   "metadata": {},
   "outputs": [],
   "source": []
  },
  {
   "cell_type": "markdown",
   "id": "a64ce25c",
   "metadata": {},
   "source": [
    "### Вытаскиваю пользователей"
   ]
  },
  {
   "cell_type": "code",
   "execution_count": 133,
   "id": "91a4d9a8",
   "metadata": {},
   "outputs": [
    {
     "data": {
      "application/vnd.jupyter.widget-view+json": {
       "model_id": "069508d49da24cd99b335f5ed06a85d3",
       "version_major": 2,
       "version_minor": 0
      },
      "text/plain": [
       "  0%|          | 0/126 [00:00<?, ?it/s]"
      ]
     },
     "metadata": {},
     "output_type": "display_data"
    }
   ],
   "source": [
    "# парсинг подписчиков по группам\n",
    "\n",
    "data_followers = [] # список для данных\n",
    "count = 1000 # количество юзверей, которое я беру за 1 раз\n",
    "\n",
    "for i in tqdm(range(0, work_groups_need.shape[0])):\n",
    "    \n",
    "    offset = 0\n",
    "    \n",
    "    group_id = work_groups_need.group_id[i]\n",
    "    screen_name = work_groups_need.screen_name[i]\n",
    "        \n",
    "            \n",
    "    # количество юзеров\n",
    "    user_number = math.ceil(work_groups_need.members_count[i] / 1000)\n",
    "    \n",
    "    try: # проверяю скрыты ли пользователи\n",
    "        error_msg = requests.get('https://api.vk.com/method/groups.getMembers',\n",
    "                                 params={\n",
    "                                     'access_token': vk_key,\n",
    "                                     'v': version,\n",
    "                                     'group_id': group_id,\n",
    "                                     'count': count,\n",
    "                                     'offset': 0,\n",
    "                                     'fields': 'city, country, bdate, sex, education, domain'\n",
    "                                 }).json()['error']['error_msg']\n",
    "    except:\n",
    "        error_msg = 'none'\n",
    "        \n",
    "        if error_msg == 'none': # если пользователи открыты, собираю\n",
    "            \n",
    "            # код парсера\n",
    "            for page in range(0, user_number):\n",
    "                \n",
    "                response = requests.get('https://api.vk.com/method/groups.getMembers',\n",
    "                                        params={\n",
    "                                            'access_token': vk_key,\n",
    "                                            'v': version,\n",
    "                                            'group_id': group_id,\n",
    "                                            'count': count,\n",
    "                                            'offset': offset,\n",
    "                                            'fields': 'city, country, bdate, sex, education, domain'\n",
    "                                        })\n",
    "                \n",
    "                sleep(0.5)\n",
    "                offset += 1000\n",
    "                \n",
    "                # разбираю ответ сервера\n",
    "                for item in response.json()['response']['items']:\n",
    "                    \n",
    "                    user_id = item['id']\n",
    "                    first_name = item['first_name']\n",
    "                    last_name = item['last_name']\n",
    "                    sex = item['sex']\n",
    "\n",
    "                    try:\n",
    "                        bdate = item['bdate']\n",
    "\n",
    "                    except:\n",
    "                        bdate = 'none'\n",
    "\n",
    "                    try:\n",
    "                        city_title = item['city']['title']\n",
    "                        city_id = item['city']['id']\n",
    "\n",
    "                    except:\n",
    "                        city_title = 'none'\n",
    "                        city_id = 'none'\n",
    "\n",
    "                    try:\n",
    "                        country_title = item['country']['title']\n",
    "                        country_id = item['country']['id']\n",
    "\n",
    "                    except:\n",
    "                        country_title = 'none'\n",
    "                        country_id = 'none'\n",
    "\n",
    "                    try:\n",
    "                        university_id = item['university']\n",
    "                        university_name = ['university_name']\n",
    "\n",
    "                    except:\n",
    "                        university_id = 'none'\n",
    "                        university_name = 'none'\n",
    "\n",
    "                    try:\n",
    "                        faculty_name = item['university']['faculty_name']\n",
    "\n",
    "                    except:\n",
    "                        faculty_name = 'none'\n",
    "\n",
    "                    try:\n",
    "                        education_status = item['education_status']\n",
    "\n",
    "                    except:\n",
    "                        education_status = 'none'\n",
    "\n",
    "                    try:\n",
    "                        account_type = item['is_closed']\n",
    "\n",
    "                    except:\n",
    "                        account_type = 'none'\n",
    "\n",
    "\n",
    "                    data_followers.append([user_id, first_name, last_name, sex, bdate,\n",
    "                                 city_title, city_id, country_title, country_id,\n",
    "                                 education_status,\n",
    "                                 university_id, university_name, faculty_name,                     \n",
    "                                 account_type, group_id, screen_name])"
   ]
  },
  {
   "cell_type": "code",
   "execution_count": 134,
   "id": "7f6cf6a9",
   "metadata": {},
   "outputs": [],
   "source": [
    "head = ['user_id', 'first_name', 'last_name', 'sex', 'bdate',\n",
    "        'city_title', 'city_id', 'country_title', 'country_id',\n",
    "        'education_status', 'university_id', 'university_name', 'faculty_name',\n",
    "        'account_type', 'group_id', 'screen_name']\n",
    "\n",
    "work_followers = pd.DataFrame(data_followers, columns=head)"
   ]
  },
  {
   "cell_type": "code",
   "execution_count": 135,
   "id": "8738f613",
   "metadata": {},
   "outputs": [],
   "source": [
    "# удаляю криво загруженные и ненужные столбцы\n",
    "\n",
    "work_followers.drop(columns=['university_id', 'university_name', 'faculty_name'], inplace=True)"
   ]
  },
  {
   "cell_type": "code",
   "execution_count": 136,
   "id": "7a742d40",
   "metadata": {},
   "outputs": [
    {
     "data": {
      "text/html": [
       "<div>\n",
       "<style scoped>\n",
       "    .dataframe tbody tr th:only-of-type {\n",
       "        vertical-align: middle;\n",
       "    }\n",
       "\n",
       "    .dataframe tbody tr th {\n",
       "        vertical-align: top;\n",
       "    }\n",
       "\n",
       "    .dataframe thead th {\n",
       "        text-align: right;\n",
       "    }\n",
       "</style>\n",
       "<table border=\"1\" class=\"dataframe\">\n",
       "  <thead>\n",
       "    <tr style=\"text-align: right;\">\n",
       "      <th></th>\n",
       "      <th>user_id</th>\n",
       "      <th>first_name</th>\n",
       "      <th>last_name</th>\n",
       "      <th>sex</th>\n",
       "      <th>bdate</th>\n",
       "      <th>city_title</th>\n",
       "      <th>city_id</th>\n",
       "      <th>country_title</th>\n",
       "      <th>country_id</th>\n",
       "      <th>education_status</th>\n",
       "      <th>account_type</th>\n",
       "      <th>group_id</th>\n",
       "      <th>screen_name</th>\n",
       "    </tr>\n",
       "  </thead>\n",
       "  <tbody>\n",
       "    <tr>\n",
       "      <th>0</th>\n",
       "      <td>410</td>\n",
       "      <td>Alexander</td>\n",
       "      <td>Obl</td>\n",
       "      <td>1</td>\n",
       "      <td>19.6</td>\n",
       "      <td>none</td>\n",
       "      <td>none</td>\n",
       "      <td>none</td>\n",
       "      <td>none</td>\n",
       "      <td>none</td>\n",
       "      <td>False</td>\n",
       "      <td>30541427</td>\n",
       "      <td>kladoiskatell</td>\n",
       "    </tr>\n",
       "    <tr>\n",
       "      <th>1</th>\n",
       "      <td>2994</td>\n",
       "      <td>Ангелина</td>\n",
       "      <td>Иванова</td>\n",
       "      <td>1</td>\n",
       "      <td>9.11.2001</td>\n",
       "      <td>none</td>\n",
       "      <td>none</td>\n",
       "      <td>none</td>\n",
       "      <td>none</td>\n",
       "      <td>none</td>\n",
       "      <td>False</td>\n",
       "      <td>30541427</td>\n",
       "      <td>kladoiskatell</td>\n",
       "    </tr>\n",
       "    <tr>\n",
       "      <th>2</th>\n",
       "      <td>4643</td>\n",
       "      <td>Катерина</td>\n",
       "      <td>Еремеева</td>\n",
       "      <td>1</td>\n",
       "      <td>24.11.1988</td>\n",
       "      <td>Москва</td>\n",
       "      <td>1</td>\n",
       "      <td>Россия</td>\n",
       "      <td>1</td>\n",
       "      <td>Выпускница (специалист)</td>\n",
       "      <td>False</td>\n",
       "      <td>30541427</td>\n",
       "      <td>kladoiskatell</td>\n",
       "    </tr>\n",
       "    <tr>\n",
       "      <th>3</th>\n",
       "      <td>4668</td>\n",
       "      <td>Михаил</td>\n",
       "      <td>Зверев</td>\n",
       "      <td>2</td>\n",
       "      <td>10.7.1985</td>\n",
       "      <td>Пенза</td>\n",
       "      <td>109</td>\n",
       "      <td>Россия</td>\n",
       "      <td>1</td>\n",
       "      <td>none</td>\n",
       "      <td>False</td>\n",
       "      <td>30541427</td>\n",
       "      <td>kladoiskatell</td>\n",
       "    </tr>\n",
       "    <tr>\n",
       "      <th>4</th>\n",
       "      <td>5438</td>\n",
       "      <td>Миша</td>\n",
       "      <td>Самохин</td>\n",
       "      <td>2</td>\n",
       "      <td>none</td>\n",
       "      <td>Санкт-Петербург</td>\n",
       "      <td>2</td>\n",
       "      <td>Россия</td>\n",
       "      <td>1</td>\n",
       "      <td>none</td>\n",
       "      <td>False</td>\n",
       "      <td>30541427</td>\n",
       "      <td>kladoiskatell</td>\n",
       "    </tr>\n",
       "  </tbody>\n",
       "</table>\n",
       "</div>"
      ],
      "text/plain": [
       "   user_id first_name last_name  sex       bdate       city_title city_id  \\\n",
       "0      410  Alexander       Obl    1        19.6             none    none   \n",
       "1     2994   Ангелина   Иванова    1   9.11.2001             none    none   \n",
       "2     4643   Катерина  Еремеева    1  24.11.1988           Москва       1   \n",
       "3     4668     Михаил    Зверев    2   10.7.1985            Пенза     109   \n",
       "4     5438       Миша   Самохин    2        none  Санкт-Петербург       2   \n",
       "\n",
       "  country_title country_id         education_status account_type  group_id  \\\n",
       "0          none       none                     none        False  30541427   \n",
       "1          none       none                     none        False  30541427   \n",
       "2        Россия          1  Выпускница (специалист)        False  30541427   \n",
       "3        Россия          1                     none        False  30541427   \n",
       "4        Россия          1                     none        False  30541427   \n",
       "\n",
       "     screen_name  \n",
       "0  kladoiskatell  \n",
       "1  kladoiskatell  \n",
       "2  kladoiskatell  \n",
       "3  kladoiskatell  \n",
       "4  kladoiskatell  "
      ]
     },
     "execution_count": 136,
     "metadata": {},
     "output_type": "execute_result"
    }
   ],
   "source": [
    "work_followers.head()"
   ]
  },
  {
   "cell_type": "code",
   "execution_count": 137,
   "id": "ed803430",
   "metadata": {},
   "outputs": [
    {
     "data": {
      "text/plain": [
       "(939738, 13)"
      ]
     },
     "execution_count": 137,
     "metadata": {},
     "output_type": "execute_result"
    }
   ],
   "source": [
    "work_followers.shape"
   ]
  },
  {
   "cell_type": "code",
   "execution_count": 152,
   "id": "497b345f",
   "metadata": {},
   "outputs": [],
   "source": [
    "#work_followers.to_csv(file_path + 'all_users_vk.csv', index=False)"
   ]
  },
  {
   "cell_type": "code",
   "execution_count": 138,
   "id": "89a3578d",
   "metadata": {},
   "outputs": [
    {
     "data": {
      "text/plain": [
       "597450"
      ]
     },
     "execution_count": 138,
     "metadata": {},
     "output_type": "execute_result"
    }
   ],
   "source": [
    "# количество уникальных юзеров\n",
    "\n",
    "work_followers.user_id.nunique()"
   ]
  },
  {
   "cell_type": "code",
   "execution_count": 183,
   "id": "350642da",
   "metadata": {},
   "outputs": [],
   "source": [
    "users_unique = (work_followers[\n",
    "    (work_followers.country_id == 1) &\n",
    "    (work_followers.city_id != 'none')].user_id\n",
    "                .value_counts().reset_index()\n",
    "                .rename(columns={'user_id': 'group_number', 'index': 'user_id'}))"
   ]
  },
  {
   "cell_type": "code",
   "execution_count": 184,
   "id": "72a5e189",
   "metadata": {},
   "outputs": [
    {
     "data": {
      "text/plain": [
       "(303507, 2)"
      ]
     },
     "execution_count": 184,
     "metadata": {},
     "output_type": "execute_result"
    }
   ],
   "source": [
    "users_unique.shape"
   ]
  },
  {
   "cell_type": "code",
   "execution_count": null,
   "id": "327a7e7f",
   "metadata": {},
   "outputs": [],
   "source": []
  },
  {
   "cell_type": "markdown",
   "id": "e080711b",
   "metadata": {},
   "source": [
    "### Собираю данные юзеров"
   ]
  },
  {
   "cell_type": "code",
   "execution_count": 269,
   "id": "fe4eca81",
   "metadata": {},
   "outputs": [
    {
     "data": {
      "application/vnd.jupyter.widget-view+json": {
       "model_id": "0c9cfcc2bb4f439fb9a623fb987a637f",
       "version_major": 2,
       "version_minor": 0
      },
      "text/plain": [
       "  0%|          | 0/259 [00:00<?, ?it/s]"
      ]
     },
     "metadata": {},
     "output_type": "display_data"
    }
   ],
   "source": [
    "# data_users = []\n",
    "\n",
    "for user_id in tqdm(users_unique.user_id[149742:150001]):\n",
    "    response = requests.get('https://api.vk.com/method/users.get',\n",
    "                        params={\n",
    "                            'access_token': vk_key,\n",
    "                            'v':version,\n",
    "                            'user_ids': user_id,\n",
    "                            'fields': 'counters'                           \n",
    "                            }).json()['response'][0]\n",
    "    sleep(0.3)\n",
    "    \n",
    "    # разбираю ответ сервера\n",
    "    \n",
    "    try:\n",
    "        deactivated = response['deactivated']\n",
    "        \n",
    "    except:\n",
    "        deactivated = 'none'\n",
    "        \n",
    "    try:\n",
    "        profile_closed = response['is_closed']\n",
    "        \n",
    "    except:\n",
    "        profile_closed = 'none'\n",
    "        \n",
    "        \n",
    "    try:\n",
    "        friend_number = response['counters']['friends']\n",
    "        \n",
    "    except:\n",
    "        friend_number = 'none'\n",
    "        \n",
    "        \n",
    "    try:\n",
    "        group_number = response['counters']['groups']\n",
    "        \n",
    "    except:\n",
    "        group_number = 'none'\n",
    "        \n",
    "        \n",
    "    data_users.append([user_id, deactivated, profile_closed, friend_number, group_number])"
   ]
  },
  {
   "cell_type": "code",
   "execution_count": 270,
   "id": "41a17738",
   "metadata": {},
   "outputs": [],
   "source": [
    "head = ['user_id', 'deactivated', 'profile_closed', 'friend_number', 'group_number']\n",
    "\n",
    "work_users = pd.DataFrame(data_users, columns=head)"
   ]
  },
  {
   "cell_type": "code",
   "execution_count": 276,
   "id": "73c2fa35",
   "metadata": {},
   "outputs": [
    {
     "data": {
      "text/html": [
       "<div>\n",
       "<style scoped>\n",
       "    .dataframe tbody tr th:only-of-type {\n",
       "        vertical-align: middle;\n",
       "    }\n",
       "\n",
       "    .dataframe tbody tr th {\n",
       "        vertical-align: top;\n",
       "    }\n",
       "\n",
       "    .dataframe thead th {\n",
       "        text-align: right;\n",
       "    }\n",
       "</style>\n",
       "<table border=\"1\" class=\"dataframe\">\n",
       "  <thead>\n",
       "    <tr style=\"text-align: right;\">\n",
       "      <th></th>\n",
       "      <th>user_id</th>\n",
       "      <th>deactivated</th>\n",
       "      <th>profile_closed</th>\n",
       "      <th>friend_number</th>\n",
       "      <th>group_number</th>\n",
       "    </tr>\n",
       "  </thead>\n",
       "  <tbody>\n",
       "    <tr>\n",
       "      <th>149997</th>\n",
       "      <td>222823304</td>\n",
       "      <td>none</td>\n",
       "      <td>False</td>\n",
       "      <td>245</td>\n",
       "      <td>none</td>\n",
       "    </tr>\n",
       "    <tr>\n",
       "      <th>149998</th>\n",
       "      <td>376072863</td>\n",
       "      <td>none</td>\n",
       "      <td>False</td>\n",
       "      <td>122</td>\n",
       "      <td>25</td>\n",
       "    </tr>\n",
       "    <tr>\n",
       "      <th>149999</th>\n",
       "      <td>171147938</td>\n",
       "      <td>none</td>\n",
       "      <td>True</td>\n",
       "      <td>166</td>\n",
       "      <td>none</td>\n",
       "    </tr>\n",
       "    <tr>\n",
       "      <th>150000</th>\n",
       "      <td>78328017</td>\n",
       "      <td>none</td>\n",
       "      <td>False</td>\n",
       "      <td>285</td>\n",
       "      <td>none</td>\n",
       "    </tr>\n",
       "    <tr>\n",
       "      <th>150001</th>\n",
       "      <td>553410859</td>\n",
       "      <td>none</td>\n",
       "      <td>False</td>\n",
       "      <td>31</td>\n",
       "      <td>1069</td>\n",
       "    </tr>\n",
       "  </tbody>\n",
       "</table>\n",
       "</div>"
      ],
      "text/plain": [
       "          user_id deactivated profile_closed friend_number group_number\n",
       "149997  222823304        none          False           245         none\n",
       "149998  376072863        none          False           122           25\n",
       "149999  171147938        none           True           166         none\n",
       "150000   78328017        none          False           285         none\n",
       "150001  553410859        none          False            31         1069"
      ]
     },
     "execution_count": 276,
     "metadata": {},
     "output_type": "execute_result"
    }
   ],
   "source": [
    "work_users.tail(5)"
   ]
  },
  {
   "cell_type": "code",
   "execution_count": 272,
   "id": "310b511c",
   "metadata": {},
   "outputs": [],
   "source": [
    "#work_users.to_csv(file_path + 'users_vk1.csv', index=False)"
   ]
  },
  {
   "cell_type": "code",
   "execution_count": 275,
   "id": "5ecf5633",
   "metadata": {},
   "outputs": [
    {
     "data": {
      "text/plain": [
       "(150002, 5)"
      ]
     },
     "execution_count": 275,
     "metadata": {},
     "output_type": "execute_result"
    }
   ],
   "source": [
    "work_users.shape"
   ]
  },
  {
   "cell_type": "code",
   "execution_count": null,
   "id": "eaa66cd1",
   "metadata": {},
   "outputs": [],
   "source": []
  },
  {
   "cell_type": "code",
   "execution_count": 284,
   "id": "44f7acf5",
   "metadata": {},
   "outputs": [
    {
     "data": {
      "text/html": [
       "<div>\n",
       "<style scoped>\n",
       "    .dataframe tbody tr th:only-of-type {\n",
       "        vertical-align: middle;\n",
       "    }\n",
       "\n",
       "    .dataframe tbody tr th {\n",
       "        vertical-align: top;\n",
       "    }\n",
       "\n",
       "    .dataframe thead th {\n",
       "        text-align: right;\n",
       "    }\n",
       "</style>\n",
       "<table border=\"1\" class=\"dataframe\">\n",
       "  <thead>\n",
       "    <tr style=\"text-align: right;\">\n",
       "      <th></th>\n",
       "      <th>user_id</th>\n",
       "      <th>first_name</th>\n",
       "      <th>last_name</th>\n",
       "      <th>sex</th>\n",
       "      <th>bdate</th>\n",
       "      <th>city_title</th>\n",
       "      <th>city_id</th>\n",
       "      <th>country_title</th>\n",
       "      <th>country_id</th>\n",
       "      <th>education_status</th>\n",
       "      <th>account_type</th>\n",
       "      <th>group_id</th>\n",
       "      <th>screen_name</th>\n",
       "    </tr>\n",
       "  </thead>\n",
       "  <tbody>\n",
       "    <tr>\n",
       "      <th>0</th>\n",
       "      <td>410</td>\n",
       "      <td>Alexander</td>\n",
       "      <td>Obl</td>\n",
       "      <td>1</td>\n",
       "      <td>19.6</td>\n",
       "      <td>none</td>\n",
       "      <td>none</td>\n",
       "      <td>none</td>\n",
       "      <td>none</td>\n",
       "      <td>none</td>\n",
       "      <td>False</td>\n",
       "      <td>30541427</td>\n",
       "      <td>kladoiskatell</td>\n",
       "    </tr>\n",
       "    <tr>\n",
       "      <th>1</th>\n",
       "      <td>2994</td>\n",
       "      <td>Ангелина</td>\n",
       "      <td>Иванова</td>\n",
       "      <td>1</td>\n",
       "      <td>9.11.2001</td>\n",
       "      <td>none</td>\n",
       "      <td>none</td>\n",
       "      <td>none</td>\n",
       "      <td>none</td>\n",
       "      <td>none</td>\n",
       "      <td>False</td>\n",
       "      <td>30541427</td>\n",
       "      <td>kladoiskatell</td>\n",
       "    </tr>\n",
       "  </tbody>\n",
       "</table>\n",
       "</div>"
      ],
      "text/plain": [
       "   user_id first_name last_name  sex      bdate city_title city_id  \\\n",
       "0      410  Alexander       Obl    1       19.6       none    none   \n",
       "1     2994   Ангелина   Иванова    1  9.11.2001       none    none   \n",
       "\n",
       "  country_title country_id education_status account_type  group_id  \\\n",
       "0          none       none             none        False  30541427   \n",
       "1          none       none             none        False  30541427   \n",
       "\n",
       "     screen_name  \n",
       "0  kladoiskatell  \n",
       "1  kladoiskatell  "
      ]
     },
     "execution_count": 284,
     "metadata": {},
     "output_type": "execute_result"
    }
   ],
   "source": [
    "work_followers.head(2)"
   ]
  },
  {
   "cell_type": "code",
   "execution_count": null,
   "id": "4366a1c1",
   "metadata": {},
   "outputs": [],
   "source": []
  },
  {
   "cell_type": "markdown",
   "id": "82a2528f",
   "metadata": {},
   "source": [
    "###  Определяю регион"
   ]
  },
  {
   "cell_type": "code",
   "execution_count": 307,
   "id": "7caed4ab",
   "metadata": {},
   "outputs": [],
   "source": [
    "city_list = list(work_followers[work_followers.city_title != 'none'].city_title.unique())"
   ]
  },
  {
   "cell_type": "code",
   "execution_count": 308,
   "id": "df22c186",
   "metadata": {},
   "outputs": [
    {
     "data": {
      "text/plain": [
       "11409"
      ]
     },
     "execution_count": 308,
     "metadata": {},
     "output_type": "execute_result"
    }
   ],
   "source": [
    "len(city_list)"
   ]
  },
  {
   "cell_type": "code",
   "execution_count": 373,
   "id": "ddf961fc",
   "metadata": {},
   "outputs": [],
   "source": [
    "vk_key = 'e10dbcb8e0a4b1c0ba7eb2d31a2d4311c3596827e73c59675e1a875028a8fcd6d3d29d40975d7ec501667'"
   ]
  },
  {
   "cell_type": "code",
   "execution_count": 374,
   "id": "15206fdd",
   "metadata": {},
   "outputs": [
    {
     "data": {
      "application/vnd.jupyter.widget-view+json": {
       "model_id": "21f1c4884de9442c9694d8cce6a1d87a",
       "version_major": 2,
       "version_minor": 0
      },
      "text/plain": [
       "  0%|          | 0/1010 [00:00<?, ?it/s]"
      ]
     },
     "metadata": {},
     "output_type": "display_data"
    }
   ],
   "source": [
    "# data_city = []\n",
    "\n",
    "for city in tqdm(city_list[10399:]):\n",
    "    \n",
    "    response = requests.get('https://api.vk.com/method/database.getCities',\n",
    "                        params={\n",
    "                            'access_token': vk_key,\n",
    "                            'v':version,\n",
    "                            'country_id': 1,\n",
    "                            'count': 1000,\n",
    "                            'q': city\n",
    "                        }).json()['response']['items']\n",
    "    sleep(0.3)\n",
    "    \n",
    "    for city in response:\n",
    "        \n",
    "        city_id = city['id']\n",
    "        city_title = city['title']\n",
    "        \n",
    "        try:\n",
    "            area = city['area']\n",
    "            \n",
    "        except:\n",
    "            area = 'none'\n",
    "            \n",
    "        try:\n",
    "            region = city['region']\n",
    "            \n",
    "        except:\n",
    "            region = 'none'\n",
    "        \n",
    "        \n",
    "        data_city.append([city_id, city_title, area, region])"
   ]
  },
  {
   "cell_type": "code",
   "execution_count": 375,
   "id": "dc2b5212",
   "metadata": {},
   "outputs": [],
   "source": [
    "head = ['city_id', 'city_title', 'area', 'region']\n",
    "\n",
    "city_database = pd.DataFrame(data_city, columns=head)"
   ]
  },
  {
   "cell_type": "code",
   "execution_count": 376,
   "id": "dd4ed0fe",
   "metadata": {},
   "outputs": [
    {
     "data": {
      "text/html": [
       "<div>\n",
       "<style scoped>\n",
       "    .dataframe tbody tr th:only-of-type {\n",
       "        vertical-align: middle;\n",
       "    }\n",
       "\n",
       "    .dataframe tbody tr th {\n",
       "        vertical-align: top;\n",
       "    }\n",
       "\n",
       "    .dataframe thead th {\n",
       "        text-align: right;\n",
       "    }\n",
       "</style>\n",
       "<table border=\"1\" class=\"dataframe\">\n",
       "  <thead>\n",
       "    <tr style=\"text-align: right;\">\n",
       "      <th></th>\n",
       "      <th>city_id</th>\n",
       "      <th>city_title</th>\n",
       "      <th>area</th>\n",
       "      <th>region</th>\n",
       "    </tr>\n",
       "  </thead>\n",
       "  <tbody>\n",
       "    <tr>\n",
       "      <th>70275</th>\n",
       "      <td>1046131</td>\n",
       "      <td>Кузьмолово</td>\n",
       "      <td>Всеволожский район</td>\n",
       "      <td>Ленинградская область</td>\n",
       "    </tr>\n",
       "    <tr>\n",
       "      <th>70276</th>\n",
       "      <td>1031136</td>\n",
       "      <td>Железнодорожное</td>\n",
       "      <td>Краснознаменский район</td>\n",
       "      <td>Калининградская область</td>\n",
       "    </tr>\n",
       "    <tr>\n",
       "      <th>70277</th>\n",
       "      <td>1500029</td>\n",
       "      <td>Железнодорожное</td>\n",
       "      <td>Бахчисарайский</td>\n",
       "      <td>Крым</td>\n",
       "    </tr>\n",
       "    <tr>\n",
       "      <th>70278</th>\n",
       "      <td>5479204</td>\n",
       "      <td>Тельма (Железнодорожное МО)</td>\n",
       "      <td>Усольский район</td>\n",
       "      <td>Иркутская область</td>\n",
       "    </tr>\n",
       "    <tr>\n",
       "      <th>70279</th>\n",
       "      <td>1023711</td>\n",
       "      <td>Починок (Железнодорожное с/п)</td>\n",
       "      <td>Шекснинский район</td>\n",
       "      <td>Вологодская область</td>\n",
       "    </tr>\n",
       "  </tbody>\n",
       "</table>\n",
       "</div>"
      ],
      "text/plain": [
       "       city_id                     city_title                    area  \\\n",
       "70275  1046131                     Кузьмолово      Всеволожский район   \n",
       "70276  1031136                Железнодорожное  Краснознаменский район   \n",
       "70277  1500029                Железнодорожное          Бахчисарайский   \n",
       "70278  5479204    Тельма (Железнодорожное МО)         Усольский район   \n",
       "70279  1023711  Починок (Железнодорожное с/п)       Шекснинский район   \n",
       "\n",
       "                        region  \n",
       "70275    Ленинградская область  \n",
       "70276  Калининградская область  \n",
       "70277                     Крым  \n",
       "70278        Иркутская область  \n",
       "70279      Вологодская область  "
      ]
     },
     "execution_count": 376,
     "metadata": {},
     "output_type": "execute_result"
    }
   ],
   "source": [
    "city_database.tail(5)"
   ]
  },
  {
   "cell_type": "code",
   "execution_count": 377,
   "id": "16f48103",
   "metadata": {},
   "outputs": [
    {
     "data": {
      "text/plain": [
       "(70280, 4)"
      ]
     },
     "execution_count": 377,
     "metadata": {},
     "output_type": "execute_result"
    }
   ],
   "source": [
    "city_database.shape"
   ]
  },
  {
   "cell_type": "code",
   "execution_count": 378,
   "id": "023d8f50",
   "metadata": {},
   "outputs": [],
   "source": [
    "city_database.drop_duplicates(inplace=True)"
   ]
  },
  {
   "cell_type": "code",
   "execution_count": 379,
   "id": "5b8e9cdf",
   "metadata": {},
   "outputs": [
    {
     "data": {
      "text/plain": [
       "(54547, 4)"
      ]
     },
     "execution_count": 379,
     "metadata": {},
     "output_type": "execute_result"
    }
   ],
   "source": [
    "city_database.shape"
   ]
  },
  {
   "cell_type": "code",
   "execution_count": 380,
   "id": "165b28b5",
   "metadata": {},
   "outputs": [],
   "source": [
    "city_database.to_csv(file_path + 'city_database.csv', index=False)"
   ]
  },
  {
   "cell_type": "code",
   "execution_count": null,
   "id": "77b89bec",
   "metadata": {},
   "outputs": [],
   "source": []
  },
  {
   "cell_type": "code",
   "execution_count": null,
   "id": "c3df0208",
   "metadata": {},
   "outputs": [],
   "source": []
  },
  {
   "cell_type": "code",
   "execution_count": null,
   "id": "24cfa320",
   "metadata": {},
   "outputs": [],
   "source": []
  },
  {
   "cell_type": "code",
   "execution_count": null,
   "id": "9dd09854",
   "metadata": {},
   "outputs": [],
   "source": []
  },
  {
   "cell_type": "code",
   "execution_count": null,
   "id": "c5e731d6",
   "metadata": {},
   "outputs": [],
   "source": []
  }
 ],
 "metadata": {
  "kernelspec": {
   "display_name": "Python 3 (ipykernel)",
   "language": "python",
   "name": "python3"
  },
  "language_info": {
   "codemirror_mode": {
    "name": "ipython",
    "version": 3
   },
   "file_extension": ".py",
   "mimetype": "text/x-python",
   "name": "python",
   "nbconvert_exporter": "python",
   "pygments_lexer": "ipython3",
   "version": "3.9.7"
  }
 },
 "nbformat": 4,
 "nbformat_minor": 5
}
