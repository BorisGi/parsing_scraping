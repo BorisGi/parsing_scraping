{
 "cells": [
  {
   "cell_type": "code",
   "execution_count": null,
   "id": "ca7f83a5",
   "metadata": {},
   "outputs": [],
   "source": []
  },
  {
   "cell_type": "code",
   "execution_count": 1,
   "id": "d9e41112",
   "metadata": {},
   "outputs": [],
   "source": [
    "# для запросов\n",
    "import requests\n",
    "\n",
    "# для работы с JSON\n",
    "import json\n",
    "\n",
    "# для работы с папками\n",
    "import os\n",
    "\n",
    "from time import sleep\n",
    "\n",
    "import math\n",
    "\n",
    "# \n",
    "from datetime import timedelta, date\n",
    "\n",
    "# прогресс-бар\n",
    "from tqdm.notebook import trange, tqdm\n",
    "\n",
    "# для дафреймов\n",
    "import pandas as pd"
   ]
  },
  {
   "cell_type": "code",
   "execution_count": 2,
   "id": "7b095c7b",
   "metadata": {},
   "outputs": [],
   "source": [
    "# путь к файлам\n",
    "\n",
    "file_path = 'C:/00_Data/temp_data/'\n",
    "\n",
    "token_list_path = 'C:/work/keys/vk.txt' # путь к файлу с токеном"
   ]
  },
  {
   "cell_type": "code",
   "execution_count": 3,
   "id": "28a11192",
   "metadata": {},
   "outputs": [],
   "source": [
    "# загружаю токен\n",
    "\n",
    "with open(token_list_path, 'r') as f:\n",
    "    for line in f:\n",
    "        vk_key = line"
   ]
  },
  {
   "cell_type": "code",
   "execution_count": null,
   "id": "baea6b7f",
   "metadata": {},
   "outputs": [],
   "source": []
  },
  {
   "cell_type": "code",
   "execution_count": 7,
   "id": "bfc5135c",
   "metadata": {},
   "outputs": [],
   "source": [
    "version = 5.131\n",
    "domain = 'kladoiskatell'\n",
    "post_number = 100\n",
    "offset = 0\n",
    "all_post = []"
   ]
  },
  {
   "cell_type": "code",
   "execution_count": null,
   "id": "4d95c9ee",
   "metadata": {},
   "outputs": [],
   "source": []
  },
  {
   "cell_type": "code",
   "execution_count": 18,
   "id": "a4b66b37",
   "metadata": {},
   "outputs": [],
   "source": [
    "# количество постов на стене\n",
    "\n",
    "all_post_number = requests.get('https://api.vk.com/method/wall.get',\n",
    "                               params={\n",
    "                                   'access_token': vk_key,\n",
    "                                   'v':version,\n",
    "                                   'domain': domain\n",
    "                                   \n",
    "                               }).json()['response']['count']"
   ]
  },
  {
   "cell_type": "code",
   "execution_count": 19,
   "id": "0c7c834e",
   "metadata": {},
   "outputs": [
    {
     "data": {
      "text/plain": [
       "3400"
      ]
     },
     "execution_count": 19,
     "metadata": {},
     "output_type": "execute_result"
    }
   ],
   "source": [
    "# количество страниц\n",
    "\n",
    "page_number = math.ceil(all_post_number / 100)\n",
    "page_number"
   ]
  },
  {
   "cell_type": "code",
   "execution_count": 11,
   "id": "09dc3d4d",
   "metadata": {},
   "outputs": [
    {
     "data": {
      "application/vnd.jupyter.widget-view+json": {
       "model_id": "ad1d93353c6d4e01bb73c91f8b7db8f8",
       "version_major": 2,
       "version_minor": 0
      },
      "text/plain": [
       "  0%|          | 0/3400 [00:00<?, ?it/s]"
      ]
     },
     "metadata": {},
     "output_type": "display_data"
    }
   ],
   "source": [
    "# код парсера\n",
    "\n",
    "data = []\n",
    "\n",
    "for page in tqdm(range(0, page_number)):\n",
    "    \n",
    "    \n",
    "    response = requests.get('https://api.vk.com/method/wall.get',\n",
    "                            params={\n",
    "                                'access_token': vk_key,\n",
    "                                'v':version,\n",
    "                                'domain': domain,\n",
    "                                'count': post_number,\n",
    "                                'offset': offset,\n",
    "                                'extended': 1\n",
    "                            })\n",
    "    \n",
    "    \n",
    "    sleep(0.5)\n",
    "    offset += 100\n",
    "    \n",
    "    for item in response.json()['response']['items']:\n",
    "        video = 0\n",
    "        photo = 0\n",
    "        \n",
    "        owner_id = item['owner_id']\n",
    "        autor_id = item['from_id']\n",
    "        post_date = item['date']\n",
    "        post_type = item['post_type']\n",
    "        marked_as_ads = item['marked_as_ads']\n",
    "        post_text = item['text']\n",
    "        \n",
    "        try:\n",
    "            attachment_number = len(item['attachments'])\n",
    "            \n",
    "            for i in item['attachments']:\n",
    "                if i['type'] == 'video':\n",
    "                    video += 1\n",
    "                \n",
    "                if i['type'] == 'photo':\n",
    "                    photo += 1\n",
    "            \n",
    "            comment_number = item['comments']['count']\n",
    "            like_number = item['likes']['count']\n",
    "        \n",
    "        except:\n",
    "            attachment_number = 0\n",
    "        \n",
    "        \n",
    "        data.append([owner_id, autor_id,\n",
    "                     post_date, post_type, marked_as_ads,\n",
    "                     post_text,\n",
    "                     attachment_number, video, photo,\n",
    "                     comment_number, like_number])"
   ]
  },
  {
   "cell_type": "code",
   "execution_count": 12,
   "id": "2593faf7",
   "metadata": {},
   "outputs": [],
   "source": [
    "# преобразовываю в датафрейм\n",
    "\n",
    "head = ['owner_id', 'autor_id',\n",
    "        'post_date', 'post_type', 'marked_as_ads',\n",
    "        'post_text',\n",
    "        'attachment_number', 'video', 'photo',\n",
    "        'comment_number', 'like_number']\n",
    "\n",
    "work_wall = pd.DataFrame(data, columns=head)"
   ]
  },
  {
   "cell_type": "code",
   "execution_count": 13,
   "id": "244500fe",
   "metadata": {},
   "outputs": [
    {
     "data": {
      "text/html": [
       "<div>\n",
       "<style scoped>\n",
       "    .dataframe tbody tr th:only-of-type {\n",
       "        vertical-align: middle;\n",
       "    }\n",
       "\n",
       "    .dataframe tbody tr th {\n",
       "        vertical-align: top;\n",
       "    }\n",
       "\n",
       "    .dataframe thead th {\n",
       "        text-align: right;\n",
       "    }\n",
       "</style>\n",
       "<table border=\"1\" class=\"dataframe\">\n",
       "  <thead>\n",
       "    <tr style=\"text-align: right;\">\n",
       "      <th></th>\n",
       "      <th>owner_id</th>\n",
       "      <th>autor_id</th>\n",
       "      <th>post_date</th>\n",
       "      <th>post_type</th>\n",
       "      <th>marked_as_ads</th>\n",
       "      <th>post_text</th>\n",
       "      <th>attachment_number</th>\n",
       "      <th>video</th>\n",
       "      <th>photo</th>\n",
       "      <th>comment_number</th>\n",
       "      <th>like_number</th>\n",
       "    </tr>\n",
       "  </thead>\n",
       "  <tbody>\n",
       "    <tr>\n",
       "      <th>77304</th>\n",
       "      <td>-30541427</td>\n",
       "      <td>21543203</td>\n",
       "      <td>1568898023</td>\n",
       "      <td>post</td>\n",
       "      <td>0</td>\n",
       "      <td>Поиск металлоискателем истории прошлого</td>\n",
       "      <td>1</td>\n",
       "      <td>0</td>\n",
       "      <td>0</td>\n",
       "      <td>0</td>\n",
       "      <td>0</td>\n",
       "    </tr>\n",
       "    <tr>\n",
       "      <th>308854</th>\n",
       "      <td>-30541427</td>\n",
       "      <td>39273891</td>\n",
       "      <td>1383974747</td>\n",
       "      <td>post</td>\n",
       "      <td>0</td>\n",
       "      <td></td>\n",
       "      <td>1</td>\n",
       "      <td>0</td>\n",
       "      <td>0</td>\n",
       "      <td>2</td>\n",
       "      <td>0</td>\n",
       "    </tr>\n",
       "    <tr>\n",
       "      <th>98205</th>\n",
       "      <td>-30541427</td>\n",
       "      <td>74917242</td>\n",
       "      <td>1555179781</td>\n",
       "      <td>post</td>\n",
       "      <td>0</td>\n",
       "      <td></td>\n",
       "      <td>3</td>\n",
       "      <td>0</td>\n",
       "      <td>3</td>\n",
       "      <td>0</td>\n",
       "      <td>8</td>\n",
       "    </tr>\n",
       "  </tbody>\n",
       "</table>\n",
       "</div>"
      ],
      "text/plain": [
       "        owner_id  autor_id   post_date post_type  marked_as_ads  \\\n",
       "77304  -30541427  21543203  1568898023      post              0   \n",
       "308854 -30541427  39273891  1383974747      post              0   \n",
       "98205  -30541427  74917242  1555179781      post              0   \n",
       "\n",
       "                                      post_text  attachment_number  video  \\\n",
       "77304   Поиск металлоискателем истории прошлого                  1      0   \n",
       "308854                                                           1      0   \n",
       "98205                                                            3      0   \n",
       "\n",
       "        photo  comment_number  like_number  \n",
       "77304       0               0            0  \n",
       "308854      0               2            0  \n",
       "98205       3               0            8  "
      ]
     },
     "execution_count": 13,
     "metadata": {},
     "output_type": "execute_result"
    }
   ],
   "source": [
    "work_wall.sample(3)"
   ]
  },
  {
   "cell_type": "code",
   "execution_count": 14,
   "id": "6fa9f0ea",
   "metadata": {},
   "outputs": [
    {
     "data": {
      "text/plain": [
       "(339955, 11)"
      ]
     },
     "execution_count": 14,
     "metadata": {},
     "output_type": "execute_result"
    }
   ],
   "source": [
    "work_wall.shape"
   ]
  },
  {
   "cell_type": "code",
   "execution_count": null,
   "id": "d680feef",
   "metadata": {},
   "outputs": [],
   "source": [
    "all_post_number"
   ]
  },
  {
   "cell_type": "code",
   "execution_count": 15,
   "id": "dfda09a0",
   "metadata": {},
   "outputs": [
    {
     "name": "stderr",
     "output_type": "stream",
     "text": [
      "C:\\ProgramData\\Anaconda3\\lib\\site-packages\\xlsxwriter\\worksheet.py:941: UserWarning: Ignoring URL 'https://vk.com/staraykartavladimirbeliy\n",
      "Карты%20фон%20Мига%20—%20наверное%20самые%20детальные%20и%20ранние%20из%20доступных%20карт%20для%20кладоискателя.%20Это%20карты%20с%20очень%20хорошо%20прорисованными%20объектами%20и%20местностью.%20Хотя%20предназначение%20их%20военное,%20но%20нанесение%20всех%20объектов%20очень%20точное.%20Хутора,%20корчмы,%20пасеки%20и%20многие%20другие,%20интересные%20кладоискателю,%20места%20можно%20найти%20на%20этих%20картах.%20благодаря%20тому%20что%20карта%20была%20составлена%20в%20конце%2018%20века%20можно%20отследить%20много%20исчезнувших%20мест.%20Для%20меня%20было%20открытием%20что%20в%20нескольких%20километрах%20от%20уже%20хорошо%20исследованной%20корчмы,%20благодаря%20фон%20Мигу,%20была%20обнаружена%20вторая.%20По%20каким%20причинам%20она%20исчезла%20неизвестно,%20но%20монеты%20там%20попадались%20только%20ранние,%20даже%20почти%20без%20вездесущих%20советов.%20Многие%20кладоискатели%20в%20поиске%20новых%20мест%20используют%20сервис%20etomesto.ru%20он%20очень%20удобен%20тем,%20что%20можно%20легко%20переключать%20много%20карт%20для%20конкретной%20территории.%20Это%20крайне%20полезно,%20сразу%20видна%20разница%20и%20результат%20как%20говориться%20«на%20лицо».%20В%20левом%20окне%20также%20показано%20место%20со%20спутниковых%20снимков.%20Удобство%20сравнения%20со%20спутником%20одновременно%20делает%20поиск%20перспективных%20мест%20быстрым%20и%20простым.%20Все%20что%20вам%20остается%20это%20только%20проверить%20намеченный%20участок%20при%20помощи%20металлодетектора.%20\n",
      "Карты%20фон%20Мига%20не%20раз%20дарили%20новые%20неразведанные%20места%20для%20поиска.%20Трудно%20сказать%20сколько%20кладов%20они%20помогли%20найти,%20но%20с%20уверенностью%20можно%20сказать,%20что%20эти%20карты%20принесли%20много%20пользы%20кладоискателям.%20Поиск%20монетных%20мест%20получил%20второе%20дыхание.%20\n",
      "Легенда%20карты.%20\n",
      "Легенду%20для%20этой%20карты%20можно%20брать%20любую%20австрийскую.%20Сокращения%20и%20надписи%20почти%20все%20одинаковы%20и%20множество%20понятны.%20Карта%20нарисована%20хорошо%20и%20не%20составляет%20труда%20разобрать%20где%20церковь,%20фортификационное%20сооружение,%20монастырь%20и%20прочие%20объекты.' with link or location/anchor > 2079 characters since it exceeds Excel's limit for URLS\n",
      "  warn(\"Ignoring URL '%s' with link or location/anchor > %d \"\n"
     ]
    }
   ],
   "source": [
    "work_wall.to_excel(file_path + 'VK_' + domain +'.xlsx', index=False)"
   ]
  },
  {
   "cell_type": "code",
   "execution_count": 16,
   "id": "32073dc6",
   "metadata": {},
   "outputs": [],
   "source": [
    "work_wall.to_csv(file_path + 'VK_' + domain +'.csv', index=False)"
   ]
  },
  {
   "cell_type": "code",
   "execution_count": 17,
   "id": "882f951e",
   "metadata": {},
   "outputs": [
    {
     "data": {
      "text/plain": [
       "'31651fc531651fc531651fc57a311e58ae3316531651fc5536c7fd6deb1d356bb7c2699'"
      ]
     },
     "execution_count": 17,
     "metadata": {},
     "output_type": "execute_result"
    }
   ],
   "source": [
    "vk_key"
   ]
  },
  {
   "cell_type": "code",
   "execution_count": 67,
   "id": "19628287",
   "metadata": {},
   "outputs": [],
   "source": [
    "response = requests.get('https://api.vk.com/method/groups.getMembers',\n",
    "                        params={\n",
    "                            'access_token': vk_key,\n",
    "                            'v':version,\n",
    "                            'group_id': domain,\n",
    "                            'count': 5,\n",
    "                            'offset': 1550,\n",
    "                            'fields': 'city, country, bdate, sex, education, domain, connections'\n",
    "                        })"
   ]
  },
  {
   "cell_type": "code",
   "execution_count": 68,
   "id": "27e86a13",
   "metadata": {},
   "outputs": [
    {
     "data": {
      "text/plain": [
       "{'response': {'count': 108543,\n",
       "  'items': [{'id': 2036480,\n",
       "    'first_name': 'Andrey',\n",
       "    'last_name': 'Mikita',\n",
       "    'can_access_closed': False,\n",
       "    'is_closed': True,\n",
       "    'sex': 2,\n",
       "    'domain': 'a.v.mikita',\n",
       "    'bdate': '18.3',\n",
       "    'city': {'id': 1015984, 'title': 'Babushkina'},\n",
       "    'country': {'title': 'Russia', 'id': 1}},\n",
       "   {'id': 2039971,\n",
       "    'first_name': 'Pavel',\n",
       "    'last_name': 'Scherbakov',\n",
       "    'can_access_closed': False,\n",
       "    'is_closed': True,\n",
       "    'sex': 2,\n",
       "    'domain': 'pavelscherbakov2013',\n",
       "    'bdate': '12.12',\n",
       "    'city': {'id': 1, 'title': 'Moscow'},\n",
       "    'country': {'title': 'Russia', 'id': 1}},\n",
       "   {'id': 2042886,\n",
       "    'first_name': 'Sergey',\n",
       "    'last_name': 'Severov',\n",
       "    'can_access_closed': True,\n",
       "    'is_closed': False,\n",
       "    'sex': 2,\n",
       "    'domain': 'jroses',\n",
       "    'bdate': '2.6.1976',\n",
       "    'city': {'id': 2, 'title': 'Saint Petersburg'},\n",
       "    'country': {'title': 'Russia', 'id': 1},\n",
       "    'university': 0,\n",
       "    'university_name': '',\n",
       "    'faculty': 0,\n",
       "    'faculty_name': '',\n",
       "    'graduation': 0},\n",
       "   {'id': 2048674,\n",
       "    'first_name': 'Alexey',\n",
       "    'last_name': 'Kunygin',\n",
       "    'can_access_closed': True,\n",
       "    'is_closed': False,\n",
       "    'sex': 2,\n",
       "    'domain': 'kahapeukuh',\n",
       "    'bdate': '22.3',\n",
       "    'city': {'id': 2, 'title': 'Saint Petersburg'},\n",
       "    'country': {'title': 'Russia', 'id': 1}},\n",
       "   {'id': 2050208,\n",
       "    'first_name': 'Slava',\n",
       "    'last_name': 'Rachuk',\n",
       "    'can_access_closed': False,\n",
       "    'is_closed': True,\n",
       "    'sex': 2,\n",
       "    'domain': 'id2050208',\n",
       "    'bdate': '15.4.1981',\n",
       "    'city': {'id': 2, 'title': 'Saint Petersburg'},\n",
       "    'country': {'title': 'Russia', 'id': 1}}]}}"
      ]
     },
     "execution_count": 68,
     "metadata": {},
     "output_type": "execute_result"
    }
   ],
   "source": [
    "response.json()"
   ]
  },
  {
   "cell_type": "code",
   "execution_count": 26,
   "id": "0b1a2732",
   "metadata": {},
   "outputs": [
    {
     "data": {
      "text/html": [
       "<div>\n",
       "<style scoped>\n",
       "    .dataframe tbody tr th:only-of-type {\n",
       "        vertical-align: middle;\n",
       "    }\n",
       "\n",
       "    .dataframe tbody tr th {\n",
       "        vertical-align: top;\n",
       "    }\n",
       "\n",
       "    .dataframe thead th {\n",
       "        text-align: right;\n",
       "    }\n",
       "</style>\n",
       "<table border=\"1\" class=\"dataframe\">\n",
       "  <thead>\n",
       "    <tr style=\"text-align: right;\">\n",
       "      <th></th>\n",
       "      <th>owner_id</th>\n",
       "      <th>autor_id</th>\n",
       "      <th>post_date</th>\n",
       "      <th>post_type</th>\n",
       "      <th>marked_as_ads</th>\n",
       "      <th>post_text</th>\n",
       "      <th>attachment_number</th>\n",
       "      <th>video</th>\n",
       "      <th>photo</th>\n",
       "      <th>comment_number</th>\n",
       "      <th>like_number</th>\n",
       "    </tr>\n",
       "  </thead>\n",
       "  <tbody>\n",
       "    <tr>\n",
       "      <th>0</th>\n",
       "      <td>-30541427</td>\n",
       "      <td>-30541427</td>\n",
       "      <td>1645128000</td>\n",
       "      <td>post</td>\n",
       "      <td>0</td>\n",
       "      <td>Средневековье 👍🏻</td>\n",
       "      <td>1</td>\n",
       "      <td>0</td>\n",
       "      <td>1</td>\n",
       "      <td>3</td>\n",
       "      <td>2</td>\n",
       "    </tr>\n",
       "    <tr>\n",
       "      <th>1</th>\n",
       "      <td>-30541427</td>\n",
       "      <td>23592405</td>\n",
       "      <td>1645124741</td>\n",
       "      <td>post</td>\n",
       "      <td>0</td>\n",
       "      <td></td>\n",
       "      <td>1</td>\n",
       "      <td>0</td>\n",
       "      <td>1</td>\n",
       "      <td>0</td>\n",
       "      <td>0</td>\n",
       "    </tr>\n",
       "    <tr>\n",
       "      <th>2</th>\n",
       "      <td>-30541427</td>\n",
       "      <td>-30541427</td>\n",
       "      <td>1645124400</td>\n",
       "      <td>post</td>\n",
       "      <td>0</td>\n",
       "      <td>Просто 💥💥💥💥💥💥</td>\n",
       "      <td>1</td>\n",
       "      <td>0</td>\n",
       "      <td>1</td>\n",
       "      <td>2</td>\n",
       "      <td>31</td>\n",
       "    </tr>\n",
       "    <tr>\n",
       "      <th>3</th>\n",
       "      <td>-30541427</td>\n",
       "      <td>395320263</td>\n",
       "      <td>1645124376</td>\n",
       "      <td>post</td>\n",
       "      <td>0</td>\n",
       "      <td>44р\\n48р\\nСразу две 91р</td>\n",
       "      <td>4</td>\n",
       "      <td>0</td>\n",
       "      <td>4</td>\n",
       "      <td>0</td>\n",
       "      <td>0</td>\n",
       "    </tr>\n",
       "    <tr>\n",
       "      <th>4</th>\n",
       "      <td>-30541427</td>\n",
       "      <td>71289588</td>\n",
       "      <td>1645121528</td>\n",
       "      <td>post</td>\n",
       "      <td>0</td>\n",
       "      <td>Доброго времени суток! Подскажите использовал ...</td>\n",
       "      <td>0</td>\n",
       "      <td>0</td>\n",
       "      <td>0</td>\n",
       "      <td>0</td>\n",
       "      <td>0</td>\n",
       "    </tr>\n",
       "    <tr>\n",
       "      <th>5</th>\n",
       "      <td>-30541427</td>\n",
       "      <td>-30541427</td>\n",
       "      <td>1645120800</td>\n",
       "      <td>post</td>\n",
       "      <td>0</td>\n",
       "      <td>Бывает же так 💥</td>\n",
       "      <td>1</td>\n",
       "      <td>0</td>\n",
       "      <td>1</td>\n",
       "      <td>0</td>\n",
       "      <td>33</td>\n",
       "    </tr>\n",
       "    <tr>\n",
       "      <th>6</th>\n",
       "      <td>-30541427</td>\n",
       "      <td>115037838</td>\n",
       "      <td>1645119496</td>\n",
       "      <td>post</td>\n",
       "      <td>0</td>\n",
       "      <td>Всем добрый вечер. Спецов Прошу помощи в опозн...</td>\n",
       "      <td>4</td>\n",
       "      <td>0</td>\n",
       "      <td>4</td>\n",
       "      <td>2</td>\n",
       "      <td>4</td>\n",
       "    </tr>\n",
       "    <tr>\n",
       "      <th>7</th>\n",
       "      <td>-30541427</td>\n",
       "      <td>395108964</td>\n",
       "      <td>1645119165</td>\n",
       "      <td>post</td>\n",
       "      <td>0</td>\n",
       "      <td>Подскажите пожалуйста по цене</td>\n",
       "      <td>4</td>\n",
       "      <td>0</td>\n",
       "      <td>4</td>\n",
       "      <td>3</td>\n",
       "      <td>0</td>\n",
       "    </tr>\n",
       "    <tr>\n",
       "      <th>8</th>\n",
       "      <td>-30541427</td>\n",
       "      <td>142836189</td>\n",
       "      <td>1645117218</td>\n",
       "      <td>post</td>\n",
       "      <td>0</td>\n",
       "      <td>Ребят подскажите что за проба (У98) позолота в...</td>\n",
       "      <td>1</td>\n",
       "      <td>0</td>\n",
       "      <td>1</td>\n",
       "      <td>1</td>\n",
       "      <td>0</td>\n",
       "    </tr>\n",
       "    <tr>\n",
       "      <th>9</th>\n",
       "      <td>-30541427</td>\n",
       "      <td>-30541427</td>\n",
       "      <td>1645117201</td>\n",
       "      <td>post</td>\n",
       "      <td>0</td>\n",
       "      <td>А сперва наверно подумал пустой 💥</td>\n",
       "      <td>1</td>\n",
       "      <td>0</td>\n",
       "      <td>1</td>\n",
       "      <td>1</td>\n",
       "      <td>66</td>\n",
       "    </tr>\n",
       "  </tbody>\n",
       "</table>\n",
       "</div>"
      ],
      "text/plain": [
       "   owner_id   autor_id   post_date post_type  marked_as_ads  \\\n",
       "0 -30541427  -30541427  1645128000      post              0   \n",
       "1 -30541427   23592405  1645124741      post              0   \n",
       "2 -30541427  -30541427  1645124400      post              0   \n",
       "3 -30541427  395320263  1645124376      post              0   \n",
       "4 -30541427   71289588  1645121528      post              0   \n",
       "5 -30541427  -30541427  1645120800      post              0   \n",
       "6 -30541427  115037838  1645119496      post              0   \n",
       "7 -30541427  395108964  1645119165      post              0   \n",
       "8 -30541427  142836189  1645117218      post              0   \n",
       "9 -30541427  -30541427  1645117201      post              0   \n",
       "\n",
       "                                           post_text  attachment_number  \\\n",
       "0                                   Средневековье 👍🏻                  1   \n",
       "1                                                                     1   \n",
       "2                                      Просто 💥💥💥💥💥💥                  1   \n",
       "3                            44р\\n48р\\nСразу две 91р                  4   \n",
       "4  Доброго времени суток! Подскажите использовал ...                  0   \n",
       "5                                    Бывает же так 💥                  1   \n",
       "6  Всем добрый вечер. Спецов Прошу помощи в опозн...                  4   \n",
       "7                      Подскажите пожалуйста по цене                  4   \n",
       "8  Ребят подскажите что за проба (У98) позолота в...                  1   \n",
       "9                  А сперва наверно подумал пустой 💥                  1   \n",
       "\n",
       "   video  photo  comment_number  like_number  \n",
       "0      0      1               3            2  \n",
       "1      0      1               0            0  \n",
       "2      0      1               2           31  \n",
       "3      0      4               0            0  \n",
       "4      0      0               0            0  \n",
       "5      0      1               0           33  \n",
       "6      0      4               2            4  \n",
       "7      0      4               3            0  \n",
       "8      0      1               1            0  \n",
       "9      0      1               1           66  "
      ]
     },
     "execution_count": 26,
     "metadata": {},
     "output_type": "execute_result"
    }
   ],
   "source": [
    "work_wall.head(10)"
   ]
  },
  {
   "cell_type": "code",
   "execution_count": null,
   "id": "ae335dfc",
   "metadata": {},
   "outputs": [],
   "source": []
  },
  {
   "cell_type": "code",
   "execution_count": 82,
   "id": "e5815f30",
   "metadata": {},
   "outputs": [],
   "source": [
    "response = requests.get('https://api.vk.com/method/users.get',\n",
    "                        params={\n",
    "                            'access_token': vk_key,\n",
    "                            'v':version,\n",
    "                            'user_ids': 2042886,\n",
    "                            'fields': 'career, sex, city, followers_count'                           \n",
    "                            })"
   ]
  },
  {
   "cell_type": "code",
   "execution_count": 83,
   "id": "b5094892",
   "metadata": {},
   "outputs": [
    {
     "data": {
      "text/plain": [
       "{'response': [{'id': 2042886,\n",
       "   'first_name': 'Sergey',\n",
       "   'last_name': 'Severov',\n",
       "   'can_access_closed': True,\n",
       "   'is_closed': False,\n",
       "   'sex': 2,\n",
       "   'city': {'id': 2, 'title': 'Saint Petersburg'},\n",
       "   'followers_count': 29,\n",
       "   'career': []}]}"
      ]
     },
     "execution_count": 83,
     "metadata": {},
     "output_type": "execute_result"
    }
   ],
   "source": [
    "response.json()"
   ]
  },
  {
   "cell_type": "code",
   "execution_count": 101,
   "id": "d87c03cb",
   "metadata": {},
   "outputs": [],
   "source": [
    "# код парсера\n",
    "\n",
    "data_cities = []\n",
    "\n",
    "for page in tqdm(range(0, page_number)):\n",
    "    \n",
    "    response = requests.get('https://api.vk.com/method/database.getCities',\n",
    "                        params={\n",
    "                            'access_token': vk_key,\n",
    "                            'v':version,\n",
    "                            'country_id': 1,\n",
    "                            'count': 10\n",
    "                        })\n",
    "\n",
    "sleep(0.5)\n",
    "    offset += 100\n",
    "    \n",
    "    for item in response.json()['response']['items']:\n",
    "        video = 0\n",
    "        photo = 0\n",
    "        \n",
    "        owner_id = item['owner_id']\n",
    "        autor_id = item['from_id']\n",
    "        post_date = item['date']\n",
    "        post_type = item['post_type']\n",
    "        marked_as_ads = item['marked_as_ads']\n",
    "        post_text = item['text']\n",
    "        \n",
    "        try:\n",
    "            attachment_number = len(item['attachments'])\n",
    "            \n",
    "            for i in item['attachments']:\n",
    "                if i['type'] == 'video':\n",
    "                    video += 1\n",
    "                \n",
    "                if i['type'] == 'photo':\n",
    "                    photo += 1\n",
    "            \n",
    "            comment_number = item['comments']['count']\n",
    "            like_number = item['likes']['count']\n",
    "        \n",
    "        except:\n",
    "            attachment_number = 0\n",
    "        \n",
    "        \n",
    "        data.append([owner_id, autor_id,\n",
    "                     post_date, post_type, marked_as_ads,\n",
    "                     post_text,\n",
    "                     attachment_number, video, photo,\n",
    "                     comment_number, like_number])\n",
    "                            \n",
    "\n"
   ]
  },
  {
   "cell_type": "code",
   "execution_count": 102,
   "id": "e70c8fae",
   "metadata": {},
   "outputs": [
    {
     "data": {
      "text/plain": [
       "{'response': {'count': 21,\n",
       "  'items': [{'id': 1, 'title': 'Moscow', 'important': 1},\n",
       "   {'id': 2, 'title': 'Saint Petersburg', 'important': 1},\n",
       "   {'id': 10, 'title': 'Volgograd'},\n",
       "   {'id': 37, 'title': 'Vladivostok'},\n",
       "   {'id': 42, 'title': 'Voronezh'},\n",
       "   {'id': 49, 'title': 'Yekaterinburg'},\n",
       "   {'id': 60, 'title': 'Kazan'},\n",
       "   {'id': 61, 'title': 'Kaliningrad'},\n",
       "   {'id': 72, 'title': 'Krasnodar'},\n",
       "   {'id': 73, 'title': 'Krasnoyarsk'}]}}"
      ]
     },
     "execution_count": 102,
     "metadata": {},
     "output_type": "execute_result"
    }
   ],
   "source": [
    "response.json()"
   ]
  },
  {
   "cell_type": "code",
   "execution_count": 111,
   "id": "5f06e15b",
   "metadata": {},
   "outputs": [
    {
     "data": {
      "text/plain": [
       "{'response': {'count': 1,\n",
       "  'items': [{'id': 1015984,\n",
       "    'title': 'Babushkina',\n",
       "    'area': 'babushkinsky Rayon',\n",
       "    'region': 'Vologodskaya Oblast'}]}}"
      ]
     },
     "execution_count": 111,
     "metadata": {},
     "output_type": "execute_result"
    }
   ],
   "source": [
    "requests.get('https://api.vk.com/method/database.getCities',\n",
    "                        params={\n",
    "                            'access_token': vk_key,\n",
    "                            'v':version,\n",
    "                            'country_id': 1,\n",
    "                            'count': 5,\n",
    "                            'q': 'Babushkina'\n",
    "#                             'offset': '1015984'\n",
    "                        }).json()"
   ]
  },
  {
   "cell_type": "code",
   "execution_count": null,
   "id": "d47a9322",
   "metadata": {},
   "outputs": [],
   "source": []
  }
 ],
 "metadata": {
  "kernelspec": {
   "display_name": "Python 3",
   "language": "python",
   "name": "python3"
  },
  "language_info": {
   "codemirror_mode": {
    "name": "ipython",
    "version": 3
   },
   "file_extension": ".py",
   "mimetype": "text/x-python",
   "name": "python",
   "nbconvert_exporter": "python",
   "pygments_lexer": "ipython3",
   "version": "3.8.8"
  }
 },
 "nbformat": 4,
 "nbformat_minor": 5
}
