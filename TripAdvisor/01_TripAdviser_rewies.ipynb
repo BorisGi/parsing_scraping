{
 "cells": [
  {
   "cell_type": "code",
   "execution_count": null,
   "metadata": {},
   "outputs": [],
   "source": []
  },
  {
   "cell_type": "markdown",
   "metadata": {},
   "source": [
    "Парсер TripAdvisor. Часть 2, собирает данные со страницы объекта.\n",
    "\n",
    "\n",
    "Последнее обновление: 10 апреля 2022"
   ]
  },
  {
   "cell_type": "markdown",
   "metadata": {},
   "source": [
    "## Библиотеки и настройки"
   ]
  },
  {
   "cell_type": "code",
   "execution_count": null,
   "metadata": {},
   "outputs": [],
   "source": [
    "#Загружаю нужные библиотеки\n",
    "\n",
    "import pandas as pd\n",
    "import math\n",
    "\n",
    "import datetime\n",
    "\n",
    "# регулярки\n",
    "import re\n",
    "\n",
    "\n",
    "# для юзер-агента\n",
    "from fake_useragent import UserAgent\n",
    "\n",
    "# прогресс-бар\n",
    "from tqdm.notebook import trange, tqdm\n",
    "\n",
    "# для пауз при парсинге\n",
    "from time import sleep\n",
    "\n",
    "# селениум\n",
    "from selenium import webdriver\n",
    "from selenium.webdriver.chrome.service import Service\n",
    "\n",
    "from selenium.common.exceptions import NoSuchElementException\n",
    "from selenium.webdriver.common.by import By\n",
    "from selenium.webdriver.support.ui import WebDriverWait\n",
    "from selenium.webdriver.support import expected_conditions as EC\n",
    "\n",
    "from selenium.webdriver.support.ui import Select"
   ]
  },
  {
   "cell_type": "code",
   "execution_count": null,
   "metadata": {},
   "outputs": [],
   "source": []
  },
  {
   "cell_type": "code",
   "execution_count": null,
   "metadata": {},
   "outputs": [],
   "source": [
    "# настройки юзер-агента\n",
    "\n",
    "ua = UserAgent()\n",
    "\n",
    "# юзер-агент для Хрома\n",
    "user_agent = ua.chrome"
   ]
  },
  {
   "cell_type": "code",
   "execution_count": null,
   "metadata": {},
   "outputs": [],
   "source": [
    "# тестовая страница для Селениума\n",
    "\n",
    "test_url = 'https://intoli.com/blog/not-possible-to-block-chrome-headless/chrome-headless-test.html'"
   ]
  },
  {
   "cell_type": "code",
   "execution_count": null,
   "metadata": {},
   "outputs": [],
   "source": [
    "# путь к файлам\n",
    "\n",
    "file_path = 'C:/00_Data/' + input()\n",
    "proxy_list_path = 'C:/work/keys/proxy_list.txt' # путь и названия со списком прокси"
   ]
  },
  {
   "cell_type": "code",
   "execution_count": null,
   "metadata": {},
   "outputs": [],
   "source": [
    "# загружаю список прокси\n",
    "# список простой текстовый файл, который содержит прокси в формате: адрес:порт логин:пароль\n",
    "\n",
    "proxy_list = []\n",
    "\n",
    "with open(proxy_list_path, 'r') as f:\n",
    "    for line in f:\n",
    "        proxy_list += [line.split()]\n",
    "        \n",
    "print('Рабочих прокси — ' + str(len(proxy_list)))"
   ]
  },
  {
   "cell_type": "code",
   "execution_count": null,
   "metadata": {},
   "outputs": [],
   "source": [
    "# номер прокси\n",
    "\n",
    "print('Номер прокси, от 0 до ' + str(len(proxy_list) - 1))\n",
    "proxy_number = int(input())"
   ]
  },
  {
   "cell_type": "code",
   "execution_count": null,
   "metadata": {},
   "outputs": [],
   "source": [
    "# настройки веб-драйвера, чтобы скрыть автоматическое управление\n",
    "\n",
    "opt = webdriver.ChromeOptions()\n",
    "opt.add_argument(f'user-agent={user_agent}')\n",
    "opt.add_argument('--disable-blink-features')\n",
    "opt.add_argument('--disable-blink-features=AutomationControlled')\n",
    "#opt.add_argument(f'--proxy-server={proxy_list[proxy_number][0]}') # \"девственный\" прокси(:\n",
    "opt.add_experimental_option(\"excludeSwitches\", [\"enable-automation\"]) # отключает строку про удаленное управление\n",
    "opt.add_experimental_option('useAutomationExtension', False)"
   ]
  },
  {
   "cell_type": "code",
   "execution_count": null,
   "metadata": {},
   "outputs": [],
   "source": [
    "print('Login: ' + proxy_list[proxy_number][1])\n",
    "print('Pass: ' + proxy_list[proxy_number][2])"
   ]
  },
  {
   "cell_type": "code",
   "execution_count": null,
   "metadata": {},
   "outputs": [],
   "source": [
    "# запускаю драйвер, проверяю настройки\n",
    "\n",
    "#s=Service('C:\\Users\\boris\\anaconda3\\chromedriver.exe')\n",
    "#driver = webdriver.Chrome(service=s, options=opt)\n",
    "\n",
    "driver = webdriver.Chrome(options=opt)\n",
    "driver.get(test_url)\n",
    "driver.maximize_window() # раскрываю окно на максимум"
   ]
  },
  {
   "cell_type": "code",
   "execution_count": null,
   "metadata": {},
   "outputs": [],
   "source": []
  },
  {
   "cell_type": "markdown",
   "metadata": {},
   "source": [
    "### Собираю отзывы"
   ]
  },
  {
   "cell_type": "code",
   "execution_count": null,
   "metadata": {},
   "outputs": [],
   "source": [
    "# ссылка на страницу TripAdvisor\n",
    "\n",
    "url = 'https://www.tripadvisor.ru/Attraction_Review-g298484-d301574-Reviews-Lenin_s_Mausoleum-Moscow_Central_Russia.html'"
   ]
  },
  {
   "cell_type": "code",
   "execution_count": null,
   "metadata": {},
   "outputs": [],
   "source": [
    "driver.get(url)\n",
    "sleep(5)\n",
    "\n",
    "# выбираю Все языки\n",
    "driver.find_element(By.CLASS_NAME, 'fIZlc').find_elements(By.TAG_NAME, 'button')[1].click()\n",
    "driver.find_elements(By.TAG_NAME, 'li[role=\"none\"]')[24].click()"
   ]
  },
  {
   "cell_type": "code",
   "execution_count": null,
   "metadata": {},
   "outputs": [],
   "source": [
    "data = [] # список для данных\n",
    "\n",
    "for i in tqdm(range(138)):\n",
    "    \n",
    "    review_blocks = driver.find_elements(By.TAG_NAME, 'div[data-automation=\"reviewCard\"]')\n",
    "    \n",
    "    for review in review_blocks:\n",
    "        user_name = review.find_element(By.CLASS_NAME, 'cjhIj').find_element(By.TAG_NAME, 'a').text\n",
    "        user_profile = (review.find_element(By.CLASS_NAME, 'cjhIj').find_element(By.TAG_NAME, 'a')\n",
    "                        .get_attribute('href'))\n",
    "\n",
    "        city_publ = review.find_element(By.CLASS_NAME, 'ddOtn').text\n",
    "\n",
    "        try:\n",
    "            user_review_number = review.find_element(By.CLASS_NAME, 'fhriQ').text\n",
    "\n",
    "        except:\n",
    "            user_review_number = ''\n",
    "\n",
    "        city = review.find_element(By.CLASS_NAME, 'ddOtn').text.replace(user_review_number, '')\n",
    "        user_score = (review.find_element(By.TAG_NAME, 'svg[class=\"RWYkj d H0\"]')\n",
    "                      .get_attribute('aria-label'))\n",
    "\n",
    "        visit_date = review.find_element(By.CLASS_NAME, 'eRduX').text\n",
    "\n",
    "        review_all = []\n",
    "        for part in review.find_elements(By.CLASS_NAME, 'NejBf'):\n",
    "            review_all += [part.text]\n",
    "\n",
    "        review_title = review_all[0]\n",
    "        review_text = review_all[1]\n",
    "\n",
    "\n",
    "\n",
    "        try:\n",
    "            review.find_element(By.TAG_NAME, 'button').find_element(By.LINK_TEXT, 'Подробнее').click()\n",
    "\n",
    "        except:\n",
    "            pass\n",
    "\n",
    "\n",
    "        data.append([user_name, city, user_score, visit_date, review_title, review_text,\n",
    "                     user_profile, user_review_number])\n",
    "        \n",
    "        \n",
    "    driver.find_elements(By.CLASS_NAME, 'eRhUG')[-1].click()\n",
    "    sleep(6)\n",
    "        \n",
    "    "
   ]
  },
  {
   "cell_type": "code",
   "execution_count": null,
   "metadata": {},
   "outputs": [],
   "source": [
    "head = ['user_name', 'city', 'user_score', 'visit_date', 'review_title', 'review_text',\n",
    "        'user_profile', 'user_review_number']\n",
    "\n",
    "work_data = pd.DataFrame(data, columns=head)"
   ]
  },
  {
   "cell_type": "code",
   "execution_count": null,
   "metadata": {},
   "outputs": [],
   "source": [
    "work_data.shape"
   ]
  },
  {
   "cell_type": "code",
   "execution_count": null,
   "metadata": {},
   "outputs": [],
   "source": [
    "work_data.sample(3)"
   ]
  },
  {
   "cell_type": "code",
   "execution_count": null,
   "metadata": {},
   "outputs": [],
   "source": [
    "work_data.drop_duplicates().shape"
   ]
  },
  {
   "cell_type": "code",
   "execution_count": null,
   "metadata": {},
   "outputs": [],
   "source": []
  },
  {
   "cell_type": "code",
   "execution_count": null,
   "metadata": {},
   "outputs": [],
   "source": []
  }
 ],
 "metadata": {
  "kernelspec": {
   "display_name": "Python 3 (ipykernel)",
   "language": "python",
   "name": "python3"
  },
  "language_info": {
   "codemirror_mode": {
    "name": "ipython",
    "version": 3
   },
   "file_extension": ".py",
   "mimetype": "text/x-python",
   "name": "python",
   "nbconvert_exporter": "python",
   "pygments_lexer": "ipython3",
   "version": "3.9.7"
  }
 },
 "nbformat": 4,
 "nbformat_minor": 2
}
