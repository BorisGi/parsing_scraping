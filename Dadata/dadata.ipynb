{
 "cells": [
  {
   "cell_type": "markdown",
   "id": "b1cb1e3c",
   "metadata": {},
   "source": [
    "Шаблоны для работы с dadat'ой\n"
   ]
  },
  {
   "cell_type": "code",
   "execution_count": null,
   "id": "0dea9c0c",
   "metadata": {},
   "outputs": [],
   "source": [
    "# загружаю библиотеки\n",
    "\n",
    "import json\n",
    "import requests\n",
    "import os\n",
    "\n",
    "import pandas as pd\n",
    "\n",
    "# прогресс-бар\n",
    "from tqdm.notebook import trange, tqdm\n",
    "\n",
    "# для пауз при парсинге\n",
    "from time import sleep\n",
    "\n",
    "# библиотека dadat'ы\n",
    "from dadata import Dadata"
   ]
  },
  {
   "cell_type": "code",
   "execution_count": null,
   "id": "68e73302",
   "metadata": {},
   "outputs": [],
   "source": [
    "# путь к файлам\n",
    "\n",
    "file_path = 'C:/' + input()\n",
    "token_list_path = 'C:/work/keys/dadata.txt' # путь к файлу с токенами (формат: ключ API секретный токен)"
   ]
  },
  {
   "cell_type": "code",
   "execution_count": null,
   "id": "70e5208e",
   "metadata": {},
   "outputs": [],
   "source": [
    "# авторизуюсь в dadat'е\n",
    "\n",
    "token_list = []\n",
    "\n",
    "with open(token_list_path, 'r') as f:\n",
    "    for line in f:\n",
    "        token_list += line.split()\n",
    "        \n",
    "token = token_list[0]\n",
    "secret = token_list[1]"
   ]
  },
  {
   "cell_type": "code",
   "execution_count": null,
   "id": "080e0e62",
   "metadata": {},
   "outputs": [],
   "source": []
  },
  {
   "cell_type": "markdown",
   "id": "e5928db8",
   "metadata": {},
   "source": [
    "## Компании ##"
   ]
  },
  {
   "cell_type": "code",
   "execution_count": null,
   "id": "3fd41a0f",
   "metadata": {},
   "outputs": [],
   "source": [
    "# вытаскиваю названия файлов в список file_list\n",
    "\n",
    "file_list = []\n",
    "\n",
    "for root, dirs, files in os.walk(file_path):\n",
    "    \n",
    "    for filename in files:\n",
    "        file_list += [filename]"
   ]
  },
  {
   "cell_type": "code",
   "execution_count": null,
   "id": "de0d3130",
   "metadata": {},
   "outputs": [],
   "source": [
    "file_list"
   ]
  },
  {
   "cell_type": "code",
   "execution_count": null,
   "id": "1e1f16e3",
   "metadata": {},
   "outputs": [],
   "source": [
    "need_file = input()"
   ]
  },
  {
   "cell_type": "code",
   "execution_count": null,
   "id": "ba43d0eb",
   "metadata": {},
   "outputs": [],
   "source": [
    "# список листов\n",
    "\n",
    "pd.read_excel(file_path + need_file, None).keys()"
   ]
  },
  {
   "cell_type": "code",
   "execution_count": null,
   "id": "d0ea162b",
   "metadata": {},
   "outputs": [],
   "source": [
    "need_sheet = input()"
   ]
  },
  {
   "cell_type": "code",
   "execution_count": null,
   "id": "a1800ce9",
   "metadata": {},
   "outputs": [],
   "source": [
    "# загружаю файл со списком ИНН\n",
    "\n",
    "work_inn = pd.read_excel(file_path + need_file, sheet_name=need_sheet)"
   ]
  },
  {
   "cell_type": "code",
   "execution_count": null,
   "id": "f9fccb79",
   "metadata": {},
   "outputs": [],
   "source": [
    "work_inn.shape"
   ]
  },
  {
   "cell_type": "code",
   "execution_count": null,
   "id": "5497f9a0",
   "metadata": {},
   "outputs": [],
   "source": [
    "work_inn.head(2)"
   ]
  },
  {
   "cell_type": "code",
   "execution_count": null,
   "id": "9007ffbb",
   "metadata": {},
   "outputs": [],
   "source": [
    "inn_list = work_inn['inn_page'].to_list()"
   ]
  },
  {
   "cell_type": "code",
   "execution_count": null,
   "id": "97f68673",
   "metadata": {},
   "outputs": [],
   "source": [
    "len(inn_list)"
   ]
  },
  {
   "cell_type": "code",
   "execution_count": null,
   "id": "38513b0d",
   "metadata": {},
   "outputs": [],
   "source": [
    "work_data = pd.DataFrame()"
   ]
  },
  {
   "cell_type": "code",
   "execution_count": null,
   "id": "6900037f",
   "metadata": {
    "scrolled": true
   },
   "outputs": [],
   "source": [
    "dadata = Dadata(token, secret)\n",
    "\n",
    "for inn in tqdm(inn_list):\n",
    "    \n",
    "    result = dadata.find_by_id('party', inn[5:])\n",
    "    sleep(0.5)\n",
    "    \n",
    "    for item in result:\n",
    "        temp = pd.json_normalize(result)\n",
    "        work_data = work_data.append(temp)"
   ]
  },
  {
   "cell_type": "code",
   "execution_count": null,
   "id": "e42a6978",
   "metadata": {},
   "outputs": [],
   "source": [
    "work_data.shape"
   ]
  },
  {
   "cell_type": "code",
   "execution_count": null,
   "id": "009f5278",
   "metadata": {},
   "outputs": [],
   "source": [
    "work_data.head()"
   ]
  },
  {
   "cell_type": "code",
   "execution_count": null,
   "id": "c77a0702",
   "metadata": {},
   "outputs": [],
   "source": [
    "work_data.to_excel(file_path + 'inn_dadata_2.xlsx')"
   ]
  },
  {
   "cell_type": "code",
   "execution_count": null,
   "id": "b99bf8bd",
   "metadata": {},
   "outputs": [],
   "source": []
  },
  {
   "cell_type": "code",
   "execution_count": null,
   "id": "f2d46163",
   "metadata": {},
   "outputs": [],
   "source": []
  }
 ],
 "metadata": {
  "kernelspec": {
   "display_name": "Python 3",
   "language": "python",
   "name": "python3"
  },
  "language_info": {
   "codemirror_mode": {
    "name": "ipython",
    "version": 3
   },
   "file_extension": ".py",
   "mimetype": "text/x-python",
   "name": "python",
   "nbconvert_exporter": "python",
   "pygments_lexer": "ipython3",
   "version": "3.8.8"
  }
 },
 "nbformat": 4,
 "nbformat_minor": 5
}
