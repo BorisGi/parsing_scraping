{
 "cells": [
  {
   "cell_type": "markdown",
   "id": "3331930e",
   "metadata": {},
   "source": [
    "Простой скрипт для загрузки нужных файлов со страницы.\n",
    "\n",
    "Скрипт неуниверсальный, каждый раз нужно прописывать селектор."
   ]
  },
  {
   "cell_type": "code",
   "execution_count": null,
   "id": "1af4d011",
   "metadata": {
    "scrolled": true
   },
   "outputs": [],
   "source": [
    "#Загружаю нужные библиотеки\n",
    "\n",
    "import pandas as pd\n",
    "import os\n",
    "\n",
    "# для юзер-агента\n",
    "from fake_useragent import UserAgent\n",
    "\n",
    "# прогресс-бар\n",
    "from tqdm.notebook import trange, tqdm\n",
    "\n",
    "# для пауз при парсинге\n",
    "from time import sleep\n",
    "\n",
    "# селениум\n",
    "from selenium import webdriver\n",
    "from selenium.webdriver.chrome.service import Service\n",
    "\n",
    "from selenium.common.exceptions import NoSuchElementException\n",
    "from selenium.webdriver.common.by import By\n",
    "from selenium.webdriver.support.ui import WebDriverWait\n",
    "from selenium.webdriver.support import expected_conditions as EC"
   ]
  },
  {
   "cell_type": "code",
   "execution_count": null,
   "id": "c4bf0022",
   "metadata": {
    "scrolled": true
   },
   "outputs": [],
   "source": [
    "# настройки юзер-агента\n",
    "\n",
    "ua = UserAgent()\n",
    "\n",
    "# юзер-агент для Хрома\n",
    "user_agent = ua.chrome"
   ]
  },
  {
   "cell_type": "code",
   "execution_count": null,
   "id": "a59191bb",
   "metadata": {
    "scrolled": true
   },
   "outputs": [],
   "source": [
    "test_url = 'https://intoli.com/blog/not-possible-to-block-chrome-headless/chrome-headless-test.html'"
   ]
  },
  {
   "cell_type": "code",
   "execution_count": null,
   "id": "d18ce8c5",
   "metadata": {
    "scrolled": true
   },
   "outputs": [],
   "source": [
    "# загружаю список прокси\n",
    "# список простой текстовый файл, который содержит прокси в формате: адрес:порт логин пароль\n",
    "\n",
    "proxy_list = []\n",
    "\n",
    "with open('C:/work/keys/proxy_list.txt', 'r') as f:\n",
    "    for line in f:\n",
    "        proxy_list += [line.split()]\n",
    "        \n",
    "print('Рабочих прокси — ' + str(len(proxy_list)))"
   ]
  },
  {
   "cell_type": "code",
   "execution_count": null,
   "id": "eddc3247",
   "metadata": {
    "scrolled": true
   },
   "outputs": [],
   "source": [
    "# номер прокси\n",
    "\n",
    "print('Номер прокси, от 0 до ' + str(len(proxy_list) - 1))\n",
    "proxy_number = int(input())"
   ]
  },
  {
   "cell_type": "code",
   "execution_count": null,
   "id": "cccc8a13",
   "metadata": {
    "scrolled": true
   },
   "outputs": [],
   "source": [
    "# настройки веб-драйвера, чтобы скрыть автоматическое управление\n",
    "\n",
    "opt = webdriver.ChromeOptions()\n",
    "opt.add_argument(f'user-agent={user_agent}')\n",
    "opt.add_argument('--disable-blink-features')\n",
    "opt.add_argument('--disable-blink-features=AutomationControlled')\n",
    "#opt.add_argument(f'--proxy-server={proxy_list[proxy_number][0]}') # \"девственный\" прокси(:\n",
    "opt.add_experimental_option(\"excludeSwitches\", [\"enable-automation\"]) # отключает строку про удаленное управление\n",
    "opt.add_experimental_option('useAutomationExtension', False)"
   ]
  },
  {
   "cell_type": "code",
   "execution_count": null,
   "id": "d16a8d4c",
   "metadata": {
    "scrolled": true
   },
   "outputs": [],
   "source": [
    "# путь к папке выгружаемых файлов\n",
    "\n",
    "file_path = 'C:/00_Data/' + input() + '/'"
   ]
  },
  {
   "cell_type": "code",
   "execution_count": null,
   "id": "d3756b4e",
   "metadata": {
    "scrolled": true
   },
   "outputs": [],
   "source": [
    "# создаю папку, если ее нет\n",
    "\n",
    "os.mkdir(file_path)"
   ]
  },
  {
   "cell_type": "code",
   "execution_count": null,
   "id": "f8756662",
   "metadata": {
    "scrolled": true
   },
   "outputs": [],
   "source": [
    "print('Login: ' + proxy_list[proxy_number][1])\n",
    "print('Pass: ' + proxy_list[proxy_number][2])"
   ]
  },
  {
   "cell_type": "code",
   "execution_count": null,
   "id": "a35cb1d6",
   "metadata": {
    "scrolled": true
   },
   "outputs": [],
   "source": [
    "# запускаю драйвер, проверяю настройки\n",
    "\n",
    "# s=Service('C:/Users/bgi/Anaconda3/chromedriver/chromedriver.exe')\n",
    "# driver = webdriver.Chrome(service=s, options=opt)\n",
    "\n",
    "driver = webdriver.Chrome(options=opt)\n",
    "driver.get(test_url)\n",
    "driver.maximize_window() # раскрываю окно на максимум"
   ]
  },
  {
   "cell_type": "code",
   "execution_count": null,
   "id": "795ce371",
   "metadata": {
    "scrolled": true
   },
   "outputs": [],
   "source": []
  },
  {
   "cell_type": "markdown",
   "id": "a66c96c1",
   "metadata": {},
   "source": [
    "## Выгружаю файлы"
   ]
  },
  {
   "cell_type": "code",
   "execution_count": null,
   "id": "c1c35c5d",
   "metadata": {
    "scrolled": true
   },
   "outputs": [],
   "source": [
    "# ссылка на нужную страницу\n",
    "\n",
    "url = input()"
   ]
  },
  {
   "cell_type": "code",
   "execution_count": null,
   "id": "34afb35b",
   "metadata": {},
   "outputs": [],
   "source": [
    "# путь к папке\n",
    "\n",
    "file_path = 'C:/00_Data/000_new/'"
   ]
  },
  {
   "cell_type": "code",
   "execution_count": null,
   "id": "d367cf39",
   "metadata": {},
   "outputs": [],
   "source": []
  },
  {
   "cell_type": "code",
   "execution_count": null,
   "id": "4021814f",
   "metadata": {
    "scrolled": true
   },
   "outputs": [],
   "source": [
    "# открываю страницу\n",
    "\n",
    "driver.get(url + '1/')\n",
    "sleep(2)"
   ]
  },
  {
   "cell_type": "code",
   "execution_count": null,
   "id": "405fe7eb",
   "metadata": {
    "scrolled": true
   },
   "outputs": [],
   "source": [
    "# блоки со ссылками\n",
    "\n",
    "url_blocks = driver.find_elements(By.TAG_NAME, 'li')\n",
    "\n",
    "#driver.find_elements(By.LINK_TEXT, 'Скачать .geojson')\n"
   ]
  },
  {
   "cell_type": "code",
   "execution_count": null,
   "id": "1e9fb60b",
   "metadata": {
    "scrolled": true
   },
   "outputs": [],
   "source": [
    "#  проверяю длину\n",
    "\n",
    "len(url_blocks)"
   ]
  },
  {
   "cell_type": "markdown",
   "id": "937e31e2",
   "metadata": {},
   "source": [
    "### Скачиваю файлы"
   ]
  },
  {
   "cell_type": "code",
   "execution_count": null,
   "id": "fd0b7f29",
   "metadata": {
    "scrolled": true
   },
   "outputs": [],
   "source": [
    "# простой вариант, загрузка по клику на кнопку\n",
    "\n",
    "for file in tqdm(url_blocks):\n",
    "    file.click()\n",
    "    sleep(2)"
   ]
  },
  {
   "cell_type": "code",
   "execution_count": null,
   "id": "a5c97e8d",
   "metadata": {},
   "outputs": [],
   "source": [
    "file_url"
   ]
  },
  {
   "cell_type": "code",
   "execution_count": null,
   "id": "0b1795dc",
   "metadata": {},
   "outputs": [],
   "source": [
    "file.find_element(By.TAG_NAME, 'a').text"
   ]
  },
  {
   "cell_type": "code",
   "execution_count": null,
   "id": "25a71c3f",
   "metadata": {
    "scrolled": true
   },
   "outputs": [],
   "source": [
    "for p in tqdm(range(24, 25)):\n",
    "    \n",
    "    data_url = []\n",
    "    \n",
    "    driver.get(url + str(p) + '/')\n",
    "    sleep(5)\n",
    "    \n",
    "    url_blocks = driver.find_elements(By.TAG_NAME, 'h3')\n",
    "    \n",
    "    for url_block in url_blocks:\n",
    "        \n",
    "        data_url.append(url_block.find_element(By.TAG_NAME, 'a').get_attribute('href'))\n",
    "        \n",
    "        \n",
    "    for need_url in tqdm(data_url):\n",
    "        driver.get(need_url)\n",
    "        sleep(5)\n",
    "        \n",
    "        driver.find_element(By.LINK_TEXT, 'Скачать файл').click()       "
   ]
  },
  {
   "cell_type": "code",
   "execution_count": null,
   "id": "6c3aac51",
   "metadata": {
    "scrolled": true
   },
   "outputs": [],
   "source": [
    "driver.close()"
   ]
  },
  {
   "cell_type": "code",
   "execution_count": null,
   "id": "90b9dc03",
   "metadata": {
    "scrolled": true
   },
   "outputs": [],
   "source": []
  }
 ],
 "metadata": {
  "kernelspec": {
   "display_name": "Python 3",
   "language": "python",
   "name": "python3"
  },
  "language_info": {
   "codemirror_mode": {
    "name": "ipython",
    "version": 3
   },
   "file_extension": ".py",
   "mimetype": "text/x-python",
   "name": "python",
   "nbconvert_exporter": "python",
   "pygments_lexer": "ipython3",
   "version": "3.8.8"
  }
 },
 "nbformat": 4,
 "nbformat_minor": 5
}
