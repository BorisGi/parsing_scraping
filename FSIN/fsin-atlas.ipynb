{
 "cells": [
  {
   "cell_type": "markdown",
   "id": "4b4fc02a",
   "metadata": {},
   "source": [
    "Скачиваю файлы"
   ]
  },
  {
   "cell_type": "code",
   "execution_count": null,
   "id": "e7274af0",
   "metadata": {},
   "outputs": [],
   "source": []
  },
  {
   "cell_type": "markdown",
   "id": "11c114c6",
   "metadata": {},
   "source": [
    "## Библиотеки и настройки"
   ]
  },
  {
   "cell_type": "code",
   "execution_count": 1,
   "id": "c8005b9b",
   "metadata": {},
   "outputs": [],
   "source": [
    "#Загружаю нужные библиотеки\n",
    "\n",
    "import pandas as pd\n",
    "import math\n",
    "\n",
    "import datetime\n",
    "\n",
    "# регулярки\n",
    "import re\n",
    "\n",
    "\n",
    "# для юзер-агента\n",
    "from fake_useragent import UserAgent\n",
    "\n",
    "# прогресс-бар\n",
    "from tqdm.notebook import trange, tqdm\n",
    "\n",
    "# для пауз при парсинге\n",
    "from time import sleep\n",
    "\n",
    "# селениум\n",
    "from selenium import webdriver\n",
    "from selenium.webdriver.chrome.service import Service\n",
    "\n",
    "from selenium.common.exceptions import NoSuchElementException\n",
    "from selenium.webdriver.common.by import By\n",
    "from selenium.webdriver.support.ui import WebDriverWait\n",
    "from selenium.webdriver.support import expected_conditions as EC"
   ]
  },
  {
   "cell_type": "code",
   "execution_count": 2,
   "id": "81b17d9e",
   "metadata": {},
   "outputs": [],
   "source": [
    "# настройки юзер-агента\n",
    "\n",
    "ua = UserAgent()\n",
    "\n",
    "# юзер-агент для Хрома\n",
    "user_agent = ua.chrome"
   ]
  },
  {
   "cell_type": "code",
   "execution_count": 3,
   "id": "e0589f81",
   "metadata": {},
   "outputs": [],
   "source": [
    "# тестовая страница для Селениума\n",
    "\n",
    "test_url = 'https://intoli.com/blog/not-possible-to-block-chrome-headless/chrome-headless-test.html'"
   ]
  },
  {
   "cell_type": "code",
   "execution_count": 4,
   "id": "78cb35f6",
   "metadata": {},
   "outputs": [],
   "source": [
    "# путь к файлам\n",
    "\n",
    "file_path = '/'\n",
    "proxy_list_path = 'C:/work/keys/proxy_list.txt' # путь и названия со списком прокси"
   ]
  },
  {
   "cell_type": "code",
   "execution_count": 5,
   "id": "a5d5673e",
   "metadata": {},
   "outputs": [
    {
     "name": "stdout",
     "output_type": "stream",
     "text": [
      "Рабочих прокси — 9\n"
     ]
    }
   ],
   "source": [
    "# загружаю список прокси\n",
    "# список простой текстовый файл, который содержит прокси в формате: адрес:порт логин:пароль\n",
    "\n",
    "proxy_list = []\n",
    "\n",
    "with open(proxy_list_path, 'r') as f:\n",
    "    for line in f:\n",
    "        proxy_list += [line.split()]\n",
    "        \n",
    "print('Рабочих прокси — ' + str(len(proxy_list)))"
   ]
  },
  {
   "cell_type": "code",
   "execution_count": 6,
   "id": "affc8f9d",
   "metadata": {},
   "outputs": [
    {
     "name": "stdout",
     "output_type": "stream",
     "text": [
      "Номер прокси, от 0 до 8\n",
      "1\n"
     ]
    }
   ],
   "source": [
    "# номер прокси\n",
    "\n",
    "print('Номер прокси, от 0 до ' + str(len(proxy_list) - 1))\n",
    "proxy_number = int(input())"
   ]
  },
  {
   "cell_type": "code",
   "execution_count": 7,
   "id": "dab75db7",
   "metadata": {},
   "outputs": [],
   "source": [
    "# настройки веб-драйвера, чтобы скрыть автоматическое управление\n",
    "\n",
    "opt = webdriver.ChromeOptions()\n",
    "opt.add_argument(f'user-agent={user_agent}')\n",
    "opt.add_argument('--disable-blink-features')\n",
    "opt.add_argument('--disable-blink-features=AutomationControlled')\n",
    "# opt.add_argument(f'--proxy-server={proxy_list[proxy_number][0]}') # \"девственный\" прокси(:\n",
    "opt.add_experimental_option(\"excludeSwitches\", [\"enable-automation\"]) # отключает строку про удаленное управление\n",
    "opt.add_experimental_option('useAutomationExtension', False)"
   ]
  },
  {
   "cell_type": "code",
   "execution_count": 8,
   "id": "efe91c63",
   "metadata": {},
   "outputs": [
    {
     "name": "stdout",
     "output_type": "stream",
     "text": [
      "Login: borisgimatij0Hhgp\n",
      "Pass: 9YQqEGNsKE\n"
     ]
    }
   ],
   "source": [
    "print('Login: ' + proxy_list[proxy_number][1])\n",
    "print('Pass: ' + proxy_list[proxy_number][2])"
   ]
  },
  {
   "cell_type": "code",
   "execution_count": 9,
   "id": "60aba6c1",
   "metadata": {},
   "outputs": [],
   "source": [
    "# запускаю драйвер, проверяю настройки\n",
    "\n",
    "#s=Service('C:/Users/bgi/Anaconda3/chromedriver.exe')\n",
    "#driver = webdriver.Chrome(service=s, options=opt)\n",
    "\n",
    "driver = webdriver.Chrome(options=opt)\n",
    "driver.get(test_url)\n",
    "driver.maximize_window() # раскрываю окно на максимум"
   ]
  },
  {
   "cell_type": "code",
   "execution_count": null,
   "id": "8f43f1c5",
   "metadata": {},
   "outputs": [],
   "source": []
  },
  {
   "cell_type": "markdown",
   "id": "6ae690ba",
   "metadata": {},
   "source": [
    "## Собираю ссылки"
   ]
  },
  {
   "cell_type": "markdown",
   "id": "4194c962",
   "metadata": {},
   "source": [
    "Пагинация простая, номер страницы на конце урла."
   ]
  },
  {
   "cell_type": "code",
   "execution_count": 10,
   "id": "56982bd3",
   "metadata": {},
   "outputs": [],
   "source": [
    "# ссылка на \n",
    "\n",
    "url_main = 'https://fsin-atlas.ru/?page='"
   ]
  },
  {
   "cell_type": "code",
   "execution_count": 11,
   "id": "1ec317fa",
   "metadata": {},
   "outputs": [],
   "source": [
    "# открываю страницу\n",
    "\n",
    "driver.get(url_main + '1')\n",
    "sleep(3)"
   ]
  },
  {
   "cell_type": "code",
   "execution_count": 12,
   "id": "11e22622",
   "metadata": {},
   "outputs": [
    {
     "data": {
      "text/plain": [
       "'страница 1 из 31 (924 учреждения) Следующая'"
      ]
     },
     "execution_count": 12,
     "metadata": {},
     "output_type": "execute_result"
    }
   ],
   "source": [
    "driver.find_element(By.CLASS_NAME, 'paginator').text"
   ]
  },
  {
   "cell_type": "code",
   "execution_count": 13,
   "id": "45e38a9b",
   "metadata": {},
   "outputs": [
    {
     "data": {
      "application/vnd.jupyter.widget-view+json": {
       "model_id": "d3904d0eded94b4b944f63e8025473d2",
       "version_major": 2,
       "version_minor": 0
      },
      "text/plain": [
       "  0%|          | 0/31 [00:00<?, ?it/s]"
      ]
     },
     "metadata": {},
     "output_type": "display_data"
    }
   ],
   "source": [
    "# основной скрипт\n",
    "\n",
    "data_url = []\n",
    "\n",
    "for i in tqdm(range(1, 32)): # цикл для перехода по страницам\n",
    "    \n",
    "    driver.get(url_main + str(i))\n",
    "    sleep(3)\n",
    "    \n",
    "    # блоки учреждений\n",
    "    prison_blocks = driver.find_elements(By.CLASS_NAME, 'catalog_item')\n",
    "    \n",
    "    for prison_block in prison_blocks: # цикл для извлечения данных\n",
    "        \n",
    "        prison_name = prison_block.find_element(By.CLASS_NAME, 'catalog_item_title').text # название\n",
    "        prison_url = prison_block.find_element(By.CLASS_NAME, 'catalog_item_title').get_attribute('href') # урл заведения\n",
    "        prison_info = prison_block.find_element(By.CLASS_NAME, 'catalog_item_params').text.split('\\n') # текстовый блок\n",
    "        prison_address = prison_info[0] # адрес\n",
    "        reviews = prison_info[1] # кол-во комментариев\n",
    "        views = prison_info[2] # кол-во просмотров\n",
    "        stars = prison_block.find_element(By.CLASS_NAME, 'stars_wrapper').text # оценка\n",
    "        \n",
    "        data_url.append([prison_name, prison_url, prison_address, reviews, views, stars, prison_info])"
   ]
  },
  {
   "cell_type": "code",
   "execution_count": 14,
   "id": "5131d459",
   "metadata": {},
   "outputs": [],
   "source": [
    "head = ['title', 'prison_url', 'address', 'reviews', 'views', 'stars', 'all_info']\n",
    "work_urls = pd.DataFrame(data_url, columns=head)"
   ]
  },
  {
   "cell_type": "code",
   "execution_count": 15,
   "id": "579b43bf",
   "metadata": {},
   "outputs": [
    {
     "data": {
      "text/html": [
       "<div>\n",
       "<style scoped>\n",
       "    .dataframe tbody tr th:only-of-type {\n",
       "        vertical-align: middle;\n",
       "    }\n",
       "\n",
       "    .dataframe tbody tr th {\n",
       "        vertical-align: top;\n",
       "    }\n",
       "\n",
       "    .dataframe thead th {\n",
       "        text-align: right;\n",
       "    }\n",
       "</style>\n",
       "<table border=\"1\" class=\"dataframe\">\n",
       "  <thead>\n",
       "    <tr style=\"text-align: right;\">\n",
       "      <th></th>\n",
       "      <th>title</th>\n",
       "      <th>prison_url</th>\n",
       "      <th>address</th>\n",
       "      <th>reviews</th>\n",
       "      <th>views</th>\n",
       "      <th>stars</th>\n",
       "      <th>all_info</th>\n",
       "    </tr>\n",
       "  </thead>\n",
       "  <tbody>\n",
       "    <tr>\n",
       "      <th>667</th>\n",
       "      <td>КП-6 Калуга</td>\n",
       "      <td>https://fsin-atlas.ru/catalog/object/kp6kaluga/</td>\n",
       "      <td>г. Калуга, ул. Николо- Козинская д.129</td>\n",
       "      <td>6 комментариев от посетителей</td>\n",
       "      <td>16171 просмотр учреждения</td>\n",
       "      <td>0.0</td>\n",
       "      <td>[г. Калуга, ул. Николо- Козинская д.129, 6 ком...</td>\n",
       "    </tr>\n",
       "  </tbody>\n",
       "</table>\n",
       "</div>"
      ],
      "text/plain": [
       "           title                                       prison_url  \\\n",
       "667  КП-6 Калуга  https://fsin-atlas.ru/catalog/object/kp6kaluga/   \n",
       "\n",
       "                                    address                        reviews  \\\n",
       "667  г. Калуга, ул. Николо- Козинская д.129  6 комментариев от посетителей   \n",
       "\n",
       "                         views stars  \\\n",
       "667  16171 просмотр учреждения   0.0   \n",
       "\n",
       "                                              all_info  \n",
       "667  [г. Калуга, ул. Николо- Козинская д.129, 6 ком...  "
      ]
     },
     "execution_count": 15,
     "metadata": {},
     "output_type": "execute_result"
    }
   ],
   "source": [
    "work_urls.sample()"
   ]
  },
  {
   "cell_type": "code",
   "execution_count": null,
   "id": "3c189cbf",
   "metadata": {},
   "outputs": [],
   "source": []
  },
  {
   "cell_type": "markdown",
   "id": "bdbbe808",
   "metadata": {},
   "source": [
    "## Собираю данные со страниц учреждений"
   ]
  },
  {
   "cell_type": "code",
   "execution_count": 16,
   "id": "81b699da",
   "metadata": {},
   "outputs": [
    {
     "data": {
      "application/vnd.jupyter.widget-view+json": {
       "model_id": "69e85beaee46459cbce1ad6679690856",
       "version_major": 2,
       "version_minor": 0
      },
      "text/plain": [
       "  0%|          | 0/924 [00:00<?, ?it/s]"
      ]
     },
     "metadata": {},
     "output_type": "display_data"
    }
   ],
   "source": [
    "data_prison = [] # список для данных\n",
    "\n",
    "\n",
    "for prison_url in tqdm(work_urls['prison_url'].to_list()): # цикл по ссылкам\n",
    "    \n",
    "    driver.get(prison_url) # открываю страницу\n",
    "    sleep(3)\n",
    "    \n",
    "    all_lines = driver.find_element(By.ID, 'sizo_data').find_elements(By.TAG_NAME, 'tr') # забираю таблицу с описанием\n",
    "    \n",
    "    description_dict = {}\n",
    "    \n",
    "    for one_line in all_lines: # разбираю строчку\n",
    "        two_columns = one_line.find_elements(By.TAG_NAME, 'td')\n",
    "        \n",
    "        temp_list = [] # временный список\n",
    "\n",
    "        for one_column in two_columns: #\n",
    "            temp_list.append(one_column.text)\n",
    "\n",
    "        description_dict[temp_list[0]] = temp_list[1]\n",
    "\n",
    "    region = description_dict['Расположение:']\n",
    "    department = description_dict['УФСИН/ГУФСИН:']\n",
    "    full_address = description_dict['Полный адрес:']\n",
    "    description = description_dict['Описание:']\n",
    "    places = description_dict['Лимит наполнения:']\n",
    "    teamlead = description_dict['Начальник учреждения:']\n",
    "    contacts = description_dict['Контакты:']\n",
    "    interest = description_dict['Популярность:']\n",
    "\n",
    "    data_prison.append([prison_url, region, department, full_address, description, places, teamlead, contacts, interest])"
   ]
  },
  {
   "cell_type": "code",
   "execution_count": 17,
   "id": "1890cec2",
   "metadata": {},
   "outputs": [],
   "source": [
    "head = ['prison_url', 'region', 'department', 'full_address',\n",
    "        'description', 'places', 'teamlead', 'contacts', 'interest']\n",
    "\n",
    "work_prison = pd.DataFrame(data_prison, columns=head)"
   ]
  },
  {
   "cell_type": "code",
   "execution_count": 21,
   "id": "59a2fe1a",
   "metadata": {},
   "outputs": [],
   "source": [
    "driver.quit()"
   ]
  },
  {
   "cell_type": "code",
   "execution_count": 19,
   "id": "476ceda9",
   "metadata": {},
   "outputs": [
    {
     "data": {
      "text/plain": [
       "(924, 9)"
      ]
     },
     "execution_count": 19,
     "metadata": {},
     "output_type": "execute_result"
    }
   ],
   "source": [
    "work_prison.shape"
   ]
  },
  {
   "cell_type": "code",
   "execution_count": 20,
   "id": "af832ef0",
   "metadata": {},
   "outputs": [
    {
     "data": {
      "text/html": [
       "<div>\n",
       "<style scoped>\n",
       "    .dataframe tbody tr th:only-of-type {\n",
       "        vertical-align: middle;\n",
       "    }\n",
       "\n",
       "    .dataframe tbody tr th {\n",
       "        vertical-align: top;\n",
       "    }\n",
       "\n",
       "    .dataframe thead th {\n",
       "        text-align: right;\n",
       "    }\n",
       "</style>\n",
       "<table border=\"1\" class=\"dataframe\">\n",
       "  <thead>\n",
       "    <tr style=\"text-align: right;\">\n",
       "      <th></th>\n",
       "      <th>prison_url</th>\n",
       "      <th>region</th>\n",
       "      <th>department</th>\n",
       "      <th>full_address</th>\n",
       "      <th>description</th>\n",
       "      <th>places</th>\n",
       "      <th>teamlead</th>\n",
       "      <th>contacts</th>\n",
       "      <th>interest</th>\n",
       "    </tr>\n",
       "  </thead>\n",
       "  <tbody>\n",
       "    <tr>\n",
       "      <th>311</th>\n",
       "      <td>https://fsin-atlas.ru/catalog/object/ik12kuibi...</td>\n",
       "      <td>Новосибирская область, г. Куйбышев</td>\n",
       "      <td>ГУФСИН по Новосибирской области</td>\n",
       "      <td>632387, , Новосибирская область, г. Куйбышев\\n...</td>\n",
       "      <td>Мужская исправительная колония строгого режима</td>\n",
       "      <td>1100 мест, включая участок колонии-поселения н...</td>\n",
       "      <td>подполковник внутренней службы Бехтин Евгений ...</td>\n",
       "      <td>8 (38362) 53-419, 8 (383-62) 23-365\\nik12@54.f...</td>\n",
       "      <td>Просмотры: 26128, комментарии: 13</td>\n",
       "    </tr>\n",
       "    <tr>\n",
       "      <th>551</th>\n",
       "      <td>https://fsin-atlas.ru/catalog/object/ik29kamen/</td>\n",
       "      <td>Приморский край, г. Большой Камень</td>\n",
       "      <td>ГУФСИН по Приморскому краю</td>\n",
       "      <td>692806, ул. Дзержинского д. 1, Приморский край...</td>\n",
       "      <td>Мужская исправительная колония общего режима</td>\n",
       "      <td>1025 мест и пфрси на 165 мест</td>\n",
       "      <td>подполковник внутренней службы Пьянков Алексей...</td>\n",
       "      <td>8 (42335) 5-51-95\\nkp-49@25.fsin.gov.ru\\nwww.2...</td>\n",
       "      <td>Просмотры: 18914, комментарии: 12</td>\n",
       "    </tr>\n",
       "    <tr>\n",
       "      <th>204</th>\n",
       "      <td>https://fsin-atlas.ru/catalog/object/ik2talitsy/</td>\n",
       "      <td>Ивановская область, пос. Талицы</td>\n",
       "      <td>УФСИН по Ивановской области</td>\n",
       "      <td>155644, ул. Ленина д.18, Ивановская область, п...</td>\n",
       "      <td>Мужская исправительная колония строгого режима</td>\n",
       "      <td>1501 место</td>\n",
       "      <td>Врио начальника подполковник внутренней службы...</td>\n",
       "      <td>+7 (49347) 2-44-80\\nik-2@37.fsin.gov.ru\\nwww.3...</td>\n",
       "      <td>Просмотры: 32577, комментарии: 15</td>\n",
       "    </tr>\n",
       "  </tbody>\n",
       "</table>\n",
       "</div>"
      ],
      "text/plain": [
       "                                            prison_url  \\\n",
       "311  https://fsin-atlas.ru/catalog/object/ik12kuibi...   \n",
       "551    https://fsin-atlas.ru/catalog/object/ik29kamen/   \n",
       "204   https://fsin-atlas.ru/catalog/object/ik2talitsy/   \n",
       "\n",
       "                                 region                       department  \\\n",
       "311  Новосибирская область, г. Куйбышев  ГУФСИН по Новосибирской области   \n",
       "551  Приморский край, г. Большой Камень       ГУФСИН по Приморскому краю   \n",
       "204     Ивановская область, пос. Талицы      УФСИН по Ивановской области   \n",
       "\n",
       "                                          full_address  \\\n",
       "311  632387, , Новосибирская область, г. Куйбышев\\n...   \n",
       "551  692806, ул. Дзержинского д. 1, Приморский край...   \n",
       "204  155644, ул. Ленина д.18, Ивановская область, п...   \n",
       "\n",
       "                                        description  \\\n",
       "311  Мужская исправительная колония строгого режима   \n",
       "551    Мужская исправительная колония общего режима   \n",
       "204  Мужская исправительная колония строгого режима   \n",
       "\n",
       "                                                places  \\\n",
       "311  1100 мест, включая участок колонии-поселения н...   \n",
       "551                      1025 мест и пфрси на 165 мест   \n",
       "204                                         1501 место   \n",
       "\n",
       "                                              teamlead  \\\n",
       "311  подполковник внутренней службы Бехтин Евгений ...   \n",
       "551  подполковник внутренней службы Пьянков Алексей...   \n",
       "204  Врио начальника подполковник внутренней службы...   \n",
       "\n",
       "                                              contacts  \\\n",
       "311  8 (38362) 53-419, 8 (383-62) 23-365\\nik12@54.f...   \n",
       "551  8 (42335) 5-51-95\\nkp-49@25.fsin.gov.ru\\nwww.2...   \n",
       "204  +7 (49347) 2-44-80\\nik-2@37.fsin.gov.ru\\nwww.3...   \n",
       "\n",
       "                              interest  \n",
       "311  Просмотры: 26128, комментарии: 13  \n",
       "551  Просмотры: 18914, комментарии: 12  \n",
       "204  Просмотры: 32577, комментарии: 15  "
      ]
     },
     "execution_count": 20,
     "metadata": {},
     "output_type": "execute_result"
    }
   ],
   "source": [
    "work_prison.sample(3)"
   ]
  },
  {
   "cell_type": "code",
   "execution_count": 23,
   "id": "9aec4618",
   "metadata": {},
   "outputs": [],
   "source": [
    "work_prison = work_prison.merge(work_urls, how='left', on='prison_url')"
   ]
  },
  {
   "cell_type": "code",
   "execution_count": null,
   "id": "45f85b89",
   "metadata": {},
   "outputs": [],
   "source": []
  },
  {
   "cell_type": "code",
   "execution_count": 26,
   "id": "015f4502",
   "metadata": {},
   "outputs": [],
   "source": [
    "# Записываю в файл\n",
    "\n",
    "work_prison.to_excel('C:/00_Data/prisons_2022_13_07.xlsx', encoding='utf-8', index=False)"
   ]
  },
  {
   "cell_type": "code",
   "execution_count": null,
   "id": "7f166884",
   "metadata": {},
   "outputs": [],
   "source": []
  }
 ],
 "metadata": {
  "kernelspec": {
   "display_name": "Python 3 (ipykernel)",
   "language": "python",
   "name": "python3"
  },
  "language_info": {
   "codemirror_mode": {
    "name": "ipython",
    "version": 3
   },
   "file_extension": ".py",
   "mimetype": "text/x-python",
   "name": "python",
   "nbconvert_exporter": "python",
   "pygments_lexer": "ipython3",
   "version": "3.9.7"
  }
 },
 "nbformat": 4,
 "nbformat_minor": 5
}
