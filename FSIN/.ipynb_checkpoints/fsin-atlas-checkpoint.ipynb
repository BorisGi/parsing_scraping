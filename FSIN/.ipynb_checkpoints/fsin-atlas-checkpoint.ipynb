{
 "cells": [
  {
   "cell_type": "markdown",
   "id": "4b4fc02a",
   "metadata": {},
   "source": [
    "Скачиваю файлы"
   ]
  },
  {
   "cell_type": "code",
   "execution_count": null,
   "id": "e7274af0",
   "metadata": {},
   "outputs": [],
   "source": []
  },
  {
   "cell_type": "markdown",
   "id": "11c114c6",
   "metadata": {},
   "source": [
    "## Библиотеки и настройки"
   ]
  },
  {
   "cell_type": "code",
   "execution_count": 1,
   "id": "c8005b9b",
   "metadata": {},
   "outputs": [],
   "source": [
    "#Загружаю нужные библиотеки\n",
    "\n",
    "import pandas as pd\n",
    "import math\n",
    "\n",
    "import datetime\n",
    "\n",
    "# регулярки\n",
    "import re\n",
    "\n",
    "\n",
    "# для юзер-агента\n",
    "from fake_useragent import UserAgent\n",
    "\n",
    "# прогресс-бар\n",
    "from tqdm.notebook import trange, tqdm\n",
    "\n",
    "# для пауз при парсинге\n",
    "from time import sleep\n",
    "\n",
    "# селениум\n",
    "from selenium import webdriver\n",
    "from selenium.webdriver.chrome.service import Service\n",
    "\n",
    "from selenium.common.exceptions import NoSuchElementException\n",
    "from selenium.webdriver.common.by import By\n",
    "from selenium.webdriver.support.ui import WebDriverWait\n",
    "from selenium.webdriver.support import expected_conditions as EC"
   ]
  },
  {
   "cell_type": "code",
   "execution_count": 2,
   "id": "81b17d9e",
   "metadata": {},
   "outputs": [],
   "source": [
    "# настройки юзер-агента\n",
    "\n",
    "ua = UserAgent()\n",
    "\n",
    "# юзер-агент для Хрома\n",
    "user_agent = ua.chrome"
   ]
  },
  {
   "cell_type": "code",
   "execution_count": 3,
   "id": "e0589f81",
   "metadata": {},
   "outputs": [],
   "source": [
    "# тестовая страница для Селениума\n",
    "\n",
    "test_url = 'https://intoli.com/blog/not-possible-to-block-chrome-headless/chrome-headless-test.html'"
   ]
  },
  {
   "cell_type": "code",
   "execution_count": 4,
   "id": "78cb35f6",
   "metadata": {},
   "outputs": [],
   "source": [
    "# путь к файлам\n",
    "\n",
    "file_path = '/'\n",
    "proxy_list_path = 'C:/work/keys/proxy_list.txt' # путь и названия со списком прокси"
   ]
  },
  {
   "cell_type": "code",
   "execution_count": 5,
   "id": "a5d5673e",
   "metadata": {},
   "outputs": [
    {
     "name": "stdout",
     "output_type": "stream",
     "text": [
      "Рабочих прокси — 9\n"
     ]
    }
   ],
   "source": [
    "# загружаю список прокси\n",
    "# список простой текстовый файл, который содержит прокси в формате: адрес:порт логин:пароль\n",
    "\n",
    "proxy_list = []\n",
    "\n",
    "with open(proxy_list_path, 'r') as f:\n",
    "    for line in f:\n",
    "        proxy_list += [line.split()]\n",
    "        \n",
    "print('Рабочих прокси — ' + str(len(proxy_list)))"
   ]
  },
  {
   "cell_type": "code",
   "execution_count": 6,
   "id": "affc8f9d",
   "metadata": {},
   "outputs": [
    {
     "name": "stdout",
     "output_type": "stream",
     "text": [
      "Номер прокси, от 0 до 8\n",
      "1\n"
     ]
    }
   ],
   "source": [
    "# номер прокси\n",
    "\n",
    "print('Номер прокси, от 0 до ' + str(len(proxy_list) - 1))\n",
    "proxy_number = int(input())"
   ]
  },
  {
   "cell_type": "code",
   "execution_count": 7,
   "id": "dab75db7",
   "metadata": {},
   "outputs": [],
   "source": [
    "# настройки веб-драйвера, чтобы скрыть автоматическое управление\n",
    "\n",
    "opt = webdriver.ChromeOptions()\n",
    "opt.add_argument(f'user-agent={user_agent}')\n",
    "opt.add_argument('--disable-blink-features')\n",
    "opt.add_argument('--disable-blink-features=AutomationControlled')\n",
    "# opt.add_argument(f'--proxy-server={proxy_list[proxy_number][0]}') # \"девственный\" прокси(:\n",
    "opt.add_experimental_option(\"excludeSwitches\", [\"enable-automation\"]) # отключает строку про удаленное управление\n",
    "opt.add_experimental_option('useAutomationExtension', False)"
   ]
  },
  {
   "cell_type": "code",
   "execution_count": 8,
   "id": "efe91c63",
   "metadata": {},
   "outputs": [
    {
     "name": "stdout",
     "output_type": "stream",
     "text": [
      "Login: borisgimatij0Hhgp\n",
      "Pass: 9YQqEGNsKE\n"
     ]
    }
   ],
   "source": [
    "print('Login: ' + proxy_list[proxy_number][1])\n",
    "print('Pass: ' + proxy_list[proxy_number][2])"
   ]
  },
  {
   "cell_type": "code",
   "execution_count": 9,
   "id": "60aba6c1",
   "metadata": {},
   "outputs": [],
   "source": [
    "# запускаю драйвер, проверяю настройки\n",
    "\n",
    "#s=Service('C:/Users/bgi/Anaconda3/chromedriver.exe')\n",
    "#driver = webdriver.Chrome(service=s, options=opt)\n",
    "\n",
    "driver = webdriver.Chrome(options=opt)\n",
    "driver.get(test_url)\n",
    "driver.maximize_window() # раскрываю окно на максимум"
   ]
  },
  {
   "cell_type": "code",
   "execution_count": null,
   "id": "8f43f1c5",
   "metadata": {},
   "outputs": [],
   "source": []
  },
  {
   "cell_type": "markdown",
   "id": "6ae690ba",
   "metadata": {},
   "source": [
    "## Собираю ссылки"
   ]
  },
  {
   "cell_type": "markdown",
   "id": "4194c962",
   "metadata": {},
   "source": [
    "Пагинация простая, номер страницы на конце урла."
   ]
  },
  {
   "cell_type": "code",
   "execution_count": null,
   "id": "56982bd3",
   "metadata": {},
   "outputs": [],
   "source": [
    "# ссылка на \n",
    "\n",
    "url_main = 'https://fsin-atlas.ru/?page='"
   ]
  },
  {
   "cell_type": "code",
   "execution_count": null,
   "id": "1ec317fa",
   "metadata": {},
   "outputs": [],
   "source": [
    "# открываю страницу\n",
    "\n",
    "driver.get(url_main + '1')\n",
    "sleep(3)"
   ]
  },
  {
   "cell_type": "code",
   "execution_count": null,
   "id": "11e22622",
   "metadata": {},
   "outputs": [],
   "source": [
    "driver.find_element(By.CLASS_NAME, 'paginator').text"
   ]
  },
  {
   "cell_type": "code",
   "execution_count": null,
   "id": "45e38a9b",
   "metadata": {},
   "outputs": [],
   "source": [
    "# основной скрипт\n",
    "\n",
    "data_url = []\n",
    "\n",
    "for i in tqdm(range(1, 32)): # цикл для перехода по страницам\n",
    "    \n",
    "    driver.get(url_main + str(i))\n",
    "    sleep(3)\n",
    "    \n",
    "    # блоки учреждений\n",
    "    prison_blocks = driver.find_elements(By.CLASS_NAME, 'catalog_item')\n",
    "    \n",
    "    for prison_block in prison_blocks: # цикл для извлечения данных\n",
    "        \n",
    "        prison_name = prison_block.find_element(By.CLASS_NAME, 'catalog_item_title').text # название\n",
    "        prison_url = prison_block.find_element(By.CLASS_NAME, 'catalog_item_title').get_attribute('href') # урл заведения\n",
    "        prison_info = prison_block.find_element(By.CLASS_NAME, 'catalog_item_params').text.split('\\n') # текстовый блок\n",
    "        prison_address = prison_info[0] # адрес\n",
    "        reviews = prison_info[1] # кол-во комментариев\n",
    "        views = prison_info[2] # кол-во просмотров\n",
    "        stars = prison_block.find_element(By.CLASS_NAME, 'stars_wrapper').text # оценка\n",
    "        \n",
    "        data_url.append([prison_name, prison_url, prison_address, reviews, views, stars, prison_info])"
   ]
  },
  {
   "cell_type": "code",
   "execution_count": null,
   "id": "5131d459",
   "metadata": {},
   "outputs": [],
   "source": [
    "head = ['title', 'prison_url', 'address', 'reviews', 'views', 'stars', 'all_info']\n",
    "work_urls = pd.DataFrame(data_url, columns=head)"
   ]
  },
  {
   "cell_type": "code",
   "execution_count": null,
   "id": "579b43bf",
   "metadata": {},
   "outputs": [],
   "source": [
    "work_urls.sample()"
   ]
  },
  {
   "cell_type": "code",
   "execution_count": null,
   "id": "3c189cbf",
   "metadata": {},
   "outputs": [],
   "source": []
  },
  {
   "cell_type": "markdown",
   "id": "bdbbe808",
   "metadata": {},
   "source": [
    "## Собираю данные со страниц учреждений"
   ]
  },
  {
   "cell_type": "code",
   "execution_count": null,
   "id": "81b699da",
   "metadata": {},
   "outputs": [],
   "source": [
    "data_prison = [] # список для данных\n",
    "\n",
    "\n",
    "for prison_url in tqdm(work_urls['prison_url'].to_list()): # цикл по ссылкам\n",
    "    \n",
    "    driver.get(prison_url) # открываю страницу\n",
    "    sleep(3)\n",
    "    \n",
    "    all_lines = driver.find_element(By.ID, 'sizo_data').find_elements(By.TAG_NAME, 'tr') # забираю таблицу с описанием\n",
    "    \n",
    "    description_dict = {}\n",
    "    \n",
    "    for one_line in all_lines: # разбираю строчку\n",
    "        two_columns = one_line.find_elements(By.TAG_NAME, 'td')\n",
    "        \n",
    "        temp_list = [] # временный список\n",
    "\n",
    "        for one_column in two_columns: #\n",
    "            temp_list.append(one_column.text)\n",
    "\n",
    "        description_dict[temp_list[0]] = temp_list[1]\n",
    "\n",
    "    region = description_dict['Расположение:']\n",
    "    department = description_dict['УФСИН/ГУФСИН:']\n",
    "    full_address = description_dict['Полный адрес:']\n",
    "    description = description_dict['Описание:']\n",
    "    places = description_dict['Лимит наполнения:']\n",
    "    teamlead = description_dict['Начальник учреждения:']\n",
    "    contacts = description_dict['Контакты:']\n",
    "    interest = description_dict['Популярность:']\n",
    "\n",
    "    data_prison.append([prison_url, region, department, full_address, description, places, teamlead, contacts, interest])"
   ]
  },
  {
   "cell_type": "code",
   "execution_count": null,
   "id": "1890cec2",
   "metadata": {},
   "outputs": [],
   "source": [
    "head = ['prison_url', 'region', 'department', 'full_address',\n",
    "        'description', 'places', 'teamlead', 'contacts', 'interest']\n",
    "\n",
    "work_prison = pd.DataFrame(data_prison, columns=head)"
   ]
  },
  {
   "cell_type": "code",
   "execution_count": null,
   "id": "476ceda9",
   "metadata": {},
   "outputs": [],
   "source": [
    "work_prison"
   ]
  },
  {
   "cell_type": "code",
   "execution_count": null,
   "id": "af832ef0",
   "metadata": {},
   "outputs": [],
   "source": []
  },
  {
   "cell_type": "code",
   "execution_count": null,
   "id": "9aec4618",
   "metadata": {},
   "outputs": [],
   "source": []
  },
  {
   "cell_type": "code",
   "execution_count": null,
   "id": "015f4502",
   "metadata": {},
   "outputs": [],
   "source": [
    "# Записываю в файл\n",
    "\n",
    "work_data.to_excel(file_path + 'hh_' + current_date + '.xlsx', encoding='utf-8', index=False)"
   ]
  },
  {
   "cell_type": "code",
   "execution_count": null,
   "id": "59a2fe1a",
   "metadata": {},
   "outputs": [],
   "source": [
    "driver.quit()"
   ]
  },
  {
   "cell_type": "code",
   "execution_count": null,
   "id": "7f166884",
   "metadata": {},
   "outputs": [],
   "source": []
  }
 ],
 "metadata": {
  "kernelspec": {
   "display_name": "Python 3 (ipykernel)",
   "language": "python",
   "name": "python3"
  },
  "language_info": {
   "codemirror_mode": {
    "name": "ipython",
    "version": 3
   },
   "file_extension": ".py",
   "mimetype": "text/x-python",
   "name": "python",
   "nbconvert_exporter": "python",
   "pygments_lexer": "ipython3",
   "version": "3.9.7"
  }
 },
 "nbformat": 4,
 "nbformat_minor": 5
}
