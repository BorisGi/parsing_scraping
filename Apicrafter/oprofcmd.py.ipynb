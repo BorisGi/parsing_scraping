{
 "cells": [
  {
   "cell_type": "code",
   "execution_count": 2,
   "id": "c1bdddda",
   "metadata": {},
   "outputs": [
    {
     "ename": "ModuleNotFoundError",
     "evalue": "No module named 'orgprofile'",
     "output_type": "error",
     "traceback": [
      "\u001b[1;31m---------------------------------------------------------------------------\u001b[0m",
      "\u001b[1;31mModuleNotFoundError\u001b[0m                       Traceback (most recent call last)",
      "\u001b[1;32m<ipython-input-2-91477e36a811>\u001b[0m in \u001b[0;36m<module>\u001b[1;34m\u001b[0m\n\u001b[0;32m     12\u001b[0m \u001b[0msocket\u001b[0m\u001b[1;33m.\u001b[0m\u001b[0msetdefaulttimeout\u001b[0m\u001b[1;33m(\u001b[0m\u001b[1;36m50\u001b[0m\u001b[1;33m)\u001b[0m\u001b[1;33m\u001b[0m\u001b[1;33m\u001b[0m\u001b[0m\n\u001b[0;32m     13\u001b[0m \u001b[1;33m\u001b[0m\u001b[0m\n\u001b[1;32m---> 14\u001b[1;33m \u001b[1;32mfrom\u001b[0m \u001b[0morgprofile\u001b[0m\u001b[1;33m.\u001b[0m\u001b[0mbuilder\u001b[0m \u001b[1;32mimport\u001b[0m \u001b[0mSOURCES_MAP\u001b[0m\u001b[1;33m\u001b[0m\u001b[1;33m\u001b[0m\u001b[0m\n\u001b[0m\u001b[0;32m     15\u001b[0m \u001b[1;32mfrom\u001b[0m \u001b[0morgprofile\u001b[0m\u001b[1;33m.\u001b[0m\u001b[0mbuilder\u001b[0m \u001b[1;32mimport\u001b[0m \u001b[0mbuild_profile\u001b[0m\u001b[1;33m\u001b[0m\u001b[1;33m\u001b[0m\u001b[0m\n\u001b[0;32m     16\u001b[0m \u001b[1;33m\u001b[0m\u001b[0m\n",
      "\u001b[1;31mModuleNotFoundError\u001b[0m: No module named 'orgprofile'"
     ]
    }
   ],
   "source": [
    "#!/usr/bin/env python\n",
    "# -*- coding: utf8 -*-\n",
    "\n",
    "#import cjson\n",
    "\n",
    "import os\n",
    "import logging\n",
    "import json\n",
    "import click\n",
    "import socket\n",
    "\n",
    "socket.setdefaulttimeout(50)\n",
    "\n",
    "from orgprofile.builder import SOURCES_MAP\n",
    "from orgprofile.builder import build_profile\n",
    "\n",
    "def list_profiles():\n",
    "    profiles = list(SOURCES_MAP.keys())\n",
    "    profiles.sort()\n",
    "    print('Профили для сбора данных об организации')\n",
    "    for p in profiles:\n",
    "        print('- %s: %s' % (p, SOURCES_MAP[p]['help']))\n",
    "    pass\n",
    "\n",
    "\n",
    "@click.group()\n",
    "def cli1():\n",
    "    pass\n",
    "\n",
    "@cli1.command()\n",
    "@click.argument('orgcode', default=None)\n",
    "@click.option('--profiles', default='all', help='Profiles of report to collect the data. Default: all')\n",
    "def collect(orgcode, profiles):\n",
    "    \"\"\"Формирует профиль организации. Собирает данные по коду ИНН из разрозненных источников\"\"\"\n",
    "    if not os.path.exists('apicrafter.key'):\n",
    "        print('Пожалуйста, используйте команду \"init\" и передайте её ключ для APICrafter')\n",
    "        return \n",
    "    f = open('apicrafter.key', 'r', encoding='utf8')\n",
    "    apikey = f.read().strip()\n",
    "    f.close() \n",
    "    print('Начинаю собирать данные')\n",
    "    build_profile(orgcode, profiles, apikey=apikey, filepath='data')\n",
    "    print('Данные сохранены в data/%s/' % (orgcode))\n",
    "\n",
    "@click.group()\n",
    "def cli2():\n",
    "    pass\n",
    "\n",
    "\n",
    "@cli2.command()\n",
    "@click.argument('apikey', default=None)\n",
    "def init(apikey):\n",
    "    \"\"\"Инициализация APICrafter\"\"\"\n",
    "    f = open('apicrafter.key', 'w')\n",
    "    f.write(\"%s\" % (apikey))\n",
    "    f.close()\n",
    "    print('Ключ сохранён в apicrafter.key')\n",
    "\n",
    "@click.group()\n",
    "def cli3():\n",
    "    pass\n",
    "\n",
    "@cli3.command()\n",
    "def profiles():\n",
    "    \"\"\"Список профилей\"\"\"\n",
    "    list_profiles()\n",
    "\n",
    "\n",
    "cli = click.CommandCollection(sources=[cli1, cli2, cli3])\n",
    "\n",
    "if __name__ == '__main__':\n",
    "    logging.basicConfig(\n",
    "        format='%(asctime)s - %(name)s - %(levelname)s - %(message)s',\n",
    "        level=logging.INFO)\n",
    "    cli()"
   ]
  },
  {
   "cell_type": "code",
   "execution_count": null,
   "id": "ff2c15c1",
   "metadata": {},
   "outputs": [],
   "source": []
  }
 ],
 "metadata": {
  "kernelspec": {
   "display_name": "Python 3",
   "language": "python",
   "name": "python3"
  },
  "language_info": {
   "codemirror_mode": {
    "name": "ipython",
    "version": 3
   },
   "file_extension": ".py",
   "mimetype": "text/x-python",
   "name": "python",
   "nbconvert_exporter": "python",
   "pygments_lexer": "ipython3",
   "version": "3.8.8"
  }
 },
 "nbformat": 4,
 "nbformat_minor": 5
}
