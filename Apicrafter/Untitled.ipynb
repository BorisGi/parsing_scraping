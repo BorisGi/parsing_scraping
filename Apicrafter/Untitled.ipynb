{
 "cells": [
  {
   "cell_type": "code",
   "execution_count": null,
   "id": "6ba21cf3",
   "metadata": {},
   "outputs": [],
   "source": []
  },
  {
   "cell_type": "code",
   "execution_count": 8,
   "id": "28d71fab",
   "metadata": {},
   "outputs": [],
   "source": [
    "# достаю ключ api\n",
    "\n",
    "with open('C:/work/keys/apicrafter.txt', 'r') as file:\n",
    "    api_key = file.read()"
   ]
  },
  {
   "cell_type": "code",
   "execution_count": null,
   "id": "e1a6c72a",
   "metadata": {},
   "outputs": [],
   "source": [
    "conda install -c conda-forge geopandas"
   ]
  },
  {
   "cell_type": "code",
   "execution_count": null,
   "id": "d957b306",
   "metadata": {},
   "outputs": [],
   "source": []
  }
 ],
 "metadata": {
  "kernelspec": {
   "display_name": "Python 3",
   "language": "python",
   "name": "python3"
  },
  "language_info": {
   "codemirror_mode": {
    "name": "ipython",
    "version": 3
   },
   "file_extension": ".py",
   "mimetype": "text/x-python",
   "name": "python",
   "nbconvert_exporter": "python",
   "pygments_lexer": "ipython3",
   "version": "3.8.8"
  }
 },
 "nbformat": 4,
 "nbformat_minor": 5
}
