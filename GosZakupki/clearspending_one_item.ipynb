{
 "cells": [
  {
   "cell_type": "code",
   "execution_count": null,
   "id": "59ba596b",
   "metadata": {},
   "outputs": [],
   "source": []
  },
  {
   "cell_type": "markdown",
   "id": "bde1afdd",
   "metadata": {},
   "source": [
    "### Библиотеки и настройки"
   ]
  },
  {
   "cell_type": "code",
   "execution_count": null,
   "id": "e795c308",
   "metadata": {},
   "outputs": [],
   "source": [
    "# для запросов\n",
    "import requests\n",
    "\n",
    "# для работы с JSON\n",
    "import json\n",
    "\n",
    "# для работы с папками\n",
    "import os\n",
    "\n",
    "# \n",
    "from datetime import timedelta, date\n",
    "\n",
    "# для дафреймов\n",
    "import pandas as pd"
   ]
  },
  {
   "cell_type": "code",
   "execution_count": null,
   "id": "c186e1e1",
   "metadata": {},
   "outputs": [],
   "source": [
    "# пути к папкам\n",
    "\n",
    "file_path = 'C:/00_Data/test/'"
   ]
  },
  {
   "cell_type": "code",
   "execution_count": null,
   "id": "0fb92794",
   "metadata": {},
   "outputs": [],
   "source": [
    "# рекурсия для поиска значений\n",
    "\n",
    "def recurs_find_key(key, obj):\n",
    "    if key in obj:\n",
    "        return obj[key]\n",
    "    \n",
    "    for k, v in obj.items():\n",
    "        if type(v) == dict:\n",
    "            result = recurs_find_key(key, v)\n",
    "            \n",
    "            if result is not None:\n",
    "                return result "
   ]
  },
  {
   "cell_type": "code",
   "execution_count": null,
   "id": "7dd2abab",
   "metadata": {},
   "outputs": [],
   "source": [
    "# функция запроса\n",
    "\n",
    "def get_contracts(**kwargs):\n",
    "    \n",
    "    try:\n",
    "        url = 'http://openapi.clearspending.ru/restapi/v3/contracts/search/'\n",
    "        params = {**kwargs}\n",
    "        data = requests.get(url, params).json()\n",
    "        \n",
    "    except:\n",
    "        print('Не отдает данные')\n",
    "    \n",
    "    return data"
   ]
  },
  {
   "cell_type": "code",
   "execution_count": null,
   "id": "c9454f88",
   "metadata": {},
   "outputs": [],
   "source": [
    "def get_week(day=None):\n",
    "    \n",
    "    if day == None:\n",
    "        start_date = date.today()\n",
    "        \n",
    "    else:\n",
    "        start_date = datetime.datetime.strptime(day, \"%d.%m.%Y\" )\n",
    "        \n",
    "    end_date = start_date - timedelta(weeks=1)\n",
    "    \n",
    "    date_range = f'{end_date.strftime(\"%d.%m.%Y\")}-{start_date.strftime(\"%d.%m.%Y\")}'\n",
    "    \n",
    "    return date_range"
   ]
  },
  {
   "cell_type": "code",
   "execution_count": null,
   "id": "fcb4fbe9",
   "metadata": {},
   "outputs": [],
   "source": [
    "region_list = []\n",
    "\n",
    "for i in range(80):\n",
    "    if i < 10:\n",
    "        region_list += ['0' + str(i)]\n",
    "        \n",
    "    else:\n",
    "        region_list += [str(i)]"
   ]
  },
  {
   "cell_type": "code",
   "execution_count": null,
   "id": "c99316e0",
   "metadata": {},
   "outputs": [],
   "source": [
    "region_list += ['83', '86', '87', '89', '91', '92']"
   ]
  },
  {
   "cell_type": "code",
   "execution_count": null,
   "id": "b1e3fc10",
   "metadata": {},
   "outputs": [],
   "source": [
    "print(region_list)"
   ]
  },
  {
   "cell_type": "code",
   "execution_count": null,
   "id": "25e61ad7",
   "metadata": {},
   "outputs": [],
   "source": [
    "len(region_list)"
   ]
  },
  {
   "cell_type": "code",
   "execution_count": null,
   "id": "7831c790",
   "metadata": {},
   "outputs": [],
   "source": []
  },
  {
   "cell_type": "code",
   "execution_count": null,
   "id": "c21d0257",
   "metadata": {},
   "outputs": [],
   "source": [
    "url = 'http://openapi.clearspending.ru/restapi/v3/contracts/search/?customerregion=78&productsearch=Маска медицинская&daterange=01.01.2021-31.12.2021'"
   ]
  },
  {
   "cell_type": "code",
   "execution_count": null,
   "id": "9d152559",
   "metadata": {},
   "outputs": [],
   "source": [
    "raw_data = requests.get(url).json()"
   ]
  },
  {
   "cell_type": "code",
   "execution_count": null,
   "id": "b378382c",
   "metadata": {},
   "outputs": [],
   "source": [
    "with open(file_path + 'raw_data.json', 'w') as json_file:\n",
    "    json.dump(raw_data, json_file)    "
   ]
  },
  {
   "cell_type": "code",
   "execution_count": null,
   "id": "68234585",
   "metadata": {},
   "outputs": [],
   "source": [
    "for contract in all_data[:10]:\n",
    "    print(recurs_find_key('products', contract))"
   ]
  },
  {
   "cell_type": "code",
   "execution_count": null,
   "id": "51d17fd8",
   "metadata": {},
   "outputs": [],
   "source": [
    "all_data = raw_data['contracts']['data']"
   ]
  },
  {
   "cell_type": "code",
   "execution_count": null,
   "id": "35afddb8",
   "metadata": {},
   "outputs": [],
   "source": [
    "data = [] # список для данных\n",
    "\n",
    "for contract in all_data:\n",
    "    \n",
    "    # номер ФЗ\n",
    "    fz_number = recurs_find_key('fz', contract)\n",
    "    \n",
    "    # ссылка на контракт\n",
    "    contract_url = recurs_find_key('contractUrl', contract)\n",
    "    \n",
    "    # номер контракта в реестре Закупок (номер есть в ссылке)\n",
    "    num_reg = recurs_find_key('regNum', contract)\n",
    "    \n",
    "    # дата подписания\n",
    "    sign_date = recurs_find_key('signDate', contract)\n",
    "    \n",
    "    # код региона\n",
    "    region_code = recurs_find_key('regionCode', contract)\n",
    "    \n",
    "    # информация о закачике\n",
    "    customer = recurs_find_key('customer', contract)\n",
    "    customer_inn = recurs_find_key('inn', customer)\n",
    "    customer_name = recurs_find_key('fullName', customer)\n",
    "    \n",
    "    # общая цена контракта    \n",
    "    total_price = recurs_find_key('price', contract)\n",
    "    \n",
    "    # информация о поставщиках\n",
    "    supplier_dict = {}\n",
    "    try:\n",
    "        suppliers = recurs_find_key('suppliers', contract)\n",
    "        \n",
    "        for supplier in suppliers:\n",
    "            supplier_inn = recurs_find_key('inn', supplier)\n",
    "            supplier_name = recurs_find_key('organizationName', supplier)\n",
    "                        \n",
    "    except:\n",
    "        supplier_inn = 'none'\n",
    "        supplier_name = 'none'\n",
    "            \n",
    "    supplier_dict[supplier_inn] = supplier_name\n",
    "        \n",
    "        \n",
    "    products = recurs_find_key('products', contract)\n",
    "    \n",
    "    \n",
    "    data.append([contract_url, sign_date, num_reg,\n",
    "                 price, region_code,\n",
    "                 customer, customer_inn, customer_name, supplier_dict, suppliers,\n",
    "                products])\n"
   ]
  },
  {
   "cell_type": "code",
   "execution_count": null,
   "id": "babfab9c",
   "metadata": {},
   "outputs": [],
   "source": [
    "headers = ['contract_url', 'sign_date', 'num_reg',\n",
    "           'price', 'region_code',\n",
    "           'customer', 'customer_inn', 'customer_name', 'supplier_dict', 'suppliers',\n",
    "           'products']\n",
    "\n",
    "work = pd.DataFrame(data, columns=headers)"
   ]
  },
  {
   "cell_type": "code",
   "execution_count": null,
   "id": "daba555a",
   "metadata": {},
   "outputs": [],
   "source": [
    "work.head(5)"
   ]
  },
  {
   "cell_type": "code",
   "execution_count": null,
   "id": "1ad6e332",
   "metadata": {},
   "outputs": [],
   "source": []
  },
  {
   "cell_type": "code",
   "execution_count": null,
   "id": "90fbc98d",
   "metadata": {},
   "outputs": [],
   "source": []
  }
 ],
 "metadata": {
  "kernelspec": {
   "display_name": "Python 3",
   "language": "python",
   "name": "python3"
  },
  "language_info": {
   "codemirror_mode": {
    "name": "ipython",
    "version": 3
   },
   "file_extension": ".py",
   "mimetype": "text/x-python",
   "name": "python",
   "nbconvert_exporter": "python",
   "pygments_lexer": "ipython3",
   "version": "3.8.8"
  }
 },
 "nbformat": 4,
 "nbformat_minor": 5
}
