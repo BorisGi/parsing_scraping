{
 "cells": [
  {
   "cell_type": "code",
   "execution_count": null,
   "id": "59ba596b",
   "metadata": {},
   "outputs": [],
   "source": []
  },
  {
   "cell_type": "markdown",
   "id": "bde1afdd",
   "metadata": {},
   "source": [
    "### Библиотеки и настройки"
   ]
  },
  {
   "cell_type": "code",
   "execution_count": null,
   "id": "e795c308",
   "metadata": {},
   "outputs": [],
   "source": [
    "# для запросов\n",
    "import requests\n",
    "\n",
    "# для работы с JSON\n",
    "import json\n",
    "\n",
    "# для работы с папками\n",
    "import os\n",
    "\n",
    "# \n",
    "from datetime import timedelta, date\n",
    "\n",
    "# для дафреймов\n",
    "import pandas as pd"
   ]
  },
  {
   "cell_type": "code",
   "execution_count": null,
   "id": "c186e1e1",
   "metadata": {},
   "outputs": [],
   "source": [
    "# пути к папкам\n",
    "\n",
    "file_path = 'C:/00_Data/test/'"
   ]
  },
  {
   "cell_type": "code",
   "execution_count": null,
   "id": "0fb92794",
   "metadata": {},
   "outputs": [],
   "source": [
    "# рекурсия для поиска значений\n",
    "\n",
    "def recurs_find_key(key, obj):\n",
    "    if key in obj:\n",
    "        return obj[key]\n",
    "    \n",
    "    for k, v in obj.items():\n",
    "        if type(v) == dict:\n",
    "            result = recurs_find_key(key, v)\n",
    "            \n",
    "            if result is not None:\n",
    "                return result "
   ]
  },
  {
   "cell_type": "code",
   "execution_count": null,
   "id": "7dd2abab",
   "metadata": {},
   "outputs": [],
   "source": [
    "# функция запроса\n",
    "\n",
    "def get_contracts(**kwargs):\n",
    "    \n",
    "    try:\n",
    "        url = 'http://openapi.clearspending.ru/restapi/v3/contracts/search/'\n",
    "        params = {**kwargs}\n",
    "        data = requests.get(url, params).json()\n",
    "        \n",
    "    except:\n",
    "        print('Не отдает данные')\n",
    "    \n",
    "    return data"
   ]
  },
  {
   "cell_type": "code",
   "execution_count": null,
   "id": "c9454f88",
   "metadata": {},
   "outputs": [],
   "source": [
    "def get_week(day=None):\n",
    "    \n",
    "    if day == None:\n",
    "        start_date = date.today()\n",
    "        \n",
    "    else:\n",
    "        start_date = datetime.datetime.strptime(day, \"%d.%m.%Y\" )\n",
    "        \n",
    "    end_date = start_date - timedelta(weeks=1)\n",
    "    \n",
    "    date_range = f'{end_date.strftime(\"%d.%m.%Y\")}-{start_date.strftime(\"%d.%m.%Y\")}'\n",
    "    \n",
    "    return date_range"
   ]
  },
  {
   "cell_type": "code",
   "execution_count": null,
   "id": "cb590157",
   "metadata": {},
   "outputs": [],
   "source": []
  },
  {
   "cell_type": "code",
   "execution_count": null,
   "id": "5731282c",
   "metadata": {},
   "outputs": [],
   "source": [
    "result = get_contracts(daterange=get_week())"
   ]
  },
  {
   "cell_type": "code",
   "execution_count": null,
   "id": "61aaaef8",
   "metadata": {},
   "outputs": [],
   "source": []
  },
  {
   "cell_type": "code",
   "execution_count": null,
   "id": "092e8cad",
   "metadata": {},
   "outputs": [],
   "source": [
    "for contract in all_data:\n",
    "    contract_url = recurs_find_key('contractUrl', contract)\n",
    "    sign_date = recurs_find_key('signDate', contract)\n",
    "    num_reg = recurs_find_key('regNum', contract)\n",
    "    price = recurs_find_key('price', contract)\n",
    "    region_code = recurs_find_key('RegionCode', contract)\n",
    "    customer = recurs_find_key('customer', contract)\n",
    "    customer_inn = recurs_find_key('inn', customer)\n",
    "    customer_name = recurs_find_key('fullName', customer)\n",
    "    supplier_dict = {}\n",
    "    suppliers = recurs_find_key('suppliers', contract)\n",
    "    \n",
    "    for supplier in suppliers:\n",
    "        supplier_inn = recurs_find_key('inn', supplier)\n",
    "        supplier_name = recurs_find_key('organizationName', supplier)\n",
    "        supplier_dict[supplier_inn] = supplier_name\n",
    "    \n",
    "    products = recurs_find_key('products', contract)\n",
    "    \n",
    "    subjects = ';'.join([recurs_find_key('name', product) for product in products])"
   ]
  },
  {
   "cell_type": "code",
   "execution_count": null,
   "id": "1ad6e332",
   "metadata": {},
   "outputs": [],
   "source": []
  },
  {
   "cell_type": "code",
   "execution_count": null,
   "id": "90fbc98d",
   "metadata": {},
   "outputs": [],
   "source": []
  },
  {
   "cell_type": "code",
   "execution_count": null,
   "id": "fc0ad016",
   "metadata": {},
   "outputs": [],
   "source": [
    "with open(file_path + 'kaluga.json', 'w') as json_file:\n",
    "    json.dump(result, json_file)    "
   ]
  },
  {
   "cell_type": "code",
   "execution_count": null,
   "id": "af431133",
   "metadata": {},
   "outputs": [],
   "source": [
    "all_data = result['contracts']['data']"
   ]
  },
  {
   "cell_type": "code",
   "execution_count": null,
   "id": "c4e6db70",
   "metadata": {},
   "outputs": [],
   "source": []
  },
  {
   "cell_type": "code",
   "execution_count": null,
   "id": "9874f1ac",
   "metadata": {},
   "outputs": [],
   "source": []
  },
  {
   "cell_type": "code",
   "execution_count": null,
   "id": "033cc2fe",
   "metadata": {},
   "outputs": [],
   "source": [
    "get_week()"
   ]
  },
  {
   "cell_type": "code",
   "execution_count": null,
   "id": "062f9067",
   "metadata": {},
   "outputs": [],
   "source": []
  },
  {
   "cell_type": "code",
   "execution_count": null,
   "id": "5b51b4cd",
   "metadata": {},
   "outputs": [],
   "source": [
    "import logging"
   ]
  },
  {
   "cell_type": "code",
   "execution_count": null,
   "id": "0e7f37a5",
   "metadata": {},
   "outputs": [],
   "source": []
  },
  {
   "cell_type": "code",
   "execution_count": null,
   "id": "7ebb2451",
   "metadata": {},
   "outputs": [],
   "source": []
  },
  {
   "cell_type": "code",
   "execution_count": null,
   "id": "92ed0f5f",
   "metadata": {},
   "outputs": [],
   "source": []
  }
 ],
 "metadata": {
  "kernelspec": {
   "display_name": "Python 3",
   "language": "python",
   "name": "python3"
  },
  "language_info": {
   "codemirror_mode": {
    "name": "ipython",
    "version": 3
   },
   "file_extension": ".py",
   "mimetype": "text/x-python",
   "name": "python",
   "nbconvert_exporter": "python",
   "pygments_lexer": "ipython3",
   "version": "3.8.8"
  }
 },
 "nbformat": 4,
 "nbformat_minor": 5
}
