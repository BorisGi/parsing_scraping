{
 "cells": [
  {
   "cell_type": "code",
   "execution_count": null,
   "id": "2aa7237a",
   "metadata": {},
   "outputs": [],
   "source": [
    "# для работы с файлами и папками\n",
    "import os\n",
    "\n",
    "# прогресс-бар\n",
    "from tqdm.notebook import trange, tqdm\n",
    "\n",
    "import pandas as pd"
   ]
  },
  {
   "cell_type": "code",
   "execution_count": null,
   "id": "3e45290e",
   "metadata": {},
   "outputs": [],
   "source": [
    "file_path = input()"
   ]
  },
  {
   "cell_type": "code",
   "execution_count": null,
   "id": "e812e4c8",
   "metadata": {},
   "outputs": [],
   "source": [
    "# C:/01_Projects/gun_russia/"
   ]
  },
  {
   "cell_type": "code",
   "execution_count": null,
   "id": "4e537ee1",
   "metadata": {},
   "outputs": [],
   "source": [
    "# вытаскиваю названия файлов в список file_list\n",
    "\n",
    "file_list = []\n",
    "\n",
    "for root, dirs, files in os.walk(file_path):\n",
    "    \n",
    "    for filename in files:\n",
    "        file_list += [filename]"
   ]
  },
  {
   "cell_type": "code",
   "execution_count": null,
   "id": "598e1985",
   "metadata": {},
   "outputs": [],
   "source": [
    "# список файлов\n",
    "\n",
    "file_list"
   ]
  },
  {
   "cell_type": "code",
   "execution_count": null,
   "id": "58307bae",
   "metadata": {},
   "outputs": [],
   "source": [
    "need_file = input()"
   ]
  },
  {
   "cell_type": "code",
   "execution_count": null,
   "id": "f5bd4188",
   "metadata": {},
   "outputs": [],
   "source": [
    "work = pd.read_csv(file_path + need_file)"
   ]
  },
  {
   "cell_type": "code",
   "execution_count": null,
   "id": "f83eb9fc",
   "metadata": {},
   "outputs": [],
   "source": [
    "work.head(2)"
   ]
  },
  {
   "cell_type": "code",
   "execution_count": null,
   "id": "b242919c",
   "metadata": {},
   "outputs": [],
   "source": [
    "# разделяю первый столбец и создаю датафрейм\n",
    "\n",
    "work_new = work['title'].str.split('\\n',expand=True)\n",
    "\n",
    "work_new = work_new.rename(columns={0:'short_name', 1:'full_name'})"
   ]
  },
  {
   "cell_type": "code",
   "execution_count": null,
   "id": "006c15f8",
   "metadata": {},
   "outputs": [],
   "source": [
    "work_new.shape"
   ]
  },
  {
   "cell_type": "code",
   "execution_count": null,
   "id": "d47a5f17",
   "metadata": {},
   "outputs": [],
   "source": [
    "# добавляю фреймы\n",
    "\n",
    "work_new = pd.concat([work_new, work['inn']], axis=1)"
   ]
  },
  {
   "cell_type": "code",
   "execution_count": null,
   "id": "eea930b7",
   "metadata": {},
   "outputs": [],
   "source": [
    "# разбираю инфо по 2019\n",
    "\n",
    "temp = work['info_2019'].str.split('\\n',expand=True)\n",
    "\n",
    "# удаляю ненужные текстовые столбцы, \"Уставной капитал\" и \"Активы\"\n",
    "temp.drop(columns=[8, 10], inplace=True)\n",
    "\n",
    "# даю осмысленные названия столбцам\n",
    "temp = temp.rename(columns={0: 'work_start_2019', 1: 'activity_2019', 2: 'main_okved_2019',\n",
    "                            3: 'address_2019',\n",
    "                            4: 'inn_2019', 5: 'kpp_2019', 6: 'ogrn_2019', 7: 'okopf_2019',\n",
    "                            9: 'auth_capital_2019', 11: 'assets_2019'})\n",
    "\n",
    "# объединяю фреймы\n",
    "work_new = pd.concat([work_new, temp], axis=1)"
   ]
  },
  {
   "cell_type": "code",
   "execution_count": null,
   "id": "230f90f1",
   "metadata": {},
   "outputs": [],
   "source": [
    "# разбираю инфо по 2020\n",
    "\n",
    "temp = work['info_2020'].str.split('\\n',expand=True)\n",
    "\n",
    "# удаляю ненужные текстовые столбцы, \"Уставной капитал\" и \"Активы\"\n",
    "temp.drop(columns=[8, 10], inplace=True)\n",
    "\n",
    "# даю осмысленные названия столбцам\n",
    "temp = temp.rename(columns={0: 'work_start_2020', 1: 'activity_2020', 2: 'main_okved_2020',\n",
    "                            3: 'address_2020',\n",
    "                            4: 'inn_2020', 5: 'kpp_2020', 6: 'ogrn_2020', 7: 'okopf_2020',\n",
    "                            9: 'auth_capital_2020', 11: 'assets_2020'})\n",
    "\n",
    "# объединяю фреймы\n",
    "work_new = pd.concat([work_new, temp], axis=1)"
   ]
  },
  {
   "cell_type": "code",
   "execution_count": null,
   "id": "7ff479b2",
   "metadata": {},
   "outputs": [],
   "source": [
    "work_new.shape"
   ]
  },
  {
   "cell_type": "code",
   "execution_count": null,
   "id": "7e4b4019",
   "metadata": {},
   "outputs": [],
   "source": [
    "work_new.head()"
   ]
  },
  {
   "cell_type": "code",
   "execution_count": null,
   "id": "170cb9f3",
   "metadata": {},
   "outputs": [],
   "source": [
    "work.head(3)"
   ]
  },
  {
   "cell_type": "code",
   "execution_count": null,
   "id": "ccc00bb3",
   "metadata": {},
   "outputs": [],
   "source": [
    "# добавляю фреймы\n",
    "\n",
    "work_new = pd.concat([work_new, work['info_bfo_2019']], axis=1)"
   ]
  },
  {
   "cell_type": "code",
   "execution_count": null,
   "id": "affbfedc",
   "metadata": {},
   "outputs": [],
   "source": [
    "work_new = pd.concat([work_new, work['info_bfo_2020']], axis=1)"
   ]
  },
  {
   "cell_type": "code",
   "execution_count": null,
   "id": "981db282",
   "metadata": {},
   "outputs": [],
   "source": [
    "work_new.to_excel(file_path + 'temp.xlsx')"
   ]
  },
  {
   "cell_type": "code",
   "execution_count": null,
   "id": "43e4fa61",
   "metadata": {},
   "outputs": [],
   "source": []
  }
 ],
 "metadata": {
  "kernelspec": {
   "display_name": "Python 3 (ipykernel)",
   "language": "python",
   "name": "python3"
  },
  "language_info": {
   "codemirror_mode": {
    "name": "ipython",
    "version": 3
   },
   "file_extension": ".py",
   "mimetype": "text/x-python",
   "name": "python",
   "nbconvert_exporter": "python",
   "pygments_lexer": "ipython3",
   "version": "3.9.7"
  }
 },
 "nbformat": 4,
 "nbformat_minor": 5
}
