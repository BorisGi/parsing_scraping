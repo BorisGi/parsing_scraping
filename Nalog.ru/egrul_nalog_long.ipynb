{
 "cells": [
  {
   "cell_type": "markdown",
   "id": "7d5804e8",
   "metadata": {},
   "source": [
    "## О скрипте ##\n",
    "\n",
    "Скрипт выгружает выписки из ЕГРЮЛ с https://egrul.nalog.ru/index.html\n",
    "\n",
    "Последние правки скрипта: 2022-01-13"
   ]
  },
  {
   "cell_type": "code",
   "execution_count": null,
   "id": "aa497c9e",
   "metadata": {},
   "outputs": [],
   "source": []
  },
  {
   "cell_type": "markdown",
   "id": "f36201fc",
   "metadata": {},
   "source": [
    "## Библиотеки и нужные настройки ##"
   ]
  },
  {
   "cell_type": "code",
   "execution_count": null,
   "id": "d34f9bc1",
   "metadata": {
    "scrolled": true
   },
   "outputs": [],
   "source": [
    "#Загружаю нужные библиотеки\n",
    "\n",
    "import pandas as pd\n",
    "import math\n",
    "import os\n",
    "\n",
    "# для юзер-агента\n",
    "from fake_useragent import UserAgent\n",
    "\n",
    "# прогресс-бар\n",
    "from tqdm.notebook import trange, tqdm\n",
    "\n",
    "# для пауз при парсинге\n",
    "from time import sleep\n",
    "\n",
    "# селениум\n",
    "from selenium import webdriver\n",
    "from selenium.webdriver.chrome.service import Service\n",
    "\n",
    "from selenium.common.exceptions import NoSuchElementException\n",
    "from selenium.webdriver.common.by import By\n",
    "from selenium.webdriver.support.ui import WebDriverWait\n",
    "from selenium.webdriver.support import expected_conditions as EC"
   ]
  },
  {
   "cell_type": "code",
   "execution_count": null,
   "id": "403dea7a",
   "metadata": {
    "scrolled": true
   },
   "outputs": [],
   "source": [
    "# настройки юзер-агента\n",
    "\n",
    "ua = UserAgent()\n",
    "\n",
    "# юзер-агент для Хрома\n",
    "user_agent = ua.chrome"
   ]
  },
  {
   "cell_type": "code",
   "execution_count": null,
   "id": "76634820",
   "metadata": {
    "scrolled": true
   },
   "outputs": [],
   "source": [
    "test_url = 'https://intoli.com/blog/not-possible-to-block-chrome-headless/chrome-headless-test.html'"
   ]
  },
  {
   "cell_type": "code",
   "execution_count": null,
   "id": "6ee88043",
   "metadata": {},
   "outputs": [],
   "source": [
    "# загружаю список прокси\n",
    "# список простой текстовый файл, который содержит прокси в формате: адрес:порт логин:пароль\n",
    "\n",
    "proxy_list = []\n",
    "\n",
    "with open('C:/work/proxy_list.txt', 'r') as f:\n",
    "    for line in f:\n",
    "        proxy_list += [line.split()]\n",
    "        \n",
    "print('Рабочих прокси — ' + str(len(proxy_list)))"
   ]
  },
  {
   "cell_type": "code",
   "execution_count": null,
   "id": "2b83f3a2",
   "metadata": {},
   "outputs": [],
   "source": [
    "# номер прокси\n",
    "\n",
    "print('Номер прокси, от 0 до ' + str(len(proxy_list) - 1))\n",
    "proxy_number = int(input())"
   ]
  },
  {
   "cell_type": "code",
   "execution_count": null,
   "id": "023ac99e",
   "metadata": {
    "scrolled": true
   },
   "outputs": [],
   "source": [
    "# настройки веб-драйвера, чтобы скрыть автоматическое управление\n",
    "\n",
    "opt = webdriver.ChromeOptions()\n",
    "opt.add_argument(f'user-agent={user_agent}')\n",
    "opt.add_argument('--disable-blink-features')\n",
    "opt.add_argument('--disable-blink-features=AutomationControlled')\n",
    "#opt.add_argument(f'--proxy-server={proxy_list[proxy_number][0]}') # \"девственный\" прокси(:\n",
    "opt.add_experimental_option(\"excludeSwitches\", [\"enable-automation\"]) # отключает строку про удаленное управление\n",
    "opt.add_experimental_option('useAutomationExtension', False)"
   ]
  },
  {
   "cell_type": "code",
   "execution_count": null,
   "id": "651c0bbb",
   "metadata": {},
   "outputs": [],
   "source": [
    "print('Login: ' + proxy_list[proxy_number][1])\n",
    "print('Pass: ' + proxy_list[proxy_number][2])"
   ]
  },
  {
   "cell_type": "code",
   "execution_count": null,
   "id": "ecc4ecdb",
   "metadata": {},
   "outputs": [],
   "source": [
    "# запускаю драйвер, проверяю настройки\n",
    "\n",
    "s=Service('C:/Users/bgi/Anaconda3/chromedriver/chromedriver.exe')\n",
    "driver = webdriver.Chrome(service=s, options=opt)\n",
    "\n",
    "#driver = webdriver.Chrome(options=opt)\n",
    "driver.get(test_url)\n",
    "driver.maximize_window() # раскрываю окно на максимум"
   ]
  },
  {
   "cell_type": "code",
   "execution_count": null,
   "id": "4f509f6f",
   "metadata": {},
   "outputs": [],
   "source": []
  },
  {
   "cell_type": "markdown",
   "id": "29b20948",
   "metadata": {},
   "source": [
    "## Список ИНН ##\n",
    "\n",
    "В моем случае датасет в Экселе со столбцом \"ИНН\", который я конвертирую в список.\n",
    "\n",
    "**Важно** ИНН я храню в формате \"ИНН: 0666..\", чтобы не возиться с форматами и \"пропадающими\" нулями. Если хранить ИНН как последовательность цифр, при выгрузке \"0\" в начале неизбежно исчезнут, так как по умолчанию Питон решит, что числа (int или float)."
   ]
  },
  {
   "cell_type": "code",
   "execution_count": null,
   "id": "f5ec7f6b",
   "metadata": {},
   "outputs": [],
   "source": [
    "# путь к папке\n",
    "\n",
    "file_path = 'C:/' + input() + '/'"
   ]
  },
  {
   "cell_type": "code",
   "execution_count": null,
   "id": "588c608e",
   "metadata": {},
   "outputs": [],
   "source": [
    "# вытаскиваю названия файлов в список file_list\n",
    "\n",
    "file_list = []\n",
    "\n",
    "for root, dirs, files in os.walk(file_path):\n",
    "    \n",
    "    for filename in files:\n",
    "        file_list += [filename]"
   ]
  },
  {
   "cell_type": "code",
   "execution_count": null,
   "id": "8f4cc1ee",
   "metadata": {},
   "outputs": [],
   "source": [
    "# список файлов\n",
    "\n",
    "file_list"
   ]
  },
  {
   "cell_type": "code",
   "execution_count": null,
   "id": "4acce32f",
   "metadata": {},
   "outputs": [],
   "source": [
    "need_file = input()"
   ]
  },
  {
   "cell_type": "code",
   "execution_count": null,
   "id": "8a7db7d6",
   "metadata": {},
   "outputs": [],
   "source": [
    "# список листов\n",
    "\n",
    "pd.read_excel(file_path + need_file, None).keys()"
   ]
  },
  {
   "cell_type": "code",
   "execution_count": null,
   "id": "d44db333",
   "metadata": {},
   "outputs": [],
   "source": [
    "need_sheet = input()"
   ]
  },
  {
   "cell_type": "code",
   "execution_count": null,
   "id": "984d1f2c",
   "metadata": {},
   "outputs": [],
   "source": [
    "# загружаю данные\n",
    "\n",
    "work_inn = pd.read_excel(file_path + need_file, sheet_name=need_sheet)"
   ]
  },
  {
   "cell_type": "code",
   "execution_count": null,
   "id": "9e27e1dc",
   "metadata": {},
   "outputs": [],
   "source": [
    "# создаю список ссылок\n",
    "\n",
    "inn_list = list(work_inn['inn'].unique())"
   ]
  },
  {
   "cell_type": "code",
   "execution_count": null,
   "id": "7ad2bd49",
   "metadata": {},
   "outputs": [],
   "source": [
    "len(inn_list)"
   ]
  },
  {
   "cell_type": "code",
   "execution_count": null,
   "id": "429caef0",
   "metadata": {},
   "outputs": [],
   "source": []
  },
  {
   "cell_type": "markdown",
   "id": "e7ede33e",
   "metadata": {},
   "source": [
    "## Загружаю выписки ##"
   ]
  },
  {
   "cell_type": "code",
   "execution_count": null,
   "id": "ec3acf02",
   "metadata": {
    "scrolled": true
   },
   "outputs": [],
   "source": [
    "# ссылка на сайт налоговой\n",
    "\n",
    "url = 'https://egrul.nalog.ru/index.html'"
   ]
  },
  {
   "cell_type": "code",
   "execution_count": null,
   "id": "1567a43f",
   "metadata": {
    "scrolled": true
   },
   "outputs": [],
   "source": [
    "# открываю сайт налоговой\n",
    "\n",
    "driver.get(url)\n",
    "sleep(3)"
   ]
  },
  {
   "cell_type": "code",
   "execution_count": null,
   "id": "5d844c50",
   "metadata": {},
   "outputs": [],
   "source": []
  },
  {
   "cell_type": "markdown",
   "id": "11b5265e",
   "metadata": {},
   "source": [
    "### Код парсера ###"
   ]
  },
  {
   "cell_type": "markdown",
   "id": "b4ec9a7c",
   "metadata": {},
   "source": [
    "Данные об ИНН беру с 6-го символа, т.е. собственно ИНН."
   ]
  },
  {
   "cell_type": "code",
   "execution_count": null,
   "id": "70649a07",
   "metadata": {},
   "outputs": [],
   "source": []
  },
  {
   "cell_type": "code",
   "execution_count": null,
   "id": "27f093d8",
   "metadata": {
    "scrolled": true
   },
   "outputs": [],
   "source": [
    "#data = [] # список для данных\n",
    "\n",
    "for inn in tqdm(inn_list[198:200]):\n",
    "\n",
    "    driver.find_element(By.ID, 'uni_text_1').find_element(By.ID, 'query').send_keys(inn[5:]) # \"вбиваю\" ИНН\n",
    "    driver.find_element(By.ID, 'btnSearch').click() # нажимаю кнопку \"Найти\"\n",
    "    sleep(1)\n",
    "    \n",
    "    try:\n",
    "        driver.find_element(By.CLASS_NAME, 'res-caption').find_element(By.TAG_NAME, 'a').click()\n",
    "        check = 1\n",
    "        \n",
    "    except:\n",
    "        check = 0\n",
    "        pass\n",
    "    \n",
    "    close_cross = driver.find_element(By.ID, 'uni_text_0') # крестик в поисковой строке\n",
    "    webdriver.ActionChains(driver).click_and_hold(close_cross).perform()\n",
    "    sleep(5)\n",
    "\n",
    "    close_cross.click() # очищаю поле\n",
    "    \n",
    "    data.append([inn, check]) # добавляю в список"
   ]
  },
  {
   "cell_type": "code",
   "execution_count": null,
   "id": "ee5e909a",
   "metadata": {
    "scrolled": true
   },
   "outputs": [],
   "source": [
    "# Записываю в датафрейм\n",
    "\n",
    "head_list = ['inn', 'check']\n",
    "\n",
    "work_info = pd.DataFrame(data, columns=head_list)"
   ]
  },
  {
   "cell_type": "code",
   "execution_count": null,
   "id": "dcfce368",
   "metadata": {
    "scrolled": true
   },
   "outputs": [],
   "source": [
    "work_info.shape"
   ]
  },
  {
   "cell_type": "code",
   "execution_count": null,
   "id": "ddde21b5",
   "metadata": {
    "scrolled": true
   },
   "outputs": [],
   "source": [
    "work_info.tail(3)"
   ]
  },
  {
   "cell_type": "code",
   "execution_count": null,
   "id": "13b15be0",
   "metadata": {
    "scrolled": true
   },
   "outputs": [],
   "source": [
    "work_info.to_excel('C:/00_Data/temp.xlsx', encoding='utf8', index=False)"
   ]
  },
  {
   "cell_type": "code",
   "execution_count": null,
   "id": "3fa11b94",
   "metadata": {
    "scrolled": true
   },
   "outputs": [],
   "source": []
  },
  {
   "cell_type": "code",
   "execution_count": null,
   "id": "719be13e",
   "metadata": {},
   "outputs": [],
   "source": [
    "file_path + '/Data/inn/'"
   ]
  },
  {
   "cell_type": "code",
   "execution_count": null,
   "id": "5206c5ae",
   "metadata": {},
   "outputs": [],
   "source": []
  },
  {
   "cell_type": "markdown",
   "id": "23aac612",
   "metadata": {},
   "source": [
    "### Исправляю ошибочные ИНН ###"
   ]
  },
  {
   "cell_type": "markdown",
   "id": "52453486",
   "metadata": {},
   "source": [
    "Часть ИНН по которым нет данных, просто уазаны с ошибкой. Проверяю их по ОГРН."
   ]
  },
  {
   "cell_type": "code",
   "execution_count": null,
   "id": "be8e9b31",
   "metadata": {},
   "outputs": [],
   "source": [
    "work_inn_1 = pd.read_excel('C:/00_Data/inn_info_all.xlsx')"
   ]
  },
  {
   "cell_type": "code",
   "execution_count": null,
   "id": "306b83a6",
   "metadata": {},
   "outputs": [],
   "source": [
    "work_inn_1 = work_inn_1[work_inn_1.of_name == 'none']"
   ]
  },
  {
   "cell_type": "code",
   "execution_count": null,
   "id": "6a8d1d74",
   "metadata": {},
   "outputs": [],
   "source": [
    "# создаю список ИНН (ИНН повторяются)\n",
    "\n",
    "ogrn_list = list(set(work_inn_1['ogrn']))\n",
    "ogrn_list.sort()"
   ]
  },
  {
   "cell_type": "code",
   "execution_count": null,
   "id": "2baf9238",
   "metadata": {},
   "outputs": [],
   "source": [
    "len(ogrn_list)"
   ]
  },
  {
   "cell_type": "code",
   "execution_count": null,
   "id": "34aa65f0",
   "metadata": {},
   "outputs": [],
   "source": [
    "ogrn_list"
   ]
  },
  {
   "cell_type": "code",
   "execution_count": null,
   "id": "009779f1",
   "metadata": {},
   "outputs": [],
   "source": [
    "data = [] # список для данных\n",
    "\n",
    "for ogrn in tqdm(ogrn_list):\n",
    "    \n",
    "    driver.find_element_by_id('uni_text_1').find_element_by_id('query').send_keys(ogrn[5:]) # \"вбиваю\" ОГРН\n",
    "    driver.find_element_by_id('btnSearch').click() # нажимаю кнопку \"Найти\"\n",
    "    sleep(3)\n",
    "    \n",
    "    try:\n",
    "        of_name = driver.find_element_by_class_name('res-caption').text\n",
    "        inn_info = driver.find_element_by_class_name('res-text').text # забираю текст\n",
    "        \n",
    "    except:\n",
    "        of_name = 'none'\n",
    "        inn_info = 'none'\n",
    "        \n",
    "    driver.find_element_by_id('uni_text_0').click() # нажимаю крестик в поисковой строке, чтобы очистить\n",
    "    \n",
    "    data.append([ogrn, of_name, inn_info]) # добавляю в список"
   ]
  },
  {
   "cell_type": "code",
   "execution_count": null,
   "id": "94d5f620",
   "metadata": {},
   "outputs": [],
   "source": [
    "# Записываю в датафрейм\n",
    "\n",
    "head_list = ['ogrn', 'of_name', 'inn_info']\n",
    "\n",
    "work_info = pd.DataFrame(data, columns=head_list)"
   ]
  },
  {
   "cell_type": "code",
   "execution_count": null,
   "id": "55001811",
   "metadata": {},
   "outputs": [],
   "source": [
    "work_info"
   ]
  },
  {
   "cell_type": "code",
   "execution_count": null,
   "id": "9c4deeb4",
   "metadata": {},
   "outputs": [],
   "source": [
    "work_info.to_excel('C:/00_Data/inn_info_1.xlsx', encoding='utf8', index=False)"
   ]
  },
  {
   "cell_type": "code",
   "execution_count": null,
   "id": "5f344b53",
   "metadata": {
    "scrolled": true
   },
   "outputs": [],
   "source": [
    "driver.quit()"
   ]
  },
  {
   "cell_type": "code",
   "execution_count": null,
   "id": "f6773b22",
   "metadata": {
    "scrolled": true
   },
   "outputs": [],
   "source": []
  }
 ],
 "metadata": {
  "kernelspec": {
   "display_name": "Python 3",
   "language": "python",
   "name": "python3"
  },
  "language_info": {
   "codemirror_mode": {
    "name": "ipython",
    "version": 3
   },
   "file_extension": ".py",
   "mimetype": "text/x-python",
   "name": "python",
   "nbconvert_exporter": "python",
   "pygments_lexer": "ipython3",
   "version": "3.8.8"
  }
 },
 "nbformat": 4,
 "nbformat_minor": 5
}
