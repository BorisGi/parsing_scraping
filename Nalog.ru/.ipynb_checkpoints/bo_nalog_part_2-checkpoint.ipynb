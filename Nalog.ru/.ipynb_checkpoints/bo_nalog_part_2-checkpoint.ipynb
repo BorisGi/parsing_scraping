{
 "cells": [
  {
   "cell_type": "markdown",
   "id": "7d5804e8",
   "metadata": {},
   "source": [
    "Скрипт собирает данные финансовой отчетности предприятий с сайта налоговой https://bo.nalog.ru/\n",
    "\n",
    "Скрипт выгружает только общую информацию и финансовый отчет за 3 года."
   ]
  },
  {
   "cell_type": "markdown",
   "id": "7f72bcc1",
   "metadata": {},
   "source": [
    "## Библиотеки и настройки ##"
   ]
  },
  {
   "cell_type": "code",
   "execution_count": null,
   "id": "d34f9bc1",
   "metadata": {},
   "outputs": [],
   "source": [
    "#Загружаю нужные библиотеки\n",
    "\n",
    "import pandas as pd\n",
    "import math\n",
    "import os\n",
    "\n",
    "# для юзер-агента\n",
    "from fake_useragent import UserAgent\n",
    "\n",
    "# прогресс-бар\n",
    "from tqdm.notebook import trange, tqdm\n",
    "\n",
    "# для пауз при парсинге\n",
    "from time import sleep\n",
    "\n",
    "# селениум\n",
    "from selenium.webdriver import Chrome\n",
    "from selenium.webdriver.chrome.service import Service\n",
    "from selenium import webdriver\n",
    "\n",
    "from selenium.common.exceptions import NoSuchElementException\n",
    "from selenium.webdriver.common.by import By\n",
    "from selenium.webdriver.support.ui import WebDriverWait\n",
    "from selenium.webdriver.support import expected_conditions as EC"
   ]
  },
  {
   "cell_type": "code",
   "execution_count": null,
   "id": "403dea7a",
   "metadata": {},
   "outputs": [],
   "source": [
    "# настройки юзер-агента\n",
    "\n",
    "ua = UserAgent()\n",
    "\n",
    "# юзер-агент для Хрома\n",
    "user_agent = ua.chrome"
   ]
  },
  {
   "cell_type": "code",
   "execution_count": null,
   "id": "76634820",
   "metadata": {},
   "outputs": [],
   "source": [
    "test_url = 'https://intoli.com/blog/not-possible-to-block-chrome-headless/chrome-headless-test.html'"
   ]
  },
  {
   "cell_type": "code",
   "execution_count": null,
   "id": "a1e844ab",
   "metadata": {},
   "outputs": [],
   "source": [
    "# путь к файлам\n",
    "\n",
    "file_path = 'C:/' + input() + '/'\n",
    "proxy_list_path = 'C:/work/proxy_list.txt'"
   ]
  },
  {
   "cell_type": "code",
   "execution_count": null,
   "id": "63b2a657",
   "metadata": {},
   "outputs": [],
   "source": [
    "# загружаю список прокси\n",
    "# список простой текстовый файл, который содержит прокси в формате: адрес:порт логин:пароль\n",
    "\n",
    "proxy_list = []\n",
    "\n",
    "with open(proxy_list_path, 'r') as f:\n",
    "    for line in f:\n",
    "        proxy_list += [line.split()]"
   ]
  },
  {
   "cell_type": "code",
   "execution_count": null,
   "id": "34c02a0f",
   "metadata": {},
   "outputs": [],
   "source": [
    "print('Рабочих прокси — ' + str(len(proxy_list)))"
   ]
  },
  {
   "cell_type": "code",
   "execution_count": null,
   "id": "3c5f961a",
   "metadata": {},
   "outputs": [],
   "source": [
    "# выбираю прокси из списка\n",
    "\n",
    "print('Номер прокси, от 0 до ' + str(len(proxy_list) - 1))\n",
    "proxy_number = int(input())"
   ]
  },
  {
   "cell_type": "code",
   "execution_count": null,
   "id": "023ac99e",
   "metadata": {},
   "outputs": [],
   "source": [
    "# настройки веб-драйвера, чтобы скрыть автоматическое управление\n",
    "\n",
    "opt = webdriver.ChromeOptions()\n",
    "opt.add_argument(f'user-agent={user_agent}')\n",
    "opt.add_argument('--disable-blink-features')\n",
    "opt.add_argument('--disable-blink-features=AutomationControlled')\n",
    "#opt.add_argument(f'--proxy-server={proxy_list[proxy_number][0]}') # \"девственный\" прокси(:\n",
    "opt.add_experimental_option(\"excludeSwitches\", [\"enable-automation\"]) # отключает строку про удаленное управление\n",
    "opt.add_experimental_option('useAutomationExtension', False)"
   ]
  },
  {
   "cell_type": "code",
   "execution_count": null,
   "id": "4d2378ec",
   "metadata": {},
   "outputs": [],
   "source": [
    "print('Login: ' + proxy_list[proxy_number][1])\n",
    "print('Pass: ' + proxy_list[proxy_number][2])"
   ]
  },
  {
   "cell_type": "code",
   "execution_count": null,
   "id": "0ecedba3",
   "metadata": {},
   "outputs": [],
   "source": [
    "# запускаю драйвер, проверяю настройки\n",
    "\n",
    "driver = Chrome('C:/Users/bgi/Anaconda3/chromedriver/chromedriver', options=opt)\n",
    "\n",
    "#driver = webdriver.Chrome(options=opt)\n",
    "driver.get(test_url)\n",
    "driver.maximize_window() # раскрываю окно на максимум"
   ]
  },
  {
   "cell_type": "code",
   "execution_count": null,
   "id": "b15a4787",
   "metadata": {},
   "outputs": [],
   "source": []
  },
  {
   "cell_type": "markdown",
   "id": "a70e4049",
   "metadata": {},
   "source": [
    "### Функции ###\n",
    "\n",
    "Чтобы сделать код менее громоздким, повторяющиеся куски вынес в функции."
   ]
  },
  {
   "cell_type": "code",
   "execution_count": null,
   "id": "5ae962b0",
   "metadata": {},
   "outputs": [],
   "source": [
    "# функция закрывает окно-предупреждение\n",
    "\n",
    "def close_alert():\n",
    "    \n",
    "    try: # ищу предупреждение и нажимаю на крестик\n",
    "        driver.find_element(By.CLASS_NAME, 'short-info-bottom').find_element(By.TAG_NAME, 'svg').click()\n",
    "        \n",
    "    except:\n",
    "        pass  "
   ]
  },
  {
   "cell_type": "code",
   "execution_count": null,
   "id": "5fb36a73",
   "metadata": {},
   "outputs": [],
   "source": [
    "# функция собирает год отчета, это нужно чтобы не дублировать данные\n",
    "\n",
    "def parse_report_year():\n",
    "    report_year = (driver\n",
    "                   .find_element(By.CLASS_NAME, 'grid-reports-header-top__period')\n",
    "                   .find_element(By.CLASS_NAME, 'button_primary')).text\n",
    "    return report_year"
   ]
  },
  {
   "cell_type": "code",
   "execution_count": null,
   "id": "adda7dad",
   "metadata": {},
   "outputs": [],
   "source": [
    "# функция собирает общие данные юр.лица\n",
    "\n",
    "def parse_general_info():\n",
    "    # название компании\n",
    "    company_title = driver.find_element(By.CLASS_NAME, 'header-card__title').text\n",
    "    \n",
    "    # основная информация\n",
    "    company_info = driver.find_element(By.CLASS_NAME, 'header-card-content').text\n",
    "\n",
    "    # информация из БФО (почти тоже самое, но удобнее разбирать)\n",
    "    company_info_bfo = {} # словарь для данных о компании\n",
    "\n",
    "    company_info_blocks = driver.find_elements(By.CLASS_NAME, 'sticker')\n",
    "\n",
    "    for info in company_info_blocks: # циклом кладу все строки в словарь\n",
    "        company_info_bfo[info.find_element(By.CLASS_NAME, 'sticker__title').text] = (\n",
    "            info.find_element(By.CLASS_NAME, 'sticker__content').text)\n",
    "        \n",
    "    return [company_title, company_info, company_info_bfo, inn]"
   ]
  },
  {
   "cell_type": "code",
   "execution_count": null,
   "id": "1da29d6e",
   "metadata": {},
   "outputs": [],
   "source": [
    "# функция парсит данные фин.отчетности\n",
    "\n",
    "def profit_parse():\n",
    "    data_profit = [] # список данных о выручке и прибыли\n",
    "    \n",
    "    try:\n",
    "    \n",
    "        fin_table_rows = (driver\n",
    "                          .find_element(By.CLASS_NAME, 'grid-reports-item.is-open')\n",
    "                          .find_element(By.CLASS_NAME, 'tabulator-table')\n",
    "                          .find_elements(By.CLASS_NAME, 'tabulator-row')\n",
    "                         )\n",
    "\n",
    "        # разбираю блок на строки, из строки вытаскиваю нужные данные по названию ячейки\n",
    "        for table_row in fin_table_rows:     \n",
    "\n",
    "            # показатель\n",
    "            indicator = table_row.find_element(By.CLASS_NAME, 'tabulator-cell[tabulator-field=\"name\"]').text\n",
    "\n",
    "            # код показателя\n",
    "            code = table_row.find_element(By.CLASS_NAME, 'tabulator-cell[tabulator-field=\"code\"]').text\n",
    "\n",
    "            # текущий год и рост / падение от предыдущего\n",
    "            try:\n",
    "                current_year_list = (table_row.find_element(By.CLASS_NAME, 'tabulator-cell[tabulator-field=\"current\"]')\n",
    "                         .text.replace(' ', '').split('\\n'))\n",
    "\n",
    "            except:\n",
    "                current_year_list = ['none', ' none']\n",
    "\n",
    "\n",
    "            # предыдущий год\n",
    "            try:\n",
    "                previous_year = (table_row.find_element(By.CLASS_NAME, 'tabulator-cell[tabulator-field=\"previous\"]')\n",
    "                                     .text.replace(' ', ''))\n",
    "            except:\n",
    "                previous_year = 'none'\n",
    "\n",
    "            # разбиваю список текущего года на значение за год и процент от предыдущего\n",
    "            current_year = current_year_list[0]\n",
    "            try:\n",
    "                of_prev_year = current_year_list[1]\n",
    "\n",
    "            except:\n",
    "                of_prev_year = 'none'\n",
    "                \n",
    "            # добавляю данные в список\n",
    "            data_profit.append([indicator, code, current_year, of_prev_year, previous_year, inn])\n",
    "        \n",
    "    except:\n",
    "        indicator = code = current_year = of_prev_year = previous_year = 'no data'\n",
    "        data_profit.append([indicator, code, current_year, of_prev_year, previous_year, inn])\n",
    "        \n",
    "    return data_profit"
   ]
  },
  {
   "cell_type": "code",
   "execution_count": null,
   "id": "cd291196",
   "metadata": {},
   "outputs": [],
   "source": [
    "def close_open_windows():\n",
    "    h3_blocks = driver.find_elements(By.CLASS_NAME, 'grid-reports-item')\n",
    "    \n",
    "    for item in h3_blocks:\n",
    "        if (item.find_element(By.TAG_NAME, 'h3').text == 'Сведения об организации из БФО' or\n",
    "            item.find_element(By.TAG_NAME, 'h3').text == 'Отчет о финансовых результатах'):\n",
    "            \n",
    "            need_button = item.find_element(By.CLASS_NAME, 'button-toggle')\n",
    "            \n",
    "            webdriver.ActionChains(driver).click_and_hold(need_button).perform()\n",
    "            \n",
    "            need_button.click()\n",
    "            \n",
    "    pass"
   ]
  },
  {
   "cell_type": "code",
   "execution_count": null,
   "id": "e609c2ce",
   "metadata": {},
   "outputs": [],
   "source": []
  },
  {
   "cell_type": "markdown",
   "id": "c4a82a27",
   "metadata": {},
   "source": [
    "## Этап 2. Собираю данные со страниц ##"
   ]
  },
  {
   "cell_type": "markdown",
   "id": "1a1ef096",
   "metadata": {},
   "source": [
    "fgb"
   ]
  },
  {
   "cell_type": "code",
   "execution_count": null,
   "id": "5c6257e2",
   "metadata": {},
   "outputs": [],
   "source": [
    "# вытаскиваю названия файлов в список file_list\n",
    "\n",
    "file_list = []\n",
    "\n",
    "for root, dirs, files in os.walk(file_path):\n",
    "    \n",
    "    for filename in files:\n",
    "        file_list += [filename]"
   ]
  },
  {
   "cell_type": "code",
   "execution_count": null,
   "id": "241fb3f2",
   "metadata": {},
   "outputs": [],
   "source": [
    "file_list"
   ]
  },
  {
   "cell_type": "code",
   "execution_count": null,
   "id": "4e0c574b",
   "metadata": {},
   "outputs": [],
   "source": []
  },
  {
   "cell_type": "code",
   "execution_count": null,
   "id": "d2b0dd13",
   "metadata": {},
   "outputs": [],
   "source": [
    "# загружаю файл с ссылками\n",
    "\n",
    "work_links = pd.read_excel(file_path + 'lic_gun_trade.xlsx', sheet_name='inn_check')"
   ]
  },
  {
   "cell_type": "code",
   "execution_count": null,
   "id": "c51fea62",
   "metadata": {},
   "outputs": [],
   "source": [
    "work_links.head(3)"
   ]
  },
  {
   "cell_type": "code",
   "execution_count": null,
   "id": "401eb39e",
   "metadata": {},
   "outputs": [],
   "source": [
    "work_links.shape"
   ]
  },
  {
   "cell_type": "code",
   "execution_count": null,
   "id": "4f50f689",
   "metadata": {},
   "outputs": [],
   "source": [
    "# фильтрую\n",
    "\n",
    "work_links = work_links[\n",
    "    work_links.inn_page != 'none'\n",
    "]"
   ]
  },
  {
   "cell_type": "code",
   "execution_count": null,
   "id": "00a6b86b",
   "metadata": {},
   "outputs": [],
   "source": [
    "work_links.shape"
   ]
  },
  {
   "cell_type": "code",
   "execution_count": null,
   "id": "4cd5f764",
   "metadata": {},
   "outputs": [],
   "source": []
  },
  {
   "cell_type": "markdown",
   "id": "a5fb8a57",
   "metadata": {},
   "source": [
    "### Код парсера ###"
   ]
  },
  {
   "cell_type": "code",
   "execution_count": null,
   "id": "3f2074ef",
   "metadata": {},
   "outputs": [],
   "source": [
    "data_gen_info_2019 = [] # списки для общей информации\n",
    "data_gen_info_2020 = []\n",
    "\n",
    "data_profit_2019 = [] # списки данных о выручке и прибыли\n",
    "data_profit_2020 = []"
   ]
  },
  {
   "cell_type": "code",
   "execution_count": null,
   "id": "1065bc85",
   "metadata": {},
   "outputs": [],
   "source": [
    "# основной цикл для перебора строк\n",
    "for row_number in tqdm(range(300, 601)):\n",
    "    inn = work_links.iloc[row_number].inn[5:]\n",
    "    page_url = work_links.iloc[row_number].inn_page\n",
    "    \n",
    "    try:\n",
    "        driver.get(page_url)\n",
    "        sleep(2)\n",
    "        \n",
    "    except:\n",
    "        incorrect_inn += inn\n",
    "        \n",
    "    driver.implicitly_wait(10)\n",
    "    \n",
    "    # закрываю окно-предупреждение, если оно есть\n",
    "    close_alert()\n",
    "    \n",
    "    # собираю данные\n",
    "    \n",
    "    report_year = parse_report_year()\n",
    "    \n",
    "    if report_year == '2020':\n",
    "        # общие данные за 2020\n",
    "        data_gen_info_2020.append(parse_general_info())\n",
    "        \n",
    "        # закрываю первую вкладку и открываю фин. баланс\n",
    "        close_open_windows()\n",
    "        sleep(3)\n",
    "        \n",
    "        # собираю данные о выручке и прибыли за 2020\n",
    "        data_profit_2020.append(profit_parse())\n",
    "        \n",
    "       \n",
    "        # перехожу на отчет за 2019 год\n",
    "        (driver\n",
    "         .find_element(By.CLASS_NAME, 'grid-reports-header-top__period')\n",
    "         .find_element(By.CLASS_NAME, 'button.button_xs')\n",
    "        ).click()\n",
    "        \n",
    "        sleep(2)\n",
    "                \n",
    "    else: # если report_year уже 2019, просто пропускаю\n",
    "        pass\n",
    "        \n",
    "    # собираю общие данные за 2019 год\n",
    "    data_gen_info_2019.append(parse_general_info())\n",
    "    \n",
    "    # закрываю первую вкладку и открываю фин. баланс\n",
    "    close_open_windows()\n",
    "    sleep(2)\n",
    "            \n",
    "    # собираю данные о выручке и прибыли за 2019\n",
    "    data_profit_2019.append(profit_parse())"
   ]
  },
  {
   "cell_type": "code",
   "execution_count": null,
   "id": "4813624a",
   "metadata": {},
   "outputs": [],
   "source": []
  },
  {
   "cell_type": "code",
   "execution_count": null,
   "id": "9caa466b",
   "metadata": {},
   "outputs": [],
   "source": [
    "data_profit_2019_new = []\n",
    "data_profit_2020_new = []\n",
    "\n",
    "for item in data_profit_2019:\n",
    "    data_profit_2019_new += item\n",
    "    \n",
    "for item in data_profit_2020:\n",
    "    data_profit_2020_new += item   "
   ]
  },
  {
   "cell_type": "code",
   "execution_count": null,
   "id": "3e1d49c9",
   "metadata": {},
   "outputs": [],
   "source": [
    "# Записываю данные в датафреймы\n",
    "\n",
    "work_info_2019 = pd.DataFrame(data_gen_info_2019, columns=['title', 'info_2019', 'info_bfo_2019', 'inn'])\n",
    "\n",
    "work_info_2020 = pd.DataFrame(data_gen_info_2020, columns=['title', 'info_2020', 'info_bfo_2020', 'inn'])\n",
    "\n",
    "work_profit_2019 = pd.DataFrame(data_profit_2019_new, columns=['indicator', 'code', '2019', 'of_2018', '2018', 'inn'])\n",
    "\n",
    "work_profit_2020 = pd.DataFrame(data_profit_2020_new, columns=['indicator', 'code', '2020', 'of_2019', '2019_2', 'inn'])"
   ]
  },
  {
   "cell_type": "code",
   "execution_count": null,
   "id": "5531986a",
   "metadata": {},
   "outputs": [],
   "source": [
    "work_info_2020.head(2)"
   ]
  },
  {
   "cell_type": "code",
   "execution_count": null,
   "id": "afda4b98",
   "metadata": {},
   "outputs": [],
   "source": [
    "work_info_2019.head(2)"
   ]
  },
  {
   "cell_type": "code",
   "execution_count": null,
   "id": "673e4c73",
   "metadata": {},
   "outputs": [],
   "source": [
    "work_info = work_info_2020.merge(work_info_2019, on=['title', 'inn'], how='outer')"
   ]
  },
  {
   "cell_type": "code",
   "execution_count": null,
   "id": "8532c4db",
   "metadata": {},
   "outputs": [],
   "source": [
    "work_profit = work_profit_2020.merge(work_profit_2019, on=['indicator', 'code', 'inn'], how='outer')"
   ]
  },
  {
   "cell_type": "code",
   "execution_count": null,
   "id": "5c6a0886",
   "metadata": {},
   "outputs": [],
   "source": []
  },
  {
   "cell_type": "code",
   "execution_count": null,
   "id": "45de5076",
   "metadata": {},
   "outputs": [],
   "source": [
    "work_info.to_excel(file_path + 'gen_info_2.xlsx', encoding='utf8', index=False)\n",
    "work_profit.to_excel(file_path + 'fin_report_2.xlsx', encoding='utf8', index=False)\n",
    "\n",
    "work_info.to_csv(file_path + 'gen_info_2.csv', encoding='utf8', index=False)\n",
    "work_profit.to_csv(file_path + 'fin_report_2.csv', encoding='utf8', index=False)"
   ]
  },
  {
   "cell_type": "code",
   "execution_count": null,
   "id": "5f344b53",
   "metadata": {},
   "outputs": [],
   "source": [
    "driver.quit()"
   ]
  },
  {
   "cell_type": "code",
   "execution_count": null,
   "id": "84b86e49",
   "metadata": {},
   "outputs": [],
   "source": []
  }
 ],
 "metadata": {
  "kernelspec": {
   "display_name": "Python 3",
   "language": "python",
   "name": "python3"
  },
  "language_info": {
   "codemirror_mode": {
    "name": "ipython",
    "version": 3
   },
   "file_extension": ".py",
   "mimetype": "text/x-python",
   "name": "python",
   "nbconvert_exporter": "python",
   "pygments_lexer": "ipython3",
   "version": "3.8.8"
  }
 },
 "nbformat": 4,
 "nbformat_minor": 5
}
