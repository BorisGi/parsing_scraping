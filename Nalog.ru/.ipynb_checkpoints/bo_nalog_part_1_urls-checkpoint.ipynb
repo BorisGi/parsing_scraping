{
 "cells": [
  {
   "cell_type": "markdown",
   "id": "7d5804e8",
   "metadata": {},
   "source": [
    "Скрипт собирает данные финансовой отчетности предприятий с сайта налоговой https://bo.nalog.ru/\n",
    "\n",
    "Скрипт выгружает только общую информацию и финансовый отчет за 3 года.\n",
    "\n",
    "Часть первая, собирает урлы.\n",
    "\n",
    "Дата последних правок: 2021-12-13"
   ]
  },
  {
   "cell_type": "markdown",
   "id": "469de5de",
   "metadata": {},
   "source": [
    "## Библиотеки и настройки ##"
   ]
  },
  {
   "cell_type": "code",
   "execution_count": null,
   "id": "d34f9bc1",
   "metadata": {},
   "outputs": [],
   "source": [
    "#Загружаю нужные библиотеки\n",
    "\n",
    "import pandas as pd\n",
    "\n",
    "# для юзер-агента\n",
    "from fake_useragent import UserAgent\n",
    "\n",
    "# прогресс-бар\n",
    "from tqdm.notebook import trange, tqdm\n",
    "\n",
    "# для пауз при парсинге\n",
    "from time import sleep\n",
    "\n",
    "# селениум\n",
    "from selenium import webdriver\n",
    "\n",
    "from selenium.common.exceptions import NoSuchElementException\n",
    "from selenium.webdriver.common.by import By\n",
    "from selenium.webdriver.support.ui import WebDriverWait\n",
    "from selenium.webdriver.support import expected_conditions as EC"
   ]
  },
  {
   "cell_type": "code",
   "execution_count": null,
   "id": "403dea7a",
   "metadata": {},
   "outputs": [],
   "source": [
    "# настройки юзер-агента\n",
    "\n",
    "ua = UserAgent()\n",
    "\n",
    "# юзер-агент для Хрома\n",
    "user_agent = ua.chrome"
   ]
  },
  {
   "cell_type": "code",
   "execution_count": null,
   "id": "76634820",
   "metadata": {},
   "outputs": [],
   "source": [
    "test_url = 'https://intoli.com/blog/not-possible-to-block-chrome-headless/chrome-headless-test.html'"
   ]
  },
  {
   "cell_type": "code",
   "execution_count": null,
   "id": "b10a2009",
   "metadata": {},
   "outputs": [],
   "source": [
    "# путь к файлам\n",
    "\n",
    "file_path = 'C:/00_Data/ria/'\n",
    "proxy_list_path = 'C:/work/proxy_list.txt'"
   ]
  },
  {
   "cell_type": "code",
   "execution_count": null,
   "id": "273ddd4d",
   "metadata": {},
   "outputs": [],
   "source": [
    "# загружаю список прокси\n",
    "# список простой текстовый файл, который содержит прокси в формате: адрес:порт логин:пароль\n",
    "\n",
    "proxy_list = []\n",
    "\n",
    "with open(proxy_list_path, 'r') as f:\n",
    "    for line in f:\n",
    "        proxy_list += [line.split()]"
   ]
  },
  {
   "cell_type": "code",
   "execution_count": null,
   "id": "29f9ce78",
   "metadata": {},
   "outputs": [],
   "source": [
    "print('Рабочих прокси — ' + str(len(proxy_list)))"
   ]
  },
  {
   "cell_type": "code",
   "execution_count": null,
   "id": "30dd19d2",
   "metadata": {},
   "outputs": [],
   "source": [
    "# номер прокси проще прописать вручную, ввод со строки постоянно глючит\n",
    "\n",
    "print('Номер прокси, от 0 до ' + str(len(proxy_list) - 1))\n",
    "proxy_number = int(input())\n",
    "\n",
    "#proxy_number = 1"
   ]
  },
  {
   "cell_type": "code",
   "execution_count": null,
   "id": "023ac99e",
   "metadata": {},
   "outputs": [],
   "source": [
    "# настройки веб-драйвера, чтобы скрыть автоматическое управление\n",
    "\n",
    "opt = webdriver.ChromeOptions()\n",
    "opt.add_argument(f'user-agent={user_agent}')\n",
    "opt.add_argument('--disable-blink-features')\n",
    "opt.add_argument('--disable-blink-features=AutomationControlled')\n",
    "#opt.add_argument(f'--proxy-server={proxy_list[proxy_number][0]}') # \"девственный\" прокси(:\n",
    "opt.add_experimental_option(\"excludeSwitches\", [\"enable-automation\"]) # отключает строку про удаленное управление\n",
    "opt.add_experimental_option('useAutomationExtension', False)"
   ]
  },
  {
   "cell_type": "code",
   "execution_count": null,
   "id": "493a0a2b",
   "metadata": {},
   "outputs": [],
   "source": [
    "print('Login: ' + proxy_list[proxy_number][1])\n",
    "print('Pass: ' + proxy_list[proxy_number][2])"
   ]
  },
  {
   "cell_type": "code",
   "execution_count": null,
   "id": "0ecedba3",
   "metadata": {},
   "outputs": [],
   "source": [
    "# запускаю драйвер, проверяю настройки\n",
    "\n",
    "driver = webdriver.Chrome(options=opt)\n",
    "driver.get(test_url)\n",
    "driver.maximize_window() # раскрываю окно на максимум"
   ]
  },
  {
   "cell_type": "code",
   "execution_count": null,
   "id": "b15a4787",
   "metadata": {},
   "outputs": [],
   "source": []
  },
  {
   "cell_type": "markdown",
   "id": "a70e4049",
   "metadata": {},
   "source": [
    "### Функции ###\n",
    "\n",
    "Чтобы сделать код менее громоздким, повторяющиеся куски вынес в функции."
   ]
  },
  {
   "cell_type": "code",
   "execution_count": null,
   "id": "5ae962b0",
   "metadata": {},
   "outputs": [],
   "source": [
    "# функция закрывает окно-предупреждение\n",
    "\n",
    "def close_alert():\n",
    "    \n",
    "    try: # ищу предупреждение и нажимаю на крестик\n",
    "        driver.find_element_by_class_name('short-info-bottom').find_element_by_tag_name('svg').click()\n",
    "        \n",
    "    except:\n",
    "        pass  "
   ]
  },
  {
   "cell_type": "code",
   "execution_count": null,
   "id": "f86fd5c0",
   "metadata": {},
   "outputs": [],
   "source": []
  },
  {
   "cell_type": "markdown",
   "id": "40b867f6",
   "metadata": {},
   "source": [
    "### 1 этап. Собираю ссылки по ИНН ###"
   ]
  },
  {
   "cell_type": "code",
   "execution_count": null,
   "id": "ec3acf02",
   "metadata": {},
   "outputs": [],
   "source": [
    "# ссылка\n",
    "\n",
    "url_part_1 = 'https://bo.nalog.ru/search?query='"
   ]
  },
  {
   "cell_type": "code",
   "execution_count": null,
   "id": "3e727724",
   "metadata": {},
   "outputs": [],
   "source": [
    "# загружаю файл со списком ИНН\n",
    "\n",
    "work_links = pd.read_excel(file_path + 'lic_gun_trade.xlsx', sheet_name='trade_2021_12_28')"
   ]
  },
  {
   "cell_type": "code",
   "execution_count": null,
   "id": "0c8754be",
   "metadata": {},
   "outputs": [],
   "source": [
    "work_links.head(2)"
   ]
  },
  {
   "cell_type": "code",
   "execution_count": null,
   "id": "f9e75ea4",
   "metadata": {},
   "outputs": [],
   "source": [
    "work_links.shape"
   ]
  },
  {
   "cell_type": "code",
   "execution_count": null,
   "id": "b2b55954",
   "metadata": {},
   "outputs": [],
   "source": [
    "# список ИНН\n",
    "\n",
    "inn_list = list(work_links['inn'].unique())"
   ]
  },
  {
   "cell_type": "code",
   "execution_count": null,
   "id": "168d86bd",
   "metadata": {},
   "outputs": [],
   "source": [
    "len(inn_list)"
   ]
  },
  {
   "cell_type": "code",
   "execution_count": null,
   "id": "22b5d728",
   "metadata": {},
   "outputs": [],
   "source": []
  },
  {
   "cell_type": "markdown",
   "id": "1bb25ad4",
   "metadata": {},
   "source": [
    "### Код парсера ###"
   ]
  },
  {
   "cell_type": "markdown",
   "id": "38eb5c57",
   "metadata": {},
   "source": [
    "**Важно** ИНН я храню в формате \"ИНН: 0666..\", чтобы не возиться с форматами и \"пропадающими\" нулями. Если хранить ИНН как последовательность цифр, при выгрузке нули в начале неизбежно исчезнут, так как по умолчанию Питон решит, что это числа (int или float)."
   ]
  },
  {
   "cell_type": "code",
   "execution_count": null,
   "id": "edb23203",
   "metadata": {},
   "outputs": [],
   "source": [
    "# собираю ссылки на страницы\n",
    "\n",
    "data = [] # список для данных\n",
    "not_need = 'ПО ЗАДАННЫМ КРИТЕРИЯМ ПОИСКА СВЕДЕНИЙ НЕ НАЙДЕНО.'"
   ]
  },
  {
   "cell_type": "code",
   "execution_count": null,
   "id": "70b14fc1",
   "metadata": {},
   "outputs": [],
   "source": [
    "# код парсера\n",
    "\n",
    "for inn in tqdm(inn_list[800:]): # цикл для перебора ИНН\n",
    "\n",
    "    driver.get(url_part_1 + str(inn[5:]))\n",
    "    sleep(2)\n",
    "    driver.implicitly_wait(5) # возможно, стоит поставить явную задержку с большим таймингом\n",
    "    \n",
    "    # закрываю окно-предупреждение, если оно есть\n",
    "    close_alert()\n",
    "    \n",
    "    try: # проверяю, есть ли данные\n",
    "        \n",
    "        # получаю текст заголовка h2\n",
    "        h2_title = driver.find_element_by_class_name('content-text').find_element_by_tag_name('h2').text\n",
    "        \n",
    "        if h2_title == not_need: # если текст соответсвует стоп-фразе\n",
    "            data.append([inn, 'not', 'none']) # добавляю none\n",
    "            \n",
    "        else:\n",
    "            break\n",
    "            \n",
    "    except:\n",
    "        url = driver.find_element_by_tag_name('a[data-query=\"' + str(inn[5:]) + '\"]').get_attribute('href')\n",
    "        \n",
    "        data.append([inn, 'yes', url])"
   ]
  },
  {
   "cell_type": "code",
   "execution_count": null,
   "id": "7f85619e",
   "metadata": {},
   "outputs": [],
   "source": [
    "# Записываю в датафрейм\n",
    "\n",
    "head_list = ['inn', 'check', 'inn_page']\n",
    "\n",
    "work_inn = pd.DataFrame(data, columns=head_list)"
   ]
  },
  {
   "cell_type": "code",
   "execution_count": null,
   "id": "e3800cca",
   "metadata": {},
   "outputs": [],
   "source": [
    "work_inn.head(3)"
   ]
  },
  {
   "cell_type": "code",
   "execution_count": null,
   "id": "2bde5aa8",
   "metadata": {},
   "outputs": [],
   "source": [
    "work_inn.shape"
   ]
  },
  {
   "cell_type": "code",
   "execution_count": null,
   "id": "cab362bc",
   "metadata": {},
   "outputs": [],
   "source": [
    "# записываю в файл\n",
    "\n",
    "work_inn.to_excel(file_path + 'nalog_url_1.xlsx', index=False)"
   ]
  },
  {
   "cell_type": "code",
   "execution_count": null,
   "id": "8bca15e3",
   "metadata": {},
   "outputs": [],
   "source": []
  },
  {
   "cell_type": "code",
   "execution_count": null,
   "id": "5f344b53",
   "metadata": {},
   "outputs": [],
   "source": [
    "driver.quit()"
   ]
  },
  {
   "cell_type": "code",
   "execution_count": null,
   "id": "84b86e49",
   "metadata": {},
   "outputs": [],
   "source": []
  }
 ],
 "metadata": {
  "kernelspec": {
   "display_name": "Python 3",
   "language": "python",
   "name": "python3"
  },
  "language_info": {
   "codemirror_mode": {
    "name": "ipython",
    "version": 3
   },
   "file_extension": ".py",
   "mimetype": "text/x-python",
   "name": "python",
   "nbconvert_exporter": "python",
   "pygments_lexer": "ipython3",
   "version": "3.8.8"
  }
 },
 "nbformat": 4,
 "nbformat_minor": 5
}
