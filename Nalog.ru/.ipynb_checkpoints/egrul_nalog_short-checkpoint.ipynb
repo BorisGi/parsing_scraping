{
 "cells": [
  {
   "cell_type": "markdown",
   "id": "7d5804e8",
   "metadata": {},
   "source": [
    "## О скрипте ##\n",
    "\n",
    "Скрипт выгружает краткую информацию по ИНН / ОГРН с сайта налоговой https://egrul.nalog.ru/index.html\n",
    "\n",
    "Для ООО и прочих:\n",
    "- официальное название\n",
    "- адрес регистрации\n",
    "- ОГРН\n",
    "- дату присвоения ОГРН\n",
    "- ИНН\n",
    "- имя руководителя и пост\n",
    "- дату прекращения деятельности\n",
    "\n",
    "Для ИП:\n",
    "- ФИО\n",
    "- ОГРНИП\n",
    "- ИНН\n",
    "- дата присвоения ОГРНИП и дату\n",
    "\n",
    "Если данных много, проще воспользоваться Дадатой (10 тыс. запросов в день бесплатно). https://dadata.ru/api/\n",
    "\n",
    "Последние правки скрипта: 2021-12-10"
   ]
  },
  {
   "cell_type": "code",
   "execution_count": null,
   "id": "7170c4f7",
   "metadata": {},
   "outputs": [],
   "source": []
  },
  {
   "cell_type": "markdown",
   "id": "f36201fc",
   "metadata": {},
   "source": [
    "## Библиотеки и нужные настройки ##"
   ]
  },
  {
   "cell_type": "code",
   "execution_count": null,
   "id": "d34f9bc1",
   "metadata": {
    "scrolled": true
   },
   "outputs": [],
   "source": [
    "#Загружаю нужные библиотеки\n",
    "\n",
    "import pandas as pd\n",
    "import math\n",
    "\n",
    "# для юзер-агента\n",
    "from fake_useragent import UserAgent\n",
    "\n",
    "# прогресс-бар\n",
    "from tqdm.notebook import trange, tqdm\n",
    "\n",
    "# для пауз при парсинге\n",
    "from time import sleep\n",
    "\n",
    "# селениум\n",
    "from selenium import webdriver\n",
    "\n",
    "from selenium.common.exceptions import NoSuchElementException\n",
    "from selenium.webdriver.common.by import By\n",
    "from selenium.webdriver.support.ui import WebDriverWait\n",
    "from selenium.webdriver.support import expected_conditions as EC"
   ]
  },
  {
   "cell_type": "code",
   "execution_count": null,
   "id": "403dea7a",
   "metadata": {
    "scrolled": true
   },
   "outputs": [],
   "source": [
    "# настройки юзер-агента\n",
    "\n",
    "ua = UserAgent()\n",
    "\n",
    "# юзер-агент для Хрома\n",
    "user_agent = ua.chrome"
   ]
  },
  {
   "cell_type": "code",
   "execution_count": null,
   "id": "76634820",
   "metadata": {
    "scrolled": true
   },
   "outputs": [],
   "source": [
    "test_url = 'https://intoli.com/blog/not-possible-to-block-chrome-headless/chrome-headless-test.html'"
   ]
  },
  {
   "cell_type": "code",
   "execution_count": null,
   "id": "6ee88043",
   "metadata": {},
   "outputs": [],
   "source": [
    "# загружаю список прокси\n",
    "# список простой текстовый файл, который содержит прокси в формате: адрес:порт логин:пароль\n",
    "\n",
    "proxy_list = []\n",
    "\n",
    "with open('C:/work/proxy_list.txt', 'r') as f:\n",
    "    for line in f:\n",
    "        proxy_list += [line.split()]"
   ]
  },
  {
   "cell_type": "code",
   "execution_count": null,
   "id": "8730df6a",
   "metadata": {},
   "outputs": [],
   "source": [
    "print('Рабочих прокси — ' + str(len(proxy_list)))"
   ]
  },
  {
   "cell_type": "code",
   "execution_count": null,
   "id": "2b83f3a2",
   "metadata": {},
   "outputs": [],
   "source": [
    "# мне номер прокси проще прописать вручную, но можно и через input\n",
    "\n",
    "print('Номер прокси, от 0 до ' + str(len(proxy_list) - 1))\n",
    "proxy_number = int(input())\n",
    "\n",
    "#proxy_number = 5"
   ]
  },
  {
   "cell_type": "code",
   "execution_count": null,
   "id": "023ac99e",
   "metadata": {
    "scrolled": true
   },
   "outputs": [],
   "source": [
    "# настройки веб-драйвера, чтобы скрыть автоматическое управление\n",
    "\n",
    "opt = webdriver.ChromeOptions()\n",
    "opt.add_argument(f'user-agent={user_agent}')\n",
    "opt.add_argument('--disable-blink-features')\n",
    "opt.add_argument('--disable-blink-features=AutomationControlled')\n",
    "opt.add_argument(\n",
    "    f'--proxy-server={proxy_list[proxy_number][0]}'\n",
    "    f'--proxy-auth={proxy_list[proxy_number][1]}') # \"девственный\" прокси(:\n",
    "opt.add_experimental_option(\"excludeSwitches\", [\"enable-automation\"]) # отключает строку про удаленное управление\n",
    "opt.add_experimental_option('useAutomationExtension', False)"
   ]
  },
  {
   "cell_type": "code",
   "execution_count": null,
   "id": "0ecedba3",
   "metadata": {
    "scrolled": true
   },
   "outputs": [],
   "source": [
    "# запускаю драйвер, проверяю настройки\n",
    "\n",
    "driver = webdriver.Chrome(options=opt)\n",
    "driver.get(test_url)"
   ]
  },
  {
   "cell_type": "code",
   "execution_count": null,
   "id": "ec3acf02",
   "metadata": {
    "scrolled": true
   },
   "outputs": [],
   "source": [
    "# ссылка на сайт налоговой\n",
    "\n",
    "url = 'https://egrul.nalog.ru/index.html'"
   ]
  },
  {
   "cell_type": "code",
   "execution_count": null,
   "id": "1567a43f",
   "metadata": {
    "scrolled": true
   },
   "outputs": [],
   "source": [
    "# открываю сайт налоговой\n",
    "\n",
    "driver.get(url)\n",
    "sleep(3)"
   ]
  },
  {
   "cell_type": "code",
   "execution_count": null,
   "id": "0a005e8d",
   "metadata": {},
   "outputs": [],
   "source": []
  },
  {
   "cell_type": "markdown",
   "id": "29b20948",
   "metadata": {},
   "source": [
    "## Список ИНН ##\n",
    "\n",
    "В моем случае датасет в Экселе со столбцом \"ИНН\", который я конвертирую в список.\n",
    "\n",
    "Лицензия выдается на каждое помещение, поэтому часть ИНН дублируется.\n",
    "\n",
    "**Важно** ИНН я храню в формате \"ИНН: 0666..\", чтобы не возиться с форматами и \"пропадающими\" нулями. Если хранить ИНН как последовательность цифр, при выгрузке \"0\" в начале неизбежно исчезнут, так как по умолчанию Питон решит, что числа (int или float)."
   ]
  },
  {
   "cell_type": "code",
   "execution_count": null,
   "id": "5dfc5c91",
   "metadata": {
    "scrolled": true
   },
   "outputs": [],
   "source": [
    "# загружаю список ИНН\n",
    "\n",
    "work_inn = pd.read_excel('C:/00_Data/inn_info_all.xlsx', sheet_name='need')"
   ]
  },
  {
   "cell_type": "code",
   "execution_count": null,
   "id": "b09ae65e",
   "metadata": {
    "scrolled": true
   },
   "outputs": [],
   "source": [
    "work_inn.shape"
   ]
  },
  {
   "cell_type": "code",
   "execution_count": null,
   "id": "83f6a2a6",
   "metadata": {},
   "outputs": [],
   "source": [
    "work_inn.sample(2)"
   ]
  },
  {
   "cell_type": "code",
   "execution_count": null,
   "id": "5029f46e",
   "metadata": {},
   "outputs": [],
   "source": [
    "# создаю список ИНН (беру только уникальные)\n",
    "\n",
    "inn_list = list(work_inn['need'].unique())\n",
    "inn_list.sort()"
   ]
  },
  {
   "cell_type": "code",
   "execution_count": null,
   "id": "329a5605",
   "metadata": {
    "scrolled": true
   },
   "outputs": [],
   "source": [
    "len(inn_list)"
   ]
  },
  {
   "cell_type": "code",
   "execution_count": null,
   "id": "8b69bf75",
   "metadata": {
    "scrolled": true
   },
   "outputs": [],
   "source": [
    "# создаю список ОГРН (по идее, их столько же, сколько и ИНН)\n",
    "\n",
    "ogrn_list = list(set(work_inn['ogrn']))\n",
    "ogrn_list.sort()"
   ]
  },
  {
   "cell_type": "code",
   "execution_count": null,
   "id": "fcb4abab",
   "metadata": {},
   "outputs": [],
   "source": [
    "len(ogrn_list)"
   ]
  },
  {
   "cell_type": "code",
   "execution_count": null,
   "id": "770edb5e",
   "metadata": {},
   "outputs": [],
   "source": []
  },
  {
   "cell_type": "markdown",
   "id": "11b5265e",
   "metadata": {},
   "source": [
    "### Код парсера ###"
   ]
  },
  {
   "cell_type": "markdown",
   "id": "b4ec9a7c",
   "metadata": {},
   "source": [
    "Данные об ИНН беру с 6-го символа, т.е. собственно ИНН."
   ]
  },
  {
   "cell_type": "code",
   "execution_count": null,
   "id": "27f093d8",
   "metadata": {
    "scrolled": true
   },
   "outputs": [],
   "source": [
    "data = [] # список для данных\n",
    "\n",
    "for inn in tqdm(inn_list):\n",
    "    \n",
    "    driver.find_element_by_id('uni_text_1').find_element_by_id('query').send_keys(inn[5:]) # \"вбиваю\" ИНН\n",
    "    driver.find_element_by_id('btnSearch').click() # нажимаю кнопку \"Найти\"\n",
    "    sleep(3) # даю прогрузиться\n",
    "    \n",
    "    try:\n",
    "        of_name = driver.find_element_by_class_name('res-caption').text\n",
    "        inn_info = driver.find_element_by_class_name('res-text').text # забираю текст\n",
    "        \n",
    "    except:\n",
    "        of_name = 'none'\n",
    "        inn_info = 'none'\n",
    "        \n",
    "    driver.find_element_by_id('uni_text_0').click() # нажимаю крестик в поисковой строке, чтобы очистить поле\n",
    "    \n",
    "    data.append([inn, of_name, inn_info]) # добавляю в список"
   ]
  },
  {
   "cell_type": "code",
   "execution_count": null,
   "id": "ee5e909a",
   "metadata": {
    "scrolled": true
   },
   "outputs": [],
   "source": [
    "# Записываю в датафрейм\n",
    "\n",
    "head_list = ['inn', 'of_name', 'inn_info']\n",
    "\n",
    "work_info = pd.DataFrame(data, columns=head_list)"
   ]
  },
  {
   "cell_type": "code",
   "execution_count": null,
   "id": "dcfce368",
   "metadata": {
    "scrolled": true
   },
   "outputs": [],
   "source": [
    "work_info.shape"
   ]
  },
  {
   "cell_type": "code",
   "execution_count": null,
   "id": "ddde21b5",
   "metadata": {
    "scrolled": true
   },
   "outputs": [],
   "source": [
    "work_info.tail(3)"
   ]
  },
  {
   "cell_type": "code",
   "execution_count": null,
   "id": "13b15be0",
   "metadata": {
    "scrolled": true
   },
   "outputs": [],
   "source": [
    "work_info.to_excel('C:/00_Data/inn_info_1.xlsx', encoding='utf8', index=False)"
   ]
  },
  {
   "cell_type": "code",
   "execution_count": null,
   "id": "3fa11b94",
   "metadata": {
    "scrolled": true
   },
   "outputs": [],
   "source": []
  },
  {
   "cell_type": "markdown",
   "id": "23aac612",
   "metadata": {},
   "source": [
    "### Исправляю ошибочные ИНН ###"
   ]
  },
  {
   "cell_type": "markdown",
   "id": "52453486",
   "metadata": {},
   "source": [
    "Часть ИНН по которым нет данных, просто уазаны с ошибкой. Проверяю их по ОГРН."
   ]
  },
  {
   "cell_type": "code",
   "execution_count": null,
   "id": "be8e9b31",
   "metadata": {},
   "outputs": [],
   "source": [
    "work_inn_1 = pd.read_excel('C:/00_Data/inn_info_all.xlsx')"
   ]
  },
  {
   "cell_type": "code",
   "execution_count": null,
   "id": "306b83a6",
   "metadata": {},
   "outputs": [],
   "source": [
    "work_inn_1 = work_inn_1[work_inn_1.of_name == 'none']"
   ]
  },
  {
   "cell_type": "code",
   "execution_count": null,
   "id": "6a8d1d74",
   "metadata": {},
   "outputs": [],
   "source": [
    "# создаю список ИНН (ИНН повторяются)\n",
    "\n",
    "ogrn_list = list(set(work_inn_1['ogrn']))\n",
    "ogrn_list.sort()"
   ]
  },
  {
   "cell_type": "code",
   "execution_count": null,
   "id": "2baf9238",
   "metadata": {},
   "outputs": [],
   "source": [
    "len(ogrn_list)"
   ]
  },
  {
   "cell_type": "code",
   "execution_count": null,
   "id": "34aa65f0",
   "metadata": {},
   "outputs": [],
   "source": [
    "ogrn_list"
   ]
  },
  {
   "cell_type": "code",
   "execution_count": null,
   "id": "009779f1",
   "metadata": {},
   "outputs": [],
   "source": [
    "data = [] # список для данных\n",
    "\n",
    "for ogrn in tqdm(ogrn_list):\n",
    "    \n",
    "    driver.find_element_by_id('uni_text_1').find_element_by_id('query').send_keys(ogrn[5:]) # \"вбиваю\" ОГРН\n",
    "    driver.find_element_by_id('btnSearch').click() # нажимаю кнопку \"Найти\"\n",
    "    sleep(3)\n",
    "    \n",
    "    try:\n",
    "        of_name = driver.find_element_by_class_name('res-caption').text\n",
    "        inn_info = driver.find_element_by_class_name('res-text').text # забираю текст\n",
    "        \n",
    "    except:\n",
    "        of_name = 'none'\n",
    "        inn_info = 'none'\n",
    "        \n",
    "    driver.find_element_by_id('uni_text_0').click() # нажимаю крестик в поисковой строке, чтобы очистить\n",
    "    \n",
    "    data.append([ogrn, of_name, inn_info]) # добавляю в список"
   ]
  },
  {
   "cell_type": "code",
   "execution_count": null,
   "id": "94d5f620",
   "metadata": {},
   "outputs": [],
   "source": [
    "# Записываю в датафрейм\n",
    "\n",
    "head_list = ['ogrn', 'of_name', 'inn_info']\n",
    "\n",
    "work_info = pd.DataFrame(data, columns=head_list)"
   ]
  },
  {
   "cell_type": "code",
   "execution_count": null,
   "id": "55001811",
   "metadata": {},
   "outputs": [],
   "source": [
    "work_info"
   ]
  },
  {
   "cell_type": "code",
   "execution_count": null,
   "id": "9c4deeb4",
   "metadata": {},
   "outputs": [],
   "source": [
    "work_info.to_excel('C:/00_Data/inn_info_1.xlsx', encoding='utf8', index=False)"
   ]
  },
  {
   "cell_type": "code",
   "execution_count": null,
   "id": "5f344b53",
   "metadata": {
    "scrolled": true
   },
   "outputs": [],
   "source": [
    "driver.quit()"
   ]
  },
  {
   "cell_type": "code",
   "execution_count": null,
   "id": "f6773b22",
   "metadata": {
    "scrolled": true
   },
   "outputs": [],
   "source": []
  }
 ],
 "metadata": {
  "kernelspec": {
   "display_name": "Python 3 (ipykernel)",
   "language": "python",
   "name": "python3"
  },
  "language_info": {
   "codemirror_mode": {
    "name": "ipython",
    "version": 3
   },
   "file_extension": ".py",
   "mimetype": "text/x-python",
   "name": "python",
   "nbconvert_exporter": "python",
   "pygments_lexer": "ipython3",
   "version": "3.9.7"
  }
 },
 "nbformat": 4,
 "nbformat_minor": 5
}
