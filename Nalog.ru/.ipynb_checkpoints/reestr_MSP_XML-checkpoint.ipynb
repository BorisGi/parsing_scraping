{
 "cells": [
  {
   "cell_type": "code",
   "execution_count": null,
   "id": "e99578d2",
   "metadata": {},
   "outputs": [],
   "source": []
  },
  {
   "cell_type": "markdown",
   "id": "28f33c8c",
   "metadata": {},
   "source": [
    "Последняя версия реестра: https://data.nalog.ru/opendata/7707329152-rsmp/"
   ]
  },
  {
   "cell_type": "markdown",
   "id": "21393e44",
   "metadata": {},
   "source": [
    "## Библиотеки и настройки ##"
   ]
  },
  {
   "cell_type": "code",
   "execution_count": 1,
   "id": "38385cff",
   "metadata": {},
   "outputs": [],
   "source": [
    "# нужные библиотеки\n",
    "\n",
    "# для парсинга XML\n",
    "import xml.etree.ElementTree as ET\n",
    "\n",
    "# для работы с файлами и папками\n",
    "import os\n",
    "\n",
    "# прогресс-бар\n",
    "from tqdm.notebook import trange, tqdm\n",
    "\n",
    "import pandas as pd\n",
    "\n",
    "import zipfile"
   ]
  },
  {
   "cell_type": "code",
   "execution_count": 2,
   "id": "3408a833",
   "metadata": {},
   "outputs": [],
   "source": [
    "# Пути к файлам\n",
    "zip_file_path = 'C:/00_Data/nalog/'\n",
    "file_path = 'C:/00_Data/nalog/reestr_MSP/'"
   ]
  },
  {
   "cell_type": "code",
   "execution_count": 3,
   "id": "6f323dda",
   "metadata": {},
   "outputs": [],
   "source": [
    "# распаковываю архив\n",
    "\n",
    "#fantasy_zip = zipfile.ZipFile(file_path + 'reestr_MB_10122021.zip')\n",
    "#fantasy_zip.extractall(file_path + 'reestr_MB')\n",
    " \n",
    "#fantasy_zip.close()"
   ]
  },
  {
   "cell_type": "code",
   "execution_count": 4,
   "id": "1040c92e",
   "metadata": {},
   "outputs": [],
   "source": [
    "# вытаскиваю названия файлов в список file_list\n",
    "\n",
    "file_list = []\n",
    "\n",
    "for root, dirs, files in os.walk(file_path):\n",
    "    \n",
    "    for filename in files:\n",
    "        file_list += [filename]"
   ]
  },
  {
   "cell_type": "code",
   "execution_count": 5,
   "id": "5de0ec12",
   "metadata": {},
   "outputs": [
    {
     "data": {
      "text/plain": [
       "6518"
      ]
     },
     "execution_count": 5,
     "metadata": {},
     "output_type": "execute_result"
    }
   ],
   "source": [
    "len(file_list)"
   ]
  },
  {
   "cell_type": "code",
   "execution_count": 6,
   "id": "3a5d0049",
   "metadata": {},
   "outputs": [
    {
     "data": {
      "text/plain": [
       "['VO_RRMSPSV_0000_9965_20220110_000c4b1c-0941-45a6-8f0c-378200c74e88.xml',\n",
       " 'VO_RRMSPSV_0000_9965_20220110_001a0fe5-a160-4bdd-8502-cc62975beb46.xml',\n",
       " 'VO_RRMSPSV_0000_9965_20220110_001ed4d0-fdc8-4328-bed7-3d931c0121e5.xml',\n",
       " 'VO_RRMSPSV_0000_9965_20220110_0025c624-5fbd-482e-a797-b96cf6ffa2c5.xml',\n",
       " 'VO_RRMSPSV_0000_9965_20220110_00331b55-32e7-48da-97e1-e9bd55aa3c1e.xml',\n",
       " 'VO_RRMSPSV_0000_9965_20220110_00347188-ec42-46fc-aa8f-ebc2a150fd70.xml',\n",
       " 'VO_RRMSPSV_0000_9965_20220110_004a60f2-6107-40c0-af31-97138d88b39a.xml',\n",
       " 'VO_RRMSPSV_0000_9965_20220110_004b96c6-2ee2-4406-a3ee-551b70147a5f.xml',\n",
       " 'VO_RRMSPSV_0000_9965_20220110_0065ab60-e248-48d4-8812-fb36d82c0cc3.xml',\n",
       " 'VO_RRMSPSV_0000_9965_20220110_00777f9e-0fd4-4a07-8ac1-65ebde76ad26.xml']"
      ]
     },
     "execution_count": 6,
     "metadata": {},
     "output_type": "execute_result"
    }
   ],
   "source": [
    "file_list[:10]"
   ]
  },
  {
   "cell_type": "code",
   "execution_count": null,
   "id": "020c46be",
   "metadata": {},
   "outputs": [],
   "source": []
  },
  {
   "cell_type": "code",
   "execution_count": 7,
   "id": "9b67b177",
   "metadata": {},
   "outputs": [],
   "source": [
    "#tree = ET.parse(file_path + 'VO_RRMSPSV_0000_9965_20211210_00a261da-c214-4688-8819-2702fd3d5d64.xml')\n",
    "\n",
    "tree = ET.parse(file_path + 'VO_RRMSPSV_0000_9965_20220110_00e34785-6ec8-4180-b7eb-ec071a4ab73c.xml')"
   ]
  },
  {
   "cell_type": "code",
   "execution_count": 8,
   "id": "1bf863f0",
   "metadata": {},
   "outputs": [],
   "source": [
    "tree = ET.parse(file_path + file_list[14])"
   ]
  },
  {
   "cell_type": "code",
   "execution_count": 9,
   "id": "d383f2b9",
   "metadata": {},
   "outputs": [],
   "source": [
    "root = tree.getroot()"
   ]
  },
  {
   "cell_type": "code",
   "execution_count": 10,
   "id": "41f4f8d5",
   "metadata": {},
   "outputs": [
    {
     "data": {
      "text/plain": [
       "'Файл'"
      ]
     },
     "execution_count": 10,
     "metadata": {},
     "output_type": "execute_result"
    }
   ],
   "source": [
    "root.tag"
   ]
  },
  {
   "cell_type": "code",
   "execution_count": 11,
   "id": "d20dd311",
   "metadata": {},
   "outputs": [
    {
     "data": {
      "application/vnd.jupyter.widget-view+json": {
       "model_id": "e5c491efc0894d5ea62bf6721973361a",
       "version_major": 2,
       "version_minor": 0
      },
      "text/plain": [
       "  0%|          | 0/6518 [00:00<?, ?it/s]"
      ]
     },
     "metadata": {},
     "output_type": "display_data"
    }
   ],
   "source": [
    "# все тэги\n",
    "# скрипт проходит по всем файлам и оставляет уникальные теги\n",
    "\n",
    "all_tags = []\n",
    "\n",
    "for file in tqdm(file_list):\n",
    "    tree = ET.parse(file_path + file)\n",
    "    root = tree.getroot()\n",
    "    \n",
    "    for elem in root.iter():\n",
    "        all_tags += [elem.tag]"
   ]
  },
  {
   "cell_type": "code",
   "execution_count": 12,
   "id": "5b5659aa",
   "metadata": {},
   "outputs": [],
   "source": [
    "tag_list = list(set(all_tags))"
   ]
  },
  {
   "cell_type": "code",
   "execution_count": 14,
   "id": "be9455db",
   "metadata": {},
   "outputs": [
    {
     "name": "stdout",
     "output_type": "stream",
     "text": [
      "['Район', 'ИПВклМСП', 'ИдОтпр', 'СведМН', 'Документ', 'ФИООтв', 'СвОКВЭД', 'СвЛиценз', 'НаимЛицВД', 'ФИОИП', 'Файл', 'СвОКВЭДДоп', 'ОргВклМСП', 'Регион', 'СвДог', 'СвОКВЭДОсн', 'Город', 'СвПрод', 'СвПрогПарт', 'СвКонтр', 'НаселПункт']\n"
     ]
    }
   ],
   "source": [
    "print(tag_list)"
   ]
  },
  {
   "cell_type": "markdown",
   "id": "3a17757f",
   "metadata": {},
   "source": [
    "Теги:\n",
    "'Район',\n",
    "'ИПВклМСП', 'ИдОтпр', 'СведМН',\n",
    "'Документ', 'ФИООтв', 'СвОКВЭД', 'СвЛиценз', 'НаимЛицВД', 'ФИОИП', 'Файл', 'СвОКВЭДДоп', 'ОргВклМСП', 'Регион', 'СвДог', 'СвОКВЭДОсн', 'Город', 'СвПрод', 'СвПрогПарт', 'СвКонтр', 'НаселПункт'"
   ]
  },
  {
   "cell_type": "code",
   "execution_count": null,
   "id": "ec08e294",
   "metadata": {},
   "outputs": [],
   "source": []
  },
  {
   "cell_type": "code",
   "execution_count": null,
   "id": "fe3b70ba",
   "metadata": {},
   "outputs": [],
   "source": [
    "len(tag_list)"
   ]
  },
  {
   "cell_type": "code",
   "execution_count": null,
   "id": "10334131",
   "metadata": {},
   "outputs": [],
   "source": [
    "tag_list"
   ]
  },
  {
   "cell_type": "code",
   "execution_count": null,
   "id": "9898cd89",
   "metadata": {},
   "outputs": [],
   "source": [
    "test = {}\n",
    "\n",
    "for item in root[455].iter(): # цикл для конвертации данных в словарь\n",
    "    \n",
    "    if item.tag in test.keys(): # \n",
    "        test[item.tag] = test[item.tag] + [item.attrib]\n",
    "    \n",
    "    else:\n",
    "        test[item.tag] = [item.attrib]"
   ]
  },
  {
   "cell_type": "code",
   "execution_count": null,
   "id": "0a2934f8",
   "metadata": {},
   "outputs": [],
   "source": [
    "test.keys()"
   ]
  },
  {
   "cell_type": "code",
   "execution_count": null,
   "id": "7647f314",
   "metadata": {},
   "outputs": [],
   "source": [
    "for i in test.keys():\n",
    "    if len(test[i]) == 1:\n",
    "        test[i] = test[i][0]"
   ]
  },
  {
   "cell_type": "code",
   "execution_count": null,
   "id": "bcdcca03",
   "metadata": {},
   "outputs": [],
   "source": [
    "item = test.copy()"
   ]
  },
  {
   "cell_type": "code",
   "execution_count": null,
   "id": "acbefac7",
   "metadata": {},
   "outputs": [],
   "source": [
    "item"
   ]
  },
  {
   "cell_type": "code",
   "execution_count": null,
   "id": "c4e1873b",
   "metadata": {},
   "outputs": [],
   "source": [
    "item['СвОКВЭД']"
   ]
  },
  {
   "cell_type": "code",
   "execution_count": null,
   "id": "2952b3d1",
   "metadata": {},
   "outputs": [],
   "source": []
  },
  {
   "cell_type": "code",
   "execution_count": null,
   "id": "aba67128",
   "metadata": {},
   "outputs": [],
   "source": []
  },
  {
   "cell_type": "code",
   "execution_count": null,
   "id": "7773eef2",
   "metadata": {},
   "outputs": [],
   "source": [
    "data = [] # список для данных\n",
    "\n",
    "for subject in root[1:]: # основной цикл\n",
    "    \n",
    "    subject_dict = {} # словарь компании или ИП\n",
    "    \n",
    "    for i in subject.iter():\n",
    "        if i.tag in subject_dict.keys(): # проверяю нет ли уже ключа в словаре\n",
    "            subject_dict[i.tag] = subject_dict[i.tag] + [i.attrib] # если есть, добавляю в список\n",
    "            \n",
    "        else:\n",
    "            subject_dict[i.tag] = [i.attrib]\n",
    "    \n",
    "    for i in subject_dict.keys(): # распаковываю \n",
    "        if len(subject_dict[i]) == 1:\n",
    "            subject_dict[i] = subject_dict[i][0]\n",
    "        \n",
    "    # блок классифицирующей информации\n",
    "    subject_id = item['Документ']['ИдДок']\n",
    "    compilation_date = item['Документ']['ДатаСост']\n",
    "    inclusion_date = item['Документ']['ДатаВклМСП']\n",
    "    subject_type = item['Документ']['ВидСубМСП']\n",
    "    subject_cat = item['Документ']['КатСубМСП']\n",
    "    newly_created = item['Документ']['ПризНовМСП']\n",
    "    social_status = item['Документ']['СведСоцПред']\n",
    "    \n",
    "    try:\n",
    "        av_number_employees = item['Документ']['ССЧР']\n",
    "        \n",
    "    except:\n",
    "        av_number_employees = 'none'\n",
    "    \n",
    "    \n",
    "    # базовая информация: ИНН, ОГРН, название, имя\n",
    "    \n",
    "    # ИП\n",
    "    try:\n",
    "        inn_fl = item['ИПВклМСП']['ИННФЛ']\n",
    "        \n",
    "    except:\n",
    "        inn_fl = 'none'\n",
    "        \n",
    "    try:\n",
    "        ogrnip = item['ИПВклМСП']['ОГРНИП']\n",
    "            \n",
    "    except:\n",
    "        ogrnip = 'none'\n",
    "        \n",
    "    try:\n",
    "        last_name_ip = item['ФИОИП']['Фамилия'].title()\n",
    "        first_name_ip = item['ФИОИП']['Имя'].title()\n",
    "        patronymic_ip = item['ФИОИП']['Отчество'].title()\n",
    "            \n",
    "    except:\n",
    "        last_name_ip = 'none'\n",
    "        first_name_ip = 'none'\n",
    "        patronymic_ip = 'none'\n",
    "        \n",
    "    # ООО\n",
    "    try:\n",
    "        company = item['ОргВклМСП']['НаимОрг']\n",
    "        short_name = item['ОргВклМСП']['НаимОргСокр']\n",
    "        inn_ul = item['ОргВклМСП']['ИННЮЛ']\n",
    "        ogrn = item['ОргВклМСП']['ОГРН']\n",
    "        \n",
    "    except:\n",
    "        company = 'none'\n",
    "        short_name = 'none'\n",
    "        inn_ul = 'none'\n",
    "        ogrn = 'none'    \n",
    "    \n",
    "        \n",
    "    # блок адресов\n",
    "    region_code = item['СведМН']['КодРегион']\n",
    "    region = item['Регион']['Наим']\n",
    "    region_type = item['Регион']['Тип']\n",
    "    \n",
    "    try:\n",
    "        district = item['Район']['Наим']\n",
    "        district_type = item['Район']['Тип']\n",
    "        \n",
    "    except:\n",
    "        district = 'none'\n",
    "        district_type = 'none'\n",
    "        \n",
    "    try:\n",
    "        city = item['Город']['Наим']\n",
    "        city_type = item['Город']['Тип']\n",
    "        \n",
    "    except:\n",
    "        city = item['НаселПункт']['Наим']\n",
    "        city_type = item['НаселПункт']['Тип']\n",
    "    \n",
    "    \n",
    "    main_okved = item['СвОКВЭДОсн']['КодОКВЭД']\n",
    "    main_okved_value = item['СвОКВЭДОсн']['НаимОКВЭД']\n",
    "    main_okved_version = item['СвОКВЭДОсн']['ВерсОКВЭД']\n",
    "    \n",
    "    \n",
    "    #other_okveds = item['СвОКВЭДОсн']    \n",
    "    \n",
    "    \n",
    "    data.append([subject_id, compilation_date, inclusion_date,\n",
    "                 subject_type, subject_cat,\n",
    "                 newly_created, social_status,\n",
    "                 av_number_employees,\n",
    "                 inn_fl, ogrnip,\n",
    "                 last_name_ip, first_name_ip, patronymic_ip,\n",
    "                 company, short_name, inn_ul, ogrn,\n",
    "                 \n",
    "                 region, region_type, district, district_type, city, city_type\n",
    "                 \n",
    "                    ])"
   ]
  },
  {
   "cell_type": "markdown",
   "id": "ad4b20b9",
   "metadata": {},
   "source": [
    "**compilation_date** — По состоянию реестра на дату\n",
    "\n",
    "**inclusion_date** — Дата включения юр.лица / ИП в реестр\n",
    "\n",
    "**subject_type** — Вид субъекта МСП\n",
    "\n",
    "**subject_cat** — Категория субъекта МСП\n",
    "\n",
    "**newly_created** — Признак сведений о вновь созданном юридическом лице / вновь зарегистрированном индивидуальном предпринимателе\n",
    "\n",
    "**social_status** — Сведения о том, что юридическое лицо / индивидуальный предприниматель является социальным предприятием\n",
    "\n",
    "**average_number_employees** — Сведения о среднесписочной численности работников\n",
    "\n",
    "**inn_p** — ИНН индивидуального предпринимателя\n",
    "\n",
    "**ogrnip** — ОГРНИП\n",
    "\n",
    "**last_name_ip, first_name_ip, patronymic_ip** — фамилия, имя, отчество индивидуального предпринимателя\n",
    "\n",
    "**region, region_type, district, district_type, city, city_type** — регион, тип, муниципальный район, тип, населенный пункт, тип\n",
    "\n"
   ]
  },
  {
   "cell_type": "code",
   "execution_count": null,
   "id": "5411dd7c",
   "metadata": {},
   "outputs": [],
   "source": [
    "head_list = ['subject_id',\n",
    "             'compilation_date',\n",
    "             'inclusion_date',\n",
    "             'subject_type',\n",
    "             'subject_cat',\n",
    "             'newly_created',\n",
    "             'social_status',\n",
    "             'av_number_employees',\n",
    "             'inn_fl', 'ogrnip'\n",
    "            ]\n",
    "\n",
    "work = pd.DataFrame(data, columns=head_list)"
   ]
  },
  {
   "cell_type": "code",
   "execution_count": null,
   "id": "0aa259ba",
   "metadata": {},
   "outputs": [],
   "source": [
    "work.shape"
   ]
  },
  {
   "cell_type": "code",
   "execution_count": null,
   "id": "361bc22e",
   "metadata": {},
   "outputs": [],
   "source": [
    "work.head()"
   ]
  },
  {
   "cell_type": "code",
   "execution_count": null,
   "id": "9a07ffb4",
   "metadata": {},
   "outputs": [],
   "source": [
    "work[work.subject_id == '382bde21-4f19-49e6-ad4b-86f65f4d9b3c']"
   ]
  },
  {
   "cell_type": "code",
   "execution_count": null,
   "id": "ecfb0101",
   "metadata": {},
   "outputs": [],
   "source": [
    "work[work.inn_p == 'not exist']"
   ]
  },
  {
   "cell_type": "code",
   "execution_count": null,
   "id": "9c5da86d",
   "metadata": {},
   "outputs": [],
   "source": []
  },
  {
   "cell_type": "code",
   "execution_count": null,
   "id": "14d1129a",
   "metadata": {},
   "outputs": [],
   "source": []
  },
  {
   "cell_type": "code",
   "execution_count": null,
   "id": "9eb27a44",
   "metadata": {},
   "outputs": [],
   "source": []
  }
 ],
 "metadata": {
  "kernelspec": {
   "display_name": "Python 3 (ipykernel)",
   "language": "python",
   "name": "python3"
  },
  "language_info": {
   "codemirror_mode": {
    "name": "ipython",
    "version": 3
   },
   "file_extension": ".py",
   "mimetype": "text/x-python",
   "name": "python",
   "nbconvert_exporter": "python",
   "pygments_lexer": "ipython3",
   "version": "3.9.7"
  }
 },
 "nbformat": 4,
 "nbformat_minor": 5
}
