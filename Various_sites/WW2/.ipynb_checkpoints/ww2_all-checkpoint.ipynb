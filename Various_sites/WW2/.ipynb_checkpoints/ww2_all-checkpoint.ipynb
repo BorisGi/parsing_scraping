{
 "cells": [
  {
   "cell_type": "markdown",
   "id": "4b4fc02a",
   "metadata": {},
   "source": [
    "Шаблон для скрейперов"
   ]
  },
  {
   "cell_type": "code",
   "execution_count": null,
   "id": "e7274af0",
   "metadata": {},
   "outputs": [],
   "source": []
  },
  {
   "cell_type": "markdown",
   "id": "11c114c6",
   "metadata": {},
   "source": [
    "## Библиотеки и настройки"
   ]
  },
  {
   "cell_type": "code",
   "execution_count": 1,
   "id": "c8005b9b",
   "metadata": {},
   "outputs": [],
   "source": [
    "#Загружаю нужные библиотеки\n",
    "\n",
    "import pandas as pd\n",
    "import math\n",
    "\n",
    "import datetime\n",
    "\n",
    "# регулярки\n",
    "import re\n",
    "\n",
    "# для юзер-агента\n",
    "from fake_useragent import UserAgent\n",
    "\n",
    "# для работы с буфером обмена\n",
    "import pyperclip\n",
    "\n",
    "# прогресс-бар\n",
    "from tqdm.notebook import trange, tqdm\n",
    "\n",
    "# для пауз при парсинге\n",
    "from random import randint\n",
    "from time import sleep\n",
    "\n",
    "# селениум\n",
    "from selenium import webdriver\n",
    "from selenium.webdriver.chrome.service import Service\n",
    "\n",
    "from selenium.common.exceptions import NoSuchElementException\n",
    "from selenium.webdriver.common.by import By\n",
    "from selenium.webdriver.support.ui import WebDriverWait\n",
    "from selenium.webdriver.support import expected_conditions as EC"
   ]
  },
  {
   "cell_type": "code",
   "execution_count": 2,
   "id": "81b17d9e",
   "metadata": {},
   "outputs": [],
   "source": [
    "# настройки юзер-агента\n",
    "\n",
    "ua = UserAgent()\n",
    "\n",
    "# юзер-агент для Хрома\n",
    "user_agent = ua.chrome"
   ]
  },
  {
   "cell_type": "code",
   "execution_count": 3,
   "id": "e0589f81",
   "metadata": {},
   "outputs": [],
   "source": [
    "# тестовая страница для Селениума\n",
    "\n",
    "test_url = 'https://intoli.com/blog/not-possible-to-block-chrome-headless/chrome-headless-test.html'"
   ]
  },
  {
   "cell_type": "code",
   "execution_count": 4,
   "id": "78cb35f6",
   "metadata": {},
   "outputs": [],
   "source": [
    "# путь к файлам\n",
    "\n",
    "file_path = 'C:/00_Data/temp_data/'\n",
    "proxy_list_path = 'C:/work/keys/proxy_list.txt' # путь и названия со списком прокси"
   ]
  },
  {
   "cell_type": "code",
   "execution_count": 5,
   "id": "a5d5673e",
   "metadata": {},
   "outputs": [
    {
     "name": "stdout",
     "output_type": "stream",
     "text": [
      "Рабочих прокси — 9\n"
     ]
    }
   ],
   "source": [
    "# загружаю список прокси\n",
    "# список простой текстовый файл, который содержит прокси в формате: адрес:порт логин:пароль\n",
    "\n",
    "proxy_list = []\n",
    "\n",
    "with open(proxy_list_path, 'r') as f:\n",
    "    for line in f:\n",
    "        proxy_list += [line.split()]\n",
    "        \n",
    "print('Рабочих прокси — ' + str(len(proxy_list)))"
   ]
  },
  {
   "cell_type": "code",
   "execution_count": 6,
   "id": "affc8f9d",
   "metadata": {},
   "outputs": [
    {
     "name": "stdout",
     "output_type": "stream",
     "text": [
      "Номер прокси, от 0 до 8\n",
      "5\n"
     ]
    }
   ],
   "source": [
    "# номер прокси\n",
    "\n",
    "print('Номер прокси, от 0 до ' + str(len(proxy_list) - 1))\n",
    "proxy_number = int(input())"
   ]
  },
  {
   "cell_type": "code",
   "execution_count": 7,
   "id": "dab75db7",
   "metadata": {},
   "outputs": [],
   "source": [
    "# настройки веб-драйвера, чтобы скрыть автоматическое управление\n",
    "\n",
    "opt = webdriver.ChromeOptions()\n",
    "opt.add_argument(f'user-agent={user_agent}')\n",
    "opt.add_argument('--disable-blink-features')\n",
    "opt.add_argument('--disable-blink-features=AutomationControlled')\n",
    "opt.add_argument(f'--proxy-server={proxy_list[proxy_number][0]}') # \"девственный\" прокси(:\n",
    "opt.add_experimental_option(\"excludeSwitches\", [\"enable-automation\"]) # отключает строку про удаленное управление\n",
    "opt.add_experimental_option('useAutomationExtension', False)"
   ]
  },
  {
   "cell_type": "code",
   "execution_count": 8,
   "id": "efe91c63",
   "metadata": {},
   "outputs": [
    {
     "name": "stdout",
     "output_type": "stream",
     "text": [
      "Login: в буфере обмена\n",
      "Pass: EJ1SMvdd\n"
     ]
    }
   ],
   "source": [
    "# пока не придумал нормального способа авторизации\n",
    "\n",
    "pyperclip.copy(proxy_list[proxy_number][1])\n",
    "\n",
    "print('Login: в буфере обмена')\n",
    "print('Pass: ' + proxy_list[proxy_number][2])"
   ]
  },
  {
   "cell_type": "code",
   "execution_count": 9,
   "id": "60aba6c1",
   "metadata": {},
   "outputs": [],
   "source": [
    "# запускаю драйвер, проверяю настройки\n",
    "\n",
    "#s=Service('C:/Users/bgi/Anaconda3/chromedriver/chromedriver.exe')\n",
    "#driver = webdriver.Chrome(service=s, options=opt)\n",
    "\n",
    "driver = webdriver.Chrome(options=opt)\n",
    "driver.get(test_url)\n",
    "driver.maximize_window() # раскрываю окно на максимум"
   ]
  },
  {
   "cell_type": "code",
   "execution_count": null,
   "id": "8f43f1c5",
   "metadata": {},
   "outputs": [],
   "source": []
  },
  {
   "cell_type": "markdown",
   "id": "6ae690ba",
   "metadata": {},
   "source": [
    "## Собираю ссылки на объявления"
   ]
  },
  {
   "cell_type": "code",
   "execution_count": 10,
   "id": "ec0775ad",
   "metadata": {},
   "outputs": [
    {
     "name": "stdout",
     "output_type": "stream",
     "text": [
      "149\n"
     ]
    }
   ],
   "source": [
    "forum = input()"
   ]
  },
  {
   "cell_type": "code",
   "execution_count": 11,
   "id": "9a988e35",
   "metadata": {},
   "outputs": [],
   "source": [
    "\n",
    "start_url = f'https://forum.ww2.ru/index.php?showforum={forum}'\n",
    "\n",
    "arc_url = '&topicfilter=locked'"
   ]
  },
  {
   "cell_type": "code",
   "execution_count": 12,
   "id": "8fe40c5f",
   "metadata": {},
   "outputs": [],
   "source": [
    "full_url = start_url"
   ]
  },
  {
   "cell_type": "code",
   "execution_count": 13,
   "id": "18bf9559",
   "metadata": {},
   "outputs": [],
   "source": [
    "full_url = start_url + arc_url"
   ]
  },
  {
   "cell_type": "code",
   "execution_count": 14,
   "id": "ffd53672",
   "metadata": {},
   "outputs": [],
   "source": [
    "driver.get(full_url)\n",
    "sleep(3)"
   ]
  },
  {
   "cell_type": "code",
   "execution_count": 15,
   "id": "91b4c494",
   "metadata": {},
   "outputs": [],
   "source": [
    "adv_number = driver.find_element(By.CLASS_NAME, 'ipsType_pagetitle').find_element(By.CLASS_NAME, 'desc').text"
   ]
  },
  {
   "cell_type": "code",
   "execution_count": 16,
   "id": "785ce35f",
   "metadata": {},
   "outputs": [],
   "source": [
    "category = driver.find_element(By.CLASS_NAME, 'ipsType_pagetitle').text.replace(' ' + adv_number, '')"
   ]
  },
  {
   "cell_type": "code",
   "execution_count": 17,
   "id": "855e2b3e",
   "metadata": {},
   "outputs": [
    {
     "name": "stdout",
     "output_type": "stream",
     "text": [
      "Количество объявлений: 1760\n",
      "Количество страниц: 30\n"
     ]
    }
   ],
   "source": [
    "page_number = math.ceil(int(adv_number) / 60)\n",
    "\n",
    "print('Количество объявлений: ' + adv_number)\n",
    "print('Количество страниц: ' + str(page_number))"
   ]
  },
  {
   "cell_type": "code",
   "execution_count": null,
   "id": "9c649966",
   "metadata": {},
   "outputs": [],
   "source": []
  },
  {
   "cell_type": "code",
   "execution_count": null,
   "id": "d3b4deca",
   "metadata": {},
   "outputs": [],
   "source": [
    "data_url = [] # список для данных\n",
    "\n",
    "for page in tqdm(range(1, page_number + 1)):\n",
    "    \n",
    "    driver.get(full_url + '&page=' + str(page))\n",
    "    sleep(2)\n",
    "\n",
    "    topic_blocks = driver.find_elements(By.TAG_NAME, 'tr[itemscope]')\n",
    "\n",
    "    for topic in topic_blocks:\n",
    "        name = topic.find_element(By.TAG_NAME, 'span[itemprop=\"name\"]').text\n",
    "        topic_url = topic.find_element(By.TAG_NAME, 'a[itemprop=\"url\"]').get_attribute('href')\n",
    "        start_date = topic.find_element(By.TAG_NAME, 'span[itemprop=\"dateCreated\"]').text\n",
    "\n",
    "        try:\n",
    "            price = topic.find_element(By.CLASS_NAME, 'ebay_desc').text.replace(' ₽', '')\n",
    "\n",
    "        except:\n",
    "            price = 'none'\n",
    "            \n",
    "        try:\n",
    "            views = (re.sub(r'.+\\n', '', topic.find_element(By.CLASS_NAME, 'col_f_views')\n",
    "                            .text).replace(' Просмотров', '').replace(' ', ''))\n",
    "            \n",
    "        except:\n",
    "            views = 'none'\n",
    "            \n",
    "\n",
    "        try:\n",
    "            price_type = topic.find_element(By.CLASS_NAME, 'ipsBadge_direct').text.lower()\n",
    "\n",
    "        except:\n",
    "            try:\n",
    "                price_type = topic.find_element(By.CLASS_NAME, 'ipsBadge_auction').text.lower()\n",
    "\n",
    "            except:\n",
    "                price_type = 'none'\n",
    "\n",
    "        update_date = 'none'\n",
    "        item_number = 'none'\n",
    "\n",
    "        for item_span in topic.find_elements(By.CLASS_NAME, 'desc'):\n",
    "            if 'поднята' in item_span.text:\n",
    "                update_date = re.sub(r'.+поднята ', '', item_span.text)\n",
    "\n",
    "            if 'наличии' in item_span.text:\n",
    "                item_number = item_span.text.replace('В наличии: ', '')\n",
    "\n",
    "        data_url.append([category, name, price, price_type, item_number, start_date, update_date, views, topic_url])"
   ]
  },
  {
   "cell_type": "code",
   "execution_count": null,
   "id": "fce5f642",
   "metadata": {},
   "outputs": [],
   "source": [
    "# преобразовываю в датафрейм\n",
    "\n",
    "head = ['category', 'name', 'price', 'price_type', 'item_number',\n",
    "        'start_date', 'update_date', 'views', 'topic_url']\n",
    "\n",
    "work_url = pd.DataFrame(data_url, columns=head)"
   ]
  },
  {
   "cell_type": "code",
   "execution_count": null,
   "id": "004c3984",
   "metadata": {},
   "outputs": [],
   "source": [
    "work_url.shape"
   ]
  },
  {
   "cell_type": "code",
   "execution_count": 20,
   "id": "8a715e34",
   "metadata": {},
   "outputs": [
    {
     "data": {
      "text/html": [
       "<div>\n",
       "<style scoped>\n",
       "    .dataframe tbody tr th:only-of-type {\n",
       "        vertical-align: middle;\n",
       "    }\n",
       "\n",
       "    .dataframe tbody tr th {\n",
       "        vertical-align: top;\n",
       "    }\n",
       "\n",
       "    .dataframe thead th {\n",
       "        text-align: right;\n",
       "    }\n",
       "</style>\n",
       "<table border=\"1\" class=\"dataframe\">\n",
       "  <thead>\n",
       "    <tr style=\"text-align: right;\">\n",
       "      <th></th>\n",
       "      <th>category</th>\n",
       "      <th>name</th>\n",
       "      <th>price</th>\n",
       "      <th>price_type</th>\n",
       "      <th>item_number</th>\n",
       "      <th>start_date</th>\n",
       "      <th>update_date</th>\n",
       "      <th>views</th>\n",
       "      <th>topic_url</th>\n",
       "    </tr>\n",
       "  </thead>\n",
       "  <tbody>\n",
       "    <tr>\n",
       "      <th>11270</th>\n",
       "      <td>Архив раздела Германия</td>\n",
       "      <td>баробан для сигнального нагана</td>\n",
       "      <td>none</td>\n",
       "      <td>none</td>\n",
       "      <td>none</td>\n",
       "      <td>14 май 2014</td>\n",
       "      <td>none</td>\n",
       "      <td>119</td>\n",
       "      <td>https://forum.ww2.ru/index.php?showtopic=4166202</td>\n",
       "    </tr>\n",
       "  </tbody>\n",
       "</table>\n",
       "</div>"
      ],
      "text/plain": [
       "                     category                            name price  \\\n",
       "11270  Архив раздела Германия  баробан для сигнального нагана  none   \n",
       "\n",
       "      price_type item_number   start_date update_date views  \\\n",
       "11270       none        none  14 май 2014        none   119   \n",
       "\n",
       "                                              topic_url  \n",
       "11270  https://forum.ww2.ru/index.php?showtopic=4166202  "
      ]
     },
     "execution_count": 20,
     "metadata": {},
     "output_type": "execute_result"
    }
   ],
   "source": [
    "work_url.sample()"
   ]
  },
  {
   "cell_type": "code",
   "execution_count": 18,
   "id": "8a90c944",
   "metadata": {},
   "outputs": [],
   "source": [
    "work_url = pd.read_excel(file_path + 'work_url_aks_MMG_ge_a.xlsx')"
   ]
  },
  {
   "cell_type": "code",
   "execution_count": 19,
   "id": "6bf74bbe",
   "metadata": {},
   "outputs": [
    {
     "data": {
      "text/plain": [
       "'Архив раздела Германия'"
      ]
     },
     "execution_count": 19,
     "metadata": {},
     "output_type": "execute_result"
    }
   ],
   "source": [
    "category = work_url.category[0]\n",
    "category"
   ]
  },
  {
   "cell_type": "code",
   "execution_count": null,
   "id": "76a500de",
   "metadata": {},
   "outputs": [],
   "source": []
  },
  {
   "cell_type": "markdown",
   "id": "bdbbe808",
   "metadata": {},
   "source": [
    "## Собираю описание и данные со страницы объявления"
   ]
  },
  {
   "cell_type": "code",
   "execution_count": 21,
   "id": "84df55dc",
   "metadata": {},
   "outputs": [],
   "source": [
    "data = [] # список для данных"
   ]
  },
  {
   "cell_type": "code",
   "execution_count": null,
   "id": "c12adf7b",
   "metadata": {},
   "outputs": [
    {
     "data": {
      "application/vnd.jupyter.widget-view+json": {
       "model_id": "ed31e171f63c42f49b13e7c5b06183aa",
       "version_major": 2,
       "version_minor": 0
      },
      "text/plain": [
       "  0%|          | 0/2001 [00:00<?, ?it/s]"
      ]
     },
     "metadata": {},
     "output_type": "display_data"
    }
   ],
   "source": [
    "for url in tqdm(work_url.topic_url[9000:11001]):\n",
    "    \n",
    "    driver.get(url)\n",
    "    \n",
    "    sleep(randint(1, 3))\n",
    "    \n",
    "    if driver.current_url != start_url:\n",
    "        \n",
    "        try:\n",
    "            if 'Продавец считает лот подлинным' in driver.find_element(By.CLASS_NAME, 'ipsList_data').text:\n",
    "                authenticity = 1\n",
    "            \n",
    "            else:\n",
    "                authenticity = 0\n",
    "                \n",
    "        except:\n",
    "            pass\n",
    "            \n",
    "        # описание    \n",
    "        try:\n",
    "            description = driver.find_element(By.ID, 'ww2itemDesc').text\n",
    "        \n",
    "        except:\n",
    "            description = 'none'\n",
    "\n",
    "        # информация о продавце\n",
    "        try:\n",
    "            user_details = driver.find_element(By.CLASS_NAME, 'user_details').text\n",
    "\n",
    "        except:\n",
    "            user_details = 'none'\n",
    "\n",
    "        try:\n",
    "            nickname = driver.find_element(By.ID, 'username_e').text\n",
    "\n",
    "        except:\n",
    "            nickname = 'none'\n",
    "\n",
    "        try:\n",
    "            seller_status = driver.find_element(By.CLASS_NAME, 'ipsBadge').text\n",
    "\n",
    "        except:\n",
    "            seller_status = 'none'\n",
    "\n",
    "        seller_group = driver.find_element(By.CLASS_NAME, 'group_title').text\n",
    "\n",
    "        try:\n",
    "            rate_pos = driver.find_element(By.CLASS_NAME, 'main_green').text\n",
    "\n",
    "        except:\n",
    "            rate_pos = 'none'\n",
    "\n",
    "        try:\n",
    "            rate_neg = driver.find_element(By.CLASS_NAME, 'main_red').text\n",
    "\n",
    "        except:\n",
    "            rate_neg = 'none'\n",
    "\n",
    "        try:\n",
    "            watching = int(\n",
    "                re.findall(r'Наблюдают: \\d+', driver.find_element(By.CLASS_NAME, 'ipsForm_vertical').text)[0]\n",
    "                .replace('Наблюдают: ', ''))\n",
    "\n",
    "        except:\n",
    "            watching = 'none'\n",
    "\n",
    "\n",
    "        try:\n",
    "            temp_dict = {}\n",
    "            vertical_blocks = (driver.find_element(By.CLASS_NAME, 'ipsForm_vertical')\n",
    "                               .find_elements(By.CLASS_NAME, 'ipsField_primary'))\n",
    "\n",
    "            for item in vertical_blocks:\n",
    "\n",
    "\n",
    "                try:\n",
    "                    title = item.find_element(By.TAG_NAME, 'h4').text\n",
    "                    value = item.find_element(By.TAG_NAME, 'span').text\n",
    "\n",
    "                    temp_dict[title] = value\n",
    "\n",
    "                except:\n",
    "                    pass\n",
    "\n",
    "            country = temp_dict['Страна продавца']\n",
    "            region = temp_dict['Расположение лота']\n",
    "\n",
    "            try:\n",
    "                delivery = temp_dict['Условия доставки']\n",
    "\n",
    "            except:\n",
    "                delivery = 'none'\n",
    "\n",
    "            try:\n",
    "                delivery_cost = temp_dict['Cтоимость доставки']\n",
    "\n",
    "            except:\n",
    "                delivery_cost = 'none'\n",
    "\n",
    "            payment = temp_dict['Условия оплаты']\n",
    "\n",
    "        except:\n",
    "            pass\n",
    "    \n",
    "        data.append([url,\n",
    "                 description,\n",
    "                 authenticity, watching,\n",
    "                 country, region,\n",
    "                 delivery, delivery_cost, payment,\n",
    "                 nickname, seller_status, seller_group,\n",
    "                 rate_pos, rate_neg,\n",
    "                 temp_dict, user_details])\n",
    "    \n",
    "    else:\n",
    "        print('заблокирован')"
   ]
  },
  {
   "cell_type": "code",
   "execution_count": null,
   "id": "f651a4a3",
   "metadata": {},
   "outputs": [],
   "source": [
    "# преобразовываю в датафрейм\n",
    "\n",
    "head = ['topic_url',\n",
    "        'description',\n",
    "        'authenticity', 'watching',\n",
    "        'country', 'region',\n",
    "        'delivery', 'delivery_cost', 'payment',\n",
    "        'nickname', 'seller_status', 'seller_group',\n",
    "        'rate_pos', 'rate_neg',\n",
    "        'temp_dict', 'user_details']\n",
    "\n",
    "work_data = pd.DataFrame(data, columns=head)"
   ]
  },
  {
   "cell_type": "code",
   "execution_count": null,
   "id": "3162f6fd",
   "metadata": {},
   "outputs": [],
   "source": [
    "work_data.shape"
   ]
  },
  {
   "cell_type": "code",
   "execution_count": null,
   "id": "455ab4a0",
   "metadata": {},
   "outputs": [],
   "source": [
    "work_data.head(3)"
   ]
  },
  {
   "cell_type": "code",
   "execution_count": null,
   "id": "feb5035a",
   "metadata": {},
   "outputs": [],
   "source": [
    "work = work_url.merge(work_data, how='left', on='topic_url')"
   ]
  },
  {
   "cell_type": "code",
   "execution_count": null,
   "id": "7ccfb55f",
   "metadata": {},
   "outputs": [],
   "source": [
    "work.sample()"
   ]
  },
  {
   "cell_type": "code",
   "execution_count": null,
   "id": "84044a2d",
   "metadata": {},
   "outputs": [],
   "source": [
    "work = work[['topic_url', 'category', 'name', 'description',\n",
    "             'price', 'price_type', 'item_number',\n",
    "             'country', 'region',\n",
    "             'start_date', 'update_date', 'views', 'authenticity',\n",
    "             'watching', 'delivery', 'delivery_cost', 'payment',\n",
    "             'nickname', 'seller_status', 'seller_group',\n",
    "             'rate_pos', 'rate_neg', 'user_details',\n",
    "             'temp_dict']]"
   ]
  },
  {
   "cell_type": "code",
   "execution_count": null,
   "id": "015f4502",
   "metadata": {},
   "outputs": [],
   "source": [
    "# Записываю в файл\n",
    "\n",
    "work.to_excel(file_path + 'ww2_' + category + '.xlsx', encoding='utf-8', index=False)"
   ]
  },
  {
   "cell_type": "code",
   "execution_count": null,
   "id": "e3f79d8a",
   "metadata": {},
   "outputs": [],
   "source": []
  },
  {
   "cell_type": "code",
   "execution_count": null,
   "id": "7a1b13f6",
   "metadata": {},
   "outputs": [],
   "source": []
  },
  {
   "cell_type": "code",
   "execution_count": null,
   "id": "e5645c24",
   "metadata": {},
   "outputs": [],
   "source": []
  },
  {
   "cell_type": "code",
   "execution_count": null,
   "id": "59a2fe1a",
   "metadata": {},
   "outputs": [],
   "source": [
    "driver.quit()"
   ]
  },
  {
   "cell_type": "code",
   "execution_count": null,
   "id": "7f166884",
   "metadata": {},
   "outputs": [],
   "source": []
  }
 ],
 "metadata": {
  "kernelspec": {
   "display_name": "Python 3",
   "language": "python",
   "name": "python3"
  },
  "language_info": {
   "codemirror_mode": {
    "name": "ipython",
    "version": 3
   },
   "file_extension": ".py",
   "mimetype": "text/x-python",
   "name": "python",
   "nbconvert_exporter": "python",
   "pygments_lexer": "ipython3",
   "version": "3.8.8"
  }
 },
 "nbformat": 4,
 "nbformat_minor": 5
}
