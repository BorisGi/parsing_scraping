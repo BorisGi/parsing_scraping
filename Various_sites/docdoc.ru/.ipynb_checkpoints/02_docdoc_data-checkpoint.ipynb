{
 "cells": [
  {
   "cell_type": "markdown",
   "id": "4ab98bd5",
   "metadata": {},
   "source": [
    "Парсер docdoc.ru.\n",
    "\n",
    "Часть 2, собирает со страниц клиник данные:\n",
    "- описание\n",
    "- специализацию\n",
    "- кол-во врачей\n",
    "- основные данные о врачах\n",
    "\n",
    "Данные записываю сразу в два датасета, в общий, по клиникам, и по врачам.\n",
    "\n",
    "Последние правки скрипта: 2022-01-06"
   ]
  },
  {
   "cell_type": "markdown",
   "id": "a5356ee0",
   "metadata": {},
   "source": [
    "## Библиотеки и настройки ##"
   ]
  },
  {
   "cell_type": "code",
   "execution_count": null,
   "id": "c8005b9b",
   "metadata": {},
   "outputs": [],
   "source": [
    "#Загружаю нужные библиотеки\n",
    "\n",
    "import pandas as pd\n",
    "import math\n",
    "\n",
    "# регулярки\n",
    "import re\n",
    "\n",
    "# для юзер-агента\n",
    "from fake_useragent import UserAgent\n",
    "\n",
    "# прогресс-бар\n",
    "from tqdm.notebook import trange, tqdm\n",
    "\n",
    "# для пауз при парсинге\n",
    "from time import sleep\n",
    "\n",
    "# селениум\n",
    "from selenium import webdriver\n",
    "\n",
    "from selenium.common.exceptions import NoSuchElementException\n",
    "from selenium.webdriver.common.by import By\n",
    "from selenium.webdriver.support.ui import WebDriverWait\n",
    "from selenium.webdriver.support import expected_conditions as EC"
   ]
  },
  {
   "cell_type": "code",
   "execution_count": null,
   "id": "fee746db",
   "metadata": {},
   "outputs": [],
   "source": [
    "# настройки юзер-агента\n",
    "\n",
    "ua = UserAgent()\n",
    "\n",
    "# юзер-агент для Хрома\n",
    "user_agent = ua.chrome"
   ]
  },
  {
   "cell_type": "code",
   "execution_count": null,
   "id": "e0589f81",
   "metadata": {},
   "outputs": [],
   "source": [
    "test_url = 'https://intoli.com/blog/not-possible-to-block-chrome-headless/chrome-headless-test.html'"
   ]
  },
  {
   "cell_type": "code",
   "execution_count": null,
   "id": "e8c0a64a",
   "metadata": {},
   "outputs": [],
   "source": [
    "# путь к файлам\n",
    "\n",
    "file_path = 'C:/00_Data/stom/'\n",
    "proxy_list_path = 'C:/work/proxy_list.txt' # путь и названия со списком прокси"
   ]
  },
  {
   "cell_type": "code",
   "execution_count": null,
   "id": "26b21e5e",
   "metadata": {},
   "outputs": [],
   "source": [
    "# загружаю список прокси\n",
    "# список простой текстовый файл, который содержит прокси в формате: адрес:порт логин:пароль\n",
    "\n",
    "proxy_list = []\n",
    "\n",
    "with open(proxy_list_path, 'r') as f:\n",
    "    for line in f:\n",
    "        proxy_list += [line.split()]\n",
    "        \n",
    "print('Рабочих прокси — ' + str(len(proxy_list)))"
   ]
  },
  {
   "cell_type": "code",
   "execution_count": null,
   "id": "ed6f71f6",
   "metadata": {},
   "outputs": [],
   "source": [
    "# номер прокси\n",
    "\n",
    "print('Номер прокси, от 0 до ' + str(len(proxy_list) - 1))\n",
    "proxy_number = int(input())"
   ]
  },
  {
   "cell_type": "code",
   "execution_count": null,
   "id": "fd115c1d",
   "metadata": {},
   "outputs": [],
   "source": [
    "# настройки веб-драйвера, чтобы скрыть автоматическое управление\n",
    "\n",
    "opt = webdriver.ChromeOptions()\n",
    "opt.add_argument(f'user-agent={user_agent}')\n",
    "opt.add_argument('--disable-blink-features')\n",
    "opt.add_argument('--disable-blink-features=AutomationControlled')\n",
    "opt.add_argument(f'--proxy-server={proxy_list[proxy_number][0]}') # \"девственный\" прокси(:\n",
    "opt.add_experimental_option(\"excludeSwitches\", [\"enable-automation\"]) # отключает строку про удаленное управление\n",
    "opt.add_experimental_option('useAutomationExtension', False)"
   ]
  },
  {
   "cell_type": "code",
   "execution_count": null,
   "id": "962beb1d",
   "metadata": {},
   "outputs": [],
   "source": [
    "print('Login: ' + proxy_list[proxy_number][1])\n",
    "print('Pass: ' + proxy_list[proxy_number][2])"
   ]
  },
  {
   "cell_type": "code",
   "execution_count": null,
   "id": "ea662733",
   "metadata": {},
   "outputs": [],
   "source": [
    "# запускаю драйвер, проверяю настройки\n",
    "\n",
    "driver = webdriver.Chrome(options=opt)\n",
    "driver.get(test_url)\n",
    "driver.maximize_window() # раскрываю окно на максимум"
   ]
  },
  {
   "cell_type": "code",
   "execution_count": null,
   "id": "8245e1a0",
   "metadata": {},
   "outputs": [],
   "source": []
  },
  {
   "cell_type": "markdown",
   "id": "680279cc",
   "metadata": {},
   "source": [
    "## Загружаю ссылки ##"
   ]
  },
  {
   "cell_type": "code",
   "execution_count": null,
   "id": "5054a5ce",
   "metadata": {},
   "outputs": [],
   "source": [
    "# нужный город латиницей, транслитом как на сайте\n",
    "\n",
    "need_city = input()"
   ]
  },
  {
   "cell_type": "code",
   "execution_count": null,
   "id": "42c7c4f1",
   "metadata": {},
   "outputs": [],
   "source": [
    "# ссылка на начальную страницу поиска клиник\n",
    "\n",
    "work_links = pd.read_excel(file_path + f'doc_doc_urls_{need_city}.xlsx')"
   ]
  },
  {
   "cell_type": "code",
   "execution_count": null,
   "id": "a1d14337",
   "metadata": {},
   "outputs": [],
   "source": [
    "work_links.shape"
   ]
  },
  {
   "cell_type": "code",
   "execution_count": null,
   "id": "cf06221d",
   "metadata": {},
   "outputs": [],
   "source": [
    "work_links.sample(2)"
   ]
  },
  {
   "cell_type": "code",
   "execution_count": null,
   "id": "2086b240",
   "metadata": {},
   "outputs": [],
   "source": [
    "# список ссылок\n",
    "\n",
    "page_list = work_links['clinic_page'].to_list()"
   ]
  },
  {
   "cell_type": "code",
   "execution_count": null,
   "id": "d85473d3",
   "metadata": {},
   "outputs": [],
   "source": []
  },
  {
   "cell_type": "markdown",
   "id": "8bdfa1ac",
   "metadata": {},
   "source": [
    "### Код парсера ###"
   ]
  },
  {
   "cell_type": "code",
   "execution_count": null,
   "id": "adb1ebb7",
   "metadata": {},
   "outputs": [],
   "source": [
    "data = [] # список для данных\n",
    "data_doc = [] # список для данных о врачах\n",
    "\n",
    "for page_url in tqdm(page_list): # цикл по списку ссылок\n",
    "    \n",
    "    driver.get(page_url)        \n",
    "    sleep(3)\n",
    "    \n",
    "    try: # принимаю куки\n",
    "        driver.find_element_by_tag_name('button[data-test-id=\"cookies-banner-button\"]').click()\n",
    "        \n",
    "    except:\n",
    "        pass    \n",
    "    \n",
    "    # описание клиники\n",
    "    \n",
    "    try: # раскрываю \"Показать ещё\"\n",
    "        (driver.find_element_by_tag_name('div[itemprop=\"description\"]')\n",
    "         .find_element_by_tag_name('button')).click()\n",
    "        \n",
    "    except:\n",
    "        pass\n",
    "    \n",
    "    try:\n",
    "        description = (driver.find_element_by_tag_name('div[itemprop=\"description\"]')\n",
    "                       .text.replace('\\n', ''))\n",
    "        \n",
    "    except:\n",
    "        description = 'none'\n",
    "        \n",
    "    try:\n",
    "        specialization = (driver.find_element_by_tag_name('div[data-test-id=\"clinic-page-info-block__specialities\"]')\n",
    "                          .text.replace('Специализация\\n', '').split())\n",
    "        \n",
    "    except:\n",
    "        specialization = 'none'\n",
    "        \n",
    "        \n",
    "    # врачи\n",
    "    \n",
    "    # количество врачей\n",
    "    doc_number = int(re.sub(r'\\D', '', driver.find_element_by_class_name('async-cards__title').text))\n",
    "    \n",
    "    \n",
    "    while True: # раскрываю все блоки врачей\n",
    "        try:\n",
    "            driver.find_element_by_tag_name('button[data-test-id=\"async-clinic-card-list__button\"]').click()\n",
    "            sleep(1)\n",
    "        \n",
    "        except:\n",
    "            break    \n",
    "    \n",
    "    # краткие данные по врачам\n",
    "    \n",
    "    # достаю блоки с врачами    \n",
    "    doc_blocks = driver.find_elements_by_tag_name('div[data-test-id=\"doctor-list-page-card\"]')\n",
    "    \n",
    "    for i in doc_blocks:\n",
    "        \n",
    "        # рейтинг\n",
    "        doc_rating = int(re.sub(r'\\D', '',\n",
    "                                i.find_element_by_class_name('the-rating__mono-fill')\n",
    "                                .get_attribute('style')))\n",
    "        \n",
    "        # количество отзывов и рекомендаций\n",
    "        try:\n",
    "            doc_rec = (i.find_element_by_tag_name('div[data-test-id=\"doctor-list-page-card-rating__recommendations\"]')\n",
    "                       .text.split('\\n'))\n",
    "            \n",
    "        except:\n",
    "            doc_rec = 'none'\n",
    "        \n",
    "        # имя врача\n",
    "        doc_name = (i.find_element_by_tag_name('div[data-test-id=\"doctor-list-page-card__details-desktop\"')\n",
    "                    .find_element_by_tag_name('div[data-test-id=\"doctor-list-page-card-details__doctor-name\"]')\n",
    "                    .text)\n",
    "        \n",
    "        # специализация врача\n",
    "        doc_specialty = (i.find_element_by_tag_name('div[data-test-id=\"doctor-list-page-card__details-desktop\"')\n",
    "                         .find_element_by_tag_name('div[data-test-id=\"doctor-list-page-card-details__specialities\"]')\n",
    "                         .text)\n",
    "        \n",
    "        # стаж\n",
    "        try:\n",
    "            doc_experience = int(re.sub(r'\\D', '',\n",
    "                                        (i.find_element_by_tag_name\n",
    "                                         ('div[data-test-id=\"doctor-list-page-card__details-desktop\"')\n",
    "                                         .find_element_by_tag_name\n",
    "                                         ('span[data-test-id=\"doctor-list-page-card-details__experience\"]')\n",
    "                                         .text)))\n",
    "            \n",
    "        except:\n",
    "            doc_experience = 'none'\n",
    "        \n",
    "        \n",
    "        # страница врача\n",
    "        doc_page = (i.find_element_by_tag_name('div[data-test-id=\"doctor-list-page-card__details-desktop\"')\n",
    "                    .find_element_by_tag_name('a').get_attribute('href'))\n",
    "        \n",
    "        # весь текст блока\n",
    "        all_text = i.text.split('\\n')\n",
    "        \n",
    "        \n",
    "        data_doc.append([doc_name, doc_specialty, doc_experience,\n",
    "                         doc_rating, doc_rec,\n",
    "                         all_text,\n",
    "                         doc_page, page_url])\n",
    "                \n",
    "    \n",
    "    \n",
    "    data.append([page_url,\n",
    "                 description, specialization,\n",
    "                 doc_number])"
   ]
  },
  {
   "cell_type": "code",
   "execution_count": null,
   "id": "416c17a7",
   "metadata": {},
   "outputs": [],
   "source": [
    "# Записываю в датафрейм\n",
    "\n",
    "head_list = ['clinic_page', 'description', 'specialization', 'doc_number'] # клиники\n",
    "\n",
    "head_list_doc = ['doc_name', 'doc_specialty', 'doc_experience',\n",
    "                 'doc_rating', 'doc_rec',\n",
    "                 'all_text', 'doc_page', 'clinic_page'] # врачи\n",
    "\n",
    "work = pd.DataFrame(data, columns=head_list)\n",
    "work_doc = pd.DataFrame(data_doc, columns=head_list_doc)"
   ]
  },
  {
   "cell_type": "code",
   "execution_count": null,
   "id": "19e5a122",
   "metadata": {},
   "outputs": [],
   "source": [
    "work.shape"
   ]
  },
  {
   "cell_type": "code",
   "execution_count": null,
   "id": "d9847473",
   "metadata": {},
   "outputs": [],
   "source": [
    "work_doc.shape"
   ]
  },
  {
   "cell_type": "code",
   "execution_count": null,
   "id": "c688cd0d",
   "metadata": {},
   "outputs": [],
   "source": [
    "# добавляю во фреймы данные из work.links\n",
    "\n",
    "work = work.merge(work_links, how='left', on='clinic_page')\n",
    "work_doc = work_doc.merge(work_links, how='left', on='clinic_page')"
   ]
  },
  {
   "cell_type": "code",
   "execution_count": null,
   "id": "541e868b",
   "metadata": {},
   "outputs": [],
   "source": [
    "# меняю столбцы местами\n",
    "\n",
    "work = work[['main_clinic', 'actual',\n",
    "         'clinic_type', 'speciality', 'specialization',\n",
    "         'doc_number',\n",
    "         'branch_clinic', 'branch_number',\n",
    "         'address', 'metro_stations',\n",
    "         'phone', 'work_hours', \n",
    "         'rating', 'rewiev_number', 'branch_rating', 'branch_rewiev_number',\n",
    "         'description', 'clinic_page'\n",
    "        ]]\n",
    "\n",
    "# для датафрейма врачей выкидываю ненужное\n",
    "\n",
    "work_doc = work_doc[['doc_name', 'doc_specialty', 'doc_experience',\n",
    "             'doc_rating', 'doc_rec',\n",
    "             'all_text', 'doc_page',\n",
    "             'main_clinic', 'clinic_page', 'actual']]"
   ]
  },
  {
   "cell_type": "code",
   "execution_count": null,
   "id": "19276f64",
   "metadata": {},
   "outputs": [],
   "source": []
  },
  {
   "cell_type": "code",
   "execution_count": null,
   "id": "9228a964",
   "metadata": {},
   "outputs": [],
   "source": [
    "# записываю в файлы\n",
    "\n",
    "work.to_excel(file_path + f'doc_doc_data_{need_city}.xlsx', encoding='utf8', index=False)\n",
    "work_doc.to_excel(file_path + f'doc_doc_data_docs_{need_city}.xlsx', encoding='utf8', index=False)"
   ]
  },
  {
   "cell_type": "code",
   "execution_count": null,
   "id": "59a2fe1a",
   "metadata": {},
   "outputs": [],
   "source": [
    "driver.quit()"
   ]
  },
  {
   "cell_type": "code",
   "execution_count": null,
   "id": "ff38380d",
   "metadata": {},
   "outputs": [],
   "source": []
  }
 ],
 "metadata": {
  "kernelspec": {
   "display_name": "Python 3",
   "language": "python",
   "name": "python3"
  },
  "language_info": {
   "codemirror_mode": {
    "name": "ipython",
    "version": 3
   },
   "file_extension": ".py",
   "mimetype": "text/x-python",
   "name": "python",
   "nbconvert_exporter": "python",
   "pygments_lexer": "ipython3",
   "version": "3.8.8"
  }
 },
 "nbformat": 4,
 "nbformat_minor": 5
}
