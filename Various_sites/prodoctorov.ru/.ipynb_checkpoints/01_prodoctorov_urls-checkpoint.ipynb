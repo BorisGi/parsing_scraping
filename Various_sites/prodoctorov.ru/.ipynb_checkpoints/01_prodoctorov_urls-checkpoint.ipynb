{
 "cells": [
  {
   "cell_type": "markdown",
   "id": "4ab98bd5",
   "metadata": {},
   "source": [
    "Парсер prodoctorov.ru. Часть 1, собирает ссылки.\n",
    "\n",
    "Последнее обновление: 2021_12_28"
   ]
  },
  {
   "cell_type": "markdown",
   "id": "c0852c75",
   "metadata": {},
   "source": [
    "## Библиотеки и настройки ##"
   ]
  },
  {
   "cell_type": "code",
   "execution_count": null,
   "id": "c8005b9b",
   "metadata": {
    "scrolled": true
   },
   "outputs": [],
   "source": [
    "#Загружаю нужные библиотеки\n",
    "\n",
    "import pandas as pd\n",
    "import math\n",
    "\n",
    "# регулярки\n",
    "import re\n",
    "\n",
    "# для юзер-агента\n",
    "from fake_useragent import UserAgent\n",
    "\n",
    "# прогресс-бар\n",
    "from tqdm.notebook import trange, tqdm\n",
    "\n",
    "# для пауз при парсинге\n",
    "from time import sleep\n",
    "\n",
    "# селениум\n",
    "from selenium import webdriver\n",
    "\n",
    "from selenium.common.exceptions import NoSuchElementException\n",
    "from selenium.webdriver.common.by import By\n",
    "from selenium.webdriver.support.ui import WebDriverWait\n",
    "from selenium.webdriver.support import expected_conditions as EC"
   ]
  },
  {
   "cell_type": "code",
   "execution_count": null,
   "id": "fee746db",
   "metadata": {
    "scrolled": true
   },
   "outputs": [],
   "source": [
    "# настройки юзер-агента\n",
    "\n",
    "ua = UserAgent()\n",
    "\n",
    "# юзер-агент для Хрома\n",
    "user_agent = ua.chrome"
   ]
  },
  {
   "cell_type": "code",
   "execution_count": null,
   "id": "e0589f81",
   "metadata": {
    "scrolled": true
   },
   "outputs": [],
   "source": [
    "test_url = 'https://intoli.com/blog/not-possible-to-block-chrome-headless/chrome-headless-test.html'"
   ]
  },
  {
   "cell_type": "code",
   "execution_count": null,
   "id": "2c589c5b",
   "metadata": {
    "scrolled": true
   },
   "outputs": [],
   "source": [
    "# путь к файлам\n",
    "\n",
    "file_path = 'C:/00_Data/stom/'\n",
    "proxy_list_path = 'C:/work/proxy_list.txt' # путь и названия со списком прокси"
   ]
  },
  {
   "cell_type": "code",
   "execution_count": null,
   "id": "11b19f96",
   "metadata": {
    "scrolled": true
   },
   "outputs": [],
   "source": [
    "# загружаю список прокси\n",
    "# список простой текстовый файл, который содержит прокси в формате: адрес:порт логин:пароль\n",
    "\n",
    "proxy_list = []\n",
    "\n",
    "with open(proxy_list_path, 'r') as f:\n",
    "    for line in f:\n",
    "        proxy_list += [line.split()]\n",
    "        \n",
    "print('Рабочих прокси — ' + str(len(proxy_list)))"
   ]
  },
  {
   "cell_type": "code",
   "execution_count": null,
   "id": "9e30a4b9",
   "metadata": {
    "scrolled": true
   },
   "outputs": [],
   "source": [
    "# номер прокси\n",
    "\n",
    "print('Номер прокси, от 0 до ' + str(len(proxy_list) - 1))\n",
    "proxy_number = int(input())"
   ]
  },
  {
   "cell_type": "code",
   "execution_count": null,
   "id": "48bbedab",
   "metadata": {
    "scrolled": true
   },
   "outputs": [],
   "source": [
    "# настройки веб-драйвера, чтобы скрыть автоматическое управление\n",
    "\n",
    "opt = webdriver.ChromeOptions()\n",
    "opt.add_argument(f'user-agent={user_agent}')\n",
    "opt.add_argument('--disable-blink-features')\n",
    "opt.add_argument('--disable-blink-features=AutomationControlled')\n",
    "opt.add_argument(f'--proxy-server={proxy_list[proxy_number][0]}') # \"девственный\" прокси(:\n",
    "opt.add_experimental_option(\"excludeSwitches\", [\"enable-automation\"]) # отключает строку про удаленное управление\n",
    "opt.add_experimental_option('useAutomationExtension', False)"
   ]
  },
  {
   "cell_type": "code",
   "execution_count": null,
   "id": "3445e8bd",
   "metadata": {},
   "outputs": [],
   "source": [
    "print('Login: ' + proxy_list[proxy_number][1])\n",
    "print('Pass: ' + proxy_list[proxy_number][2])"
   ]
  },
  {
   "cell_type": "code",
   "execution_count": null,
   "id": "a2a48c14",
   "metadata": {
    "scrolled": true
   },
   "outputs": [],
   "source": [
    "# запускаю драйвер, проверяю настройки\n",
    "\n",
    "driver = webdriver.Chrome(options=opt)\n",
    "driver.get(test_url)\n",
    "driver.maximize_window() # раскрываю окно на максимум"
   ]
  },
  {
   "cell_type": "code",
   "execution_count": null,
   "id": "9427a40a",
   "metadata": {
    "scrolled": true
   },
   "outputs": [],
   "source": []
  },
  {
   "cell_type": "markdown",
   "id": "ef4e8718",
   "metadata": {},
   "source": [
    "## Собираю ссылки ##"
   ]
  },
  {
   "cell_type": "code",
   "execution_count": null,
   "id": "a69e4e4d",
   "metadata": {},
   "outputs": [],
   "source": [
    "# нужный город латиницей, транслитом как на сайте\n",
    "\n",
    "need_city = input()"
   ]
  },
  {
   "cell_type": "code",
   "execution_count": null,
   "id": "26730de7",
   "metadata": {
    "scrolled": true
   },
   "outputs": [],
   "source": [
    "# ссылка, у Продокторов очень простая навигация (:\n",
    "\n",
    "url_part_1 = f'https://prodoctorov.ru/{need_city}/top/chastnaya-stomatologiya/?page='"
   ]
  },
  {
   "cell_type": "code",
   "execution_count": null,
   "id": "0c461735",
   "metadata": {
    "scrolled": true
   },
   "outputs": [],
   "source": [
    "# по умолчанию Москва\n",
    "\n",
    "driver.get(url_part_1 + '1')"
   ]
  },
  {
   "cell_type": "markdown",
   "id": "1727e618",
   "metadata": {},
   "source": [
    "Считаю количество страниц.\n",
    "\n",
    "На странице 20 клиник, на первую страницу Prodoctorov добавляет 3 платных ссылки (они дублируются)."
   ]
  },
  {
   "cell_type": "code",
   "execution_count": null,
   "id": "72ddf203",
   "metadata": {
    "scrolled": true
   },
   "outputs": [],
   "source": [
    "# Считаю количество страниц\n",
    "\n",
    "clinic_number = int(driver\n",
    "                    .find_element_by_class_name('p-page__title')\n",
    "                    .get_attribute('data-counter')\n",
    "                    .replace(')', '').replace('(', '').replace(' ', ''))\n",
    "page_number = (clinic_number + 3) // 20 + 1\n",
    "\n",
    "print('Количество клиник: ' + str(clinic_number))\n",
    "print('Количество страниц: ' + str(page_number))"
   ]
  },
  {
   "cell_type": "code",
   "execution_count": null,
   "id": "16d87e37",
   "metadata": {
    "scrolled": true
   },
   "outputs": [],
   "source": [
    "data = [] # список для данных\n",
    "\n",
    "for i in tqdm(range(1, page_number + 1)): # цикл для сбора ссылок\n",
    "    \n",
    "    driver.get(url_part_1 + str(i))\n",
    "    sleep(2)\n",
    "    \n",
    "    links = driver.find_elements_by_class_name('b-card__name') # беру блоки со страницы\n",
    "    \n",
    "    for link in links: # вытаскиваю ссылки\n",
    "        clinic = link.text\n",
    "        clinic_page = link.find_element_by_tag_name('a').get_attribute('href')\n",
    "        \n",
    "        data.append([clinic, clinic_page]) # добавляю данные в список"
   ]
  },
  {
   "cell_type": "code",
   "execution_count": null,
   "id": "a768a108",
   "metadata": {
    "scrolled": true
   },
   "outputs": [],
   "source": [
    "# Записываю в датафрейм\n",
    "\n",
    "head_list = ['clinic', 'clinic_page']\n",
    "work_links = pd.DataFrame(data, columns=head_list)"
   ]
  },
  {
   "cell_type": "code",
   "execution_count": null,
   "id": "43a562f9",
   "metadata": {
    "scrolled": true
   },
   "outputs": [],
   "source": [
    "work_links.shape"
   ]
  },
  {
   "cell_type": "code",
   "execution_count": null,
   "id": "73d592ea",
   "metadata": {
    "scrolled": true
   },
   "outputs": [],
   "source": [
    "# удаляю дубликаты\n",
    "\n",
    "work_links.drop_duplicates(inplace=True)"
   ]
  },
  {
   "cell_type": "code",
   "execution_count": null,
   "id": "19e5a122",
   "metadata": {
    "scrolled": true
   },
   "outputs": [],
   "source": [
    "work_links.shape"
   ]
  },
  {
   "cell_type": "code",
   "execution_count": null,
   "id": "9228a964",
   "metadata": {
    "scrolled": true
   },
   "outputs": [],
   "source": [
    "work_links.to_excel(file_path + f'prodoctorov_urls_{need_city}.xlsx', encoding='utf8', index=False)"
   ]
  },
  {
   "cell_type": "code",
   "execution_count": null,
   "id": "59a2fe1a",
   "metadata": {
    "scrolled": true
   },
   "outputs": [],
   "source": [
    "driver.quit()"
   ]
  },
  {
   "cell_type": "code",
   "execution_count": null,
   "id": "ff38380d",
   "metadata": {
    "scrolled": true
   },
   "outputs": [],
   "source": []
  }
 ],
 "metadata": {
  "kernelspec": {
   "display_name": "Python 3",
   "language": "python",
   "name": "python3"
  },
  "language_info": {
   "codemirror_mode": {
    "name": "ipython",
    "version": 3
   },
   "file_extension": ".py",
   "mimetype": "text/x-python",
   "name": "python",
   "nbconvert_exporter": "python",
   "pygments_lexer": "ipython3",
   "version": "3.8.8"
  }
 },
 "nbformat": 4,
 "nbformat_minor": 5
}
