{
 "cells": [
  {
   "cell_type": "markdown",
   "id": "7d5804e8",
   "metadata": {},
   "source": [
    "Скрипт собирает базовую информацию о магазинах оружия с сайта https://gunportal.ru\n",
    "\n",
    "Последние правки: 2022-01-13"
   ]
  },
  {
   "cell_type": "markdown",
   "id": "7f72bcc1",
   "metadata": {},
   "source": [
    "## Библиотеки и настройки ##"
   ]
  },
  {
   "cell_type": "code",
   "execution_count": null,
   "id": "d34f9bc1",
   "metadata": {},
   "outputs": [],
   "source": [
    "#Загружаю нужные библиотеки\n",
    "\n",
    "import pandas as pd\n",
    "import math\n",
    "import os\n",
    "\n",
    "# для юзер-агента\n",
    "from fake_useragent import UserAgent\n",
    "\n",
    "# прогресс-бар\n",
    "from tqdm.notebook import trange, tqdm\n",
    "\n",
    "# для пауз при парсинге\n",
    "from time import sleep\n",
    "\n",
    "# селениум\n",
    "from selenium.webdriver import Chrome\n",
    "from selenium.webdriver.chrome.service import Service\n",
    "from selenium import webdriver\n",
    "\n",
    "from selenium.common.exceptions import NoSuchElementException\n",
    "from selenium.webdriver.common.by import By\n",
    "from selenium.webdriver.support.ui import WebDriverWait\n",
    "from selenium.webdriver.support import expected_conditions as EC"
   ]
  },
  {
   "cell_type": "code",
   "execution_count": null,
   "id": "403dea7a",
   "metadata": {},
   "outputs": [],
   "source": [
    "# настройки юзер-агента\n",
    "\n",
    "ua = UserAgent()\n",
    "\n",
    "# юзер-агент для Хрома\n",
    "user_agent = ua.chrome"
   ]
  },
  {
   "cell_type": "code",
   "execution_count": null,
   "id": "76634820",
   "metadata": {},
   "outputs": [],
   "source": [
    "test_url = 'https://intoli.com/blog/not-possible-to-block-chrome-headless/chrome-headless-test.html'"
   ]
  },
  {
   "cell_type": "code",
   "execution_count": null,
   "id": "a1e844ab",
   "metadata": {},
   "outputs": [],
   "source": [
    "# путь к файлам\n",
    "\n",
    "file_path = input()\n",
    "proxy_list_path = 'C:/work/proxy_list.txt'"
   ]
  },
  {
   "cell_type": "code",
   "execution_count": null,
   "id": "63b2a657",
   "metadata": {},
   "outputs": [],
   "source": [
    "# загружаю список прокси\n",
    "# список простой текстовый файл, который содержит прокси в формате: адрес:порт логин:пароль\n",
    "\n",
    "proxy_list = []\n",
    "\n",
    "with open(proxy_list_path, 'r') as f:\n",
    "    for line in f:\n",
    "        proxy_list += [line.split()]"
   ]
  },
  {
   "cell_type": "code",
   "execution_count": null,
   "id": "34c02a0f",
   "metadata": {},
   "outputs": [],
   "source": [
    "print('Рабочих прокси — ' + str(len(proxy_list)))"
   ]
  },
  {
   "cell_type": "code",
   "execution_count": null,
   "id": "3c5f961a",
   "metadata": {},
   "outputs": [],
   "source": [
    "# выбираю прокси из списка\n",
    "\n",
    "print('Номер прокси, от 0 до ' + str(len(proxy_list) - 1))\n",
    "proxy_number = int(input())"
   ]
  },
  {
   "cell_type": "code",
   "execution_count": null,
   "id": "023ac99e",
   "metadata": {},
   "outputs": [],
   "source": [
    "# настройки веб-драйвера, чтобы скрыть автоматическое управление\n",
    "\n",
    "opt = webdriver.ChromeOptions()\n",
    "opt.add_argument(f'user-agent={user_agent}')\n",
    "opt.add_argument('--disable-blink-features')\n",
    "opt.add_argument('--disable-blink-features=AutomationControlled')\n",
    "opt.add_argument(f'--proxy-server={proxy_list[proxy_number][0]}') # \"девственный\" прокси(:\n",
    "opt.add_experimental_option(\"excludeSwitches\", [\"enable-automation\"]) # отключает строку про удаленное управление\n",
    "opt.add_experimental_option('useAutomationExtension', False)"
   ]
  },
  {
   "cell_type": "code",
   "execution_count": null,
   "id": "4d2378ec",
   "metadata": {},
   "outputs": [],
   "source": [
    "print('Login: ' + proxy_list[proxy_number][1])\n",
    "print('Pass: ' + proxy_list[proxy_number][2])"
   ]
  },
  {
   "cell_type": "code",
   "execution_count": null,
   "id": "0ecedba3",
   "metadata": {},
   "outputs": [],
   "source": [
    "# запускаю драйвер, проверяю настройки\n",
    "\n",
    "driver = webdriver.Chrome(options=opt)\n",
    "driver.get(test_url)\n",
    "driver.maximize_window() # раскрываю окно на максимум"
   ]
  },
  {
   "cell_type": "code",
   "execution_count": null,
   "id": "b15a4787",
   "metadata": {},
   "outputs": [],
   "source": []
  },
  {
   "cell_type": "markdown",
   "id": "1df48a52",
   "metadata": {},
   "source": [
    "## Загружаю ссылки ##"
   ]
  },
  {
   "cell_type": "code",
   "execution_count": null,
   "id": "b486445b",
   "metadata": {},
   "outputs": [],
   "source": [
    "url = 'https://gunportal.ru/org/&type='"
   ]
  },
  {
   "cell_type": "code",
   "execution_count": null,
   "id": "858f2e7d",
   "metadata": {},
   "outputs": [],
   "source": []
  },
  {
   "cell_type": "code",
   "execution_count": null,
   "id": "b5df9f38",
   "metadata": {},
   "outputs": [],
   "source": [
    "data_urls = [] # список для данных\n",
    "\n",
    "for i in tqdm(range(1, 4)):\n",
    "    \n",
    "    driver.get(url + str(i))\n",
    "    sleep(3)\n",
    "    \n",
    "    # забираю блоки-ссылки\n",
    "    object_category = driver.title\n",
    "    \n",
    "    # категория\n",
    "    object_blocks = driver.find_elements(By.CLASS_NAME, 'new-product-item')\n",
    "    \n",
    "    for item in object_blocks:\n",
    "        \n",
    "        # название\n",
    "        object_name = item.find_element(By.TAG_NAME, 'a[class=\"org-title-card\"]').text\n",
    "        \n",
    "        # ссылка\n",
    "        object_page = item.find_element(By.TAG_NAME, 'a[class=\"org-title-card\"]').get_attribute('href')\n",
    "        \n",
    "        # город\n",
    "        object_city = item.find_element(By.TAG_NAME, 'span').text\n",
    "        \n",
    "        data_urls.append([object_category, object_name, object_city, object_page])"
   ]
  },
  {
   "cell_type": "code",
   "execution_count": null,
   "id": "c524d6cc",
   "metadata": {},
   "outputs": [],
   "source": [
    "# добавляю в датафрейм\n",
    "\n",
    "columns = ['object_category', 'object_name', 'object_city', 'object_page']\n",
    "object_pages = pd.DataFrame(data_urls, columns=columns)"
   ]
  },
  {
   "cell_type": "code",
   "execution_count": null,
   "id": "2a2f917a",
   "metadata": {},
   "outputs": [],
   "source": [
    "object_pages.head(3)"
   ]
  },
  {
   "cell_type": "code",
   "execution_count": null,
   "id": "b6b4e54b",
   "metadata": {},
   "outputs": [],
   "source": [
    "object_pages.shape"
   ]
  },
  {
   "cell_type": "code",
   "execution_count": null,
   "id": "ef1e5b1d",
   "metadata": {},
   "outputs": [],
   "source": []
  },
  {
   "cell_type": "markdown",
   "id": "97a44a5f",
   "metadata": {},
   "source": [
    "## Собираю данные со страниц ##"
   ]
  },
  {
   "cell_type": "code",
   "execution_count": null,
   "id": "fa399340",
   "metadata": {},
   "outputs": [],
   "source": [
    "# создаю список ссылок\n",
    "\n",
    "pages_list = object_pages['object_page'].to_list() # некоторые ссылки повторяются"
   ]
  },
  {
   "cell_type": "code",
   "execution_count": null,
   "id": "f36df448",
   "metadata": {},
   "outputs": [],
   "source": [
    "len(pages_list)"
   ]
  },
  {
   "cell_type": "code",
   "execution_count": null,
   "id": "d547312d",
   "metadata": {},
   "outputs": [],
   "source": []
  },
  {
   "cell_type": "markdown",
   "id": "47391c26",
   "metadata": {},
   "source": [
    "### Код парсера ###"
   ]
  },
  {
   "cell_type": "code",
   "execution_count": null,
   "id": "c633e097",
   "metadata": {},
   "outputs": [],
   "source": [
    "data = [] # список для данных\n",
    "\n",
    "for page in tqdm(pages_list):\n",
    "    \n",
    "    driver.get(page)\n",
    "    sleep(3)\n",
    "\n",
    "    # описание объекта\n",
    "    description = driver.find_element(By.CLASS_NAME, 'main__shop-description').text\n",
    "\n",
    "    # адрес\n",
    "    try:\n",
    "        address = driver.find_element(By.CLASS_NAME, 'main__content--address').text.replace('\\n', ', ')\n",
    "\n",
    "    except:\n",
    "        address = 'none'\n",
    "\n",
    "    # телефоны\n",
    "    try:\n",
    "        phone = driver.find_element(By.CLASS_NAME, 'phone').text\n",
    "\n",
    "    except:\n",
    "        phone = 'none'\n",
    "\n",
    "    # сайт\n",
    "    try:\n",
    "        website = driver.find_element(By.CLASS_NAME, 'web').text\n",
    "\n",
    "    except:\n",
    "        website = 'none'\n",
    "        \n",
    "    data.append([page, description, address, phone, website])"
   ]
  },
  {
   "cell_type": "code",
   "execution_count": null,
   "id": "e1f6ac49",
   "metadata": {},
   "outputs": [],
   "source": [
    "# добавляю в датафрейм\n",
    "\n",
    "columns = ['object_page', 'description', 'address', 'phone', 'website']\n",
    "object_info = pd.DataFrame(data, columns=columns)"
   ]
  },
  {
   "cell_type": "code",
   "execution_count": null,
   "id": "782db461",
   "metadata": {},
   "outputs": [],
   "source": [
    "object_info = object_info.merge(object_pages, how='left', on='object_page')"
   ]
  },
  {
   "cell_type": "code",
   "execution_count": null,
   "id": "ce62a021",
   "metadata": {},
   "outputs": [],
   "source": [
    "object_info.to_excel('C:/00_Data/new/gunportal.xlsx', index=False)"
   ]
  },
  {
   "cell_type": "code",
   "execution_count": null,
   "id": "5f344b53",
   "metadata": {},
   "outputs": [],
   "source": [
    "driver.quit()"
   ]
  },
  {
   "cell_type": "code",
   "execution_count": null,
   "id": "84b86e49",
   "metadata": {},
   "outputs": [],
   "source": []
  }
 ],
 "metadata": {
  "kernelspec": {
   "display_name": "Python 3",
   "language": "python",
   "name": "python3"
  },
  "language_info": {
   "codemirror_mode": {
    "name": "ipython",
    "version": 3
   },
   "file_extension": ".py",
   "mimetype": "text/x-python",
   "name": "python",
   "nbconvert_exporter": "python",
   "pygments_lexer": "ipython3",
   "version": "3.8.8"
  }
 },
 "nbformat": 4,
 "nbformat_minor": 5
}
