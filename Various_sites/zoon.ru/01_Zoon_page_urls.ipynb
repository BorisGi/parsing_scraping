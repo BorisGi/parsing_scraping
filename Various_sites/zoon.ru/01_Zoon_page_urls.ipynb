{
 "cells": [
  {
   "cell_type": "markdown",
   "id": "c949fb3b",
   "metadata": {},
   "source": [
    "Парсер Zoon.ru\n",
    "\n",
    "Часть 1. Собирает ссылки на страницы нужных объектов с карты.\n",
    "\n",
    "- название\n",
    "- координаты\n",
    "- адрес\n",
    "\n",
    "Парсер написан 2021-07-06, изменен 2021-08-05."
   ]
  },
  {
   "cell_type": "code",
   "execution_count": null,
   "id": "c8005b9b",
   "metadata": {},
   "outputs": [],
   "source": [
    "#Загружаю нужные библиотеки\n",
    "\n",
    "import pandas as pd\n",
    "import math\n",
    "\n",
    "# для юзер-агента\n",
    "from fake_useragent import UserAgent\n",
    "\n",
    "# прогресс-бар\n",
    "from tqdm.notebook import trange, tqdm\n",
    "\n",
    "# для пауз при парсинге\n",
    "from time import sleep\n",
    "\n",
    "# селениум\n",
    "from selenium import webdriver\n",
    "\n",
    "from selenium.common.exceptions import NoSuchElementException\n",
    "from selenium.webdriver.common.by import By\n",
    "from selenium.webdriver.support.ui import WebDriverWait\n",
    "from selenium.webdriver.support import expected_conditions as EC"
   ]
  },
  {
   "cell_type": "code",
   "execution_count": null,
   "id": "259960d1",
   "metadata": {},
   "outputs": [],
   "source": [
    "# настройки юзер-агента\n",
    "\n",
    "ua = UserAgent()\n",
    "\n",
    "# юзер-агент для Хрома\n",
    "user_agent = ua.chrome"
   ]
  },
  {
   "cell_type": "code",
   "execution_count": null,
   "id": "e0589f81",
   "metadata": {},
   "outputs": [],
   "source": [
    "# тестовая страница для Селениума\n",
    "\n",
    "test_url = 'https://intoli.com/blog/not-possible-to-block-chrome-headless/chrome-headless-test.html'"
   ]
  },
  {
   "cell_type": "code",
   "execution_count": null,
   "id": "7a184ad7",
   "metadata": {},
   "outputs": [],
   "source": [
    "# настройки веб-драйвера, чтобы скрыть автоматическое управление\n",
    "\n",
    "opt = webdriver.ChromeOptions()\n",
    "opt.add_argument(f'user-agent={user_agent}')\n",
    "opt.add_argument('--disable-blink-features')\n",
    "opt.add_argument('--disable-blink-features=AutomationControlled')\n",
    "#opt.add_argument('--proxy-server=212.192.198.116:57033') # \"девственный\" прокси(:\n",
    "opt.add_experimental_option(\"excludeSwitches\", [\"enable-automation\"]) # отключает строку про удаленное управление\n",
    "opt.add_experimental_option('useAutomationExtension', False)"
   ]
  },
  {
   "cell_type": "code",
   "execution_count": null,
   "id": "cd043464",
   "metadata": {},
   "outputs": [],
   "source": [
    "# запускаю драйвер, проверяю настройки\n",
    "\n",
    "driver = webdriver.Chrome(options=opt)\n",
    "driver.get(test_url)"
   ]
  },
  {
   "cell_type": "markdown",
   "id": "4017050d",
   "metadata": {},
   "source": [
    "Собираю список ссылок для \"перемещения\" по карте.\n",
    "\n",
    "Zoon отдает только 240 ссылок, поэтому чтобы вытащить все, нужно премещать центральную точку на карте."
   ]
  },
  {
   "cell_type": "markdown",
   "id": "88c8b0a7",
   "metadata": {},
   "source": [
    "Как устроена ссылка Zoon:\n",
    "\n",
    "https://zoon.ru/msk/beauty/ — домен / город / категория\n",
    "\n",
    "?search_query_form=1&m%5B5d676e3f382c1302a5273135%5D=1 — запрос\n",
    "\n",
    "&center%5B%5D=55.74096935251004 — широта\n",
    "\n",
    "&center%5B%5D=37.60026722540671 — долгота\n",
    "\n",
    "&zoom=12 — масштаб"
   ]
  },
  {
   "cell_type": "code",
   "execution_count": null,
   "id": "e6026cce",
   "metadata": {},
   "outputs": [],
   "source": [
    "# текущая ссылка на карту (пока разбиваю вручную)\n",
    "\n",
    "driver.current_url"
   ]
  },
  {
   "cell_type": "markdown",
   "id": "770430db",
   "metadata": {},
   "source": [
    "Составляю список \"входных\" урлов. От точки на северо-западе сначала \"двигаюсь\" на восток, затем возвращаюсь к начальной, смещаю точку на юг и снова на восток.\n",
    "\n",
    "Степень подробности (масштаб) выбираю в зависимости от объекта. Для стоматологий хватает и 14 и 840 ссылок.\n",
    "\n",
    "Для салонов красоты нужно - 16 и 3168 ссылок. И, видимо, два раза. Т.е. второй раз нужно \"сместить\" точку и пройти еще раз, чтобы выцепить все."
   ]
  },
  {
   "cell_type": "code",
   "execution_count": null,
   "id": "1d1b14c7",
   "metadata": {},
   "outputs": [],
   "source": [
    "%%time\n",
    "\n",
    "# список для ссылок\n",
    "url_list = []\n",
    "\n",
    "latitude_a = 56.043347 # задаю начальную широту\n",
    "longitude_a = 37.067043 # задаю начальную долготу\n",
    "\n",
    "# компоненты ссылки\n",
    "#url_part_1 ='https://zoon.ru/msk/beauty/?search_query_form=1&center%5B%5D='\n",
    "url_part_1 ='https://zoon.ru/msk/medical/?search_query_form=1&query%5B%5D=Стоматологии&query_type=base&center%5B%5D='\n",
    "url_part_2 = '&center%5B%5D='\n",
    "url_part_3 = '&zoom=15' # последнее число масштаб карты\n",
    "\n",
    "for y in range(66): # цикл для перемещения по широте\n",
    "    \n",
    "    url = url_part_1 + str(latitude_a) + url_part_2 + str(longitude_a) + url_part_3\n",
    "    url_list += [url]\n",
    "        \n",
    "    for x in range(47): # цикл для перемещения по долготе\n",
    "        longitude_a += 0.023332 # перемещаю точку по долготе на восток\n",
    "        url = url_part_1 + str(latitude_a) + url_part_2 + str(longitude_a) + url_part_3\n",
    "        url_list += [url]\n",
    "        \n",
    "    \n",
    "    longitude_a = 37.067043 # возвращаю точку к исходной долготе\n",
    "    latitude_a -= 0.01003 # перемещаю точку по широте на юг"
   ]
  },
  {
   "cell_type": "code",
   "execution_count": null,
   "id": "c6fcd184",
   "metadata": {},
   "outputs": [],
   "source": [
    "# проверяю длину списка\n",
    "\n",
    "len(url_list)"
   ]
  },
  {
   "cell_type": "markdown",
   "id": "7432072c",
   "metadata": {},
   "source": [
    "Собираю данные и ссылки на страницы клиник на Zoon"
   ]
  },
  {
   "cell_type": "code",
   "execution_count": null,
   "id": "2c542412",
   "metadata": {},
   "outputs": [],
   "source": [
    "# список для данных\n",
    "data = []\n",
    "\n",
    "\n",
    "for map_url in tqdm(url_list[240:301]): # цикл для перебора ссылок (точек входа на карте)\n",
    "    \n",
    "    sleep(3)\n",
    "    driver.get(map_url)\n",
    "    driver.implicitly_wait(5)\n",
    "    \n",
    "    # код на случай, если вылезет капча\n",
    "    if driver.find_element_by_class_name('simple-text').text == 'Мы проверяем, что вы не робот, через несколько секунд вы будете перенаправлены на сайт.':\n",
    "        print('Stop')\n",
    "        break\n",
    "    \n",
    "    # нажимаю 8 раз кнопку \"показать следующие\": zoon отдает, максимум, 240 клиник в одном окне\n",
    "    for i in range(10):\n",
    "        sleep(2)\n",
    "        \n",
    "        try:\n",
    "            driver.find_element_by_class_name('js-next-page').click()\n",
    "        \n",
    "        except:\n",
    "            break\n",
    "            \n",
    "    object_blocks = driver.find_elements_by_class_name('service-item')\n",
    "    \n",
    "    if len(object_blocks) > 0: # сбор данных, если объекты есть на карте\n",
    "        \n",
    "        # цикл для выгрузки данных\n",
    "        for object_page in object_blocks:\n",
    "            \n",
    "            topic = object_page.find_element_by_class_name('H3').text # название\n",
    "            \n",
    "            try:\n",
    "                object_type = object_page.find_element_by_class_name('address-info-features').text # тип объекта\n",
    "                \n",
    "            except:\n",
    "                object_type = 'не указан'\n",
    "                \n",
    "            longitude = object_page.get_attribute('data-lon') # широта\n",
    "            latitude = object_page.get_attribute('data-lat') # долгота\n",
    "            \n",
    "            address = object_page.find_element_by_tag_name('address').text # адрес\n",
    "            clinic_page = object_page.find_element_by_tag_name('a').get_attribute('href') # страница объекта\n",
    "            \n",
    "            data.append([topic, object_type, longitude, latitude, address, clinic_page])"
   ]
  },
  {
   "cell_type": "code",
   "execution_count": null,
   "id": "9b15c3a2",
   "metadata": {},
   "outputs": [],
   "source": [
    "# записываю данные в датафрейм\n",
    "\n",
    "head_list = ['topic', 'object_type', 'longitude', 'latitude', 'address', 'clinic_page']\n",
    "work = pd.DataFrame(data, columns=head_list)"
   ]
  },
  {
   "cell_type": "code",
   "execution_count": null,
   "id": "1f738387",
   "metadata": {},
   "outputs": [],
   "source": [
    "work.shape"
   ]
  },
  {
   "cell_type": "code",
   "execution_count": null,
   "id": "3f8020cc",
   "metadata": {},
   "outputs": [],
   "source": [
    "work.sample(3)"
   ]
  },
  {
   "cell_type": "code",
   "execution_count": null,
   "id": "81cf9e15",
   "metadata": {},
   "outputs": [],
   "source": [
    "# Проверяю дубликаты. Дубликатов должно быть много из-за близости точек\n",
    "\n",
    "work[work.duplicated(keep=False)].shape"
   ]
  },
  {
   "cell_type": "code",
   "execution_count": null,
   "id": "6052e02d",
   "metadata": {},
   "outputs": [],
   "source": [
    "# Удаляю дубликаты\n",
    "\n",
    "work.drop_duplicates(inplace=True)"
   ]
  },
  {
   "cell_type": "code",
   "execution_count": null,
   "id": "4d0aa446",
   "metadata": {},
   "outputs": [],
   "source": [
    "work.shape"
   ]
  },
  {
   "cell_type": "code",
   "execution_count": null,
   "id": "8897e492",
   "metadata": {},
   "outputs": [],
   "source": [
    "work.sample(3)"
   ]
  },
  {
   "cell_type": "code",
   "execution_count": null,
   "id": "015f4502",
   "metadata": {},
   "outputs": [],
   "source": [
    "# Записываю в файл\n",
    "\n",
    "work.to_excel('C:/Data/stom_Zoom_urls_1.xlsx', encoding='utf-8', index=False)"
   ]
  },
  {
   "cell_type": "code",
   "execution_count": null,
   "id": "59a2fe1a",
   "metadata": {},
   "outputs": [],
   "source": [
    "driver.quit()"
   ]
  },
  {
   "cell_type": "code",
   "execution_count": null,
   "id": "8b4da112",
   "metadata": {},
   "outputs": [],
   "source": []
  }
 ],
 "metadata": {
  "kernelspec": {
   "display_name": "Python 3",
   "language": "python",
   "name": "python3"
  },
  "language_info": {
   "codemirror_mode": {
    "name": "ipython",
    "version": 3
   },
   "file_extension": ".py",
   "mimetype": "text/x-python",
   "name": "python",
   "nbconvert_exporter": "python",
   "pygments_lexer": "ipython3",
   "version": "3.8.8"
  }
 },
 "nbformat": 4,
 "nbformat_minor": 5
}
