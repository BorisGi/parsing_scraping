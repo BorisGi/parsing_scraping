{
 "cells": [
  {
   "cell_type": "markdown",
   "id": "5f3e30fa",
   "metadata": {},
   "source": [
    "Парсер Zoon.ru.\n",
    "\n",
    "Выгружает все цены со страницы объекта.\n",
    "\n",
    "Парсер написан 2021-08-10, доработан 2021-08-16"
   ]
  },
  {
   "cell_type": "code",
   "execution_count": null,
   "id": "c8005b9b",
   "metadata": {
    "scrolled": false
   },
   "outputs": [],
   "source": [
    "#Загружаю нужные библиотеки\n",
    "\n",
    "import pandas as pd\n",
    "\n",
    "# для юзер-агента\n",
    "from fake_useragent import UserAgent\n",
    "\n",
    "# прогресс-бар\n",
    "from tqdm.notebook import trange, tqdm\n",
    "\n",
    "# для пауз при парсинге\n",
    "from time import sleep\n",
    "\n",
    "# селениум\n",
    "from selenium import webdriver\n",
    "\n",
    "from selenium.common.exceptions import NoSuchElementException\n",
    "from selenium.webdriver.common.by import By\n",
    "from selenium.webdriver.support.ui import WebDriverWait\n",
    "from selenium.webdriver.support import expected_conditions as EC"
   ]
  },
  {
   "cell_type": "code",
   "execution_count": null,
   "id": "259960d1",
   "metadata": {
    "scrolled": false
   },
   "outputs": [],
   "source": [
    "# настройки юзер-агента\n",
    "\n",
    "ua = UserAgent()\n",
    "\n",
    "# юзер-агент для Хрома\n",
    "user_agent = ua.chrome"
   ]
  },
  {
   "cell_type": "code",
   "execution_count": null,
   "id": "e0589f81",
   "metadata": {
    "scrolled": false
   },
   "outputs": [],
   "source": [
    "# тестовая страница для Селениума\n",
    "\n",
    "test_url = 'https://intoli.com/blog/not-possible-to-block-chrome-headless/chrome-headless-test.html'"
   ]
  },
  {
   "cell_type": "code",
   "execution_count": null,
   "id": "7a184ad7",
   "metadata": {
    "scrolled": false
   },
   "outputs": [],
   "source": [
    "# настройки веб-драйвера, чтобы скрыть автоматическое управление\n",
    "\n",
    "opt = webdriver.ChromeOptions()\n",
    "opt.add_argument(f'user-agent={user_agent}')\n",
    "opt.add_argument('--disable-blink-features')\n",
    "opt.add_argument('--disable-blink-features=AutomationControlled')\n",
    "#opt.add_argument('--proxy-server=45.92.172.196:56053') # \"девственный\" прокси (:\n",
    "opt.add_experimental_option(\"excludeSwitches\", [\"enable-automation\"]) # отключает строку про удаленное управление\n",
    "opt.add_experimental_option('useAutomationExtension', False)"
   ]
  },
  {
   "cell_type": "code",
   "execution_count": null,
   "id": "cd043464",
   "metadata": {
    "scrolled": false
   },
   "outputs": [],
   "source": [
    "# запускаю драйвер, проверяю настройки\n",
    "\n",
    "driver = webdriver.Chrome(options=opt)\n",
    "driver.get(test_url)"
   ]
  },
  {
   "cell_type": "code",
   "execution_count": null,
   "id": "8821e1fa",
   "metadata": {
    "scrolled": true
   },
   "outputs": [],
   "source": [
    "# выгружаю ссылки\n",
    "\n",
    "work_links = pd.read_excel('C:/Data/Стоматологии/data_stom.xlsx', sheet_name='data')"
   ]
  },
  {
   "cell_type": "code",
   "execution_count": null,
   "id": "898e3f08",
   "metadata": {
    "scrolled": true
   },
   "outputs": [],
   "source": [
    "work_links.iloc[4081:].head()"
   ]
  },
  {
   "cell_type": "code",
   "execution_count": null,
   "id": "fc2dd07d",
   "metadata": {
    "scrolled": true
   },
   "outputs": [],
   "source": [
    "# количество ссылок — число иттераций в цикле\n",
    "\n",
    "work_links.shape[0]"
   ]
  },
  {
   "cell_type": "markdown",
   "id": "d222d95f",
   "metadata": {},
   "source": [
    "Zoon тяжело отдает данные: кнопка \"Показать еще\" и другие элементы не всегда раскрываются с первого раза.\n",
    "\n",
    "Поэтому использую цикл while и двойное явное ожидание. Это значительно увеличивает время сбора данных, но работает."
   ]
  },
  {
   "cell_type": "code",
   "execution_count": null,
   "id": "148e5c81",
   "metadata": {
    "scrolled": true
   },
   "outputs": [],
   "source": [
    "# рабочий вариант\n",
    "\n",
    "data = []\n",
    "\n",
    "for i in tqdm(range(4080, 4083)):\n",
    "    \n",
    "    driver.get(work_links.iloc[i].page_url)\n",
    "    sleep(1)\n",
    "            \n",
    "    page_url = work_links.iloc[i].page_url\n",
    "    object_name = work_links.iloc[i].object_name # название и адрес для идентификации\n",
    "    address = work_links.iloc[i].address\n",
    "\n",
    "    # выгружаю инфо по врачам\n",
    "\n",
    "    # закрываю лишние окна (они иногда дают побочки)\n",
    "    \n",
    "    # всплывающее окно с информацией\n",
    "    try:\n",
    "        driver.find_element_by_class_name('js-popup-close.popup-fixed-bottom-close.cursor').click()\n",
    "        \n",
    "    except:\n",
    "        pass\n",
    "    \n",
    "    # баннер\n",
    "    try:\n",
    "        driver.find_element_by_class_name('banner-close').click()\n",
    "        \n",
    "    except:\n",
    "        pass\n",
    "        \n",
    "    \n",
    "    # раскрываю всех специалистов\n",
    "    try:\n",
    "        driver.find_element_by_class_name('js-nav-item[data-content-name=\"prof\"]').click() # кликаю на специалистов в меню\n",
    "        \n",
    "\n",
    "        while True:\n",
    "            try:\n",
    "                WebDriverWait(driver, 10).until(\n",
    "                    EC.element_to_be_clickable((By.CLASS_NAME, 'button.button-show-more')))\n",
    "\n",
    "                driver.find_element_by_class_name('button.button-show-more').click()\n",
    "\n",
    "            except:\n",
    "                pass\n",
    "\n",
    "            WebDriverWait(driver, 10).until(\n",
    "                    EC.element_to_be_clickable((By.CLASS_NAME, 'button.button-show-more')))\n",
    "\n",
    "    except:\n",
    "        pass\n",
    "\n",
    "    \n",
    "    # выгружаю данные о специализации и стаже\n",
    "    \n",
    "    specialists_dict = {} # словарь для данных о специалистах\n",
    "    \n",
    "    try:\n",
    "        specialists = driver.find_element_by_class_name('prof-list').find_elements_by_tag_name('li') # блоки со специалистами\n",
    "\n",
    "        for spec_block in specialists:\n",
    "            name = spec_block.find_element_by_tag_name('a').text\n",
    "            prof = spec_block.find_element_by_class_name('prof-item__orientation').text.replace(' •', ';')\n",
    "            specialists_dict[name] = prof.split(';')\n",
    "\n",
    "    except:\n",
    "        pass        \n",
    "\n",
    "    # выгружаю прайс\n",
    "\n",
    "    # раскрываю блоки с ценами\n",
    "    try:\n",
    "        driver.find_element_by_class_name('js-nav-item[data-content-name=\"price\"]').click() # кликаю на \"Цены\" в меню\n",
    "        sleep(1)\n",
    "\n",
    "        try:\n",
    "            WebDriverWait(driver, 10).until(\n",
    "                EC.element_to_be_clickable((By.CLASS_NAME, 'show-all-price-items')))\n",
    "\n",
    "            driver.find_element_by_class_name('show-all-price-items').click() # кликаю на кнопку \"Показать все\"\n",
    "\n",
    "        except:\n",
    "            pass     \n",
    "\n",
    "\n",
    "        while True:        \n",
    "            try:            \n",
    "                WebDriverWait(driver, 10).until(\n",
    "                    EC.element_to_be_clickable((By.CLASS_NAME, 'z-button.button-show-more')))\n",
    "\n",
    "                driver.find_element_by_class_name('z-button.button-show-more').click()\n",
    "\n",
    "            except:\n",
    "                pass\n",
    "\n",
    "            WebDriverWait(driver, 10).until(\n",
    "                    EC.element_to_be_clickable((By.CLASS_NAME, 'z-button.button-show-more')))\n",
    "\n",
    "\n",
    "    except:\n",
    "        pass\n",
    "\n",
    "    # выгружаю данные    \n",
    "    full_price = {} # словарь для прайса\n",
    "\n",
    "    try:\n",
    "        all_services = driver.find_elements_by_class_name('pricelist-group-block') # блоки категорий\n",
    "\n",
    "        for item_price in all_services:\n",
    "            price_category = item_price.find_element_by_tag_name('h4').text # категория\n",
    "\n",
    "            # вытаскиваю услуги и цены\n",
    "            serv_block = item_price.find_elements_by_class_name('pricelist-item')\n",
    "\n",
    "            serv_block_dict = {} # словарь для услуг\n",
    "\n",
    "            for item in serv_block:\n",
    "                serv_name = item.find_element_by_class_name('js-pricelist-title').text # название услуги\n",
    "                serv_cost = item.find_element_by_class_name('pricelist-item-price').text.replace(' ', '').replace('₽', '') # цена услуги\n",
    "                serv_block_dict[serv_name] = serv_cost\n",
    "\n",
    "                full_price[price_category] = serv_block_dict # кладу словарь в словарь\n",
    "\n",
    "    except:\n",
    "        pass\n",
    "\n",
    "\n",
    "    # добавляю данные в список\n",
    "    data.append([page_url, object_name, address, specialists_dict, full_price])"
   ]
  },
  {
   "cell_type": "code",
   "execution_count": null,
   "id": "76e32817",
   "metadata": {
    "scrolled": true
   },
   "outputs": [],
   "source": [
    "# записываю данные в датафрейм\n",
    "\n",
    "head_list = ['page_url', 'object_name', 'address', 'specialists', 'full_price']\n",
    "work = pd.DataFrame(data, columns=head_list)"
   ]
  },
  {
   "cell_type": "code",
   "execution_count": null,
   "id": "5f08c9cd",
   "metadata": {
    "scrolled": true
   },
   "outputs": [],
   "source": [
    "work.shape"
   ]
  },
  {
   "cell_type": "code",
   "execution_count": null,
   "id": "7c91bb46",
   "metadata": {
    "scrolled": true
   },
   "outputs": [],
   "source": [
    "work.sample()"
   ]
  },
  {
   "cell_type": "code",
   "execution_count": null,
   "id": "eb450995",
   "metadata": {
    "scrolled": false
   },
   "outputs": [],
   "source": [
    "# Записываю в файл\n",
    "\n",
    "work.to_excel('C:/Data/стоматологии/full_price_3.xlsx', encoding='utf-8', index=False)"
   ]
  },
  {
   "cell_type": "code",
   "execution_count": null,
   "id": "59a2fe1a",
   "metadata": {
    "scrolled": false
   },
   "outputs": [],
   "source": [
    "driver.quit()"
   ]
  },
  {
   "cell_type": "code",
   "execution_count": null,
   "id": "8b4da112",
   "metadata": {
    "scrolled": false
   },
   "outputs": [],
   "source": []
  }
 ],
 "metadata": {
  "kernelspec": {
   "display_name": "Python 3",
   "language": "python",
   "name": "python3"
  },
  "language_info": {
   "codemirror_mode": {
    "name": "ipython",
    "version": 3
   },
   "file_extension": ".py",
   "mimetype": "text/x-python",
   "name": "python",
   "nbconvert_exporter": "python",
   "pygments_lexer": "ipython3",
   "version": "3.8.8"
  }
 },
 "nbformat": 4,
 "nbformat_minor": 5
}
