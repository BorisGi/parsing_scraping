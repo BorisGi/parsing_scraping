{
 "cells": [
  {
   "cell_type": "code",
   "execution_count": null,
   "id": "8d422d27",
   "metadata": {},
   "outputs": [],
   "source": []
  },
  {
   "cell_type": "code",
   "execution_count": 1,
   "id": "b9af72c4",
   "metadata": {},
   "outputs": [],
   "source": [
    "#Загружаю нужные библиотеки\n",
    "\n",
    "import pandas as pd\n",
    "import math\n",
    "\n",
    "# для юзер-агента\n",
    "from fake_useragent import UserAgent\n",
    "\n",
    "# прогресс-бар\n",
    "from tqdm.notebook import trange, tqdm\n",
    "\n",
    "# для пауз при парсинге\n",
    "from time import sleep\n",
    "\n",
    "# селениум\n",
    "from selenium import webdriver\n",
    "\n",
    "from selenium.common.exceptions import NoSuchElementException\n",
    "from selenium.webdriver.common.by import By\n",
    "from selenium.webdriver.support.ui import WebDriverWait\n",
    "from selenium.webdriver.support import expected_conditions as EC"
   ]
  },
  {
   "cell_type": "code",
   "execution_count": 2,
   "id": "10c41cbb",
   "metadata": {},
   "outputs": [],
   "source": [
    "# настройки юзер-агента\n",
    "\n",
    "ua = UserAgent()\n",
    "\n",
    "# юзер-агент для Хрома\n",
    "user_agent = ua.chrome"
   ]
  },
  {
   "cell_type": "code",
   "execution_count": 3,
   "id": "c75b3b7c",
   "metadata": {},
   "outputs": [],
   "source": [
    "test_url = 'https://intoli.com/blog/not-possible-to-block-chrome-headless/chrome-headless-test.html'"
   ]
  },
  {
   "cell_type": "code",
   "execution_count": 4,
   "id": "306ecd22",
   "metadata": {},
   "outputs": [],
   "source": [
    "# настройки веб-драйвера, чтобы скрыть автоматическое управление\n",
    "\n",
    "opt = webdriver.ChromeOptions()\n",
    "opt.add_argument(f'user-agent={user_agent}')\n",
    "opt.add_argument('--disable-blink-features')\n",
    "opt.add_argument('--disable-blink-features=AutomationControlled')\n",
    "opt.add_argument('--proxy-server=212.192.198.116:57033') # \"девственный\" прокси(:\n",
    "opt.add_experimental_option(\"excludeSwitches\", [\"enable-automation\"]) # отключает строку про удаленное управление\n",
    "opt.add_experimental_option('useAutomationExtension', False)"
   ]
  },
  {
   "cell_type": "code",
   "execution_count": 5,
   "id": "4e029a46",
   "metadata": {},
   "outputs": [],
   "source": [
    "# запускаю драйвер, проверяю настройки\n",
    "\n",
    "driver = webdriver.Chrome(options=opt)\n",
    "driver.get(test_url)"
   ]
  },
  {
   "cell_type": "code",
   "execution_count": 6,
   "id": "2fc5d020",
   "metadata": {},
   "outputs": [],
   "source": [
    "url_part_1 = 'https://stom-rating.com/crm/?page='"
   ]
  },
  {
   "cell_type": "code",
   "execution_count": 7,
   "id": "66185566",
   "metadata": {},
   "outputs": [],
   "source": []
  },
  {
   "cell_type": "code",
   "execution_count": 121,
   "id": "b0e7d347",
   "metadata": {},
   "outputs": [
    {
     "data": {
      "application/vnd.jupyter.widget-view+json": {
       "model_id": "29214654bd08427ea763255f5995821d",
       "version_major": 2,
       "version_minor": 0
      },
      "text/plain": [
       "  0%|          | 0/3 [00:00<?, ?it/s]"
      ]
     },
     "metadata": {},
     "output_type": "display_data"
    }
   ],
   "source": [
    "data = [] # список для данных\n",
    "\n",
    "for i in tqdm(range(1, 4)): # цикл для перехода по страницам\n",
    "    \n",
    "    driver.get(url_part_1 + str(i))\n",
    "    sleep(2)\n",
    "    \n",
    "    crm_blocks = driver.find_elements_by_class_name('crm-ajax-hide') # забираю блоки со страниц\n",
    "    \n",
    "    for crm in crm_blocks: # вытаскиваю данные из каждого блока (строки таблицы)\n",
    "        \n",
    "        try:\n",
    "            # название crm\n",
    "            crm_name = (crm.find_element_by_class_name('td.td_1')\n",
    "                        .get_attribute('textContent').strip())\n",
    "\n",
    "            # страница crm на сайте\n",
    "            crm_page = (crm.find_element_by_class_name('td.td_1')\n",
    "                        .find_element_by_tag_name('a').get_attribute('href'))\n",
    "\n",
    "\n",
    "            # рейтинг (от 1 до 5)\n",
    "            score = (crm.find_element_by_class_name('rating-block')\n",
    "                      .find_element_by_tag_name('input').get_attribute('value')\n",
    "                     )\n",
    "\n",
    "            # стоимость\n",
    "            price = crm.find_element_by_class_name('td.td_2').text\n",
    "\n",
    "            # версии продукта - облако / коробка\n",
    "            product_type = []\n",
    "            for item in crm.find_element_by_class_name('td.td_3').find_elements_by_css_selector('span.yes'):\n",
    "                product_type += [item.text]\n",
    "\n",
    "\n",
    "            # количество внешних сервисов\n",
    "            external_services = crm.find_element_by_class_name('td.td_4').text\n",
    "\n",
    "            # помощь по внедрению CRM\n",
    "            support_type = []\n",
    "\n",
    "            for item in crm.find_element_by_class_name('td.td_5').find_elements_by_css_selector('span.yes'):\n",
    "                support_type += [item.text]\n",
    "\n",
    "\n",
    "            # сайт CRM\n",
    "\n",
    "            # кликаю по кнопке \"На сайт\"\n",
    "            crm.find_element_by_css_selector('input.btn-default-2').click()\n",
    "\n",
    "            # переключаюсь вкладку\n",
    "            driver.switch_to.window(driver.window_handles[1])\n",
    "            sleep(2)\n",
    "\n",
    "            # получаю ссылку\n",
    "            web_site = driver.current_url\n",
    "\n",
    "            # закрываю вкладку\n",
    "            driver.close()\n",
    "\n",
    "            # переключаюсь обратно\n",
    "            driver.switch_to.window(driver.window_handles[0])\n",
    "            sleep(2)\n",
    "\n",
    "\n",
    "            data.append([crm_name,\n",
    "                         web_site,\n",
    "                         score,\n",
    "                         price,\n",
    "                         product_type,\n",
    "                         external_services,\n",
    "                         crm_page])\n",
    "        \n",
    "        except:\n",
    "            break"
   ]
  },
  {
   "cell_type": "code",
   "execution_count": 122,
   "id": "cf0e5dbb",
   "metadata": {},
   "outputs": [],
   "source": [
    "# Записываю в датафрейм\n",
    "\n",
    "head_list = ['crm_name',\n",
    "             'web_site',\n",
    "             'score',\n",
    "             'price',\n",
    "             'product_type',\n",
    "             'external_services',\n",
    "             'crm_page']\n",
    "\n",
    "work = pd.DataFrame(data, columns=head_list)"
   ]
  },
  {
   "cell_type": "code",
   "execution_count": 123,
   "id": "bc881343",
   "metadata": {},
   "outputs": [
    {
     "data": {
      "text/plain": [
       "(26, 7)"
      ]
     },
     "execution_count": 123,
     "metadata": {},
     "output_type": "execute_result"
    }
   ],
   "source": [
    "work.shape"
   ]
  },
  {
   "cell_type": "code",
   "execution_count": 124,
   "id": "df7ba695",
   "metadata": {},
   "outputs": [],
   "source": [
    "work.to_excel('C:/Data/Стоматологии/stom_crm.xlsx', index=False)"
   ]
  },
  {
   "cell_type": "code",
   "execution_count": null,
   "id": "d31bd400",
   "metadata": {},
   "outputs": [],
   "source": []
  },
  {
   "cell_type": "code",
   "execution_count": 80,
   "id": "bc8fd5a4",
   "metadata": {},
   "outputs": [],
   "source": [
    "driver.close()"
   ]
  },
  {
   "cell_type": "code",
   "execution_count": null,
   "id": "277c5916",
   "metadata": {},
   "outputs": [],
   "source": []
  }
 ],
 "metadata": {
  "kernelspec": {
   "display_name": "Python 3",
   "language": "python",
   "name": "python3"
  },
  "language_info": {
   "codemirror_mode": {
    "name": "ipython",
    "version": 3
   },
   "file_extension": ".py",
   "mimetype": "text/x-python",
   "name": "python",
   "nbconvert_exporter": "python",
   "pygments_lexer": "ipython3",
   "version": "3.8.8"
  }
 },
 "nbformat": 4,
 "nbformat_minor": 5
}
