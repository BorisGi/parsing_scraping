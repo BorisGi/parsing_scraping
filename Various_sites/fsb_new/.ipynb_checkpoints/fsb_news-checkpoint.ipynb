{
 "cells": [
  {
   "cell_type": "code",
   "execution_count": null,
   "id": "e7274af0",
   "metadata": {
    "scrolled": true
   },
   "outputs": [],
   "source": []
  },
  {
   "cell_type": "markdown",
   "id": "4b4fc02a",
   "metadata": {},
   "source": [
    "Парсер новостей с сайта ФСБ\n",
    "\n",
    "Последние изменения кода: 2022-02-10"
   ]
  },
  {
   "cell_type": "markdown",
   "id": "11c114c6",
   "metadata": {},
   "source": [
    "## Библиотеки и настройки"
   ]
  },
  {
   "cell_type": "code",
   "execution_count": null,
   "id": "c8005b9b",
   "metadata": {
    "scrolled": true
   },
   "outputs": [],
   "source": [
    "#Загружаю нужные библиотеки\n",
    "\n",
    "import pandas as pd\n",
    "import math\n",
    "\n",
    "import datetime\n",
    "\n",
    "# регулярки\n",
    "import re\n",
    "\n",
    "\n",
    "# для юзер-агента\n",
    "from fake_useragent import UserAgent\n",
    "\n",
    "# прогресс-бар\n",
    "from tqdm.notebook import trange, tqdm\n",
    "\n",
    "# для пауз при парсинге\n",
    "from time import sleep\n",
    "\n",
    "# селениум\n",
    "from selenium import webdriver\n",
    "from selenium.webdriver.chrome.service import Service\n",
    "\n",
    "from selenium.common.exceptions import NoSuchElementException\n",
    "from selenium.webdriver.common.by import By\n",
    "from selenium.webdriver.support.ui import WebDriverWait\n",
    "from selenium.webdriver.support import expected_conditions as EC"
   ]
  },
  {
   "cell_type": "code",
   "execution_count": null,
   "id": "81b17d9e",
   "metadata": {
    "scrolled": true
   },
   "outputs": [],
   "source": [
    "# настройки юзер-агента\n",
    "\n",
    "ua = UserAgent()\n",
    "\n",
    "# юзер-агент для Хрома\n",
    "user_agent = ua.chrome"
   ]
  },
  {
   "cell_type": "code",
   "execution_count": null,
   "id": "e0589f81",
   "metadata": {
    "scrolled": true
   },
   "outputs": [],
   "source": [
    "# тестовая страница для Селениума\n",
    "\n",
    "test_url = 'https://intoli.com/blog/not-possible-to-block-chrome-headless/chrome-headless-test.html'"
   ]
  },
  {
   "cell_type": "code",
   "execution_count": null,
   "id": "78cb35f6",
   "metadata": {
    "scrolled": true
   },
   "outputs": [],
   "source": [
    "# путь к файлам\n",
    "\n",
    "file_path = 'C:/00_Data/'\n",
    "proxy_list_path = 'C:/work/keys/proxy_list.txt' # путь и названия со списком прокси"
   ]
  },
  {
   "cell_type": "code",
   "execution_count": null,
   "id": "a5d5673e",
   "metadata": {
    "scrolled": true
   },
   "outputs": [],
   "source": [
    "# загружаю список прокси\n",
    "# список простой текстовый файл, который содержит прокси в формате: адрес:порт логин:пароль\n",
    "\n",
    "proxy_list = []\n",
    "\n",
    "with open(proxy_list_path, 'r') as f:\n",
    "    for line in f:\n",
    "        proxy_list += [line.split()]\n",
    "        \n",
    "print('Рабочих прокси — ' + str(len(proxy_list)))"
   ]
  },
  {
   "cell_type": "code",
   "execution_count": null,
   "id": "affc8f9d",
   "metadata": {
    "scrolled": true
   },
   "outputs": [],
   "source": [
    "# номер прокси\n",
    "\n",
    "print('Номер прокси, от 0 до ' + str(len(proxy_list) - 1))\n",
    "proxy_number = int(input())"
   ]
  },
  {
   "cell_type": "code",
   "execution_count": null,
   "id": "dab75db7",
   "metadata": {
    "scrolled": true
   },
   "outputs": [],
   "source": [
    "# настройки веб-драйвера, чтобы скрыть автоматическое управление\n",
    "\n",
    "opt = webdriver.ChromeOptions()\n",
    "opt.add_argument(f'user-agent={user_agent}')\n",
    "opt.add_argument('--disable-blink-features')\n",
    "opt.add_argument('--disable-blink-features=AutomationControlled')\n",
    "#opt.add_argument(f'--proxy-server={proxy_list[proxy_number][0]}') # \"девственный\" прокси(:\n",
    "opt.add_experimental_option(\"excludeSwitches\", [\"enable-automation\"]) # отключает строку про удаленное управление\n",
    "opt.add_experimental_option('useAutomationExtension', False)"
   ]
  },
  {
   "cell_type": "code",
   "execution_count": null,
   "id": "efe91c63",
   "metadata": {
    "scrolled": true
   },
   "outputs": [],
   "source": [
    "print('Login: ' + proxy_list[proxy_number][1])\n",
    "print('Pass: ' + proxy_list[proxy_number][2])"
   ]
  },
  {
   "cell_type": "code",
   "execution_count": null,
   "id": "60aba6c1",
   "metadata": {
    "scrolled": true
   },
   "outputs": [],
   "source": [
    "# запускаю драйвер, проверяю настройки\n",
    "\n",
    "#s=Service('C:/Users/bgi/Anaconda3/chromedriver/chromedriver.exe')\n",
    "#driver = webdriver.Chrome(service=s, options=opt)\n",
    "\n",
    "driver = webdriver.Chrome(options=opt)\n",
    "driver.get(test_url)\n",
    "driver.maximize_window() # раскрываю окно на максимум"
   ]
  },
  {
   "cell_type": "code",
   "execution_count": null,
   "id": "8f43f1c5",
   "metadata": {
    "scrolled": true
   },
   "outputs": [],
   "source": []
  },
  {
   "cell_type": "markdown",
   "id": "6ae690ba",
   "metadata": {},
   "source": [
    "## Собираю ссылки на новости"
   ]
  },
  {
   "cell_type": "markdown",
   "id": "1650ddba",
   "metadata": {},
   "source": [
    "Сайт немного кривой и тормознутый. Поэтому в коде длинные задержки."
   ]
  },
  {
   "cell_type": "code",
   "execution_count": null,
   "id": "492a9e92",
   "metadata": {
    "scrolled": true
   },
   "outputs": [],
   "source": [
    "start_url = 'http://www.fsb.ru/fsb/press.htm'"
   ]
  },
  {
   "cell_type": "code",
   "execution_count": null,
   "id": "2a25e5a4",
   "metadata": {
    "scrolled": true
   },
   "outputs": [],
   "source": [
    "data = [] # список для данных\n",
    "\n",
    "driver.get(start_url)\n",
    "sleep(3)\n",
    "\n",
    "# вытаскиваю новостные блоки\n",
    "news_blocks = (driver.find_element(By.CLASS_NAME, 'news')\n",
    "               .find_elements(By.TAG_NAME, 'li'))\n",
    "\n",
    "# разбираю циклом\n",
    "for block in news_blocks:\n",
    "    try:\n",
    "        news_date = block.find_element(By.CLASS_NAME, 'date').text\n",
    "        \n",
    "    except:\n",
    "        news_date = 'none'\n",
    "        \n",
    "    news_title = block.find_element(By.TAG_NAME, 'a').text\n",
    "    news_url = block.find_element(By.TAG_NAME, 'a').get_attribute('href')\n",
    "    \n",
    "    data.append([news_date, news_title, news_url])\n",
    "    \n",
    "    \n",
    "# перехожу по страницам\n",
    "for i in tqdm(range(105)):\n",
    "    \n",
    "    try:\n",
    "        need_url = driver.find_element(By.LINK_TEXT, '>').get_attribute('href')       \n",
    "        driver.get(need_url)\n",
    "        sleep(5)\n",
    "        \n",
    "        news_blocks = (driver.find_element(By.CLASS_NAME, 'news')\n",
    "                       .find_elements(By.TAG_NAME, 'li'))\n",
    "        \n",
    "        for block in news_blocks:\n",
    "            \n",
    "            try:\n",
    "                news_date = block.find_element(By.CLASS_NAME, 'date').text\n",
    "                \n",
    "            except:\n",
    "                news_date = 'none'\n",
    "                \n",
    "            news_title = block.find_element(By.TAG_NAME, 'a').text\n",
    "            news_url = block.find_element(By.TAG_NAME, 'a').get_attribute('href')\n",
    "            \n",
    "            data.append([news_date, news_title, news_url])\n",
    "            \n",
    "    except:\n",
    "        pass"
   ]
  },
  {
   "cell_type": "code",
   "execution_count": null,
   "id": "e7065456",
   "metadata": {
    "scrolled": true
   },
   "outputs": [],
   "source": [
    "# преобразовываю в датафрейм\n",
    "\n",
    "head = ['news_date', 'news_title', 'news_url']\n",
    "\n",
    "work_urls = pd.DataFrame(data, columns=head)"
   ]
  },
  {
   "cell_type": "code",
   "execution_count": null,
   "id": "cbb4eb76",
   "metadata": {
    "scrolled": true
   },
   "outputs": [],
   "source": [
    "work_urls.shape"
   ]
  },
  {
   "cell_type": "code",
   "execution_count": null,
   "id": "05430909",
   "metadata": {
    "scrolled": true
   },
   "outputs": [],
   "source": [
    "work_urls.sample(5)"
   ]
  },
  {
   "cell_type": "code",
   "execution_count": null,
   "id": "290bacb2",
   "metadata": {
    "scrolled": true
   },
   "outputs": [],
   "source": []
  },
  {
   "cell_type": "markdown",
   "id": "89f59450",
   "metadata": {},
   "source": [
    "## Собираю новости"
   ]
  },
  {
   "cell_type": "code",
   "execution_count": null,
   "id": "af7341f9",
   "metadata": {
    "scrolled": true
   },
   "outputs": [],
   "source": [
    "data_news = []\n",
    "\n",
    "for news_url in tqdm(work_urls.news_url):\n",
    "    driver.get(news_url)\n",
    "    sleep(3)\n",
    "       \n",
    "    news_text = driver.find_element(By.CLASS_NAME, '_attr_text').text\n",
    "    \n",
    "    data_news.append([news_text, news_url])"
   ]
  },
  {
   "cell_type": "code",
   "execution_count": null,
   "id": "e1ca01c8",
   "metadata": {
    "scrolled": true
   },
   "outputs": [],
   "source": [
    "# преобразовываю в датафрейм\n",
    "\n",
    "head = ['news_text', 'news_url']\n",
    "\n",
    "work_data = pd.DataFrame(data_news, columns=head)"
   ]
  },
  {
   "cell_type": "code",
   "execution_count": null,
   "id": "5e24f7ad",
   "metadata": {
    "scrolled": true
   },
   "outputs": [],
   "source": [
    "work_data"
   ]
  },
  {
   "cell_type": "code",
   "execution_count": null,
   "id": "c6bcbca5",
   "metadata": {
    "scrolled": true
   },
   "outputs": [],
   "source": []
  },
  {
   "cell_type": "code",
   "execution_count": null,
   "id": "8a9c6ef9",
   "metadata": {
    "scrolled": true
   },
   "outputs": [],
   "source": [
    "work_data = work_data.merge(work_urls, how='left', on='news_url')"
   ]
  },
  {
   "cell_type": "code",
   "execution_count": null,
   "id": "56589101",
   "metadata": {
    "scrolled": true
   },
   "outputs": [],
   "source": []
  },
  {
   "cell_type": "code",
   "execution_count": null,
   "id": "015f4502",
   "metadata": {
    "scrolled": true
   },
   "outputs": [],
   "source": [
    "# Записываю в файл\n",
    "\n",
    "work_data.to_csv(file_path + 'fsb_news.csv', encoding='utf-8', index=False)"
   ]
  },
  {
   "cell_type": "code",
   "execution_count": null,
   "id": "59a2fe1a",
   "metadata": {
    "scrolled": true
   },
   "outputs": [],
   "source": [
    "driver.quit()"
   ]
  },
  {
   "cell_type": "code",
   "execution_count": null,
   "id": "7f166884",
   "metadata": {
    "scrolled": true
   },
   "outputs": [],
   "source": []
  }
 ],
 "metadata": {
  "kernelspec": {
   "display_name": "Python 3",
   "language": "python",
   "name": "python3"
  },
  "language_info": {
   "codemirror_mode": {
    "name": "ipython",
    "version": 3
   },
   "file_extension": ".py",
   "mimetype": "text/x-python",
   "name": "python",
   "nbconvert_exporter": "python",
   "pygments_lexer": "ipython3",
   "version": "3.8.8"
  }
 },
 "nbformat": 4,
 "nbformat_minor": 5
}
