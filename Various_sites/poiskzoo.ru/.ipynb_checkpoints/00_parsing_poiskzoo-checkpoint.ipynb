{
 "cells": [
  {
   "cell_type": "code",
   "execution_count": null,
   "metadata": {},
   "outputs": [],
   "source": []
  },
  {
   "cell_type": "markdown",
   "metadata": {},
   "source": [
    "## Библиотеки и настройки ##"
   ]
  },
  {
   "cell_type": "code",
   "execution_count": null,
   "metadata": {},
   "outputs": [],
   "source": [
    "#Загружаю нужные библиотеки\n",
    "\n",
    "import pandas as pd\n",
    "import math\n",
    "import os\n",
    "\n",
    "# для юзер-агента\n",
    "from fake_useragent import UserAgent\n",
    "\n",
    "# прогресс-бар\n",
    "from tqdm.notebook import trange, tqdm\n",
    "\n",
    "# для пауз при парсинге\n",
    "from time import sleep\n",
    "\n",
    "# селениум\n",
    "from selenium.webdriver import Chrome\n",
    "\n",
    "from selenium import webdriver\n",
    "from selenium.webdriver.chrome.service import Service\n",
    "from webdriver_manager.chrome import ChromeDriverManager\n",
    "\n",
    "from selenium.common.exceptions import NoSuchElementException\n",
    "from selenium.webdriver.common.by import By\n",
    "from selenium.webdriver.support.ui import WebDriverWait\n",
    "from selenium.webdriver.support import expected_conditions as EC"
   ]
  },
  {
   "cell_type": "code",
   "execution_count": null,
   "metadata": {},
   "outputs": [],
   "source": [
    "# настройки юзер-агента\n",
    "\n",
    "ua = UserAgent()\n",
    "\n",
    "# юзер-агент для Хрома\n",
    "user_agent = ua.chrome"
   ]
  },
  {
   "cell_type": "code",
   "execution_count": null,
   "metadata": {},
   "outputs": [],
   "source": [
    "test_url = 'https://intoli.com/blog/not-possible-to-block-chrome-headless/chrome-headless-test.html'"
   ]
  },
  {
   "cell_type": "code",
   "execution_count": null,
   "metadata": {},
   "outputs": [],
   "source": [
    "# путь к файлам\n",
    "\n",
    "file_path = 'C:/00_Data/' + input() + '/'\n",
    "proxy_list_path = 'C:/work/keys/proxy_list.txt' # путь и названия со списком прокси"
   ]
  },
  {
   "cell_type": "code",
   "execution_count": null,
   "metadata": {},
   "outputs": [],
   "source": [
    "# загружаю список прокси\n",
    "# список простой текстовый файл, который содержит прокси в формате: адрес:порт логин:пароль\n",
    "\n",
    "proxy_list = []\n",
    "\n",
    "with open(proxy_list_path, 'r') as f:\n",
    "    for line in f:\n",
    "        proxy_list += [line.split()]\n",
    "        \n",
    "print('Рабочих прокси — ' + str(len(proxy_list)))"
   ]
  },
  {
   "cell_type": "code",
   "execution_count": null,
   "metadata": {},
   "outputs": [],
   "source": [
    "# номер прокси проще прописать вручную, ввод со строки постоянно глючит\n",
    "\n",
    "print('Номер прокси, от 0 до ' + str(len(proxy_list) - 1))\n",
    "proxy_number = int(input())\n",
    "\n",
    "#proxy_number = 0"
   ]
  },
  {
   "cell_type": "code",
   "execution_count": null,
   "metadata": {},
   "outputs": [],
   "source": [
    "# настройки веб-драйвера, чтобы скрыть автоматическое управление\n",
    "\n",
    "opt = webdriver.ChromeOptions()\n",
    "opt.add_argument(f'user-agent={user_agent}')\n",
    "opt.add_argument('--disable-blink-features')\n",
    "opt.add_argument('--disable-blink-features=AutomationControlled')\n",
    "#opt.add_argument(f'--proxy-server={proxy_list[proxy_number][0]}') # \"девственный\" прокси(:\n",
    "opt.add_experimental_option(\"excludeSwitches\", [\"enable-automation\"]) # отключает строку про удаленное управление\n",
    "opt.add_experimental_option('useAutomationExtension', False)"
   ]
  },
  {
   "cell_type": "code",
   "execution_count": null,
   "metadata": {},
   "outputs": [],
   "source": [
    "print('Login: ' + proxy_list[proxy_number][1])\n",
    "print('Pass: ' + proxy_list[proxy_number][2])"
   ]
  },
  {
   "cell_type": "code",
   "execution_count": null,
   "metadata": {},
   "outputs": [],
   "source": [
    "chrome_driver_path = 'C:/Users/bgi/Anaconda3/chromedriver/chromedriver'"
   ]
  },
  {
   "cell_type": "code",
   "execution_count": null,
   "metadata": {},
   "outputs": [],
   "source": [
    "# запускаю драйвер, проверяю настройки\n",
    "\n",
    "driver = Chrome('C:/Users/bgi/Anaconda3/chromedriver/chromedriver', options=opt)\n",
    "\n",
    "#driver = webdriver.Chrome(options=opt)\n",
    "driver.get(test_url)\n",
    "driver.maximize_window() # раскрываю окно на максимум"
   ]
  },
  {
   "cell_type": "code",
   "execution_count": null,
   "metadata": {},
   "outputs": [],
   "source": []
  },
  {
   "cell_type": "code",
   "execution_count": null,
   "metadata": {},
   "outputs": [],
   "source": [
    "driver.find_element(By.LINK_TEXT, 'Последняя').text"
   ]
  },
  {
   "cell_type": "code",
   "execution_count": null,
   "metadata": {},
   "outputs": [],
   "source": []
  },
  {
   "cell_type": "code",
   "execution_count": null,
   "metadata": {},
   "outputs": [],
   "source": []
  },
  {
   "cell_type": "markdown",
   "metadata": {},
   "source": [
    "## Собираю ссылки ##"
   ]
  },
  {
   "cell_type": "code",
   "execution_count": null,
   "metadata": {},
   "outputs": [],
   "source": [
    "# ссылка\n",
    "\n",
    "# Кошки\n",
    "url = 'https://poiskzoo.ru/propala-koshka/page-1' # пропала\n",
    "#url = 'https://poiskzoo.ru/najdena-koshka/page-1' # найдена\n",
    "\n",
    "# Собаки\n",
    "#url = 'https://poiskzoo.ru/propala-sobaka/page-1'\n",
    "#url = 'https://poiskzoo.ru/najdena-sobaka/page-1'\n",
    "\n",
    "# Остальные\n",
    "#url = 'https://poiskzoo.ru/najdena-poteryashka/page-1'\n",
    "#url = 'https://poiskzoo.ru/propala-poteryashka/page-1'"
   ]
  },
  {
   "cell_type": "markdown",
   "metadata": {},
   "source": [
    "### Не забудь зайти на посмотреть количество страниц с объявлениями и указать их в коде ###"
   ]
  },
  {
   "cell_type": "code",
   "execution_count": null,
   "metadata": {},
   "outputs": [],
   "source": [
    "#Надо проверить открылась ли страница, и если просит, ввести капчу\n",
    "\n",
    "driver.get(url)"
   ]
  },
  {
   "cell_type": "code",
   "execution_count": null,
   "metadata": {},
   "outputs": [],
   "source": [
    "# обрезаю ссылки\n",
    "\n",
    "page_url = url.replace('page-1', 'page-')\n",
    "ads_category = page_url.replace('https://poiskzoo.ru/', '').replace('/page-', '')"
   ]
  },
  {
   "cell_type": "code",
   "execution_count": null,
   "metadata": {},
   "outputs": [],
   "source": [
    "%%time\n",
    "\n",
    "# собираю ссылки на объявления\n",
    "\n",
    "ads_id = []\n",
    "\n",
    "\n",
    "# количество страниц нужно указать вручную\n",
    "for p in tqdm_notebook(range(1, 372)): # пока вручную, но, вообще, можно автоматизировать\n",
    "    sleep(3)\n",
    "    url = page_url +str(p)\n",
    "        \n",
    "    driver.get(url)\n",
    "    text = str(driver.page_source)\n",
    "    \n",
    "    # регулярками вытаскиваю ссылки\n",
    "    need_text = re.findall(r'a href=\"/\\w+/' +ads_category +'/\\d+', text)\n",
    "\n",
    "    \n",
    "    # удаляю дубликаты\n",
    "    need_text = list(set(need_text))\n",
    "    \n",
    "    for i in need_text: # удаляю лишнее, теперь ссылка будет /город/najdena-зверюшка/хххх - номер\n",
    "        ads_id += re.findall(r'/\\w+/' +ads_category +'/\\d+', i)     \n",
    "    "
   ]
  },
  {
   "cell_type": "code",
   "execution_count": null,
   "metadata": {},
   "outputs": [],
   "source": [
    "# для простоты, сразу завожу список с рабочими ссылками\n",
    "\n",
    "links = []\n",
    "\n",
    "for id in ads_id:\n",
    "    links += ['https://poiskzoo.ru' +id]"
   ]
  },
  {
   "cell_type": "code",
   "execution_count": null,
   "metadata": {},
   "outputs": [],
   "source": [
    "links[:5]"
   ]
  },
  {
   "cell_type": "code",
   "execution_count": null,
   "metadata": {},
   "outputs": [],
   "source": [
    "len(links)"
   ]
  },
  {
   "cell_type": "code",
   "execution_count": null,
   "metadata": {},
   "outputs": [],
   "source": [
    "ads_list = pd.DataFrame(links)"
   ]
  },
  {
   "cell_type": "code",
   "execution_count": null,
   "metadata": {},
   "outputs": [],
   "source": [
    "ads_list.to_excel('C:/00_Projects/Cats/ads_list_4.xlsx', encoding='utf8', index=False)"
   ]
  },
  {
   "cell_type": "code",
   "execution_count": null,
   "metadata": {},
   "outputs": [],
   "source": []
  },
  {
   "cell_type": "code",
   "execution_count": null,
   "metadata": {},
   "outputs": [],
   "source": [
    "%%time\n",
    "\n",
    "\n",
    "# список для данных\n",
    "data_ads = []\n",
    "\n",
    "# код парсера\n",
    "\n",
    "for ads_url in tqdm_notebook(links[:101]): # цикл по списку ссылок\n",
    "    driver.get(ads_url)\n",
    "    sleep(2)\n",
    "    \n",
    "    \n",
    "    try: # заголовок объявления\n",
    "        ads_topic = driver.find_element_by_tag_name('h1[itemprop=\"name\"]').text\n",
    "        \n",
    "    except:\n",
    "        ads_topic = 'нет'\n",
    "        \n",
    "    \n",
    "    try: # дата объявления\n",
    "        ads_date = driver.find_element_by_class_name('bd_item_details_full .bd_item_date').text\n",
    "        \n",
    "    except:\n",
    "        ads_date = 'нет'\n",
    "                \n",
    "    \n",
    "    try: # город объявления\n",
    "        ads_city = driver.find_element_by_class_name('bd_item_city[itemprop=\"addressLocality\"]').find_element_by_tag_name('a').text\n",
    "    \n",
    "    except:\n",
    "        ads_city = 'нет'\n",
    "        \n",
    "        \n",
    "    try: # \n",
    "        ads_text = driver.find_element_by_id('raspechat').text\n",
    "        \n",
    "    except:\n",
    "        ads_text = 'нет'\n",
    "    \n",
    "\n",
    "\n",
    "    data_ads.append([ads_date, ads_city, ads_topic, ads_text, ads_url])"
   ]
  },
  {
   "cell_type": "code",
   "execution_count": null,
   "metadata": {},
   "outputs": [],
   "source": [
    "# преобразовываем в датафрейм\n",
    "\n",
    "head = ['date', 'city', 'topic', 'text', 'url']\n",
    "df = pd.DataFrame(data_ads, columns=head)"
   ]
  },
  {
   "cell_type": "code",
   "execution_count": null,
   "metadata": {},
   "outputs": [],
   "source": [
    "df.shape"
   ]
  },
  {
   "cell_type": "code",
   "execution_count": null,
   "metadata": {},
   "outputs": [],
   "source": [
    "df.head()"
   ]
  },
  {
   "cell_type": "code",
   "execution_count": null,
   "metadata": {},
   "outputs": [],
   "source": [
    "# записываю в файл\n",
    "\n",
    "df.to_excel('C:/00_Projects/Cats/dogs2/1.xlsx', encoding='utf8', index=False)"
   ]
  },
  {
   "cell_type": "code",
   "execution_count": null,
   "metadata": {},
   "outputs": [],
   "source": [
    "driver.close()"
   ]
  },
  {
   "cell_type": "code",
   "execution_count": null,
   "metadata": {},
   "outputs": [],
   "source": []
  }
 ],
 "metadata": {
  "kernelspec": {
   "display_name": "Python 3 (ipykernel)",
   "language": "python",
   "name": "python3"
  },
  "language_info": {
   "codemirror_mode": {
    "name": "ipython",
    "version": 3
   },
   "file_extension": ".py",
   "mimetype": "text/x-python",
   "name": "python",
   "nbconvert_exporter": "python",
   "pygments_lexer": "ipython3",
   "version": "3.9.7"
  }
 },
 "nbformat": 4,
 "nbformat_minor": 2
}
