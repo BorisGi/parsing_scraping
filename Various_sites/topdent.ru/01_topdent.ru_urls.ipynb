{
 "cells": [
  {
   "cell_type": "markdown",
   "id": "4ab98bd5",
   "metadata": {},
   "source": [
    "Парсер topdent.ru\n",
    "\n",
    "Часть 1, собирает ссылки и часть информации.\n",
    "\n",
    "Последнее обновление кода: 2022-01-15"
   ]
  },
  {
   "cell_type": "markdown",
   "id": "1763d193",
   "metadata": {},
   "source": [
    "## Библиотеки и настройки ##"
   ]
  },
  {
   "cell_type": "code",
   "execution_count": null,
   "id": "c8005b9b",
   "metadata": {},
   "outputs": [],
   "source": [
    "#Загружаю нужные библиотеки\n",
    "\n",
    "import pandas as pd\n",
    "import math\n",
    "import os\n",
    "\n",
    "# регулярки\n",
    "import re\n",
    "\n",
    "# для юзер-агента\n",
    "from fake_useragent import UserAgent\n",
    "\n",
    "# для работы с буфером обмена\n",
    "import pyperclip\n",
    "\n",
    "# прогресс-бар\n",
    "from tqdm.notebook import trange, tqdm\n",
    "\n",
    "# для пауз при парсинге\n",
    "from time import sleep\n",
    "\n",
    "# импорт requests\n",
    "import requests\n",
    "\n",
    "# селениум\n",
    "from selenium.webdriver import Chrome\n",
    "from selenium.webdriver.chrome.service import Service\n",
    "from selenium import webdriver\n",
    "\n",
    "from selenium.common.exceptions import NoSuchElementException\n",
    "from selenium.webdriver.common.by import By\n",
    "from selenium.webdriver.support.ui import WebDriverWait\n",
    "from selenium.webdriver.support import expected_conditions as EC"
   ]
  },
  {
   "cell_type": "code",
   "execution_count": null,
   "id": "fee746db",
   "metadata": {},
   "outputs": [],
   "source": [
    "# настройки юзер-агента\n",
    "\n",
    "ua = UserAgent()\n",
    "\n",
    "# юзер-агент для Хрома\n",
    "user_agent = ua.chrome"
   ]
  },
  {
   "cell_type": "code",
   "execution_count": null,
   "id": "e0589f81",
   "metadata": {},
   "outputs": [],
   "source": [
    "test_url = 'https://intoli.com/blog/not-possible-to-block-chrome-headless/chrome-headless-test.html'"
   ]
  },
  {
   "cell_type": "code",
   "execution_count": null,
   "id": "ce990a42",
   "metadata": {},
   "outputs": [],
   "source": [
    "# путь к файлам\n",
    "\n",
    "file_path = 'C:/00_Data/' # путь к папке с данными\n",
    "proxy_list_path = 'C:/work/keys/proxy_list.txt' # путь и названия файла со списком прокси"
   ]
  },
  {
   "cell_type": "code",
   "execution_count": null,
   "id": "31643714",
   "metadata": {},
   "outputs": [],
   "source": [
    "# загружаю список прокси\n",
    "# список простой текстовый файл, который содержит прокси в формате: адрес:порт логин:пароль\n",
    "\n",
    "proxy_list = []\n",
    "\n",
    "with open(proxy_list_path, 'r') as f:\n",
    "    for line in f:\n",
    "        proxy_list += [line.split()]"
   ]
  },
  {
   "cell_type": "code",
   "execution_count": null,
   "id": "92b0a35e",
   "metadata": {},
   "outputs": [],
   "source": [
    "print('Рабочих прокси — ' + str(len(proxy_list)))"
   ]
  },
  {
   "cell_type": "code",
   "execution_count": null,
   "id": "5727a0a8",
   "metadata": {},
   "outputs": [],
   "source": [
    "# номер прокси\n",
    "\n",
    "print('Номер прокси, от 0 до ' + str(len(proxy_list) - 1))\n",
    "proxy_number = int(input())"
   ]
  },
  {
   "cell_type": "code",
   "execution_count": null,
   "id": "7a184ad7",
   "metadata": {},
   "outputs": [],
   "source": [
    "# настройки веб-драйвера, чтобы скрыть автоматическое управление\n",
    "\n",
    "opt = webdriver.ChromeOptions()\n",
    "opt.add_argument(f'user-agent={user_agent}')\n",
    "opt.add_argument('--disable-blink-features')\n",
    "opt.add_argument('--disable-blink-features=AutomationControlled')\n",
    "opt.add_argument(f'--proxy-server={proxy_list[proxy_number][0]}') # \"девственный\" прокси(:\n",
    "opt.add_experimental_option(\"excludeSwitches\", [\"enable-automation\"]) # отключает строку про удаленное управление\n",
    "opt.add_experimental_option('useAutomationExtension', False)"
   ]
  },
  {
   "cell_type": "code",
   "execution_count": null,
   "id": "00ea3aa7",
   "metadata": {},
   "outputs": [],
   "source": [
    "# пока не придумал нормального способа авторизации\n",
    "\n",
    "pyperclip.copy(proxy_list[proxy_number][2])\n",
    "\n",
    "print('Login: ' + proxy_list[proxy_number][1])\n",
    "print('Pass: Пароль в буфере обмена')"
   ]
  },
  {
   "cell_type": "code",
   "execution_count": null,
   "id": "cd043464",
   "metadata": {},
   "outputs": [],
   "source": [
    "# запускаю драйвер, проверяю настройки\n",
    "\n",
    "driver = webdriver.Chrome(options=opt)\n",
    "driver.get(test_url)\n",
    "driver.maximize_window() # раскрываю окно на максимум"
   ]
  },
  {
   "cell_type": "code",
   "execution_count": null,
   "id": "4b28b29e",
   "metadata": {},
   "outputs": [],
   "source": []
  },
  {
   "cell_type": "markdown",
   "id": "21ed3e29",
   "metadata": {},
   "source": [
    "## Собираю данные ##"
   ]
  },
  {
   "cell_type": "code",
   "execution_count": null,
   "id": "ff7fbb04",
   "metadata": {},
   "outputs": [],
   "source": [
    "# обозначение нужного города латиницей, как на сайте\n",
    "\n",
    "need_city = input()"
   ]
  },
  {
   "cell_type": "code",
   "execution_count": null,
   "id": "26730de7",
   "metadata": {},
   "outputs": [],
   "source": [
    "# ссылка на страницу каталога, пагинация в конце\n",
    "\n",
    "#url_part_1 = 'https://topdent.ru/clinics/?page='\n",
    "\n",
    "url_part_1 = f'https://topdent.ru/{need_city}/clinics/?page='"
   ]
  },
  {
   "cell_type": "code",
   "execution_count": null,
   "id": "3edb21ef",
   "metadata": {},
   "outputs": [],
   "source": [
    "# Открываю сслыку, чтобы посчитать количество клиник\n",
    "\n",
    "driver.get(url_part_1 + '1')"
   ]
  },
  {
   "cell_type": "code",
   "execution_count": null,
   "id": "8692a3f1",
   "metadata": {},
   "outputs": [],
   "source": [
    "# количество клиник\n",
    "\n",
    "clinic_number = re.sub(r'\\W', '', driver.find_element(By.ID, 'clinics-page__text').text.split('\\n')[0])\n",
    "clinic_number = int(re.sub(r'\\D', '', clinic_number))\n",
    "\n",
    "page_number = math.ceil(clinic_number / 10)\n",
    "\n",
    "print(f'Количество клиник: {clinic_number}')\n",
    "print(f'Количество страниц: {page_number}')"
   ]
  },
  {
   "cell_type": "code",
   "execution_count": null,
   "id": "00e4c98b",
   "metadata": {},
   "outputs": [],
   "source": []
  },
  {
   "cell_type": "markdown",
   "id": "323e8741",
   "metadata": {},
   "source": [
    "### Код парсера ###"
   ]
  },
  {
   "cell_type": "code",
   "execution_count": null,
   "id": "8789eff5",
   "metadata": {},
   "outputs": [],
   "source": [
    "data = [] # список для данных\n",
    "\n",
    "for page in tqdm(range(1, page_number + 1)):\n",
    "    \n",
    "    driver.get(url_part_1 + str(page))\n",
    "    sleep(3)\n",
    "    \n",
    "    # забираю карточки клиник\n",
    "    clinic_blocs = driver.find_elements(By.CLASS_NAME, 'clinic-wrapper')\n",
    "    \n",
    "    # цикл для разбора\n",
    "    for item in clinic_blocs:\n",
    "\n",
    "        # название    \n",
    "        clinic = item.find_element(By.TAG_NAME, 'a[class=\"clinics__name\"]').text\n",
    "\n",
    "        # страница клиники\n",
    "        clinic_page = item.find_element(By.TAG_NAME, 'a[class=\"clinics__name\"]').get_attribute('href')\n",
    "\n",
    "\n",
    "        # рекомендация TopDent\n",
    "        try:\n",
    "            td_rec = item.find_element(By.CLASS_NAME, 'badge-wrap').text\n",
    "\n",
    "        except:\n",
    "            td_rec = 'none'    \n",
    "\n",
    "        # верифицирована или нет\n",
    "        try:\n",
    "            verified = (item\n",
    "                        .find_element(By.CLASS_NAME, 'clinics-name-container')\n",
    "                        .find_element(By.CLASS_NAME, 'tooltiptext').get_attribute('textContent').strip())            \n",
    "        except:\n",
    "            verified = 'none'\n",
    "\n",
    "\n",
    "        # ценовая категория\n",
    "        try:\n",
    "            price_segment = (item\n",
    "                             .find_element(By.CLASS_NAME, 'clinics-name-container')\n",
    "                             .find_element(By.CLASS_NAME, 'badge').text)\n",
    "\n",
    "        except:\n",
    "            price_segment = 'none'\n",
    "\n",
    "\n",
    "        # рейтинг\n",
    "        try:\n",
    "            clinic_score = item.find_element(By.CLASS_NAME, 'rate__value').text\n",
    "\n",
    "        except:\n",
    "            clinic_score = 'none'\n",
    "\n",
    "\n",
    "        # количество отзывов\n",
    "        try:\n",
    "            score_number = item.find_element(By.CLASS_NAME, 'rate__count').text\n",
    "\n",
    "        except:\n",
    "            score_number = 'none'\n",
    "\n",
    "\n",
    "        # адрес\n",
    "        try:\n",
    "            address = item.find_element(By.CLASS_NAME, 'clinics__address').text\n",
    "\n",
    "        except:\n",
    "            address = 'none'\n",
    "\n",
    "\n",
    "        # станции метро\n",
    "        try:\n",
    "            metro_stations = item.find_element(By.CLASS_NAME, 'subways').text.split('\\n')\n",
    "\n",
    "        except:\n",
    "            metro_stations = 'none'\n",
    "            \n",
    "        data.append([clinic,\n",
    "             address, metro_stations,\n",
    "             verified, td_rec,\n",
    "             price_segment,\n",
    "             \n",
    "             clinic_score, score_number,\n",
    "             clinic_page\n",
    "            ])"
   ]
  },
  {
   "cell_type": "code",
   "execution_count": null,
   "id": "cbfa6002",
   "metadata": {},
   "outputs": [],
   "source": [
    "# Записываю в датафрейм\n",
    "\n",
    "head_list = ['clinic',\n",
    "             'address', 'metro_stations',\n",
    "             'verified', 'td_rec',\n",
    "             'price_segment',\n",
    "             'clinic_score', 'score_number',\n",
    "             'clinic_page']\n",
    "\n",
    "work_links = pd.DataFrame(data, columns=head_list)"
   ]
  },
  {
   "cell_type": "code",
   "execution_count": null,
   "id": "88b0dc2e",
   "metadata": {},
   "outputs": [],
   "source": [
    "work_links.shape"
   ]
  },
  {
   "cell_type": "code",
   "execution_count": null,
   "id": "b1e795a0",
   "metadata": {},
   "outputs": [],
   "source": [
    "work_links.sample(3)"
   ]
  },
  {
   "cell_type": "code",
   "execution_count": null,
   "id": "9228a964",
   "metadata": {},
   "outputs": [],
   "source": [
    "work_links.to_excel(file_path + f'topdent_urls_{need_city}.xlsx', encoding='utf8', index=False)"
   ]
  },
  {
   "cell_type": "code",
   "execution_count": null,
   "id": "59a2fe1a",
   "metadata": {},
   "outputs": [],
   "source": [
    "driver.quit()"
   ]
  },
  {
   "cell_type": "code",
   "execution_count": null,
   "id": "ff38380d",
   "metadata": {},
   "outputs": [],
   "source": []
  }
 ],
 "metadata": {
  "kernelspec": {
   "display_name": "Python 3",
   "language": "python",
   "name": "python3"
  },
  "language_info": {
   "codemirror_mode": {
    "name": "ipython",
    "version": 3
   },
   "file_extension": ".py",
   "mimetype": "text/x-python",
   "name": "python",
   "nbconvert_exporter": "python",
   "pygments_lexer": "ipython3",
   "version": "3.8.8"
  }
 },
 "nbformat": 4,
 "nbformat_minor": 5
}
