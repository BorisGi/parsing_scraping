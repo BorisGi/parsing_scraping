{
 "cells": [
  {
   "cell_type": "markdown",
   "id": "4ab98bd5",
   "metadata": {},
   "source": [
    "Парсер topdent.ru\n",
    "\n",
    "Часть 2, собирает базовую информацию: сайт, телефон, часы работы и описание.\n",
    "\n",
    "Описание не всегда корректно скачивается из-за кнопки \"Показать всё\". Нужно либо увеличить время ожидания, либо попробовать перемещения курсора. Мне описание особо не нужно, поэтому не стал возиться.\n",
    "\n",
    "Чтобы парсер корректно работал, нужно раскрыть окно на максимум.\n",
    "\n",
    "Последнее обновление: 2022-01-15"
   ]
  },
  {
   "cell_type": "markdown",
   "id": "b2c41da9",
   "metadata": {},
   "source": [
    "## Библиотеки и настройки ##"
   ]
  },
  {
   "cell_type": "code",
   "execution_count": null,
   "id": "c8005b9b",
   "metadata": {
    "scrolled": true
   },
   "outputs": [],
   "source": [
    "#Загружаю нужные библиотеки\n",
    "\n",
    "import pandas as pd\n",
    "import math\n",
    "import os\n",
    "\n",
    "# регулярки\n",
    "import re\n",
    "\n",
    "# для юзер-агента\n",
    "from fake_useragent import UserAgent\n",
    "\n",
    "# для работы с буфером обмена\n",
    "import pyperclip\n",
    "\n",
    "# прогресс-бар\n",
    "from tqdm.notebook import trange, tqdm\n",
    "\n",
    "# для пауз при парсинге\n",
    "from time import sleep\n",
    "\n",
    "# импорт requests\n",
    "import requests\n",
    "\n",
    "# селениум\n",
    "from selenium.webdriver import Chrome\n",
    "from selenium.webdriver.chrome.service import Service\n",
    "from selenium import webdriver\n",
    "\n",
    "from selenium.common.exceptions import NoSuchElementException\n",
    "from selenium.webdriver.common.by import By\n",
    "from selenium.webdriver.support.ui import WebDriverWait\n",
    "from selenium.webdriver.support import expected_conditions as EC"
   ]
  },
  {
   "cell_type": "code",
   "execution_count": null,
   "id": "fee746db",
   "metadata": {
    "scrolled": true
   },
   "outputs": [],
   "source": [
    "# настройки юзер-агента\n",
    "\n",
    "ua = UserAgent()\n",
    "\n",
    "# юзер-агент для Хрома\n",
    "user_agent = ua.chrome"
   ]
  },
  {
   "cell_type": "code",
   "execution_count": null,
   "id": "e0589f81",
   "metadata": {
    "scrolled": true
   },
   "outputs": [],
   "source": [
    "test_url = 'https://intoli.com/blog/not-possible-to-block-chrome-headless/chrome-headless-test.html'"
   ]
  },
  {
   "cell_type": "code",
   "execution_count": null,
   "id": "526fe98b",
   "metadata": {},
   "outputs": [],
   "source": [
    "# путь к файлам\n",
    "\n",
    "file_path = 'C:/00_Data/' # путь к папке с данными\n",
    "proxy_list_path = 'C:/work/keys/proxy_list.txt' # путь и названия файла со списком прокси"
   ]
  },
  {
   "cell_type": "code",
   "execution_count": null,
   "id": "1aaab91f",
   "metadata": {},
   "outputs": [],
   "source": [
    "# загружаю список прокси\n",
    "# список простой текстовый файл, который содержит прокси в формате: адрес:порт логин:пароль\n",
    "\n",
    "proxy_list = []\n",
    "\n",
    "with open(proxy_list_path, 'r') as f:\n",
    "    for line in f:\n",
    "        proxy_list += [line.split()]"
   ]
  },
  {
   "cell_type": "code",
   "execution_count": null,
   "id": "e23db67b",
   "metadata": {},
   "outputs": [],
   "source": [
    "print('Рабочих прокси — ' + str(len(proxy_list)))"
   ]
  },
  {
   "cell_type": "code",
   "execution_count": null,
   "id": "7ca5c2e4",
   "metadata": {},
   "outputs": [],
   "source": [
    "# номер прокси\n",
    "\n",
    "print('Номер прокси, от 0 до ' + str(len(proxy_list) - 1))\n",
    "proxy_number = int(input())"
   ]
  },
  {
   "cell_type": "code",
   "execution_count": null,
   "id": "fdd850ff",
   "metadata": {},
   "outputs": [],
   "source": [
    "# настройки веб-драйвера, чтобы скрыть автоматическое управление\n",
    "\n",
    "opt = webdriver.ChromeOptions()\n",
    "opt.add_argument(f'user-agent={user_agent}')\n",
    "opt.add_argument('--disable-blink-features')\n",
    "opt.add_argument('--disable-blink-features=AutomationControlled')\n",
    "opt.add_argument(f'--proxy-server={proxy_list[proxy_number][0]}') # \"девственный\" прокси(:\n",
    "opt.add_experimental_option(\"excludeSwitches\", [\"enable-automation\"]) # отключает строку про удаленное управление\n",
    "opt.add_experimental_option('useAutomationExtension', False)"
   ]
  },
  {
   "cell_type": "code",
   "execution_count": null,
   "id": "534123d2",
   "metadata": {},
   "outputs": [],
   "source": [
    "# пока не придумал нормального способа авторизации\n",
    "\n",
    "pyperclip.copy(proxy_list[proxy_number][2])\n",
    "\n",
    "print('Login: ' + proxy_list[proxy_number][1])\n",
    "print('Pass: Пароль в буфере обмена')"
   ]
  },
  {
   "cell_type": "code",
   "execution_count": null,
   "id": "7ea20370",
   "metadata": {},
   "outputs": [],
   "source": [
    "# запускаю драйвер, проверяю настройки\n",
    "\n",
    "driver = webdriver.Chrome(options=opt)\n",
    "driver.get(test_url)\n",
    "driver.maximize_window() # раскрываю окно на максимум"
   ]
  },
  {
   "cell_type": "code",
   "execution_count": null,
   "id": "d8386b53",
   "metadata": {},
   "outputs": [],
   "source": []
  },
  {
   "cell_type": "markdown",
   "id": "8521bc24",
   "metadata": {},
   "source": [
    "## Собираю данные ##"
   ]
  },
  {
   "cell_type": "code",
   "execution_count": null,
   "id": "a92a04e3",
   "metadata": {},
   "outputs": [],
   "source": [
    "need_city = input()"
   ]
  },
  {
   "cell_type": "code",
   "execution_count": null,
   "id": "af9d327b",
   "metadata": {},
   "outputs": [],
   "source": [
    "# загружаю файл\n",
    "\n",
    "work_links = pd.read_excel(file_path + f'topdent_urls_{need_city}.xlsx')"
   ]
  },
  {
   "cell_type": "code",
   "execution_count": null,
   "id": "30d0b60e",
   "metadata": {},
   "outputs": [],
   "source": [
    "work_links.head(2)"
   ]
  },
  {
   "cell_type": "code",
   "execution_count": null,
   "id": "5a6f3602",
   "metadata": {},
   "outputs": [],
   "source": [
    "work_links.shape"
   ]
  },
  {
   "cell_type": "code",
   "execution_count": null,
   "id": "607eb5d0",
   "metadata": {},
   "outputs": [],
   "source": []
  },
  {
   "cell_type": "code",
   "execution_count": null,
   "id": "6379d479",
   "metadata": {},
   "outputs": [],
   "source": [
    "data = [] # список для данных"
   ]
  },
  {
   "cell_type": "markdown",
   "id": "a63035fa",
   "metadata": {},
   "source": [
    "Страницы \"топовых\" клиник сверстаны иначе. Всего таких страниц — 9.\n",
    "\n",
    "Чтобы не возится с регулярками и xml, делаю 2 парсера.\n",
    "\n",
    "Парсеры корректно работают при \"раскрытии\" окна на максимум."
   ]
  },
  {
   "cell_type": "markdown",
   "id": "559bef90",
   "metadata": {},
   "source": [
    "### Код парсера первых 9 клиник ###\n",
    "\n",
    "Для Москвы, клиники других городов нужно парсить сразу следующим скриптом."
   ]
  },
  {
   "cell_type": "code",
   "execution_count": null,
   "id": "fbec4786",
   "metadata": {
    "scrolled": true
   },
   "outputs": [],
   "source": [
    "for clinic_page in tqdm(work_links.clinic_page[:9]):\n",
    "        \n",
    "    driver.get(clinic_page)\n",
    "    sleep(3)\n",
    "    \n",
    "    text = driver.page_source\n",
    "            \n",
    "    # часы работы\n",
    "    work_hours = []\n",
    "    try:\n",
    "        work_hours_block = driver.find_elements(By.CLASS_NAME, 'aside__time-item')\n",
    "\n",
    "        for i in work_hours_block:\n",
    "            work_hours += [i.text.replace('\\n', ' ')]\n",
    "\n",
    "    except:\n",
    "        pass\n",
    "\n",
    "\n",
    "    # сайт\n",
    "    try:\n",
    "        web_site = (driver.find_element(By.CLASS_NAME, 'sidebar-item__content_site-link')\n",
    "                    .get_attribute('href')\n",
    "                    .replace('https://topdent.ru/leave/?url=', '')\n",
    "                    .replace('%3A%2F%2F', '://')\n",
    "                   )\n",
    "\n",
    "        web_site = re.sub(r'%2F%3Futm_source[\\S]+', '', web_site)\n",
    "\n",
    "    except:\n",
    "        web_site = 'none'\n",
    "\n",
    "\n",
    "    # телефон\n",
    "    \n",
    "    try:\n",
    "        phone = driver.find_element(By.TAG_NAME, 'a[class=\"aside__phone\"]').text\n",
    "\n",
    "    except:\n",
    "        phone = 'none'\n",
    "    \n",
    "            \n",
    "    # описание клиники\n",
    "    description = driver.find_element(By.CLASS_NAME, 'quote-clinic__main').text\n",
    "    \n",
    "    \n",
    "    data.append([clinic_page,\n",
    "                 web_site, phone, work_hours, description])"
   ]
  },
  {
   "cell_type": "code",
   "execution_count": null,
   "id": "cb034105",
   "metadata": {},
   "outputs": [],
   "source": []
  },
  {
   "cell_type": "markdown",
   "id": "e629c028",
   "metadata": {},
   "source": [
    "### Код парсера остальных клиник ###"
   ]
  },
  {
   "cell_type": "code",
   "execution_count": null,
   "id": "b925318f",
   "metadata": {},
   "outputs": [],
   "source": [
    "for clinic_page in tqdm(work_links.clinic_page):\n",
    "        \n",
    "    driver.get(clinic_page)\n",
    "    sleep(3)\n",
    "    \n",
    "    \n",
    "    # часы работы\n",
    "    work_hours = []\n",
    "    try:\n",
    "        work_hours_block = driver.find_elements(By.CLASS_NAME, 'work-item__content')\n",
    "        \n",
    "        for i in work_hours_block:\n",
    "            work_hours += [i.text]\n",
    "            \n",
    "    except:\n",
    "        pass\n",
    "\n",
    "\n",
    "    # сайт\n",
    "    try: # ссылка чеез редирект, поэтому приходится в 2 этапа\n",
    "        web_site = (driver.find_element(By.CLASS_NAME, 'sidebar-item__content_site-link')\n",
    "                    .get_attribute('href')\n",
    "                    .replace('https://topdent.ru/leave/?url=', '')\n",
    "                    .replace('%3A%2F%2F', '://')\n",
    "                   ) # беру ссылку и отрезаю лишнее спереди\n",
    "\n",
    "        web_site = re.sub(r'//.+', '//', web_site) # оставляю только протокол\n",
    "        \n",
    "        web_site = web_site + driver.find_element(By.CLASS_NAME, 'sidebar-item__content_site-link').text # плюсую к домену\n",
    "\n",
    "    except:\n",
    "        web_site = 'none'\n",
    "\n",
    "\n",
    "    # телефон\n",
    "    \n",
    "    try:\n",
    "        phone = (driver\n",
    "                 .find_element(By.CLASS_NAME, 'sidebar')\n",
    "                 .find_element(By.PARTIAL_LINK_TEXT('+7'))\n",
    "                 .text.replace('+7 ', ''))\n",
    "\n",
    "    except:\n",
    "        phone = 'none'\n",
    "    \n",
    "            \n",
    "    # описание клиники\n",
    "    try:\n",
    "        show_description = WebDriverWait(driver, 10).until(\n",
    "                    EC.element_to_be_clickable((By.CLASS_NAME, 'button.while-blue.full')))\n",
    "        \n",
    "        show_description.click()\n",
    "        \n",
    "        description = driver.find_element(By.CLASS_NAME, 'about__content').text.replace('\\n', ' ')\n",
    "        \n",
    "    except:\n",
    "        description = 'none'\n",
    "        \n",
    "        \n",
    "    data.append([clinic_page,\n",
    "                 web_site, phone, work_hours, description])"
   ]
  },
  {
   "cell_type": "code",
   "execution_count": null,
   "id": "29b0fe16",
   "metadata": {
    "scrolled": true
   },
   "outputs": [],
   "source": [
    "# Записываю в датафрейм\n",
    "\n",
    "head_list = ['clinic_page',\n",
    "             'web_site', 'phone', 'work_hours', 'description']\n",
    "\n",
    "work = pd.DataFrame(data, columns=head_list)"
   ]
  },
  {
   "cell_type": "code",
   "execution_count": null,
   "id": "718473c1",
   "metadata": {},
   "outputs": [],
   "source": [
    "work.shape"
   ]
  },
  {
   "cell_type": "code",
   "execution_count": null,
   "id": "c2c9f5da",
   "metadata": {},
   "outputs": [],
   "source": [
    "work = work.merge(work_links, how='left', on='clinic_page')"
   ]
  },
  {
   "cell_type": "code",
   "execution_count": null,
   "id": "adfb2f81",
   "metadata": {},
   "outputs": [],
   "source": [
    "work = work[['clinic', 'address', 'metro_stations',\n",
    "             'verified', 'td_rec',\n",
    "             'web_site', 'phone',\n",
    "             'work_hours', 'description',\n",
    "             'price_segment', 'clinic_score', 'score_number',\n",
    "             'clinic_page']]"
   ]
  },
  {
   "cell_type": "code",
   "execution_count": null,
   "id": "f4a4690d",
   "metadata": {
    "scrolled": true
   },
   "outputs": [],
   "source": [
    "work.head(2)"
   ]
  },
  {
   "cell_type": "code",
   "execution_count": null,
   "id": "9228a964",
   "metadata": {
    "scrolled": true
   },
   "outputs": [],
   "source": [
    "work.to_excel(file_path + f'top_dent_{need_city}.xlsx', encoding='utf8', index=False)"
   ]
  },
  {
   "cell_type": "code",
   "execution_count": null,
   "id": "59a2fe1a",
   "metadata": {
    "scrolled": true
   },
   "outputs": [],
   "source": [
    "driver.quit()"
   ]
  },
  {
   "cell_type": "code",
   "execution_count": null,
   "id": "fe6fb2e4",
   "metadata": {
    "scrolled": true
   },
   "outputs": [],
   "source": []
  }
 ],
 "metadata": {
  "kernelspec": {
   "display_name": "Python 3",
   "language": "python",
   "name": "python3"
  },
  "language_info": {
   "codemirror_mode": {
    "name": "ipython",
    "version": 3
   },
   "file_extension": ".py",
   "mimetype": "text/x-python",
   "name": "python",
   "nbconvert_exporter": "python",
   "pygments_lexer": "ipython3",
   "version": "3.8.8"
  }
 },
 "nbformat": 4,
 "nbformat_minor": 5
}
