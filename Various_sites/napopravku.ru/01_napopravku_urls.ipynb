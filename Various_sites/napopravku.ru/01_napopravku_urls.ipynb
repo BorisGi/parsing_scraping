{
 "cells": [
  {
   "cell_type": "markdown",
   "id": "5aed38b0",
   "metadata": {},
   "source": [
    "Парсер сайта napopravku.ru.\n",
    "\n",
    "Собирает данные о клиниках:\n",
    "\n",
    "- базовую информацию (адрес, телефон, время работы)\n",
    "- тип клиники\n",
    "- описание и преимущества\n",
    "- среднюю оценку и количество отзывов\n",
    "- информацию о врачах\n",
    "- цены\n",
    "\n",
    "Часть первая. Собирает ссылки страниц клиник.\n",
    "\n",
    "Последние правки: 2021-12-27"
   ]
  },
  {
   "cell_type": "markdown",
   "id": "679f8098",
   "metadata": {},
   "source": [
    "## Библиотеки и настройки ##"
   ]
  },
  {
   "cell_type": "code",
   "execution_count": null,
   "id": "478981cd",
   "metadata": {},
   "outputs": [],
   "source": [
    "#Загружаю нужные библиотеки\n",
    "\n",
    "import pandas as pd\n",
    "import math\n",
    "\n",
    "# регулярки\n",
    "import re\n",
    "\n",
    "# для юзер-агента\n",
    "from fake_useragent import UserAgent\n",
    "\n",
    "# прогресс-бар\n",
    "from tqdm.notebook import trange, tqdm\n",
    "\n",
    "# для пауз при парсинге\n",
    "from time import sleep\n",
    "\n",
    "# селениум\n",
    "from selenium import webdriver\n",
    "\n",
    "from selenium.common.exceptions import NoSuchElementException\n",
    "from selenium.webdriver.common.by import By\n",
    "from selenium.webdriver.support.ui import WebDriverWait\n",
    "from selenium.webdriver.support import expected_conditions as EC"
   ]
  },
  {
   "cell_type": "code",
   "execution_count": null,
   "id": "8a3987b4",
   "metadata": {},
   "outputs": [],
   "source": [
    "# настройки юзер-агента\n",
    "\n",
    "ua = UserAgent()\n",
    "\n",
    "# юзер-агент для Хрома\n",
    "user_agent = ua.chrome"
   ]
  },
  {
   "cell_type": "code",
   "execution_count": null,
   "id": "13ec3748",
   "metadata": {},
   "outputs": [],
   "source": [
    "# тестовая страница для Селениума\n",
    "\n",
    "test_url = 'https://intoli.com/blog/not-possible-to-block-chrome-headless/chrome-headless-test.html'"
   ]
  },
  {
   "cell_type": "code",
   "execution_count": null,
   "id": "54c5b057",
   "metadata": {},
   "outputs": [],
   "source": [
    "# путь к файлам\n",
    "\n",
    "file_path = 'C:/00_Data/stom/'\n",
    "proxy_list_path = 'C:/work/proxy_list.txt'"
   ]
  },
  {
   "cell_type": "code",
   "execution_count": null,
   "id": "67bf5b97",
   "metadata": {},
   "outputs": [],
   "source": [
    "# загружаю список прокси\n",
    "# список простой текстовый файл, который содержит прокси в формате: адрес:порт логин:пароль\n",
    "\n",
    "proxy_list = []\n",
    "\n",
    "with open(proxy_list_path, 'r') as f:\n",
    "    for line in f:\n",
    "        proxy_list += [line.split()]"
   ]
  },
  {
   "cell_type": "code",
   "execution_count": null,
   "id": "2d528114",
   "metadata": {},
   "outputs": [],
   "source": [
    "print('Рабочих прокси — ' + str(len(proxy_list)))"
   ]
  },
  {
   "cell_type": "code",
   "execution_count": null,
   "id": "b6da4f60",
   "metadata": {},
   "outputs": [],
   "source": [
    "# номер прокси проще прописать вручную, ввод со строки постоянно глючит\n",
    "\n",
    "print('Номер прокси, от 0 до ' + str(len(proxy_list) - 1))\n",
    "proxy_number = int(input())\n",
    "\n",
    "#proxy_number = 1"
   ]
  },
  {
   "cell_type": "code",
   "execution_count": null,
   "id": "5b35aa99",
   "metadata": {},
   "outputs": [],
   "source": [
    "# настройки веб-драйвера, чтобы скрыть автоматическое управление\n",
    "\n",
    "opt = webdriver.ChromeOptions()\n",
    "opt.add_argument(f'user-agent={user_agent}')\n",
    "opt.add_argument('--disable-blink-features')\n",
    "opt.add_argument('--disable-blink-features=AutomationControlled')\n",
    "opt.add_argument(f'--proxy-server={proxy_list[proxy_number][0]}') # \"девственный\" прокси(:\n",
    "opt.add_experimental_option(\"excludeSwitches\", [\"enable-automation\"]) # отключает строку про удаленное управление\n",
    "opt.add_experimental_option('useAutomationExtension', False)"
   ]
  },
  {
   "cell_type": "code",
   "execution_count": null,
   "id": "6ec9a0d4",
   "metadata": {},
   "outputs": [],
   "source": [
    "print('Login: ' + proxy_list[proxy_number][1])\n",
    "print('Pass: ' + proxy_list[proxy_number][2])"
   ]
  },
  {
   "cell_type": "code",
   "execution_count": null,
   "id": "b480c2c3",
   "metadata": {},
   "outputs": [],
   "source": [
    "# запускаю драйвер, проверяю настройки\n",
    "\n",
    "driver = webdriver.Chrome(options=opt)\n",
    "driver.get(test_url)\n",
    "driver.maximize_window() # раскрываю окно на максимум"
   ]
  },
  {
   "cell_type": "code",
   "execution_count": null,
   "id": "69062c97",
   "metadata": {},
   "outputs": [],
   "source": []
  },
  {
   "cell_type": "markdown",
   "id": "20bab573",
   "metadata": {},
   "source": [
    "## Собираю ссылки ##"
   ]
  },
  {
   "cell_type": "markdown",
   "id": "cd56c88f",
   "metadata": {},
   "source": [
    "На сайте простая пагинация, с 1 и далее. На странице по 20 клиник."
   ]
  },
  {
   "cell_type": "code",
   "execution_count": null,
   "id": "065c0d89",
   "metadata": {},
   "outputs": [],
   "source": [
    "# начальные ссылки\n",
    "\n",
    "#url_part_1 = 'https://napopravku.ru/moskva/stomatologia/page-'\n",
    "\n",
    "#url_part_1 = 'https://spb.napopravku.ru/stomatologia/page-'\n",
    "\n",
    "#url_part_1 = 'https://napopravku.ru/nsk/stomatologia/page-'\n",
    "\n",
    "#url_part_1 = 'https://napopravku.ru/ekb/stomatologia/page-'\n",
    "\n",
    "#url_part_1 = 'https://napopravku.ru/kazan/stomatologia/page-'\n",
    "\n",
    "#url_part_1 = 'https://napopravku.ru/nn/stomatologia/page-'\n",
    "\n",
    "#url_part_1 = 'https://napopravku.ru/chelyabinsk/stomatologia/page-'\n",
    "\n",
    "#url_part_1 = 'https://napopravku.ru/samara/stomatologia/page-'\n",
    "\n",
    "#url_part_1 = 'https://napopravku.ru/rostov-na-donu/stomatologia/page-'\n",
    "\n",
    "#url_part_1 = 'https://napopravku.ru/ufa/stomatologia/page-'\n",
    "\n",
    "#url_part_1 = 'https://napopravku.ru/krasnoyarsk/stomatologia/page-'\n",
    "\n",
    "#url_part_1 = 'https://napopravku.ru/voronezh/stomatologia/page-'\n",
    "\n",
    "#url_part_1 = 'https://napopravku.ru/perm/stomatologia/page-'\n",
    "\n",
    "#url_part_1 = 'https://napopravku.ru/volgograd/stomatologia/page-'\n",
    "\n",
    "#url_part_1 = 'https://napopravku.ru/krasnodar/stomatologia/page-'\n",
    "\n",
    "#url_part_1 = 'https://napopravku.ru/saratov/stomatologia/page-'\n",
    "\n",
    "#url_part_1 = 'https://napopravku.ru/tolyatti/stomatologia/page-'\n",
    "\n",
    "#url_part_1 = 'https://napopravku.ru/barnaul/stomatologia/page-'\n",
    "\n",
    "#url_part_1 = 'https://napopravku.ru/izhevsk/stomatologia/page-'\n",
    "\n",
    "#url_part_1 = 'https://napopravku.ru/ulyanovsk/stomatologia/page-'\n",
    "\n",
    "#url_part_1 = 'https://napopravku.ru/vladivostok/stomatologia/page-'\n",
    "\n",
    "#url_part_1 = 'https://napopravku.ru/yaroslavl/stomatologia/page-'\n",
    "\n",
    "#url_part_1 = 'https://napopravku.ru/irkutsk/stomatologia/page-'\n",
    "\n",
    "url_part_1 = 'https://napopravku.ru/tyumen/stomatologia/page-'"
   ]
  },
  {
   "cell_type": "code",
   "execution_count": null,
   "id": "d023f9a8",
   "metadata": {},
   "outputs": [],
   "source": [
    "# открываю страницу, чтобы посчитать общее количество клиник\n",
    "\n",
    "driver.get(url_part_1 + '1/')"
   ]
  },
  {
   "cell_type": "code",
   "execution_count": null,
   "id": "16d69b67",
   "metadata": {},
   "outputs": [],
   "source": []
  },
  {
   "cell_type": "code",
   "execution_count": null,
   "id": "ff319b55",
   "metadata": {},
   "outputs": [],
   "source": [
    "# количество клиник\n",
    "\n",
    "clinic_number = int(re.sub(r'\\D', '',\n",
    "                           driver.find_element_by_class_name('selection-info__result').text))\n",
    "\n",
    "page_number = math.ceil(clinic_number / 20)\n",
    "\n",
    "print('Количество клиник: ' + str(clinic_number))\n",
    "print('Количество страниц: ' + str(page_number))"
   ]
  },
  {
   "cell_type": "code",
   "execution_count": null,
   "id": "a3f5f5d6",
   "metadata": {},
   "outputs": [],
   "source": []
  },
  {
   "cell_type": "markdown",
   "id": "1ae01d36",
   "metadata": {},
   "source": [
    "### Код парсера ###\n",
    "\n",
    "На этом же этапе собираю теги клиники, потому на странице, они иногда \"теряются\"."
   ]
  },
  {
   "cell_type": "code",
   "execution_count": null,
   "id": "715fdb8f",
   "metadata": {},
   "outputs": [],
   "source": [
    "data = []\n",
    "\n",
    "for i in tqdm(range(1, page_number + 1)):\n",
    "    driver.get(url_part_1 + str(i) + '/')\n",
    "    sleep(3)\n",
    "\n",
    "    object_block = driver.find_elements_by_class_name('object-info') # вытаскиваю блок с заголовком\n",
    "\n",
    "    for item in object_block: # вытаскиваю название клиники и ссылку на страницу\n",
    "            clinic = item.find_element_by_class_name('object-info__title').text\n",
    "            clinic_page = (item.find_element_by_class_name('object-info__title')\n",
    "                           .find_element_by_tag_name('a').get_attribute('href'))\n",
    "\n",
    "            \n",
    "            clinic_tags = [] # вытаскиваю теги\n",
    "            try:\n",
    "                clinic_tag_block = item.find_elements_by_class_name('object-info__chip')\n",
    "                for tag in clinic_tag_block:\n",
    "                    clinic_tags.append(tag.find_element_by_tag_name('a')\n",
    "                                       .get_attribute('textContent')\n",
    "                                       .replace('\\n', '').strip())\n",
    "\n",
    "\n",
    "            except:\n",
    "                pass\n",
    "\n",
    "\n",
    "            data.append([clinic, clinic_page, clinic_tags])"
   ]
  },
  {
   "cell_type": "code",
   "execution_count": null,
   "id": "bade177a",
   "metadata": {},
   "outputs": [],
   "source": [
    "# записываю данные в датафрейм\n",
    "head_list = ['clinic', 'clinic_page', 'clinic_tags']\n",
    "\n",
    "work = pd.DataFrame(data, columns=head_list)"
   ]
  },
  {
   "cell_type": "code",
   "execution_count": null,
   "id": "c51e34b6",
   "metadata": {},
   "outputs": [],
   "source": [
    "work.shape"
   ]
  },
  {
   "cell_type": "code",
   "execution_count": null,
   "id": "9a451972",
   "metadata": {},
   "outputs": [],
   "source": [
    "work.sample(3)"
   ]
  },
  {
   "cell_type": "code",
   "execution_count": null,
   "id": "153411f8",
   "metadata": {},
   "outputs": [],
   "source": [
    "work.to_excel(file_path + 'napopravku_links_irkutsk.xlsx', index=False)"
   ]
  },
  {
   "cell_type": "code",
   "execution_count": null,
   "id": "73d83b44",
   "metadata": {},
   "outputs": [],
   "source": [
    "driver.close()"
   ]
  },
  {
   "cell_type": "code",
   "execution_count": null,
   "id": "49be6e1f",
   "metadata": {},
   "outputs": [],
   "source": []
  }
 ],
 "metadata": {
  "kernelspec": {
   "display_name": "Python 3",
   "language": "python",
   "name": "python3"
  },
  "language_info": {
   "codemirror_mode": {
    "name": "ipython",
    "version": 3
   },
   "file_extension": ".py",
   "mimetype": "text/x-python",
   "name": "python",
   "nbconvert_exporter": "python",
   "pygments_lexer": "ipython3",
   "version": "3.8.8"
  }
 },
 "nbformat": 4,
 "nbformat_minor": 5
}
