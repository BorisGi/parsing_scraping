{
 "cells": [
  {
   "cell_type": "code",
   "execution_count": null,
   "id": "38d78629",
   "metadata": {},
   "outputs": [],
   "source": []
  },
  {
   "cell_type": "markdown",
   "id": "5808c231",
   "metadata": {},
   "source": [
    "Скрипт собирает данные поездок.\n",
    "Логин/пароль нужно вводить вручную.\n",
    "\n",
    "Последние обновления скрипта: 17 апреля 2022"
   ]
  },
  {
   "cell_type": "markdown",
   "id": "2ae87657",
   "metadata": {},
   "source": [
    "## Библиотеки и настройки ##"
   ]
  },
  {
   "cell_type": "code",
   "execution_count": null,
   "id": "92db8466",
   "metadata": {},
   "outputs": [],
   "source": [
    "#Загружаю нужные библиотеки\n",
    "\n",
    "import pandas as pd\n",
    "import re\n",
    "\n",
    "import math\n",
    "\n",
    "# для юзер-агента\n",
    "from fake_useragent import UserAgent\n",
    "\n",
    "# прогресс-бар\n",
    "from tqdm.notebook import trange, tqdm\n",
    "\n",
    "# для пауз при парсинге\n",
    "from time import sleep\n",
    "\n",
    "# селениум\n",
    "from selenium import webdriver\n",
    "\n",
    "#import selenium.common.exceptions as exc\n",
    "from selenium.common.exceptions import NoSuchElementException\n",
    "from selenium.webdriver.common.by import By\n",
    "from selenium.webdriver.support.ui import WebDriverWait\n",
    "from selenium.webdriver.support import expected_conditions as EC\n",
    "\n",
    "# оболочка stealth для скрытия автоматизации\n",
    "from selenium_stealth import stealth"
   ]
  },
  {
   "cell_type": "code",
   "execution_count": null,
   "id": "cc3274bc",
   "metadata": {},
   "outputs": [],
   "source": [
    "# настройки юзер-агента\n",
    "\n",
    "ua = UserAgent()\n",
    "\n",
    "# юзер-агент для Хрома\n",
    "user_agent = ua.random"
   ]
  },
  {
   "cell_type": "code",
   "execution_count": null,
   "id": "582b33c4",
   "metadata": {},
   "outputs": [],
   "source": [
    "test_url = 'https://intoli.com/blog/not-possible-to-block-chrome-headless/chrome-headless-test.html'"
   ]
  },
  {
   "cell_type": "code",
   "execution_count": null,
   "id": "694952b9",
   "metadata": {},
   "outputs": [],
   "source": [
    "# путь к файлам\n",
    "\n",
    "file_path = 'C:/00_Data/my_data/'\n",
    "proxy_list_path = 'C:/work/keys/proxy_list.txt' # путь и названия со списком прокси"
   ]
  },
  {
   "cell_type": "code",
   "execution_count": null,
   "id": "5e44c71c",
   "metadata": {},
   "outputs": [],
   "source": [
    "# загружаю список прокси\n",
    "\n",
    "proxy_list = []\n",
    "\n",
    "with open(proxy_list_path, 'r') as f:\n",
    "    for line in f:\n",
    "        proxy_list += [line.split()]"
   ]
  },
  {
   "cell_type": "code",
   "execution_count": null,
   "id": "bba0e507",
   "metadata": {},
   "outputs": [],
   "source": [
    "print('Рабочих прокси — ' + str(len(proxy_list)))"
   ]
  },
  {
   "cell_type": "code",
   "execution_count": null,
   "id": "7a32a8bd",
   "metadata": {},
   "outputs": [],
   "source": [
    "# номер прокси проще прописать вручную, ввод со строки постоянно глючит\n",
    "\n",
    "print('Номер прокси, от 0 до ' + str(len(proxy_list) - 1))\n",
    "proxy_number = int(input())\n",
    "\n",
    "#proxy_number = 0"
   ]
  },
  {
   "cell_type": "code",
   "execution_count": null,
   "id": "a56f06d9",
   "metadata": {},
   "outputs": [],
   "source": [
    "# настройки веб-драйвера, чтобы скрыть автоматическое управление\n",
    "\n",
    "opt = webdriver.ChromeOptions()\n",
    "#opt.add_argument(f'user-agent={user_agent}')\n",
    "opt.add_argument('--disable-blink-features')\n",
    "opt.add_argument('--disable-blink-features=AutomationControlled')\n",
    "#opt.add_argument(f'--proxy-server={proxy_list[proxy_number][0]}') # \"девственный\" прокси(:\n",
    "opt.add_experimental_option(\"excludeSwitches\", [\"enable-automation\"]) # отключает строку про удаленное управление\n",
    "\n",
    "opt.add_experimental_option('useAutomationExtension', False)"
   ]
  },
  {
   "cell_type": "code",
   "execution_count": null,
   "id": "46d8134c",
   "metadata": {},
   "outputs": [],
   "source": [
    "# запускаю драйвер, проверяю настройки\n",
    "\n",
    "driver = webdriver.Chrome(options=opt)\n",
    "driver.get(test_url)\n",
    "driver.maximize_window() # раскрываю окно на максимум"
   ]
  },
  {
   "cell_type": "code",
   "execution_count": null,
   "id": "c7feb42e",
   "metadata": {},
   "outputs": [],
   "source": [
    "print('Login: ' + proxy_list[proxy_number][1])\n",
    "print('Pass: ' + proxy_list[proxy_number][2])"
   ]
  },
  {
   "cell_type": "code",
   "execution_count": null,
   "id": "e7d743f3",
   "metadata": {},
   "outputs": [],
   "source": []
  },
  {
   "cell_type": "markdown",
   "id": "9839b302",
   "metadata": {},
   "source": [
    "## Собираю данные ##"
   ]
  },
  {
   "cell_type": "code",
   "execution_count": null,
   "id": "36b2c1d9",
   "metadata": {},
   "outputs": [],
   "source": [
    "# ссылка на кабинет\n",
    "\n",
    "url_part_1 = 'https://velobike.ru/account/history/?page='"
   ]
  },
  {
   "cell_type": "code",
   "execution_count": null,
   "id": "7e08f394",
   "metadata": {},
   "outputs": [],
   "source": [
    "# открываю первую страницу, вручную ввожу логин и пароль\n",
    "\n",
    "driver.get(url_part_1 + '1')"
   ]
  },
  {
   "cell_type": "markdown",
   "id": "be8c62df",
   "metadata": {},
   "source": [
    "У Велобайка специфичная защита от ботов, при первом обращении выдает ошибку 403.\n",
    "Однако если сайт в другой вкладке этой же сессии, всё начинает работать."
   ]
  },
  {
   "cell_type": "markdown",
   "id": "cd20c2b4",
   "metadata": {},
   "source": [
    "В кабинете Велобайка \"псевдодинамические\" страницы, от 1 и дальше. \n",
    "\n",
    "На странице, максимум, по 4 блока (поездки и оплаты).\n",
    "\n",
    "Количество страниц = (общее количество поездок + количество оплат) / 4 + количество оплат"
   ]
  },
  {
   "cell_type": "code",
   "execution_count": null,
   "id": "f59b214e",
   "metadata": {},
   "outputs": [],
   "source": [
    "driver.find_element(By.CLASS_NAME, 'content').find_element(By.TAG_NAME, 'ul').text.split('\\n')"
   ]
  },
  {
   "cell_type": "code",
   "execution_count": null,
   "id": "dc55bbfb",
   "metadata": {},
   "outputs": [],
   "source": [
    "# количество страниц\n",
    "\n",
    "math.ceil(847/4)"
   ]
  },
  {
   "cell_type": "code",
   "execution_count": null,
   "id": "0040a888",
   "metadata": {},
   "outputs": [],
   "source": []
  },
  {
   "cell_type": "code",
   "execution_count": null,
   "id": "d99d0182",
   "metadata": {},
   "outputs": [],
   "source": [
    "data = [] # список для данных\n",
    "\n",
    "\n",
    "for i in tqdm(range(1, 214)):\n",
    "    driver.get(url_part_1 + str(i))\n",
    "    sleep(5)\n",
    "    \n",
    "    # блоки поездок\n",
    "    history_blocks = driver.find_elements(By.CLASS_NAME, 'history-list__item')\n",
    "    \n",
    "    for one_route in history_blocks:\n",
    "        \n",
    "        try:\n",
    "            print(one_route.find_element(By.TAG_NAME, 'h4').text)\n",
    "        \n",
    "        except:\n",
    "            block_html = one_route.get_attribute('innerHTML')\n",
    "        \n",
    "            # начало и конец поездки\n",
    "            startdate = re.findall('StartDate:.+', block_html)[0].replace('StartDate: ', '').replace('T', ' ')\n",
    "            enddate = re.findall('EndDate:.+', block_html)[0].replace('EndDate: ', '').replace('T', ' ')\n",
    "\n",
    "            # начальная и конечная станция\n",
    "            points = []\n",
    "            for point in one_route.find_elements(By.CLASS_NAME, 'route-info__point-title'):    \n",
    "                points += [point.text]\n",
    "\n",
    "            start_point = points[0]\n",
    "            end_point = points[1]\n",
    "\n",
    "\n",
    "            point_addresses = []\n",
    "            for point in one_route.find_elements(By.CLASS_NAME, 'route-info__point-address'):    \n",
    "                point_addresses += [point.text]\n",
    "\n",
    "            start_address = point_addresses[0]\n",
    "            end_address = point_addresses[1]\n",
    "\n",
    "\n",
    "            # номер велосипеда, время поездки, километраж, килокалории, стоимость\n",
    "            bike_number = one_route.find_element(By.CLASS_NAME, 'routes-list__bike').text\n",
    "            route_time = one_route.find_element(By.CLASS_NAME, 'routes-list__time').text\n",
    "            route_distance = one_route.find_element(By.CLASS_NAME, 'routes-list__distance').text\n",
    "            route_calories = one_route.find_element(By.CLASS_NAME, 'routes-list__calories').text\n",
    "            route_price = one_route.find_element(By.CLASS_NAME, 'routes-list__price').text\n",
    "\n",
    "\n",
    "            data.append([startdate, enddate,\n",
    "                         start_point, end_point, start_address, end_address,\n",
    "                         bike_number, route_time, route_distance,\n",
    "                         route_calories, route_price])"
   ]
  },
  {
   "cell_type": "code",
   "execution_count": null,
   "id": "e62d3e5c",
   "metadata": {},
   "outputs": [],
   "source": [
    "# конвертирую в фрейм pandas\n",
    "\n",
    "head = ['startdate', 'enddate',\n",
    "        'start_point', 'end_point', 'start_address', 'end_address',\n",
    "        'bike_number', 'route_time', 'route_distance',\n",
    "        'route_calories', 'route_price']\n",
    "\n",
    "work_data = pd.DataFrame(data, columns=head)"
   ]
  },
  {
   "cell_type": "code",
   "execution_count": null,
   "id": "88924780",
   "metadata": {},
   "outputs": [],
   "source": [
    "work_data.shape"
   ]
  },
  {
   "cell_type": "code",
   "execution_count": null,
   "id": "18af8a17",
   "metadata": {},
   "outputs": [],
   "source": [
    "work_data.sample(3)"
   ]
  },
  {
   "cell_type": "code",
   "execution_count": null,
   "id": "7236bcb5",
   "metadata": {},
   "outputs": [],
   "source": []
  },
  {
   "cell_type": "code",
   "execution_count": null,
   "id": "9ba2b438",
   "metadata": {},
   "outputs": [],
   "source": [
    "# Записываю в файл\n",
    "\n",
    "work_data.to_excel(file_path + 'velobike_routes.xlsx', encoding='utf-8', index=False)\n",
    "work_data.to_csv(file_path + 'velobike_routes.csv', encoding='utf-8', index=False)"
   ]
  },
  {
   "cell_type": "code",
   "execution_count": null,
   "id": "9bae5f6e",
   "metadata": {},
   "outputs": [],
   "source": []
  }
 ],
 "metadata": {
  "kernelspec": {
   "display_name": "Python 3 (ipykernel)",
   "language": "python",
   "name": "python3"
  },
  "language_info": {
   "codemirror_mode": {
    "name": "ipython",
    "version": 3
   },
   "file_extension": ".py",
   "mimetype": "text/x-python",
   "name": "python",
   "nbconvert_exporter": "python",
   "pygments_lexer": "ipython3",
   "version": "3.9.7"
  }
 },
 "nbformat": 4,
 "nbformat_minor": 5
}
