{
 "cells": [
  {
   "cell_type": "markdown",
   "metadata": {},
   "source": [
    "Парсер сайта \"Реформа ЖКХ\" https://www.reformagkh.ru/\n",
    "\n",
    "Жилые дома Москвы. Часть 1. Собирает данные со страниц муниципальных районов:\n",
    "\n",
    "- адрес дома\n",
    "- год ввода в эксплуатацию\n",
    "- общая плошадь (кв.м.)\n",
    "- управляющая организация\n",
    "- ссылка на страницу дома\n",
    "\n",
    "Последнее обновление парсера: 2021-07-31"
   ]
  },
  {
   "cell_type": "markdown",
   "metadata": {},
   "source": [
    "### Собираю ссылки на муниципальные районы ###"
   ]
  },
  {
   "cell_type": "code",
   "execution_count": null,
   "metadata": {},
   "outputs": [],
   "source": [
    "#Загружаю нужные библиотеки\n",
    "\n",
    "import pandas as pd\n",
    "import math\n",
    "\n",
    "# для юзер-агента\n",
    "from fake_useragent import UserAgent\n",
    "\n",
    "# прогресс-бар\n",
    "from tqdm.notebook import trange, tqdm\n",
    "\n",
    "# для пауз при парсинге\n",
    "from time import sleep\n",
    "\n",
    "# селениум\n",
    "from selenium import webdriver\n",
    "\n",
    "from selenium.common.exceptions import NoSuchElementException\n",
    "from selenium.webdriver.common.by import By\n",
    "from selenium.webdriver.support.ui import WebDriverWait\n",
    "from selenium.webdriver.support import expected_conditions as EC"
   ]
  },
  {
   "cell_type": "code",
   "execution_count": null,
   "metadata": {},
   "outputs": [],
   "source": [
    "# настройки юзер-агента\n",
    "\n",
    "ua = UserAgent()\n",
    "\n",
    "# юзер-агент для Хрома\n",
    "user_agent = ua.chrome"
   ]
  },
  {
   "cell_type": "code",
   "execution_count": null,
   "metadata": {},
   "outputs": [],
   "source": [
    "# тестовая страница для Селениума\n",
    "\n",
    "test_url = 'https://intoli.com/blog/not-possible-to-block-chrome-headless/chrome-headless-test.html'"
   ]
  },
  {
   "cell_type": "code",
   "execution_count": null,
   "metadata": {},
   "outputs": [],
   "source": [
    "# настройки веб-драйвера, чтобы скрыть автоматическое управление\n",
    "\n",
    "opt = webdriver.ChromeOptions()\n",
    "opt.add_argument(f'user-agent={user_agent}')\n",
    "opt.add_argument('--disable-blink-features')\n",
    "opt.add_argument('--disable-blink-features=AutomationControlled')\n",
    "opt.add_experimental_option(\"excludeSwitches\", [\"enable-automation\"]) # отключает строку про удаленное управление\n",
    "opt.add_experimental_option('useAutomationExtension', False)"
   ]
  },
  {
   "cell_type": "code",
   "execution_count": null,
   "metadata": {},
   "outputs": [],
   "source": [
    "# запускаю драйвер, проверяю настройки\n",
    "\n",
    "driver = webdriver.Chrome(options=opt)\n",
    "driver.get(test_url)"
   ]
  },
  {
   "cell_type": "markdown",
   "metadata": {},
   "source": [
    "Получаю ссылки на муниципальные районы"
   ]
  },
  {
   "cell_type": "code",
   "execution_count": null,
   "metadata": {},
   "outputs": [],
   "source": [
    "# ссылка на гланую страницу\n",
    "main_url = 'https://www.reformagkh.ru/myhouse?tid=2280999'"
   ]
  },
  {
   "cell_type": "code",
   "execution_count": null,
   "metadata": {},
   "outputs": [],
   "source": [
    "driver.get(main_url)\n",
    "sleep(5) # даю странице \"прогрузиться\""
   ]
  },
  {
   "cell_type": "code",
   "execution_count": null,
   "metadata": {},
   "outputs": [],
   "source": [
    "# \"раскрываю\" подкатегории\n",
    "plus_list = driver.find_elements_by_tag_name('svg[style=\"cursor: pointer\"]') # список \"плюсов\"\n",
    "\n",
    "driver.implicitly_wait(10)\n",
    "\n",
    "for i in plus_list: # раскрываю все списки муниципалитетов\n",
    "    i.click()"
   ]
  },
  {
   "cell_type": "code",
   "execution_count": null,
   "metadata": {},
   "outputs": [],
   "source": [
    "# вытаскиваю ссылки\n",
    "\n",
    "data = [] # список для данных\n",
    "\n",
    "# вытаскиваю ссылки\n",
    "mun_urls = driver.find_elements_by_class_name('d-flex.justify-content-between.align-items-top.my-3')\n",
    "\n",
    "# циклом вытаскиваю ссылки и количество домов в каждом муниципалитете \n",
    "for mun in mun_urls:\n",
    "    mun_districts = mun.text\n",
    "    \n",
    "    try:\n",
    "        page_url = mun.find_element_by_tag_name('a').get_attribute('href')\n",
    "    \n",
    "    except:\n",
    "        page_url = 'none'\n",
    "        \n",
    "    data.append([mun_districts, page_url])"
   ]
  },
  {
   "cell_type": "code",
   "execution_count": null,
   "metadata": {},
   "outputs": [],
   "source": [
    "# создаю датафрем с данными\n",
    "\n",
    "head_list = ['mun_districts', 'page_url']\n",
    "work = pd.DataFrame(data, columns=head_list)"
   ]
  },
  {
   "cell_type": "code",
   "execution_count": null,
   "metadata": {},
   "outputs": [],
   "source": [
    "work.sample(3)"
   ]
  },
  {
   "cell_type": "code",
   "execution_count": null,
   "metadata": {},
   "outputs": [],
   "source": [
    "# должно быть 165 районов: это районы + административные округа\n",
    "work.shape"
   ]
  },
  {
   "cell_type": "code",
   "execution_count": null,
   "metadata": {},
   "outputs": [],
   "source": []
  },
  {
   "cell_type": "markdown",
   "metadata": {},
   "source": [
    "Ссылки на административные районы не нужны, это подкатегории, там только ссылки. Поэтому их убираю.\n",
    "\n",
    "Точнее, оставляю только ссылки на муниципалитеты. У этих страниц есть \"хвост\"  — \"&item=tp\".\n",
    "\n",
    "Вместе с адм.округами отваливается \"Воскресенское\", поскольку домов по версии \"Реформы\"  там — 0."
   ]
  },
  {
   "cell_type": "code",
   "execution_count": null,
   "metadata": {},
   "outputs": [],
   "source": [
    "# отсеиваю лишнее\n",
    "\n",
    "work = work[work.page_url.str.contains('item=tp', case=False)]"
   ]
  },
  {
   "cell_type": "code",
   "execution_count": null,
   "metadata": {},
   "outputs": [],
   "source": [
    "work.sample(3)"
   ]
  },
  {
   "cell_type": "code",
   "execution_count": null,
   "metadata": {},
   "outputs": [],
   "source": [
    "# разбиваю столбец mun_districts на 2 столбца\n",
    "\n",
    "work[['mun_districts','house_number']] = work['mun_districts'].str.split('\\n', expand=True)"
   ]
  },
  {
   "cell_type": "code",
   "execution_count": null,
   "metadata": {},
   "outputs": [],
   "source": [
    "work = work[['mun_districts', 'house_number', 'page_url']]"
   ]
  },
  {
   "cell_type": "code",
   "execution_count": null,
   "metadata": {},
   "outputs": [],
   "source": [
    "# Записываю в файл (на всякий)\n",
    "\n",
    "work.to_excel('C:/00 Данные/Разные Москва/mun_urls.xlsx', encoding='utf-8', index=False)"
   ]
  },
  {
   "cell_type": "markdown",
   "metadata": {},
   "source": [
    "## Собираю ссылки на страницы домов ##"
   ]
  },
  {
   "cell_type": "code",
   "execution_count": null,
   "metadata": {},
   "outputs": [],
   "source": [
    "# Обрезаю ссылки\n",
    "\n",
    "work['page_url'] = work['page_url'].str.replace('&item=tp', '')"
   ]
  },
  {
   "cell_type": "code",
   "execution_count": null,
   "metadata": {},
   "outputs": [],
   "source": [
    "# список для данных\n",
    "\n",
    "data = []"
   ]
  },
  {
   "cell_type": "code",
   "execution_count": null,
   "metadata": {},
   "outputs": [],
   "source": [
    "for district_page in tqdm(range(work.shape[0])):\n",
    "    \n",
    "    next_pages = math.ceil(int(work.iloc[district_page][1]) / 60) + 1   \n",
    "       \n",
    "    for i in range(1, next_pages):\n",
    "        \n",
    "        url = work.iloc[district_page][2] + '&page=' + str(i) + '&limit=60&item'\n",
    "        \n",
    "        driver.get(url)\n",
    "        sleep(5) # пауза, чтобы страница прогрузилась\n",
    "        driver.implicitly_wait(5)\n",
    "               \n",
    "        # собираю данные со страницы\n",
    "        # Данные на сайте сверстаны таблицей, поэтому использую xpath\n",
    "        \n",
    "        page_building_number = len(driver.find_element_by_tag_name('tbody').find_elements_by_class_name('text-right')) + 1\n",
    "        \n",
    "        for n in range(1, page_building_number): # цикл для сбора с             \n",
    "            address = driver.find_element_by_xpath(F'/html/body/section[5]/div/table/tbody/tr[{n}]/td[1]/a').text\n",
    "            year_exp = driver.find_element_by_xpath(F'/html/body/section[5]/div/table/tbody/tr[{n}]/td[2]').text\n",
    "            square = driver.find_element_by_xpath(F'/html/body/section[5]/div/table/tbody/tr[{n}]/td[3]').text\n",
    "            managing_organization = driver.find_element_by_xpath(F'/html/body/section[5]/div/table/tbody/tr[{n}]/td[4]').text\n",
    "            mun_district = work.iloc[district_page][0]\n",
    "            building_page = driver.find_element_by_xpath(F'/html/body/section[5]/div/table/tbody/tr[{n}]/td[1]/a').get_attribute('href')\n",
    "            \n",
    "            data.append([address, year_exp, square, managing_organization, building_page, mun_district])"
   ]
  },
  {
   "cell_type": "code",
   "execution_count": null,
   "metadata": {},
   "outputs": [],
   "source": [
    "head_list = ['address', 'year_exp', 'square', 'managing_organization', 'mun_district', 'building_page']\n",
    "work_links = pd.DataFrame(data, columns=head_list)"
   ]
  },
  {
   "cell_type": "code",
   "execution_count": null,
   "metadata": {},
   "outputs": [],
   "source": [
    "work_links.sample(3)"
   ]
  },
  {
   "cell_type": "code",
   "execution_count": null,
   "metadata": {},
   "outputs": [],
   "source": [
    "work_links.shape"
   ]
  },
  {
   "cell_type": "code",
   "execution_count": null,
   "metadata": {},
   "outputs": [],
   "source": [
    "# проверяю все ли данные скачались\n",
    "# количество строк должно быть равно сумме всех домов\n",
    "\n",
    "work_links.shape[0] == work.house_number.sum()"
   ]
  },
  {
   "cell_type": "code",
   "execution_count": null,
   "metadata": {},
   "outputs": [],
   "source": [
    "# Записываю в файл\n",
    "\n",
    "work_links.to_excel('C:/00 Данные/Разные Москва/buildings_links.xlsx', encoding='utf-8', index=False)"
   ]
  },
  {
   "cell_type": "code",
   "execution_count": null,
   "metadata": {},
   "outputs": [],
   "source": []
  }
 ],
 "metadata": {
  "kernelspec": {
   "display_name": "Python 3",
   "language": "python",
   "name": "python3"
  },
  "language_info": {
   "codemirror_mode": {
    "name": "ipython",
    "version": 3
   },
   "file_extension": ".py",
   "mimetype": "text/x-python",
   "name": "python",
   "nbconvert_exporter": "python",
   "pygments_lexer": "ipython3",
   "version": "3.8.8"
  }
 },
 "nbformat": 4,
 "nbformat_minor": 2
}
