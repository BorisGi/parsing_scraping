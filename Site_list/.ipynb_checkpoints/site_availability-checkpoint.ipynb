{
 "cells": [
  {
   "cell_type": "markdown",
   "id": "bd0ece89",
   "metadata": {},
   "source": [
    "Простой скрипт для проверки доступности сайта.\n",
    "\n",
    "Проверяет доступность по списку сайтов, выгружает статус и заголовок.\n",
    "\n",
    "Последние правки скрипта: 2022-01-15"
   ]
  },
  {
   "cell_type": "code",
   "execution_count": null,
   "id": "78e6ee1a",
   "metadata": {},
   "outputs": [],
   "source": [
    "#Загружаю нужные библиотеки\n",
    "\n",
    "import pandas as pd\n",
    "import math\n",
    "import os\n",
    "\n",
    "# регулярки\n",
    "import re\n",
    "\n",
    "# для юзер-агента\n",
    "from fake_useragent import UserAgent\n",
    "\n",
    "# для работы с буфером обмена\n",
    "import pyperclip\n",
    "\n",
    "# прогресс-бар\n",
    "from tqdm.notebook import trange, tqdm\n",
    "\n",
    "# для пауз при парсинге\n",
    "from time import sleep\n",
    "\n",
    "# импорт requests\n",
    "import requests\n",
    "\n",
    "# селениум\n",
    "from selenium import webdriver\n",
    "\n",
    "from selenium.common.exceptions import NoSuchElementException\n",
    "from selenium.webdriver.common.by import By\n",
    "from selenium.webdriver.support.ui import WebDriverWait\n",
    "from selenium.webdriver.support import expected_conditions as EC"
   ]
  },
  {
   "cell_type": "code",
   "execution_count": null,
   "id": "387bacf6",
   "metadata": {},
   "outputs": [],
   "source": [
    "# настройки юзер-агента\n",
    "\n",
    "ua = UserAgent()\n",
    "\n",
    "# юзер-агент для Хрома\n",
    "user_agent = ua.chrome"
   ]
  },
  {
   "cell_type": "code",
   "execution_count": null,
   "id": "02b79af8",
   "metadata": {},
   "outputs": [],
   "source": [
    "test_url = 'https://intoli.com/blog/not-possible-to-block-chrome-headless/chrome-headless-test.html'"
   ]
  },
  {
   "cell_type": "code",
   "execution_count": null,
   "id": "6b653938",
   "metadata": {},
   "outputs": [],
   "source": [
    "# путь к файлам\n",
    "\n",
    "file_path = 'C:/00_Data/'\n",
    "proxy_list_path = 'C:/work/keys/proxy_list.txt' # путь и названия со списком прокси"
   ]
  },
  {
   "cell_type": "code",
   "execution_count": null,
   "id": "9298c52a",
   "metadata": {},
   "outputs": [],
   "source": [
    "# загружаю список прокси\n",
    "# список простой текстовый файл, который содержит прокси в формате: адрес:порт логин:пароль\n",
    "\n",
    "proxy_list = []\n",
    "\n",
    "with open(proxy_list_path, 'r') as f:\n",
    "    for line in f:\n",
    "        proxy_list += [line.split()]\n",
    "        \n",
    "print('Рабочих прокси — ' + str(len(proxy_list)))"
   ]
  },
  {
   "cell_type": "code",
   "execution_count": null,
   "id": "52daf240",
   "metadata": {},
   "outputs": [],
   "source": [
    "# номер прокси\n",
    "\n",
    "print('Номер прокси, от 0 до ' + str(len(proxy_list) - 1))\n",
    "proxy_number = int(input())"
   ]
  },
  {
   "cell_type": "code",
   "execution_count": null,
   "id": "35348d82",
   "metadata": {},
   "outputs": [],
   "source": [
    "# настройки веб-драйвера, чтобы скрыть автоматическое управление\n",
    "\n",
    "opt = webdriver.ChromeOptions()\n",
    "opt.add_argument(f'user-agent={user_agent}')\n",
    "opt.add_argument('--disable-blink-features')\n",
    "opt.add_argument('--disable-blink-features=AutomationControlled')\n",
    "opt.add_argument(f'--proxy-server={proxy_list[proxy_number][0]}') # \"девственный\" прокси(:\n",
    "opt.add_experimental_option(\"excludeSwitches\", [\"enable-automation\"]) # отключает строку про удаленное управление\n",
    "opt.add_experimental_option('useAutomationExtension', False)"
   ]
  },
  {
   "cell_type": "code",
   "execution_count": null,
   "id": "e83ff7f9",
   "metadata": {},
   "outputs": [],
   "source": [
    "# пока не придумал нормального способа авторизации\n",
    "\n",
    "pyperclip.copy(proxy_list[proxy_number][2])\n",
    "\n",
    "print('Login: ' + proxy_list[proxy_number][1])\n",
    "print('Pass: Пароль в буфере обмена')"
   ]
  },
  {
   "cell_type": "code",
   "execution_count": null,
   "id": "9c2c2b41",
   "metadata": {},
   "outputs": [],
   "source": [
    "# запускаю драйвер, проверяю настройки\n",
    "\n",
    "driver = webdriver.Chrome(options=opt)\n",
    "driver.get(test_url)\n",
    "driver.maximize_window() # раскрываю окно на максимум"
   ]
  },
  {
   "cell_type": "code",
   "execution_count": null,
   "id": "28689924",
   "metadata": {},
   "outputs": [],
   "source": []
  },
  {
   "cell_type": "markdown",
   "id": "0d17b2bb",
   "metadata": {},
   "source": [
    "## Собираю данные\n",
    "\n",
    "### Загружаю список ссылок"
   ]
  },
  {
   "cell_type": "code",
   "execution_count": null,
   "id": "08bfa53e",
   "metadata": {},
   "outputs": [],
   "source": [
    "file_path"
   ]
  },
  {
   "cell_type": "code",
   "execution_count": null,
   "id": "d52122e3",
   "metadata": {},
   "outputs": [],
   "source": [
    "# путь к нужным папкам в основной папке\n",
    "\n",
    "file_path_add = file_path + input()"
   ]
  },
  {
   "cell_type": "code",
   "execution_count": null,
   "id": "7f6bfdd8",
   "metadata": {},
   "outputs": [],
   "source": [
    "# вытаскиваю названия файлов в список file_list\n",
    "\n",
    "file_list = []\n",
    "\n",
    "for root, dirs, files in os.walk(file_path_add):\n",
    "    \n",
    "    for filename in files:\n",
    "        file_list += [filename]"
   ]
  },
  {
   "cell_type": "code",
   "execution_count": null,
   "id": "2ec45b6c",
   "metadata": {},
   "outputs": [],
   "source": [
    "file_list"
   ]
  },
  {
   "cell_type": "code",
   "execution_count": null,
   "id": "ffaf8116",
   "metadata": {},
   "outputs": [],
   "source": [
    "work_links = pd.read_excel(file_path_add + file_list[0])"
   ]
  },
  {
   "cell_type": "code",
   "execution_count": null,
   "id": "15f3f0f9",
   "metadata": {},
   "outputs": [],
   "source": [
    "work_links.sample()"
   ]
  },
  {
   "cell_type": "code",
   "execution_count": null,
   "id": "4614a3d7",
   "metadata": {},
   "outputs": [],
   "source": [
    "work_links.shape"
   ]
  },
  {
   "cell_type": "code",
   "execution_count": null,
   "id": "981366c8",
   "metadata": {},
   "outputs": [],
   "source": [
    "url_list = list(work_links[work_links['web_site'] != 'none']['web_site'].unique())"
   ]
  },
  {
   "cell_type": "code",
   "execution_count": null,
   "id": "64c55849",
   "metadata": {},
   "outputs": [],
   "source": [
    "len(url_list)"
   ]
  },
  {
   "cell_type": "code",
   "execution_count": null,
   "id": "390b13c7",
   "metadata": {},
   "outputs": [],
   "source": []
  },
  {
   "cell_type": "markdown",
   "id": "a7da183b",
   "metadata": {},
   "source": [
    "### Код парсера"
   ]
  },
  {
   "cell_type": "code",
   "execution_count": null,
   "id": "469b4bae",
   "metadata": {},
   "outputs": [],
   "source": [
    "# проверяю ссылки на страницы\n",
    "\n",
    "data = [] # список для данных\n",
    "    \n",
    "for url in tqdm(url_list[:10]): # цикл для ссылок\n",
    "    \n",
    "    \n",
    "    try:\n",
    "        driver.get(url)\n",
    "        sleep(1)\n",
    "        availability = 1\n",
    "        title = driver.title\n",
    "        \n",
    "        r = requests.get(url, headers={'User-Agent': user_agent})\n",
    "        sleep(2)\n",
    "        status = r.status_code\n",
    "                \n",
    "    except:\n",
    "        availability = 0\n",
    "        title = 'none'        \n",
    "        status = 'none'\n",
    "\n",
    "    \n",
    "    data.append([url, availability, status, title])"
   ]
  },
  {
   "cell_type": "code",
   "execution_count": null,
   "id": "b583aac0",
   "metadata": {},
   "outputs": [],
   "source": [
    "# Записываю в датафрейм\n",
    "\n",
    "head_list = ['web_site', 'availability', 'status', 'title']\n",
    "\n",
    "work = pd.DataFrame(data, columns=head_list)"
   ]
  },
  {
   "cell_type": "code",
   "execution_count": null,
   "id": "b2bab758",
   "metadata": {},
   "outputs": [],
   "source": [
    "work.sample(3)"
   ]
  },
  {
   "cell_type": "code",
   "execution_count": null,
   "id": "5ec7abad",
   "metadata": {},
   "outputs": [],
   "source": [
    "# записываю  в файл, в основную папку\n",
    "\n",
    "work.to_excel(file_path + 'site_list.xlsx', encoding='utf8', index=False)"
   ]
  },
  {
   "cell_type": "code",
   "execution_count": null,
   "id": "d9dd2f95",
   "metadata": {},
   "outputs": [],
   "source": [
    "driver.quit()"
   ]
  },
  {
   "cell_type": "code",
   "execution_count": null,
   "id": "b951f3b2",
   "metadata": {},
   "outputs": [],
   "source": []
  }
 ],
 "metadata": {
  "kernelspec": {
   "display_name": "Python 3",
   "language": "python",
   "name": "python3"
  },
  "language_info": {
   "codemirror_mode": {
    "name": "ipython",
    "version": 3
   },
   "file_extension": ".py",
   "mimetype": "text/x-python",
   "name": "python",
   "nbconvert_exporter": "python",
   "pygments_lexer": "ipython3",
   "version": "3.8.8"
  }
 },
 "nbformat": 4,
 "nbformat_minor": 5
}
