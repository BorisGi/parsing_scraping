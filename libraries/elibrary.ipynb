{
 "cells": [
  {
   "cell_type": "markdown",
   "id": "4b4fc02a",
   "metadata": {},
   "source": [
    "Скрейпер собирает данные статей по заданной теме."
   ]
  },
  {
   "cell_type": "code",
   "execution_count": null,
   "id": "e7274af0",
   "metadata": {},
   "outputs": [],
   "source": []
  },
  {
   "cell_type": "markdown",
   "id": "11c114c6",
   "metadata": {},
   "source": [
    "## Библиотеки и настройки"
   ]
  },
  {
   "cell_type": "code",
   "execution_count": null,
   "id": "c8005b9b",
   "metadata": {},
   "outputs": [],
   "source": [
    "#Загружаю нужные библиотеки\n",
    "\n",
    "import pandas as pd\n",
    "import math\n",
    "\n",
    "import datetime\n",
    "\n",
    "# регулярки\n",
    "import re\n",
    "\n",
    "\n",
    "# для юзер-агента\n",
    "from fake_useragent import UserAgent\n",
    "\n",
    "# прогресс-бар\n",
    "from tqdm.notebook import trange, tqdm\n",
    "\n",
    "# для пауз при парсинге\n",
    "from time import sleep\n",
    "\n",
    "# селениум\n",
    "from selenium import webdriver\n",
    "from selenium.webdriver.chrome.service import Service\n",
    "\n",
    "from selenium.common.exceptions import NoSuchElementException\n",
    "from selenium.webdriver.common.by import By\n",
    "from selenium.webdriver.support.ui import WebDriverWait\n",
    "from selenium.webdriver.support import expected_conditions as EC"
   ]
  },
  {
   "cell_type": "code",
   "execution_count": null,
   "id": "81b17d9e",
   "metadata": {},
   "outputs": [],
   "source": [
    "# настройки юзер-агента\n",
    "\n",
    "ua = UserAgent()\n",
    "\n",
    "# юзер-агент для Хрома\n",
    "user_agent = ua.chrome"
   ]
  },
  {
   "cell_type": "code",
   "execution_count": null,
   "id": "e0589f81",
   "metadata": {},
   "outputs": [],
   "source": [
    "# тестовая страница для Селениума\n",
    "\n",
    "test_url = 'https://intoli.com/blog/not-possible-to-block-chrome-headless/chrome-headless-test.html'"
   ]
  },
  {
   "cell_type": "code",
   "execution_count": null,
   "id": "78cb35f6",
   "metadata": {},
   "outputs": [],
   "source": [
    "# путь к файлам\n",
    "\n",
    "file_path = '/'\n",
    "proxy_list_path = 'C:/work/keys/proxy_list.txt' # путь и названия со списком прокси"
   ]
  },
  {
   "cell_type": "code",
   "execution_count": null,
   "id": "a5d5673e",
   "metadata": {},
   "outputs": [],
   "source": [
    "# загружаю список прокси\n",
    "# список простой текстовый файл, который содержит прокси в формате: адрес:порт логин:пароль\n",
    "\n",
    "proxy_list = []\n",
    "\n",
    "with open(proxy_list_path, 'r') as f:\n",
    "    for line in f:\n",
    "        proxy_list += [line.split()]\n",
    "        \n",
    "print('Рабочих прокси — ' + str(len(proxy_list)))"
   ]
  },
  {
   "cell_type": "code",
   "execution_count": null,
   "id": "affc8f9d",
   "metadata": {},
   "outputs": [],
   "source": [
    "# номер прокси\n",
    "\n",
    "print('Номер прокси, от 0 до ' + str(len(proxy_list) - 1))\n",
    "proxy_number = int(input())"
   ]
  },
  {
   "cell_type": "code",
   "execution_count": null,
   "id": "dab75db7",
   "metadata": {},
   "outputs": [],
   "source": [
    "# настройки веб-драйвера, чтобы скрыть автоматическое управление\n",
    "\n",
    "opt = webdriver.ChromeOptions()\n",
    "opt.add_argument(f'user-agent={user_agent}')\n",
    "opt.add_argument('--disable-blink-features')\n",
    "opt.add_argument('--disable-blink-features=AutomationControlled')\n",
    "#opt.add_argument(f'--proxy-server={proxy_list[proxy_number][0]}') # \"девственный\" прокси(:\n",
    "opt.add_experimental_option(\"excludeSwitches\", [\"enable-automation\"]) # отключает строку про удаленное управление\n",
    "opt.add_experimental_option('useAutomationExtension', False)"
   ]
  },
  {
   "cell_type": "code",
   "execution_count": null,
   "id": "efe91c63",
   "metadata": {},
   "outputs": [],
   "source": [
    "print('Login: ' + proxy_list[proxy_number][1])\n",
    "print('Pass: ' + proxy_list[proxy_number][2])"
   ]
  },
  {
   "cell_type": "code",
   "execution_count": null,
   "id": "60aba6c1",
   "metadata": {},
   "outputs": [],
   "source": [
    "# запускаю драйвер, проверяю настройки\n",
    "\n",
    "#s=Service('C:/Users/bgi/Anaconda3/chromedriver/chromedriver.exe')\n",
    "#driver = webdriver.Chrome(service=s, options=opt)\n",
    "\n",
    "driver = webdriver.Chrome(options=opt)\n",
    "driver.get(test_url)\n",
    "driver.maximize_window() # раскрываю окно на максимум"
   ]
  },
  {
   "cell_type": "code",
   "execution_count": null,
   "id": "8f43f1c5",
   "metadata": {},
   "outputs": [],
   "source": []
  },
  {
   "cell_type": "markdown",
   "id": "6ae690ba",
   "metadata": {},
   "source": [
    "## Собираю ссылки на статьи"
   ]
  },
  {
   "cell_type": "code",
   "execution_count": null,
   "id": "5ff5beae",
   "metadata": {},
   "outputs": [],
   "source": [
    "start_url = 'https://elibrary.ru/querybox.asp?scope=newquery'"
   ]
  },
  {
   "cell_type": "code",
   "execution_count": null,
   "id": "2cd35a1e",
   "metadata": {},
   "outputs": [],
   "source": [
    "driver.get(start_url)"
   ]
  },
  {
   "cell_type": "code",
   "execution_count": null,
   "id": "ee640e55",
   "metadata": {},
   "outputs": [],
   "source": [
    "# блоки анонсов статей\n",
    "\n",
    "article_blocks = driver.find_element(By.ID, 'restab').find_elements(By.TAG_NAME, 'td[align=\"left\"]')"
   ]
  },
  {
   "cell_type": "code",
   "execution_count": null,
   "id": "7e7c80b3",
   "metadata": {},
   "outputs": [],
   "source": [
    "len(article_blocks)"
   ]
  },
  {
   "cell_type": "code",
   "execution_count": null,
   "id": "4e2e9ba7",
   "metadata": {},
   "outputs": [],
   "source": [
    "#data_urls = []\n",
    "\n",
    "for block in article_blocks:\n",
    "    article = block.find_element(By.TAG_NAME, 'a').text\n",
    "    article_url = block.find_element(By.TAG_NAME, 'a').get_attribute('href')\n",
    "    \n",
    "    data_urls.append([article, article_url])"
   ]
  },
  {
   "cell_type": "code",
   "execution_count": null,
   "id": "f9bce909",
   "metadata": {},
   "outputs": [],
   "source": [
    "# преобразовываю в датафрейм\n",
    "\n",
    "head = ['article', 'article_url']\n",
    "\n",
    "work_urls = pd.DataFrame(data_urls, columns=head)"
   ]
  },
  {
   "cell_type": "code",
   "execution_count": null,
   "id": "103ca047",
   "metadata": {},
   "outputs": [],
   "source": [
    "work_urls.shape"
   ]
  },
  {
   "cell_type": "code",
   "execution_count": null,
   "id": "b693604b",
   "metadata": {},
   "outputs": [],
   "source": [
    "work_urls.drop_duplicates(inplace=True)"
   ]
  },
  {
   "cell_type": "code",
   "execution_count": null,
   "id": "5dbe76d8",
   "metadata": {},
   "outputs": [],
   "source": [
    "work_urls.shape"
   ]
  },
  {
   "cell_type": "code",
   "execution_count": null,
   "id": "cc7f5128",
   "metadata": {},
   "outputs": [],
   "source": [
    "work_urls.head(3)"
   ]
  },
  {
   "cell_type": "code",
   "execution_count": null,
   "id": "75993f4b",
   "metadata": {},
   "outputs": [],
   "source": [
    "data = [] # список для данных\n",
    "\n",
    "for art_url in tqdm(work_urls.article_url): # цикл для перехода по ссылкам\n",
    "    driver.get(art_url)    \n",
    "    sleep(3)\n",
    "    \n",
    "    description = (driver\n",
    "                   .find_element(By.XPATH, '/html/body/table/tbody/tr/td/table[1]/tbody/tr/td[2]/table/tbody/tr[2]/td[1]')\n",
    "                   .text)\n",
    "        \n",
    "    data.append([art_url, description])"
   ]
  },
  {
   "cell_type": "code",
   "execution_count": null,
   "id": "29d50d0e",
   "metadata": {},
   "outputs": [],
   "source": [
    "# преобразовываю в датафрейм\n",
    "\n",
    "head = ['article_url', 'description']\n",
    "\n",
    "work = pd.DataFrame(data, columns=head)"
   ]
  },
  {
   "cell_type": "code",
   "execution_count": null,
   "id": "e4ac9008",
   "metadata": {},
   "outputs": [],
   "source": [
    "work = work_urls.merge(work, how='left', on='article_url')"
   ]
  },
  {
   "cell_type": "code",
   "execution_count": null,
   "id": "2c3aef39",
   "metadata": {},
   "outputs": [],
   "source": []
  },
  {
   "cell_type": "code",
   "execution_count": null,
   "id": "015f4502",
   "metadata": {},
   "outputs": [],
   "source": [
    "# Записываю в файл\n",
    "\n",
    "work.to_excel('C:/00_Projects/temp.xlsx', index=False)"
   ]
  },
  {
   "cell_type": "code",
   "execution_count": null,
   "id": "59a2fe1a",
   "metadata": {},
   "outputs": [],
   "source": [
    "driver.quit()"
   ]
  },
  {
   "cell_type": "code",
   "execution_count": null,
   "id": "83a063c8",
   "metadata": {},
   "outputs": [],
   "source": []
  },
  {
   "cell_type": "code",
   "execution_count": null,
   "id": "39427cfc",
   "metadata": {},
   "outputs": [],
   "source": [
    "work = pd.read_excel('C:/00_Projects/dj_about.xlsx', sheet_name='data')"
   ]
  },
  {
   "cell_type": "code",
   "execution_count": null,
   "id": "f9a1648f",
   "metadata": {},
   "outputs": [],
   "source": [
    "work.head()"
   ]
  },
  {
   "cell_type": "code",
   "execution_count": null,
   "id": "7a49ad2e",
   "metadata": {},
   "outputs": [],
   "source": [
    "# собираю ключевые слова в список\n",
    "\n",
    "keyword_list = []\n",
    "\n",
    "for keywords in work['keywords']:\n",
    "    keyword_list.extend(keywords.lower().split(','))"
   ]
  },
  {
   "cell_type": "code",
   "execution_count": null,
   "id": "54a17581",
   "metadata": {},
   "outputs": [],
   "source": [
    "# создаю датафрейм на базе списка\n",
    "\n",
    "work_keywords = pd.DataFrame(keyword_list, columns=['keyword'])"
   ]
  },
  {
   "cell_type": "code",
   "execution_count": null,
   "id": "9ae7c1f2",
   "metadata": {},
   "outputs": [],
   "source": [
    "# добавляю частоту\n",
    "\n",
    "work_keywords['number'] = 1"
   ]
  },
  {
   "cell_type": "code",
   "execution_count": null,
   "id": "15c9eef0",
   "metadata": {},
   "outputs": [],
   "source": [
    "# считаю частоты и сразу записываю в файл\n",
    "\n",
    "(work_keywords.groupby('keyword', as_index=False)\n",
    " .agg({'number': 'sum'})\n",
    " .sort_values('number', ascending=False)\n",
    ").to_excel('C:/00_Projects/temp.xlsx', index=False)"
   ]
  },
  {
   "cell_type": "code",
   "execution_count": null,
   "id": "e23435ae",
   "metadata": {},
   "outputs": [],
   "source": []
  },
  {
   "cell_type": "code",
   "execution_count": null,
   "id": "99bc0246",
   "metadata": {},
   "outputs": [],
   "source": []
  }
 ],
 "metadata": {
  "kernelspec": {
   "display_name": "Python 3",
   "language": "python",
   "name": "python3"
  },
  "language_info": {
   "codemirror_mode": {
    "name": "ipython",
    "version": 3
   },
   "file_extension": ".py",
   "mimetype": "text/x-python",
   "name": "python",
   "nbconvert_exporter": "python",
   "pygments_lexer": "ipython3",
   "version": "3.8.8"
  }
 },
 "nbformat": 4,
 "nbformat_minor": 5
}
