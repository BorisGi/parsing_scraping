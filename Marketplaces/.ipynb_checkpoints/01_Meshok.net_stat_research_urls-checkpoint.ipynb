{
 "cells": [
  {
   "cell_type": "markdown",
   "metadata": {},
   "source": [
    "Парсер сайт-аукциона Мешок (meshok.net) для стат. исследований.\n",
    "\n",
    "Выгружает только данные, нужные для исследований, без телефонов и прочих контактов.\n",
    "\n",
    "Часть 1. Собирает ссылки и информацию по страницам выдачи, без захода на страницу объявления.\n",
    "\n",
    "Парсер написан под обычную верстку (мобильная сильно отличается)\n",
    "\n",
    "Последние правки 2022-02-16"
   ]
  },
  {
   "cell_type": "markdown",
   "metadata": {},
   "source": [
    "## Библиотеки и настройки"
   ]
  },
  {
   "cell_type": "code",
   "execution_count": null,
   "metadata": {},
   "outputs": [],
   "source": [
    "#Загружаю нужные библиотеки\n",
    "\n",
    "import pandas as pd\n",
    "import math\n",
    "\n",
    "import datetime\n",
    "\n",
    "# регулярки\n",
    "import re\n",
    "\n",
    "\n",
    "# для юзер-агента\n",
    "from fake_useragent import UserAgent\n",
    "\n",
    "# прогресс-бар\n",
    "from tqdm.notebook import trange, tqdm\n",
    "\n",
    "# для пауз при парсинге\n",
    "from time import sleep\n",
    "\n",
    "# селениум\n",
    "from selenium import webdriver\n",
    "from selenium.webdriver.chrome.service import Service\n",
    "\n",
    "from selenium.common.exceptions import NoSuchElementException\n",
    "from selenium.webdriver.common.by import By\n",
    "from selenium.webdriver.support.ui import WebDriverWait\n",
    "from selenium.webdriver.support import expected_conditions as EC"
   ]
  },
  {
   "cell_type": "code",
   "execution_count": null,
   "metadata": {},
   "outputs": [],
   "source": [
    "# настройки юзер-агента\n",
    "\n",
    "ua = UserAgent()\n",
    "\n",
    "# юзер-агент для Хрома\n",
    "user_agent = ua.chrome"
   ]
  },
  {
   "cell_type": "code",
   "execution_count": null,
   "metadata": {},
   "outputs": [],
   "source": [
    "# тестовая страница для Селениума\n",
    "\n",
    "test_url = 'https://intoli.com/blog/not-possible-to-block-chrome-headless/chrome-headless-test.html'"
   ]
  },
  {
   "cell_type": "code",
   "execution_count": null,
   "metadata": {},
   "outputs": [],
   "source": [
    "# путь к файлам\n",
    "\n",
    "file_path = 'C:/00_Data/' + input() + '/'\n",
    "proxy_list_path = 'C:/work/keys/proxy_list.txt' # путь и названия со списком прокси"
   ]
  },
  {
   "cell_type": "code",
   "execution_count": null,
   "metadata": {},
   "outputs": [],
   "source": [
    "# загружаю список прокси\n",
    "# список простой текстовый файл, который содержит прокси в формате: адрес:порт логин:пароль\n",
    "\n",
    "proxy_list = []\n",
    "\n",
    "with open(proxy_list_path, 'r') as f:\n",
    "    for line in f:\n",
    "        proxy_list += [line.split()]\n",
    "        \n",
    "print('Рабочих прокси — ' + str(len(proxy_list)))"
   ]
  },
  {
   "cell_type": "code",
   "execution_count": null,
   "metadata": {},
   "outputs": [],
   "source": [
    "# номер прокси\n",
    "\n",
    "print('Номер прокси, от 0 до ' + str(len(proxy_list) - 1))\n",
    "proxy_number = int(input())"
   ]
  },
  {
   "cell_type": "code",
   "execution_count": null,
   "metadata": {},
   "outputs": [],
   "source": [
    "# настройки веб-драйвера, чтобы скрыть автоматическое управление\n",
    "\n",
    "opt = webdriver.ChromeOptions()\n",
    "#opt.add_argument(f'user-agent={user_agent}')\n",
    "opt.add_argument('--disable-blink-features')\n",
    "opt.add_argument('--disable-blink-features=AutomationControlled')\n",
    "opt.add_argument(f'--proxy-server={proxy_list[proxy_number][0]}') # \"девственный\" прокси(:\n",
    "opt.add_experimental_option(\"excludeSwitches\", [\"enable-automation\"]) # отключает строку про удаленное управление\n",
    "opt.add_experimental_option('useAutomationExtension', False)"
   ]
  },
  {
   "cell_type": "code",
   "execution_count": null,
   "metadata": {},
   "outputs": [],
   "source": [
    "print('Login: ' + proxy_list[proxy_number][1])\n",
    "print('Pass: ' + proxy_list[proxy_number][2])"
   ]
  },
  {
   "cell_type": "code",
   "execution_count": null,
   "metadata": {},
   "outputs": [],
   "source": [
    "# запускаю драйвер, проверяю настройки\n",
    "\n",
    "#s=Service('C:/Users/bgi/Anaconda3/chromedriver/chromedriver.exe')\n",
    "#driver = webdriver.Chrome(service=s, options=opt)\n",
    "\n",
    "driver = webdriver.Chrome(options=opt)\n",
    "driver.get(test_url)\n",
    "driver.maximize_window() # раскрываю окно на максимум"
   ]
  },
  {
   "cell_type": "code",
   "execution_count": null,
   "metadata": {},
   "outputs": [],
   "source": []
  },
  {
   "cell_type": "markdown",
   "metadata": {},
   "source": [
    "## Собираю ссылки"
   ]
  },
  {
   "cell_type": "code",
   "execution_count": null,
   "metadata": {},
   "outputs": [],
   "source": [
    "items_find = 'Археология'"
   ]
  },
  {
   "cell_type": "code",
   "execution_count": null,
   "metadata": {},
   "outputs": [],
   "source": [
    "# ID категории\n",
    "\n",
    "category_id = 2867"
   ]
  },
  {
   "cell_type": "markdown",
   "metadata": {},
   "source": [
    "Навигация на Мешке — по количеству товаров: к количеству, указанному в конце урла, плюсуется 24."
   ]
  },
  {
   "cell_type": "code",
   "execution_count": null,
   "metadata": {},
   "outputs": [],
   "source": [
    "# начальная страница\n",
    "\n",
    "start_url = f'https://meshok.net/?good={category_id}&pN='\n",
    "https://meshok.net/listing?condition=N&good=14381"
   ]
  },
  {
   "cell_type": "code",
   "execution_count": null,
   "metadata": {},
   "outputs": [],
   "source": [
    "driver.get(start_url + '0')\n",
    "sleep(3)"
   ]
  },
  {
   "cell_type": "code",
   "execution_count": null,
   "metadata": {},
   "outputs": [],
   "source": [
    "page_number = int(driver.find_element(By.CLASS_NAME, 'buttons_1qQzv')\n",
    "                  .text.split('\\n')[0]\n",
    "                  .replace('Страница 1 из ', ''))\n",
    "\n",
    "print('Количество страниц: ' + str(page_number))"
   ]
  },
  {
   "cell_type": "code",
   "execution_count": null,
   "metadata": {},
   "outputs": [],
   "source": []
  },
  {
   "cell_type": "code",
   "execution_count": null,
   "metadata": {},
   "outputs": [],
   "source": [
    "item_number = 0 # счетчик товаров\n",
    "data_url = [] # список для данных\n",
    "\n",
    "for new_page in tqdm(range(page_number)):\n",
    "    \n",
    "    driver.get(start_url + str(item_number))\n",
    "    item_number += 24\n",
    "    sleep(3)    \n",
    "\n",
    "    item_blocks = driver.find_elements(By.CLASS_NAME, 'wrapper_18RL-')\n",
    "\n",
    "    for block in item_blocks:\n",
    "\n",
    "        name = block.find_element(By.CLASS_NAME, 'itemTitle_2gcl1').text\n",
    "\n",
    "        ad_url = block.find_element(By.TAG_NAME, 'a[class=\"itemContent_1rBtL\"]').get_attribute('href')\n",
    "\n",
    "        current_price = block.find_element(By.CLASS_NAME, 'price_3O10j').text\n",
    "\n",
    "        try:\n",
    "            blitz_price = block.find_element(By.CLASS_NAME, 'strikePrice_2hGyd').text\n",
    "\n",
    "        except:\n",
    "            blitz_price = 'none'\n",
    "\n",
    "        seller_string = block.find_element(By.CLASS_NAME, 'sellerLink_2rTFC').text.split('\\n')\n",
    "        seller = seller_string[0]\n",
    "        seller_ads_all = seller_string[1]\n",
    "\n",
    "        seller_url = block.find_element(By.CLASS_NAME, 'sellerLink_2rTFC').get_attribute('href')\n",
    "\n",
    "        location = block.find_element(By.CLASS_NAME, 'delivery_185Kn').text.split('\\n')\n",
    "\n",
    "        city = location[0]\n",
    "\n",
    "        delivery = location[1]\n",
    "\n",
    "        data_url.append([name, current_price, blitz_price,\n",
    "                         seller, city, delivery, seller_ads_all,\n",
    "                         ad_url, seller_url])  "
   ]
  },
  {
   "cell_type": "code",
   "execution_count": null,
   "metadata": {},
   "outputs": [],
   "source": [
    "# преобразовываю в датафрейм\n",
    "\n",
    "head = ['name', 'current_price', 'blitz_price',\n",
    "        'seller', 'city', 'delivery', 'seller_ads_all',\n",
    "        'ad_url', 'seller_url']\n",
    "\n",
    "work_urls = pd.DataFrame(data_url, columns=head)"
   ]
  },
  {
   "cell_type": "code",
   "execution_count": null,
   "metadata": {},
   "outputs": [],
   "source": [
    "work_urls.sample(3)"
   ]
  },
  {
   "cell_type": "code",
   "execution_count": null,
   "metadata": {},
   "outputs": [],
   "source": [
    "work_urls.shape"
   ]
  },
  {
   "cell_type": "code",
   "execution_count": null,
   "metadata": {},
   "outputs": [],
   "source": [
    "work_urls = work_urls[~work_urls.name.str.contains('книг', case=False)]\n",
    "work_urls = work_urls[~work_urls.name.str.contains('альбом', case=False)]\n",
    "work_urls = work_urls[~work_urls.name.str.contains('каталог', case=False)]\n",
    "work_urls = work_urls[~work_urls.name.str.contains('карта', case=False)]\n",
    "work_urls = work_urls[~work_urls.name.str.contains('история', case=False)]\n",
    "work_urls = work_urls[~work_urls.name.str.contains('археология СССР', case=False)]\n",
    "work_urls = work_urls[~(\n",
    "    (work_urls.name.str.contains('археолог', case=False)) &\n",
    "    (work_urls.name.str.contains(' кн', case=False)))]\n",
    "work_urls = work_urls[~work_urls.name.str.contains('путеводитель', case=False)]\n",
    "work_urls = work_urls[~work_urls.name.str.contains('сборник', case=False)]\n",
    "work_urls = work_urls[~work_urls.name.str.contains('издание', case=False)]\n",
    "work_urls = work_urls[~work_urls.name.str.contains('наука', case=False)]\n",
    "work_urls = work_urls[~work_urls.name.str.contains(' Кн', case=True)]\n",
    "work_urls = work_urls[~work_urls.name.str.contains('копия', case=False)]\n",
    "work_urls = work_urls[~work_urls.name.str.contains('новодел', case=False)]\n",
    "work_urls = work_urls[~work_urls.name.str.contains('авторская работа', case=False)]"
   ]
  },
  {
   "cell_type": "code",
   "execution_count": null,
   "metadata": {},
   "outputs": [],
   "source": [
    "work_urls.shape"
   ]
  },
  {
   "cell_type": "code",
   "execution_count": null,
   "metadata": {},
   "outputs": [],
   "source": [
    "#work_urls.to_excel(file_path + f'mechok_{items_find}.xlsx', index=False)"
   ]
  },
  {
   "cell_type": "code",
   "execution_count": null,
   "metadata": {},
   "outputs": [],
   "source": []
  },
  {
   "cell_type": "markdown",
   "metadata": {},
   "source": [
    "## Собираю данные объявлений"
   ]
  },
  {
   "cell_type": "code",
   "execution_count": null,
   "metadata": {},
   "outputs": [],
   "source": [
    "work_urls = pd.read_excel(file_path + f'mechok_{items_find}.xlsx')"
   ]
  },
  {
   "cell_type": "code",
   "execution_count": null,
   "metadata": {},
   "outputs": [],
   "source": [
    "work_urls.shape"
   ]
  },
  {
   "cell_type": "code",
   "execution_count": null,
   "metadata": {},
   "outputs": [],
   "source": [
    "data_info = [] # список для данных"
   ]
  },
  {
   "cell_type": "code",
   "execution_count": null,
   "metadata": {},
   "outputs": [],
   "source": [
    "for ad_url in tqdm(work_urls.ad_url[:2001]):\n",
    "    \n",
    "    driver.get(ad_url)\n",
    "    sleep(3)\n",
    "        \n",
    "    try:\n",
    "        ad_descripton = driver.find_element(By.TAG_NAME, 'div[itemprop=\"description\"]').text\n",
    "        \n",
    "    except:\n",
    "        ad_descripton = 'none'\n",
    "    \n",
    "    try:\n",
    "        ad_tags = (driver.find_element(By.CLASS_NAME, 'standardPadding_1tPoj')\n",
    "                   .find_element(By.CLASS_NAME, 'container_1bS6g')\n",
    "                   .text.replace('\\n', ';'))\n",
    "    except:\n",
    "        ad_tags = 'none'\n",
    "        \n",
    "    ad_date = (driver.find_element(By.CLASS_NAME, 'placementDate_jKzv0')\n",
    "               .find_element(By.TAG_NAME, 'span').get_attribute('title'))\n",
    "    \n",
    "    data_info.append([ad_url, ad_descripton, ad_tags, ad_date])"
   ]
  },
  {
   "cell_type": "code",
   "execution_count": null,
   "metadata": {},
   "outputs": [],
   "source": [
    "# преобразовываю в датафрейм\n",
    "\n",
    "head = ['ad_url', 'ad_descripton', 'ad_tags', 'ad_date']\n",
    "\n",
    "work_data = pd.DataFrame(data_info, columns=head)"
   ]
  },
  {
   "cell_type": "code",
   "execution_count": null,
   "metadata": {},
   "outputs": [],
   "source": [
    "work_data.shape"
   ]
  },
  {
   "cell_type": "code",
   "execution_count": null,
   "metadata": {},
   "outputs": [],
   "source": [
    "work_data.drop_duplicates(inplace=True)"
   ]
  },
  {
   "cell_type": "code",
   "execution_count": null,
   "metadata": {},
   "outputs": [],
   "source": [
    "work_data.shape"
   ]
  },
  {
   "cell_type": "code",
   "execution_count": null,
   "metadata": {},
   "outputs": [],
   "source": [
    "work_data.head()"
   ]
  },
  {
   "cell_type": "code",
   "execution_count": null,
   "metadata": {},
   "outputs": [],
   "source": []
  },
  {
   "cell_type": "code",
   "execution_count": null,
   "metadata": {},
   "outputs": [],
   "source": [
    "# Записываю в файл\n",
    "\n",
    "work_data.to_excel(file_path + 'meshok_' + items_find + '1.xlsx', encoding='utf-8', index=False)"
   ]
  },
  {
   "cell_type": "code",
   "execution_count": null,
   "metadata": {},
   "outputs": [],
   "source": [
    "driver.close()"
   ]
  },
  {
   "cell_type": "code",
   "execution_count": null,
   "metadata": {},
   "outputs": [],
   "source": []
  }
 ],
 "metadata": {
  "kernelspec": {
   "display_name": "Python 3",
   "language": "python",
   "name": "python3"
  },
  "language_info": {
   "codemirror_mode": {
    "name": "ipython",
    "version": 3
   },
   "file_extension": ".py",
   "mimetype": "text/x-python",
   "name": "python",
   "nbconvert_exporter": "python",
   "pygments_lexer": "ipython3",
   "version": "3.8.8"
  }
 },
 "nbformat": 4,
 "nbformat_minor": 2
}
