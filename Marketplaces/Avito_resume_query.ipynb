{
 "cells": [
  {
   "cell_type": "markdown",
   "metadata": {},
   "source": [
    "Парсер Авито для стат. исследований.\n",
    "\n",
    "Данный вариант выгружает резюме по запросу.\n",
    "\n",
    "Выгружает только данные, нужные для исследований, без телефонов и прочих контактов.\n",
    "\n",
    "Часть 1. Сбор ссылок.\n",
    "\n",
    "Парсер доработан 27 октября 2021."
   ]
  },
  {
   "cell_type": "code",
   "execution_count": 1,
   "metadata": {},
   "outputs": [],
   "source": [
    "#Загружаю нужные библиотеки\n",
    "\n",
    "import pandas as pd\n",
    "\n",
    "# регулярки\n",
    "import re\n",
    "\n",
    "# для округления в большую сторону\n",
    "import math\n",
    "\n",
    "# для юзер-агента\n",
    "from fake_useragent import UserAgent\n",
    "\n",
    "# прогресс-бар\n",
    "from tqdm.notebook import trange, tqdm\n",
    "\n",
    "# для пауз при парсинге\n",
    "from time import sleep\n",
    "\n",
    "# селениум\n",
    "from selenium import webdriver\n",
    "\n",
    "from selenium.common.exceptions import NoSuchElementException\n",
    "from selenium.webdriver.common.by import By\n",
    "from selenium.webdriver.support.ui import WebDriverWait\n",
    "from selenium.webdriver.support import expected_conditions as EC"
   ]
  },
  {
   "cell_type": "code",
   "execution_count": 2,
   "metadata": {},
   "outputs": [],
   "source": [
    "# настройки юзер-агента\n",
    "\n",
    "ua = UserAgent()\n",
    "\n",
    "# юзер-агент для Хрома\n",
    "user_agent = ua.chrome"
   ]
  },
  {
   "cell_type": "code",
   "execution_count": 3,
   "metadata": {},
   "outputs": [],
   "source": [
    "# тестовая страница для Селениума\n",
    "\n",
    "test_url = 'https://intoli.com/blog/not-possible-to-block-chrome-headless/chrome-headless-test.html'"
   ]
  },
  {
   "cell_type": "code",
   "execution_count": 4,
   "metadata": {},
   "outputs": [],
   "source": [
    "# настройки веб-драйвера, чтобы скрыть автоматическое управление\n",
    "\n",
    "opt = webdriver.ChromeOptions()\n",
    "opt.add_argument(f'user-agent={user_agent}')\n",
    "opt.add_argument('--disable-blink-features')\n",
    "opt.add_argument('--disable-blink-features=AutomationControlled')\n",
    "#opt.add_argument('--proxy-server=91.213.35.142:53240') # \"девственный\" прокси(:\n",
    "opt.add_experimental_option(\"excludeSwitches\", [\"enable-automation\"]) # отключает строку про удаленное управление\n",
    "opt.add_experimental_option('useAutomationExtension', False)"
   ]
  },
  {
   "cell_type": "code",
   "execution_count": 5,
   "metadata": {},
   "outputs": [],
   "source": [
    "# запускаю драйвер, проверяю настройки\n",
    "\n",
    "driver = webdriver.Chrome(options=opt)\n",
    "driver.get(test_url)"
   ]
  },
  {
   "cell_type": "code",
   "execution_count": 6,
   "metadata": {},
   "outputs": [],
   "source": [
    "# администратор стоматологии / Медицина, фармацевтика\n",
    "\n",
    "url_part_1 = 'https://www.avito.ru/rossiya/rezume?bt=1&p='\n",
    "\n",
    "resume_queries = ['администратор+стоматологии', 'администратор+стоматологической', 'администратор+клиники']"
   ]
  },
  {
   "cell_type": "code",
   "execution_count": 7,
   "metadata": {},
   "outputs": [],
   "source": [
    "def parse_page():\n",
    "    \n",
    "    temp_data = []\n",
    "    \n",
    "    resume_blocks = driver.find_elements_by_class_name('iva-item-content-UnQQ4')\n",
    "    \n",
    "    for resume in resume_blocks:\n",
    "\n",
    "        try: # заголовок объявления\n",
    "            topic = resume.find_element_by_tag_name('h3').text\n",
    "\n",
    "        except:\n",
    "            topic = 'none'\n",
    "\n",
    "        try: # зарплатные ожидания\n",
    "            salary = resume.find_element_by_class_name('price-text-E1Y7h').text\n",
    "\n",
    "        except:\n",
    "            salary = 'none'\n",
    "\n",
    "\n",
    "        try: # краткое описание\n",
    "            short_description = resume.find_element_by_class_name('iva-item-descriptionStep-QGE8Y').text\n",
    "\n",
    "        except:\n",
    "            short_description = 'none'\n",
    "\n",
    "\n",
    "        try: # пол, возраст, город\n",
    "            parameters = resume.find_element_by_tag_name('div[data-marker=\"item-line\"]').text\n",
    "\n",
    "        except:\n",
    "            parameters = 'none'\n",
    "\n",
    "\n",
    "        try: # ссылка на страницу резюме\n",
    "            ad_url = resume.find_element_by_tag_name('a').get_attribute('href')\n",
    "\n",
    "        except:\n",
    "            ad_url = 'none'\n",
    "            \n",
    "        temp_data.append([topic, salary, short_description, parameters, ad_url])\n",
    "        \n",
    "    return temp_data"
   ]
  },
  {
   "cell_type": "code",
   "execution_count": 12,
   "metadata": {},
   "outputs": [
    {
     "data": {
      "application/vnd.jupyter.widget-view+json": {
       "model_id": "14577dc44b134e7aa46155b5884de575",
       "version_major": 2,
       "version_minor": 0
      },
      "text/plain": [
       "  0%|          | 0/3 [00:00<?, ?it/s]"
      ]
     },
     "metadata": {},
     "output_type": "display_data"
    }
   ],
   "source": [
    "# собираю ссылки\n",
    "\n",
    "data = [] # список для данных\n",
    "\n",
    "for query in tqdm(resume_queries): # цикл для перебора запросов\n",
    "    \n",
    "    driver.get(url_part_1 + '1' + '&q=' + query)\n",
    "    sleep(3)\n",
    "    \n",
    "    try:\n",
    "        page_number = int((driver\n",
    "                           .find_element_by_class_name('pagination-root-Ntd_O')\n",
    "                           .text.replace('След.', '')\n",
    "                           .split()\n",
    "                          )[1][-1]) + 1\n",
    "    except:\n",
    "        page_number = 2\n",
    "        \n",
    "    data = data + parse_page()\n",
    "    \n",
    "    \n",
    "    \n",
    "    if page_number > 2:\n",
    "        \n",
    "        for i in range(2, page_number):\n",
    "            driver.get(url_part_1 + str(i) + '&q=' + query)\n",
    "            sleep(3)\n",
    "            \n",
    "            data = data + parse_page()"
   ]
  },
  {
   "cell_type": "code",
   "execution_count": 13,
   "metadata": {},
   "outputs": [],
   "source": [
    "head_list = ['topic', 'salary', 'short_description', 'parameters', 'ad_url']\n",
    "work_links = pd.DataFrame(data, columns=head_list)"
   ]
  },
  {
   "cell_type": "code",
   "execution_count": 14,
   "metadata": {},
   "outputs": [
    {
     "data": {
      "text/html": [
       "<div>\n",
       "<style scoped>\n",
       "    .dataframe tbody tr th:only-of-type {\n",
       "        vertical-align: middle;\n",
       "    }\n",
       "\n",
       "    .dataframe tbody tr th {\n",
       "        vertical-align: top;\n",
       "    }\n",
       "\n",
       "    .dataframe thead th {\n",
       "        text-align: right;\n",
       "    }\n",
       "</style>\n",
       "<table border=\"1\" class=\"dataframe\">\n",
       "  <thead>\n",
       "    <tr style=\"text-align: right;\">\n",
       "      <th></th>\n",
       "      <th>topic</th>\n",
       "      <th>salary</th>\n",
       "      <th>short_description</th>\n",
       "      <th>parameters</th>\n",
       "      <th>ad_url</th>\n",
       "    </tr>\n",
       "  </thead>\n",
       "  <tbody>\n",
       "    <tr>\n",
       "      <th>303</th>\n",
       "      <td>Администратор школы, салона, клиники</td>\n",
       "      <td>Зарплата не указана</td>\n",
       "      <td>none</td>\n",
       "      <td>Женщина, 39 лет, без опыта работы, Краснообск</td>\n",
       "      <td>https://www.avito.ru/krasnoobsk/rezume/adminis...</td>\n",
       "    </tr>\n",
       "  </tbody>\n",
       "</table>\n",
       "</div>"
      ],
      "text/plain": [
       "                                    topic               salary  \\\n",
       "303  Администратор школы, салона, клиники  Зарплата не указана   \n",
       "\n",
       "    short_description                                     parameters  \\\n",
       "303              none  Женщина, 39 лет, без опыта работы, Краснообск   \n",
       "\n",
       "                                                ad_url  \n",
       "303  https://www.avito.ru/krasnoobsk/rezume/adminis...  "
      ]
     },
     "execution_count": 14,
     "metadata": {},
     "output_type": "execute_result"
    }
   ],
   "source": [
    "work_links.sample()"
   ]
  },
  {
   "cell_type": "code",
   "execution_count": 15,
   "metadata": {},
   "outputs": [
    {
     "data": {
      "text/plain": [
       "(467, 5)"
      ]
     },
     "execution_count": 15,
     "metadata": {},
     "output_type": "execute_result"
    }
   ],
   "source": [
    "work_links.shape"
   ]
  },
  {
   "cell_type": "code",
   "execution_count": 17,
   "metadata": {},
   "outputs": [],
   "source": [
    "# Записываю в файл\n",
    "\n",
    "work_links.to_excel('C:/00_Data/avito_resume_2021_10_28.xlsx', encoding='utf-8', index=False)"
   ]
  },
  {
   "cell_type": "code",
   "execution_count": null,
   "metadata": {},
   "outputs": [],
   "source": []
  },
  {
   "cell_type": "code",
   "execution_count": 18,
   "metadata": {},
   "outputs": [],
   "source": [
    "# закрываю Селениум\n",
    "driver.close()"
   ]
  },
  {
   "cell_type": "code",
   "execution_count": null,
   "metadata": {},
   "outputs": [],
   "source": []
  }
 ],
 "metadata": {
  "kernelspec": {
   "display_name": "Python 3",
   "language": "python",
   "name": "python3"
  },
  "language_info": {
   "codemirror_mode": {
    "name": "ipython",
    "version": 3
   },
   "file_extension": ".py",
   "mimetype": "text/x-python",
   "name": "python",
   "nbconvert_exporter": "python",
   "pygments_lexer": "ipython3",
   "version": "3.8.8"
  }
 },
 "nbformat": 4,
 "nbformat_minor": 2
}
