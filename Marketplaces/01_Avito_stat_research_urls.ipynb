{
 "cells": [
  {
   "cell_type": "markdown",
   "metadata": {},
   "source": [
    "Парсер Авито для стат. исследований.\n",
    "\n",
    "Выгружает только данные, нужные для исследований, без телефонов и прочих контактов.\n",
    "\n",
    "Часть 1. Собиарет ссылки.\n",
    "\n",
    "Последние правки 2022-02-06"
   ]
  },
  {
   "cell_type": "markdown",
   "metadata": {},
   "source": [
    "## Библиотеки и настройки"
   ]
  },
  {
   "cell_type": "code",
   "execution_count": null,
   "metadata": {},
   "outputs": [],
   "source": [
    "#Загружаю нужные библиотеки\n",
    "\n",
    "import pandas as pd\n",
    "import math\n",
    "\n",
    "import datetime\n",
    "\n",
    "# регулярки\n",
    "import re\n",
    "\n",
    "\n",
    "# для юзер-агента\n",
    "from fake_useragent import UserAgent\n",
    "\n",
    "# прогресс-бар\n",
    "from tqdm.notebook import trange, tqdm\n",
    "\n",
    "# для пауз при парсинге\n",
    "from time import sleep\n",
    "\n",
    "# селениум\n",
    "from selenium import webdriver\n",
    "from selenium.webdriver.chrome.service import Service\n",
    "\n",
    "from selenium.common.exceptions import NoSuchElementException\n",
    "from selenium.webdriver.common.by import By\n",
    "from selenium.webdriver.support.ui import WebDriverWait\n",
    "from selenium.webdriver.support import expected_conditions as EC"
   ]
  },
  {
   "cell_type": "code",
   "execution_count": null,
   "metadata": {},
   "outputs": [],
   "source": [
    "# настройки юзер-агента\n",
    "\n",
    "ua = UserAgent()\n",
    "\n",
    "# юзер-агент для Хрома\n",
    "user_agent = ua.chrome"
   ]
  },
  {
   "cell_type": "code",
   "execution_count": null,
   "metadata": {},
   "outputs": [],
   "source": [
    "# тестовая страница для Селениума\n",
    "\n",
    "test_url = 'https://intoli.com/blog/not-possible-to-block-chrome-headless/chrome-headless-test.html'"
   ]
  },
  {
   "cell_type": "code",
   "execution_count": null,
   "metadata": {},
   "outputs": [],
   "source": [
    "# путь к файлам\n",
    "\n",
    "file_path = 'C:/00_Data/' + input() + '/'\n",
    "proxy_list_path = 'C:/work/keys/proxy_list.txt' # путь и названия со списком прокси"
   ]
  },
  {
   "cell_type": "code",
   "execution_count": null,
   "metadata": {},
   "outputs": [],
   "source": [
    "# загружаю список прокси\n",
    "# список простой текстовый файл, который содержит прокси в формате: адрес:порт логин:пароль\n",
    "\n",
    "proxy_list = []\n",
    "\n",
    "with open(proxy_list_path, 'r') as f:\n",
    "    for line in f:\n",
    "        proxy_list += [line.split()]\n",
    "        \n",
    "print('Рабочих прокси — ' + str(len(proxy_list)))"
   ]
  },
  {
   "cell_type": "code",
   "execution_count": null,
   "metadata": {},
   "outputs": [],
   "source": [
    "# номер прокси\n",
    "\n",
    "print('Номер прокси, от 0 до ' + str(len(proxy_list) - 1))\n",
    "proxy_number = int(input())"
   ]
  },
  {
   "cell_type": "code",
   "execution_count": null,
   "metadata": {},
   "outputs": [],
   "source": [
    "# настройки веб-драйвера, чтобы скрыть автоматическое управление\n",
    "\n",
    "opt = webdriver.ChromeOptions()\n",
    "opt.add_argument(f'user-agent={user_agent}')\n",
    "opt.add_argument('--disable-blink-features')\n",
    "opt.add_argument('--disable-blink-features=AutomationControlled')\n",
    "opt.add_argument(f'--proxy-server={proxy_list[proxy_number][0]}') # \"девственный\" прокси(:\n",
    "opt.add_experimental_option(\"excludeSwitches\", [\"enable-automation\"]) # отключает строку про удаленное управление\n",
    "opt.add_experimental_option('useAutomationExtension', False)"
   ]
  },
  {
   "cell_type": "code",
   "execution_count": null,
   "metadata": {},
   "outputs": [],
   "source": [
    "print('Login: ' + proxy_list[proxy_number][1])\n",
    "print('Pass: ' + proxy_list[proxy_number][2])"
   ]
  },
  {
   "cell_type": "code",
   "execution_count": null,
   "metadata": {},
   "outputs": [],
   "source": [
    "# запускаю драйвер, проверяю настройки\n",
    "\n",
    "#s=Service('C:/Users/bgi/Anaconda3/chromedriver/chromedriver.exe')\n",
    "#driver = webdriver.Chrome(service=s, options=opt)\n",
    "\n",
    "driver = webdriver.Chrome(options=opt)\n",
    "driver.get(test_url)\n",
    "driver.maximize_window() # раскрываю окно на максимум"
   ]
  },
  {
   "cell_type": "code",
   "execution_count": null,
   "metadata": {},
   "outputs": [],
   "source": []
  },
  {
   "cell_type": "markdown",
   "metadata": {},
   "source": [
    "## Собираю ссылки"
   ]
  },
  {
   "cell_type": "markdown",
   "metadata": {},
   "source": [
    "Авито отдает только 100 страниц, 5 тыс. объявлений. Чтобы забрать все, нужно дробить запрос с помощью фильтров. "
   ]
  },
  {
   "cell_type": "code",
   "execution_count": null,
   "metadata": {},
   "outputs": [],
   "source": [
    "item_category = input()"
   ]
  },
  {
   "cell_type": "code",
   "execution_count": null,
   "metadata": {},
   "outputs": [],
   "source": [
    "query = input()"
   ]
  },
  {
   "cell_type": "code",
   "execution_count": null,
   "metadata": {},
   "outputs": [],
   "source": [
    "# разбиваю ссылку на 2 части\n",
    "\n",
    "# первая часть ссылки, вакансии по России\n",
    "\n",
    "url_part_1 = 'https://www.avito.ru/rossiya/?f='\n",
    "#url_part_2 = 'ASgCAgECAUXGmgwXeyJmcm9tIjoxMDAwLCJ0byI6MzUwMH0&p=' # металлоискатель \n",
    "#url_part_2 = 'ASgCAgECAUXGmgwXeyJmcm9tIjozNTAwLCJ0byI6NzAwMH0&p='\n",
    "#url_part_2 = 'ASgCAgECAUXGmgwYeyJmcm9tIjo3MDAwLCJ0byI6MTUwMDB9&p='\n",
    "#url_part_2 = 'ASgCAgECAUXGmgwZeyJmcm9tIjoxNTAwMCwidG8iOjMyMDAwfQ&p='\n",
    "url_part_2 = 'ASgCAgECAUXGmgwVeyJmcm9tIjozMjAwMCwidG8iOjB9&p='\n"
   ]
  },
  {
   "cell_type": "code",
   "execution_count": null,
   "metadata": {},
   "outputs": [],
   "source": [
    "# Открываю страницу, чтобы посмотреть, сколько объявлений и страниц\n",
    "\n",
    "driver.get(url_part_1 + url_part_2 + '1' + '&q=' + query)"
   ]
  },
  {
   "cell_type": "code",
   "execution_count": null,
   "metadata": {},
   "outputs": [],
   "source": [
    "# количество объявлений\n",
    "\n",
    "ads_number = (driver\n",
    "              .find_element(By.TAG_NAME, 'div[data-marker=\"page-title\"]')\n",
    "              .find_element(By.TAG_NAME, 'span')\n",
    "              .text.replace(' ', ''))\n",
    "\n",
    "page_number = math.ceil(int(ads_number) / 50)\n",
    "\n",
    "print('Количество объявлений: ' + ads_number)\n",
    "print('Количество страниц: ' + str(page_number))"
   ]
  },
  {
   "cell_type": "code",
   "execution_count": null,
   "metadata": {},
   "outputs": [],
   "source": []
  },
  {
   "cell_type": "markdown",
   "metadata": {},
   "source": [
    "#### Парсер ссылок"
   ]
  },
  {
   "cell_type": "code",
   "execution_count": null,
   "metadata": {},
   "outputs": [],
   "source": [
    "#data_urls = [] # список для данных"
   ]
  },
  {
   "cell_type": "code",
   "execution_count": null,
   "metadata": {},
   "outputs": [],
   "source": [
    "for p in tqdm(range(1, page_number + 1)): # цикл для перехода по страницам\n",
    "    \n",
    "    driver.get(url_part_1 + url_part_2 + str(p) + '&q=' + query)\n",
    "    \n",
    "    sleep(3) # делаю паузу, даю прогрузиться\n",
    "    \n",
    "    \n",
    "    data_blocks = driver.find_elements(By.CLASS_NAME, 'iva-item-content-rejJg')\n",
    "    \n",
    "    for block in data_blocks:\n",
    "        \n",
    "        title = block.find_element(By.CLASS_NAME, 'iva-item-titleStep-pdebR').text\n",
    "        \n",
    "        ad_url = block.find_element(By.TAG_NAME, 'a').get_attribute('href')\n",
    "        \n",
    "        price = block.find_element(By.CLASS_NAME, 'price-text-_YGDY').text\n",
    "        \n",
    "        try:\n",
    "            description = block.find_element(By.CLASS_NAME, 'iva-item-descriptionStep-C0ty1').text\n",
    "            \n",
    "        except:\n",
    "            description = 'none'\n",
    "        \n",
    "        try:\n",
    "            seller = block.find_element(By.CLASS_NAME, 'style-title-_wK5H').text\n",
    "            \n",
    "        except:\n",
    "            seller = 'none'\n",
    "            \n",
    "        try:\n",
    "            seller_url = block.find_element(By.CLASS_NAME, 'style-link-STE_U').get_attribute('href')\n",
    "            \n",
    "        except:\n",
    "            seller_url = 'none'\n",
    "            \n",
    "        try:\n",
    "            seller_score = block.find_element(By.TAG_NAME, 'span[data-marker=\"seller-rating/score\"]').text\n",
    "            \n",
    "        except:\n",
    "            seller_score = 'none'\n",
    "            \n",
    "        try:\n",
    "            reviews_number = block.find_element(By.TAG_NAME, 'span[data-marker=\"seller-rating/summary\"]').text\n",
    "            \n",
    "        except:\n",
    "            reviews_number = 'none'\n",
    "                \n",
    "        \n",
    "        data_urls.append([item_category, title, price, description,\n",
    "                          seller, seller_score, reviews_number,\n",
    "                          seller_url, ad_url])"
   ]
  },
  {
   "cell_type": "code",
   "execution_count": null,
   "metadata": {},
   "outputs": [],
   "source": []
  },
  {
   "cell_type": "code",
   "execution_count": null,
   "metadata": {},
   "outputs": [],
   "source": [
    "# преобразовываю в датафрейм\n",
    "\n",
    "head = ['category', 'title', 'price', 'description',\n",
    "        'seller', 'seller_score', 'reviews_number',\n",
    "        'seller_url', 'ad_url']\n",
    "\n",
    "work_urls = pd.DataFrame(data_urls, columns=head)"
   ]
  },
  {
   "cell_type": "code",
   "execution_count": null,
   "metadata": {},
   "outputs": [],
   "source": [
    "work_urls.shape"
   ]
  },
  {
   "cell_type": "code",
   "execution_count": null,
   "metadata": {},
   "outputs": [],
   "source": [
    "work_urls.drop_duplicates(inplace=True)"
   ]
  },
  {
   "cell_type": "code",
   "execution_count": null,
   "metadata": {},
   "outputs": [],
   "source": [
    "work_urls.shape"
   ]
  },
  {
   "cell_type": "code",
   "execution_count": null,
   "metadata": {},
   "outputs": [],
   "source": [
    "# Записываю в файл\n",
    "\n",
    "work_urls.to_excel(file_path + 'avito_urls_' + item_category + '.xlsx', encoding='utf-8', index=False)"
   ]
  },
  {
   "cell_type": "code",
   "execution_count": null,
   "metadata": {},
   "outputs": [],
   "source": []
  },
  {
   "cell_type": "code",
   "execution_count": null,
   "metadata": {},
   "outputs": [],
   "source": []
  },
  {
   "cell_type": "code",
   "execution_count": null,
   "metadata": {},
   "outputs": [],
   "source": [
    "driver.close()"
   ]
  },
  {
   "cell_type": "code",
   "execution_count": null,
   "metadata": {},
   "outputs": [],
   "source": []
  }
 ],
 "metadata": {
  "kernelspec": {
   "display_name": "Python 3",
   "language": "python",
   "name": "python3"
  },
  "language_info": {
   "codemirror_mode": {
    "name": "ipython",
    "version": 3
   },
   "file_extension": ".py",
   "mimetype": "text/x-python",
   "name": "python",
   "nbconvert_exporter": "python",
   "pygments_lexer": "ipython3",
   "version": "3.8.8"
  }
 },
 "nbformat": 4,
 "nbformat_minor": 2
}
