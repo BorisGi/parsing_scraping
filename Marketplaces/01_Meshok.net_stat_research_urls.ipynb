{
 "cells": [
  {
   "cell_type": "markdown",
   "metadata": {},
   "source": [
    "Парсер сайт-аукциона Мешок (meshok.net) для стат. исследований.\n",
    "\n",
    "Выгружает только данные, нужные для исследований, без телефонов и прочих контактов.\n",
    "\n",
    "Часть 1. Собирает ссылки и информацию по страницам выдачи, без захода на страницу объявления.\n",
    "\n",
    "Парсер написан под обычную верстку (мобильная сильно отличается)\n",
    "\n",
    "Последние правки 2022-02-16"
   ]
  },
  {
   "cell_type": "markdown",
   "metadata": {},
   "source": [
    "## Библиотеки и настройки"
   ]
  },
  {
   "cell_type": "code",
   "execution_count": 1,
   "metadata": {},
   "outputs": [],
   "source": [
    "#Загружаю нужные библиотеки\n",
    "\n",
    "import pandas as pd\n",
    "import math\n",
    "\n",
    "import datetime\n",
    "\n",
    "# регулярки\n",
    "import re\n",
    "\n",
    "\n",
    "# для юзер-агента\n",
    "from fake_useragent import UserAgent\n",
    "\n",
    "# прогресс-бар\n",
    "from tqdm.notebook import trange, tqdm\n",
    "\n",
    "# для пауз при парсинге\n",
    "from time import sleep\n",
    "\n",
    "# селениум\n",
    "from selenium import webdriver\n",
    "from selenium.webdriver.chrome.service import Service\n",
    "\n",
    "from selenium.common.exceptions import NoSuchElementException\n",
    "from selenium.webdriver.common.by import By\n",
    "from selenium.webdriver.support.ui import WebDriverWait\n",
    "from selenium.webdriver.support import expected_conditions as EC"
   ]
  },
  {
   "cell_type": "code",
   "execution_count": 2,
   "metadata": {},
   "outputs": [],
   "source": [
    "# настройки юзер-агента\n",
    "\n",
    "ua = UserAgent()\n",
    "\n",
    "# юзер-агент для Хрома\n",
    "user_agent = ua.chrome"
   ]
  },
  {
   "cell_type": "code",
   "execution_count": 3,
   "metadata": {},
   "outputs": [],
   "source": [
    "# тестовая страница для Селениума\n",
    "\n",
    "test_url = 'https://intoli.com/blog/not-possible-to-block-chrome-headless/chrome-headless-test.html'"
   ]
  },
  {
   "cell_type": "code",
   "execution_count": 4,
   "metadata": {},
   "outputs": [
    {
     "name": "stdout",
     "output_type": "stream",
     "text": [
      "temp_data\n"
     ]
    }
   ],
   "source": [
    "# путь к файлам\n",
    "\n",
    "file_path = 'C:/00_Data/' + input() + '/'\n",
    "proxy_list_path = 'C:/work/keys/proxy_list.txt' # путь и названия со списком прокси"
   ]
  },
  {
   "cell_type": "code",
   "execution_count": 5,
   "metadata": {},
   "outputs": [
    {
     "name": "stdout",
     "output_type": "stream",
     "text": [
      "Рабочих прокси — 9\n"
     ]
    }
   ],
   "source": [
    "# загружаю список прокси\n",
    "# список простой текстовый файл, который содержит прокси в формате: адрес:порт логин:пароль\n",
    "\n",
    "proxy_list = []\n",
    "\n",
    "with open(proxy_list_path, 'r') as f:\n",
    "    for line in f:\n",
    "        proxy_list += [line.split()]\n",
    "        \n",
    "print('Рабочих прокси — ' + str(len(proxy_list)))"
   ]
  },
  {
   "cell_type": "code",
   "execution_count": 6,
   "metadata": {},
   "outputs": [
    {
     "name": "stdout",
     "output_type": "stream",
     "text": [
      "Номер прокси, от 0 до 8\n",
      "8\n"
     ]
    }
   ],
   "source": [
    "# номер прокси\n",
    "\n",
    "print('Номер прокси, от 0 до ' + str(len(proxy_list) - 1))\n",
    "proxy_number = int(input())"
   ]
  },
  {
   "cell_type": "code",
   "execution_count": 35,
   "metadata": {},
   "outputs": [],
   "source": [
    "# настройки веб-драйвера, чтобы скрыть автоматическое управление\n",
    "\n",
    "opt = webdriver.ChromeOptions()\n",
    "#opt.add_argument(f'user-agent={user_agent}')\n",
    "opt.add_argument('--disable-blink-features')\n",
    "opt.add_argument('--disable-blink-features=AutomationControlled')\n",
    "opt.add_argument(f'--proxy-server={proxy_list[proxy_number][0]}') # \"девственный\" прокси(:\n",
    "opt.add_experimental_option(\"excludeSwitches\", [\"enable-automation\"]) # отключает строку про удаленное управление\n",
    "opt.add_experimental_option('useAutomationExtension', False)"
   ]
  },
  {
   "cell_type": "code",
   "execution_count": 36,
   "metadata": {},
   "outputs": [
    {
     "name": "stdout",
     "output_type": "stream",
     "text": [
      "Login: tw1QwuaQ\n",
      "Pass: EJ1SMvdd\n"
     ]
    }
   ],
   "source": [
    "print('Login: ' + proxy_list[proxy_number][1])\n",
    "print('Pass: ' + proxy_list[proxy_number][2])"
   ]
  },
  {
   "cell_type": "code",
   "execution_count": 42,
   "metadata": {},
   "outputs": [],
   "source": [
    "# запускаю драйвер, проверяю настройки\n",
    "\n",
    "#s=Service('C:/Users/bgi/Anaconda3/chromedriver/chromedriver.exe')\n",
    "#driver = webdriver.Chrome(service=s, options=opt)\n",
    "\n",
    "driver = webdriver.Chrome(options=opt)\n",
    "driver.get(test_url)\n",
    "driver.maximize_window() # раскрываю окно на максимум"
   ]
  },
  {
   "cell_type": "code",
   "execution_count": null,
   "metadata": {},
   "outputs": [],
   "source": []
  },
  {
   "cell_type": "markdown",
   "metadata": {},
   "source": [
    "## Собираю ссылки"
   ]
  },
  {
   "cell_type": "code",
   "execution_count": 10,
   "metadata": {},
   "outputs": [],
   "source": [
    "items_find = 'Военная атрибутика'"
   ]
  },
  {
   "cell_type": "code",
   "execution_count": 23,
   "metadata": {},
   "outputs": [
    {
     "name": "stdout",
     "output_type": "stream",
     "text": [
      "Военное, Другие страны, до 1945\n"
     ]
    }
   ],
   "source": [
    "item_cat = input()"
   ]
  },
  {
   "cell_type": "code",
   "execution_count": 15,
   "metadata": {},
   "outputs": [],
   "source": [
    "# ID категории\n",
    "\n",
    "category_id = 14401"
   ]
  },
  {
   "cell_type": "markdown",
   "metadata": {},
   "source": [
    "Навигация на Мешке — по количеству товаров: к количеству, указанному в конце урла, плюсуется 24."
   ]
  },
  {
   "cell_type": "code",
   "execution_count": 20,
   "metadata": {},
   "outputs": [],
   "source": [
    "# начальная страница\n",
    "\n",
    "start_url = f'https://meshok.net/listing?condition=N&good={category_id}&pN='"
   ]
  },
  {
   "cell_type": "code",
   "execution_count": 21,
   "metadata": {},
   "outputs": [],
   "source": [
    "driver.get(start_url + '0')\n",
    "sleep(3)"
   ]
  },
  {
   "cell_type": "code",
   "execution_count": 22,
   "metadata": {},
   "outputs": [
    {
     "name": "stdout",
     "output_type": "stream",
     "text": [
      "Количество страниц: 494\n"
     ]
    }
   ],
   "source": [
    "page_number = int(driver.find_element(By.CLASS_NAME, 'buttons_1qQzv')\n",
    "                  .text.split('\\n')[0]\n",
    "                  .replace('Страница 1 из ', ''))\n",
    "\n",
    "print('Количество страниц: ' + str(page_number))"
   ]
  },
  {
   "cell_type": "code",
   "execution_count": null,
   "metadata": {},
   "outputs": [],
   "source": []
  },
  {
   "cell_type": "code",
   "execution_count": 24,
   "metadata": {},
   "outputs": [
    {
     "data": {
      "application/vnd.jupyter.widget-view+json": {
       "model_id": "e6aa0ea8aa6443ed98f2c56aa9c2e06a",
       "version_major": 2,
       "version_minor": 0
      },
      "text/plain": [
       "  0%|          | 0/494 [00:00<?, ?it/s]"
      ]
     },
     "metadata": {},
     "output_type": "display_data"
    }
   ],
   "source": [
    "item_number = 0 # счетчик товаров\n",
    "data_url = [] # список для данных\n",
    "\n",
    "for new_page in tqdm(range(page_number)):\n",
    "    \n",
    "    driver.get(start_url + str(item_number))\n",
    "    item_number += 24\n",
    "    sleep(3)    \n",
    "\n",
    "    item_blocks = driver.find_elements(By.CLASS_NAME, 'wrapper_18RL-')\n",
    "\n",
    "    for block in item_blocks:\n",
    "\n",
    "        name = block.find_element(By.CLASS_NAME, 'itemTitle_2gcl1').text\n",
    "\n",
    "        ad_url = block.find_element(By.TAG_NAME, 'a[class=\"itemContent_1rBtL\"]').get_attribute('href')\n",
    "\n",
    "        current_price = block.find_element(By.CLASS_NAME, 'price_3O10j').text\n",
    "\n",
    "        try:\n",
    "            blitz_price = block.find_element(By.CLASS_NAME, 'strikePrice_2hGyd').text\n",
    "\n",
    "        except:\n",
    "            blitz_price = 'none'\n",
    "\n",
    "        seller_string = block.find_element(By.CLASS_NAME, 'sellerLink_2rTFC').text.split('\\n')\n",
    "        seller = seller_string[0]\n",
    "        seller_ads_all = seller_string[1]\n",
    "\n",
    "        seller_url = block.find_element(By.CLASS_NAME, 'sellerLink_2rTFC').get_attribute('href')\n",
    "\n",
    "        location = block.find_element(By.CLASS_NAME, 'delivery_185Kn').text.split('\\n')\n",
    "\n",
    "        city = location[0]\n",
    "\n",
    "        delivery = location[1]\n",
    "\n",
    "        data_url.append([item_cat, name, current_price, blitz_price,\n",
    "                         seller, city, delivery, seller_ads_all,\n",
    "                         ad_url, seller_url])  "
   ]
  },
  {
   "cell_type": "code",
   "execution_count": 25,
   "metadata": {},
   "outputs": [],
   "source": [
    "# преобразовываю в датафрейм\n",
    "\n",
    "head = ['item_cat', 'name', 'current_price', 'blitz_price',\n",
    "        'seller', 'city', 'delivery', 'seller_ads_all',\n",
    "        'ad_url', 'seller_url']\n",
    "\n",
    "work_urls = pd.DataFrame(data_url, columns=head)"
   ]
  },
  {
   "cell_type": "code",
   "execution_count": 26,
   "metadata": {},
   "outputs": [
    {
     "data": {
      "text/html": [
       "<div>\n",
       "<style scoped>\n",
       "    .dataframe tbody tr th:only-of-type {\n",
       "        vertical-align: middle;\n",
       "    }\n",
       "\n",
       "    .dataframe tbody tr th {\n",
       "        vertical-align: top;\n",
       "    }\n",
       "\n",
       "    .dataframe thead th {\n",
       "        text-align: right;\n",
       "    }\n",
       "</style>\n",
       "<table border=\"1\" class=\"dataframe\">\n",
       "  <thead>\n",
       "    <tr style=\"text-align: right;\">\n",
       "      <th></th>\n",
       "      <th>item_cat</th>\n",
       "      <th>name</th>\n",
       "      <th>current_price</th>\n",
       "      <th>blitz_price</th>\n",
       "      <th>seller</th>\n",
       "      <th>city</th>\n",
       "      <th>delivery</th>\n",
       "      <th>seller_ads_all</th>\n",
       "      <th>ad_url</th>\n",
       "      <th>seller_url</th>\n",
       "    </tr>\n",
       "  </thead>\n",
       "  <tbody>\n",
       "    <tr>\n",
       "      <th>5705</th>\n",
       "      <td>Военное, Другие страны, до 1945</td>\n",
       "      <td>Немецкие штаны Смотри и другие мои лоты с 1 рубля</td>\n",
       "      <td>1 700 $</td>\n",
       "      <td>none</td>\n",
       "      <td>АлександрОмск</td>\n",
       "      <td>Омск</td>\n",
       "      <td>Уточняйте у продавца</td>\n",
       "      <td>192</td>\n",
       "      <td>https://meshok.net/item/107310568_%D0%9D%D0%B5...</td>\n",
       "      <td>https://meshok.net/info/733039</td>\n",
       "    </tr>\n",
       "    <tr>\n",
       "      <th>9120</th>\n",
       "      <td>Военное, Другие страны, до 1945</td>\n",
       "      <td>Венгерская каска м37, Венгрия ww2 ВОВ, в краск...</td>\n",
       "      <td>7 500 ₽</td>\n",
       "      <td>none</td>\n",
       "      <td>Leyt-sov</td>\n",
       "      <td>Москва</td>\n",
       "      <td>Самовывоз</td>\n",
       "      <td>508</td>\n",
       "      <td>https://meshok.net/item/171814899_%D0%92%D0%B5...</td>\n",
       "      <td>https://meshok.net/info/354864</td>\n",
       "    </tr>\n",
       "    <tr>\n",
       "      <th>5610</th>\n",
       "      <td>Военное, Другие страны, до 1945</td>\n",
       "      <td>Königsberg ! Пепельница окопная GERMANIA ! С м...</td>\n",
       "      <td>650 ₽</td>\n",
       "      <td>none</td>\n",
       "      <td>wiking Ich</td>\n",
       "      <td>Калининград</td>\n",
       "      <td>300 ₽</td>\n",
       "      <td>643</td>\n",
       "      <td>https://meshok.net/item/251694419_K%C3%B6nigsb...</td>\n",
       "      <td>https://meshok.net/info/491137</td>\n",
       "    </tr>\n",
       "  </tbody>\n",
       "</table>\n",
       "</div>"
      ],
      "text/plain": [
       "                             item_cat  \\\n",
       "5705  Военное, Другие страны, до 1945   \n",
       "9120  Военное, Другие страны, до 1945   \n",
       "5610  Военное, Другие страны, до 1945   \n",
       "\n",
       "                                                   name current_price  \\\n",
       "5705  Немецкие штаны Смотри и другие мои лоты с 1 рубля       1 700 $   \n",
       "9120  Венгерская каска м37, Венгрия ww2 ВОВ, в краск...       7 500 ₽   \n",
       "5610  Königsberg ! Пепельница окопная GERMANIA ! С м...         650 ₽   \n",
       "\n",
       "     blitz_price         seller         city              delivery  \\\n",
       "5705        none  АлександрОмск         Омск  Уточняйте у продавца   \n",
       "9120        none       Leyt-sov       Москва             Самовывоз   \n",
       "5610        none     wiking Ich  Калининград                 300 ₽   \n",
       "\n",
       "     seller_ads_all                                             ad_url  \\\n",
       "5705            192  https://meshok.net/item/107310568_%D0%9D%D0%B5...   \n",
       "9120            508  https://meshok.net/item/171814899_%D0%92%D0%B5...   \n",
       "5610            643  https://meshok.net/item/251694419_K%C3%B6nigsb...   \n",
       "\n",
       "                          seller_url  \n",
       "5705  https://meshok.net/info/733039  \n",
       "9120  https://meshok.net/info/354864  \n",
       "5610  https://meshok.net/info/491137  "
      ]
     },
     "execution_count": 26,
     "metadata": {},
     "output_type": "execute_result"
    }
   ],
   "source": [
    "work_urls.sample(3)"
   ]
  },
  {
   "cell_type": "code",
   "execution_count": 27,
   "metadata": {},
   "outputs": [
    {
     "data": {
      "text/plain": [
       "(11703, 10)"
      ]
     },
     "execution_count": 27,
     "metadata": {},
     "output_type": "execute_result"
    }
   ],
   "source": [
    "work_urls.shape"
   ]
  },
  {
   "cell_type": "code",
   "execution_count": 28,
   "metadata": {},
   "outputs": [],
   "source": [
    "work_urls = work_urls[~work_urls.name.str.contains('книг', case=False)]\n",
    "work_urls = work_urls[~work_urls.name.str.contains('альбом', case=False)]\n",
    "work_urls = work_urls[~work_urls.name.str.contains('каталог', case=False)]\n",
    "work_urls = work_urls[~work_urls.name.str.contains('карта', case=False)]\n",
    "work_urls = work_urls[~work_urls.name.str.contains('история', case=False)]\n",
    "work_urls = work_urls[~work_urls.name.str.contains('археология СССР', case=False)]\n",
    "work_urls = work_urls[~(\n",
    "    (work_urls.name.str.contains('археолог', case=False)) &\n",
    "    (work_urls.name.str.contains(' кн', case=False)))]\n",
    "work_urls = work_urls[~work_urls.name.str.contains('путеводитель', case=False)]\n",
    "work_urls = work_urls[~work_urls.name.str.contains('сборник', case=False)]\n",
    "work_urls = work_urls[~work_urls.name.str.contains('издание', case=False)]\n",
    "work_urls = work_urls[~work_urls.name.str.contains('наука', case=False)]\n",
    "work_urls = work_urls[~work_urls.name.str.contains(' Кн', case=True)]\n",
    "work_urls = work_urls[~work_urls.name.str.contains('копия', case=False)]\n",
    "work_urls = work_urls[~work_urls.name.str.contains('новодел', case=False)]\n",
    "work_urls = work_urls[~work_urls.name.str.contains('авторская работа', case=False)]"
   ]
  },
  {
   "cell_type": "code",
   "execution_count": 29,
   "metadata": {},
   "outputs": [
    {
     "data": {
      "text/plain": [
       "(11435, 10)"
      ]
     },
     "execution_count": 29,
     "metadata": {},
     "output_type": "execute_result"
    }
   ],
   "source": [
    "work_urls.shape"
   ]
  },
  {
   "cell_type": "code",
   "execution_count": 30,
   "metadata": {},
   "outputs": [],
   "source": [
    "#work_urls.to_excel(file_path + f'mechok_{items_find}.xlsx', index=False)"
   ]
  },
  {
   "cell_type": "code",
   "execution_count": 45,
   "metadata": {},
   "outputs": [
    {
     "data": {
      "text/plain": [
       "2354"
      ]
     },
     "execution_count": 45,
     "metadata": {},
     "output_type": "execute_result"
    }
   ],
   "source": [
    "2153 + 201"
   ]
  },
  {
   "cell_type": "markdown",
   "metadata": {},
   "source": [
    "## Собираю данные объявлений"
   ]
  },
  {
   "cell_type": "code",
   "execution_count": 31,
   "metadata": {},
   "outputs": [],
   "source": [
    "work_urls = pd.read_excel(file_path + 'Meshok\\mechok_Военное_Другие_1945.xlsx')"
   ]
  },
  {
   "cell_type": "code",
   "execution_count": 32,
   "metadata": {},
   "outputs": [
    {
     "data": {
      "text/plain": [
       "(9282, 10)"
      ]
     },
     "execution_count": 32,
     "metadata": {},
     "output_type": "execute_result"
    }
   ],
   "source": [
    "work_urls.shape"
   ]
  },
  {
   "cell_type": "code",
   "execution_count": 33,
   "metadata": {},
   "outputs": [],
   "source": [
    "data_info = [] # список для данных"
   ]
  },
  {
   "cell_type": "code",
   "execution_count": 47,
   "metadata": {},
   "outputs": [
    {
     "data": {
      "application/vnd.jupyter.widget-view+json": {
       "model_id": "b1b02dd8cbc647acbdafb22bdd5344b8",
       "version_major": 2,
       "version_minor": 0
      },
      "text/plain": [
       "  0%|          | 0/5818 [00:00<?, ?it/s]"
      ]
     },
     "metadata": {},
     "output_type": "display_data"
    }
   ],
   "source": [
    "for ad_url in tqdm(work_urls.ad_url[3464:]):\n",
    "    \n",
    "    driver.get(ad_url)\n",
    "    sleep(3)\n",
    "        \n",
    "    try:\n",
    "        ad_descripton = driver.find_element(By.TAG_NAME, 'div[itemprop=\"description\"]').text\n",
    "        \n",
    "    except:\n",
    "        ad_descripton = 'none'\n",
    "    \n",
    "    try:\n",
    "        ad_tags = (driver.find_element(By.CLASS_NAME, 'standardPadding_1tPoj')\n",
    "                   .find_element(By.CLASS_NAME, 'container_1bS6g')\n",
    "                   .text.replace('\\n', ';'))\n",
    "    except:\n",
    "        ad_tags = 'none'\n",
    "        \n",
    "    ad_date = (driver.find_element(By.CLASS_NAME, 'placementDate_jKzv0')\n",
    "               .find_element(By.TAG_NAME, 'span').get_attribute('title'))\n",
    "    \n",
    "    data_info.append([ad_url, ad_descripton, ad_tags, ad_date])"
   ]
  },
  {
   "cell_type": "code",
   "execution_count": 48,
   "metadata": {},
   "outputs": [],
   "source": [
    "# преобразовываю в датафрейм\n",
    "\n",
    "head = ['ad_url', 'ad_descripton', 'ad_tags', 'ad_date']\n",
    "\n",
    "work_data = pd.DataFrame(data_info, columns=head)"
   ]
  },
  {
   "cell_type": "code",
   "execution_count": 49,
   "metadata": {},
   "outputs": [
    {
     "data": {
      "text/plain": [
       "(9273, 4)"
      ]
     },
     "execution_count": 49,
     "metadata": {},
     "output_type": "execute_result"
    }
   ],
   "source": [
    "work_data.shape"
   ]
  },
  {
   "cell_type": "code",
   "execution_count": 50,
   "metadata": {},
   "outputs": [],
   "source": [
    "work_data.drop_duplicates(inplace=True)"
   ]
  },
  {
   "cell_type": "code",
   "execution_count": 51,
   "metadata": {},
   "outputs": [
    {
     "data": {
      "text/plain": [
       "(9264, 4)"
      ]
     },
     "execution_count": 51,
     "metadata": {},
     "output_type": "execute_result"
    }
   ],
   "source": [
    "work_data.shape"
   ]
  },
  {
   "cell_type": "code",
   "execution_count": 52,
   "metadata": {},
   "outputs": [
    {
     "data": {
      "text/html": [
       "<div>\n",
       "<style scoped>\n",
       "    .dataframe tbody tr th:only-of-type {\n",
       "        vertical-align: middle;\n",
       "    }\n",
       "\n",
       "    .dataframe tbody tr th {\n",
       "        vertical-align: top;\n",
       "    }\n",
       "\n",
       "    .dataframe thead th {\n",
       "        text-align: right;\n",
       "    }\n",
       "</style>\n",
       "<table border=\"1\" class=\"dataframe\">\n",
       "  <thead>\n",
       "    <tr style=\"text-align: right;\">\n",
       "      <th></th>\n",
       "      <th>ad_url</th>\n",
       "      <th>ad_descripton</th>\n",
       "      <th>ad_tags</th>\n",
       "      <th>ad_date</th>\n",
       "    </tr>\n",
       "  </thead>\n",
       "  <tbody>\n",
       "    <tr>\n",
       "      <th>0</th>\n",
       "      <td>https://meshok.net/item/263460313_%D0%9A%D0%9E...</td>\n",
       "      <td>Здравствуйте уважаемые коллекционеры!\\n\\nВсе в...</td>\n",
       "      <td></td>\n",
       "      <td>19 февр. 2022 г. 13:47 GMT+03:00</td>\n",
       "    </tr>\n",
       "    <tr>\n",
       "      <th>1</th>\n",
       "      <td>https://meshok.net/item/234406241_%D0%9A%D0%B0...</td>\n",
       "      <td>Из семьи потомков лётчика-аса Чернобая Андрея ...</td>\n",
       "      <td>вторая мировая война;Германия;Третий Рейх;люфт...</td>\n",
       "      <td>2 февр. 2022 г. 20:28 GMT+03:00</td>\n",
       "    </tr>\n",
       "    <tr>\n",
       "      <th>2</th>\n",
       "      <td>https://meshok.net/item/29876883_%D0%9A%D0%9E%...</td>\n",
       "      <td>\"КОНТЕЙНЕР ДЛЯ ПРОТИВОГАЗА\". Немецкий. Третий ...</td>\n",
       "      <td>контейнер;противогаз;3-й Рейх;Третий Рейх;Герм...</td>\n",
       "      <td>31 янв. 2022 г. 23:31 GMT+03:00</td>\n",
       "    </tr>\n",
       "    <tr>\n",
       "      <th>3</th>\n",
       "      <td>https://meshok.net/item/127355417_%D0%9E%D0%BA...</td>\n",
       "      <td>см.фото\\nДелая ставку, Вы соглашаетесь с прави...</td>\n",
       "      <td>третий рейх;окопное творчество;военные вещи;ко...</td>\n",
       "      <td>1 февр. 2022 г. 21:26 GMT+03:00</td>\n",
       "    </tr>\n",
       "    <tr>\n",
       "      <th>4</th>\n",
       "      <td>https://meshok.net/item/220526429_%D0%9E%D1%80...</td>\n",
       "      <td>\"Орден Короны Румынии\", рыцарский крест 5 степ...</td>\n",
       "      <td>коллекционирование;оригинал;раритет;рейх;редко...</td>\n",
       "      <td>24 янв. 2022 г. 15:07 GMT+03:00</td>\n",
       "    </tr>\n",
       "  </tbody>\n",
       "</table>\n",
       "</div>"
      ],
      "text/plain": [
       "                                              ad_url  \\\n",
       "0  https://meshok.net/item/263460313_%D0%9A%D0%9E...   \n",
       "1  https://meshok.net/item/234406241_%D0%9A%D0%B0...   \n",
       "2  https://meshok.net/item/29876883_%D0%9A%D0%9E%...   \n",
       "3  https://meshok.net/item/127355417_%D0%9E%D0%BA...   \n",
       "4  https://meshok.net/item/220526429_%D0%9E%D1%80...   \n",
       "\n",
       "                                       ad_descripton  \\\n",
       "0  Здравствуйте уважаемые коллекционеры!\\n\\nВсе в...   \n",
       "1  Из семьи потомков лётчика-аса Чернобая Андрея ...   \n",
       "2  \"КОНТЕЙНЕР ДЛЯ ПРОТИВОГАЗА\". Немецкий. Третий ...   \n",
       "3  см.фото\\nДелая ставку, Вы соглашаетесь с прави...   \n",
       "4  \"Орден Короны Румынии\", рыцарский крест 5 степ...   \n",
       "\n",
       "                                             ad_tags  \\\n",
       "0                                                      \n",
       "1  вторая мировая война;Германия;Третий Рейх;люфт...   \n",
       "2  контейнер;противогаз;3-й Рейх;Третий Рейх;Герм...   \n",
       "3  третий рейх;окопное творчество;военные вещи;ко...   \n",
       "4  коллекционирование;оригинал;раритет;рейх;редко...   \n",
       "\n",
       "                            ad_date  \n",
       "0  19 февр. 2022 г. 13:47 GMT+03:00  \n",
       "1   2 февр. 2022 г. 20:28 GMT+03:00  \n",
       "2   31 янв. 2022 г. 23:31 GMT+03:00  \n",
       "3   1 февр. 2022 г. 21:26 GMT+03:00  \n",
       "4   24 янв. 2022 г. 15:07 GMT+03:00  "
      ]
     },
     "execution_count": 52,
     "metadata": {},
     "output_type": "execute_result"
    }
   ],
   "source": [
    "work_data.head()"
   ]
  },
  {
   "cell_type": "code",
   "execution_count": 53,
   "metadata": {},
   "outputs": [
    {
     "data": {
      "text/html": [
       "<div>\n",
       "<style scoped>\n",
       "    .dataframe tbody tr th:only-of-type {\n",
       "        vertical-align: middle;\n",
       "    }\n",
       "\n",
       "    .dataframe tbody tr th {\n",
       "        vertical-align: top;\n",
       "    }\n",
       "\n",
       "    .dataframe thead th {\n",
       "        text-align: right;\n",
       "    }\n",
       "</style>\n",
       "<table border=\"1\" class=\"dataframe\">\n",
       "  <thead>\n",
       "    <tr style=\"text-align: right;\">\n",
       "      <th></th>\n",
       "      <th>item_cat</th>\n",
       "      <th>name</th>\n",
       "      <th>current_price</th>\n",
       "      <th>blitz_price</th>\n",
       "      <th>seller</th>\n",
       "      <th>city</th>\n",
       "      <th>delivery</th>\n",
       "      <th>seller_ads_all</th>\n",
       "      <th>ad_url</th>\n",
       "      <th>seller_url</th>\n",
       "    </tr>\n",
       "  </thead>\n",
       "  <tbody>\n",
       "    <tr>\n",
       "      <th>0</th>\n",
       "      <td>Военное, Другие страны, до 1945</td>\n",
       "      <td>- КОМПАС E.R.WATTS &amp; SON. LONDON Тетюхе 1936 г...</td>\n",
       "      <td>4 000 ₽</td>\n",
       "      <td>none</td>\n",
       "      <td>V_I</td>\n",
       "      <td>Уссурийск</td>\n",
       "      <td>500 ₽</td>\n",
       "      <td>3199</td>\n",
       "      <td>https://meshok.net/item/263460313_%D0%9A%D0%9E...</td>\n",
       "      <td>https://meshok.net/info/478262</td>\n",
       "    </tr>\n",
       "  </tbody>\n",
       "</table>\n",
       "</div>"
      ],
      "text/plain": [
       "                          item_cat  \\\n",
       "0  Военное, Другие страны, до 1945   \n",
       "\n",
       "                                                name current_price  \\\n",
       "0  - КОМПАС E.R.WATTS & SON. LONDON Тетюхе 1936 г...       4 000 ₽   \n",
       "\n",
       "  blitz_price seller       city delivery  seller_ads_all  \\\n",
       "0        none    V_I  Уссурийск    500 ₽            3199   \n",
       "\n",
       "                                              ad_url  \\\n",
       "0  https://meshok.net/item/263460313_%D0%9A%D0%9E...   \n",
       "\n",
       "                       seller_url  \n",
       "0  https://meshok.net/info/478262  "
      ]
     },
     "execution_count": 53,
     "metadata": {},
     "output_type": "execute_result"
    }
   ],
   "source": [
    "work_urls.head(1)"
   ]
  },
  {
   "cell_type": "code",
   "execution_count": 54,
   "metadata": {},
   "outputs": [],
   "source": [
    "work = work_urls.merge(work_data, how='left', on='ad_url')"
   ]
  },
  {
   "cell_type": "code",
   "execution_count": null,
   "metadata": {},
   "outputs": [],
   "source": []
  },
  {
   "cell_type": "code",
   "execution_count": null,
   "metadata": {},
   "outputs": [],
   "source": []
  },
  {
   "cell_type": "code",
   "execution_count": 57,
   "metadata": {},
   "outputs": [],
   "source": [
    "# Записываю в файл\n",
    "\n",
    "work.to_csv(file_path + 'meshok_' + items_find + '.csv', encoding='utf-8', index=False)"
   ]
  },
  {
   "cell_type": "code",
   "execution_count": 56,
   "metadata": {},
   "outputs": [],
   "source": [
    "driver.close()"
   ]
  },
  {
   "cell_type": "code",
   "execution_count": null,
   "metadata": {},
   "outputs": [],
   "source": []
  }
 ],
 "metadata": {
  "kernelspec": {
   "display_name": "Python 3",
   "language": "python",
   "name": "python3"
  },
  "language_info": {
   "codemirror_mode": {
    "name": "ipython",
    "version": 3
   },
   "file_extension": ".py",
   "mimetype": "text/x-python",
   "name": "python",
   "nbconvert_exporter": "python",
   "pygments_lexer": "ipython3",
   "version": "3.8.8"
  }
 },
 "nbformat": 4,
 "nbformat_minor": 2
}
