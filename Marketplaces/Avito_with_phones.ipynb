{
 "cells": [
  {
   "cell_type": "markdown",
   "metadata": {},
   "source": [
    "Парсер вакансий на Авито с телефонами и контактами.\n",
    "\n",
    "Выгружает объявления по ссылкам.\n",
    "\n",
    "Последние правки кода: 2022-02-06."
   ]
  },
  {
   "cell_type": "markdown",
   "metadata": {},
   "source": [
    "## Библиотеки и настройки"
   ]
  },
  {
   "cell_type": "code",
   "execution_count": null,
   "metadata": {},
   "outputs": [],
   "source": [
    "#Загружаю нужные библиотеки\n",
    "\n",
    "import pandas as pd\n",
    "import math\n",
    "\n",
    "import datetime\n",
    "\n",
    "# регулярки\n",
    "import re\n",
    "\n",
    "# для юзер-агента\n",
    "from fake_useragent import UserAgent\n",
    "\n",
    "# прогресс-бар\n",
    "from tqdm.notebook import trange, tqdm\n",
    "\n",
    "\n",
    "# библиотека для распознования текста\n",
    "import pytesseract\n",
    "# путь к программе OCR\n",
    "pytesseract.pytesseract.tesseract_cmd = r'C:\\Program Files\\Tesseract-OCR\\tesseract.exe'\n",
    "\n",
    "# для работы с картинками\n",
    "from PIL import Image\n",
    "\n",
    "# для декодирования двоичных данных (для картинки)\n",
    "import base64\n",
    "\n",
    "# для пауз при парсинге\n",
    "from time import sleep\n",
    "\n",
    "# селениум\n",
    "from selenium import webdriver\n",
    "from selenium.webdriver.chrome.service import Service\n",
    "\n",
    "from selenium.common.exceptions import NoSuchElementException\n",
    "from selenium.webdriver.common.by import By\n",
    "from selenium.webdriver.support.ui import WebDriverWait\n",
    "from selenium.webdriver.support import expected_conditions as EC"
   ]
  },
  {
   "cell_type": "code",
   "execution_count": null,
   "metadata": {},
   "outputs": [],
   "source": [
    "# настройки юзер-агента\n",
    "\n",
    "ua = UserAgent()\n",
    "\n",
    "# юзер-агент для Хрома\n",
    "user_agent = ua.chrome"
   ]
  },
  {
   "cell_type": "code",
   "execution_count": null,
   "metadata": {},
   "outputs": [],
   "source": [
    "# тестовая страница для Селениума\n",
    "\n",
    "test_url = 'https://intoli.com/blog/not-possible-to-block-chrome-headless/chrome-headless-test.html'"
   ]
  },
  {
   "cell_type": "code",
   "execution_count": null,
   "metadata": {},
   "outputs": [],
   "source": [
    "# путь к файлам\n",
    "\n",
    "file_path = 'C:/00_Data/stom/'\n",
    "proxy_list_path = 'C:/work/keys/proxy_list.txt' # путь и названия со списком прокси"
   ]
  },
  {
   "cell_type": "code",
   "execution_count": null,
   "metadata": {},
   "outputs": [],
   "source": [
    "# загружаю список прокси\n",
    "# список простой текстовый файл, который содержит прокси в формате: адрес:порт логин:пароль\n",
    "\n",
    "proxy_list = []\n",
    "\n",
    "with open(proxy_list_path, 'r') as f:\n",
    "    for line in f:\n",
    "        proxy_list += [line.split()]\n",
    "        \n",
    "print('Рабочих прокси — ' + str(len(proxy_list)))"
   ]
  },
  {
   "cell_type": "code",
   "execution_count": null,
   "metadata": {},
   "outputs": [],
   "source": [
    "# номер прокси\n",
    "\n",
    "print('Номер прокси, от 0 до ' + str(len(proxy_list) - 1))\n",
    "proxy_number = int(input())"
   ]
  },
  {
   "cell_type": "code",
   "execution_count": null,
   "metadata": {},
   "outputs": [],
   "source": [
    "# настройки веб-драйвера, чтобы скрыть автоматическое управление\n",
    "\n",
    "opt = webdriver.ChromeOptions()\n",
    "opt.add_argument(f'user-agent={user_agent}')\n",
    "opt.add_argument('--disable-blink-features')\n",
    "opt.add_argument('--disable-blink-features=AutomationControlled')\n",
    "#opt.add_argument(f'--proxy-server={proxy_list[proxy_number][0]}') # \"девственный\" прокси(:\n",
    "opt.add_experimental_option(\"excludeSwitches\", [\"enable-automation\"]) # отключает строку про удаленное управление\n",
    "opt.add_experimental_option('useAutomationExtension', False)"
   ]
  },
  {
   "cell_type": "code",
   "execution_count": null,
   "metadata": {},
   "outputs": [],
   "source": [
    "print('Login: ' + proxy_list[proxy_number][1])\n",
    "print('Pass: ' + proxy_list[proxy_number][2])"
   ]
  },
  {
   "cell_type": "code",
   "execution_count": null,
   "metadata": {},
   "outputs": [],
   "source": [
    "# запускаю драйвер, проверяю настройки\n",
    "\n",
    "#s=Service('C:/Users/bgi/Anaconda3/chromedriver/chromedriver.exe')\n",
    "#driver = webdriver.Chrome(service=s, options=opt)\n",
    "\n",
    "driver = webdriver.Chrome(options=opt)\n",
    "driver.get(test_url)\n",
    "driver.maximize_window() # раскрываю окно на максимум"
   ]
  },
  {
   "cell_type": "code",
   "execution_count": null,
   "metadata": {},
   "outputs": [],
   "source": []
  },
  {
   "cell_type": "markdown",
   "metadata": {},
   "source": [
    "## Собираю данные"
   ]
  },
  {
   "cell_type": "code",
   "execution_count": null,
   "metadata": {},
   "outputs": [],
   "source": [
    "work_urls = pd.read_excel(file_path + 'avito_urls_2022_02_06.xlsx')"
   ]
  },
  {
   "cell_type": "code",
   "execution_count": null,
   "metadata": {},
   "outputs": [],
   "source": [
    "work_urls.shape"
   ]
  },
  {
   "cell_type": "code",
   "execution_count": null,
   "metadata": {},
   "outputs": [],
   "source": [
    "work_urls.sample()"
   ]
  },
  {
   "cell_type": "code",
   "execution_count": null,
   "metadata": {},
   "outputs": [],
   "source": [
    "#data = [] # список для данных\n",
    "\n",
    "for ad_url in tqdm(work_urls.ads_url[568:]): # цикл для парсинга страниц\n",
    "    sleep(3)\n",
    "    driver.get(ad_url)\n",
    "    \n",
    "    if driver.title != 'Ошибка 404. Страница не найдена — Объявления на сайте Авито':\n",
    "        \n",
    "        ads_date = driver.find_element(By.CLASS_NAME, 'title-info-metadata-item-redesign').text\n",
    "        \n",
    "        ads_info = (driver.find_element(By.TAG_NAME, 'script[type=\"application/ld+json\"]')\n",
    "                    .get_attribute('text')\n",
    "                    .replace(': ', '')\n",
    "                    .replace('<br />', ' ')\n",
    "                    .replace('<p>', ' ')\n",
    "                    .replace('</p>', ' ')\n",
    "                    .replace('\",', '')\n",
    "                    .replace('\"', '')\n",
    "                    .replace('  ', '')\n",
    "             )\n",
    "\n",
    "        # заголовок объявления\n",
    "        topic = re.findall(r'title.+', ads_info)[0].replace('title', '')\n",
    "\n",
    "        # название клиники\n",
    "        clinic = re.findall(r'name.+', ads_info)[0].replace('name', '')\n",
    "\n",
    "        # адрес клиники\n",
    "        try:\n",
    "            address = re.findall(r'streetAddress.+', ads_info)[0].replace('streetAddress', '')\n",
    "            \n",
    "        except:\n",
    "            address = 'none'\n",
    "\n",
    "        # текст объявления\n",
    "        ads_text = re.findall(r'description.+', ads_info)[0].replace('description', '')\n",
    "\n",
    "        # ожидаемая ЗП\n",
    "        try:\n",
    "            price = driver.find_element(By.TAG_NAME, 'span[itemprop=\"price\"]').get_attribute('content')\n",
    "\n",
    "        except:\n",
    "            price = 'нет'\n",
    "\n",
    "        try: # ссылка на профиль продавца\n",
    "            user_url = (driver.find_element(By.CLASS_NAME, 'seller-info-name.js-seller-info-name')\n",
    "                        .find_element(By.TAG_NAME, 'a').get_attribute('href'))\n",
    "\n",
    "        except:\n",
    "            user_url = 'нет'\n",
    "            \n",
    "            \n",
    "        # телефон\n",
    "        \n",
    "        # кликаю телефон, открываю картинку\n",
    "        try:\n",
    "            driver.find_element(By.CLASS_NAME, 'item-phone.js-item-phone').click()\n",
    "            \n",
    "            # жду пока прогрузится картинка\n",
    "            sleep(5)\n",
    "            \n",
    "            # закрываю\n",
    "            driver.find_element(By.TAG_NAME, 'span[data-marker=\"phone-popup/close-button\"]').click()\n",
    "            \n",
    "            # копирую код картинки\n",
    "            pic_code = (driver.find_element(By.CLASS_NAME, 'item-phone-number.js-item-phone-number')\n",
    "                        .find_element(By.TAG_NAME, 'img').get_attribute('src'))\n",
    "            \n",
    "            # записываю код картинки в файл\n",
    "            with open('phone.png', \"wb\") as file_pic:\n",
    "                file_pic.write(base64.decodebytes(pic_code[22:].encode()))\n",
    "            \n",
    "            # загружаю картинку в переменную\n",
    "            img_phone = Image.open('phone.png')\n",
    "            \n",
    "            # распознаю\n",
    "            phone_number = pytesseract.image_to_string(img_phone)\n",
    "                \n",
    "        except:\n",
    "            phone_number = 'none'\n",
    "            \n",
    "            \n",
    "        # добавляю в список\n",
    "        data.append([topic, clinic, address, phone_number, ads_date, ads_text, price, user_url, ad_url])\n",
    "        \n",
    "        \n",
    "    else:\n",
    "        print(driver.title)"
   ]
  },
  {
   "cell_type": "code",
   "execution_count": null,
   "metadata": {},
   "outputs": [],
   "source": [
    "head_list = ['topic', 'clinic', 'address', 'phone_number', 'ads_date', 'ads_text', 'price', 'user_url', 'ad_url']\n",
    "work = pd.DataFrame(data, columns=head_list)"
   ]
  },
  {
   "cell_type": "code",
   "execution_count": null,
   "metadata": {},
   "outputs": [],
   "source": [
    "# Записываю в файл\n",
    "\n",
    "work.to_excel(file_path + 'avito_2022_02_06.xlsx', encoding='utf-8', index=False)"
   ]
  },
  {
   "cell_type": "code",
   "execution_count": null,
   "metadata": {},
   "outputs": [],
   "source": [
    "# закрываю Селениум\n",
    "driver.close()"
   ]
  },
  {
   "cell_type": "code",
   "execution_count": null,
   "metadata": {},
   "outputs": [],
   "source": []
  }
 ],
 "metadata": {
  "kernelspec": {
   "display_name": "Python 3",
   "language": "python",
   "name": "python3"
  },
  "language_info": {
   "codemirror_mode": {
    "name": "ipython",
    "version": 3
   },
   "file_extension": ".py",
   "mimetype": "text/x-python",
   "name": "python",
   "nbconvert_exporter": "python",
   "pygments_lexer": "ipython3",
   "version": "3.8.8"
  }
 },
 "nbformat": 4,
 "nbformat_minor": 2
}
