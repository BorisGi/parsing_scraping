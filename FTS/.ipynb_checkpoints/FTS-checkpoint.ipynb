{
 "cells": [
  {
   "cell_type": "code",
   "execution_count": null,
   "id": "4cf446fd",
   "metadata": {},
   "outputs": [],
   "source": []
  },
  {
   "cell_type": "markdown",
   "id": "5ecb4be4",
   "metadata": {},
   "source": [
    "## Библиотеки и настройки"
   ]
  },
  {
   "cell_type": "code",
   "execution_count": null,
   "id": "5e58a508",
   "metadata": {},
   "outputs": [],
   "source": [
    "\n",
    "# для чтения dbf\n",
    "from dbfread import DBF\n",
    "\n",
    "# Панды\n",
    "import pandas as pd\n",
    "\n",
    "import os\n",
    "\n",
    "# прогресс-бар\n",
    "from tqdm.notebook import trange, tqdm\n"
   ]
  },
  {
   "cell_type": "code",
   "execution_count": null,
   "id": "e74cda04",
   "metadata": {},
   "outputs": [],
   "source": [
    "# путь к файлам\n",
    "\n",
    "file_path = 'C:/00_Data/Export_import/'"
   ]
  },
  {
   "cell_type": "code",
   "execution_count": null,
   "id": "13d9ef4f",
   "metadata": {},
   "outputs": [],
   "source": [
    "# загружаю справочники\n",
    "\n",
    "# справочник кодов ТНВЭД\n",
    "tnved = DBF('C:/00_Data/00_General/Справочники ФТС/TNVED.dbf', encoding='cp866')\n",
    "tnved = pd.DataFrame(tnved)"
   ]
  },
  {
   "cell_type": "code",
   "execution_count": null,
   "id": "8a9daa92",
   "metadata": {},
   "outputs": [],
   "source": [
    "# вытаскиваю названия файлов в список file_list\n",
    "\n",
    "file_list = os.listdir(file_path)\n",
    "\n",
    "# этот код на случай, если будут подпапки\n",
    "\n",
    "# for root, dirs, files in os.walk(file_path):\n",
    "    \n",
    "#    for filename in files:\n",
    "#        file_list += [filename]"
   ]
  },
  {
   "cell_type": "code",
   "execution_count": null,
   "id": "e21a1f87",
   "metadata": {},
   "outputs": [],
   "source": [
    "# Нужные коды ТН ВЭД\n",
    "\n",
    "need_codes = ['1211300000']\n"
   ]
  },
  {
   "cell_type": "code",
   "execution_count": null,
   "id": "711104b5",
   "metadata": {},
   "outputs": [],
   "source": [
    "tnved[tnved.NAME.str.contains('фармац', case=False)]"
   ]
  },
  {
   "cell_type": "code",
   "execution_count": null,
   "id": "2f552cc7",
   "metadata": {},
   "outputs": [],
   "source": []
  },
  {
   "cell_type": "code",
   "execution_count": null,
   "id": "c9ba3721",
   "metadata": {},
   "outputs": [],
   "source": [
    "work = pd.DataFrame()\n",
    "\n",
    "for file in tqdm(file_list):\n",
    "    dbf = DBF(file_path + file, encoding='cp866')\n",
    "    temp = pd.DataFrame(dbf)\n",
    "    temp.columns = temp.columns.str.lower()\n",
    "    \n",
    "    for need_code in need_codes:\n",
    "        work = work.append(temp[temp['tnved'] == need_code])"
   ]
  },
  {
   "cell_type": "code",
   "execution_count": null,
   "id": "8a52c854",
   "metadata": {},
   "outputs": [],
   "source": [
    "work#.to_excel(file_path + 'temp.xlsx', index=False)"
   ]
  },
  {
   "cell_type": "code",
   "execution_count": null,
   "id": "e2bdc628",
   "metadata": {},
   "outputs": [],
   "source": []
  }
 ],
 "metadata": {
  "kernelspec": {
   "display_name": "Python 3",
   "language": "python",
   "name": "python3"
  },
  "language_info": {
   "codemirror_mode": {
    "name": "ipython",
    "version": 3
   },
   "file_extension": ".py",
   "mimetype": "text/x-python",
   "name": "python",
   "nbconvert_exporter": "python",
   "pygments_lexer": "ipython3",
   "version": "3.8.8"
  }
 },
 "nbformat": 4,
 "nbformat_minor": 5
}
