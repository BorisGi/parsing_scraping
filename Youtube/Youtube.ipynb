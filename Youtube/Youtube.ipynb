{
 "cells": [
  {
   "cell_type": "markdown",
   "metadata": {},
   "source": [
    "Скрипт выгружает заголовки и описание роликов.\n",
    "\n",
    "Последнее обновление: 2021-12-26"
   ]
  },
  {
   "cell_type": "markdown",
   "metadata": {},
   "source": [
    "## Библиотеки и настройки ##"
   ]
  },
  {
   "cell_type": "code",
   "execution_count": 1,
   "metadata": {},
   "outputs": [],
   "source": [
    "#Загружаю нужные библиотеки\n",
    "\n",
    "import pandas as pd\n",
    "\n",
    "# регулярки\n",
    "import re\n",
    "\n",
    "# для юзер-агента\n",
    "from fake_useragent import UserAgent\n",
    "\n",
    "# прогресс-бар\n",
    "from tqdm.notebook import trange, tqdm\n",
    "\n",
    "# для пауз при парсинге\n",
    "from time import sleep\n",
    "\n",
    "# селениум\n",
    "from selenium import webdriver\n",
    "\n",
    "from selenium.common.exceptions import NoSuchElementException\n",
    "from selenium.webdriver.common.by import By\n",
    "from selenium.webdriver.support.ui import WebDriverWait\n",
    "from selenium.webdriver.support import expected_conditions as EC"
   ]
  },
  {
   "cell_type": "code",
   "execution_count": 2,
   "metadata": {},
   "outputs": [],
   "source": [
    "# настройки юзер-агента\n",
    "\n",
    "ua = UserAgent()\n",
    "\n",
    "# юзер-агент для Хрома\n",
    "user_agent = ua.chrome"
   ]
  },
  {
   "cell_type": "code",
   "execution_count": 3,
   "metadata": {},
   "outputs": [],
   "source": [
    "# тестовая страница для Селениума\n",
    "\n",
    "test_url = 'https://intoli.com/blog/not-possible-to-block-chrome-headless/chrome-headless-test.html'"
   ]
  },
  {
   "cell_type": "code",
   "execution_count": 4,
   "metadata": {},
   "outputs": [],
   "source": [
    "# путь к файлам\n",
    "\n",
    "file_path = 'C:/00_Data/'\n",
    "proxy_list_path = 'C:/work/proxy_list.txt'"
   ]
  },
  {
   "cell_type": "code",
   "execution_count": 5,
   "metadata": {},
   "outputs": [],
   "source": [
    "# загружаю список прокси\n",
    "# список простой текстовый файл, который содержит прокси в формате: адрес:порт логин:пароль\n",
    "\n",
    "proxy_list = []\n",
    "\n",
    "with open(proxy_list_path, 'r') as f:\n",
    "    for line in f:\n",
    "        proxy_list += [line.split()]"
   ]
  },
  {
   "cell_type": "code",
   "execution_count": 6,
   "metadata": {},
   "outputs": [
    {
     "name": "stdout",
     "output_type": "stream",
     "text": [
      "Рабочих прокси — 8\n"
     ]
    }
   ],
   "source": [
    "print('Рабочих прокси — ' + str(len(proxy_list)))"
   ]
  },
  {
   "cell_type": "code",
   "execution_count": 7,
   "metadata": {},
   "outputs": [
    {
     "name": "stdout",
     "output_type": "stream",
     "text": [
      "Номер прокси, от 0 до 7\n",
      "4\n"
     ]
    }
   ],
   "source": [
    "# номер прокси проще прописать вручную, ввод со строки постоянно глючит\n",
    "\n",
    "print('Номер прокси, от 0 до ' + str(len(proxy_list) - 1))\n",
    "proxy_number = int(input())\n",
    "\n",
    "#proxy_number = 1"
   ]
  },
  {
   "cell_type": "code",
   "execution_count": 8,
   "metadata": {},
   "outputs": [],
   "source": [
    "# настройки веб-драйвера, чтобы скрыть автоматическое управление\n",
    "\n",
    "opt = webdriver.ChromeOptions()\n",
    "opt.add_argument(f'user-agent={user_agent}')\n",
    "opt.add_argument('--disable-blink-features')\n",
    "opt.add_argument('--disable-blink-features=AutomationControlled')\n",
    "opt.add_argument(f'--proxy-server={proxy_list[proxy_number][0]}') # \"девственный\" прокси(:\n",
    "opt.add_experimental_option(\"excludeSwitches\", [\"enable-automation\"]) # отключает строку про удаленное управление\n",
    "opt.add_experimental_option('useAutomationExtension', False)"
   ]
  },
  {
   "cell_type": "code",
   "execution_count": 9,
   "metadata": {},
   "outputs": [
    {
     "name": "stdout",
     "output_type": "stream",
     "text": [
      "Login: borisgimatij\n",
      "Pass: IqJ9Na7Vug\n"
     ]
    }
   ],
   "source": [
    "# логин - пароль\n",
    "\n",
    "print('Login: ' + proxy_list[proxy_number][1])\n",
    "print('Pass: ' + proxy_list[proxy_number][2])"
   ]
  },
  {
   "cell_type": "code",
   "execution_count": 10,
   "metadata": {},
   "outputs": [],
   "source": [
    "# запускаю драйвер, проверяю настройки\n",
    "\n",
    "driver = webdriver.Chrome(options=opt)\n",
    "driver.get(test_url)\n",
    "driver.maximize_window() # раскрываю окно на максимум"
   ]
  },
  {
   "cell_type": "code",
   "execution_count": null,
   "metadata": {},
   "outputs": [],
   "source": []
  },
  {
   "cell_type": "markdown",
   "metadata": {},
   "source": [
    "## Собираю ссылки на видео ##"
   ]
  },
  {
   "cell_type": "code",
   "execution_count": 11,
   "metadata": {},
   "outputs": [],
   "source": [
    "# адрес канала\n",
    "\n",
    "url = 'https://www.youtube.com/channel/UCQ4YOFsXjG9eXWZ6uLj2t2A/videos'"
   ]
  },
  {
   "cell_type": "code",
   "execution_count": 12,
   "metadata": {},
   "outputs": [],
   "source": [
    "# открываю ссылку\n",
    "\n",
    "driver.get(url)"
   ]
  },
  {
   "cell_type": "code",
   "execution_count": null,
   "metadata": {},
   "outputs": [],
   "source": []
  },
  {
   "cell_type": "code",
   "execution_count": 20,
   "metadata": {},
   "outputs": [],
   "source": [
    "# прокручиваю страницу вниз\n",
    "\n",
    "screen_height = 1080\n",
    "video_number = 0\n",
    "\n",
    "while video_number != (\n",
    "    len(driver.find_elements_by_class_name('style-scope.ytd-grid-video-renderer'))):\n",
    "    \n",
    "    video_number = len(driver.find_elements_by_class_name('style-scope.ytd-grid-video-renderer'))\n",
    "    \n",
    "    # \n",
    "    driver.execute_script(f\"window.scrollTo(0, {screen_height})\")\n",
    "    sleep(2)\n",
    "    screen_height += 1080 "
   ]
  },
  {
   "cell_type": "code",
   "execution_count": null,
   "metadata": {},
   "outputs": [],
   "source": []
  },
  {
   "cell_type": "code",
   "execution_count": 22,
   "metadata": {},
   "outputs": [
    {
     "data": {
      "application/vnd.jupyter.widget-view+json": {
       "model_id": "f1a40e5c8ff84fee882e8d0cb3559411",
       "version_major": 2,
       "version_minor": 0
      },
      "text/plain": [
       "  0%|          | 0/1 [00:00<?, ?it/s]"
      ]
     },
     "metadata": {},
     "output_type": "display_data"
    }
   ],
   "source": [
    "for i in tqdm(range(10)):\n",
    "    \n",
    "    driver.execute_script(f\"window.scrollTo(0, {screen_height})\")\n",
    "    sleep(2)\n",
    "    screen_height += 1080"
   ]
  },
  {
   "cell_type": "code",
   "execution_count": null,
   "metadata": {},
   "outputs": [],
   "source": []
  },
  {
   "cell_type": "code",
   "execution_count": 26,
   "metadata": {},
   "outputs": [],
   "source": [
    "data = [] # список для данных\n",
    "\n",
    "# блоки с видео\n",
    "video_blocks = driver.find_elements_by_css_selector('h3.style-scope.ytd-grid-video-renderer')\n",
    "\n",
    "for item in tqdm(video_blocks):\n",
    "    \n",
    "    # заголовок видео\n",
    "    video_title = item.find_element_by_tag_name('a').text\n",
    "    \n",
    "    # ссылка\n",
    "    video_page = item.find_element_by_tag_name('a').get_attribute('href')   \n",
    "    \n",
    "    data.append([video_title, video_page])"
   ]
  },
  {
   "cell_type": "code",
   "execution_count": 27,
   "metadata": {},
   "outputs": [],
   "source": [
    "# Записываю в датафрейм\n",
    "\n",
    "head_list = ['video_title', 'video_page']\n",
    "\n",
    "work_links = pd.DataFrame(data, columns=head_list)"
   ]
  },
  {
   "cell_type": "code",
   "execution_count": 28,
   "metadata": {},
   "outputs": [
    {
     "data": {
      "text/html": [
       "<div>\n",
       "<style scoped>\n",
       "    .dataframe tbody tr th:only-of-type {\n",
       "        vertical-align: middle;\n",
       "    }\n",
       "\n",
       "    .dataframe tbody tr th {\n",
       "        vertical-align: top;\n",
       "    }\n",
       "\n",
       "    .dataframe thead th {\n",
       "        text-align: right;\n",
       "    }\n",
       "</style>\n",
       "<table border=\"1\" class=\"dataframe\">\n",
       "  <thead>\n",
       "    <tr style=\"text-align: right;\">\n",
       "      <th></th>\n",
       "      <th>video_title</th>\n",
       "      <th>video_page</th>\n",
       "    </tr>\n",
       "  </thead>\n",
       "  <tbody>\n",
       "    <tr>\n",
       "      <th>2063</th>\n",
       "      <td>Соловьёв LIVE / 7 мая 2020 года</td>\n",
       "      <td>https://www.youtube.com/watch?v=GLFn7o9zu-Y</td>\n",
       "    </tr>\n",
       "    <tr>\n",
       "      <th>2139</th>\n",
       "      <td>Что вы делаете на самоизоляции? / Грушевский и...</td>\n",
       "      <td>https://www.youtube.com/watch?v=MenHmYRn2xY</td>\n",
       "    </tr>\n",
       "    <tr>\n",
       "      <th>497</th>\n",
       "      <td>Американские СМИ УНИЧТОЖИЛИ Байдена за трагеди...</td>\n",
       "      <td>https://www.youtube.com/watch?v=EcEDoMk4Hn0</td>\n",
       "    </tr>\n",
       "  </tbody>\n",
       "</table>\n",
       "</div>"
      ],
      "text/plain": [
       "                                            video_title  \\\n",
       "2063                    Соловьёв LIVE / 7 мая 2020 года   \n",
       "2139  Что вы делаете на самоизоляции? / Грушевский и...   \n",
       "497   Американские СМИ УНИЧТОЖИЛИ Байдена за трагеди...   \n",
       "\n",
       "                                       video_page  \n",
       "2063  https://www.youtube.com/watch?v=GLFn7o9zu-Y  \n",
       "2139  https://www.youtube.com/watch?v=MenHmYRn2xY  \n",
       "497   https://www.youtube.com/watch?v=EcEDoMk4Hn0  "
      ]
     },
     "execution_count": 28,
     "metadata": {},
     "output_type": "execute_result"
    }
   ],
   "source": [
    "work_links.sample(3)"
   ]
  },
  {
   "cell_type": "code",
   "execution_count": 29,
   "metadata": {},
   "outputs": [
    {
     "data": {
      "text/plain": [
       "(2170, 2)"
      ]
     },
     "execution_count": 29,
     "metadata": {},
     "output_type": "execute_result"
    }
   ],
   "source": [
    "work_links.shape"
   ]
  },
  {
   "cell_type": "code",
   "execution_count": null,
   "metadata": {},
   "outputs": [],
   "source": []
  },
  {
   "cell_type": "code",
   "execution_count": null,
   "metadata": {},
   "outputs": [],
   "source": []
  },
  {
   "cell_type": "code",
   "execution_count": 49,
   "metadata": {},
   "outputs": [],
   "source": [
    "(driver\n",
    " .find_element_by_class_name('style-scope.ytd-video-secondary-info-renderer')\n",
    " .find_element_by_id('more')\n",
    ").click()"
   ]
  },
  {
   "cell_type": "code",
   "execution_count": null,
   "metadata": {},
   "outputs": [],
   "source": []
  },
  {
   "cell_type": "code",
   "execution_count": 51,
   "metadata": {},
   "outputs": [
    {
     "data": {
      "text/plain": [
       "'Следующая неделя для россиян станет нерабочей с сохранением зарплаты. Об этом объявил Владимир Путин в обращении к россиянам в связи с распространением коронавируса. Президент также заявил, что всенародное голосование по поправкам в Конституцию переносится на более поздний срок. Глава государства отметил, что приоритет – здоровье граждан. Что будет дальше? Обсудим с экспертами в «Соловьёв LIVE»'"
      ]
     },
     "execution_count": 51,
     "metadata": {},
     "output_type": "execute_result"
    }
   ],
   "source": [
    "# описание\n",
    "\n",
    "driver.find_element_by_class_name('content.style-scope.ytd-video-secondary-info-renderer').text"
   ]
  },
  {
   "cell_type": "code",
   "execution_count": null,
   "metadata": {},
   "outputs": [],
   "source": []
  },
  {
   "cell_type": "code",
   "execution_count": null,
   "metadata": {},
   "outputs": [],
   "source": []
  },
  {
   "cell_type": "code",
   "execution_count": 30,
   "metadata": {},
   "outputs": [],
   "source": [
    "text = driver.page_source"
   ]
  },
  {
   "cell_type": "code",
   "execution_count": 69,
   "metadata": {},
   "outputs": [],
   "source": [
    "need_text = re.findall(r'{\"@context\":\"https://schema.org\",\"@type\":\"VideoObject\".+}', text)"
   ]
  },
  {
   "cell_type": "code",
   "execution_count": 79,
   "metadata": {},
   "outputs": [
    {
     "data": {
      "text/plain": [
       "list"
      ]
     },
     "execution_count": 79,
     "metadata": {},
     "output_type": "execute_result"
    }
   ],
   "source": [
    "type(need_text)"
   ]
  },
  {
   "cell_type": "code",
   "execution_count": 85,
   "metadata": {},
   "outputs": [],
   "source": [
    "description = re.sub(r'.+description\":\"', '', need_text[0])"
   ]
  },
  {
   "cell_type": "code",
   "execution_count": 87,
   "metadata": {},
   "outputs": [],
   "source": [
    "description = re.sub(r'\".+', '', description)"
   ]
  },
  {
   "cell_type": "code",
   "execution_count": 113,
   "metadata": {},
   "outputs": [
    {
     "data": {
      "text/plain": [
       "['uploadDate\":\"2020-03-25\",\"genre\":\"News & Politics\",\"author\":\"Соловьёв LIVE\",\"publication\":[{\"@type\":\"BroadcastEvent\",\"isLiveBroadcast\":true,\"startDate\":\"2020-03-25T18:29:56+00:00\",\"endDate\":\"2020-03-25T19:58:34+00:00\"']"
      ]
     },
     "execution_count": 113,
     "metadata": {},
     "output_type": "execute_result"
    }
   ],
   "source": [
    "re.findall(r'uploadDate\":\".+\"', need_text[0])"
   ]
  },
  {
   "cell_type": "code",
   "execution_count": 100,
   "metadata": {},
   "outputs": [
    {
     "ename": "AttributeError",
     "evalue": "'list' object has no attribute 'replace'",
     "output_type": "error",
     "traceback": [
      "\u001b[1;31m---------------------------------------------------------------------------\u001b[0m",
      "\u001b[1;31mAttributeError\u001b[0m                            Traceback (most recent call last)",
      "\u001b[1;32m<ipython-input-100-cdb755a6943d>\u001b[0m in \u001b[0;36m<module>\u001b[1;34m\u001b[0m\n\u001b[1;32m----> 1\u001b[1;33m \u001b[0mre\u001b[0m\u001b[1;33m.\u001b[0m\u001b[0mfindall\u001b[0m\u001b[1;33m(\u001b[0m\u001b[1;34mr'uploadDate\":\".+'\u001b[0m\u001b[1;33m,\u001b[0m \u001b[0mneed_text\u001b[0m\u001b[1;33m[\u001b[0m\u001b[1;36m0\u001b[0m\u001b[1;33m]\u001b[0m\u001b[1;33m)\u001b[0m\u001b[1;33m.\u001b[0m\u001b[0mreplace\u001b[0m\u001b[1;33m(\u001b[0m\u001b[1;34mr',.+'\u001b[0m\u001b[1;33m,\u001b[0m \u001b[1;34m''\u001b[0m\u001b[1;33m)\u001b[0m\u001b[1;33m\u001b[0m\u001b[1;33m\u001b[0m\u001b[0m\n\u001b[0m",
      "\u001b[1;31mAttributeError\u001b[0m: 'list' object has no attribute 'replace'"
     ]
    }
   ],
   "source": []
  },
  {
   "cell_type": "code",
   "execution_count": null,
   "metadata": {},
   "outputs": [],
   "source": [
    "item.find_element_by_tag_name('a').get_attribute('href')"
   ]
  },
  {
   "cell_type": "code",
   "execution_count": null,
   "metadata": {},
   "outputs": [],
   "source": [
    "data[:-5]"
   ]
  },
  {
   "cell_type": "code",
   "execution_count": null,
   "metadata": {},
   "outputs": [],
   "source": [
    "data[-5:]"
   ]
  },
  {
   "cell_type": "code",
   "execution_count": null,
   "metadata": {},
   "outputs": [],
   "source": []
  },
  {
   "cell_type": "code",
   "execution_count": 33,
   "metadata": {},
   "outputs": [],
   "source": [
    "work_links.to_excel(file_path + 'pomet_urls.xlsx', encoding='utf8', index=False)"
   ]
  }
 ],
 "metadata": {
  "kernelspec": {
   "display_name": "Python 3",
   "language": "python",
   "name": "python3"
  },
  "language_info": {
   "codemirror_mode": {
    "name": "ipython",
    "version": 3
   },
   "file_extension": ".py",
   "mimetype": "text/x-python",
   "name": "python",
   "nbconvert_exporter": "python",
   "pygments_lexer": "ipython3",
   "version": "3.8.8"
  }
 },
 "nbformat": 4,
 "nbformat_minor": 2
}
