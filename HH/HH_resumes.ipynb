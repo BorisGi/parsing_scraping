{
 "cells": [
  {
   "cell_type": "markdown",
   "id": "4b4fc02a",
   "metadata": {},
   "source": [
    "Парсер резюме с hh.\n",
    "Копия паресера вакансий, но без сбора контактов.\n",
    "\n",
    "Парсер доработан 20 октября 2021."
   ]
  },
  {
   "cell_type": "code",
   "execution_count": null,
   "id": "c8005b9b",
   "metadata": {
    "scrolled": true
   },
   "outputs": [],
   "source": [
    "#Загружаю нужные библиотеки\n",
    "\n",
    "import pandas as pd\n",
    "import math\n",
    "\n",
    "import re\n",
    "\n",
    "# для юзер-агента\n",
    "from fake_useragent import UserAgent\n",
    "\n",
    "# прогресс-бар\n",
    "from tqdm.notebook import trange, tqdm\n",
    "\n",
    "# для пауз при парсинге\n",
    "from time import sleep\n",
    "\n",
    "# селениум\n",
    "from selenium import webdriver\n",
    "\n",
    "from selenium.common.exceptions import NoSuchElementException\n",
    "from selenium.webdriver.common.by import By\n",
    "from selenium.webdriver.support.ui import WebDriverWait\n",
    "from selenium.webdriver.support import expected_conditions as EC"
   ]
  },
  {
   "cell_type": "code",
   "execution_count": null,
   "id": "81b17d9e",
   "metadata": {
    "scrolled": true
   },
   "outputs": [],
   "source": [
    "# настройки юзер-агента\n",
    "\n",
    "ua = UserAgent()\n",
    "\n",
    "# юзер-агент для Хрома\n",
    "user_agent = ua.chrome"
   ]
  },
  {
   "cell_type": "code",
   "execution_count": null,
   "id": "e0589f81",
   "metadata": {
    "scrolled": true
   },
   "outputs": [],
   "source": [
    "# тестовая страница для Селениума\n",
    "\n",
    "test_url = 'https://intoli.com/blog/not-possible-to-block-chrome-headless/chrome-headless-test.html'"
   ]
  },
  {
   "cell_type": "code",
   "execution_count": null,
   "id": "7a184ad7",
   "metadata": {
    "scrolled": true
   },
   "outputs": [],
   "source": [
    "# настройки веб-драйвера, чтобы скрыть автоматическое управление\n",
    "\n",
    "opt = webdriver.ChromeOptions()\n",
    "opt.add_argument(f'user-agent={user_agent}')\n",
    "opt.add_argument('--disable-blink-features')\n",
    "opt.add_argument('--disable-blink-features=AutomationControlled')\n",
    "opt.add_argument('--proxy-server=194.67.193.186:25185') # \"девственный\" прокси(:\n",
    "opt.add_experimental_option(\"excludeSwitches\", [\"enable-automation\"]) # отключает строку про удаленное управление\n",
    "opt.add_experimental_option('useAutomationExtension', False)"
   ]
  },
  {
   "cell_type": "code",
   "execution_count": null,
   "id": "cd043464",
   "metadata": {
    "scrolled": true
   },
   "outputs": [],
   "source": [
    "# запускаю драйвер, проверяю настройки\n",
    "\n",
    "driver = webdriver.Chrome(options=opt)\n",
    "driver.get(test_url)"
   ]
  },
  {
   "cell_type": "code",
   "execution_count": null,
   "id": "cdb2aaf5",
   "metadata": {
    "scrolled": true
   },
   "outputs": [],
   "source": [
    "# администратор стоматологии / Медицина, фармацевтика\n",
    "url_part_1 = 'https://hh.ru/search/resume?area=113&clusters=true&exp_period=all_time&label=only_with_salary&logic=normal&no_magic=true&order_by=relevance&ored_clusters=true&pos=full_text&specialization=13.185&specialization=13.227&specialization=13.433&specialization=13.732&text='\n",
    "\n",
    "url_part_2 = '&items_on_page=100&page='\n",
    "\n",
    "resume_queries = ['Администратор+стоматологии', 'Администратор+стоматологической+клиники']"
   ]
  },
  {
   "cell_type": "markdown",
   "id": "f00cea1e",
   "metadata": {},
   "source": [
    "Кол-во страниц, вытаскиваю из блока внизу (переход по ссылкам).\n",
    "\n",
    "На hh пагинация страниц начинается с нуля, а номер последней страницы всегда перед кнопкой \"Дальше\".\n",
    "\n",
    "Чтобы не грузить первую страницу 2 раза, сначала собираю ссылки на ней, а потом перебираю циклом оставшиеся и собираю ссылки тем же скриптом.\n",
    "\n",
    "Собираю заголовки на первом этапе, поскольку верстка страниц резюме у hh неудобная."
   ]
  },
  {
   "cell_type": "code",
   "execution_count": null,
   "id": "96eb627f",
   "metadata": {},
   "outputs": [],
   "source": [
    "# собираю ссылки\n",
    "\n",
    "data = [] # список для данных\n",
    "\n",
    "for query in tqdm(resume_queries): # цикл для перебора запросов\n",
    "    driver.get(url_part_1 + query + url_part_2 + '0')\n",
    "    sleep(3)\n",
    "      \n",
    "    page_number = int((driver.find_element_by_class_name('pager')\n",
    "                       .find_element_by_class_name('bloko-button-group')\n",
    "                       .text\n",
    "                       .replace('.', '').replace('\\nдальше', '')\n",
    "                       .split('\\n'))[-1]\n",
    "                     )\n",
    "    # забираю ссылки с первой страницы \n",
    "    all_urls = driver.find_elements_by_css_selector('a.resume-search-item__name') # забираю ссылки\n",
    "\n",
    "    for url_page in all_urls: # разбираю ссылки и добавляю в список\n",
    "        \n",
    "        topic = url_page.text # заголовок\n",
    "        link = [re.sub('\\?query=(.)+', '', url_page.get_attribute('href'))] # сама ссылка\n",
    "        data.append([topic, link]) # добавляю в список\n",
    "\n",
    "        \n",
    "    for i in range(1, page_number):\n",
    "        driver.get(url_part_1 + query + url_part_2 + str(i))\n",
    "        sleep(3)\n",
    "        \n",
    "        # забираю ссылки тем же кодом\n",
    "        all_urls = driver.find_elements_by_css_selector('a.resume-search-item__name')\n",
    "        \n",
    "        for url_page in all_urls: # разбираю ссылки и добавляю в список\n",
    "            topic = url_page.text # заголовок\n",
    "            link = [re.sub('\\?query=(.)+', '', url_page.get_attribute('href'))] # сама ссылка\n",
    "            data.append([topic, link]) # добавляю в список"
   ]
  },
  {
   "cell_type": "code",
   "execution_count": null,
   "id": "52f8a17d",
   "metadata": {
    "scrolled": true
   },
   "outputs": [],
   "source": [
    "# преобразовываю в датафрейм\n",
    "\n",
    "head = ['topic', 'link']\n",
    "work_link = pd.DataFrame(data, columns=head)"
   ]
  },
  {
   "cell_type": "code",
   "execution_count": null,
   "id": "fd5430c7",
   "metadata": {},
   "outputs": [],
   "source": [
    "work_link.head()"
   ]
  },
  {
   "cell_type": "code",
   "execution_count": null,
   "id": "5138c414",
   "metadata": {
    "scrolled": true
   },
   "outputs": [],
   "source": [
    "# проверяю, нет ли повторов\n",
    "\n",
    "work_link.shape"
   ]
  },
  {
   "cell_type": "markdown",
   "id": "68259d60",
   "metadata": {},
   "source": [
    "Руками выкинул \"лишние\" вакансии."
   ]
  },
  {
   "cell_type": "code",
   "execution_count": null,
   "id": "fe02b1ed",
   "metadata": {},
   "outputs": [],
   "source": [
    "#work_link.to_excel('C:/00_Data/Клиники_вакансии/hh_resume_links.xlsx', encoding='utf-8', index=False)"
   ]
  },
  {
   "cell_type": "code",
   "execution_count": null,
   "id": "ff4d77f3",
   "metadata": {},
   "outputs": [],
   "source": [
    "#work_link = pd.read_excel('C:/00_Data/Клиники_вакансии/hh_resume_links.xlsx', sheet_name='data_2')"
   ]
  },
  {
   "cell_type": "markdown",
   "id": "9f99bb00",
   "metadata": {},
   "source": [
    "Собираю название резюме, ожидаемый размер ЗП, краткую информацию.\n",
    "Также полный текст резюме (но сейчас он мне не нужен, поэтому не разбираю)"
   ]
  },
  {
   "cell_type": "code",
   "execution_count": null,
   "id": "cd006a0e",
   "metadata": {
    "scrolled": true
   },
   "outputs": [],
   "source": [
    "data = [] # список для данных\n",
    "\n",
    "for item in tqdm(range(work_link.shape[0])): # цикл для перехода по ссылкам    \n",
    "    driver.get(work_link.iloc[item].link)\n",
    "    sleep(3)    \n",
    "    driver.implicitly_wait(5) # неявное ожидание, на случай, если страница будет долго грузиться\n",
    "    \n",
    "    try: # заголовок вакансии\n",
    "        topic = work_link.iloc[item].topic\n",
    "            \n",
    "    except:\n",
    "        topic = 'none'\n",
    "        \n",
    "        \n",
    "    try: # размер предлагаемой зп\n",
    "        salary = (\n",
    "            driver.find_element_by_class_name('resume-block-container')\n",
    "            .find_element_by_tag_name('h2')\n",
    "            .text\n",
    "            .replace('\\u2009', '')\n",
    "            .replace(' руб.', '')\n",
    "        )\n",
    "    \n",
    "    except:\n",
    "        salary = 'none'\n",
    "        \n",
    "    \n",
    "    try: # краткая информация о соискателе\n",
    "        summary = driver.find_element_by_class_name('resume-header-title').text.split('\\n')\n",
    "        \n",
    "    except:\n",
    "        summary = 'none'\n",
    "        \n",
    "    try: # адрес\n",
    "        full_resume = driver.find_element_by_class_name('resume-wrapper').text\n",
    "        \n",
    "    except:\n",
    "        full_resume = 'none'\n",
    "        \n",
    "        \n",
    "    data.append([topic, salary, summary, full_resume])"
   ]
  },
  {
   "cell_type": "code",
   "execution_count": null,
   "id": "34745e1a",
   "metadata": {
    "scrolled": true
   },
   "outputs": [],
   "source": [
    "# преобразовываю в датафрейм\n",
    "\n",
    "head = ['topic', 'salary', 'summary', 'full_resume']\n",
    "work = pd.DataFrame(data, columns=head)"
   ]
  },
  {
   "cell_type": "code",
   "execution_count": null,
   "id": "455ab4a0",
   "metadata": {
    "scrolled": true
   },
   "outputs": [],
   "source": [
    "work.head()"
   ]
  },
  {
   "cell_type": "code",
   "execution_count": null,
   "id": "015f4502",
   "metadata": {
    "scrolled": true
   },
   "outputs": [],
   "source": [
    "# Записываю в файл\n",
    "\n",
    "work.to_excel('C:/00_Data/Клиники_вакансии/hh_resume_25_10_2021.xlsx', encoding='utf-8', index=False)"
   ]
  },
  {
   "cell_type": "code",
   "execution_count": null,
   "id": "59a2fe1a",
   "metadata": {
    "scrolled": true
   },
   "outputs": [],
   "source": [
    "driver.quit()"
   ]
  },
  {
   "cell_type": "code",
   "execution_count": null,
   "id": "7f166884",
   "metadata": {
    "scrolled": true
   },
   "outputs": [],
   "source": []
  }
 ],
 "metadata": {
  "kernelspec": {
   "display_name": "Python 3",
   "language": "python",
   "name": "python3"
  },
  "language_info": {
   "codemirror_mode": {
    "name": "ipython",
    "version": 3
   },
   "file_extension": ".py",
   "mimetype": "text/x-python",
   "name": "python",
   "nbconvert_exporter": "python",
   "pygments_lexer": "ipython3",
   "version": "3.8.8"
  }
 },
 "nbformat": 4,
 "nbformat_minor": 5
}
