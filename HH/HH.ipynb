{
 "cells": [
  {
   "cell_type": "markdown",
   "id": "4b4fc02a",
   "metadata": {},
   "source": [
    "Парсер вакансий hh\n",
    "\n",
    "Последние правки: 2022-02-06"
   ]
  },
  {
   "cell_type": "code",
   "execution_count": null,
   "id": "e7274af0",
   "metadata": {},
   "outputs": [],
   "source": []
  },
  {
   "cell_type": "markdown",
   "id": "11c114c6",
   "metadata": {},
   "source": [
    "## Библиотеки и настройки"
   ]
  },
  {
   "cell_type": "code",
   "execution_count": null,
   "id": "c8005b9b",
   "metadata": {},
   "outputs": [],
   "source": [
    "#Загружаю нужные библиотеки\n",
    "\n",
    "import pandas as pd\n",
    "import math\n",
    "\n",
    "import datetime\n",
    "\n",
    "# регулярки\n",
    "import re\n",
    "\n",
    "\n",
    "# для юзер-агента\n",
    "from fake_useragent import UserAgent\n",
    "\n",
    "# прогресс-бар\n",
    "from tqdm.notebook import trange, tqdm\n",
    "\n",
    "# для пауз при парсинге\n",
    "from time import sleep\n",
    "\n",
    "# селениум\n",
    "from selenium import webdriver\n",
    "from selenium.webdriver.chrome.service import Service\n",
    "\n",
    "from selenium.common.exceptions import NoSuchElementException\n",
    "from selenium.webdriver.common.by import By\n",
    "from selenium.webdriver.support.ui import WebDriverWait\n",
    "from selenium.webdriver.support import expected_conditions as EC"
   ]
  },
  {
   "cell_type": "code",
   "execution_count": null,
   "id": "81b17d9e",
   "metadata": {},
   "outputs": [],
   "source": [
    "# настройки юзер-агента\n",
    "\n",
    "ua = UserAgent()\n",
    "\n",
    "# юзер-агент для Хрома\n",
    "user_agent = ua.chrome"
   ]
  },
  {
   "cell_type": "code",
   "execution_count": null,
   "id": "e0589f81",
   "metadata": {},
   "outputs": [],
   "source": [
    "# тестовая страница для Селениума\n",
    "\n",
    "test_url = 'https://intoli.com/blog/not-possible-to-block-chrome-headless/chrome-headless-test.html'"
   ]
  },
  {
   "cell_type": "code",
   "execution_count": null,
   "id": "78cb35f6",
   "metadata": {},
   "outputs": [],
   "source": [
    "# путь к файлам\n",
    "\n",
    "file_path = 'C:/00_Data/stom/'\n",
    "proxy_list_path = 'C:/work/keys/proxy_list.txt' # путь и названия со списком прокси"
   ]
  },
  {
   "cell_type": "code",
   "execution_count": null,
   "id": "a5d5673e",
   "metadata": {},
   "outputs": [],
   "source": [
    "# загружаю список прокси\n",
    "# список простой текстовый файл, который содержит прокси в формате: адрес:порт логин:пароль\n",
    "\n",
    "proxy_list = []\n",
    "\n",
    "with open(proxy_list_path, 'r') as f:\n",
    "    for line in f:\n",
    "        proxy_list += [line.split()]\n",
    "        \n",
    "print('Рабочих прокси — ' + str(len(proxy_list)))"
   ]
  },
  {
   "cell_type": "code",
   "execution_count": null,
   "id": "affc8f9d",
   "metadata": {},
   "outputs": [],
   "source": [
    "# номер прокси\n",
    "\n",
    "print('Номер прокси, от 0 до ' + str(len(proxy_list) - 1))\n",
    "proxy_number = int(input())"
   ]
  },
  {
   "cell_type": "code",
   "execution_count": null,
   "id": "dab75db7",
   "metadata": {},
   "outputs": [],
   "source": [
    "# настройки веб-драйвера, чтобы скрыть автоматическое управление\n",
    "\n",
    "opt = webdriver.ChromeOptions()\n",
    "opt.add_argument(f'user-agent={user_agent}')\n",
    "opt.add_argument('--disable-blink-features')\n",
    "opt.add_argument('--disable-blink-features=AutomationControlled')\n",
    "opt.add_argument(f'--proxy-server={proxy_list[proxy_number][0]}') # \"девственный\" прокси(:\n",
    "opt.add_experimental_option(\"excludeSwitches\", [\"enable-automation\"]) # отключает строку про удаленное управление\n",
    "opt.add_experimental_option('useAutomationExtension', False)"
   ]
  },
  {
   "cell_type": "code",
   "execution_count": null,
   "id": "efe91c63",
   "metadata": {},
   "outputs": [],
   "source": [
    "print('Login: ' + proxy_list[proxy_number][1])\n",
    "print('Pass: ' + proxy_list[proxy_number][2])"
   ]
  },
  {
   "cell_type": "code",
   "execution_count": null,
   "id": "60aba6c1",
   "metadata": {},
   "outputs": [],
   "source": [
    "# запускаю драйвер, проверяю настройки\n",
    "\n",
    "#s=Service('C:/Users/bgi/Anaconda3/chromedriver/chromedriver.exe')\n",
    "#driver = webdriver.Chrome(service=s, options=opt)\n",
    "\n",
    "driver = webdriver.Chrome(options=opt)\n",
    "driver.get(test_url)\n",
    "driver.maximize_window() # раскрываю окно на максимум"
   ]
  },
  {
   "cell_type": "code",
   "execution_count": null,
   "id": "8f43f1c5",
   "metadata": {},
   "outputs": [],
   "source": []
  },
  {
   "cell_type": "markdown",
   "id": "6ae690ba",
   "metadata": {},
   "source": [
    "## Собираю ссылки на вакансии"
   ]
  },
  {
   "cell_type": "code",
   "execution_count": null,
   "id": "cdb2aaf5",
   "metadata": {},
   "outputs": [],
   "source": [
    "# администратор стоматологии / Медицина, фармацевтика\n",
    "url_part_1 = 'https://hh.ru/search/vacancy?clusters=true&area=113&ored_clusters=true&label=not_from_agency&search_field=name&enable_snippets=true&salary=&text='\n",
    "\n",
    "url_part_2 = '&from=suggest_post&page='\n",
    "\n",
    "vacancy_queries = ['Администратор+стоматологической+клиники', 'Администратор+стоматологии']\n"
   ]
  },
  {
   "cell_type": "markdown",
   "id": "f00cea1e",
   "metadata": {},
   "source": [
    "Кол-во страниц, вытаскиваю из блока внизу (переход по ссылкам).\n",
    "\n",
    "На hh пагинация страниц начинается с нуля, а номер последней страницы всегда перед кнопкой \"Дальше\".\n",
    "\n",
    "Чтобы не грузить первую страницу 2 раза, сначала собираю ссылки на ней, а потом перебираю циклом оставшиеся и собираю ссылки тем же скриптом."
   ]
  },
  {
   "cell_type": "code",
   "execution_count": null,
   "id": "aa666d5e",
   "metadata": {},
   "outputs": [],
   "source": [
    "#\n",
    "\n",
    "links = [] # список для ссылок на страницы\n",
    "\n",
    "for query in tqdm(vacancy_queries): # цикл для перебора запросов\n",
    "    driver.get(url_part_1 + query + url_part_2 + '0')\n",
    "    sleep(3)\n",
    "    \n",
    "    # вытаскиваю количество объявлений\n",
    "    vacancy_number = (driver.find_element(By.TAG_NAME, 'div[data-qa=\"vacancies-search-header\"]')\n",
    "                   .find_element(By.TAG_NAME, 'h1')\n",
    "                   .text)\n",
    "    \n",
    "    # считаю количество страниц\n",
    "    vacancy_number = int(re.sub(r'\\D', '', vacancy_number))\n",
    "    page_number = math.ceil(vacancy_number / 50)\n",
    "    \n",
    "    # забираю ссылки с первой страницы \n",
    "    all_urls = driver.find_elements(By.TAG_NAME, 'a.bloko-link[data-qa=\"vacancy-serp__vacancy-title\"]') # забираю ссылки\n",
    "\n",
    "    for url_page in all_urls: # разбираю ссылки и добавляю в список\n",
    "        links += [re.sub('\\?from=(.)+', '', url_page.get_attribute('href'))]\n",
    "        \n",
    "    for i in range(1, page_number):\n",
    "        driver.get(url_part_1 + query + url_part_2 + str(i))\n",
    "        sleep(3)\n",
    "        \n",
    "        # забираю ссылки тем же кодом\n",
    "        all_urls = driver.find_elements(By.TAG_NAME, 'a.bloko-link[data-qa=\"vacancy-serp__vacancy-title\"]')\n",
    "        \n",
    "        for url_page in all_urls: # разбираю ссылки и добавляю в список\n",
    "            links += [re.sub('\\?from=(.)+', '', url_page.get_attribute('href'))]"
   ]
  },
  {
   "cell_type": "code",
   "execution_count": null,
   "id": "52f8a17d",
   "metadata": {},
   "outputs": [],
   "source": [
    "len(links)"
   ]
  },
  {
   "cell_type": "code",
   "execution_count": null,
   "id": "5138c414",
   "metadata": {},
   "outputs": [],
   "source": [
    "# проверяю, нет ли повторов\n",
    "\n",
    "len(list(set(links)))"
   ]
  },
  {
   "cell_type": "code",
   "execution_count": null,
   "id": "fca770da",
   "metadata": {},
   "outputs": [],
   "source": [
    "links = list(set(links))"
   ]
  },
  {
   "cell_type": "code",
   "execution_count": null,
   "id": "ced22dd8",
   "metadata": {},
   "outputs": [],
   "source": [
    "links[:2]"
   ]
  },
  {
   "cell_type": "code",
   "execution_count": null,
   "id": "50292cce",
   "metadata": {},
   "outputs": [],
   "source": []
  },
  {
   "cell_type": "markdown",
   "id": "bdbbe808",
   "metadata": {},
   "source": [
    "## Код парсера"
   ]
  },
  {
   "cell_type": "code",
   "execution_count": null,
   "id": "cd006a0e",
   "metadata": {},
   "outputs": [],
   "source": [
    "data = [] # список для данных\n",
    "\n",
    "for link in tqdm(links): # цикл для перехода по ссылкам\n",
    "    \n",
    "    sleep(3) # пауза перед\n",
    "    driver.get(link)\n",
    "    driver.implicitly_wait(5) # неявное ожидание, на случай, если страница будет долго грузиться\n",
    "    \n",
    "    try: # заголовок вакансии\n",
    "        topic = driver.find_element(By.TAG_NAME, 'h1').text\n",
    "           \n",
    "    except:\n",
    "        topic = 'none'\n",
    "        \n",
    "        \n",
    "    try: # размер предлагаемой зп\n",
    "        salary = driver.find_element(By.TAG_NAME, 'div[data-qa=\"vacancy-salary\"]').text\n",
    "    \n",
    "    except:\n",
    "        salary = 'none'\n",
    "        \n",
    "    \n",
    "    try: # название клиники\n",
    "        clinic = driver.find_element(By.TAG_NAME, 'a[data-qa=\"vacancy-company-name\"]').text\n",
    "        \n",
    "    except:\n",
    "        clinic = 'none'\n",
    "        \n",
    "    try: # адрес\n",
    "        address = driver.find_element(By.TAG_NAME, 'span[data-qa=vacancy-view-raw-address]').text\n",
    "        \n",
    "    except:\n",
    "        address = 'none'\n",
    "        \n",
    "    try: # текст объявления\n",
    "        ads_text = driver.find_element(By.CLASS_NAME, 'g-user-content').text\n",
    "                           \n",
    "    except:\n",
    "        ads_text = 'none'\n",
    "        \n",
    "    try: # Контакты. Раскрываю скрытые поля\n",
    "        driver.find_element(By.CLASS_NAME, 'vacancy-contacts').find_element(By.CLASS_NAME, 'bloko-link-switch').click()\n",
    "        \n",
    "        try:\n",
    "            address_2 = driver.find_element(By.TAG_NAME, 'span[data-qa=vacancy-view-raw-address]').text\n",
    "            \n",
    "        except:\n",
    "            address_2 = 'none'\n",
    "        \n",
    "        try: # беру имя контактного лица\n",
    "            contact_name = driver.find_element(By.TAG_NAME, 'p[data-qa=\"vacancy-contacts__fio\"]').text\n",
    "            \n",
    "        except:\n",
    "            contact_name = 'none'\n",
    "            \n",
    "        try: # беру e-mail\n",
    "            contact_email = driver.find_element(By.TAG_NAME, 'a[data-qa=\"vacancy-contacts__email\"]').text\n",
    "            \n",
    "        except:\n",
    "            contact_email = 'none'\n",
    "            \n",
    "        try: # беру телефон\n",
    "            phone = driver.find_element(By.TAG_NAME, 'p[data-qa=\"vacancy-contacts__phone\"]').text\n",
    "            \n",
    "        except:\n",
    "            phone = 'none'\n",
    "            \n",
    "    except:\n",
    "        address_2 = 'none'\n",
    "        contact_name = 'none'\n",
    "        contact_email = 'none'\n",
    "        phone = 'none'\n",
    "        \n",
    "        \n",
    "    try: # дата создания вакансии\n",
    "        ad_date = driver.find_element(By.CLASS_NAME, 'vacancy-creation-time').text\n",
    "        \n",
    "    except:\n",
    "        ad_date = 'none'\n",
    "        \n",
    "        \n",
    "    data.append([topic, salary, clinic, address, address_2, ads_text, contact_name, contact_email, phone, ad_date, link])"
   ]
  },
  {
   "cell_type": "code",
   "execution_count": null,
   "id": "34745e1a",
   "metadata": {},
   "outputs": [],
   "source": [
    "# преобразовываю в датафрейм\n",
    "\n",
    "head = ['topic', 'salary', 'clinic', 'address', 'address_2', 'ads_text', 'contact_name', 'contact_email', 'phone', 'ad_date', 'link']\n",
    "\n",
    "work_data = pd.DataFrame(data, columns=head)"
   ]
  },
  {
   "cell_type": "code",
   "execution_count": null,
   "id": "3162f6fd",
   "metadata": {},
   "outputs": [],
   "source": [
    "work_data.shape"
   ]
  },
  {
   "cell_type": "code",
   "execution_count": null,
   "id": "455ab4a0",
   "metadata": {},
   "outputs": [],
   "source": [
    "work_data.head()"
   ]
  },
  {
   "cell_type": "code",
   "execution_count": null,
   "id": "c2f52943",
   "metadata": {},
   "outputs": [],
   "source": [
    "current_date = datetime.datetime.now().strftime('%Y_%m_%d')"
   ]
  },
  {
   "cell_type": "code",
   "execution_count": null,
   "id": "015f4502",
   "metadata": {},
   "outputs": [],
   "source": [
    "# Записываю в файл\n",
    "\n",
    "work_data.to_excel(file_path + 'hh_' + current_date + '.xlsx', encoding='utf-8', index=False)"
   ]
  },
  {
   "cell_type": "code",
   "execution_count": null,
   "id": "59a2fe1a",
   "metadata": {},
   "outputs": [],
   "source": [
    "driver.quit()"
   ]
  },
  {
   "cell_type": "code",
   "execution_count": null,
   "id": "7f166884",
   "metadata": {},
   "outputs": [],
   "source": []
  }
 ],
 "metadata": {
  "kernelspec": {
   "display_name": "Python 3",
   "language": "python",
   "name": "python3"
  },
  "language_info": {
   "codemirror_mode": {
    "name": "ipython",
    "version": 3
   },
   "file_extension": ".py",
   "mimetype": "text/x-python",
   "name": "python",
   "nbconvert_exporter": "python",
   "pygments_lexer": "ipython3",
   "version": "3.8.8"
  }
 },
 "nbformat": 4,
 "nbformat_minor": 5
}
