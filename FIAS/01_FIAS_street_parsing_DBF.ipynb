{
 "cells": [
  {
   "cell_type": "markdown",
   "metadata": {},
   "source": [
    "Скрипт вытаскивает из базы ФИАС улицы, населенные пункты и муниципальные районы и делает их них \"плоскую\" таблицу\n",
    "\n",
    "Регион добавляю из отдельного файла, м.о. и город определяю по расщепленному коду ФИАС (plaincode).\n",
    "\n",
    "На выходе получается 3 датасета: муниципальные районы, города и села, улицы.\n",
    "\n",
    "Это отладочный код, на примере любого региона, лучше брать регион пожирнее, например Московскую область.\n",
    "\n",
    "Автоматический код в — 02_FIAS_street_auto\n",
    "\n",
    "Дата: авг. 2020, доработки сентябрь 2021."
   ]
  },
  {
   "cell_type": "markdown",
   "metadata": {},
   "source": [
    "**ФИАС перестал выкладывать обновления в формате DBF с сентября 2021.**"
   ]
  },
  {
   "cell_type": "code",
   "execution_count": null,
   "metadata": {},
   "outputs": [],
   "source": [
    "# загружаю нужные библиотеки\n",
    "\n",
    "# панды\n",
    "import pandas as pd\n",
    "\n",
    "# для чтения базы \n",
    "from dbfread import DBF"
   ]
  },
  {
   "cell_type": "code",
   "execution_count": null,
   "metadata": {},
   "outputs": [],
   "source": [
    "# оключаю предупреждения\n",
    "\n",
    "pd.options.mode.chained_assignment = None  # default='warn'"
   ]
  },
  {
   "cell_type": "markdown",
   "metadata": {},
   "source": [
    "### Федеральная информационная адресная система (ФИАС) ###\n",
    "\n",
    "Единый российский государственный адресный реестр\n",
    "\n",
    "Источник: ФНС России\n",
    "\n",
    "Последняя версия: **https://fias.nalog.ru/Updates**, формат DBF."
   ]
  },
  {
   "cell_type": "markdown",
   "metadata": {},
   "source": [
    "### Описание данных: ###"
   ]
  },
  {
   "cell_type": "markdown",
   "metadata": {},
   "source": [
    "**ACTSTATUS** - Статус последней исторической записи в жизненном цикле адресного объекта:\n",
    "- 0 – Не последняя;\n",
    "- 1 - Последняя\n",
    "\n",
    "**AOGUID** - глобальный уникальный идентификатор адресного объекта\n",
    "\n",
    "**AOID** - уникальный идентификатор записи (версии). Меняется при изменении адреса.\n",
    "\n",
    "**AOLEVEL** - уровень адресного объекта\n",
    "- 1 – регион\n",
    "- 3 - муниципальный район\n",
    "- 4 - город\n",
    "- 6 – населенный пункт\n",
    "- 7 – улица\n",
    "- 65 – планировочная структура\n",
    "- 90 – дополнительные территории (устаревшее)\n",
    "\n",
    "**AREACODE** - Код района\n",
    "\n",
    "**AUTOCODE** - Код автономии\n",
    "\n",
    "**CENTSTATUS** - Статус центра\n",
    "\n",
    "**CITYCODE** - Код города\n",
    "\n",
    "**CODE** - Код адресного элемента одной строкой с признаком актуальности из классификационного кода\n",
    "\n",
    "**CURRSTATUS** - Статус актуальности КЛАДР 4 (последние две цифры в коде)\n",
    "\n",
    "**ENDDATE** - Окончание действия записи\n",
    "\n",
    "**FORMALNAME** - Формализованное наименование\n",
    "\n",
    "**IFNSFL** - Код ИФНС ФЛ\n",
    "\n",
    "**IFNSUL** - Код ИФНС ЮЛ\n",
    "\n",
    "**NEXTID** - Идентификатор записи  связывания с последующей исторической записью\n",
    "\n",
    "**OFFNAME** - Официальное наименование\n",
    "\n",
    "**OKATO** - ОКАТО\n",
    "\n",
    "**OKTMO** - ОКТМО\n",
    "\n",
    "**OPERSTATUS** - Статус действия над записью – причина появления записи (см. OperationStatuses )\n",
    "\n",
    "**PARENTGUID** - Идентификатор объекта родительского объекта\n",
    "\n",
    "**PLACECODE** - Код населенного пункта\n",
    "\n",
    "**PLAINCODE** - Код адресного элемента одной строкой без признака актуальности (последних двух цифр)\n",
    "\n",
    "**POSTALCODE** - Почтовый индекс\n",
    "\n",
    "**PREVID** - Идентификатор записи связывания с предыдущей исторической записью. = AOID предыдущей записи.\n",
    "\n",
    "**REGIONCODE** - Код региона\n",
    "\n",
    "**SHORTNAME** - Краткое наименование типа объекта\n",
    "\n",
    "**STARTDATE** - Начало действия записи\n",
    "\n",
    "**STREETCODE** - Код улицы\n",
    "\n",
    "**TERRIFNSFL** - Код территориального участка ИФНС ФЛ\n",
    "\n",
    "**TERRIFNSUL** - Код территориального участка ИФНС ЮЛ\n",
    "\n",
    "**UPDATEDATE** - Дата  внесения (обновления) записи\n",
    "\n",
    "**CTARCODE** - Код внутригородского района\n",
    "\n",
    "**EXTRCODE** - Код дополнительного адресообразующего элемента\n",
    "\n",
    "**SEXTCODE** - Код подчиненного дополнительного адресообразующего элемента\n",
    "\n",
    "**LIVESTATUS** - Статус актуальности адресного объекта ФИАС на текущую дату:\n",
    "- 0 – Не актуальный\n",
    "- 1 - Актуальный\n",
    " \n",
    "**NORMDOC** - Внешний ключ на нормативный документ\n",
    "\n",
    "**PLANCODE** - Код элемента планировочной структуры\n",
    "\n",
    "**CADNUM** - Кадастровый номер\n",
    "\n",
    "**DIVTYPE** - Тип деления:\n",
    "- 0 – не определено\n",
    "- 1 – муниципальное\n",
    "- 2 – административное"
   ]
  },
  {
   "cell_type": "markdown",
   "metadata": {},
   "source": [
    "### Кодировка региона ###\n",
    "\n",
    "Код адреса включает:\n",
    "\n",
    "СС+РРР+ГГГ+ППП+СССС+УУУУ+ДДДД (или ЗЗЗЗ)+ОООО, где:\n",
    "\n",
    "- **СС** – код субъекта Российской Федерации  – региона\n",
    "- **РРР** – код района;\n",
    "- **ГГГ** – код города;\n",
    "- **ППП** код населенного пункта;\n",
    "- **СССС** - код элемента планировочной структуры;\n",
    "- **УУУУ** - код улицы;\n",
    "- **ДДДД** (или **ЗЗЗЗ**).  ДДДД  тип и номер здания, сооружения, объекта незавершенного строительства в случае адресации домов. ЗЗЗЗ - номер земельного участка в случае адресации земельных участков;\n",
    "- **ОООО** - тип и номер помещения в пределах здания, сооружения\n",
    "Таким образом, каждому уровню классификации соответствует фасет кода."
   ]
  },
  {
   "cell_type": "markdown",
   "metadata": {},
   "source": [
    "**Пример 1**\n",
    "\n",
    "Берем PLAINCODE (тот же CODE, но без двух последних цифр, обозначающих актуальность).\n",
    "\n",
    "320180000580002 и разбиваем\n",
    "\n",
    "REGIONCODE - 32 - Брянская область\n",
    "\n",
    "AREACODE - 018 - Новозыбковский район\n",
    "\n",
    "CITYCODE - 000 - нет\n",
    "\n",
    "PLACECODE - 058 - с. Старый Вышков\n",
    "\n",
    "STREETCODE - 0002 - ул. Ленина"
   ]
  },
  {
   "cell_type": "markdown",
   "metadata": {},
   "source": [
    "**Пример 2**\n",
    "\n",
    "320000040000081\n",
    "\n",
    "REGIONCODE - 32 - Брянская область\n",
    "\n",
    "AREACODE - 000 - района нет, город областного подчинения\n",
    "\n",
    "CITYCODE - 004 - Новозыбков\n",
    "\n",
    "PLACECODE - 000 - none\n",
    "\n",
    "STREETCODE - 0081 - ул. Ленина"
   ]
  },
  {
   "cell_type": "markdown",
   "metadata": {},
   "source": [
    "Послений параметр варьируется (STREETCODE / PLANCODE )\n",
    "\n",
    "**Пример 3**\n",
    "\n",
    "320050000010122\n",
    "\n",
    "\n",
    "REGIONCODE - 32 - Брянская область\n",
    "\n",
    "AREACODE - 005 - Дубровский район\n",
    "\n",
    "CITYCODE - 000 - none\n",
    "\n",
    "PLACECODE - 001 - рп Дубровка\n",
    "\n",
    "PLANCODE - 0122 - гаражи по улице Ленина Блок 1"
   ]
  },
  {
   "cell_type": "code",
   "execution_count": null,
   "metadata": {},
   "outputs": [],
   "source": []
  },
  {
   "cell_type": "markdown",
   "metadata": {},
   "source": [
    "Содержание датафреймов:\n",
    "\n",
    "**data** - полный датасет (только актуальные значения, LIVESTATUS - 1)\n",
    "\n",
    "**work** - рабочие сеты, дополненные и отфильтрованные "
   ]
  },
  {
   "cell_type": "code",
   "execution_count": null,
   "metadata": {},
   "outputs": [],
   "source": [
    "# читаю файл\n",
    "\n",
    "dbf = DBF('C:/FIAS/ADDROB91.DBF') # номер соответвует коду региона\n",
    "data = pd.DataFrame(dbf)"
   ]
  },
  {
   "cell_type": "code",
   "execution_count": null,
   "metadata": {},
   "outputs": [],
   "source": [
    "# фильтрую данные, оставляю только актуальные адреса LIVESTATUS = 1\n",
    "\n",
    "data = data[data.LIVESTATUS == 1]"
   ]
  },
  {
   "cell_type": "code",
   "execution_count": null,
   "metadata": {},
   "outputs": [],
   "source": [
    "data.shape"
   ]
  },
  {
   "cell_type": "code",
   "execution_count": null,
   "metadata": {},
   "outputs": [],
   "source": [
    "# удаляю возможные дубликаты, т.е. полностью идентичные записи\n",
    "\n",
    "data = data.drop_duplicates()"
   ]
  },
  {
   "cell_type": "code",
   "execution_count": null,
   "metadata": {},
   "outputs": [],
   "source": [
    "data.shape"
   ]
  },
  {
   "cell_type": "code",
   "execution_count": null,
   "metadata": {},
   "outputs": [],
   "source": [
    "# названия столбцов оригинального файла\n",
    "\n",
    "all_columns = list(data)\n",
    "print(all_columns)"
   ]
  },
  {
   "cell_type": "markdown",
   "metadata": {},
   "source": [
    "#### all_columns, сгруппированные по содержанию: ####\n",
    "\n",
    "**Статус записи**: 'ACTSTATUS', 'CURRSTATUS', 'LIVESTATUS', 'OPERSTATUS'\n",
    "\n",
    "\n",
    "**Дата записи**: 'STARTDATE', 'ENDDATE', 'UPDATEDATE'\n",
    "\n",
    "\n",
    "**Название объекта**: 'FORMALNAME', 'OFFNAME'\n",
    "\n",
    "\n",
    "**Тип объекта**: 'SHORTNAME', 'AOLEVEL'\n",
    "\n",
    "\n",
    "фасетный код\n",
    "\n",
    "**сам код**: 'CODE', 'PLAINCODE', 'REGIONCODE', 'AREACODE', 'CITYCODE', 'PLACECODE', 'PLANCODE', 'STREETCODE',\n",
    "\n",
    "\n",
    "**Коды ОКАТО, ОКТМО**: 'OKATO', 'OKTMO',\n",
    "\n",
    "\n",
    "**Почтовый индекс**: 'POSTALCODE'\n",
    "\n",
    "*Из-за индексов будут дублироваться протяженные улицы, особенно в больших городах. Без надобности их лучше не брать*\n",
    "\n",
    "\n",
    "**Налоговая**: 'IFNSFL', 'IFNSUL', 'TERRIFNSFL', 'TERRIFNSUL',\n",
    "\n",
    "\n",
    "'AOGUID', 'AOID', 'AUTOCODE', 'CENTSTATUS', \n",
    "\n",
    "'NEXTID', 'PARENTGUID',  \n",
    "\n",
    "'PREVID',  \n",
    "\n",
    "'CTARCODE', 'EXTRCODE', 'SEXTCODE', 'CADNUM', 'DIVTYPE'\n",
    "\n",
    "\n",
    "**код нормативного акта**: 'NORMDOC'"
   ]
  },
  {
   "cell_type": "code",
   "execution_count": null,
   "metadata": {},
   "outputs": [],
   "source": [
    "# вручную выбираю нужные столбцы для рабочего датафрейма\n",
    "\n",
    "necessary_columns = ['AOLEVEL', 'FORMALNAME', 'OFFNAME', 'SHORTNAME',\n",
    "                     'PLAINCODE', 'REGIONCODE', 'AREACODE',\n",
    "                     'CITYCODE', 'PLACECODE', 'PLANCODE', 'STREETCODE',\n",
    "                     'OKATO', 'OKTMO',\n",
    "                     #'POSTALCODE',\n",
    "                     #'NORMDOC', 'AOGUID', 'AOID', 'PREVID'\n",
    "                    ]"
   ]
  },
  {
   "cell_type": "code",
   "execution_count": null,
   "metadata": {},
   "outputs": [],
   "source": [
    "# оставляю только нужные столбцы в новом фрейме work\n",
    "\n",
    "work = data[necessary_columns]\n",
    "work.columns = work.columns.str.lower()"
   ]
  },
  {
   "cell_type": "code",
   "execution_count": null,
   "metadata": {},
   "outputs": [],
   "source": [
    "# меняю типы данных в столбцах для корректного слияния\n",
    "\n",
    "work = work.astype({'aolevel': 'int32', 'regioncode': 'int32'})"
   ]
  },
  {
   "cell_type": "code",
   "execution_count": null,
   "metadata": {},
   "outputs": [],
   "source": [
    "work.isnull().sum()"
   ]
  },
  {
   "cell_type": "markdown",
   "metadata": {},
   "source": [
    "**Не верьте нулям!**"
   ]
  },
  {
   "cell_type": "code",
   "execution_count": null,
   "metadata": {},
   "outputs": [],
   "source": [
    "work.shape"
   ]
  },
  {
   "cell_type": "code",
   "execution_count": null,
   "metadata": {},
   "outputs": [],
   "source": [
    "# проверяем столбец на пустые значения\n",
    "\n",
    "work[work.formalname == ''].shape"
   ]
  },
  {
   "cell_type": "code",
   "execution_count": null,
   "metadata": {},
   "outputs": [],
   "source": [
    "# проверяем столбец на пустые значения\n",
    "\n",
    "work[work.offname == ''].shape"
   ]
  },
  {
   "cell_type": "markdown",
   "metadata": {},
   "source": [
    "В августе 2020 я долго возился с данными из-за внезапного глюка: из столбца OFFNAME \"выпало\" множество значений. Возился пока не догадался посмотреть FORMALNAME.\n",
    "\n",
    "Глюк исправили, но теперь на всякий случай я всегда сохраняю оба значения и OFF и FORMAL."
   ]
  },
  {
   "cell_type": "code",
   "execution_count": null,
   "metadata": {},
   "outputs": [],
   "source": []
  },
  {
   "cell_type": "markdown",
   "metadata": {},
   "source": [
    "**Удаляем лишнее для экономии ресурсов**\n",
    "\n",
    "Оставляем только записи с уровнем (aolevel) - 1, 3, 4, 6, 7.\n",
    "\n",
    "65, 90 -- в нашем случае только зашумляют картину."
   ]
  },
  {
   "cell_type": "code",
   "execution_count": null,
   "metadata": {},
   "outputs": [],
   "source": [
    "work.shape"
   ]
  },
  {
   "cell_type": "code",
   "execution_count": null,
   "metadata": {},
   "outputs": [],
   "source": [
    "# оставляем только нужные записи\n",
    "\n",
    "work = (work[\n",
    "    (work.aolevel == 1) |\n",
    "    (work.aolevel == 3) |\n",
    "    (work.aolevel == 4) |\n",
    "    (work.aolevel == 6) |\n",
    "    (work.aolevel == 7)     \n",
    "]\n",
    ")"
   ]
  },
  {
   "cell_type": "code",
   "execution_count": null,
   "metadata": {},
   "outputs": [],
   "source": [
    "work.shape"
   ]
  },
  {
   "cell_type": "code",
   "execution_count": null,
   "metadata": {},
   "outputs": [],
   "source": [
    "work.dtypes"
   ]
  },
  {
   "cell_type": "code",
   "execution_count": null,
   "metadata": {},
   "outputs": [],
   "source": []
  },
  {
   "cell_type": "code",
   "execution_count": null,
   "metadata": {},
   "outputs": [],
   "source": [
    "# смотрю уровни и что там внутри\n",
    "\n",
    "level_df = work.aolevel.value_counts().rename_axis('level').reset_index(name='counts').sort_values('level')\n",
    "level_df.head(10)"
   ]
  },
  {
   "cell_type": "code",
   "execution_count": null,
   "metadata": {},
   "outputs": [],
   "source": []
  },
  {
   "cell_type": "markdown",
   "metadata": {},
   "source": [
    "## Вывожу данные по каждому уровню,\n",
    "\n",
    "чтобы лучше понять, что внутри"
   ]
  },
  {
   "cell_type": "markdown",
   "metadata": {},
   "source": [
    "### 3 - уровень района ###"
   ]
  },
  {
   "cell_type": "code",
   "execution_count": null,
   "metadata": {},
   "outputs": [],
   "source": [
    "\n",
    "(work[work.aolevel == 3]\n",
    " .shortname.value_counts()\n",
    " .rename_axis('element').reset_index(name='number')\n",
    " .sort_values('number', ascending=False)\n",
    ")"
   ]
  },
  {
   "cell_type": "markdown",
   "metadata": {},
   "source": [
    "### 4 - уровень города ###"
   ]
  },
  {
   "cell_type": "code",
   "execution_count": null,
   "metadata": {},
   "outputs": [],
   "source": [
    "(work[work.aolevel == 4]\n",
    " .shortname.value_counts()\n",
    " .rename_axis('element').reset_index(name='number')\n",
    " .sort_values('number', ascending=False)\n",
    ")"
   ]
  },
  {
   "cell_type": "markdown",
   "metadata": {},
   "source": [
    "### 6 - уровень поселка ###"
   ]
  },
  {
   "cell_type": "code",
   "execution_count": null,
   "metadata": {},
   "outputs": [],
   "source": [
    "(work[work.aolevel == 6]\n",
    " .shortname.value_counts()\n",
    " .rename_axis('element').reset_index(name='number')\n",
    " .sort_values('number', ascending=False)\n",
    ")"
   ]
  },
  {
   "cell_type": "markdown",
   "metadata": {},
   "source": [
    "### 7 - уровень улицы ###"
   ]
  },
  {
   "cell_type": "code",
   "execution_count": null,
   "metadata": {},
   "outputs": [],
   "source": [
    "(work[work.aolevel == 7]\n",
    " .shortname.value_counts()\n",
    " .rename_axis('element').reset_index(name='number')\n",
    " .sort_values('number', ascending=False)\n",
    ")"
   ]
  },
  {
   "cell_type": "markdown",
   "metadata": {},
   "source": [
    "Сейчас в данных еще много лишнего, чистить буду позже, после того, как сведу всё в один файл."
   ]
  },
  {
   "cell_type": "code",
   "execution_count": null,
   "metadata": {},
   "outputs": [],
   "source": []
  },
  {
   "cell_type": "markdown",
   "metadata": {},
   "source": [
    "### Добавляем регион ###"
   ]
  },
  {
   "cell_type": "code",
   "execution_count": null,
   "metadata": {},
   "outputs": [],
   "source": [
    "# создаем датафрейм с названиями регионов и кодами ФИАС\n",
    "\n",
    "reg_code = pd.read_csv('C:/00_Data/General/reg_code.csv')\n",
    "reg_code.regioncode = reg_code.regioncode.astype('int32')"
   ]
  },
  {
   "cell_type": "code",
   "execution_count": null,
   "metadata": {},
   "outputs": [],
   "source": [
    "reg_code.dtypes"
   ]
  },
  {
   "cell_type": "code",
   "execution_count": null,
   "metadata": {},
   "outputs": [],
   "source": [
    "# добавляем регион\n",
    "\n",
    "work = work.merge(reg_code, on='regioncode', how='left')"
   ]
  },
  {
   "cell_type": "code",
   "execution_count": null,
   "metadata": {},
   "outputs": [],
   "source": [
    "# проверяем\n",
    "\n",
    "work.isnull().sum()"
   ]
  },
  {
   "cell_type": "code",
   "execution_count": null,
   "metadata": {},
   "outputs": [],
   "source": [
    "work.sample(3)"
   ]
  },
  {
   "cell_type": "code",
   "execution_count": null,
   "metadata": {},
   "outputs": [],
   "source": []
  },
  {
   "cell_type": "markdown",
   "metadata": {},
   "source": [
    "### Добавляем муниципальный район ###"
   ]
  },
  {
   "cell_type": "code",
   "execution_count": null,
   "metadata": {},
   "outputs": [],
   "source": [
    "# отбираем районы и города и поселки регионального подчинения\n",
    "\n",
    "mun_district = work[(\n",
    "    (work.aolevel == 3)\n",
    " |\n",
    "    (\n",
    "        (work.aolevel == 4) &\n",
    "        (work.areacode == '000' )) |\n",
    "    (\n",
    "        (work.aolevel == 6) &\n",
    "        (work.areacode == '000') &\n",
    "        (work.citycode == '000')\n",
    "    )\n",
    ")]"
   ]
  },
  {
   "cell_type": "code",
   "execution_count": null,
   "metadata": {},
   "outputs": [],
   "source": [
    "mun_district.shape"
   ]
  },
  {
   "cell_type": "code",
   "execution_count": null,
   "metadata": {},
   "outputs": [],
   "source": [
    "# Простая функция для разметки данных\n",
    "# Режет plaincode в соответствии с \"муниципальным статусом\" объекта\n",
    "\n",
    "def cut_code(row):\n",
    "    \n",
    "    # муниципалитеты\n",
    "    \n",
    "    if row.aolevel == 3: # если уровень 3, возвращает только первые 5 символов\n",
    "        return row.plaincode[0:5]\n",
    "    \n",
    "    # городские округа (у г.о. areacode - 000)\n",
    "    \n",
    "    elif row.aolevel == 4: # для городских округов — 8\n",
    "        if row.areacode == '000':\n",
    "            return row.plaincode[0:8]\n",
    "        \n",
    "        else: # но для \n",
    "            return row.plaincode[0:5]\n",
    "\n",
    "    # поселки и улицы\n",
    "    \n",
    "    elif row.aolevel == 6 or row.aolevel == 7:\n",
    "        \n",
    "        if row.areacode != '000':\n",
    "            return row.plaincode[0:5]\n",
    "                \n",
    "        # поселки которые имеют статус округов\n",
    "        \n",
    "        elif row.areacode == '000' and row.citycode == '000':\n",
    "            return row.plaincode[0:11]            \n",
    "        \n",
    "        # все остальное (000 в areacode означает, что объект входит в состав г.о. или с.о.)\n",
    "        # поэтому берем 8 цифр\n",
    "        \n",
    "        else:\n",
    "            return row.plaincode[0:8]"
   ]
  },
  {
   "cell_type": "code",
   "execution_count": null,
   "metadata": {},
   "outputs": [],
   "source": [
    "# добавляем mun_code в датафрейм для слияния\n",
    "\n",
    "mun_district['mun_code'] = mun_district.apply(cut_code, axis=1)"
   ]
  },
  {
   "cell_type": "code",
   "execution_count": null,
   "metadata": {},
   "outputs": [],
   "source": [
    "# оставляем нужные столбцы\n",
    "\n",
    "mun_district = mun_district[['formalname', 'mun_code']]"
   ]
  },
  {
   "cell_type": "code",
   "execution_count": null,
   "metadata": {},
   "outputs": [],
   "source": [
    "# переименовываем\n",
    "\n",
    "mun_district = mun_district.rename(columns={'formalname': 'mun_district'})"
   ]
  },
  {
   "cell_type": "code",
   "execution_count": null,
   "metadata": {},
   "outputs": [],
   "source": [
    "# добавляем mun_code в датафрейм\n",
    "\n",
    "work['mun_code'] = work.apply(cut_code, axis=1)"
   ]
  },
  {
   "cell_type": "code",
   "execution_count": null,
   "metadata": {},
   "outputs": [],
   "source": [
    "# объединяем\n",
    "\n",
    "work = work.merge(mun_district, on='mun_code', how='left')"
   ]
  },
  {
   "cell_type": "code",
   "execution_count": null,
   "metadata": {},
   "outputs": [],
   "source": [
    "work.shape"
   ]
  },
  {
   "cell_type": "code",
   "execution_count": null,
   "metadata": {
    "scrolled": true
   },
   "outputs": [],
   "source": [
    "# проверка на NaN\n",
    "# один NaN должен быть в mun_code (это регион)\n",
    "# некоторое количество может быть в mun_district -- это следствия изменений и ошибок\n",
    "\n",
    "work.isnull().sum()"
   ]
  },
  {
   "cell_type": "code",
   "execution_count": null,
   "metadata": {},
   "outputs": [],
   "source": []
  },
  {
   "cell_type": "markdown",
   "metadata": {},
   "source": [
    "## Пропуски в mun_district ##\n",
    "\n",
    "Часть ошибок можно исправить автоматом"
   ]
  },
  {
   "cell_type": "markdown",
   "metadata": {},
   "source": [
    "Функция не исправляет все ошибки. Более продуктивно исправить ошибки \"вручную\", по кодам ОКТМО с https://rosstat.gov.ru/opendata/7708234640-oktmo (надо написать скрипт)."
   ]
  },
  {
   "cell_type": "code",
   "execution_count": null,
   "metadata": {},
   "outputs": [],
   "source": [
    "# заполняем пустые значения\n",
    "work.fillna('null', inplace=True)"
   ]
  },
  {
   "cell_type": "code",
   "execution_count": null,
   "metadata": {},
   "outputs": [],
   "source": [
    "work[work.mun_district == 'null']"
   ]
  },
  {
   "cell_type": "code",
   "execution_count": null,
   "metadata": {},
   "outputs": [],
   "source": [
    "# примитивная функция для заполнения по ОКТМО (смотрит на другие строки с таким же ОКТМО)\n",
    "# для городов регионов (Москвы, СПб, Севастополя) функция вместо м.о. добавляет населенные пункты (это неправильно, но пока так)\n",
    "\n",
    "def add_mun_district(row):\n",
    "    need_code = row.oktmo\n",
    "    try:\n",
    "        new_value = work[(\n",
    "            (work.oktmo == need_code) &\n",
    "            (work.mun_district != 'null')\n",
    "        )].mun_district.to_list()[0]\n",
    "        \n",
    "    except:\n",
    "        new_value = 'null'\n",
    "        \n",
    "    return new_value"
   ]
  },
  {
   "cell_type": "code",
   "execution_count": null,
   "metadata": {},
   "outputs": [],
   "source": [
    "# заводим временный датафрейм\n",
    "\n",
    "temp_md = work[work.mun_district == 'null']"
   ]
  },
  {
   "cell_type": "code",
   "execution_count": null,
   "metadata": {},
   "outputs": [],
   "source": [
    "%%time\n",
    "\n",
    "# добавляем столбец\n",
    "\n",
    "temp_md['new_md'] = temp_md.apply(add_mun_district, axis=1)"
   ]
  },
  {
   "cell_type": "code",
   "execution_count": null,
   "metadata": {},
   "outputs": [],
   "source": [
    "temp_md"
   ]
  },
  {
   "cell_type": "code",
   "execution_count": null,
   "metadata": {},
   "outputs": [],
   "source": [
    "# оставляем нужные столбцы для слияния (на всякий случай 4)\n",
    "\n",
    "temp_md = temp_md[['formalname', 'offname', 'plaincode', 'oktmo', 'new_md']]"
   ]
  },
  {
   "cell_type": "code",
   "execution_count": null,
   "metadata": {},
   "outputs": [],
   "source": [
    "# соединяем\n",
    "\n",
    "work = work.merge(temp_md, on=['formalname', 'offname', 'plaincode', 'oktmo'], how='left')"
   ]
  },
  {
   "cell_type": "code",
   "execution_count": null,
   "metadata": {},
   "outputs": [],
   "source": [
    "work.head(3)"
   ]
  },
  {
   "cell_type": "code",
   "execution_count": null,
   "metadata": {},
   "outputs": [],
   "source": [
    "# заполняем NaN\n",
    "\n",
    "work.fillna('null', inplace=True)"
   ]
  },
  {
   "cell_type": "code",
   "execution_count": null,
   "metadata": {},
   "outputs": [],
   "source": [
    "# меняем null в mun_district \n",
    "\n",
    "work.loc[(work.mun_district == 'null'), 'mun_district'] = work.new_md"
   ]
  },
  {
   "cell_type": "code",
   "execution_count": null,
   "metadata": {},
   "outputs": [],
   "source": [
    "# проверяем\n",
    "\n",
    "work[work.mun_district == 'null'].shape"
   ]
  },
  {
   "cell_type": "code",
   "execution_count": null,
   "metadata": {},
   "outputs": [],
   "source": []
  },
  {
   "cell_type": "markdown",
   "metadata": {},
   "source": [
    "### Добавляем населенный пункт ###"
   ]
  },
  {
   "cell_type": "code",
   "execution_count": null,
   "metadata": {},
   "outputs": [],
   "source": [
    "# создаем датафрейм с городами и поселками\n",
    "\n",
    "city = work[(\n",
    "    (work.aolevel == 4) |\n",
    "    (work.aolevel == 6)\n",
    ")]"
   ]
  },
  {
   "cell_type": "code",
   "execution_count": null,
   "metadata": {},
   "outputs": [],
   "source": [
    "# оставляем нужные столбцы\n",
    "\n",
    "city = city[['shortname', 'formalname', 'plaincode']]"
   ]
  },
  {
   "cell_type": "code",
   "execution_count": null,
   "metadata": {},
   "outputs": [],
   "source": [
    "# переименовываем\n",
    "\n",
    "city = city.rename(columns={'shortname': 'city_type', 'formalname': 'city', 'plaincode': 'city_code'})"
   ]
  },
  {
   "cell_type": "code",
   "execution_count": null,
   "metadata": {},
   "outputs": [],
   "source": [
    "city"
   ]
  },
  {
   "cell_type": "code",
   "execution_count": null,
   "metadata": {},
   "outputs": [],
   "source": [
    "# проверяем\n",
    "\n",
    "city.shape"
   ]
  },
  {
   "cell_type": "code",
   "execution_count": null,
   "metadata": {},
   "outputs": [],
   "source": [
    "# создаем столбец \"код города\" для слияния\n",
    "\n",
    "work['city_code'] = work.plaincode.str[0:11]"
   ]
  },
  {
   "cell_type": "code",
   "execution_count": null,
   "metadata": {},
   "outputs": [],
   "source": [
    "%%time\n",
    "\n",
    "# объединяем\n",
    "\n",
    "work = work.merge(city, on='city_code', how='left')"
   ]
  },
  {
   "cell_type": "code",
   "execution_count": null,
   "metadata": {},
   "outputs": [],
   "source": [
    "work.shape"
   ]
  },
  {
   "cell_type": "code",
   "execution_count": null,
   "metadata": {},
   "outputs": [],
   "source": [
    "# пустые значения -- улицы городов \"прямого подчинения\" (и ошибки с прошлого шага)\n",
    "\n",
    "work.isnull().sum()"
   ]
  },
  {
   "cell_type": "code",
   "execution_count": null,
   "metadata": {},
   "outputs": [],
   "source": [
    "# заполняем NaN\n",
    "\n",
    "work.fillna('null', inplace=True)"
   ]
  },
  {
   "cell_type": "code",
   "execution_count": null,
   "metadata": {},
   "outputs": [],
   "source": [
    "# есть некоторое незначительное количество районов (это ошибки ФИАС)\n",
    "\n",
    "work[work.city == 'null'].mun_district.value_counts()"
   ]
  },
  {
   "cell_type": "code",
   "execution_count": null,
   "metadata": {},
   "outputs": [],
   "source": [
    "work.sample(3)"
   ]
  },
  {
   "cell_type": "code",
   "execution_count": null,
   "metadata": {},
   "outputs": [],
   "source": [
    "# берем city из mun_district\n",
    "\n",
    "work.loc[(work.city == 'null'), 'city'] = work.mun_district"
   ]
  },
  {
   "cell_type": "code",
   "execution_count": null,
   "metadata": {},
   "outputs": [],
   "source": [
    "work[work.city == 'null'].shape"
   ]
  },
  {
   "cell_type": "code",
   "execution_count": null,
   "metadata": {},
   "outputs": [],
   "source": [
    "work.shape"
   ]
  },
  {
   "cell_type": "code",
   "execution_count": null,
   "metadata": {},
   "outputs": [],
   "source": []
  },
  {
   "cell_type": "markdown",
   "metadata": {},
   "source": [
    "### Фильтруем данные ###"
   ]
  },
  {
   "cell_type": "code",
   "execution_count": null,
   "metadata": {},
   "outputs": [],
   "source": [
    "# переименовываем formalname в понятный street\n",
    "\n",
    "work.rename(columns={'formalname': 'street'}, inplace=True)"
   ]
  },
  {
   "cell_type": "code",
   "execution_count": null,
   "metadata": {},
   "outputs": [],
   "source": []
  },
  {
   "cell_type": "markdown",
   "metadata": {},
   "source": [
    "### Муниципальные районы ###"
   ]
  },
  {
   "cell_type": "code",
   "execution_count": null,
   "metadata": {},
   "outputs": [],
   "source": [
    "# датафрейм муниципальных образований\n",
    "\n",
    "work_districts = work[(\n",
    "    (work.aolevel == 3) |\n",
    "    (\n",
    "        (work.aolevel == 4) &\n",
    "        (work.areacode == '000')) |\n",
    "    (\n",
    "        (work.aolevel == 6) &\n",
    "        (work.areacode == '000') &\n",
    "        (work.citycode == '000'))\n",
    ")]\n",
    "\n",
    "\n",
    "# оставляем важные столбцы\n",
    "work_districts = work_districts[['aolevel', 'shortname', 'mun_district', 'offname',\n",
    "                                 'region',\n",
    "                                 'okato', 'oktmo', #'normdoc'\n",
    "                                ]]"
   ]
  },
  {
   "cell_type": "markdown",
   "metadata": {},
   "source": [
    "### Города и поселки ###"
   ]
  },
  {
   "cell_type": "code",
   "execution_count": null,
   "metadata": {},
   "outputs": [],
   "source": [
    "#  фильтруем города и поселки\n",
    "\n",
    "work_cities = work[(\n",
    "    (work.aolevel == 4) |\n",
    "    (work.aolevel == 6) |\n",
    "    (\n",
    "        (work.aolevel == 3) &\n",
    "        ((work.shortname == 'г') |\n",
    "         (work.shortname == 'п'))\n",
    "    )\n",
    ")]\n",
    "\n",
    "\n",
    "# оставляем важные столбцы\n",
    "work_cities = work_cities[['aolevel', 'city_type', 'city', 'offname',\n",
    "                           'mun_district', 'region',\n",
    "                           'okato', 'oktmo', #'normdoc'\n",
    "                          ]]"
   ]
  },
  {
   "cell_type": "code",
   "execution_count": null,
   "metadata": {},
   "outputs": [],
   "source": []
  },
  {
   "cell_type": "markdown",
   "metadata": {},
   "source": [
    "### Улицы ###"
   ]
  },
  {
   "cell_type": "code",
   "execution_count": null,
   "metadata": {},
   "outputs": [],
   "source": [
    "#  фильтруем улицы и территории\n",
    "\n",
    "work_streets = work[(\n",
    "    (work.aolevel == 7) |\n",
    "    (work.aolevel == 65)\n",
    ")]\n",
    "\n",
    "# оставляем важные столбцы\n",
    "work_streets = work_streets[['aolevel', 'shortname', 'street', 'offname',\n",
    "                             'city_type', 'city', 'mun_district', 'region',\n",
    "                             'okato', 'oktmo', #'normdoc'\n",
    "                            ]]"
   ]
  },
  {
   "cell_type": "code",
   "execution_count": null,
   "metadata": {},
   "outputs": [],
   "source": []
  },
  {
   "cell_type": "code",
   "execution_count": null,
   "metadata": {},
   "outputs": [],
   "source": [
    "# записываем в файл (чтобы посмотреть, что вышло)\n",
    "\n",
    "work_streets.to_excel('C:/Users/Boris/Desktop/work_streets.xlsx', encoding='utf-8', index=False)   "
   ]
  },
  {
   "cell_type": "code",
   "execution_count": null,
   "metadata": {},
   "outputs": [],
   "source": []
  }
 ],
 "metadata": {
  "kernelspec": {
   "display_name": "Python 3 (ipykernel)",
   "language": "python",
   "name": "python3"
  },
  "language_info": {
   "codemirror_mode": {
    "name": "ipython",
    "version": 3
   },
   "file_extension": ".py",
   "mimetype": "text/x-python",
   "name": "python",
   "nbconvert_exporter": "python",
   "pygments_lexer": "ipython3",
   "version": "3.9.7"
  }
 },
 "nbformat": 4,
 "nbformat_minor": 2
}
