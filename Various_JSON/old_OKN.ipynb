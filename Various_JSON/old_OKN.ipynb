{
 "cells": [
  {
   "cell_type": "markdown",
   "metadata": {},
   "source": [
    "Код разворачивает JSON файлы с https://dtp-stat.ru/opendata/ в плоский формат.\n",
    "\n",
    "Последние правки: 2022.02.06"
   ]
  },
  {
   "cell_type": "markdown",
   "metadata": {},
   "source": [
    "## Библиотеки и настройки"
   ]
  },
  {
   "cell_type": "code",
   "execution_count": null,
   "metadata": {},
   "outputs": [],
   "source": [
    "# импорт библиотек\n",
    "\n",
    "import json\n",
    "import pandas as pd\n",
    "\n",
    "import os\n",
    "\n",
    "# регулярки\n",
    "import re\n",
    "\n",
    "# время\n",
    "from datetime import datetime\n",
    "\n",
    "# прогресс-бар\n",
    "from tqdm.notebook import trange, tqdm"
   ]
  },
  {
   "cell_type": "code",
   "execution_count": null,
   "metadata": {},
   "outputs": [],
   "source": [
    "# рекурсия для поиска значений\n",
    "\n",
    "def recurs_find_key(key, obj):\n",
    "    if key in obj:\n",
    "        return obj[key]\n",
    "    \n",
    "    for k, v in obj.items():\n",
    "        if type(v) == dict:\n",
    "            result = recurs_find_key(key, v)\n",
    "            \n",
    "            if result is not None:\n",
    "                return result"
   ]
  },
  {
   "cell_type": "code",
   "execution_count": null,
   "metadata": {},
   "outputs": [],
   "source": [
    "# путь к файлам\n",
    "\n",
    "file_path_data = 'C:/00_Data/MinKult/OKN_2018_01_15/'"
   ]
  },
  {
   "cell_type": "code",
   "execution_count": null,
   "metadata": {},
   "outputs": [],
   "source": [
    "# вытаскиваю названия файлов в список file_list\n",
    "\n",
    "file_list = []\n",
    "\n",
    "for root, dirs, files in os.walk(file_path_data):\n",
    "    \n",
    "    for filename in files:\n",
    "        file_list += [filename]"
   ]
  },
  {
   "cell_type": "code",
   "execution_count": null,
   "metadata": {},
   "outputs": [],
   "source": [
    "okn"
   ]
  },
  {
   "cell_type": "code",
   "execution_count": null,
   "metadata": {},
   "outputs": [],
   "source": [
    "okn['data']['info']['path']"
   ]
  },
  {
   "cell_type": "markdown",
   "metadata": {},
   "source": [
    "#### Код парсера"
   ]
  },
  {
   "cell_type": "code",
   "execution_count": null,
   "metadata": {},
   "outputs": [],
   "source": [
    "data = [] # список для данных\n",
    "\n",
    "for file in tqdm(file_list): # цикл для перебора файлов\n",
    "    full_path = file_path_data + file\n",
    "    \n",
    "    with open(full_path, 'r', encoding='utf-8') as j: # открываю файл json\n",
    "        reestr = json.loads(j.read())\n",
    "        \n",
    "        for okn in reestr:\n",
    "            \n",
    "            general_id = okn['data']['general']['id']\n",
    "            \n",
    "            try:\n",
    "                name = ['data']['general']['name']\n",
    "                \n",
    "            except:\n",
    "                name = ''\n",
    "                \n",
    "            try:\n",
    "                nativeName = okn['nativeName']\n",
    "                \n",
    "            except:\n",
    "                nativeName = 'none'\n",
    "            \n",
    "            region = okn['data']['general']['region']['value']\n",
    "            \n",
    "            regNumber = okn['data']['general']['regNumber']\n",
    "            categoryType = okn['data']['general']['categoryType']['value']\n",
    "            \n",
    "            try:\n",
    "                createDate = okn['data']['general']['createDate']\n",
    "                \n",
    "            except:\n",
    "                createDate = 'none'\n",
    "            \n",
    "            \n",
    "            try:\n",
    "                typologies_id = okn['data']['general']['typologies'][0]['id']\n",
    "                \n",
    "            except:\n",
    "                typologies_id = 'none'\n",
    "                \n",
    "            \n",
    "            try:\n",
    "                typologies_value = okn['data']['general']['typologies'][0]['value']\n",
    "                \n",
    "            except:\n",
    "                typologies_value = 'none'\n",
    "                \n",
    "                \n",
    "            try:\n",
    "                path = okn['data']['info']['path']\n",
    "                \n",
    "            except:\n",
    "                path = 'none'\n",
    "                \n",
    "            data.append([regNumber, general_id,\n",
    "                         name, nativeName, region,\n",
    "                         categoryType, createDate,\n",
    "                         typologies_id, typologies_value, path])"
   ]
  },
  {
   "cell_type": "code",
   "execution_count": null,
   "metadata": {},
   "outputs": [],
   "source": [
    "head = ['regNumber', 'general_id', 'name', 'nativeName', 'region',\n",
    "        'categoryType', 'createDate', 'typologies_id', 'typologies_value', 'path']\n",
    "\n",
    "work = pd.DataFrame(data, columns=head)"
   ]
  },
  {
   "cell_type": "code",
   "execution_count": null,
   "metadata": {},
   "outputs": [],
   "source": [
    "work.shape"
   ]
  },
  {
   "cell_type": "code",
   "execution_count": null,
   "metadata": {},
   "outputs": [],
   "source": [
    "work[work.typologies_value.str.contains('археолог', case=False)].shape"
   ]
  },
  {
   "cell_type": "code",
   "execution_count": null,
   "metadata": {},
   "outputs": [],
   "source": [
    "work = work[work.typologies_value.str.contains('археолог', case=False)]"
   ]
  },
  {
   "cell_type": "code",
   "execution_count": null,
   "metadata": {},
   "outputs": [],
   "source": [
    "work.shape"
   ]
  },
  {
   "cell_type": "code",
   "execution_count": null,
   "metadata": {},
   "outputs": [],
   "source": [
    "work.to_excel(file_path_data + 'okn_2018.xlsx', index=False, sheet_name='original')"
   ]
  },
  {
   "cell_type": "code",
   "execution_count": null,
   "metadata": {},
   "outputs": [],
   "source": []
  }
 ],
 "metadata": {
  "kernelspec": {
   "display_name": "Python 3",
   "language": "python",
   "name": "python3"
  },
  "language_info": {
   "codemirror_mode": {
    "name": "ipython",
    "version": 3
   },
   "file_extension": ".py",
   "mimetype": "text/x-python",
   "name": "python",
   "nbconvert_exporter": "python",
   "pygments_lexer": "ipython3",
   "version": "3.8.8"
  }
 },
 "nbformat": 4,
 "nbformat_minor": 2
}
