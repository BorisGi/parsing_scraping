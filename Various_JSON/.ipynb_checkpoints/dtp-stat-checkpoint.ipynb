{
 "cells": [
  {
   "cell_type": "markdown",
   "metadata": {},
   "source": [
    "Код разворачивает JSON файлы с https://dtp-stat.ru/opendata/ в плоский формат.\n",
    "\n",
    "Последние правки: 2022.02.06"
   ]
  },
  {
   "cell_type": "markdown",
   "metadata": {},
   "source": [
    "## Библиотеки и настройки"
   ]
  },
  {
   "cell_type": "code",
   "execution_count": null,
   "metadata": {},
   "outputs": [],
   "source": [
    "# импорт библиотек\n",
    "\n",
    "import geojson\n",
    "import json\n",
    "import pandas as pd\n",
    "\n",
    "import os\n",
    "\n",
    "# регулярки\n",
    "import re\n",
    "\n",
    "# время\n",
    "from datetime import datetime\n",
    "\n",
    "# прогресс-бар\n",
    "from tqdm.notebook import trange, tqdm"
   ]
  },
  {
   "cell_type": "code",
   "execution_count": null,
   "metadata": {},
   "outputs": [],
   "source": [
    "# рекурсия для поиска значений\n",
    "\n",
    "def recurs_find_key(key, obj):\n",
    "    if key in obj:\n",
    "        return obj[key]\n",
    "    \n",
    "    for k, v in obj.items():\n",
    "        if type(v) == dict:\n",
    "            result = recurs_find_key(key, v)\n",
    "            \n",
    "            if result is not None:\n",
    "                return result"
   ]
  },
  {
   "cell_type": "code",
   "execution_count": null,
   "metadata": {},
   "outputs": [],
   "source": [
    "# путь к файлам\n",
    "\n",
    "file_path_data = 'C:/00_Data/dtp-stat/'"
   ]
  },
  {
   "cell_type": "code",
   "execution_count": null,
   "metadata": {},
   "outputs": [],
   "source": [
    "# вытаскиваю названия файлов в список file_list\n",
    "\n",
    "file_list = []\n",
    "\n",
    "for root, dirs, files in os.walk(file_path_data):\n",
    "    \n",
    "    for filename in files:\n",
    "        file_list += [filename]"
   ]
  },
  {
   "cell_type": "code",
   "execution_count": null,
   "metadata": {},
   "outputs": [],
   "source": []
  },
  {
   "cell_type": "markdown",
   "metadata": {},
   "source": [
    "#### Код парсера"
   ]
  },
  {
   "cell_type": "code",
   "execution_count": null,
   "metadata": {},
   "outputs": [],
   "source": [
    "data = [] # список для данных\n",
    "\n",
    "for file in tqdm(file_list): # цикл доя перебора файлов\n",
    "    full_path = file_path_data + file\n",
    "    \n",
    "    with open(full_path, 'r', encoding='utf-8') as j: # открываю файл json\n",
    "        contents = json.loads(j.read())\n",
    "        \n",
    "        all_accidents = contents['features'] # содержимое\n",
    "        for accident in all_accidents:\n",
    "            \n",
    "            # id и категория\n",
    "            accident_id = recurs_find_key('id', accident) # идентификатор\n",
    "            accident_type =  recurs_find_key('tags', accident) # показатели с официального сайта ГИБДД\n",
    "            category = recurs_find_key('category', accident) # тип ДТП\n",
    "            \n",
    "            # место ДТП\n",
    "            region = recurs_find_key('parent_region', accident) # регион            \n",
    "            district = recurs_find_key('region', accident) # город/район\n",
    "            address = recurs_find_key('address', accident) # адрес\n",
    "            \n",
    "            coordinates = recurs_find_key('point', accident) # координаты\n",
    "            type_coordinates = recurs_find_key('geometry', accident)['type'] # тип координат\n",
    "            accident_lat = coordinates['lat'] # широта\n",
    "            accident_long = coordinates['long'] # долгота\n",
    "            location = recurs_find_key('nearby', accident) # привязки на местности\n",
    "            \n",
    "            # время ДТП\n",
    "            datetime = recurs_find_key('datetime', accident) # дата и время\n",
    "            day_period = recurs_find_key('light', accident) # время суток\n",
    "            \n",
    "            # погода и состояние дороги\n",
    "            weather = recurs_find_key('weather', accident) # погода\n",
    "            road_conditions = recurs_find_key('road_conditions', accident) # состояние дорожного покрытия\n",
    "                      \n",
    "            # участники ДТП\n",
    "            participants_count = recurs_find_key('participants_count', accident) # кол-во участников ДТП\n",
    "            participant_categories = recurs_find_key('participant_categories', accident) # категории участников\n",
    "            dead_count = recurs_find_key('dead_count', accident) # кол-во погибших в ДТП\n",
    "            injured_count = recurs_find_key('injured_count', accident) # кол-во раненых в ДТП\n",
    "            severity = recurs_find_key('severity', accident) # тяжесть ДТП/вред здоровью\n",
    "            \n",
    "            vehicles = recurs_find_key('vehicles', accident) # участники – транспортные средства\n",
    "            out_participants = recurs_find_key('participants', accident) # участники без транспортных средств\n",
    "            \n",
    "            # данные транспортных средств\n",
    "            for item in vehicles:\n",
    "                auto_year = recurs_find_key('year', item) # год производства транспортного средства\n",
    "                auto_brand = recurs_find_key('brand', item) # марка транспортного средства\n",
    "                auto_color = recurs_find_key('color', item) # марка транспортного средства\n",
    "                auto_model = recurs_find_key('model', item) # модель транспортного средства\n",
    "                auto_type = recurs_find_key('category', item) # категория транспортного средства\n",
    "                                \n",
    "                participants = recurs_find_key('participants', item) # участники внутри транспортных средств\n",
    "                \n",
    "                for i in participants:\n",
    "                    role = recurs_find_key('role', i) # роль участника, водитель / пассажир\n",
    "                    gender = recurs_find_key('gender', i) # пол\n",
    "                    violations = recurs_find_key('violations', i) # нарушения правил участником\n",
    "                    health_status = recurs_find_key('health_status', i) # состояние здоровья участника\n",
    "                    years_of_driving_experience = recurs_find_key('years_of_driving_experience', i) # стаж вождения, водителя\n",
    "                    \n",
    "                    data.append([accident_id, accident_type, category,\n",
    "                                 region, district, address,\n",
    "                                 coordinates, type_coordinates,\n",
    "                                 accident_lat, accident_long,\n",
    "                                 location,\n",
    "                                 datetime, day_period,\n",
    "                                 weather, road_conditions,\n",
    "                                 participants_count, participant_categories,\n",
    "                                 dead_count, injured_count,\n",
    "                                 severity,\n",
    "                                 auto_type, auto_brand, auto_model,\n",
    "                                 auto_year, auto_color,\n",
    "                                 role, gender, violations, health_status,\n",
    "                                 years_of_driving_experience])            \n",
    "            \n",
    "            if out_participants != []:\n",
    "                \n",
    "                for i in out_participants:\n",
    "                    participant_role = recurs_find_key('role', i) # роль участника, пешеход\n",
    "                    gender = recurs_find_key('gender', i) # пол\n",
    "                    violations = recurs_find_key('violations', i) # нарушения правил участником\n",
    "                    health_status = recurs_find_key('health_status', i) # состояние здоровья участника\n",
    "                    years_of_driving_experience = 'none'\n",
    "                    \n",
    "                    \n",
    "                    data.append([accident_id, accident_type, category,\n",
    "                                 region, district, address,\n",
    "                                 coordinates, type_coordinates,\n",
    "                                 accident_lat, accident_long,\n",
    "                                 location,\n",
    "                                 datetime, day_period,\n",
    "                                 weather, road_conditions,\n",
    "                                 participants_count, participant_categories,\n",
    "                                 dead_count, injured_count,\n",
    "                                 severity,\n",
    "                                 auto_type, auto_brand, auto_model,\n",
    "                                 auto_year, auto_color,\n",
    "                                 role, gender, violations, health_status,\n",
    "                                 years_of_driving_experience])                "
   ]
  },
  {
   "cell_type": "code",
   "execution_count": null,
   "metadata": {},
   "outputs": [],
   "source": [
    "%%time\n",
    "\n",
    "# создаю датафрейм\n",
    "\n",
    "headers = ['accident_id', 'accident_type', 'category',\n",
    "           'region', 'district', 'address',\n",
    "           'coordinates', 'type_coordinates',\n",
    "           'accident_lat', 'accident_long',\n",
    "           'location',\n",
    "           'datetime', 'day_period',\n",
    "           'weather', 'road_conditions',\n",
    "           'participants_count', 'participant_categories',\n",
    "           'dead_count', 'injured_count',\n",
    "           'severity',\n",
    "           'auto_type', 'auto_brand', 'auto_model',\n",
    "           'auto_year', 'auto_color',\n",
    "           'role', 'gender', 'violations', 'health_status',\n",
    "           'years_of_driving_experience']\n",
    "\n",
    "work = pd.DataFrame(data, columns=headers)"
   ]
  },
  {
   "cell_type": "code",
   "execution_count": null,
   "metadata": {},
   "outputs": [],
   "source": [
    "work.shape"
   ]
  },
  {
   "cell_type": "code",
   "execution_count": null,
   "metadata": {},
   "outputs": [],
   "source": [
    "work.accident_id.nunique()"
   ]
  },
  {
   "cell_type": "code",
   "execution_count": null,
   "metadata": {},
   "outputs": [],
   "source": [
    "work.sample(3)"
   ]
  },
  {
   "cell_type": "code",
   "execution_count": null,
   "metadata": {},
   "outputs": [],
   "source": [
    "work.to_csv(file_path + 'dtp_stat_all.csv', index=False)"
   ]
  },
  {
   "cell_type": "code",
   "execution_count": null,
   "metadata": {},
   "outputs": [],
   "source": [
    "#work.to_excel(file_path + 'dtp_stat_new.xlsx', index=False, sheet_name='original')"
   ]
  },
  {
   "cell_type": "code",
   "execution_count": null,
   "metadata": {},
   "outputs": [],
   "source": []
  }
 ],
 "metadata": {
  "kernelspec": {
   "display_name": "Python 3",
   "language": "python",
   "name": "python3"
  },
  "language_info": {
   "codemirror_mode": {
    "name": "ipython",
    "version": 3
   },
   "file_extension": ".py",
   "mimetype": "text/x-python",
   "name": "python",
   "nbconvert_exporter": "python",
   "pygments_lexer": "ipython3",
   "version": "3.8.8"
  }
 },
 "nbformat": 4,
 "nbformat_minor": 2
}
