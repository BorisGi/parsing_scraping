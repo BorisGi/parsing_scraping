{
 "cells": [
  {
   "cell_type": "markdown",
   "id": "1ba55106",
   "metadata": {},
   "source": [
    "Парсер sudact.ru\n",
    "\n",
    "Часть вторая: собирает дела по списку ссылок.\n",
    "\n",
    "Скрипт примитивен и требует постоянного контроля.\n",
    "\n",
    "Сам sudact парсится легко, но выдает капчу примерно через каждые 200 запросов. Увеличение задержки не помогает.\n",
    "\n",
    "Последние правки скрипта: 2022-01-31"
   ]
  },
  {
   "cell_type": "markdown",
   "id": "c6aad331",
   "metadata": {},
   "source": [
    "## Библиотеки и настройки"
   ]
  },
  {
   "cell_type": "code",
   "execution_count": 1,
   "id": "034f691e",
   "metadata": {},
   "outputs": [],
   "source": [
    "#Загружаю нужные библиотеки\n",
    "\n",
    "import pandas as pd\n",
    "import math\n",
    "import os\n",
    "\n",
    "import re\n",
    "\n",
    "# для юзер-агента\n",
    "from fake_useragent import UserAgent\n",
    "\n",
    "# прогресс-бар\n",
    "from tqdm.notebook import trange, tqdm\n",
    "\n",
    "# для пауз при парсинге\n",
    "from time import sleep\n",
    "\n",
    "# селениум\n",
    "from selenium.webdriver import Chrome\n",
    "from selenium.webdriver.chrome.service import Service\n",
    "from selenium import webdriver\n",
    "\n",
    "from selenium.common.exceptions import NoSuchElementException\n",
    "from selenium.webdriver.common.by import By\n",
    "from selenium.webdriver.support.ui import WebDriverWait\n",
    "from selenium.webdriver.support import expected_conditions as EC"
   ]
  },
  {
   "cell_type": "code",
   "execution_count": 2,
   "id": "55d28a11",
   "metadata": {},
   "outputs": [],
   "source": [
    "# настройки юзер-агента\n",
    "\n",
    "ua = UserAgent()\n",
    "\n",
    "# юзер-агент для Хрома\n",
    "user_agent = ua.chrome"
   ]
  },
  {
   "cell_type": "code",
   "execution_count": 3,
   "id": "d853e062",
   "metadata": {},
   "outputs": [],
   "source": [
    "test_url = 'https://intoli.com/blog/not-possible-to-block-chrome-headless/chrome-headless-test.html'"
   ]
  },
  {
   "cell_type": "code",
   "execution_count": 4,
   "id": "728eb20f",
   "metadata": {},
   "outputs": [
    {
     "name": "stdout",
     "output_type": "stream",
     "text": [
      "court\n"
     ]
    }
   ],
   "source": [
    "# путь к файлам\n",
    "\n",
    "file_path = 'C:/00_Data/' + input() + '/'\n",
    "proxy_list_path = 'C:/work/keys/proxy_list.txt'"
   ]
  },
  {
   "cell_type": "code",
   "execution_count": 5,
   "id": "a62a6040",
   "metadata": {},
   "outputs": [
    {
     "name": "stdout",
     "output_type": "stream",
     "text": [
      "Рабочих прокси — 9\n"
     ]
    }
   ],
   "source": [
    "# загружаю список прокси\n",
    "# список простой текстовый файл, который содержит прокси в формате: адрес:порт логин:пароль\n",
    "\n",
    "proxy_list = []\n",
    "\n",
    "with open(proxy_list_path, 'r') as f:\n",
    "    for line in f:\n",
    "        proxy_list += [line.split()]\n",
    "        \n",
    "print('Рабочих прокси — ' + str(len(proxy_list)))"
   ]
  },
  {
   "cell_type": "code",
   "execution_count": 6,
   "id": "88fe7708",
   "metadata": {},
   "outputs": [
    {
     "name": "stdout",
     "output_type": "stream",
     "text": [
      "Номер прокси, от 0 до 8\n",
      "6\n"
     ]
    }
   ],
   "source": [
    "# номер прокси проще прописать вручную, ввод со строки постоянно глючит\n",
    "\n",
    "print('Номер прокси, от 0 до ' + str(len(proxy_list) - 1))\n",
    "proxy_number = int(input())"
   ]
  },
  {
   "cell_type": "code",
   "execution_count": 7,
   "id": "5f5f6eeb",
   "metadata": {},
   "outputs": [],
   "source": [
    "# настройки веб-драйвера, чтобы скрыть автоматическое управление\n",
    "\n",
    "opt = webdriver.ChromeOptions()\n",
    "opt.add_argument(f'user-agent={user_agent}')\n",
    "opt.add_argument('--disable-blink-features')\n",
    "opt.add_argument('--disable-blink-features=AutomationControlled')\n",
    "opt.add_argument(f'--proxy-server={proxy_list[proxy_number][0]}') # \"девственный\" прокси(:\n",
    "opt.add_experimental_option(\"excludeSwitches\", [\"enable-automation\"]) # отключает строку про удаленное управление\n",
    "opt.add_experimental_option('useAutomationExtension', False)"
   ]
  },
  {
   "cell_type": "code",
   "execution_count": 8,
   "id": "f6309cec",
   "metadata": {},
   "outputs": [
    {
     "name": "stdout",
     "output_type": "stream",
     "text": [
      "Login: tw1QwuaQ\n",
      "Pass: EJ1SMvdd\n"
     ]
    }
   ],
   "source": [
    "print('Login: ' + proxy_list[proxy_number][1])\n",
    "print('Pass: ' + proxy_list[proxy_number][2])"
   ]
  },
  {
   "cell_type": "code",
   "execution_count": 9,
   "id": "0d75faed",
   "metadata": {},
   "outputs": [],
   "source": [
    "# запускаю драйвер, проверяю настройки\n",
    "\n",
    "#driver = Chrome('C:/Users/bgi/Anaconda3/chromedriver/chromedriver', options=opt)\n",
    "\n",
    "driver = webdriver.Chrome(options=opt)\n",
    "driver.get(test_url)\n",
    "driver.maximize_window() # раскрываю окно на максимум"
   ]
  },
  {
   "cell_type": "code",
   "execution_count": null,
   "id": "d6ebd2e9",
   "metadata": {},
   "outputs": [],
   "source": []
  },
  {
   "cell_type": "markdown",
   "id": "bd524abd",
   "metadata": {},
   "source": [
    "## Собираю дела"
   ]
  },
  {
   "cell_type": "markdown",
   "id": "acf42814",
   "metadata": {},
   "source": [
    "#### Загружаю ссылки"
   ]
  },
  {
   "cell_type": "code",
   "execution_count": 16,
   "id": "6a4fee59",
   "metadata": {},
   "outputs": [],
   "source": [
    "work_urls = pd.read_excel(file_path + 'new_11.02.2022.xlsx')"
   ]
  },
  {
   "cell_type": "code",
   "execution_count": 17,
   "id": "4f24c222",
   "metadata": {},
   "outputs": [
    {
     "data": {
      "text/plain": [
       "(1978, 3)"
      ]
     },
     "execution_count": 17,
     "metadata": {},
     "output_type": "execute_result"
    }
   ],
   "source": [
    "work_urls.shape"
   ]
  },
  {
   "cell_type": "code",
   "execution_count": 18,
   "id": "9576b3ec",
   "metadata": {},
   "outputs": [],
   "source": [
    "url_list = work_urls.act_url.to_list()"
   ]
  },
  {
   "cell_type": "code",
   "execution_count": 19,
   "id": "20ebae5a",
   "metadata": {},
   "outputs": [
    {
     "data": {
      "text/plain": [
       "1978"
      ]
     },
     "execution_count": 19,
     "metadata": {},
     "output_type": "execute_result"
    }
   ],
   "source": [
    "len(url_list)"
   ]
  },
  {
   "cell_type": "code",
   "execution_count": null,
   "id": "abfb0a4b",
   "metadata": {},
   "outputs": [],
   "source": []
  },
  {
   "cell_type": "markdown",
   "id": "321c8be9",
   "metadata": {},
   "source": [
    "### Код парсера"
   ]
  },
  {
   "cell_type": "code",
   "execution_count": 14,
   "id": "d4a557ac",
   "metadata": {},
   "outputs": [],
   "source": [
    "data = [] # список для данных"
   ]
  },
  {
   "cell_type": "code",
   "execution_count": 21,
   "id": "61328c59",
   "metadata": {},
   "outputs": [
    {
     "data": {
      "application/vnd.jupyter.widget-view+json": {
       "model_id": "cc0106fe489340a09e24abe54521785c",
       "version_major": 2,
       "version_minor": 0
      },
      "text/plain": [
       "  0%|          | 0/178 [00:00<?, ?it/s]"
      ]
     },
     "metadata": {},
     "output_type": "display_data"
    }
   ],
   "source": [
    "for url in tqdm(url_list[1800:]):\n",
    "    \n",
    "    driver.get(url)\n",
    "    sleep(3)\n",
    "    \n",
    "    title = driver.find_element(By.TAG_NAME, 'h1').text # заголовок\n",
    "    \n",
    "    court_info = driver.find_element(By.CLASS_NAME, 'b-justice').text # инфо о суде и деле\n",
    "        \n",
    "    act_text = driver.find_element(By.CLASS_NAME, 'h-col1').text # текст дела\n",
    "    \n",
    "    # упоминание статей\n",
    "    articles = []\n",
    "    \n",
    "    article_hrefs = driver.find_elements(By.PARTIAL_LINK_TEXT, 'РФ')\n",
    "    \n",
    "    for item in article_hrefs:\n",
    "        articles += [item.text]\n",
    "        \n",
    "    # html код блока     \n",
    "    html_text = driver.find_element(By.CLASS_NAME, 'h-col1').get_attribute('innerHTML')\n",
    "           \n",
    "        \n",
    "    data.append([title, court_info, act_text, url, articles, html_text])"
   ]
  },
  {
   "cell_type": "code",
   "execution_count": 22,
   "id": "9e1a78f0",
   "metadata": {},
   "outputs": [],
   "source": [
    "# записываю в датафрейм\n",
    "\n",
    "head_list = ['act_name', 'court_info', 'act_text', 'act_url', 'articles', 'html_text']\n",
    "\n",
    "work_texts = pd.DataFrame(data, columns=head_list)"
   ]
  },
  {
   "cell_type": "code",
   "execution_count": 23,
   "id": "1d7be1d9",
   "metadata": {},
   "outputs": [
    {
     "data": {
      "text/html": [
       "<div>\n",
       "<style scoped>\n",
       "    .dataframe tbody tr th:only-of-type {\n",
       "        vertical-align: middle;\n",
       "    }\n",
       "\n",
       "    .dataframe tbody tr th {\n",
       "        vertical-align: top;\n",
       "    }\n",
       "\n",
       "    .dataframe thead th {\n",
       "        text-align: right;\n",
       "    }\n",
       "</style>\n",
       "<table border=\"1\" class=\"dataframe\">\n",
       "  <thead>\n",
       "    <tr style=\"text-align: right;\">\n",
       "      <th></th>\n",
       "      <th>act_name</th>\n",
       "      <th>court_info</th>\n",
       "      <th>act_text</th>\n",
       "      <th>act_url</th>\n",
       "      <th>articles</th>\n",
       "      <th>html_text</th>\n",
       "    </tr>\n",
       "  </thead>\n",
       "  <tbody>\n",
       "    <tr>\n",
       "      <th>263</th>\n",
       "      <td>Постановление № 5-213/2020 от 22 июля 2020 г. ...</td>\n",
       "      <td>Сосновский районный суд (Челябинская область) ...</td>\n",
       "      <td>Постановление № 5-213/2020 от 22 июля 2020 г. ...</td>\n",
       "      <td>https://sudact.ru/regular/doc/0tXFCzNtXob0/</td>\n",
       "      <td>[Судебные и нормативные акты РФ]</td>\n",
       "      <td>&lt;div class=\"bookmarkBlockContainer\"&gt;&lt;div class...</td>\n",
       "    </tr>\n",
       "    <tr>\n",
       "      <th>288</th>\n",
       "      <td>Приговор № 1-137/2020 от 29 сентября 2020 г. п...</td>\n",
       "      <td>Волосовский районный суд (Ленинградская област...</td>\n",
       "      <td>Приговор № 1-137/2020 от 29 сентября 2020 г. п...</td>\n",
       "      <td>https://sudact.ru/regular/doc/UdkqhDhVRtQS/</td>\n",
       "      <td>[Судебные и нормативные акты РФ, 325 УК РФ, 16...</td>\n",
       "      <td>&lt;div class=\"bookmarkBlockContainer\"&gt;&lt;div class...</td>\n",
       "    </tr>\n",
       "    <tr>\n",
       "      <th>196</th>\n",
       "      <td>Решение № 2А-429/2020 2А-429/2020~М-414/2020 М...</td>\n",
       "      <td>Некрасовский районный суд (Ярославская область...</td>\n",
       "      <td>Решение № 2А-429/2020 2А-429/2020~М-414/2020 М...</td>\n",
       "      <td>https://sudact.ru/regular/doc/yQqDBc8hJ7Lm/</td>\n",
       "      <td>[Судебные и нормативные акты РФ, 39 КАС РФ, 32...</td>\n",
       "      <td>&lt;div class=\"bookmarkBlockContainer\"&gt;&lt;div class...</td>\n",
       "    </tr>\n",
       "    <tr>\n",
       "      <th>476</th>\n",
       "      <td>Решение № 2А-429/2020 2А-429/2020~М-414/2020 М...</td>\n",
       "      <td>Некрасовский районный суд (Ярославская область...</td>\n",
       "      <td>Решение № 2А-429/2020 2А-429/2020~М-414/2020 М...</td>\n",
       "      <td>https://sudact.ru/regular/doc/yQqDBc8hJ7Lm/</td>\n",
       "      <td>[Судебные и нормативные акты РФ, 39 КАС РФ, 32...</td>\n",
       "      <td>&lt;div class=\"bookmarkBlockContainer\"&gt;&lt;div class...</td>\n",
       "    </tr>\n",
       "    <tr>\n",
       "      <th>207</th>\n",
       "      <td>Приговор № 1-361/2020 от 3 ноября 2020 г. по д...</td>\n",
       "      <td>Мичуринский городской суд (Тамбовская область)...</td>\n",
       "      <td>Приговор № 1-361/2020 от 3 ноября 2020 г. по д...</td>\n",
       "      <td>https://sudact.ru/regular/doc/Hki8tboIHGgA/</td>\n",
       "      <td>[Судебные и нормативные акты РФ, 322.1 УК РФ, ...</td>\n",
       "      <td>&lt;div class=\"bookmarkBlockContainer\"&gt;&lt;div class...</td>\n",
       "    </tr>\n",
       "  </tbody>\n",
       "</table>\n",
       "</div>"
      ],
      "text/plain": [
       "                                              act_name  \\\n",
       "263  Постановление № 5-213/2020 от 22 июля 2020 г. ...   \n",
       "288  Приговор № 1-137/2020 от 29 сентября 2020 г. п...   \n",
       "196  Решение № 2А-429/2020 2А-429/2020~М-414/2020 М...   \n",
       "476  Решение № 2А-429/2020 2А-429/2020~М-414/2020 М...   \n",
       "207  Приговор № 1-361/2020 от 3 ноября 2020 г. по д...   \n",
       "\n",
       "                                            court_info  \\\n",
       "263  Сосновский районный суд (Челябинская область) ...   \n",
       "288  Волосовский районный суд (Ленинградская област...   \n",
       "196  Некрасовский районный суд (Ярославская область...   \n",
       "476  Некрасовский районный суд (Ярославская область...   \n",
       "207  Мичуринский городской суд (Тамбовская область)...   \n",
       "\n",
       "                                              act_text  \\\n",
       "263  Постановление № 5-213/2020 от 22 июля 2020 г. ...   \n",
       "288  Приговор № 1-137/2020 от 29 сентября 2020 г. п...   \n",
       "196  Решение № 2А-429/2020 2А-429/2020~М-414/2020 М...   \n",
       "476  Решение № 2А-429/2020 2А-429/2020~М-414/2020 М...   \n",
       "207  Приговор № 1-361/2020 от 3 ноября 2020 г. по д...   \n",
       "\n",
       "                                         act_url  \\\n",
       "263  https://sudact.ru/regular/doc/0tXFCzNtXob0/   \n",
       "288  https://sudact.ru/regular/doc/UdkqhDhVRtQS/   \n",
       "196  https://sudact.ru/regular/doc/yQqDBc8hJ7Lm/   \n",
       "476  https://sudact.ru/regular/doc/yQqDBc8hJ7Lm/   \n",
       "207  https://sudact.ru/regular/doc/Hki8tboIHGgA/   \n",
       "\n",
       "                                              articles  \\\n",
       "263                   [Судебные и нормативные акты РФ]   \n",
       "288  [Судебные и нормативные акты РФ, 325 УК РФ, 16...   \n",
       "196  [Судебные и нормативные акты РФ, 39 КАС РФ, 32...   \n",
       "476  [Судебные и нормативные акты РФ, 39 КАС РФ, 32...   \n",
       "207  [Судебные и нормативные акты РФ, 322.1 УК РФ, ...   \n",
       "\n",
       "                                             html_text  \n",
       "263  <div class=\"bookmarkBlockContainer\"><div class...  \n",
       "288  <div class=\"bookmarkBlockContainer\"><div class...  \n",
       "196  <div class=\"bookmarkBlockContainer\"><div class...  \n",
       "476  <div class=\"bookmarkBlockContainer\"><div class...  \n",
       "207  <div class=\"bookmarkBlockContainer\"><div class...  "
      ]
     },
     "execution_count": 23,
     "metadata": {},
     "output_type": "execute_result"
    }
   ],
   "source": [
    "work_texts.sample(5)"
   ]
  },
  {
   "cell_type": "code",
   "execution_count": 24,
   "id": "fc4e7714",
   "metadata": {},
   "outputs": [
    {
     "data": {
      "text/plain": [
       "(779, 6)"
      ]
     },
     "execution_count": 24,
     "metadata": {},
     "output_type": "execute_result"
    }
   ],
   "source": [
    "work_texts.shape"
   ]
  },
  {
   "cell_type": "code",
   "execution_count": 25,
   "id": "a4f48012",
   "metadata": {},
   "outputs": [],
   "source": [
    "# номер файла\n",
    "\n",
    "number = 3"
   ]
  },
  {
   "cell_type": "code",
   "execution_count": 26,
   "id": "83fc2d2b",
   "metadata": {},
   "outputs": [],
   "source": [
    "work_texts.to_csv(file_path + f'new_{number}.csv', encoding='utf8', index=False)"
   ]
  },
  {
   "cell_type": "code",
   "execution_count": 27,
   "id": "2ccffa66",
   "metadata": {},
   "outputs": [],
   "source": [
    "driver.close()"
   ]
  },
  {
   "cell_type": "code",
   "execution_count": null,
   "id": "8eb48b98",
   "metadata": {},
   "outputs": [],
   "source": []
  },
  {
   "cell_type": "markdown",
   "id": "1177fec1",
   "metadata": {},
   "source": [
    "#### Объединяю с урлами"
   ]
  },
  {
   "cell_type": "code",
   "execution_count": null,
   "id": "ca9b5cc7",
   "metadata": {},
   "outputs": [],
   "source": [
    "work_urls.head()"
   ]
  },
  {
   "cell_type": "code",
   "execution_count": null,
   "id": "9e822d2e",
   "metadata": {},
   "outputs": [],
   "source": [
    "work_texts.head()"
   ]
  },
  {
   "cell_type": "code",
   "execution_count": null,
   "id": "0eb53569",
   "metadata": {},
   "outputs": [],
   "source": [
    "work_texts.shape"
   ]
  },
  {
   "cell_type": "code",
   "execution_count": null,
   "id": "a420d452",
   "metadata": {},
   "outputs": [],
   "source": [
    "work_texts = work_texts.merge(work_urls, on=['act_name', 'act_url'], how='left')"
   ]
  },
  {
   "cell_type": "code",
   "execution_count": null,
   "id": "8396383f",
   "metadata": {},
   "outputs": [],
   "source": [
    "work_texts.shape"
   ]
  },
  {
   "cell_type": "code",
   "execution_count": null,
   "id": "a7cb5acc",
   "metadata": {},
   "outputs": [],
   "source": [
    "#work_texts.to_csv(file_path + 'new_bears.csv', encoding='utf8', index=False)"
   ]
  },
  {
   "cell_type": "code",
   "execution_count": null,
   "id": "a1f6b3d4",
   "metadata": {},
   "outputs": [],
   "source": []
  },
  {
   "cell_type": "markdown",
   "id": "9abcc133",
   "metadata": {},
   "source": [
    "#### Добавляю запросы в датасет\n",
    "\n",
    "*Если они есть*"
   ]
  },
  {
   "cell_type": "code",
   "execution_count": null,
   "id": "a5ff44a9",
   "metadata": {},
   "outputs": [],
   "source": [
    "urls_original = pd.read_excel('C:/00_Projects/RIA/2022/02_elk_accidents/00_data/sudact/urls_elk.xlsx', sheet_name='original')"
   ]
  },
  {
   "cell_type": "code",
   "execution_count": null,
   "id": "536a7cd6",
   "metadata": {},
   "outputs": [],
   "source": [
    "urls_original.head(3)"
   ]
  },
  {
   "cell_type": "code",
   "execution_count": null,
   "id": "72647978",
   "metadata": {},
   "outputs": [],
   "source": [
    "\n",
    "only_urls = (urls_original.groupby('act_url', as_index=False)\n",
    " .agg({'instance': 'count'}))"
   ]
  },
  {
   "cell_type": "code",
   "execution_count": null,
   "id": "1db1a394",
   "metadata": {},
   "outputs": [],
   "source": [
    "only_urls"
   ]
  },
  {
   "cell_type": "code",
   "execution_count": null,
   "id": "1516c8f9",
   "metadata": {},
   "outputs": [],
   "source": []
  },
  {
   "cell_type": "code",
   "execution_count": null,
   "id": "7159c71a",
   "metadata": {},
   "outputs": [],
   "source": [
    "def apply_queries(df):\n",
    "    \n",
    "     return urls_original[urls_original['act_url'] == df.act_url]['need_text'].to_list()"
   ]
  },
  {
   "cell_type": "code",
   "execution_count": null,
   "id": "e43fdc9a",
   "metadata": {},
   "outputs": [],
   "source": [
    "only_urls['queries'] = only_urls.apply(apply_queries, axis=1)"
   ]
  },
  {
   "cell_type": "code",
   "execution_count": null,
   "id": "f8c1681a",
   "metadata": {},
   "outputs": [],
   "source": [
    "only_urls = only_urls[['act_url', 'queries']]"
   ]
  },
  {
   "cell_type": "code",
   "execution_count": null,
   "id": "9637359e",
   "metadata": {},
   "outputs": [],
   "source": [
    "work_texts = work_texts.merge(only_urls, how='left', on='act_url')"
   ]
  },
  {
   "cell_type": "code",
   "execution_count": null,
   "id": "8999b939",
   "metadata": {},
   "outputs": [],
   "source": [
    "work_texts"
   ]
  },
  {
   "cell_type": "code",
   "execution_count": null,
   "id": "8046f305",
   "metadata": {},
   "outputs": [],
   "source": []
  },
  {
   "cell_type": "markdown",
   "id": "b6cd00d8",
   "metadata": {},
   "source": [
    "#### Осмысленные значения инстанции"
   ]
  },
  {
   "cell_type": "code",
   "execution_count": null,
   "id": "7e5fe23a",
   "metadata": {},
   "outputs": [],
   "source": [
    "# осмысленные значения инстанции\n",
    "\n",
    "work_texts['instance'] = work_texts['instance'].replace(10, 'первая', regex=True)\n",
    "work_texts['instance'] = work_texts['instance'].replace(20, 'аппеляция', regex=True)\n",
    "work_texts['instance'] = work_texts['instance'].replace(30, 'кассация', regex=True)\n",
    "work_texts['instance'] = work_texts['instance'].replace(40, 'пересмотр', regex=True)\n",
    "work_texts['instance'] = work_texts['instance'].replace(60, 'надзор', regex=True)"
   ]
  },
  {
   "cell_type": "code",
   "execution_count": null,
   "id": "cf474688",
   "metadata": {},
   "outputs": [],
   "source": []
  },
  {
   "cell_type": "code",
   "execution_count": null,
   "id": "2efe2c9a",
   "metadata": {},
   "outputs": [],
   "source": [
    "work_texts.to_csv(file_path + 'new_243.csv', encoding='utf8', index=False)"
   ]
  },
  {
   "cell_type": "code",
   "execution_count": null,
   "id": "67fc014b",
   "metadata": {},
   "outputs": [],
   "source": []
  }
 ],
 "metadata": {
  "kernelspec": {
   "display_name": "Python 3",
   "language": "python",
   "name": "python3"
  },
  "language_info": {
   "codemirror_mode": {
    "name": "ipython",
    "version": 3
   },
   "file_extension": ".py",
   "mimetype": "text/x-python",
   "name": "python",
   "nbconvert_exporter": "python",
   "pygments_lexer": "ipython3",
   "version": "3.8.8"
  }
 },
 "nbformat": 4,
 "nbformat_minor": 5
}
