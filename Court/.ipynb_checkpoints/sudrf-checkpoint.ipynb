{
 "cells": [
  {
   "cell_type": "code",
   "execution_count": null,
   "id": "4be295f2",
   "metadata": {},
   "outputs": [],
   "source": []
  },
  {
   "cell_type": "markdown",
   "id": "27f633dc",
   "metadata": {},
   "source": [
    "Парсер ГАС \"Правосудия\"\n",
    "Собирает судебные решения и базовую информацию.\n",
    "\n",
    "Последние правки: 2022-01-21."
   ]
  },
  {
   "cell_type": "code",
   "execution_count": null,
   "id": "19bd83aa",
   "metadata": {},
   "outputs": [],
   "source": [
    "#Загружаю нужные библиотеки\n",
    "\n",
    "import pandas as pd\n",
    "import math\n",
    "import os\n",
    "\n",
    "# для юзер-агента\n",
    "from fake_useragent import UserAgent\n",
    "\n",
    "# прогресс-бар\n",
    "from tqdm.notebook import trange, tqdm\n",
    "\n",
    "# для пауз при парсинге\n",
    "from time import sleep\n",
    "\n",
    "# селениум\n",
    "from selenium.webdriver import Chrome\n",
    "from selenium.webdriver.chrome.service import Service\n",
    "\n",
    "from selenium import webdriver\n",
    "\n",
    "from selenium.common.exceptions import NoSuchElementException\n",
    "from selenium.webdriver.common.by import By\n",
    "from selenium.webdriver.support.ui import WebDriverWait\n",
    "from selenium.webdriver.support import expected_conditions as EC"
   ]
  },
  {
   "cell_type": "code",
   "execution_count": null,
   "id": "104c1c9f",
   "metadata": {},
   "outputs": [],
   "source": [
    "# настройки юзер-агента\n",
    "\n",
    "ua = UserAgent()\n",
    "\n",
    "# юзер-агент для Хрома\n",
    "user_agent = ua.chrome"
   ]
  },
  {
   "cell_type": "code",
   "execution_count": null,
   "id": "5bee9a31",
   "metadata": {},
   "outputs": [],
   "source": [
    "test_url = 'https://intoli.com/blog/not-possible-to-block-chrome-headless/chrome-headless-test.html'"
   ]
  },
  {
   "cell_type": "code",
   "execution_count": null,
   "id": "f4493d7b",
   "metadata": {},
   "outputs": [],
   "source": [
    "# путь к файлам\n",
    "\n",
    "file_path = 'C:/00_Data/' + input() + '/'\n",
    "proxy_list_path = 'C:/work/keys/proxy_list.txt'"
   ]
  },
  {
   "cell_type": "code",
   "execution_count": null,
   "id": "5b2c87b6",
   "metadata": {},
   "outputs": [],
   "source": [
    "# загружаю список прокси\n",
    "# список простой текстовый файл, который содержит прокси в формате: адрес:порт логин:пароль\n",
    "\n",
    "proxy_list = []\n",
    "\n",
    "with open(proxy_list_path, 'r') as f:\n",
    "    for line in f:\n",
    "        proxy_list += [line.split()]\n",
    "        \n",
    "print('Рабочих прокси — ' + str(len(proxy_list)))"
   ]
  },
  {
   "cell_type": "code",
   "execution_count": null,
   "id": "33c48f5d",
   "metadata": {},
   "outputs": [],
   "source": [
    "# номер прокси проще прописать вручную, ввод со строки постоянно глючит\n",
    "\n",
    "print('Номер прокси, от 0 до ' + str(len(proxy_list) - 1))\n",
    "proxy_number = int(input())"
   ]
  },
  {
   "cell_type": "code",
   "execution_count": null,
   "id": "93eaa308",
   "metadata": {},
   "outputs": [],
   "source": [
    "# настройки веб-драйвера, чтобы скрыть автоматическое управление\n",
    "\n",
    "opt = webdriver.ChromeOptions()\n",
    "opt.add_argument(f'user-agent={user_agent}')\n",
    "opt.add_argument('--disable-blink-features')\n",
    "opt.add_argument('--disable-blink-features=AutomationControlled')\n",
    "#opt.add_argument(f'--proxy-server={proxy_list[proxy_number][0]}') # \"девственный\" прокси(:\n",
    "opt.add_experimental_option(\"excludeSwitches\", [\"enable-automation\"]) # отключает строку про удаленное управление\n",
    "opt.add_experimental_option('useAutomationExtension', False)"
   ]
  },
  {
   "cell_type": "code",
   "execution_count": null,
   "id": "0eec9efb",
   "metadata": {},
   "outputs": [],
   "source": [
    "print('Login: ' + proxy_list[proxy_number][1])\n",
    "print('Pass: ' + proxy_list[proxy_number][2])"
   ]
  },
  {
   "cell_type": "code",
   "execution_count": null,
   "id": "86ed194c",
   "metadata": {},
   "outputs": [],
   "source": [
    "# запускаю драйвер, проверяю настройки\n",
    "\n",
    "#chromedriver_path = 'C:/Users/bgi/Anaconda3/chromedriver/chromedriver'\n",
    "#driver = Chrome(service=Service(chromedriver_path), options=opt)\n",
    "   \n",
    "driver = webdriver.Chrome(options=opt)\n",
    "driver.get(test_url)\n",
    "driver.maximize_window() # раскрываю окно на максимум"
   ]
  },
  {
   "cell_type": "code",
   "execution_count": null,
   "id": "757296d9",
   "metadata": {},
   "outputs": [],
   "source": []
  },
  {
   "cell_type": "markdown",
   "id": "79054e37",
   "metadata": {},
   "source": [
    "## Код парсера"
   ]
  },
  {
   "cell_type": "code",
   "execution_count": null,
   "id": "44da341f",
   "metadata": {},
   "outputs": [],
   "source": [
    "url = 'https://bsr.sudrf.ru/bigs/portal.html#%7B\"start\":0,\"rows\":30,\"uid\":\"e773eb7c-9a0c-4f28-ad1e-12b36fb7d122\",\"type\":\"MULTIQUERY\",\"multiqueryRequest\":%7B\"queryRequests\":%5B%7B\"type\":\"Q\",\"request\":\"%7B%5C\"mode%5C\":%5C\"EXTENDED%5C\",%5C\"typeRequests%5C\":%5B%7B%5C\"fieldRequests%5C\":%5B%7B%5C\"name%5C\":%5C\"case_document_category_article_cat%5C\",%5C\"operator%5C\":%5C\"SEW%5C\",%5C\"query%5C\":%5C\"Статья%20243%20Часть%202%5C\",%5C\"fieldName%5C\":%5C\"case_document_category_article_cat%5C\"%7D%5D,%5C\"mode%5C\":%5C\"AND%5C\",%5C\"name%5C\":%5C\"common%5C\",%5C\"typesMode%5C\":%5C\"AND%5C\"%7D%5D%7D\",\"operator\":\"AND\",\"queryRequestRole\":\"CATEGORIES\"%7D%5D%7D,\"sorts\":%5B%7B\"field\":\"score\",\"order\":\"desc\"%7D%5D,\"simpleSearchFieldsBundle\":\"default\",\"noOrpho\":false,\"facet\":%7B\"field\":%5B\"type\"%5D%7D,\"facetLimit\":21,\"additionalFields\":%5B\"court_document_documentype1\",\"court_case_entry_date\",\"court_case_result_date\",\"court_subject_rf\",\"court_name_court\",\"court_document_law_article\",\"court_case_result\",\"case_user_document_type\",\"case_user_doc_entry_date\",\"case_user_doc_result_date\",\"case_doc_subject_rf\",\"case_user_doc_court\",\"case_doc_instance\",\"case_document_category_article\",\"case_user_doc_result\",\"case_user_entry_date\",\"m_case_user_type\",\"m_case_user_sub_type\",\"ora_main_law_article\"%5D,\"hlFragSize\":1000,\"groupLimit\":3,\"woBoost\":false%7D'"
   ]
  },
  {
   "cell_type": "code",
   "execution_count": null,
   "id": "9aa5f3b9",
   "metadata": {},
   "outputs": [],
   "source": [
    "driver.get(url)\n",
    "sleep(2)"
   ]
  },
  {
   "cell_type": "code",
   "execution_count": null,
   "id": "ed4e3922",
   "metadata": {},
   "outputs": [],
   "source": []
  },
  {
   "cell_type": "markdown",
   "id": "0efa4ae2",
   "metadata": {},
   "source": [
    "Часть информации собираю на странице поиска, чтобы не заходить на дополнительную страницу."
   ]
  },
  {
   "cell_type": "code",
   "execution_count": null,
   "id": "d646b972",
   "metadata": {},
   "outputs": [],
   "source": [
    "data = [] # список для данных\n",
    "\n",
    "for i in tqdm(range(0, 19)): # цикл по блокам анонсов\n",
    "    \n",
    "    # вытаскиваю блоки анонсов\n",
    "    card_blocks = driver.find_element(By.ID, 'resultContainer').find_elements(By.CLASS_NAME, 'bgs-result')\n",
    "    \n",
    "    act_name = card_blocks[i].find_element(By.TAG_NAME, 'a').text\n",
    "    \n",
    "    # дата поступления\n",
    "    try:\n",
    "        receipt_date = (card_blocks[i]\n",
    "                        .find_element(By.CLASS_NAME, 'additional-field-value[data-comment=\"Дата поступления\"]')\n",
    "                        .text)\n",
    "        \n",
    "    except:\n",
    "        receipt_date = 'none'\n",
    "    \n",
    "    # дата вынесения решения\n",
    "    try:\n",
    "        act_date = (card_blocks[i]\n",
    "                    .find_element(By.CLASS_NAME, 'additional-field-value[data-comment=\"Дата решения\"]')\n",
    "                    .text)\n",
    "        \n",
    "    except:\n",
    "        act_date = 'none'\n",
    "    \n",
    "    # перехожу внутрь дела\n",
    "    card_blocks[i].find_element(By.TAG_NAME, 'a').click()\n",
    "    sleep(3)\n",
    "    \n",
    "    # перехожу в информацию о деле\n",
    "    \n",
    "    tab_active = driver.find_element(By.CLASS_NAME, 'tab.active').text\n",
    "    \n",
    "    if tab_active != 'Дело':\n",
    "        \n",
    "        driver.find_element(By.CLASS_NAME, 'tab[data-index=\"0\"]').click() # кликаю\n",
    "    \n",
    "    sleep(3)\n",
    "    \n",
    "    # номер акта\n",
    "    act = (driver.find_element(By.TAG_NAME, 'tr[data-name=\"case_user_doc_number\"]')\n",
    "           .text.split('\\n'))\n",
    "    \n",
    "    act_number = act[1]\n",
    "    \n",
    "    # вид судопроизводства\n",
    "    act_type = (driver.find_element(By.TAG_NAME, 'tr[data-name=\"case_doc_kind\"]')\n",
    "                     .find_element(By.CLASS_NAME, 'one-value').text)\n",
    "    \n",
    "    # инстанция\n",
    "    instance = (driver.find_element(By.TAG_NAME, 'tr[data-name=\"case_doc_instance\"]')\n",
    "                     .find_element(By.CLASS_NAME, 'one-value').text)\n",
    "    \n",
    "    # категория дела\n",
    "    try:\n",
    "        act_category = (driver.find_element(By.TAG_NAME, 'tr[data-name=\"g_case_user_category\"]')\n",
    "                        .find_element(By.CLASS_NAME, 'one-value').text)\n",
    "    except:\n",
    "        act_category = 'none'\n",
    "        \n",
    "    # регион\n",
    "    region = (driver.find_element(By.TAG_NAME, 'tr[data-name=\"case_doc_subject_rf\"]')\n",
    "              .find_element(By.CLASS_NAME, 'one-value').text)\n",
    "    \n",
    "    # суд\n",
    "    court = (driver.find_element(By.TAG_NAME, 'tr[data-name=\"case_user_doc_court\"]')\n",
    "             .find_element(By.CLASS_NAME, 'one-value').text)\n",
    "    \n",
    "    # итог дела\n",
    "    result = (driver.find_element(By.TAG_NAME, 'tr[data-name=\"case_user_doc_result\"]')\n",
    "              .find_element(By.CLASS_NAME, 'one-value').text)\n",
    "    \n",
    "    # протокол\n",
    "    try:\n",
    "        protocol_number = (driver.find_element(By.TAG_NAME, 'tr[data-name=\"adm_case_pr_number\"]')\n",
    "                           .find_element(By.CLASS_NAME, 'one-value').text)        \n",
    "    except:\n",
    "        protocol_number = ''\n",
    "    \n",
    "    # судья\n",
    "    judge = (driver.find_element(By.TAG_NAME, 'tr[data-name=\"case_common_judicial_uid\"]')\n",
    "             .find_element(By.CLASS_NAME, 'one-value').text)\n",
    "    \n",
    "    \n",
    "    # вытаскиваю нижнюю табличку \"Стороны под делу\"\n",
    "    try:\n",
    "        participants = (driver.find_element(By.TAG_NAME, 'tr[data-name=\"case_common_parts_m2_search\"]')\n",
    "                        .text.split('\\n'))\n",
    "    except:\n",
    "        participants= 'none'\n",
    "        \n",
    "            \n",
    "          \n",
    "    \n",
    "    data.append([act_name, act_number, protocol_number,\n",
    "                 act_type, instance, act_category,\n",
    "                 receipt_date, act_date,\n",
    "                 region, court,\n",
    "                 judge, participants,\n",
    "                 result\n",
    "                ])    \n",
    "    \n",
    "    driver.back()\n",
    "    sleep(5)"
   ]
  },
  {
   "cell_type": "code",
   "execution_count": null,
   "id": "e6f99d77",
   "metadata": {},
   "outputs": [],
   "source": [
    "headers = ['act_name', 'act_number', 'protocol_number',\n",
    "           'act_type', 'instance', 'act_category',\n",
    "           'receipt_date', 'act_date',\n",
    "           'region', 'court',\n",
    "           'judge', 'participants', 'result'\n",
    "          ]\n",
    "\n",
    "work = pd.DataFrame(data, columns=headers)"
   ]
  },
  {
   "cell_type": "code",
   "execution_count": null,
   "id": "3bb635ba",
   "metadata": {},
   "outputs": [],
   "source": [
    "work"
   ]
  },
  {
   "cell_type": "code",
   "execution_count": null,
   "id": "a14b0ee6",
   "metadata": {},
   "outputs": [],
   "source": [
    "work.to_excel(file_path + 'sudrf12.xlsx', index=False, sheet_name='original')"
   ]
  },
  {
   "cell_type": "code",
   "execution_count": null,
   "id": "64943a49",
   "metadata": {},
   "outputs": [],
   "source": []
  }
 ],
 "metadata": {
  "kernelspec": {
   "display_name": "Python 3",
   "language": "python",
   "name": "python3"
  },
  "language_info": {
   "codemirror_mode": {
    "name": "ipython",
    "version": 3
   },
   "file_extension": ".py",
   "mimetype": "text/x-python",
   "name": "python",
   "nbconvert_exporter": "python",
   "pygments_lexer": "ipython3",
   "version": "3.8.8"
  }
 },
 "nbformat": 4,
 "nbformat_minor": 5
}
