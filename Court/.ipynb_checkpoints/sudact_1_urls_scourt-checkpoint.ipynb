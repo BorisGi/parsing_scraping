{
 "cells": [
  {
   "cell_type": "markdown",
   "id": "8bca0d89",
   "metadata": {},
   "source": [
    "Парсер sudact.ru\n",
    "\n",
    "Часть первая собирает ссылки на дела. Дела, которые рассматривал Верховный суд.\n",
    "\n",
    "Последние правки скрипта: 2022-01-22"
   ]
  },
  {
   "cell_type": "markdown",
   "id": "a6f79695",
   "metadata": {},
   "source": [
    "## Библиотеки и настройки"
   ]
  },
  {
   "cell_type": "code",
   "execution_count": null,
   "id": "034f691e",
   "metadata": {},
   "outputs": [],
   "source": [
    "#Загружаю нужные библиотеки\n",
    "\n",
    "import pandas as pd\n",
    "import math\n",
    "import os\n",
    "\n",
    "import re\n",
    "\n",
    "# для юзер-агента\n",
    "from fake_useragent import UserAgent\n",
    "\n",
    "# прогресс-бар\n",
    "from tqdm.notebook import trange, tqdm\n",
    "\n",
    "# для пауз при парсинге\n",
    "from time import sleep\n",
    "\n",
    "# селениум\n",
    "from selenium.webdriver import Chrome\n",
    "from selenium.webdriver.chrome.service import Service\n",
    "from selenium import webdriver\n",
    "\n",
    "from selenium.common.exceptions import NoSuchElementException\n",
    "from selenium.webdriver.common.by import By\n",
    "from selenium.webdriver.support.ui import WebDriverWait\n",
    "from selenium.webdriver.support import expected_conditions as EC"
   ]
  },
  {
   "cell_type": "code",
   "execution_count": null,
   "id": "55d28a11",
   "metadata": {},
   "outputs": [],
   "source": [
    "# настройки юзер-агента\n",
    "\n",
    "ua = UserAgent()\n",
    "\n",
    "# юзер-агент для Хрома\n",
    "user_agent = ua.chrome"
   ]
  },
  {
   "cell_type": "code",
   "execution_count": null,
   "id": "d853e062",
   "metadata": {},
   "outputs": [],
   "source": [
    "test_url = 'https://intoli.com/blog/not-possible-to-block-chrome-headless/chrome-headless-test.html'"
   ]
  },
  {
   "cell_type": "code",
   "execution_count": null,
   "id": "728eb20f",
   "metadata": {},
   "outputs": [],
   "source": [
    "# путь к файлам\n",
    "\n",
    "file_path = 'C:/00_Data/' + input() + '/'\n",
    "proxy_list_path = 'C:/work/keys/proxy_list.txt'"
   ]
  },
  {
   "cell_type": "code",
   "execution_count": null,
   "id": "a62a6040",
   "metadata": {},
   "outputs": [],
   "source": [
    "# загружаю список прокси\n",
    "# список простой текстовый файл, который содержит прокси в формате: адрес:порт логин:пароль\n",
    "\n",
    "proxy_list = []\n",
    "\n",
    "with open(proxy_list_path, 'r') as f:\n",
    "    for line in f:\n",
    "        proxy_list += [line.split()]\n",
    "        \n",
    "print('Рабочих прокси — ' + str(len(proxy_list)))"
   ]
  },
  {
   "cell_type": "code",
   "execution_count": null,
   "id": "88fe7708",
   "metadata": {},
   "outputs": [],
   "source": [
    "# номер прокси проще прописать вручную, ввод со строки постоянно глючит\n",
    "\n",
    "print('Номер прокси, от 0 до ' + str(len(proxy_list) - 1))\n",
    "proxy_number = int(input())"
   ]
  },
  {
   "cell_type": "code",
   "execution_count": null,
   "id": "5f5f6eeb",
   "metadata": {},
   "outputs": [],
   "source": [
    "# настройки веб-драйвера, чтобы скрыть автоматическое управление\n",
    "\n",
    "opt = webdriver.ChromeOptions()\n",
    "opt.add_argument(f'user-agent={user_agent}')\n",
    "opt.add_argument('--disable-blink-features')\n",
    "opt.add_argument('--disable-blink-features=AutomationControlled')\n",
    "opt.add_argument(f'--proxy-server={proxy_list[proxy_number][0]}') # \"девственный\" прокси(:\n",
    "opt.add_experimental_option(\"excludeSwitches\", [\"enable-automation\"]) # отключает строку про удаленное управление\n",
    "opt.add_experimental_option('useAutomationExtension', False)"
   ]
  },
  {
   "cell_type": "code",
   "execution_count": null,
   "id": "f6309cec",
   "metadata": {},
   "outputs": [],
   "source": [
    "print('Login: ' + proxy_list[proxy_number][1])\n",
    "print('Pass: ' + proxy_list[proxy_number][2])"
   ]
  },
  {
   "cell_type": "code",
   "execution_count": null,
   "id": "0d75faed",
   "metadata": {},
   "outputs": [],
   "source": [
    "# запускаю драйвер, проверяю настройки\n",
    "\n",
    "#driver = Chrome('C:/Users/bgi/Anaconda3/chromedriver/chromedriver', options=opt)\n",
    "\n",
    "driver = webdriver.Chrome(options=opt)\n",
    "driver.get(test_url)\n",
    "driver.maximize_window() # раскрываю окно на максимум"
   ]
  },
  {
   "cell_type": "code",
   "execution_count": null,
   "id": "d6ebd2e9",
   "metadata": {},
   "outputs": [],
   "source": []
  },
  {
   "cell_type": "markdown",
   "id": "5517f3f3",
   "metadata": {},
   "source": [
    "## Собираю ссылки"
   ]
  },
  {
   "cell_type": "markdown",
   "id": "a29372a9",
   "metadata": {},
   "source": [
    "#### Верховный суд"
   ]
  },
  {
   "cell_type": "code",
   "execution_count": null,
   "id": "e7e08651",
   "metadata": {},
   "outputs": [],
   "source": [
    "#  параметры\n",
    "article = 'Статья+105.+Убийство%28УК+РФ%29' \n",
    "\n",
    "need_text = 'огнестрельный' \n",
    "\n",
    "start_date = '01.01.2007'\n",
    "end_date = '01.01.2009'\n",
    "\n",
    "\n",
    "# ссылки\n",
    "url_part_1 = 'https://sudact.ru/vsrf/doc/?page='\n",
    "\n",
    "url_part_2 = '&vsrf-judge=' # суд\n",
    "\n",
    "url_part_3 = '&vsrf-case_doc=' # номер дела\n",
    "\n",
    "url_part_4 = f'&vsrf-txt={need_text}' # текст запроса\n",
    "\n",
    "url_part_5 = f'&vsrf-date_from={start_date}' # начальная дата\n",
    "\n",
    "url_part_6 = f'&vsrf-lawchunkinfo={article}' # статья\n",
    "\n",
    "url_part_7 = f'&vsrf-date_to={end_date}' # конечная дата"
   ]
  },
  {
   "cell_type": "code",
   "execution_count": null,
   "id": "4c4a614a",
   "metadata": {},
   "outputs": [],
   "source": [
    "driver.get(url_part_1 + '2' + url_part_2 + url_part_3 + url_part_4 + url_part_5 + url_part_6 + url_part_7)\n",
    "sleep(5)"
   ]
  },
  {
   "cell_type": "code",
   "execution_count": null,
   "id": "18ea792d",
   "metadata": {},
   "outputs": [],
   "source": [
    "# количество страниц\n",
    "\n",
    "url_number = driver.find_element(By.ID, 'docListTFContainer').text\n",
    "\n",
    "print(url_number)\n",
    "\n",
    "page_number = math.ceil(int(re.sub(r'\\D', '', url_number)) / 10)\n",
    "\n",
    "print('Страниц: ' + str(page_number))"
   ]
  },
  {
   "cell_type": "code",
   "execution_count": null,
   "id": "5b9d6eec",
   "metadata": {},
   "outputs": [],
   "source": []
  },
  {
   "cell_type": "markdown",
   "id": "2fdaba96",
   "metadata": {},
   "source": [
    "Найдено 2 405 документов\n"
   ]
  },
  {
   "cell_type": "code",
   "execution_count": null,
   "id": "ec45501e",
   "metadata": {},
   "outputs": [],
   "source": [
    "data = [] # список для данных"
   ]
  },
  {
   "cell_type": "code",
   "execution_count": null,
   "id": "162ec1f6",
   "metadata": {},
   "outputs": [],
   "source": [
    "\n",
    "instance = 'Верховный суд'\n",
    "\n",
    "for i in tqdm(range(1, page_number + 1)):\n",
    "\n",
    "    driver.get(url_part_1 + str(i) + url_part_2 + url_part_3 + url_part_4 + url_part_5 + url_part_6 + url_part_7)\n",
    "    sleep(5)\n",
    "    \n",
    "    # забираю блоки ссылок\n",
    "    url_blocks = driver.find_elements(By.TAG_NAME, 'h4')\n",
    "\n",
    "    for url in url_blocks: # цикл для раздора\n",
    "        act_name = url.text\n",
    "        act_url = re.sub(r'\\?.+', '',\n",
    "                         url.find_element(By.TAG_NAME, 'a').get_attribute('href'))\n",
    "\n",
    "        data.append([act_name, instance, act_url])"
   ]
  },
  {
   "cell_type": "code",
   "execution_count": null,
   "id": "9e1a78f0",
   "metadata": {},
   "outputs": [],
   "source": [
    "# записываю в датафрейм\n",
    "\n",
    "head_list = ['act_name', 'instance', 'act_url']\n",
    "\n",
    "work_urls = pd.DataFrame(data, columns=head_list)"
   ]
  },
  {
   "cell_type": "code",
   "execution_count": null,
   "id": "1d7be1d9",
   "metadata": {},
   "outputs": [],
   "source": [
    "work_urls.sample(5)"
   ]
  },
  {
   "cell_type": "code",
   "execution_count": null,
   "id": "d410401c",
   "metadata": {},
   "outputs": [],
   "source": [
    "work_urls.shape"
   ]
  },
  {
   "cell_type": "code",
   "execution_count": null,
   "id": "83fc2d2b",
   "metadata": {},
   "outputs": [],
   "source": [
    "work_urls.to_excel(file_path + f'new_{end_date}.xlsx', encoding='utf8', index=False)"
   ]
  },
  {
   "cell_type": "code",
   "execution_count": null,
   "id": "2ccffa66",
   "metadata": {},
   "outputs": [],
   "source": []
  }
 ],
 "metadata": {
  "kernelspec": {
   "display_name": "Python 3",
   "language": "python",
   "name": "python3"
  },
  "language_info": {
   "codemirror_mode": {
    "name": "ipython",
    "version": 3
   },
   "file_extension": ".py",
   "mimetype": "text/x-python",
   "name": "python",
   "nbconvert_exporter": "python",
   "pygments_lexer": "ipython3",
   "version": "3.8.8"
  }
 },
 "nbformat": 4,
 "nbformat_minor": 5
}
