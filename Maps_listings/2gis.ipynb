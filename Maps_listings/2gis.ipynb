{
 "cells": [
  {
   "cell_type": "markdown",
   "id": "4b4fc02a",
   "metadata": {},
   "source": [
    "Скрипт для парсинга справочника 1GIS.\n",
    "\n",
    "Выгружает число объектов по заспросу.\n",
    "\n",
    "Последние правки: 2022-02-15"
   ]
  },
  {
   "cell_type": "code",
   "execution_count": null,
   "id": "e7274af0",
   "metadata": {},
   "outputs": [],
   "source": []
  },
  {
   "cell_type": "markdown",
   "id": "11c114c6",
   "metadata": {},
   "source": [
    "## Библиотеки и настройки"
   ]
  },
  {
   "cell_type": "code",
   "execution_count": null,
   "id": "c8005b9b",
   "metadata": {},
   "outputs": [],
   "source": [
    "#Загружаю нужные библиотеки\n",
    "\n",
    "import pandas as pd\n",
    "import math\n",
    "\n",
    "import datetime\n",
    "\n",
    "# регулярки\n",
    "import re\n",
    "\n",
    "\n",
    "# для юзер-агента\n",
    "from fake_useragent import UserAgent\n",
    "\n",
    "# прогресс-бар\n",
    "from tqdm.notebook import trange, tqdm\n",
    "\n",
    "# для пауз при парсинге\n",
    "from time import sleep\n",
    "\n",
    "# селениум\n",
    "from selenium import webdriver\n",
    "from selenium.webdriver.chrome.service import Service\n",
    "\n",
    "from selenium.common.exceptions import NoSuchElementException\n",
    "from selenium.webdriver.common.by import By\n",
    "from selenium.webdriver.support.ui import WebDriverWait\n",
    "from selenium.webdriver.support import expected_conditions as EC"
   ]
  },
  {
   "cell_type": "code",
   "execution_count": null,
   "id": "81b17d9e",
   "metadata": {},
   "outputs": [],
   "source": [
    "# настройки юзер-агента\n",
    "\n",
    "ua = UserAgent()\n",
    "\n",
    "# юзер-агент для Хрома\n",
    "user_agent = ua.chrome"
   ]
  },
  {
   "cell_type": "code",
   "execution_count": null,
   "id": "e0589f81",
   "metadata": {},
   "outputs": [],
   "source": [
    "# тестовая страница для Селениума\n",
    "\n",
    "test_url = 'https://intoli.com/blog/not-possible-to-block-chrome-headless/chrome-headless-test.html'"
   ]
  },
  {
   "cell_type": "code",
   "execution_count": null,
   "id": "78cb35f6",
   "metadata": {},
   "outputs": [],
   "source": [
    "# путь к файлам\n",
    "\n",
    "file_path = '/'\n",
    "proxy_list_path = 'C:/work/keys/proxy_list.txt' # путь и названия со списком прокси"
   ]
  },
  {
   "cell_type": "code",
   "execution_count": null,
   "id": "a5d5673e",
   "metadata": {},
   "outputs": [],
   "source": [
    "# загружаю список прокси\n",
    "# список простой текстовый файл, который содержит прокси в формате: адрес:порт логин:пароль\n",
    "\n",
    "proxy_list = []\n",
    "\n",
    "with open(proxy_list_path, 'r') as f:\n",
    "    for line in f:\n",
    "        proxy_list += [line.split()]\n",
    "        \n",
    "print('Рабочих прокси — ' + str(len(proxy_list)))"
   ]
  },
  {
   "cell_type": "code",
   "execution_count": null,
   "id": "affc8f9d",
   "metadata": {},
   "outputs": [],
   "source": [
    "# номер прокси\n",
    "\n",
    "print('Номер прокси, от 0 до ' + str(len(proxy_list) - 1))\n",
    "proxy_number = int(input())"
   ]
  },
  {
   "cell_type": "code",
   "execution_count": null,
   "id": "dab75db7",
   "metadata": {},
   "outputs": [],
   "source": [
    "# настройки веб-драйвера, чтобы скрыть автоматическое управление\n",
    "\n",
    "opt = webdriver.ChromeOptions()\n",
    "opt.add_argument(f'user-agent={user_agent}')\n",
    "opt.add_argument('--disable-blink-features')\n",
    "opt.add_argument('--disable-blink-features=AutomationControlled')\n",
    "#opt.add_argument(f'--proxy-server={proxy_list[proxy_number][0]}') # \"девственный\" прокси(:\n",
    "opt.add_experimental_option(\"excludeSwitches\", [\"enable-automation\"]) # отключает строку про удаленное управление\n",
    "opt.add_experimental_option('useAutomationExtension', False)"
   ]
  },
  {
   "cell_type": "code",
   "execution_count": null,
   "id": "efe91c63",
   "metadata": {},
   "outputs": [],
   "source": [
    "print('Login: ' + proxy_list[proxy_number][1])\n",
    "print('Pass: ' + proxy_list[proxy_number][2])"
   ]
  },
  {
   "cell_type": "code",
   "execution_count": null,
   "id": "60aba6c1",
   "metadata": {},
   "outputs": [],
   "source": [
    "# запускаю драйвер, проверяю настройки\n",
    "\n",
    "#s=Service('C:/Users/bgi/Anaconda3/chromedriver/chromedriver.exe')\n",
    "#driver = webdriver.Chrome(service=s, options=opt)\n",
    "\n",
    "driver = webdriver.Chrome(options=opt)\n",
    "driver.get(test_url)\n",
    "driver.maximize_window() # раскрываю окно на максимум"
   ]
  },
  {
   "cell_type": "code",
   "execution_count": null,
   "id": "8f43f1c5",
   "metadata": {},
   "outputs": [],
   "source": []
  },
  {
   "cell_type": "markdown",
   "id": "6ae690ba",
   "metadata": {},
   "source": [
    "## Собираю описания магазинов"
   ]
  },
  {
   "cell_type": "code",
   "execution_count": null,
   "id": "a038b627",
   "metadata": {},
   "outputs": [],
   "source": [
    "work = pd.DataFrame()"
   ]
  },
  {
   "cell_type": "code",
   "execution_count": null,
   "id": "0f13649b",
   "metadata": {},
   "outputs": [],
   "source": [
    "['moscow',\n",
    "\n",
    "]"
   ]
  },
  {
   "cell_type": "code",
   "execution_count": null,
   "id": "5b25c943",
   "metadata": {},
   "outputs": [],
   "source": [
    "city = i"
   ]
  },
  {
   "cell_type": "code",
   "execution_count": null,
   "id": "20b0aaa6",
   "metadata": {},
   "outputs": [],
   "source": [
    "start_url = 'https://2gis.ru/'\n",
    "city = input()\n",
    "end_url = '/search/Металлоискатели/rubricId/51202/page/'"
   ]
  },
  {
   "cell_type": "code",
   "execution_count": null,
   "id": "af3804e4",
   "metadata": {},
   "outputs": [],
   "source": [
    "driver.get(start_url + city + end_url + '1')\n",
    "\n",
    "page_number = math.ceil(\n",
    "    int(driver.find_element(By.PARTIAL_LINK_TEXT, 'Места')\n",
    "        .text.replace('Места', '')) / 12)"
   ]
  },
  {
   "cell_type": "code",
   "execution_count": null,
   "id": "f7e59eea",
   "metadata": {},
   "outputs": [],
   "source": [
    "data = []\n",
    "\n",
    "for p in tqdm(range(2, 6)):\n",
    "    driver.get(start_url + city + end_url + str(p))\n",
    "    sleep(3)\n",
    "    \n",
    "    # удаляю лишнее\n",
    "    temp_list = []\n",
    "    \n",
    "    for item in driver.find_element(By.CLASS_NAME, '_3zzdxk').text.split('\\n'):\n",
    "        if 'реклама' not in item and item != 'Цены на металлоискатели' and len(item) > 2:\n",
    "            temp_list.append(item)\n",
    "    \n",
    "    # разбиваю список по четыре элемента\n",
    "    for i in range(int(len(temp_list)/4)):\n",
    "        data.append(temp_list[0:4])\n",
    "        temp_list = temp_list[4:]"
   ]
  },
  {
   "cell_type": "code",
   "execution_count": null,
   "id": "7992e0f9",
   "metadata": {},
   "outputs": [],
   "source": [
    "driver.get(start_url + city + end_url + '6')"
   ]
  },
  {
   "cell_type": "code",
   "execution_count": null,
   "id": "d10f6618",
   "metadata": {},
   "outputs": [],
   "source": []
  },
  {
   "cell_type": "code",
   "execution_count": null,
   "id": "eb6dc2b4",
   "metadata": {},
   "outputs": [],
   "source": [
    "# конвертирую в датафрейм и добавляю город\n",
    "\n",
    "head = ['shop', 'description', 'address', 'work_hours']\n",
    "\n",
    "temp_work = pd.DataFrame(data, columns=head)\n",
    "\n",
    "temp_work['city'] = city\n",
    "\n",
    "work = work.append(temp_work)"
   ]
  },
  {
   "cell_type": "code",
   "execution_count": null,
   "id": "2f90c19e",
   "metadata": {},
   "outputs": [],
   "source": [
    "work.shape"
   ]
  },
  {
   "cell_type": "code",
   "execution_count": null,
   "id": "a3ecc7e1",
   "metadata": {},
   "outputs": [],
   "source": [
    "work.tail(2)"
   ]
  },
  {
   "cell_type": "code",
   "execution_count": null,
   "id": "64210652",
   "metadata": {},
   "outputs": [],
   "source": [
    "driver.find_element(By.CLASS_NAME, '_3zzdxk').text.split('\\n')"
   ]
  },
  {
   "cell_type": "code",
   "execution_count": null,
   "id": "192f5330",
   "metadata": {},
   "outputs": [],
   "source": []
  },
  {
   "cell_type": "code",
   "execution_count": null,
   "id": "59a2fe1a",
   "metadata": {},
   "outputs": [],
   "source": [
    "driver.quit()"
   ]
  },
  {
   "cell_type": "code",
   "execution_count": null,
   "id": "7f166884",
   "metadata": {},
   "outputs": [],
   "source": []
  }
 ],
 "metadata": {
  "kernelspec": {
   "display_name": "Python 3",
   "language": "python",
   "name": "python3"
  },
  "language_info": {
   "codemirror_mode": {
    "name": "ipython",
    "version": 3
   },
   "file_extension": ".py",
   "mimetype": "text/x-python",
   "name": "python",
   "nbconvert_exporter": "python",
   "pygments_lexer": "ipython3",
   "version": "3.8.8"
  }
 },
 "nbformat": 4,
 "nbformat_minor": 5
}
