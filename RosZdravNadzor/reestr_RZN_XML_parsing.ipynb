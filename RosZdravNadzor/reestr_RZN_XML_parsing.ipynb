{
 "cells": [
  {
   "cell_type": "markdown",
   "id": "a8b0ecb0",
   "metadata": {},
   "source": [
    "Скрипт разбирает Реестр лицензий РосЗдравнадзора в плоский формат из XML.\n",
    "\n",
    "От себя добавляет количество адресов (помещений, на которые оформляется лицензия) и нумерацию этих адресов.\n",
    "\n",
    "Исходный датасет: https://roszdravnadzor.gov.ru/opendata/7710537160-licenses"
   ]
  },
  {
   "cell_type": "markdown",
   "id": "f65ade8e",
   "metadata": {},
   "source": [
    "### Описание столбцов ###\n",
    "\n",
    "столбец — описание РЗН (на канцелярском) / перевод на русский"
   ]
  },
  {
   "cell_type": "markdown",
   "id": "0115de72",
   "metadata": {},
   "source": [
    "**name** — Наименование лицензирующего органа / Кто выдал лицензию\n",
    "\n",
    "**activity_type** — Лицензируемый вид деятельности / На что выдали\n",
    "\n",
    "**full_name_licensee** — Полное наименование лицензиата / Название компании\n",
    "\n",
    "**abbreviated_name_licensee** — Сокращенное наименование лицензиата\n",
    "\n",
    "**brand_name_licensee** — Фирменное наименование лицензиата\n",
    "\n",
    "**form** — Организационно-правовая форма\n",
    "\n",
    "**address_region** — Регион места нахождения юридического лица либо регион места жительства индивидуального предпринимателя\n",
    "\n",
    "**address** — Адрес места нахождения юридического лица либо адрес места жительства индивидуального предпринимателя\n",
    "\n",
    "**ogrn** —\tОГРН/ОГРНИП лицензиата\n",
    "\n",
    "**inn** — ИНН лицензиата\n",
    "\n",
    "**address_number** — none / Количество адресов (помещений, отделений, филиалов и т.п.), на которые выдана лицензия\n",
    "\n",
    "**address_nn** — none / Номер адреса\n",
    "\n",
    "**sub_address** — Адреса мест осуществления лицензируемого вида деятельности\n",
    "\n",
    "**sub_index** —\tИндекс\n",
    "\n",
    "**sub_region** — Регион\n",
    "\n",
    "**sub_city** —\tНаселенный пункт\n",
    "\n",
    "**sub_street** — Улица, дом, офис и т.д\n",
    "\n",
    "**sub_code_fias** —\tКод ФИАС\n",
    "\n",
    "**work_types** — Выполняемые работы, оказываемые услуги\n",
    "\n",
    "**number** — Номер лицензии\n",
    "\n",
    "**date** — Дата выдачи лицензии\n",
    "\n",
    "**number_orders** — Номер приказа (распоряжения) о предоставлении лицензии\n",
    "\n",
    "**date_order** — Дата приказа (распоряжения) о предоставлении лицензии\n",
    "\n",
    "**date_register** — Дата внесения записи в реестр\n",
    "\n",
    "**number_duplicate** —\tНомер дубликата лицензии\n",
    "\n",
    "**date_duplicate** — Дата выдачи дубликата лицензии\n",
    "\n",
    "**termination** — Основание прекращения действия лицензии\n",
    "\n",
    "**date_termination** — Дата прекращения действия лицензии\n",
    "\n",
    "**information** — Сведения о проведенных проверках\n",
    "\n",
    "**information_regulations** — Сведения о выданных постановлениях по результатам проверок\n",
    "\n",
    "**information_suspension_resumption** — Сведения о приостановлении/возобновлении действия лицензии\n",
    "\n",
    "**information_cancellation** — Сведения об аннулировании лицензии\n",
    "\n",
    "**information_reissuing** — Сведения о переоформлении лицензии\n",
    "\n",
    "**date_reissuing** — Дата переоформления лицензии"
   ]
  },
  {
   "cell_type": "code",
   "execution_count": 1,
   "id": "98676510",
   "metadata": {},
   "outputs": [],
   "source": [
    "import xml.etree.ElementTree as ET\n",
    "\n",
    "import pandas as pd"
   ]
  },
  {
   "cell_type": "code",
   "execution_count": 2,
   "id": "1c8e06ef",
   "metadata": {},
   "outputs": [],
   "source": [
    "# путь к файлу\n",
    "\n",
    "file_path = 'C:/00_Data/datasets/RosZdravNadzor/'"
   ]
  },
  {
   "cell_type": "code",
   "execution_count": 5,
   "id": "1b5ca686",
   "metadata": {},
   "outputs": [],
   "source": [
    "\n",
    "\n",
    "xml_data = open(file_path + 'reestr_RZN_2021_11_28.xml', 'r', encoding='utf-8').read()"
   ]
  },
  {
   "cell_type": "code",
   "execution_count": null,
   "id": "d2068ccc",
   "metadata": {},
   "outputs": [],
   "source": [
    "root = ET.XML(xml_data)  # Parse XML"
   ]
  },
  {
   "cell_type": "code",
   "execution_count": 3,
   "id": "163db307",
   "metadata": {},
   "outputs": [
    {
     "ename": "NameError",
     "evalue": "name 'xml_data' is not defined",
     "output_type": "error",
     "traceback": [
      "\u001b[1;31m---------------------------------------------------------------------------\u001b[0m",
      "\u001b[1;31mNameError\u001b[0m                                 Traceback (most recent call last)",
      "\u001b[1;32m<ipython-input-3-2d4f25c52e5e>\u001b[0m in \u001b[0;36m<module>\u001b[1;34m\u001b[0m\n\u001b[1;32m----> 1\u001b[1;33m \u001b[0mxml_data\u001b[0m\u001b[1;33m\u001b[0m\u001b[1;33m\u001b[0m\u001b[0m\n\u001b[0m",
      "\u001b[1;31mNameError\u001b[0m: name 'xml_data' is not defined"
     ]
    }
   ],
   "source": [
    "xml_data"
   ]
  },
  {
   "cell_type": "code",
   "execution_count": null,
   "id": "44ff4871",
   "metadata": {},
   "outputs": [],
   "source": [
    "%%time\n",
    "\n",
    "data = []\n",
    "\n",
    "for element in root:\n",
    "    name = element.find('name').text\n",
    "    activity_type = element.find('activity_type').text\n",
    "    full_name_licensee = element.find('full_name_licensee').text\n",
    "    abbreviated_name_licensee = element.find('abbreviated_name_licensee').text\n",
    "    brand_name_licensee = element.find('brand_name_licensee').text\n",
    "    form = element.find('form').text\n",
    "    address_region = element.find('address_region').text\n",
    "    address = element.find('address').text\n",
    "    ogrn = element.find('ogrn').text\n",
    "    inn = element.find('inn').text\n",
    "    address_number = len(element.find('work_address_list'))\n",
    "    number = element.find('number').text\n",
    "    date = element.find('date').text\n",
    "    number_orders = element.find('number_orders').text\n",
    "    date_order = element.find('date_order').text\n",
    "    date_register = element.find('date_register').text\n",
    "    number_duplicate = element.find('number_duplicate').text\n",
    "    date_duplicate = element.find('date_duplicate').text\n",
    "    termination = element.find('termination').text\n",
    "    date_termination = element.find('date_termination').text\n",
    "    information = element.find('information').text\n",
    "    information_regulations = element.find('information_regulations').text\n",
    "    information_suspension_resumption = element.find('information_suspension_resumption').text\n",
    "    information_cancellation = element.find('information_cancellation').text\n",
    "    information_reissuing = element.find('information_reissuing').text\n",
    "    date_reissuing = element.find('date_reissuing').text\n",
    "    \n",
    "    for i in range(address_number): # цикл для разбора данных филиалов\n",
    "        work_types = []\n",
    "        address_nn = i + 1\n",
    "        sub_address = element[10][i].find('address').text\n",
    "        sub_region = element[10][i].find('region').text\n",
    "        sub_index = element[10][i].find('index').text\n",
    "        sub_city = element[10][i].find('city').text\n",
    "        sub_street = element[10][i].find('street').text\n",
    "        sub_code_fias = element[10][i].find('code_fias').text\n",
    "        \n",
    "        \n",
    "        for work_type in element[10][i][6]: # цикл для сбора видов деятельности\n",
    "            work_types += [work_type.text]  \n",
    "            \n",
    "            \n",
    "        # добавляю данные в список, в теле 2-го цикла, чтобы \"распластать\" данные\n",
    "        data.append([name, activity_type,\n",
    "                     full_name_licensee, abbreviated_name_licensee, brand_name_licensee,\n",
    "                     form, address_region, address,\n",
    "                     ogrn, inn,\n",
    "                     address_number, address_nn,\n",
    "                     sub_address,\n",
    "                     sub_index, sub_region, sub_city, sub_street,\n",
    "                     sub_code_fias,\n",
    "                     work_types,\n",
    "                     number, date, number_orders, date_order, date_register,\n",
    "                     number_duplicate, date_duplicate,\n",
    "                     termination, date_termination,\n",
    "                     information, information_regulations,\n",
    "                     information_suspension_resumption,\n",
    "                     information_cancellation, information_reissuing, date_reissuing])"
   ]
  },
  {
   "cell_type": "code",
   "execution_count": null,
   "id": "49f7c209",
   "metadata": {},
   "outputs": [],
   "source": [
    "# создаю датафрейм на основе списка\n",
    "head_list = ['name', 'activity_type',\n",
    "             'full_name_licensee', 'abbreviated_name_licensee', 'brand_name_licensee',\n",
    "             'form', 'address_region', 'address',\n",
    "             'ogrn', 'inn',\n",
    "             'address_number', 'address_nn',\n",
    "             'sub_address',\n",
    "             'sub_index', 'sub_region', 'sub_city', 'sub_street',\n",
    "             'sub_code_fias',\n",
    "             'work_types',\n",
    "             'number', 'date', 'number_orders', 'date_order', 'date_register',\n",
    "             'number_duplicate', 'date_duplicate',\n",
    "             'termination', 'date_termination',\n",
    "             'information', 'information_regulations',\n",
    "             'information_suspension_resumption',             'information_cancellation', 'information_reissuing', 'date_reissuing']\n",
    "\n",
    "work = pd.DataFrame(data, columns=head_list)"
   ]
  },
  {
   "cell_type": "code",
   "execution_count": null,
   "id": "0afc41e8",
   "metadata": {},
   "outputs": [],
   "source": [
    "work.shape"
   ]
  },
  {
   "cell_type": "code",
   "execution_count": null,
   "id": "8ef9b754",
   "metadata": {},
   "outputs": [],
   "source": [
    "# записываю в csv\n",
    "\n",
    "work.to_csv('C:/00_Data/РосЗдравНадзор/RZN_lic_2021_11_28.csv', encoding='utf-8')"
   ]
  },
  {
   "cell_type": "code",
   "execution_count": null,
   "id": "e93f28cc",
   "metadata": {},
   "outputs": [],
   "source": [
    "# записываю в файл\n",
    "\n",
    "work.to_excel('C:/00_Data/РосЗдравНадзор/RosZdravNadzor/RZN_lic_2021_10_24.xlsx', index=False)"
   ]
  },
  {
   "cell_type": "code",
   "execution_count": null,
   "id": "e4b8a991",
   "metadata": {},
   "outputs": [],
   "source": []
  }
 ],
 "metadata": {
  "kernelspec": {
   "display_name": "Python 3",
   "language": "python",
   "name": "python3"
  },
  "language_info": {
   "codemirror_mode": {
    "name": "ipython",
    "version": 3
   },
   "file_extension": ".py",
   "mimetype": "text/x-python",
   "name": "python",
   "nbconvert_exporter": "python",
   "pygments_lexer": "ipython3",
   "version": "3.8.8"
  }
 },
 "nbformat": 4,
 "nbformat_minor": 5
}
