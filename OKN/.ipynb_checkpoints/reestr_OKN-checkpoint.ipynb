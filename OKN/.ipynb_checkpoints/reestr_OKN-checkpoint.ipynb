{
 "cells": [
  {
   "cell_type": "code",
   "execution_count": null,
   "metadata": {},
   "outputs": [],
   "source": []
  },
  {
   "cell_type": "markdown",
   "metadata": {},
   "source": [
    "https://opendata.mkrf.ru/opendata/7705851331-egrkn"
   ]
  },
  {
   "cell_type": "code",
   "execution_count": null,
   "metadata": {},
   "outputs": [],
   "source": [
    "import pandas as pd\n",
    "import numpy as np\n",
    "\n",
    "import re\n",
    "\n",
    "import matplotlib.pyplot as plt\n",
    "import seaborn as sns\n",
    "\n",
    "%matplotlib inline"
   ]
  },
  {
   "cell_type": "code",
   "execution_count": null,
   "metadata": {},
   "outputs": [],
   "source": []
  },
  {
   "cell_type": "code",
   "execution_count": null,
   "metadata": {},
   "outputs": [],
   "source": [
    "file_path = 'C:/00_Data/MinKult/'\n",
    "file_name = 'reestr_OKN_2021_12_17.csv'"
   ]
  },
  {
   "cell_type": "code",
   "execution_count": null,
   "metadata": {},
   "outputs": [],
   "source": [
    "# загружаю файл, скачанный с сайта Минкульта\n",
    "\n",
    "work_old = pd.read_csv(file_path + file_name, encoding='utf-8', low_memory=False)"
   ]
  },
  {
   "cell_type": "code",
   "execution_count": null,
   "metadata": {},
   "outputs": [],
   "source": [
    "work_old.shape"
   ]
  },
  {
   "cell_type": "code",
   "execution_count": null,
   "metadata": {},
   "outputs": [],
   "source": [
    "# смотрю случайные строки\n",
    "\n",
    "work_old.sample(3)"
   ]
  },
  {
   "cell_type": "code",
   "execution_count": null,
   "metadata": {},
   "outputs": [],
   "source": [
    "# удаляю пустые столбцы\n",
    "\n",
    "for column_name in work_old.columns: # цикл по столбцам\n",
    "    if list(work_old[column_name].value_counts()) == []: # проверка на содержательность\n",
    "        work_old.drop(column_name, axis=1, inplace=True) # если пустой, удаляю"
   ]
  },
  {
   "cell_type": "code",
   "execution_count": null,
   "metadata": {},
   "outputs": [],
   "source": [
    "# нахожу столбцы в которых только 1 значение\n",
    "\n",
    "for column_name in work_old.columns:\n",
    "    if work_old[column_name].nunique() == 1:\n",
    "        print('Название столбца: ' + column_name)\n",
    "        #print('Содержание' + work[column_name].unique)        \n",
    "        #work.drop(column_name, axis=1, inplace=True)       "
   ]
  },
  {
   "cell_type": "code",
   "execution_count": null,
   "metadata": {},
   "outputs": [],
   "source": [
    "# удаляю\n",
    "\n",
    "work_old.drop('категория объекта', axis=1, inplace=True)"
   ]
  },
  {
   "cell_type": "code",
   "execution_count": null,
   "metadata": {},
   "outputs": [],
   "source": [
    "# меняю названия\n",
    "\n",
    "work_old.rename(columns={'дата создания': 'date'}, inplace=True)"
   ]
  },
  {
   "cell_type": "code",
   "execution_count": null,
   "metadata": {},
   "outputs": [],
   "source": [
    "work_old.info()"
   ]
  },
  {
   "cell_type": "code",
   "execution_count": null,
   "metadata": {},
   "outputs": [],
   "source": [
    "work_old.describe()"
   ]
  },
  {
   "cell_type": "code",
   "execution_count": null,
   "metadata": {},
   "outputs": [],
   "source": []
  },
  {
   "cell_type": "markdown",
   "metadata": {},
   "source": [
    "## Даты ##"
   ]
  },
  {
   "cell_type": "code",
   "execution_count": null,
   "metadata": {},
   "outputs": [],
   "source": [
    "# удаляю двойные пробелы\n",
    "\n",
    "work_old['date'] = work_old['date'].str.replace('\\s+', ' ', regex=True )"
   ]
  },
  {
   "cell_type": "code",
   "execution_count": null,
   "metadata": {},
   "outputs": [],
   "source": [
    "# заполняю пропуски, чтобы избежать ошибок\n",
    "\n",
    "work_old['date'].fillna('none', inplace=True)"
   ]
  },
  {
   "cell_type": "code",
   "execution_count": null,
   "metadata": {},
   "outputs": [],
   "source": [
    "# удаляю пробелы в конце и начале строк\n",
    "\n",
    "work_old['date'] = work_old['date'].apply(lambda x: x.strip())"
   ]
  },
  {
   "cell_type": "code",
   "execution_count": null,
   "metadata": {},
   "outputs": [],
   "source": []
  },
  {
   "cell_type": "code",
   "execution_count": null,
   "metadata": {},
   "outputs": [],
   "source": []
  },
  {
   "cell_type": "code",
   "execution_count": null,
   "metadata": {},
   "outputs": [],
   "source": [
    "work = work_old.copy()"
   ]
  },
  {
   "cell_type": "code",
   "execution_count": null,
   "metadata": {},
   "outputs": [],
   "source": [
    "# меняю \"в. н. э.\" и \"век н.э.\" на просто \"век\"\n",
    "\n",
    "work['date'] = work['date'].str.replace(r'\\s?в?в\\.?\\s?н\\.?\\s?э\\.?', ' век', regex=True)\n",
    "work['date'] = work['date'].str.replace(r'век\\s?н\\.?\\s?э\\.?', ' век', regex=True)\n",
    "work['date'] = work['date'].str.replace(r'века\\s?нашей эры', ' век', regex=True)\n",
    "work['date'] = work['date'].str.replace(r'вв.\\s?нашей эры', ' век', regex=True)\n",
    "work['date'] = work['date'].str.replace(r'тысячелети[я|е] нашей эры', 'тыс.', regex=True)"
   ]
  },
  {
   "cell_type": "code",
   "execution_count": null,
   "metadata": {},
   "outputs": [],
   "source": []
  },
  {
   "cell_type": "code",
   "execution_count": null,
   "metadata": {},
   "outputs": [],
   "source": [
    "(work[work['date'].str.contains(r'\\sэры', regex=True)]\n",
    " .date.value_counts().reset_index()\n",
    ")#.to_excel(file_path + 'temp.xlsx')"
   ]
  },
  {
   "cell_type": "code",
   "execution_count": null,
   "metadata": {},
   "outputs": [],
   "source": [
    "# удаляю точки в конце строки (в некоторых строках 2 точки в конце)\n",
    "\n",
    "work['date'] = work['date'].str.replace(r'\\.{1,3}$', '', regex=True)"
   ]
  },
  {
   "cell_type": "code",
   "execution_count": null,
   "metadata": {},
   "outputs": [],
   "source": []
  },
  {
   "cell_type": "code",
   "execution_count": null,
   "metadata": {},
   "outputs": [],
   "source": [
    "work['date'] = work['date'].str.replace(r'\\sв$', ' век', regex=True)"
   ]
  },
  {
   "cell_type": "code",
   "execution_count": null,
   "metadata": {},
   "outputs": [],
   "source": [
    "work['date'] = work['date'].str.replace(r'\\sв\\sн.э$', ' век', regex=True)"
   ]
  },
  {
   "cell_type": "code",
   "execution_count": null,
   "metadata": {},
   "outputs": [],
   "source": []
  },
  {
   "cell_type": "code",
   "execution_count": null,
   "metadata": {},
   "outputs": [],
   "source": [
    "work['date'].value_counts()"
   ]
  },
  {
   "cell_type": "code",
   "execution_count": null,
   "metadata": {},
   "outputs": [],
   "source": []
  },
  {
   "cell_type": "markdown",
   "metadata": {},
   "source": [
    "### Чищу данные ###"
   ]
  },
  {
   "cell_type": "markdown",
   "metadata": {},
   "source": [
    "Меняю обозначение века на \"век\""
   ]
  },
  {
   "cell_type": "code",
   "execution_count": null,
   "metadata": {},
   "outputs": [],
   "source": [
    "(work[work['date'].str.contains(r'^\\w{2,5}\\s{0,1}в\\.{0,1}(\\sн\\.э\\.){0,1}$', regex=True, na=False)]\n",
    " .date.value_counts().reset_index()\n",
    ")\n",
    "#.to_excel(file_path + 'temp.xlsx')"
   ]
  },
  {
   "cell_type": "code",
   "execution_count": null,
   "metadata": {},
   "outputs": [],
   "source": [
    "(\n",
    "    work[work['date'].str.contains(r'^\\w{2,5}\\sвек$', regex=True, na=False)]\n",
    "    .date.nunique()\n",
    ")"
   ]
  },
  {
   "cell_type": "code",
   "execution_count": null,
   "metadata": {},
   "outputs": [],
   "source": [
    "# смотрю что есть\n",
    "\n",
    "(work[work['date'].str.contains(r'^\\w{2,5}\\s{0,1}в.{0,1}[\\sн.\\sэ]{0,4}$', regex=True, na=False)]\n",
    " .date.value_counts().reset_index()\n",
    ")\n",
    "\n",
    "#.to_excel(file_path + 'temp.xlsx')"
   ]
  },
  {
   "cell_type": "code",
   "execution_count": null,
   "metadata": {},
   "outputs": [],
   "source": [
    "# количество\n",
    "\n",
    "work[work['date'].str.contains(r'^\\w{2,5}\\s{0,1}в.{0,1}[\\sн.\\sэ]{0,5}$', regex=True, na=False)].date.nunique()"
   ]
  },
  {
   "cell_type": "code",
   "execution_count": null,
   "metadata": {},
   "outputs": [],
   "source": [
    "# меняю\n",
    "\n",
    "work['date'] = work['date'].str.replace(r'в.{0,1}[\\sн.\\sэ]{0,5}$', 'век', regex=True)"
   ]
  },
  {
   "cell_type": "code",
   "execution_count": null,
   "metadata": {},
   "outputs": [],
   "source": [
    "work[work['date'].str.contains(r'^\\w{2,5}\\s{0,1}век$', regex=True, na=False)].date.value_counts().sum()"
   ]
  },
  {
   "cell_type": "code",
   "execution_count": null,
   "metadata": {},
   "outputs": [],
   "source": []
  },
  {
   "cell_type": "code",
   "execution_count": null,
   "metadata": {},
   "outputs": [],
   "source": [
    "work[work['date'].str.contains(r'^\\w{3}\\sв.$', regex=True, na=False)].shape"
   ]
  },
  {
   "cell_type": "code",
   "execution_count": null,
   "metadata": {},
   "outputs": [],
   "source": [
    "(work[work['date'].str.contains(r'^\\w{2,5}\\sв[\\D]{0,6}$', regex=True, na=False)]\n",
    " .date.value_counts().reset_index())['index'].unique()"
   ]
  },
  {
   "cell_type": "code",
   "execution_count": null,
   "metadata": {},
   "outputs": [],
   "source": [
    "work.to_excel('C:/00_Data/OKN_50.xlsx', encoding='utf-8', index=False)"
   ]
  },
  {
   "cell_type": "code",
   "execution_count": null,
   "metadata": {},
   "outputs": [],
   "source": []
  },
  {
   "cell_type": "code",
   "execution_count": null,
   "metadata": {},
   "outputs": [],
   "source": []
  },
  {
   "cell_type": "code",
   "execution_count": null,
   "metadata": {},
   "outputs": [],
   "source": []
  },
  {
   "cell_type": "code",
   "execution_count": null,
   "metadata": {},
   "outputs": [],
   "source": [
    "# сколько обектов имеют точную дату создания: четыре цифры и приписку \"г.\"\n",
    "\n",
    "work[work['date'].str.contains(r'^\\d{4}\\sг.$', regex= True, na=False)].shape"
   ]
  },
  {
   "cell_type": "code",
   "execution_count": null,
   "metadata": {},
   "outputs": [],
   "source": [
    "# у некоторых строк на конце нет точки \n",
    "\n",
    "work[work['date'].str.contains(r'^\\d{4}\\sг$', regex= True, na=False)].shape"
   ]
  },
  {
   "cell_type": "code",
   "execution_count": null,
   "metadata": {},
   "outputs": [],
   "source": [
    "# а у некоторых нет и буквы \"г\"\n",
    "\n",
    "work[work['date'].str.contains(r'^\\d{4}$', case=True, regex= True, na=False)].shape"
   ]
  },
  {
   "cell_type": "code",
   "execution_count": null,
   "metadata": {},
   "outputs": [],
   "source": [
    "# удаляю \"г.\"\" и \"г\" в конце строки, чтобы отфильтровать ОКН с точной датой создания\n",
    "\n",
    "work['date'] = work['date'].str.replace(r'\\sг$','', regex= True)\n",
    "work['date'] = work['date'].str.replace(r'\\sг.$','', regex= True)"
   ]
  },
  {
   "cell_type": "code",
   "execution_count": null,
   "metadata": {},
   "outputs": [],
   "source": [
    "# доля объектов с точной датой\n",
    "\n",
    "int((work[work['date'].str.contains(r'^\\d{4}$', case=True, regex= True, na=False)].shape[0] /\n",
    " work.shape[0]) * 100)"
   ]
  },
  {
   "cell_type": "code",
   "execution_count": null,
   "metadata": {},
   "outputs": [],
   "source": []
  },
  {
   "cell_type": "code",
   "execution_count": null,
   "metadata": {},
   "outputs": [],
   "source": [
    "work['first_year'] = work[work['date'].str.contains(r'^\\d{4}$', case=True, regex= True, na=False)].date"
   ]
  },
  {
   "cell_type": "code",
   "execution_count": null,
   "metadata": {},
   "outputs": [],
   "source": [
    "wor"
   ]
  },
  {
   "cell_type": "code",
   "execution_count": null,
   "metadata": {},
   "outputs": [],
   "source": []
  },
  {
   "cell_type": "code",
   "execution_count": null,
   "metadata": {},
   "outputs": [],
   "source": []
  },
  {
   "cell_type": "code",
   "execution_count": null,
   "metadata": {},
   "outputs": [],
   "source": [
    "work[work['дата создания'].str.contains(r'^\\d{4}$', case=True, regex= True, na=False)].shape"
   ]
  },
  {
   "cell_type": "code",
   "execution_count": null,
   "metadata": {},
   "outputs": [],
   "source": [
    "temp = work[work['дата создания'].str.contains(r'^\\d{4}$', case=True, regex= True, na=False)]"
   ]
  },
  {
   "cell_type": "code",
   "execution_count": null,
   "metadata": {},
   "outputs": [],
   "source": [
    "temp = work[work['дата создания'].str.contains(r'\\sг$', regex= True, na=False)]"
   ]
  },
  {
   "cell_type": "code",
   "execution_count": null,
   "metadata": {},
   "outputs": [],
   "source": [
    "temp['дата создания'].value_counts"
   ]
  },
  {
   "cell_type": "code",
   "execution_count": null,
   "metadata": {},
   "outputs": [],
   "source": [
    "work['дата создания'].value_counts().reset_index().head(25)"
   ]
  },
  {
   "cell_type": "code",
   "execution_count": null,
   "metadata": {},
   "outputs": [],
   "source": []
  },
  {
   "cell_type": "code",
   "execution_count": null,
   "metadata": {},
   "outputs": [],
   "source": []
  },
  {
   "cell_type": "code",
   "execution_count": null,
   "metadata": {},
   "outputs": [],
   "source": []
  },
  {
   "cell_type": "code",
   "execution_count": null,
   "metadata": {},
   "outputs": [],
   "source": []
  },
  {
   "cell_type": "code",
   "execution_count": null,
   "metadata": {},
   "outputs": [],
   "source": []
  },
  {
   "cell_type": "code",
   "execution_count": null,
   "metadata": {},
   "outputs": [],
   "source": []
  },
  {
   "cell_type": "code",
   "execution_count": null,
   "metadata": {},
   "outputs": [],
   "source": [
    "# смотрю столбцы\n",
    "work.columns.to_list()"
   ]
  },
  {
   "cell_type": "code",
   "execution_count": null,
   "metadata": {},
   "outputs": [],
   "source": [
    "# список с ненужными столбцами\n",
    "\n",
    "unless_feature = [\n",
    "'Id',\n",
    "'учетный номер',\n",
    "'Id.1',\n",
    "'Id.3',\n",
    "'текстовое описание границ',\n",
    "'Id.5',\n",
    "'Id.6',\n",
    "'идентификатор ансамбля',\n",
    "'зоны охраны и режимы использования земель',\n",
    "'Items',\n",
    "'Id.7',\n",
    "'признак актуальности',\n",
    "'категория объекта',\n",
    "#'дата создания объекта',\n",
    "#'дата обновления объекта'    \n",
    "]"
   ]
  },
  {
   "cell_type": "code",
   "execution_count": null,
   "metadata": {},
   "outputs": [],
   "source": [
    "# удаляю ненужные столбцы\n",
    "\n",
    "for column_name in unless_feature:\n",
    "    work.drop(column_name, axis=1, inplace=True)"
   ]
  },
  {
   "cell_type": "code",
   "execution_count": null,
   "metadata": {},
   "outputs": [],
   "source": [
    "# список ненужных дат\n",
    "\n",
    "unless_dates = [\n",
    "    'XI',\n",
    "    'XV',\n",
    "    'XX в.'    \n",
    "]"
   ]
  },
  {
   "cell_type": "code",
   "execution_count": null,
   "metadata": {},
   "outputs": [],
   "source": [
    "# удаляю ненужные столбцы\n",
    "\n",
    "for column_name in unless_dates:\n",
    "    work.drop(column_name, axis=1, inplace=True)"
   ]
  },
  {
   "cell_type": "code",
   "execution_count": null,
   "metadata": {},
   "outputs": [],
   "source": [
    "work.shape"
   ]
  },
  {
   "cell_type": "code",
   "execution_count": null,
   "metadata": {},
   "outputs": [],
   "source": [
    "# удаляю строки с лишними датами\n",
    "\n",
    "for unless in unless_dates:\n",
    "    work = work[~(work['дата создания'].str.contains(unless, case=False))]"
   ]
  },
  {
   "cell_type": "code",
   "execution_count": null,
   "metadata": {},
   "outputs": [],
   "source": [
    "work.dtypes"
   ]
  },
  {
   "cell_type": "code",
   "execution_count": null,
   "metadata": {},
   "outputs": [],
   "source": [
    "work = pd.read_excel('C:/00_Projects/2021/OKN/OKN_2021_03_10.xlsx')"
   ]
  },
  {
   "cell_type": "code",
   "execution_count": null,
   "metadata": {},
   "outputs": [],
   "source": [
    "work.sample()"
   ]
  },
  {
   "cell_type": "code",
   "execution_count": null,
   "metadata": {},
   "outputs": [],
   "source": [
    "work.shape"
   ]
  },
  {
   "cell_type": "code",
   "execution_count": null,
   "metadata": {},
   "outputs": [],
   "source": [
    "for date in range(1099, 1979):\n",
    "     work = work[~(work.date == date)]   "
   ]
  },
  {
   "cell_type": "code",
   "execution_count": null,
   "metadata": {},
   "outputs": [],
   "source": [
    "work.shape"
   ]
  },
  {
   "cell_type": "code",
   "execution_count": null,
   "metadata": {},
   "outputs": [],
   "source": [
    "work.to_excel('C:/00_Data/OKN_50.xlsx', encoding='utf-8', index=False)"
   ]
  },
  {
   "cell_type": "code",
   "execution_count": null,
   "metadata": {},
   "outputs": [],
   "source": [
    "temp.to_excel('C:/00_Data/temp.xlsx', encoding='utf-8', index=False)"
   ]
  },
  {
   "cell_type": "code",
   "execution_count": null,
   "metadata": {},
   "outputs": [],
   "source": []
  },
  {
   "cell_type": "code",
   "execution_count": null,
   "metadata": {},
   "outputs": [],
   "source": []
  },
  {
   "cell_type": "code",
   "execution_count": null,
   "metadata": {},
   "outputs": [],
   "source": []
  },
  {
   "cell_type": "code",
   "execution_count": null,
   "metadata": {},
   "outputs": [],
   "source": []
  }
 ],
 "metadata": {
  "kernelspec": {
   "display_name": "Python 3",
   "language": "python",
   "name": "python3"
  },
  "language_info": {
   "codemirror_mode": {
    "name": "ipython",
    "version": 3
   },
   "file_extension": ".py",
   "mimetype": "text/x-python",
   "name": "python",
   "nbconvert_exporter": "python",
   "pygments_lexer": "ipython3",
   "version": "3.8.8"
  }
 },
 "nbformat": 4,
 "nbformat_minor": 2
}
