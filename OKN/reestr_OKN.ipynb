{
 "cells": [
  {
   "cell_type": "code",
   "execution_count": null,
   "metadata": {},
   "outputs": [],
   "source": []
  },
  {
   "cell_type": "markdown",
   "metadata": {},
   "source": [
    "https://opendata.mkrf.ru/opendata/7705851331-egrkn"
   ]
  },
  {
   "cell_type": "code",
   "execution_count": 1,
   "metadata": {},
   "outputs": [],
   "source": [
    "import pandas as pd\n",
    "import numpy as np\n",
    "\n",
    "import re\n",
    "\n",
    "import matplotlib.pyplot as plt\n",
    "import seaborn as sns\n",
    "\n",
    "%matplotlib inline"
   ]
  },
  {
   "cell_type": "code",
   "execution_count": null,
   "metadata": {},
   "outputs": [],
   "source": []
  },
  {
   "cell_type": "code",
   "execution_count": 2,
   "metadata": {},
   "outputs": [],
   "source": [
    "file_path = 'C:/00_Data/MinKult/'\n",
    "file_name = 'reestr_OKN_2021_12_17.csv'"
   ]
  },
  {
   "cell_type": "code",
   "execution_count": 3,
   "metadata": {},
   "outputs": [],
   "source": [
    "# загружаю файл, скачанный с сайта Минкульта\n",
    "\n",
    "work_old = pd.read_csv(file_path + file_name, encoding='utf-8', low_memory=False)"
   ]
  },
  {
   "cell_type": "code",
   "execution_count": 4,
   "metadata": {},
   "outputs": [
    {
     "data": {
      "text/plain": [
       "(147290, 53)"
      ]
     },
     "execution_count": 4,
     "metadata": {},
     "output_type": "execute_result"
    }
   ],
   "source": [
    "work_old.shape"
   ]
  },
  {
   "cell_type": "code",
   "execution_count": 5,
   "metadata": {},
   "outputs": [
    {
     "data": {
      "text/html": [
       "<div>\n",
       "<style scoped>\n",
       "    .dataframe tbody tr th:only-of-type {\n",
       "        vertical-align: middle;\n",
       "    }\n",
       "\n",
       "    .dataframe tbody tr th {\n",
       "        vertical-align: top;\n",
       "    }\n",
       "\n",
       "    .dataframe thead th {\n",
       "        text-align: right;\n",
       "    }\n",
       "</style>\n",
       "<table border=\"1\" class=\"dataframe\">\n",
       "  <thead>\n",
       "    <tr style=\"text-align: right;\">\n",
       "      <th></th>\n",
       "      <th>Объект</th>\n",
       "      <th>Номер в реестре</th>\n",
       "      <th>название улицы</th>\n",
       "      <th>Комментарий</th>\n",
       "      <th>Идентификатор дома в ФИАС</th>\n",
       "      <th>FiasAuxSubobjId</th>\n",
       "      <th>FiasAuxObjId</th>\n",
       "      <th>Идентификатор улицы в ФИАС</th>\n",
       "      <th>Идентификатор населенного пункта в ФИАС</th>\n",
       "      <th>Идентификатор внутрегородской территории в ФИАС</th>\n",
       "      <th>...</th>\n",
       "      <th>Id - идентификатор</th>\n",
       "      <th>признак актуальности</th>\n",
       "      <th>признак публичности</th>\n",
       "      <th>год постановки ОКН на Госохрану</th>\n",
       "      <th>год проведения реставрации</th>\n",
       "      <th>параметры, идентифицирующие ФЦП</th>\n",
       "      <th>относительный URL объекта</th>\n",
       "      <th>категория объекта</th>\n",
       "      <th>дата создания объекта</th>\n",
       "      <th>дата обновления объекта</th>\n",
       "    </tr>\n",
       "  </thead>\n",
       "  <tbody>\n",
       "    <tr>\n",
       "      <th>94001</th>\n",
       "      <td>Памятник В.И. Ленину</td>\n",
       "      <td>231710819040005</td>\n",
       "      <td>NaN</td>\n",
       "      <td>NaN</td>\n",
       "      <td>NaN</td>\n",
       "      <td>NaN</td>\n",
       "      <td>NaN</td>\n",
       "      <td>NaN</td>\n",
       "      <td>NaN</td>\n",
       "      <td>NaN</td>\n",
       "      <td>...</td>\n",
       "      <td>255738</td>\n",
       "      <td>True</td>\n",
       "      <td>NaN</td>\n",
       "      <td>NaN</td>\n",
       "      <td>NaN</td>\n",
       "      <td>NaN</td>\n",
       "      <td>/cdm/v2/heritages/1/255738</td>\n",
       "      <td>heritage</td>\n",
       "      <td>2017-03-22T06:20:01Z</td>\n",
       "      <td>NaN</td>\n",
       "    </tr>\n",
       "    <tr>\n",
       "      <th>50189</th>\n",
       "      <td>Дворец культуры завода резиново-технических из...</td>\n",
       "      <td>021510385740005</td>\n",
       "      <td>NaN</td>\n",
       "      <td>NaN</td>\n",
       "      <td>NaN</td>\n",
       "      <td>NaN</td>\n",
       "      <td>NaN</td>\n",
       "      <td>NaN</td>\n",
       "      <td>NaN</td>\n",
       "      <td>NaN</td>\n",
       "      <td>...</td>\n",
       "      <td>211133</td>\n",
       "      <td>True</td>\n",
       "      <td>NaN</td>\n",
       "      <td>1976.0</td>\n",
       "      <td>NaN</td>\n",
       "      <td>NaN</td>\n",
       "      <td>/cdm/v2/heritages/1/211133</td>\n",
       "      <td>heritage</td>\n",
       "      <td>NaN</td>\n",
       "      <td>2020-08-18T06:16:19Z</td>\n",
       "    </tr>\n",
       "    <tr>\n",
       "      <th>99483</th>\n",
       "      <td>Городище у д. Городище</td>\n",
       "      <td>691740869920006</td>\n",
       "      <td>NaN</td>\n",
       "      <td>NaN</td>\n",
       "      <td>NaN</td>\n",
       "      <td>NaN</td>\n",
       "      <td>NaN</td>\n",
       "      <td>NaN</td>\n",
       "      <td>NaN</td>\n",
       "      <td>NaN</td>\n",
       "      <td>...</td>\n",
       "      <td>261296</td>\n",
       "      <td>True</td>\n",
       "      <td>NaN</td>\n",
       "      <td>NaN</td>\n",
       "      <td>NaN</td>\n",
       "      <td>NaN</td>\n",
       "      <td>/cdm/v2/heritages/1/261296</td>\n",
       "      <td>heritage</td>\n",
       "      <td>2017-04-13T14:33:03Z</td>\n",
       "      <td>NaN</td>\n",
       "    </tr>\n",
       "  </tbody>\n",
       "</table>\n",
       "<p>3 rows × 53 columns</p>\n",
       "</div>"
      ],
      "text/plain": [
       "                                                  Объект  Номер в реестре  \\\n",
       "94001                               Памятник В.И. Ленину  231710819040005   \n",
       "50189  Дворец культуры завода резиново-технических из...  021510385740005   \n",
       "99483                             Городище у д. Городище  691740869920006   \n",
       "\n",
       "       название улицы  Комментарий  Идентификатор дома в ФИАС  \\\n",
       "94001             NaN          NaN                        NaN   \n",
       "50189             NaN          NaN                        NaN   \n",
       "99483             NaN          NaN                        NaN   \n",
       "\n",
       "       FiasAuxSubobjId  FiasAuxObjId  Идентификатор улицы в ФИАС  \\\n",
       "94001              NaN           NaN                         NaN   \n",
       "50189              NaN           NaN                         NaN   \n",
       "99483              NaN           NaN                         NaN   \n",
       "\n",
       "       Идентификатор населенного пункта в ФИАС  \\\n",
       "94001                                      NaN   \n",
       "50189                                      NaN   \n",
       "99483                                      NaN   \n",
       "\n",
       "       Идентификатор внутрегородской территории в ФИАС  ...  \\\n",
       "94001                                              NaN  ...   \n",
       "50189                                              NaN  ...   \n",
       "99483                                              NaN  ...   \n",
       "\n",
       "       Id - идентификатор  признак актуальности  признак публичности  \\\n",
       "94001              255738                  True                  NaN   \n",
       "50189              211133                  True                  NaN   \n",
       "99483              261296                  True                  NaN   \n",
       "\n",
       "       год постановки ОКН на Госохрану  год проведения реставрации  \\\n",
       "94001                              NaN                         NaN   \n",
       "50189                           1976.0                         NaN   \n",
       "99483                              NaN                         NaN   \n",
       "\n",
       "       параметры, идентифицирующие ФЦП   относительный URL объекта  \\\n",
       "94001                              NaN  /cdm/v2/heritages/1/255738   \n",
       "50189                              NaN  /cdm/v2/heritages/1/211133   \n",
       "99483                              NaN  /cdm/v2/heritages/1/261296   \n",
       "\n",
       "      категория объекта  дата создания объекта дата обновления объекта  \n",
       "94001          heritage   2017-03-22T06:20:01Z                     NaN  \n",
       "50189          heritage                    NaN    2020-08-18T06:16:19Z  \n",
       "99483          heritage   2017-04-13T14:33:03Z                     NaN  \n",
       "\n",
       "[3 rows x 53 columns]"
      ]
     },
     "execution_count": 5,
     "metadata": {},
     "output_type": "execute_result"
    }
   ],
   "source": [
    "# смотрю случайные строки\n",
    "\n",
    "work_old.sample(3)"
   ]
  },
  {
   "cell_type": "code",
   "execution_count": 6,
   "metadata": {},
   "outputs": [],
   "source": [
    "# удаляю пустые столбцы\n",
    "\n",
    "for column_name in work_old.columns: # цикл по столбцам\n",
    "    if list(work_old[column_name].value_counts()) == []: # проверка на содержательность\n",
    "        work_old.drop(column_name, axis=1, inplace=True) # если пустой, удаляю"
   ]
  },
  {
   "cell_type": "code",
   "execution_count": 7,
   "metadata": {},
   "outputs": [
    {
     "name": "stdout",
     "output_type": "stream",
     "text": [
      "Название столбца: признак актуальности\n",
      "Название столбца: категория объекта\n"
     ]
    }
   ],
   "source": [
    "# нахожу столбцы в которых только 1 значение\n",
    "\n",
    "for column_name in work_old.columns:\n",
    "    if work_old[column_name].nunique() == 1:\n",
    "        print('Название столбца: ' + column_name)\n",
    "        #print('Содержание' + work[column_name].unique)        \n",
    "        #work.drop(column_name, axis=1, inplace=True)       "
   ]
  },
  {
   "cell_type": "code",
   "execution_count": 8,
   "metadata": {},
   "outputs": [],
   "source": [
    "# удаляю\n",
    "\n",
    "work_old.drop('категория объекта', axis=1, inplace=True)"
   ]
  },
  {
   "cell_type": "code",
   "execution_count": 9,
   "metadata": {},
   "outputs": [],
   "source": [
    "# меняю названия\n",
    "\n",
    "work_old.rename(columns={'дата создания': 'date'}, inplace=True)"
   ]
  },
  {
   "cell_type": "code",
   "execution_count": 10,
   "metadata": {},
   "outputs": [
    {
     "name": "stdout",
     "output_type": "stream",
     "text": [
      "<class 'pandas.core.frame.DataFrame'>\n",
      "RangeIndex: 147290 entries, 0 to 147289\n",
      "Data columns (total 31 columns):\n",
      " #   Column                                      Non-Null Count   Dtype  \n",
      "---  ------                                      --------------   -----  \n",
      " 0   Объект                                      147290 non-null  object \n",
      " 1   Номер в реестре                             147290 non-null  object \n",
      " 2   Полный адрес                                92192 non-null   object \n",
      " 3   На карте                                    39820 non-null   object \n",
      " 4   Id-Регион                                   147290 non-null  int64  \n",
      " 5   Регион                                      147290 non-null  object \n",
      " 6   учетный номер                               147290 non-null  object \n",
      " 7   Id-Категория историко-культурного значения  147290 non-null  int64  \n",
      " 8   Категория историко-культурного значения     147290 non-null  object \n",
      " 9   Id-Вид объекта                              147290 non-null  int64  \n",
      " 10  Вид объекта                                 147290 non-null  object \n",
      " 11  описание предмета охраны                    14025 non-null   object \n",
      " 12  текстовое описание границ                   11573 non-null   object \n",
      " 13  Id-общая видовая принадлежность             143983 non-null  object \n",
      " 14  Id-Принадлежность к Юнеско                  147290 non-null  int64  \n",
      " 15  Принадлежность к Юнеско                     147252 non-null  object \n",
      " 16  Id-Особо ценный объект                      147290 non-null  int64  \n",
      " 17  Особо ценный объект                         147252 non-null  object \n",
      " 18  идентификатор ансамбля                      20016 non-null   float64\n",
      " 19  date                                        143792 non-null  object \n",
      " 20  наименование документа                      147178 non-null  object \n",
      " 21  Изображение                                 85252 non-null   object \n",
      " 22  зоны охраны и режимы использования земель   2293 non-null    object \n",
      " 23  Items                                       2330 non-null    object \n",
      " 24  Id - идентификатор                          147290 non-null  int64  \n",
      " 25  признак актуальности                        110467 non-null  object \n",
      " 26  год постановки ОКН на Госохрану             2353 non-null    float64\n",
      " 27  год проведения реставрации                  47 non-null      float64\n",
      " 28  относительный URL объекта                   147290 non-null  object \n",
      " 29  дата создания объекта                       136393 non-null  object \n",
      " 30  дата обновления объекта                     10897 non-null   object \n",
      "dtypes: float64(3), int64(6), object(22)\n",
      "memory usage: 34.8+ MB\n"
     ]
    }
   ],
   "source": [
    "work_old.info()"
   ]
  },
  {
   "cell_type": "code",
   "execution_count": 11,
   "metadata": {},
   "outputs": [
    {
     "data": {
      "text/html": [
       "<div>\n",
       "<style scoped>\n",
       "    .dataframe tbody tr th:only-of-type {\n",
       "        vertical-align: middle;\n",
       "    }\n",
       "\n",
       "    .dataframe tbody tr th {\n",
       "        vertical-align: top;\n",
       "    }\n",
       "\n",
       "    .dataframe thead th {\n",
       "        text-align: right;\n",
       "    }\n",
       "</style>\n",
       "<table border=\"1\" class=\"dataframe\">\n",
       "  <thead>\n",
       "    <tr style=\"text-align: right;\">\n",
       "      <th></th>\n",
       "      <th>Id-Регион</th>\n",
       "      <th>Id-Категория историко-культурного значения</th>\n",
       "      <th>Id-Вид объекта</th>\n",
       "      <th>Id-Принадлежность к Юнеско</th>\n",
       "      <th>Id-Особо ценный объект</th>\n",
       "      <th>идентификатор ансамбля</th>\n",
       "      <th>Id - идентификатор</th>\n",
       "      <th>год постановки ОКН на Госохрану</th>\n",
       "      <th>год проведения реставрации</th>\n",
       "    </tr>\n",
       "  </thead>\n",
       "  <tbody>\n",
       "    <tr>\n",
       "      <th>count</th>\n",
       "      <td>147290.000000</td>\n",
       "      <td>147290.000000</td>\n",
       "      <td>147290.000000</td>\n",
       "      <td>147290.000000</td>\n",
       "      <td>147290.000000</td>\n",
       "      <td>20016.000000</td>\n",
       "      <td>147290.000000</td>\n",
       "      <td>2353.000000</td>\n",
       "      <td>47.000000</td>\n",
       "    </tr>\n",
       "    <tr>\n",
       "      <th>mean</th>\n",
       "      <td>45.208100</td>\n",
       "      <td>1.567717</td>\n",
       "      <td>1.176753</td>\n",
       "      <td>1.994100</td>\n",
       "      <td>1.998031</td>\n",
       "      <td>224410.708533</td>\n",
       "      <td>235468.865429</td>\n",
       "      <td>1996.629834</td>\n",
       "      <td>2013.978723</td>\n",
       "    </tr>\n",
       "    <tr>\n",
       "      <th>std</th>\n",
       "      <td>23.425768</td>\n",
       "      <td>0.612570</td>\n",
       "      <td>0.417427</td>\n",
       "      <td>0.079882</td>\n",
       "      <td>0.049810</td>\n",
       "      <td>46198.039553</td>\n",
       "      <td>46539.049091</td>\n",
       "      <td>17.076665</td>\n",
       "      <td>6.169664</td>\n",
       "    </tr>\n",
       "    <tr>\n",
       "      <th>min</th>\n",
       "      <td>1.000000</td>\n",
       "      <td>1.000000</td>\n",
       "      <td>1.000000</td>\n",
       "      <td>0.000000</td>\n",
       "      <td>0.000000</td>\n",
       "      <td>147610.000000</td>\n",
       "      <td>147449.000000</td>\n",
       "      <td>1947.000000</td>\n",
       "      <td>1993.000000</td>\n",
       "    </tr>\n",
       "    <tr>\n",
       "      <th>25%</th>\n",
       "      <td>24.000000</td>\n",
       "      <td>1.000000</td>\n",
       "      <td>1.000000</td>\n",
       "      <td>2.000000</td>\n",
       "      <td>2.000000</td>\n",
       "      <td>186697.000000</td>\n",
       "      <td>197328.250000</td>\n",
       "      <td>1987.000000</td>\n",
       "      <td>2008.500000</td>\n",
       "    </tr>\n",
       "    <tr>\n",
       "      <th>50%</th>\n",
       "      <td>48.000000</td>\n",
       "      <td>2.000000</td>\n",
       "      <td>1.000000</td>\n",
       "      <td>2.000000</td>\n",
       "      <td>2.000000</td>\n",
       "      <td>215413.000000</td>\n",
       "      <td>235160.500000</td>\n",
       "      <td>1994.000000</td>\n",
       "      <td>2016.000000</td>\n",
       "    </tr>\n",
       "    <tr>\n",
       "      <th>75%</th>\n",
       "      <td>63.000000</td>\n",
       "      <td>2.000000</td>\n",
       "      <td>1.000000</td>\n",
       "      <td>2.000000</td>\n",
       "      <td>2.000000</td>\n",
       "      <td>256759.000000</td>\n",
       "      <td>272472.750000</td>\n",
       "      <td>2018.000000</td>\n",
       "      <td>2019.000000</td>\n",
       "    </tr>\n",
       "    <tr>\n",
       "      <th>max</th>\n",
       "      <td>92.000000</td>\n",
       "      <td>4.000000</td>\n",
       "      <td>3.000000</td>\n",
       "      <td>2.000000</td>\n",
       "      <td>2.000000</td>\n",
       "      <td>328492.000000</td>\n",
       "      <td>329115.000000</td>\n",
       "      <td>2021.000000</td>\n",
       "      <td>2020.000000</td>\n",
       "    </tr>\n",
       "  </tbody>\n",
       "</table>\n",
       "</div>"
      ],
      "text/plain": [
       "           Id-Регион  Id-Категория историко-культурного значения  \\\n",
       "count  147290.000000                               147290.000000   \n",
       "mean       45.208100                                    1.567717   \n",
       "std        23.425768                                    0.612570   \n",
       "min         1.000000                                    1.000000   \n",
       "25%        24.000000                                    1.000000   \n",
       "50%        48.000000                                    2.000000   \n",
       "75%        63.000000                                    2.000000   \n",
       "max        92.000000                                    4.000000   \n",
       "\n",
       "       Id-Вид объекта  Id-Принадлежность к Юнеско  Id-Особо ценный объект  \\\n",
       "count   147290.000000               147290.000000           147290.000000   \n",
       "mean         1.176753                    1.994100                1.998031   \n",
       "std          0.417427                    0.079882                0.049810   \n",
       "min          1.000000                    0.000000                0.000000   \n",
       "25%          1.000000                    2.000000                2.000000   \n",
       "50%          1.000000                    2.000000                2.000000   \n",
       "75%          1.000000                    2.000000                2.000000   \n",
       "max          3.000000                    2.000000                2.000000   \n",
       "\n",
       "       идентификатор ансамбля  Id - идентификатор  \\\n",
       "count            20016.000000       147290.000000   \n",
       "mean            224410.708533       235468.865429   \n",
       "std              46198.039553        46539.049091   \n",
       "min             147610.000000       147449.000000   \n",
       "25%             186697.000000       197328.250000   \n",
       "50%             215413.000000       235160.500000   \n",
       "75%             256759.000000       272472.750000   \n",
       "max             328492.000000       329115.000000   \n",
       "\n",
       "       год постановки ОКН на Госохрану  год проведения реставрации  \n",
       "count                      2353.000000                   47.000000  \n",
       "mean                       1996.629834                 2013.978723  \n",
       "std                          17.076665                    6.169664  \n",
       "min                        1947.000000                 1993.000000  \n",
       "25%                        1987.000000                 2008.500000  \n",
       "50%                        1994.000000                 2016.000000  \n",
       "75%                        2018.000000                 2019.000000  \n",
       "max                        2021.000000                 2020.000000  "
      ]
     },
     "execution_count": 11,
     "metadata": {},
     "output_type": "execute_result"
    }
   ],
   "source": [
    "work_old.describe()"
   ]
  },
  {
   "cell_type": "code",
   "execution_count": null,
   "metadata": {},
   "outputs": [],
   "source": []
  },
  {
   "cell_type": "markdown",
   "metadata": {},
   "source": [
    "## Даты ##"
   ]
  },
  {
   "cell_type": "code",
   "execution_count": 12,
   "metadata": {},
   "outputs": [],
   "source": [
    "# удаляю двойные пробелы\n",
    "\n",
    "work_old['date'] = work_old['date'].str.replace('\\s+', ' ', regex=True )"
   ]
  },
  {
   "cell_type": "code",
   "execution_count": 13,
   "metadata": {},
   "outputs": [],
   "source": [
    "# заполняю пропуски, чтобы избежать ошибок\n",
    "\n",
    "work_old['date'].fillna('none', inplace=True)"
   ]
  },
  {
   "cell_type": "code",
   "execution_count": 14,
   "metadata": {},
   "outputs": [],
   "source": [
    "# удаляю пробелы в конце и начале строк\n",
    "\n",
    "work_old['date'] = work_old['date'].apply(lambda x: x.strip())"
   ]
  },
  {
   "cell_type": "code",
   "execution_count": null,
   "metadata": {},
   "outputs": [],
   "source": []
  },
  {
   "cell_type": "code",
   "execution_count": null,
   "metadata": {},
   "outputs": [],
   "source": []
  },
  {
   "cell_type": "code",
   "execution_count": 15,
   "metadata": {},
   "outputs": [],
   "source": [
    "work = work_old.copy()"
   ]
  },
  {
   "cell_type": "code",
   "execution_count": 16,
   "metadata": {},
   "outputs": [],
   "source": [
    "# меняю \"в. н. э.\" и \"век н.э.\" на просто \"век\"\n",
    "\n",
    "work['date'] = work['date'].str.replace(r'\\s?в?в\\.?\\s?н\\.?\\s?э\\.?', ' век', regex=True)\n",
    "work['date'] = work['date'].str.replace(r'век\\s?н\\.?\\s?э\\.?', ' век', regex=True)\n",
    "work['date'] = work['date'].str.replace(r'века\\s?нашей эры', ' век', regex=True)\n",
    "work['date'] = work['date'].str.replace(r'вв.\\s?нашей эры', ' век', regex=True)\n",
    "work['date'] = work['date'].str.replace(r'тысячелети[я|е] нашей эры', 'тыс.', regex=True)"
   ]
  },
  {
   "cell_type": "code",
   "execution_count": 23,
   "metadata": {},
   "outputs": [],
   "source": [
    "work['Полный адрес'].fillna('none', inplace=True)"
   ]
  },
  {
   "cell_type": "code",
   "execution_count": 29,
   "metadata": {},
   "outputs": [],
   "source": [
    "work[work['Полный адрес'].str.contains('Вязьма', case=True)].to_excel(file_path + 'temp.xlsx')"
   ]
  },
  {
   "cell_type": "code",
   "execution_count": null,
   "metadata": {},
   "outputs": [],
   "source": []
  },
  {
   "cell_type": "code",
   "execution_count": null,
   "metadata": {},
   "outputs": [],
   "source": [
    "(work[work['date'].str.contains(r'\\sэры', regex=True)]\n",
    " .date.value_counts().reset_index()\n",
    ")#.to_excel(file_path + 'temp.xlsx')"
   ]
  },
  {
   "cell_type": "code",
   "execution_count": null,
   "metadata": {},
   "outputs": [],
   "source": [
    "# удаляю точки в конце строки (в некоторых строках 2 точки в конце)\n",
    "\n",
    "work['date'] = work['date'].str.replace(r'\\.{1,3}$', '', regex=True)"
   ]
  },
  {
   "cell_type": "code",
   "execution_count": null,
   "metadata": {},
   "outputs": [],
   "source": []
  },
  {
   "cell_type": "code",
   "execution_count": null,
   "metadata": {},
   "outputs": [],
   "source": [
    "work['date'] = work['date'].str.replace(r'\\sв$', ' век', regex=True)"
   ]
  },
  {
   "cell_type": "code",
   "execution_count": null,
   "metadata": {},
   "outputs": [],
   "source": [
    "work['date'] = work['date'].str.replace(r'\\sв\\sн.э$', ' век', regex=True)"
   ]
  },
  {
   "cell_type": "code",
   "execution_count": null,
   "metadata": {},
   "outputs": [],
   "source": []
  },
  {
   "cell_type": "code",
   "execution_count": null,
   "metadata": {},
   "outputs": [],
   "source": [
    "work['date'].value_counts()"
   ]
  },
  {
   "cell_type": "code",
   "execution_count": null,
   "metadata": {},
   "outputs": [],
   "source": []
  },
  {
   "cell_type": "markdown",
   "metadata": {},
   "source": [
    "### Чищу данные ###"
   ]
  },
  {
   "cell_type": "markdown",
   "metadata": {},
   "source": [
    "Меняю обозначение века на \"век\""
   ]
  },
  {
   "cell_type": "code",
   "execution_count": null,
   "metadata": {},
   "outputs": [],
   "source": [
    "(work[work['date'].str.contains(r'^\\w{2,5}\\s{0,1}в\\.{0,1}(\\sн\\.э\\.){0,1}$', regex=True, na=False)]\n",
    " .date.value_counts().reset_index()\n",
    ")\n",
    "#.to_excel(file_path + 'temp.xlsx')"
   ]
  },
  {
   "cell_type": "code",
   "execution_count": null,
   "metadata": {},
   "outputs": [],
   "source": [
    "(\n",
    "    work[work['date'].str.contains(r'^\\w{2,5}\\sвек$', regex=True, na=False)]\n",
    "    .date.nunique()\n",
    ")"
   ]
  },
  {
   "cell_type": "code",
   "execution_count": null,
   "metadata": {},
   "outputs": [],
   "source": [
    "# смотрю что есть\n",
    "\n",
    "(work[work['date'].str.contains(r'^\\w{2,5}\\s{0,1}в.{0,1}[\\sн.\\sэ]{0,4}$', regex=True, na=False)]\n",
    " .date.value_counts().reset_index()\n",
    ")\n",
    "\n",
    "#.to_excel(file_path + 'temp.xlsx')"
   ]
  },
  {
   "cell_type": "code",
   "execution_count": null,
   "metadata": {},
   "outputs": [],
   "source": [
    "# количество\n",
    "\n",
    "work[work['date'].str.contains(r'^\\w{2,5}\\s{0,1}в.{0,1}[\\sн.\\sэ]{0,5}$', regex=True, na=False)].date.nunique()"
   ]
  },
  {
   "cell_type": "code",
   "execution_count": null,
   "metadata": {},
   "outputs": [],
   "source": [
    "# меняю\n",
    "\n",
    "work['date'] = work['date'].str.replace(r'в.{0,1}[\\sн.\\sэ]{0,5}$', 'век', regex=True)"
   ]
  },
  {
   "cell_type": "code",
   "execution_count": null,
   "metadata": {},
   "outputs": [],
   "source": [
    "work[work['date'].str.contains(r'^\\w{2,5}\\s{0,1}век$', regex=True, na=False)].date.value_counts().sum()"
   ]
  },
  {
   "cell_type": "code",
   "execution_count": null,
   "metadata": {},
   "outputs": [],
   "source": []
  },
  {
   "cell_type": "code",
   "execution_count": null,
   "metadata": {},
   "outputs": [],
   "source": [
    "work[work['date'].str.contains(r'^\\w{3}\\sв.$', regex=True, na=False)].shape"
   ]
  },
  {
   "cell_type": "code",
   "execution_count": null,
   "metadata": {},
   "outputs": [],
   "source": [
    "(work[work['date'].str.contains(r'^\\w{2,5}\\sв[\\D]{0,6}$', regex=True, na=False)]\n",
    " .date.value_counts().reset_index())['index'].unique()"
   ]
  },
  {
   "cell_type": "code",
   "execution_count": null,
   "metadata": {},
   "outputs": [],
   "source": [
    "work.to_excel('C:/00_Data/OKN_50.xlsx', encoding='utf-8', index=False)"
   ]
  },
  {
   "cell_type": "code",
   "execution_count": null,
   "metadata": {},
   "outputs": [],
   "source": []
  },
  {
   "cell_type": "code",
   "execution_count": null,
   "metadata": {},
   "outputs": [],
   "source": []
  },
  {
   "cell_type": "code",
   "execution_count": null,
   "metadata": {},
   "outputs": [],
   "source": []
  },
  {
   "cell_type": "code",
   "execution_count": null,
   "metadata": {},
   "outputs": [],
   "source": [
    "# сколько обектов имеют точную дату создания: четыре цифры и приписку \"г.\"\n",
    "\n",
    "work[work['date'].str.contains(r'^\\d{4}\\sг.$', regex= True, na=False)].shape"
   ]
  },
  {
   "cell_type": "code",
   "execution_count": null,
   "metadata": {},
   "outputs": [],
   "source": [
    "# у некоторых строк на конце нет точки \n",
    "\n",
    "work[work['date'].str.contains(r'^\\d{4}\\sг$', regex= True, na=False)].shape"
   ]
  },
  {
   "cell_type": "code",
   "execution_count": null,
   "metadata": {},
   "outputs": [],
   "source": [
    "# а у некоторых нет и буквы \"г\"\n",
    "\n",
    "work[work['date'].str.contains(r'^\\d{4}$', case=True, regex= True, na=False)].shape"
   ]
  },
  {
   "cell_type": "code",
   "execution_count": null,
   "metadata": {},
   "outputs": [],
   "source": [
    "# удаляю \"г.\"\" и \"г\" в конце строки, чтобы отфильтровать ОКН с точной датой создания\n",
    "\n",
    "work['date'] = work['date'].str.replace(r'\\sг$','', regex= True)\n",
    "work['date'] = work['date'].str.replace(r'\\sг.$','', regex= True)"
   ]
  },
  {
   "cell_type": "code",
   "execution_count": null,
   "metadata": {},
   "outputs": [],
   "source": [
    "# доля объектов с точной датой\n",
    "\n",
    "int((work[work['date'].str.contains(r'^\\d{4}$', case=True, regex= True, na=False)].shape[0] /\n",
    " work.shape[0]) * 100)"
   ]
  },
  {
   "cell_type": "code",
   "execution_count": null,
   "metadata": {},
   "outputs": [],
   "source": []
  },
  {
   "cell_type": "code",
   "execution_count": null,
   "metadata": {},
   "outputs": [],
   "source": [
    "work['first_year'] = work[work['date'].str.contains(r'^\\d{4}$', case=True, regex= True, na=False)].date"
   ]
  },
  {
   "cell_type": "code",
   "execution_count": null,
   "metadata": {},
   "outputs": [],
   "source": [
    "wor"
   ]
  },
  {
   "cell_type": "code",
   "execution_count": null,
   "metadata": {},
   "outputs": [],
   "source": []
  },
  {
   "cell_type": "code",
   "execution_count": null,
   "metadata": {},
   "outputs": [],
   "source": []
  },
  {
   "cell_type": "code",
   "execution_count": null,
   "metadata": {},
   "outputs": [],
   "source": [
    "work[work['дата создания'].str.contains(r'^\\d{4}$', case=True, regex= True, na=False)].shape"
   ]
  },
  {
   "cell_type": "code",
   "execution_count": null,
   "metadata": {},
   "outputs": [],
   "source": [
    "temp = work[work['дата создания'].str.contains(r'^\\d{4}$', case=True, regex= True, na=False)]"
   ]
  },
  {
   "cell_type": "code",
   "execution_count": null,
   "metadata": {},
   "outputs": [],
   "source": [
    "temp = work[work['дата создания'].str.contains(r'\\sг$', regex= True, na=False)]"
   ]
  },
  {
   "cell_type": "code",
   "execution_count": null,
   "metadata": {},
   "outputs": [],
   "source": [
    "temp['дата создания'].value_counts"
   ]
  },
  {
   "cell_type": "code",
   "execution_count": null,
   "metadata": {},
   "outputs": [],
   "source": [
    "work['дата создания'].value_counts().reset_index().head(25)"
   ]
  },
  {
   "cell_type": "code",
   "execution_count": null,
   "metadata": {},
   "outputs": [],
   "source": []
  },
  {
   "cell_type": "code",
   "execution_count": null,
   "metadata": {},
   "outputs": [],
   "source": []
  },
  {
   "cell_type": "code",
   "execution_count": null,
   "metadata": {},
   "outputs": [],
   "source": []
  },
  {
   "cell_type": "code",
   "execution_count": null,
   "metadata": {},
   "outputs": [],
   "source": []
  },
  {
   "cell_type": "code",
   "execution_count": null,
   "metadata": {},
   "outputs": [],
   "source": []
  },
  {
   "cell_type": "code",
   "execution_count": null,
   "metadata": {},
   "outputs": [],
   "source": []
  },
  {
   "cell_type": "code",
   "execution_count": null,
   "metadata": {},
   "outputs": [],
   "source": [
    "# смотрю столбцы\n",
    "work.columns.to_list()"
   ]
  },
  {
   "cell_type": "code",
   "execution_count": null,
   "metadata": {},
   "outputs": [],
   "source": [
    "# список с ненужными столбцами\n",
    "\n",
    "unless_feature = [\n",
    "'Id',\n",
    "'учетный номер',\n",
    "'Id.1',\n",
    "'Id.3',\n",
    "'текстовое описание границ',\n",
    "'Id.5',\n",
    "'Id.6',\n",
    "'идентификатор ансамбля',\n",
    "'зоны охраны и режимы использования земель',\n",
    "'Items',\n",
    "'Id.7',\n",
    "'признак актуальности',\n",
    "'категория объекта',\n",
    "#'дата создания объекта',\n",
    "#'дата обновления объекта'    \n",
    "]"
   ]
  },
  {
   "cell_type": "code",
   "execution_count": null,
   "metadata": {},
   "outputs": [],
   "source": [
    "# удаляю ненужные столбцы\n",
    "\n",
    "for column_name in unless_feature:\n",
    "    work.drop(column_name, axis=1, inplace=True)"
   ]
  },
  {
   "cell_type": "code",
   "execution_count": null,
   "metadata": {},
   "outputs": [],
   "source": [
    "# список ненужных дат\n",
    "\n",
    "unless_dates = [\n",
    "    'XI',\n",
    "    'XV',\n",
    "    'XX в.'    \n",
    "]"
   ]
  },
  {
   "cell_type": "code",
   "execution_count": null,
   "metadata": {},
   "outputs": [],
   "source": [
    "# удаляю ненужные столбцы\n",
    "\n",
    "for column_name in unless_dates:\n",
    "    work.drop(column_name, axis=1, inplace=True)"
   ]
  },
  {
   "cell_type": "code",
   "execution_count": null,
   "metadata": {},
   "outputs": [],
   "source": [
    "work.shape"
   ]
  },
  {
   "cell_type": "code",
   "execution_count": null,
   "metadata": {},
   "outputs": [],
   "source": [
    "# удаляю строки с лишними датами\n",
    "\n",
    "for unless in unless_dates:\n",
    "    work = work[~(work['дата создания'].str.contains(unless, case=False))]"
   ]
  },
  {
   "cell_type": "code",
   "execution_count": null,
   "metadata": {},
   "outputs": [],
   "source": [
    "work.dtypes"
   ]
  },
  {
   "cell_type": "code",
   "execution_count": null,
   "metadata": {},
   "outputs": [],
   "source": [
    "work = pd.read_excel('C:/00_Projects/2021/OKN/OKN_2021_03_10.xlsx')"
   ]
  },
  {
   "cell_type": "code",
   "execution_count": null,
   "metadata": {},
   "outputs": [],
   "source": [
    "work.sample()"
   ]
  },
  {
   "cell_type": "code",
   "execution_count": null,
   "metadata": {},
   "outputs": [],
   "source": [
    "work.shape"
   ]
  },
  {
   "cell_type": "code",
   "execution_count": null,
   "metadata": {},
   "outputs": [],
   "source": [
    "for date in range(1099, 1979):\n",
    "     work = work[~(work.date == date)]   "
   ]
  },
  {
   "cell_type": "code",
   "execution_count": null,
   "metadata": {},
   "outputs": [],
   "source": [
    "work.shape"
   ]
  },
  {
   "cell_type": "code",
   "execution_count": null,
   "metadata": {},
   "outputs": [],
   "source": [
    "work.to_excel('C:/00_Data/OKN_50.xlsx', encoding='utf-8', index=False)"
   ]
  },
  {
   "cell_type": "code",
   "execution_count": null,
   "metadata": {},
   "outputs": [],
   "source": [
    "temp.to_excel('C:/00_Data/temp.xlsx', encoding='utf-8', index=False)"
   ]
  },
  {
   "cell_type": "code",
   "execution_count": null,
   "metadata": {},
   "outputs": [],
   "source": []
  },
  {
   "cell_type": "code",
   "execution_count": null,
   "metadata": {},
   "outputs": [],
   "source": []
  },
  {
   "cell_type": "code",
   "execution_count": null,
   "metadata": {},
   "outputs": [],
   "source": []
  },
  {
   "cell_type": "code",
   "execution_count": null,
   "metadata": {},
   "outputs": [],
   "source": []
  }
 ],
 "metadata": {
  "kernelspec": {
   "display_name": "Python 3",
   "language": "python",
   "name": "python3"
  },
  "language_info": {
   "codemirror_mode": {
    "name": "ipython",
    "version": 3
   },
   "file_extension": ".py",
   "mimetype": "text/x-python",
   "name": "python",
   "nbconvert_exporter": "python",
   "pygments_lexer": "ipython3",
   "version": "3.8.8"
  }
 },
 "nbformat": 4,
 "nbformat_minor": 2
}
