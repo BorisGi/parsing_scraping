{
 "cells": [
  {
   "cell_type": "code",
   "execution_count": 1,
   "id": "9187bf7b",
   "metadata": {},
   "outputs": [],
   "source": [
    "# для запросов\n",
    "import requests\n",
    "\n",
    "# для работы с JSON\n",
    "import json\n",
    "\n",
    "# для работы с папками\n",
    "import os\n",
    "\n",
    "# прогресс-бар\n",
    "from tqdm.notebook import trange, tqdm\n",
    "\n",
    "# \n",
    "from datetime import timedelta, date\n",
    "\n",
    "# для пауз при парсинге\n",
    "from time import sleep\n",
    "\n",
    "# для дафреймов\n",
    "import pandas as pd\n",
    "\n",
    "\n",
    "import en_core_web_sm\n",
    "\n",
    "import nltk\n",
    "from nltk.corpus import stopwords\n",
    "from nltk.stem import WordNetLemmatizer\n",
    "\n",
    "from pymystem3 import Mystem\n",
    "\n",
    "import warnings\n",
    "warnings.filterwarnings(\"ignore\",category=DeprecationWarning)\n",
    "\n",
    "pd.options.display.max_rows = 999"
   ]
  },
  {
   "cell_type": "code",
   "execution_count": 2,
   "id": "b5a7ed12",
   "metadata": {},
   "outputs": [],
   "source": [
    "import spacy ## общий пакет, где лежит весь функционал\n",
    "import en_core_web_sm ## натренированные модели на русском\n",
    "import string ## здесь возомьм пунктуацию\n",
    "import nltk # удобный пакет для всякой работы с текстом"
   ]
  },
  {
   "cell_type": "code",
   "execution_count": 4,
   "id": "7486d5d7",
   "metadata": {},
   "outputs": [],
   "source": [
    "file_path = 'C:/00_Projects/NYT/new/'"
   ]
  },
  {
   "cell_type": "code",
   "execution_count": 5,
   "id": "c2d194ea",
   "metadata": {},
   "outputs": [],
   "source": [
    "work = pd.read_csv(file_path + 'work_2000.csv')"
   ]
  },
  {
   "cell_type": "code",
   "execution_count": 6,
   "id": "be47cfe4",
   "metadata": {},
   "outputs": [
    {
     "data": {
      "text/plain": [
       "(766982, 7)"
      ]
     },
     "execution_count": 6,
     "metadata": {},
     "output_type": "execute_result"
    }
   ],
   "source": [
    "work.shape"
   ]
  },
  {
   "cell_type": "code",
   "execution_count": 7,
   "id": "1c067113",
   "metadata": {},
   "outputs": [
    {
     "data": {
      "text/html": [
       "<div>\n",
       "<style scoped>\n",
       "    .dataframe tbody tr th:only-of-type {\n",
       "        vertical-align: middle;\n",
       "    }\n",
       "\n",
       "    .dataframe tbody tr th {\n",
       "        vertical-align: top;\n",
       "    }\n",
       "\n",
       "    .dataframe thead th {\n",
       "        text-align: right;\n",
       "    }\n",
       "</style>\n",
       "<table border=\"1\" class=\"dataframe\">\n",
       "  <thead>\n",
       "    <tr style=\"text-align: right;\">\n",
       "      <th></th>\n",
       "      <th>date</th>\n",
       "      <th>lead_paragraph</th>\n",
       "      <th>clear</th>\n",
       "      <th>year</th>\n",
       "      <th>month</th>\n",
       "      <th>day</th>\n",
       "      <th>month_year</th>\n",
       "    </tr>\n",
       "  </thead>\n",
       "  <tbody>\n",
       "    <tr>\n",
       "      <th>0</th>\n",
       "      <td>2000-01-01T00:00:00Z</td>\n",
       "      <td>YOUNG, hip and smart, Casey Collier seems to g...</td>\n",
       "      <td>young hip and smart casey collier seems to gli...</td>\n",
       "      <td>2000</td>\n",
       "      <td>1</td>\n",
       "      <td>1</td>\n",
       "      <td>01_2000</td>\n",
       "    </tr>\n",
       "    <tr>\n",
       "      <th>1</th>\n",
       "      <td>2000-01-01T00:00:00Z</td>\n",
       "      <td>If Boris N. Yeltsin really meant it about bein...</td>\n",
       "      <td>if boris n yeltsin really meant it about being...</td>\n",
       "      <td>2000</td>\n",
       "      <td>1</td>\n",
       "      <td>1</td>\n",
       "      <td>01_2000</td>\n",
       "    </tr>\n",
       "    <tr>\n",
       "      <th>2</th>\n",
       "      <td>2000-01-01T00:00:00Z</td>\n",
       "      <td>To: Marcy From: Britanny Videotex, 6/6/2025 (a...</td>\n",
       "      <td>to marcy from britanny videotex a transcript w...</td>\n",
       "      <td>2000</td>\n",
       "      <td>1</td>\n",
       "      <td>1</td>\n",
       "      <td>01_2000</td>\n",
       "    </tr>\n",
       "    <tr>\n",
       "      <th>3</th>\n",
       "      <td>2000-01-01T00:00:00Z</td>\n",
       "      <td>The glorious athletes of Eliot Feld's ''Aurora...</td>\n",
       "      <td>the glorious athletes of eliot feld s aurora i...</td>\n",
       "      <td>2000</td>\n",
       "      <td>1</td>\n",
       "      <td>1</td>\n",
       "      <td>01_2000</td>\n",
       "    </tr>\n",
       "    <tr>\n",
       "      <th>4</th>\n",
       "      <td>2000-01-01T00:00:00Z</td>\n",
       "      <td>President Boris N. Yeltsin's resignation today...</td>\n",
       "      <td>president boris n yeltsin s resignation today ...</td>\n",
       "      <td>2000</td>\n",
       "      <td>1</td>\n",
       "      <td>1</td>\n",
       "      <td>01_2000</td>\n",
       "    </tr>\n",
       "  </tbody>\n",
       "</table>\n",
       "</div>"
      ],
      "text/plain": [
       "                   date                                     lead_paragraph  \\\n",
       "0  2000-01-01T00:00:00Z  YOUNG, hip and smart, Casey Collier seems to g...   \n",
       "1  2000-01-01T00:00:00Z  If Boris N. Yeltsin really meant it about bein...   \n",
       "2  2000-01-01T00:00:00Z  To: Marcy From: Britanny Videotex, 6/6/2025 (a...   \n",
       "3  2000-01-01T00:00:00Z  The glorious athletes of Eliot Feld's ''Aurora...   \n",
       "4  2000-01-01T00:00:00Z  President Boris N. Yeltsin's resignation today...   \n",
       "\n",
       "                                               clear  year  month  day  \\\n",
       "0  young hip and smart casey collier seems to gli...  2000      1    1   \n",
       "1  if boris n yeltsin really meant it about being...  2000      1    1   \n",
       "2  to marcy from britanny videotex a transcript w...  2000      1    1   \n",
       "3  the glorious athletes of eliot feld s aurora i...  2000      1    1   \n",
       "4  president boris n yeltsin s resignation today ...  2000      1    1   \n",
       "\n",
       "  month_year  \n",
       "0    01_2000  \n",
       "1    01_2000  \n",
       "2    01_2000  \n",
       "3    01_2000  \n",
       "4    01_2000  "
      ]
     },
     "execution_count": 7,
     "metadata": {},
     "output_type": "execute_result"
    }
   ],
   "source": [
    "work.head()"
   ]
  },
  {
   "cell_type": "code",
   "execution_count": null,
   "id": "6731e702",
   "metadata": {},
   "outputs": [],
   "source": [
    "# перевожу названия столбцов в нижний регистр\n",
    "\n",
    "work.columns = work.columns.str.lower()"
   ]
  },
  {
   "cell_type": "code",
   "execution_count": null,
   "id": "4b33b398",
   "metadata": {},
   "outputs": [],
   "source": [
    "work['clear'] = work['lead_paragraph'].copy()"
   ]
  },
  {
   "cell_type": "code",
   "execution_count": null,
   "id": "e289329c",
   "metadata": {},
   "outputs": [],
   "source": [
    "\n",
    "work['clear'] = work['clear'].str.lower()\n",
    "work['clear'] = work['clear'].str.replace(r'[^\\w\\s]+', ' ', regex=True)\n",
    "work['clear'] = work['clear'].str.replace(r'[0-9]+', ' ', regex=True)\n",
    "work['clear'] = work['clear'].str.replace('\\s+', ' ', regex=True)"
   ]
  },
  {
   "cell_type": "code",
   "execution_count": null,
   "id": "06f71319",
   "metadata": {},
   "outputs": [],
   "source": [
    "work.head()"
   ]
  },
  {
   "cell_type": "code",
   "execution_count": null,
   "id": "9b574211",
   "metadata": {},
   "outputs": [],
   "source": [
    "work.shape"
   ]
  },
  {
   "cell_type": "code",
   "execution_count": 10,
   "id": "27561244",
   "metadata": {},
   "outputs": [],
   "source": [
    "with open(file_path + 'stop_en.txt', 'r', encoding='utf-8') as f:\n",
    "        stopwords = f.read().split('\\n')"
   ]
  },
  {
   "cell_type": "code",
   "execution_count": 11,
   "id": "4193ee53",
   "metadata": {},
   "outputs": [],
   "source": [
    "nlp = en_core_web_sm.load()"
   ]
  },
  {
   "cell_type": "code",
   "execution_count": 12,
   "id": "0f361644",
   "metadata": {},
   "outputs": [],
   "source": [
    "def lemma_text(df):\n",
    "    \n",
    "    new_text = nlp(str(df['clear']))\n",
    "    punctuations = string.punctuation\n",
    "    \n",
    "    mytokens = nlp(str(new_text))\n",
    "    mytokens = [ word.lemma_.lower().strip() for word in mytokens ]\n",
    "    mytokens = [ word for word in mytokens if word not in stopwords and word not in punctuations ]\n",
    "    mytokens = \" \".join([i for i in mytokens])\n",
    "    return mytokens"
   ]
  },
  {
   "cell_type": "code",
   "execution_count": 19,
   "id": "c9e44e6a",
   "metadata": {},
   "outputs": [],
   "source": [
    "work_1 = work[350000:400000]"
   ]
  },
  {
   "cell_type": "code",
   "execution_count": null,
   "id": "326dd42a",
   "metadata": {},
   "outputs": [],
   "source": [
    "%%time\n",
    "\n",
    "work_1['new'] = work_1.apply(lemma_text, axis=1)"
   ]
  },
  {
   "cell_type": "code",
   "execution_count": null,
   "id": "5fa70e5a",
   "metadata": {},
   "outputs": [],
   "source": [
    "work_1.shape"
   ]
  },
  {
   "cell_type": "code",
   "execution_count": 18,
   "id": "e3e49553",
   "metadata": {},
   "outputs": [],
   "source": [
    "work_1.to_csv(file_path + '/work_2000_4_2.csv', encoding='utf8', index=False)"
   ]
  },
  {
   "cell_type": "code",
   "execution_count": null,
   "id": "620ce536",
   "metadata": {},
   "outputs": [],
   "source": []
  }
 ],
 "metadata": {
  "kernelspec": {
   "display_name": "Python 3",
   "language": "python",
   "name": "python3"
  },
  "language_info": {
   "codemirror_mode": {
    "name": "ipython",
    "version": 3
   },
   "file_extension": ".py",
   "mimetype": "text/x-python",
   "name": "python",
   "nbconvert_exporter": "python",
   "pygments_lexer": "ipython3",
   "version": "3.8.8"
  }
 },
 "nbformat": 4,
 "nbformat_minor": 5
}
