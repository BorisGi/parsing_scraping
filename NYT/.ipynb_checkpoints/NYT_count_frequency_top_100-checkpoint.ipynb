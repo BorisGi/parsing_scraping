{
 "cells": [
  {
   "cell_type": "code",
   "execution_count": null,
   "id": "9187bf7b",
   "metadata": {},
   "outputs": [],
   "source": [
    "# для работы с папками\n",
    "import os\n",
    "\n",
    "# прогресс-бар\n",
    "from tqdm.notebook import trange, tqdm\n",
    "\n",
    "# для дафреймов\n",
    "import pandas as pd"
   ]
  },
  {
   "cell_type": "code",
   "execution_count": null,
   "id": "7486d5d7",
   "metadata": {},
   "outputs": [],
   "source": [
    "file_path = 'C:/00_Projects/NYT/new/'"
   ]
  },
  {
   "cell_type": "code",
   "execution_count": null,
   "id": "0ed00180",
   "metadata": {},
   "outputs": [],
   "source": [
    "# вытаскиваю названия файлов в список file_list\n",
    "\n",
    "file_list = []\n",
    "\n",
    "for root, dirs, files in os.walk(file_path + 'words/'):\n",
    "    \n",
    "    for filename in files:\n",
    "        file_list += [filename]"
   ]
  },
  {
   "cell_type": "code",
   "execution_count": null,
   "id": "fd20f0c2",
   "metadata": {},
   "outputs": [],
   "source": [
    "print(file_list)"
   ]
  },
  {
   "cell_type": "code",
   "execution_count": null,
   "id": "bc19bce1",
   "metadata": {},
   "outputs": [],
   "source": [
    "decade_words = pd.DataFrame() # датафрейм для слов декады\n",
    "year_words = pd.DataFrame() # датафрейм для слов года"
   ]
  },
  {
   "cell_type": "code",
   "execution_count": null,
   "id": "e651f165",
   "metadata": {},
   "outputs": [],
   "source": [
    "for decade_file in tqdm(file_list):\n",
    "    decade_work = pd.read_csv(file_path + 'words/' + decade_file)\n",
    "\n",
    "    # топ-100 слов декады\n",
    "    top_100_for_decade = (decade_work.groupby(['decade', 'word'], as_index=False)\n",
    "                          .agg({'number': 'sum'})\n",
    "                          .sort_values('number', ascending=False))\n",
    "    \n",
    "    decade_words = decade_words.append(top_100_for_decade.head(100))\n",
    "    \n",
    "    \n",
    "    # топ-100 слов года\n",
    "    start_year = decade_work.year.min()\n",
    "    end_year = decade_work.year.max()\n",
    "    \n",
    "    for need_year in range(start_year, end_year):\n",
    "        year_work = decade_work[decade_work['year'] == need_year]        \n",
    "        \n",
    "        year_words = year_words.append(year_work.groupby(['decade', 'year', 'word'], as_index=False)\n",
    "                                       .agg({'number': 'sum'})\n",
    "                                       .sort_values('number', ascending=False)\n",
    "                                       .head(100))   "
   ]
  },
  {
   "cell_type": "code",
   "execution_count": null,
   "id": "c01c7ceb",
   "metadata": {},
   "outputs": [],
   "source": [
    "# записывыю в файлы\n",
    "decade_words.to_csv(file_path + 'decade_words.csv', encoding='utf-8', index=False)\n",
    "decade_words.to_excel(file_path + 'decade_words.xlsx', encoding='utf-8', index=False)\n",
    "\n",
    "year_words.to_csv(file_path + 'year_words.csv', encoding='utf-8', index=False)\n",
    "year_words.to_excel(file_path + 'year_words.xlsx', encoding='utf-8', index=False)"
   ]
  },
  {
   "cell_type": "code",
   "execution_count": null,
   "id": "c84d4c21",
   "metadata": {},
   "outputs": [],
   "source": []
  },
  {
   "cell_type": "code",
   "execution_count": null,
   "id": "612225cd",
   "metadata": {},
   "outputs": [],
   "source": []
  }
 ],
 "metadata": {
  "kernelspec": {
   "display_name": "Python 3",
   "language": "python",
   "name": "python3"
  },
  "language_info": {
   "codemirror_mode": {
    "name": "ipython",
    "version": 3
   },
   "file_extension": ".py",
   "mimetype": "text/x-python",
   "name": "python",
   "nbconvert_exporter": "python",
   "pygments_lexer": "ipython3",
   "version": "3.8.8"
  }
 },
 "nbformat": 4,
 "nbformat_minor": 5
}
