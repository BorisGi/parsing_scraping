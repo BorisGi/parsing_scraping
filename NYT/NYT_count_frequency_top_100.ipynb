{
 "cells": [
  {
   "cell_type": "code",
   "execution_count": 1,
   "id": "9187bf7b",
   "metadata": {},
   "outputs": [],
   "source": [
    "# для работы с папками\n",
    "import os\n",
    "\n",
    "# прогресс-бар\n",
    "from tqdm.notebook import trange, tqdm\n",
    "\n",
    "# для дафреймов\n",
    "import pandas as pd"
   ]
  },
  {
   "cell_type": "code",
   "execution_count": 2,
   "id": "7486d5d7",
   "metadata": {},
   "outputs": [],
   "source": [
    "file_path = 'C:/00_Projects/NYT/new/'"
   ]
  },
  {
   "cell_type": "code",
   "execution_count": 3,
   "id": "0ed00180",
   "metadata": {},
   "outputs": [],
   "source": [
    "# вытаскиваю названия файлов в список file_list\n",
    "\n",
    "file_list = []\n",
    "\n",
    "for root, dirs, files in os.walk(file_path + 'words/'):\n",
    "    \n",
    "    for filename in files:\n",
    "        file_list += [filename]"
   ]
  },
  {
   "cell_type": "code",
   "execution_count": 4,
   "id": "fd20f0c2",
   "metadata": {},
   "outputs": [
    {
     "name": "stdout",
     "output_type": "stream",
     "text": [
      "['words_1850_1859.csv', 'words_1860_1869.csv', 'words_1870_1879.csv', 'words_1880_1889.csv', 'words_1890_1899.csv', 'words_1900_1909.csv', 'words_1910_1919.csv', 'words_1920_1929.csv', 'words_1930_1939.csv', 'words_1940_1949.csv', 'words_1950_1959.csv', 'words_1960_1969.csv', 'words_1970_1979.csv', 'words_1980_1989.csv', 'words_1990_1999.csv', 'words_2000_2009.csv', 'words_2010_2019.csv', 'words_2020_2029.csv']\n"
     ]
    }
   ],
   "source": [
    "print(file_list)"
   ]
  },
  {
   "cell_type": "code",
   "execution_count": 35,
   "id": "e651f165",
   "metadata": {},
   "outputs": [
    {
     "data": {
      "application/vnd.jupyter.widget-view+json": {
       "model_id": "30d3f2d46283436b91ba802d4b02066e",
       "version_major": 2,
       "version_minor": 0
      },
      "text/plain": [
       "  0%|          | 0/18 [00:00<?, ?it/s]"
      ]
     },
     "metadata": {},
     "output_type": "display_data"
    }
   ],
   "source": [
    "decade_words = pd.DataFrame() # датафрейм для слов декады\n",
    "year_words = pd.DataFrame() # датафрейм для слов года\n",
    "\n",
    "for decade_file in tqdm(file_list):\n",
    "    decade_work = pd.read_csv(file_path + 'words/' + decade_file)\n",
    "\n",
    "    # топ-100 слов декады\n",
    "    top_100_for_decade = (decade_work.groupby(['decade', 'word'], as_index=False)\n",
    "                          .agg({'number': 'sum'})\n",
    "                          .sort_values('number', ascending=False))\n",
    "    \n",
    "    decade_words = decade_words.append(top_100_for_decade) # убрал head на время\n",
    "    \n",
    "    \n",
    "    # топ-100 слов года\n",
    "    start_year = decade_work.year.min()\n",
    "    end_year = decade_work.year.max()\n",
    "    \n",
    "    for need_year in range(start_year, end_year + 1):\n",
    "        year_work = decade_work[decade_work['year'] == need_year]        \n",
    "        \n",
    "        year_words = year_words.append(year_work.groupby(['decade', 'year', 'word'], as_index=False)\n",
    "                                       .agg({'number': 'sum'})\n",
    "                                       .sort_values('number', ascending=False)\n",
    "                                       .head(100))   "
   ]
  },
  {
   "cell_type": "code",
   "execution_count": 7,
   "id": "c01c7ceb",
   "metadata": {},
   "outputs": [],
   "source": [
    "# записывыю в файлы\n",
    "decade_words.to_csv(file_path + 'decade_words.csv', encoding='utf-8', index=False)\n",
    "decade_words.to_excel(file_path + 'decade_words.xlsx', encoding='utf-8', index=False)\n",
    "\n",
    "year_words.to_csv(file_path + 'year_words.csv', encoding='utf-8', index=False)\n",
    "year_words.to_excel(file_path + 'year_words.xlsx', encoding='utf-8', index=False)"
   ]
  },
  {
   "cell_type": "code",
   "execution_count": 36,
   "id": "9e5a34d1",
   "metadata": {},
   "outputs": [
    {
     "data": {
      "text/plain": [
       "(17200, 4)"
      ]
     },
     "execution_count": 36,
     "metadata": {},
     "output_type": "execute_result"
    }
   ],
   "source": [
    "year_words.shape"
   ]
  },
  {
   "cell_type": "code",
   "execution_count": 37,
   "id": "55f5a5b3",
   "metadata": {},
   "outputs": [],
   "source": [
    "special_word_list = ['war', 'art', 'death', 'win', 'market', 'force', 'love', 'pandemic', 'world', 'peace']"
   ]
  },
  {
   "cell_type": "code",
   "execution_count": 38,
   "id": "123b35f2",
   "metadata": {},
   "outputs": [],
   "source": [
    "special_word = pd.DataFrame(special_word_list, columns=['word'])"
   ]
  },
  {
   "cell_type": "code",
   "execution_count": 39,
   "id": "6da2c8bc",
   "metadata": {},
   "outputs": [],
   "source": [
    "special_word = special_word.merge(year_words, how='left', on='word')"
   ]
  },
  {
   "cell_type": "code",
   "execution_count": 40,
   "id": "c84d4c21",
   "metadata": {},
   "outputs": [
    {
     "data": {
      "text/html": [
       "<div>\n",
       "<style scoped>\n",
       "    .dataframe tbody tr th:only-of-type {\n",
       "        vertical-align: middle;\n",
       "    }\n",
       "\n",
       "    .dataframe tbody tr th {\n",
       "        vertical-align: top;\n",
       "    }\n",
       "\n",
       "    .dataframe thead th {\n",
       "        text-align: right;\n",
       "    }\n",
       "</style>\n",
       "<table border=\"1\" class=\"dataframe\">\n",
       "  <thead>\n",
       "    <tr style=\"text-align: right;\">\n",
       "      <th></th>\n",
       "      <th>word</th>\n",
       "      <th>year</th>\n",
       "      <th>number</th>\n",
       "    </tr>\n",
       "  </thead>\n",
       "  <tbody>\n",
       "    <tr>\n",
       "      <th>0</th>\n",
       "      <td>art</td>\n",
       "      <td>2009</td>\n",
       "      <td>3796.0</td>\n",
       "    </tr>\n",
       "    <tr>\n",
       "      <th>1</th>\n",
       "      <td>art</td>\n",
       "      <td>2011</td>\n",
       "      <td>3486.0</td>\n",
       "    </tr>\n",
       "    <tr>\n",
       "      <th>2</th>\n",
       "      <td>art</td>\n",
       "      <td>2012</td>\n",
       "      <td>2351.0</td>\n",
       "    </tr>\n",
       "    <tr>\n",
       "      <th>3</th>\n",
       "      <td>art</td>\n",
       "      <td>2013</td>\n",
       "      <td>1893.0</td>\n",
       "    </tr>\n",
       "    <tr>\n",
       "      <th>4</th>\n",
       "      <td>art</td>\n",
       "      <td>2014</td>\n",
       "      <td>2009.0</td>\n",
       "    </tr>\n",
       "    <tr>\n",
       "      <th>...</th>\n",
       "      <td>...</td>\n",
       "      <td>...</td>\n",
       "      <td>...</td>\n",
       "    </tr>\n",
       "    <tr>\n",
       "      <th>365</th>\n",
       "      <td>world</td>\n",
       "      <td>2018</td>\n",
       "      <td>1047.0</td>\n",
       "    </tr>\n",
       "    <tr>\n",
       "      <th>366</th>\n",
       "      <td>world</td>\n",
       "      <td>2019</td>\n",
       "      <td>2478.0</td>\n",
       "    </tr>\n",
       "    <tr>\n",
       "      <th>367</th>\n",
       "      <td>world</td>\n",
       "      <td>2020</td>\n",
       "      <td>2589.0</td>\n",
       "    </tr>\n",
       "    <tr>\n",
       "      <th>368</th>\n",
       "      <td>world</td>\n",
       "      <td>2021</td>\n",
       "      <td>2549.0</td>\n",
       "    </tr>\n",
       "    <tr>\n",
       "      <th>369</th>\n",
       "      <td>world</td>\n",
       "      <td>2022</td>\n",
       "      <td>478.0</td>\n",
       "    </tr>\n",
       "  </tbody>\n",
       "</table>\n",
       "<p>370 rows × 3 columns</p>\n",
       "</div>"
      ],
      "text/plain": [
       "      word  year  number\n",
       "0      art  2009  3796.0\n",
       "1      art  2011  3486.0\n",
       "2      art  2012  2351.0\n",
       "3      art  2013  1893.0\n",
       "4      art  2014  2009.0\n",
       "..     ...   ...     ...\n",
       "365  world  2018  1047.0\n",
       "366  world  2019  2478.0\n",
       "367  world  2020  2589.0\n",
       "368  world  2021  2549.0\n",
       "369  world  2022   478.0\n",
       "\n",
       "[370 rows x 3 columns]"
      ]
     },
     "execution_count": 40,
     "metadata": {},
     "output_type": "execute_result"
    }
   ],
   "source": [
    "(special_word.groupby(['word', 'year'], as_index=False)\n",
    " .agg({'number': 'sum'})\n",
    ")"
   ]
  },
  {
   "cell_type": "code",
   "execution_count": 42,
   "id": "612225cd",
   "metadata": {},
   "outputs": [],
   "source": [
    "special_word.to_excel(file_path + 'special_word.xlsx', index=False)"
   ]
  },
  {
   "cell_type": "code",
   "execution_count": null,
   "id": "62f6e15c",
   "metadata": {},
   "outputs": [],
   "source": []
  },
  {
   "cell_type": "code",
   "execution_count": null,
   "id": "37848b46",
   "metadata": {},
   "outputs": [],
   "source": []
  }
 ],
 "metadata": {
  "kernelspec": {
   "display_name": "Python 3 (ipykernel)",
   "language": "python",
   "name": "python3"
  },
  "language_info": {
   "codemirror_mode": {
    "name": "ipython",
    "version": 3
   },
   "file_extension": ".py",
   "mimetype": "text/x-python",
   "name": "python",
   "nbconvert_exporter": "python",
   "pygments_lexer": "ipython3",
   "version": "3.9.7"
  }
 },
 "nbformat": 4,
 "nbformat_minor": 5
}
