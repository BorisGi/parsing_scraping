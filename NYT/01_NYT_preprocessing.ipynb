{
 "cells": [
  {
   "cell_type": "code",
   "execution_count": 1,
   "id": "9187bf7b",
   "metadata": {},
   "outputs": [],
   "source": [
    "# для запросов\n",
    "import requests\n",
    "\n",
    "# для работы с JSON\n",
    "import json\n",
    "\n",
    "# для работы с папками\n",
    "import os\n",
    "\n",
    "# прогресс-бар\n",
    "from tqdm.notebook import trange, tqdm\n",
    "\n",
    "# \n",
    "from datetime import timedelta, date\n",
    "\n",
    "# для пауз при парсинге\n",
    "from time import sleep\n",
    "\n",
    "# для дафреймов\n",
    "import pandas as pd"
   ]
  },
  {
   "cell_type": "code",
   "execution_count": 2,
   "id": "7486d5d7",
   "metadata": {},
   "outputs": [],
   "source": [
    "file_path = 'C:/00_Projects/NYT/new/'"
   ]
  },
  {
   "cell_type": "code",
   "execution_count": null,
   "id": "a81e8f12",
   "metadata": {},
   "outputs": [],
   "source": []
  },
  {
   "cell_type": "code",
   "execution_count": 8,
   "id": "42d4b05a",
   "metadata": {},
   "outputs": [],
   "source": [
    "work = pd.read_csv(file_path + 'decades/NYT_2000_2009.csv')"
   ]
  },
  {
   "cell_type": "code",
   "execution_count": 9,
   "id": "5cd64ab6",
   "metadata": {},
   "outputs": [],
   "source": [
    "work.month_year.value_counts().reset_index().to_excel(file_path + 'temp.xlsx')"
   ]
  },
  {
   "cell_type": "code",
   "execution_count": null,
   "id": "2797c275",
   "metadata": {},
   "outputs": [],
   "source": []
  },
  {
   "cell_type": "code",
   "execution_count": null,
   "id": "959653ea",
   "metadata": {},
   "outputs": [],
   "source": []
  },
  {
   "cell_type": "code",
   "execution_count": null,
   "id": "c2d194ea",
   "metadata": {},
   "outputs": [],
   "source": [
    "work = pd.read_csv(file_path + 'NYT_all.csv')"
   ]
  },
  {
   "cell_type": "code",
   "execution_count": null,
   "id": "be47cfe4",
   "metadata": {},
   "outputs": [],
   "source": [
    "work.shape"
   ]
  },
  {
   "cell_type": "code",
   "execution_count": null,
   "id": "fad3797e",
   "metadata": {},
   "outputs": [],
   "source": [
    "work.head()"
   ]
  },
  {
   "cell_type": "code",
   "execution_count": null,
   "id": "6dde3b40",
   "metadata": {},
   "outputs": [],
   "source": [
    "work.dtypes"
   ]
  },
  {
   "cell_type": "code",
   "execution_count": null,
   "id": "aa667a2b",
   "metadata": {},
   "outputs": [],
   "source": [
    "start_year = 1850"
   ]
  },
  {
   "cell_type": "code",
   "execution_count": null,
   "id": "d6c810b3",
   "metadata": {},
   "outputs": [],
   "source": [
    "# for decade in tqdm(range(1850, 2030, 10)):\n",
    "for decade in tqdm(range(1900, 1950, 10)):\n",
    "    \n",
    "    temp = work_1[\n",
    "        (work_1['year'] >= decade) &\n",
    "        (work_1['year'] <= (decade + 9))]\n",
    "    \n",
    "    temp.to_csv(file_path + 'dec/NYT_' + str(decade) + '_' + str(decade + 9) + '.csv',\n",
    "                encoding='utf-8', index=False)"
   ]
  },
  {
   "cell_type": "code",
   "execution_count": null,
   "id": "2bd281d9",
   "metadata": {},
   "outputs": [],
   "source": [
    "file_path"
   ]
  },
  {
   "cell_type": "code",
   "execution_count": null,
   "id": "984bca47",
   "metadata": {},
   "outputs": [],
   "source": [
    "# вытаскиваю названия файлов в список file_list\n",
    "\n",
    "file_list = []\n",
    "\n",
    "for root, dirs, files in os.walk(file_path + 'dec'):\n",
    "    \n",
    "    for filename in files:\n",
    "        file_list += [filename]"
   ]
  },
  {
   "cell_type": "code",
   "execution_count": null,
   "id": "7ded7c7c",
   "metadata": {},
   "outputs": [],
   "source": [
    "file_list"
   ]
  },
  {
   "cell_type": "code",
   "execution_count": null,
   "id": "66429541",
   "metadata": {},
   "outputs": [],
   "source": [
    "for file in file_list:\n",
    "    \n",
    "    temp = pd.read_csv(file_path + 'decades/' + file)\n",
    "    temp_1 = pd.read_csv(file_path + 'dec/' + file)\n",
    "    \n",
    "    temp = temp.append(temp_1)\n",
    "    \n",
    "    temp.to_csv(file_path + 'decades/' + file, index=False)"
   ]
  },
  {
   "cell_type": "code",
   "execution_count": null,
   "id": "9866451e",
   "metadata": {},
   "outputs": [],
   "source": [
    "temp.tail(5)"
   ]
  },
  {
   "cell_type": "code",
   "execution_count": null,
   "id": "93711d85",
   "metadata": {},
   "outputs": [],
   "source": []
  },
  {
   "cell_type": "code",
   "execution_count": null,
   "id": "407a99ac",
   "metadata": {},
   "outputs": [],
   "source": []
  },
  {
   "cell_type": "code",
   "execution_count": null,
   "id": "828d171b",
   "metadata": {},
   "outputs": [],
   "source": []
  },
  {
   "cell_type": "code",
   "execution_count": null,
   "id": "cb49b5ff",
   "metadata": {},
   "outputs": [],
   "source": [
    "work_1 = pd.read_csv(file_path + 'NYT_lost_new.csv')"
   ]
  },
  {
   "cell_type": "code",
   "execution_count": null,
   "id": "d0c2ee5c",
   "metadata": {},
   "outputs": [],
   "source": [
    "work_1.shape"
   ]
  },
  {
   "cell_type": "code",
   "execution_count": null,
   "id": "ee306edc",
   "metadata": {},
   "outputs": [],
   "source": [
    "work_1.head(2)"
   ]
  },
  {
   "cell_type": "code",
   "execution_count": null,
   "id": "eea1298a",
   "metadata": {},
   "outputs": [],
   "source": [
    "work_1.year.value_counts().reset_index().sort_values('index').head()"
   ]
  },
  {
   "cell_type": "code",
   "execution_count": null,
   "id": "cd02402e",
   "metadata": {},
   "outputs": [],
   "source": [
    "temp = pd.read_csv(file_path + 'decades/NYT_1850_1859.csv')"
   ]
  },
  {
   "cell_type": "code",
   "execution_count": null,
   "id": "a00db65c",
   "metadata": {},
   "outputs": [],
   "source": [
    "temp.head(2)"
   ]
  },
  {
   "cell_type": "code",
   "execution_count": null,
   "id": "78cb9f09",
   "metadata": {},
   "outputs": [],
   "source": [
    "temp_1851.head(2)"
   ]
  },
  {
   "cell_type": "code",
   "execution_count": null,
   "id": "3bcd18b9",
   "metadata": {},
   "outputs": [],
   "source": [
    "temp.shape"
   ]
  },
  {
   "cell_type": "code",
   "execution_count": null,
   "id": "1ca22985",
   "metadata": {},
   "outputs": [],
   "source": [
    "temp = temp.append(temp_1851)"
   ]
  },
  {
   "cell_type": "code",
   "execution_count": null,
   "id": "b8d97233",
   "metadata": {},
   "outputs": [],
   "source": [
    "temp.shape"
   ]
  },
  {
   "cell_type": "code",
   "execution_count": null,
   "id": "451ce0ac",
   "metadata": {},
   "outputs": [],
   "source": [
    "temp.to_csv(file_path + 'decades/NYT_1850_1859.csv', index=False)"
   ]
  },
  {
   "cell_type": "code",
   "execution_count": null,
   "id": "2179cea7",
   "metadata": {},
   "outputs": [],
   "source": [
    "temp_1851 = work_1[work_1.year == 1851]"
   ]
  },
  {
   "cell_type": "code",
   "execution_count": null,
   "id": "5528d539",
   "metadata": {},
   "outputs": [],
   "source": [
    "temp.tail()"
   ]
  },
  {
   "cell_type": "code",
   "execution_count": null,
   "id": "2f543979",
   "metadata": {},
   "outputs": [],
   "source": []
  },
  {
   "cell_type": "code",
   "execution_count": null,
   "id": "d5f2e0e1",
   "metadata": {},
   "outputs": [],
   "source": []
  },
  {
   "cell_type": "code",
   "execution_count": null,
   "id": "65da223e",
   "metadata": {},
   "outputs": [],
   "source": []
  },
  {
   "cell_type": "code",
   "execution_count": null,
   "id": "8b7340f9",
   "metadata": {},
   "outputs": [],
   "source": [
    "# вытаскиваю год, месяц, число в отдельные столбцы\n",
    "\n",
    "work['year'] = work['date'].apply(lambda only_year: only_year[:4])\n",
    "\n",
    "work['month'] = work['date'].apply(lambda only_month: only_month[5:7])\n",
    "\n",
    "work['day'] = work['date'].apply(lambda only_day: only_day[8:10])\n",
    "\n",
    "work['month_year'] = work['month'] + '_' + work['year']"
   ]
  },
  {
   "cell_type": "code",
   "execution_count": null,
   "id": "fd89bb31",
   "metadata": {},
   "outputs": [],
   "source": [
    "# список уникальных слов\n",
    "\n",
    "work['word_list_u'] = work['new'].apply(lambda lead_words: sorted(list(set(str(lead_words).split()))))"
   ]
  },
  {
   "cell_type": "code",
   "execution_count": null,
   "id": "dde23cba",
   "metadata": {},
   "outputs": [],
   "source": [
    "# более логичный порядок столбцов\n",
    "\n",
    "work = work[['date', 'lead_paragraph',\n",
    "             'clear', 'new',\n",
    "             'year', 'month', 'day', 'month_year',\n",
    "             'word_list_u', 'word_list_d']]"
   ]
  },
  {
   "cell_type": "code",
   "execution_count": null,
   "id": "7c3a680a",
   "metadata": {},
   "outputs": [],
   "source": [
    "work.shape"
   ]
  },
  {
   "cell_type": "code",
   "execution_count": null,
   "id": "ade45a5f",
   "metadata": {},
   "outputs": [],
   "source": [
    "work.head()"
   ]
  },
  {
   "cell_type": "code",
   "execution_count": null,
   "id": "b5559c89",
   "metadata": {},
   "outputs": [],
   "source": []
  },
  {
   "cell_type": "code",
   "execution_count": null,
   "id": "322b6baf",
   "metadata": {},
   "outputs": [],
   "source": []
  },
  {
   "cell_type": "code",
   "execution_count": null,
   "id": "2608f50a",
   "metadata": {},
   "outputs": [],
   "source": []
  },
  {
   "cell_type": "code",
   "execution_count": null,
   "id": "16819872",
   "metadata": {},
   "outputs": [],
   "source": []
  },
  {
   "cell_type": "code",
   "execution_count": null,
   "id": "214b2010",
   "metadata": {},
   "outputs": [],
   "source": []
  },
  {
   "cell_type": "code",
   "execution_count": null,
   "id": "0ada8d6f",
   "metadata": {},
   "outputs": [],
   "source": []
  },
  {
   "cell_type": "code",
   "execution_count": null,
   "id": "94a8d6da",
   "metadata": {},
   "outputs": [],
   "source": [
    "# список всех слов\n",
    "\n",
    "word_list = []\n",
    "\n",
    "for words in work['new']:\n",
    "    word_list += list(set(words.split()))\n",
    "    word_list = list(set(word_list))\n",
    "    \n",
    "word_list = sorted(word_list)\n",
    "\n",
    "len(word_list)"
   ]
  },
  {
   "cell_type": "code",
   "execution_count": null,
   "id": "cd5e1978",
   "metadata": {},
   "outputs": [],
   "source": [
    "# словарь с нулевыми значениями\n",
    "\n",
    "word_dict = {}\n",
    "\n",
    "for word in word_list:\n",
    "    word_dict[word] = 0"
   ]
  },
  {
   "cell_type": "code",
   "execution_count": null,
   "id": "40f50f66",
   "metadata": {},
   "outputs": [],
   "source": []
  },
  {
   "cell_type": "code",
   "execution_count": null,
   "id": "e4d17ee1",
   "metadata": {},
   "outputs": [],
   "source": [
    "# группирую по годам\n",
    "\n",
    "words_for_years = (work.groupby('year', as_index=False)\n",
    " .agg({'word_list_u': 'sum'})) "
   ]
  },
  {
   "cell_type": "code",
   "execution_count": null,
   "id": "82c1ea87",
   "metadata": {},
   "outputs": [],
   "source": [
    "words_for_years"
   ]
  },
  {
   "cell_type": "code",
   "execution_count": null,
   "id": "39fc902b",
   "metadata": {},
   "outputs": [],
   "source": [
    "year_list = words_for_years.year.to_list()"
   ]
  },
  {
   "cell_type": "code",
   "execution_count": null,
   "id": "4aae53d9",
   "metadata": {},
   "outputs": [],
   "source": [
    "\n",
    "NYT_words = pd.DataFrame()\n",
    "\n",
    "for need_year in tqdm(year_list):\n",
    "    \n",
    "    for word in word_list: # словарь с частотами\n",
    "        \n",
    "        need_word_list = words_for_years[words_for_years['year'] == need_year]['word_list_u'].to_list()[0]\n",
    "        \n",
    "        word_dict[word] = need_word_list.count(word)\n",
    "        \n",
    "    \n",
    "    # временный датафрейм\n",
    "    temp_work = (pd.DataFrame.from_dict(word_dict, orient='index')\n",
    "                 .reset_index()\n",
    "                 .rename(columns={'index': 'word', 0:'number'}))\n",
    "    \n",
    "    temp_work['year'] = need_year\n",
    "    \n",
    "    NYT_words = NYT_words.append(temp_work)       "
   ]
  },
  {
   "cell_type": "code",
   "execution_count": null,
   "id": "20a9e0ca",
   "metadata": {},
   "outputs": [],
   "source": [
    "NYT_words"
   ]
  },
  {
   "cell_type": "code",
   "execution_count": null,
   "id": "ac56d02e",
   "metadata": {},
   "outputs": [],
   "source": []
  },
  {
   "cell_type": "code",
   "execution_count": null,
   "id": "79660195",
   "metadata": {},
   "outputs": [],
   "source": []
  },
  {
   "cell_type": "code",
   "execution_count": null,
   "id": "a05e1b0a",
   "metadata": {},
   "outputs": [],
   "source": []
  },
  {
   "cell_type": "code",
   "execution_count": null,
   "id": "e230958d",
   "metadata": {},
   "outputs": [],
   "source": [
    "work.sample(3)"
   ]
  },
  {
   "cell_type": "code",
   "execution_count": null,
   "id": "5115591e",
   "metadata": {},
   "outputs": [],
   "source": []
  },
  {
   "cell_type": "code",
   "execution_count": null,
   "id": "93572517",
   "metadata": {},
   "outputs": [],
   "source": []
  },
  {
   "cell_type": "code",
   "execution_count": null,
   "id": "08e7f70f",
   "metadata": {},
   "outputs": [],
   "source": []
  },
  {
   "cell_type": "code",
   "execution_count": null,
   "id": "e3e49553",
   "metadata": {},
   "outputs": [],
   "source": [
    "work_new.to_csv('C:/00_Projects/NYT/NYT_4_1.csv', encoding='utf8', index=False)"
   ]
  },
  {
   "cell_type": "code",
   "execution_count": null,
   "id": "620ce536",
   "metadata": {},
   "outputs": [],
   "source": []
  },
  {
   "cell_type": "code",
   "execution_count": null,
   "id": "218e1e8b",
   "metadata": {},
   "outputs": [],
   "source": []
  },
  {
   "cell_type": "code",
   "execution_count": null,
   "id": "2659909e",
   "metadata": {},
   "outputs": [],
   "source": []
  }
 ],
 "metadata": {
  "kernelspec": {
   "display_name": "Python 3 (ipykernel)",
   "language": "python",
   "name": "python3"
  },
  "language_info": {
   "codemirror_mode": {
    "name": "ipython",
    "version": 3
   },
   "file_extension": ".py",
   "mimetype": "text/x-python",
   "name": "python",
   "nbconvert_exporter": "python",
   "pygments_lexer": "ipython3",
   "version": "3.9.7"
  }
 },
 "nbformat": 4,
 "nbformat_minor": 5
}
