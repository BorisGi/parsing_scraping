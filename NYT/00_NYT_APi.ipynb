{
 "cells": [
  {
   "cell_type": "code",
   "execution_count": null,
   "id": "82c48dd4",
   "metadata": {},
   "outputs": [],
   "source": [
    "# для запросов\n",
    "import requests\n",
    "\n",
    "# для работы с JSON\n",
    "import json\n",
    "\n",
    "# для работы с папками\n",
    "import os\n",
    "\n",
    "# прогресс-бар\n",
    "from tqdm.notebook import trange, tqdm\n",
    "\n",
    "# \n",
    "from datetime import timedelta, date\n",
    "\n",
    "# для пауз при парсинге\n",
    "from time import sleep\n",
    "\n",
    "# для дафреймов\n",
    "import pandas as pd"
   ]
  },
  {
   "cell_type": "code",
   "execution_count": null,
   "id": "5c79109c",
   "metadata": {},
   "outputs": [],
   "source": [
    "# путь к файлам\n",
    "\n",
    "file_path = 'C:/00_Projects/' + input() # путь к папке проекта\n",
    "api_key_path = 'C:/work/keys/NYT.txt' # путь к файлу с ключом"
   ]
  },
  {
   "cell_type": "code",
   "execution_count": null,
   "id": "753a0fb8",
   "metadata": {},
   "outputs": [],
   "source": [
    "# загружаю API ключ\n",
    "\n",
    "with open(api_key_path, 'r') as f:\n",
    "    for line in f:\n",
    "        api_key = line"
   ]
  },
  {
   "cell_type": "code",
   "execution_count": null,
   "id": "e901995b",
   "metadata": {},
   "outputs": [],
   "source": [
    "data = [] # список для данных"
   ]
  },
  {
   "cell_type": "code",
   "execution_count": null,
   "id": "079778b4",
   "metadata": {},
   "outputs": [],
   "source": [
    "for need_year in range(1917, 1918):\n",
    "    \n",
    "    for need_mounth in tqdm(range(1, 13)):\n",
    "        try:\n",
    "            url = f'https://api.nytimes.com/svc/archive/v1/{need_year}/{need_mounth}.json?api-key={api_key}'\n",
    "            result = requests.get(url).json()['response']['docs']\n",
    "            sleep(10)\n",
    "            \n",
    "            \n",
    "        except:\n",
    "            sleep(5)\n",
    "            url = f'https://api.nytimes.com/svc/archive/v1/{need_year}/{need_mounth}.json?api-key={api_key}'\n",
    "            result = requests.get(url).json()['response']['docs']\n",
    "        \n",
    "        for article in result:\n",
    "            \n",
    "            headline = article['headline']['main'] # заголовок\n",
    "            print_headline = article['headline']['print_headline'] # печатный заголовок\n",
    "            lead_paragraph = article['lead_paragraph'] # лид\n",
    "            pub_date = article['pub_date'] # дата публикации\n",
    "            \n",
    "            data.append([headline, print_headline, pub_date, need_year, need_mounth])         \n"
   ]
  },
  {
   "cell_type": "code",
   "execution_count": null,
   "id": "92339010",
   "metadata": {},
   "outputs": [],
   "source": [
    "# записываю в датафрейм\n",
    "\n",
    "head_list = ['headline', 'print_headline', 'pub_date', 'need_year', 'need_mounth']\n",
    "\n",
    "work = pd.DataFrame(data, columns=head_list)"
   ]
  },
  {
   "cell_type": "code",
   "execution_count": null,
   "id": "044a5dc3",
   "metadata": {},
   "outputs": [],
   "source": [
    "work.shape"
   ]
  },
  {
   "cell_type": "code",
   "execution_count": null,
   "id": "aa9a047a",
   "metadata": {},
   "outputs": [],
   "source": [
    "work.head()"
   ]
  },
  {
   "cell_type": "code",
   "execution_count": null,
   "id": "a6fc855e",
   "metadata": {},
   "outputs": [],
   "source": [
    "work.drop_duplicates(inplace=True)"
   ]
  },
  {
   "cell_type": "code",
   "execution_count": null,
   "id": "20ad2ec9",
   "metadata": {},
   "outputs": [],
   "source": [
    "work.shape"
   ]
  },
  {
   "cell_type": "code",
   "execution_count": null,
   "id": "3d87a33c",
   "metadata": {},
   "outputs": [],
   "source": [
    "#work_1 = work_1.rename(columns={'headline': 'LEAD_PARAGRAPH', 'pub_date': 'DATE', 'need_year': 'year'})"
   ]
  },
  {
   "cell_type": "code",
   "execution_count": null,
   "id": "1e164c33",
   "metadata": {},
   "outputs": [],
   "source": [
    "work.to_csv('C:/00_Projects/NYT/new/NYT_temp.csv', encoding='utf8', index=False)"
   ]
  },
  {
   "cell_type": "code",
   "execution_count": null,
   "id": "2f076060",
   "metadata": {},
   "outputs": [],
   "source": []
  },
  {
   "cell_type": "code",
   "execution_count": null,
   "id": "bbddc2b7",
   "metadata": {},
   "outputs": [],
   "source": []
  }
 ],
 "metadata": {
  "kernelspec": {
   "display_name": "Python 3 (ipykernel)",
   "language": "python",
   "name": "python3"
  },
  "language_info": {
   "codemirror_mode": {
    "name": "ipython",
    "version": 3
   },
   "file_extension": ".py",
   "mimetype": "text/x-python",
   "name": "python",
   "nbconvert_exporter": "python",
   "pygments_lexer": "ipython3",
   "version": "3.9.7"
  }
 },
 "nbformat": 4,
 "nbformat_minor": 5
}
