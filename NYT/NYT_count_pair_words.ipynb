{
 "cells": [
  {
   "cell_type": "code",
   "execution_count": 1,
   "id": "9187bf7b",
   "metadata": {},
   "outputs": [],
   "source": [
    "# для работы с папками\n",
    "import os\n",
    "\n",
    "# прогресс-бар\n",
    "from tqdm.notebook import trange, tqdm\n",
    "\n",
    "# регулярки\n",
    "import re\n",
    "\n",
    "# \n",
    "from datetime import timedelta, date\n",
    "\n",
    "# для пауз при парсинге\n",
    "from time import sleep\n",
    "\n",
    "# для дафреймов\n",
    "import pandas as pd"
   ]
  },
  {
   "cell_type": "code",
   "execution_count": 2,
   "id": "7486d5d7",
   "metadata": {},
   "outputs": [],
   "source": [
    "file_path = 'C:/00_Projects/NYT/new/'"
   ]
  },
  {
   "cell_type": "code",
   "execution_count": 3,
   "id": "281b217c",
   "metadata": {},
   "outputs": [],
   "source": [
    "# вытаскиваю названия файлов в список file_list\n",
    "\n",
    "file_list = []\n",
    "\n",
    "for root, dirs, files in os.walk(file_path + 'decades/'):\n",
    "    \n",
    "    for filename in files:\n",
    "        file_list += [filename]"
   ]
  },
  {
   "cell_type": "code",
   "execution_count": 4,
   "id": "8a9e1630",
   "metadata": {},
   "outputs": [
    {
     "name": "stdout",
     "output_type": "stream",
     "text": [
      "['NYT_1850_1859.csv', 'NYT_1860_1869.csv', 'NYT_1870_1879.csv', 'NYT_1880_1889.csv', 'NYT_1890_1899.csv', 'NYT_1900_1909.csv', 'NYT_1910_1919.csv', 'NYT_1920_1929.csv', 'NYT_1930_1939.csv', 'NYT_1940_1949.csv', 'NYT_1950_1959.csv', 'NYT_1960_1969.csv', 'NYT_1970_1979.csv', 'NYT_1980_1989.csv', 'NYT_1990_1999.csv', 'NYT_2000_2009.csv', 'NYT_2010_2019.csv', 'NYT_2020_2029.csv']\n"
     ]
    }
   ],
   "source": [
    "print(file_list)"
   ]
  },
  {
   "cell_type": "code",
   "execution_count": null,
   "id": "3f99ad82",
   "metadata": {},
   "outputs": [],
   "source": []
  },
  {
   "cell_type": "code",
   "execution_count": null,
   "id": "247942b5",
   "metadata": {},
   "outputs": [],
   "source": []
  },
  {
   "cell_type": "code",
   "execution_count": 5,
   "id": "e97e78d6",
   "metadata": {},
   "outputs": [],
   "source": [
    "need_words = ['women']"
   ]
  },
  {
   "cell_type": "code",
   "execution_count": 6,
   "id": "ea09d556",
   "metadata": {},
   "outputs": [
    {
     "name": "stdout",
     "output_type": "stream",
     "text": [
      "woman\n"
     ]
    }
   ],
   "source": [
    "need_word = input()"
   ]
  },
  {
   "cell_type": "code",
   "execution_count": 23,
   "id": "d9ba0f65",
   "metadata": {
    "scrolled": true
   },
   "outputs": [
    {
     "data": {
      "application/vnd.jupyter.widget-view+json": {
       "model_id": "d942bfbf24fe40b5b3e946b11aee5959",
       "version_major": 2,
       "version_minor": 0
      },
      "text/plain": [
       "  0%|          | 0/18 [00:00<?, ?it/s]"
      ]
     },
     "metadata": {},
     "output_type": "display_data"
    }
   ],
   "source": [
    "work_pairs = pd.DataFrame()\n",
    "\n",
    "\n",
    "for file_name in tqdm(file_list):\n",
    "            \n",
    "    work = pd.read_csv(file_path + 'decades/' + file_name) # загружаю датасет десятилетия\n",
    "    \n",
    "    year_list = list(work['year'].unique()) # список годов декады\n",
    "    \n",
    "\n",
    "    \n",
    "    for need_year in year_list:\n",
    "        \n",
    "        pair_list = [] # список для слов\n",
    "        \n",
    "        year_work = work[work['year'] == need_year]\n",
    "                \n",
    "        pair_words = year_work[(year_work['new'].str.contains(f'{need_word} ', case=False, na=False))\n",
    "                         ][['new']].reset_index()\n",
    "        \n",
    "        for need_pare in pair_words['new']:\n",
    "            \n",
    "            #pair_list += re.findall(f'{need_word}\\s\\S+', need_pare)\n",
    "            pair_list += re.findall(f'\\S+\\s{need_word}', need_pare)\n",
    "            \n",
    "            \n",
    "        work_pair_words = pd.DataFrame(pair_list, columns=['word'])\n",
    "        work_pair_words['number'] = 1\n",
    "        pair_number = (work_pair_words\n",
    "                       .groupby('word', as_index=False)\n",
    "                       .agg({'number': 'sum'}))\n",
    "        \n",
    "        pair_number['decade'] = file_name[4:13]\n",
    "        pair_number['year'] = need_year\n",
    "            \n",
    "            \n",
    "        # добавляю в общий фрейм\n",
    "        work_pairs = work_pairs.append(pair_number)"
   ]
  },
  {
   "cell_type": "code",
   "execution_count": null,
   "id": "c8a2c25f",
   "metadata": {},
   "outputs": [],
   "source": []
  },
  {
   "cell_type": "code",
   "execution_count": 24,
   "id": "5f820685",
   "metadata": {},
   "outputs": [],
   "source": [
    "work_pairs_years = (work_pairs.groupby(['decade', 'year', 'word'], as_index=False)\n",
    "                    .agg({'number': 'sum'})\n",
    "                    #.sort_values(['year', 'number'], ascending=[True, False])\n",
    "                   )"
   ]
  },
  {
   "cell_type": "code",
   "execution_count": 25,
   "id": "81ec00cd",
   "metadata": {},
   "outputs": [],
   "source": [
    "work_pairs_years.to_excel(file_path + need_word + '2.xlsx', index=False)"
   ]
  },
  {
   "cell_type": "code",
   "execution_count": 26,
   "id": "731bdf0d",
   "metadata": {},
   "outputs": [
    {
     "data": {
      "text/html": [
       "<div>\n",
       "<style scoped>\n",
       "    .dataframe tbody tr th:only-of-type {\n",
       "        vertical-align: middle;\n",
       "    }\n",
       "\n",
       "    .dataframe tbody tr th {\n",
       "        vertical-align: top;\n",
       "    }\n",
       "\n",
       "    .dataframe thead th {\n",
       "        text-align: right;\n",
       "    }\n",
       "</style>\n",
       "<table border=\"1\" class=\"dataframe\">\n",
       "  <thead>\n",
       "    <tr style=\"text-align: right;\">\n",
       "      <th></th>\n",
       "      <th>decade</th>\n",
       "      <th>year</th>\n",
       "      <th>word</th>\n",
       "      <th>number</th>\n",
       "    </tr>\n",
       "  </thead>\n",
       "  <tbody>\n",
       "    <tr>\n",
       "      <th>0</th>\n",
       "      <td>1850_1859</td>\n",
       "      <td>1851</td>\n",
       "      <td>alarm woman</td>\n",
       "      <td>1</td>\n",
       "    </tr>\n",
       "    <tr>\n",
       "      <th>1</th>\n",
       "      <td>1850_1859</td>\n",
       "      <td>1851</td>\n",
       "      <td>american woman</td>\n",
       "      <td>1</td>\n",
       "    </tr>\n",
       "    <tr>\n",
       "      <th>2</th>\n",
       "      <td>1850_1859</td>\n",
       "      <td>1851</td>\n",
       "      <td>another woman</td>\n",
       "      <td>1</td>\n",
       "    </tr>\n",
       "    <tr>\n",
       "      <th>3</th>\n",
       "      <td>1850_1859</td>\n",
       "      <td>1851</td>\n",
       "      <td>body woman</td>\n",
       "      <td>1</td>\n",
       "    </tr>\n",
       "    <tr>\n",
       "      <th>4</th>\n",
       "      <td>1850_1859</td>\n",
       "      <td>1851</td>\n",
       "      <td>demonstration woman</td>\n",
       "      <td>1</td>\n",
       "    </tr>\n",
       "    <tr>\n",
       "      <th>...</th>\n",
       "      <td>...</td>\n",
       "      <td>...</td>\n",
       "      <td>...</td>\n",
       "      <td>...</td>\n",
       "    </tr>\n",
       "    <tr>\n",
       "      <th>124792</th>\n",
       "      <td>2020_2029</td>\n",
       "      <td>2022</td>\n",
       "      <td>work woman</td>\n",
       "      <td>1</td>\n",
       "    </tr>\n",
       "    <tr>\n",
       "      <th>124793</th>\n",
       "      <td>2020_2029</td>\n",
       "      <td>2022</td>\n",
       "      <td>workplace woman</td>\n",
       "      <td>2</td>\n",
       "    </tr>\n",
       "    <tr>\n",
       "      <th>124794</th>\n",
       "      <td>2020_2029</td>\n",
       "      <td>2022</td>\n",
       "      <td>yard woman</td>\n",
       "      <td>1</td>\n",
       "    </tr>\n",
       "    <tr>\n",
       "      <th>124795</th>\n",
       "      <td>2020_2029</td>\n",
       "      <td>2022</td>\n",
       "      <td>york woman</td>\n",
       "      <td>1</td>\n",
       "    </tr>\n",
       "    <tr>\n",
       "      <th>124796</th>\n",
       "      <td>2020_2029</td>\n",
       "      <td>2022</td>\n",
       "      <td>young woman</td>\n",
       "      <td>11</td>\n",
       "    </tr>\n",
       "  </tbody>\n",
       "</table>\n",
       "<p>124797 rows × 4 columns</p>\n",
       "</div>"
      ],
      "text/plain": [
       "           decade  year                 word  number\n",
       "0       1850_1859  1851          alarm woman       1\n",
       "1       1850_1859  1851       american woman       1\n",
       "2       1850_1859  1851        another woman       1\n",
       "3       1850_1859  1851           body woman       1\n",
       "4       1850_1859  1851  demonstration woman       1\n",
       "...           ...   ...                  ...     ...\n",
       "124792  2020_2029  2022           work woman       1\n",
       "124793  2020_2029  2022      workplace woman       2\n",
       "124794  2020_2029  2022           yard woman       1\n",
       "124795  2020_2029  2022           york woman       1\n",
       "124796  2020_2029  2022          young woman      11\n",
       "\n",
       "[124797 rows x 4 columns]"
      ]
     },
     "execution_count": 26,
     "metadata": {},
     "output_type": "execute_result"
    }
   ],
   "source": [
    "work_pairs_years"
   ]
  },
  {
   "cell_type": "code",
   "execution_count": null,
   "id": "a1414580",
   "metadata": {},
   "outputs": [],
   "source": []
  }
 ],
 "metadata": {
  "kernelspec": {
   "display_name": "Python 3 (ipykernel)",
   "language": "python",
   "name": "python3"
  },
  "language_info": {
   "codemirror_mode": {
    "name": "ipython",
    "version": 3
   },
   "file_extension": ".py",
   "mimetype": "text/x-python",
   "name": "python",
   "nbconvert_exporter": "python",
   "pygments_lexer": "ipython3",
   "version": "3.9.7"
  }
 },
 "nbformat": 4,
 "nbformat_minor": 5
}
