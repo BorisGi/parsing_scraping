{
 "cells": [
  {
   "cell_type": "code",
   "execution_count": null,
   "id": "e7dc26f4",
   "metadata": {},
   "outputs": [],
   "source": []
  },
  {
   "cell_type": "code",
   "execution_count": 1,
   "id": "9187bf7b",
   "metadata": {},
   "outputs": [],
   "source": [
    "# для запросов\n",
    "import requests\n",
    "\n",
    "# для работы с JSON\n",
    "import json\n",
    "\n",
    "# для работы с папками\n",
    "import os\n",
    "\n",
    "# прогресс-бар\n",
    "from tqdm.notebook import trange, tqdm\n",
    "\n",
    "# \n",
    "from datetime import timedelta, date\n",
    "\n",
    "# для пауз при парсинге\n",
    "from time import sleep\n",
    "\n",
    "# для дафреймов\n",
    "import pandas as pd\n",
    "\n",
    "\n",
    "import nltk\n",
    "from nltk.corpus import stopwords\n",
    "from nltk.stem import WordNetLemmatizer\n",
    "\n",
    "from pymystem3 import Mystem\n",
    "\n",
    "import spacy # общий пакет, где лежит весь функционал\n",
    "import en_core_web_sm # натренированные модели на english\n",
    "\n",
    "import string # пунктуация\n",
    "\n",
    "import warnings\n",
    "warnings.filterwarnings(\"ignore\",category=DeprecationWarning)\n",
    "\n",
    "pd.options.display.max_rows = 999"
   ]
  },
  {
   "cell_type": "code",
   "execution_count": 2,
   "id": "7486d5d7",
   "metadata": {},
   "outputs": [],
   "source": [
    "file_path = 'C:/00_Projects/NYT/new/'"
   ]
  },
  {
   "cell_type": "code",
   "execution_count": null,
   "id": "e7ec239c",
   "metadata": {},
   "outputs": [],
   "source": []
  },
  {
   "cell_type": "markdown",
   "id": "b4818cc7",
   "metadata": {},
   "source": [
    "### Загружаю файлы  ###"
   ]
  },
  {
   "cell_type": "code",
   "execution_count": 3,
   "id": "c2d194ea",
   "metadata": {},
   "outputs": [],
   "source": [
    "work = pd.read_csv(file_path + 'NYT_temp.csv')"
   ]
  },
  {
   "cell_type": "code",
   "execution_count": 4,
   "id": "be47cfe4",
   "metadata": {},
   "outputs": [
    {
     "data": {
      "text/plain": [
       "(74702, 5)"
      ]
     },
     "execution_count": 4,
     "metadata": {},
     "output_type": "execute_result"
    }
   ],
   "source": [
    "work.shape"
   ]
  },
  {
   "cell_type": "code",
   "execution_count": 6,
   "id": "1c067113",
   "metadata": {},
   "outputs": [
    {
     "data": {
      "text/html": [
       "<div>\n",
       "<style scoped>\n",
       "    .dataframe tbody tr th:only-of-type {\n",
       "        vertical-align: middle;\n",
       "    }\n",
       "\n",
       "    .dataframe tbody tr th {\n",
       "        vertical-align: top;\n",
       "    }\n",
       "\n",
       "    .dataframe thead th {\n",
       "        text-align: right;\n",
       "    }\n",
       "</style>\n",
       "<table border=\"1\" class=\"dataframe\">\n",
       "  <thead>\n",
       "    <tr style=\"text-align: right;\">\n",
       "      <th></th>\n",
       "      <th>headline</th>\n",
       "      <th>print_headline</th>\n",
       "      <th>pub_date</th>\n",
       "      <th>need_year</th>\n",
       "      <th>need_mounth</th>\n",
       "    </tr>\n",
       "  </thead>\n",
       "  <tbody>\n",
       "    <tr>\n",
       "      <th>0</th>\n",
       "      <td>WAR UNTIL VICTORY.; Against an Attempt to End ...</td>\n",
       "      <td>WAR UNTIL VICTORY.; Against an Attempt to End ...</td>\n",
       "      <td>1917-01-01T05:00:00+0000</td>\n",
       "      <td>1917</td>\n",
       "      <td>1</td>\n",
       "    </tr>\n",
       "    <tr>\n",
       "      <th>1</th>\n",
       "      <td>GATHER FOR JUNIOR MEET.; Athletes Reach Buffal...</td>\n",
       "      <td>GATHER FOR JUNIOR MEET.; Athletes Reach Buffal...</td>\n",
       "      <td>1917-01-01T05:00:00+0000</td>\n",
       "      <td>1917</td>\n",
       "      <td>1</td>\n",
       "    </tr>\n",
       "    <tr>\n",
       "      <th>2</th>\n",
       "      <td>ARRIVAL OF BUYERS</td>\n",
       "      <td>ARRIVAL OF BUYERS</td>\n",
       "      <td>1917-01-01T05:00:00+0000</td>\n",
       "      <td>1917</td>\n",
       "      <td>1</td>\n",
       "    </tr>\n",
       "    <tr>\n",
       "      <th>3</th>\n",
       "      <td>DECEMBER TRANSACTIONS</td>\n",
       "      <td>DECEMBER TRANSACTIONS</td>\n",
       "      <td>1917-01-01T05:00:00+0000</td>\n",
       "      <td>1917</td>\n",
       "      <td>1</td>\n",
       "    </tr>\n",
       "    <tr>\n",
       "      <th>4</th>\n",
       "      <td>45 IDIOT GIRLS DIE IN FIRE IN CANADA; Convent ...</td>\n",
       "      <td>45 IDIOT GIRLS DIE IN FIRE IN CANADA; Convent ...</td>\n",
       "      <td>1917-01-01T05:00:00+0000</td>\n",
       "      <td>1917</td>\n",
       "      <td>1</td>\n",
       "    </tr>\n",
       "  </tbody>\n",
       "</table>\n",
       "</div>"
      ],
      "text/plain": [
       "                                            headline  \\\n",
       "0  WAR UNTIL VICTORY.; Against an Attempt to End ...   \n",
       "1  GATHER FOR JUNIOR MEET.; Athletes Reach Buffal...   \n",
       "2                                  ARRIVAL OF BUYERS   \n",
       "3                              DECEMBER TRANSACTIONS   \n",
       "4  45 IDIOT GIRLS DIE IN FIRE IN CANADA; Convent ...   \n",
       "\n",
       "                                      print_headline  \\\n",
       "0  WAR UNTIL VICTORY.; Against an Attempt to End ...   \n",
       "1  GATHER FOR JUNIOR MEET.; Athletes Reach Buffal...   \n",
       "2                                  ARRIVAL OF BUYERS   \n",
       "3                              DECEMBER TRANSACTIONS   \n",
       "4  45 IDIOT GIRLS DIE IN FIRE IN CANADA; Convent ...   \n",
       "\n",
       "                   pub_date  need_year  need_mounth  \n",
       "0  1917-01-01T05:00:00+0000       1917            1  \n",
       "1  1917-01-01T05:00:00+0000       1917            1  \n",
       "2  1917-01-01T05:00:00+0000       1917            1  \n",
       "3  1917-01-01T05:00:00+0000       1917            1  \n",
       "4  1917-01-01T05:00:00+0000       1917            1  "
      ]
     },
     "execution_count": 6,
     "metadata": {},
     "output_type": "execute_result"
    }
   ],
   "source": [
    "work.head()"
   ]
  },
  {
   "cell_type": "code",
   "execution_count": null,
   "id": "c3a16778",
   "metadata": {},
   "outputs": [],
   "source": []
  },
  {
   "cell_type": "code",
   "execution_count": null,
   "id": "091fce53",
   "metadata": {},
   "outputs": [],
   "source": []
  },
  {
   "cell_type": "code",
   "execution_count": null,
   "id": "111e4a73",
   "metadata": {},
   "outputs": [],
   "source": []
  },
  {
   "cell_type": "code",
   "execution_count": null,
   "id": "6731e702",
   "metadata": {},
   "outputs": [],
   "source": [
    "# перевожу названия столбцов в нижний регистр\n",
    "\n",
    "work.columns = work.columns.str.lower()"
   ]
  },
  {
   "cell_type": "code",
   "execution_count": null,
   "id": "4b33b398",
   "metadata": {},
   "outputs": [],
   "source": [
    "work['clear'] = work['headline'].copy()"
   ]
  },
  {
   "cell_type": "code",
   "execution_count": null,
   "id": "e289329c",
   "metadata": {},
   "outputs": [],
   "source": [
    "work['clear'] = work['clear'].str.lower()\n",
    "work['clear'] = work['clear'].str.replace(r'[^\\w\\s]+', ' ', regex=True)\n",
    "work['clear'] = work['clear'].str.replace(r'[0-9]+', ' ', regex=True)\n",
    "work['clear'] = work['clear'].str.replace('\\s+', ' ', regex=True)"
   ]
  },
  {
   "cell_type": "code",
   "execution_count": null,
   "id": "06f71319",
   "metadata": {},
   "outputs": [],
   "source": [
    "work.head()"
   ]
  },
  {
   "cell_type": "code",
   "execution_count": null,
   "id": "9b574211",
   "metadata": {},
   "outputs": [],
   "source": [
    "work.shape"
   ]
  },
  {
   "cell_type": "code",
   "execution_count": null,
   "id": "27561244",
   "metadata": {},
   "outputs": [],
   "source": [
    "with open(file_path + 'stop_en.txt', 'r', encoding='utf-8') as f:\n",
    "        stopwords = f.read().split('\\n')"
   ]
  },
  {
   "cell_type": "code",
   "execution_count": null,
   "id": "4193ee53",
   "metadata": {},
   "outputs": [],
   "source": [
    "nlp = en_core_web_sm.load()"
   ]
  },
  {
   "cell_type": "code",
   "execution_count": null,
   "id": "0f361644",
   "metadata": {},
   "outputs": [],
   "source": [
    "def lemma_text(df):\n",
    "    \n",
    "    new_text = nlp(str(df['clear']))\n",
    "    punctuations = string.punctuation\n",
    "    \n",
    "    mytokens = nlp(str(new_text))\n",
    "    mytokens = [ word.lemma_.lower().strip() for word in mytokens ]\n",
    "    mytokens = [ word for word in mytokens if word not in stopwords and word not in punctuations ]\n",
    "    mytokens = \" \".join([i for i in mytokens])\n",
    "    return mytokens"
   ]
  },
  {
   "cell_type": "code",
   "execution_count": null,
   "id": "44faa8e3",
   "metadata": {},
   "outputs": [],
   "source": [
    "work_1 = work.copy()"
   ]
  },
  {
   "cell_type": "code",
   "execution_count": null,
   "id": "326dd42a",
   "metadata": {},
   "outputs": [],
   "source": [
    "%%time\n",
    "\n",
    "work_1['new'] = work_1.apply(lemma_text, axis=1)"
   ]
  },
  {
   "cell_type": "code",
   "execution_count": null,
   "id": "5fa70e5a",
   "metadata": {},
   "outputs": [],
   "source": [
    "work_1.shape"
   ]
  },
  {
   "cell_type": "code",
   "execution_count": null,
   "id": "e3e49553",
   "metadata": {},
   "outputs": [],
   "source": [
    "work_1.to_csv(file_path + '/work_2000_4_2.csv', encoding='utf8', index=False)"
   ]
  },
  {
   "cell_type": "code",
   "execution_count": null,
   "id": "620ce536",
   "metadata": {},
   "outputs": [],
   "source": []
  }
 ],
 "metadata": {
  "kernelspec": {
   "display_name": "Python 3 (ipykernel)",
   "language": "python",
   "name": "python3"
  },
  "language_info": {
   "codemirror_mode": {
    "name": "ipython",
    "version": 3
   },
   "file_extension": ".py",
   "mimetype": "text/x-python",
   "name": "python",
   "nbconvert_exporter": "python",
   "pygments_lexer": "ipython3",
   "version": "3.9.7"
  }
 },
 "nbformat": 4,
 "nbformat_minor": 5
}
