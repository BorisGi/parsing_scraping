{
 "cells": [
  {
   "cell_type": "code",
   "execution_count": null,
   "id": "9187bf7b",
   "metadata": {},
   "outputs": [],
   "source": [
    "# для работы с папками\n",
    "import os\n",
    "\n",
    "# прогресс-бар\n",
    "from tqdm.notebook import trange, tqdm\n",
    "\n",
    "# регулярки\n",
    "import re\n",
    "\n",
    "# \n",
    "from datetime import timedelta, date\n",
    "\n",
    "# для пауз при парсинге\n",
    "from time import sleep\n",
    "\n",
    "# для дафреймов\n",
    "import pandas as pd"
   ]
  },
  {
   "cell_type": "code",
   "execution_count": null,
   "id": "7486d5d7",
   "metadata": {},
   "outputs": [],
   "source": [
    "file_path = 'C:/00_Projects/NYT/new/'"
   ]
  },
  {
   "cell_type": "code",
   "execution_count": null,
   "id": "281b217c",
   "metadata": {},
   "outputs": [],
   "source": [
    "# вытаскиваю названия файлов в список file_list\n",
    "\n",
    "file_list = []\n",
    "\n",
    "for root, dirs, files in os.walk(file_path + 'decades/'):\n",
    "    \n",
    "    for filename in files:\n",
    "        file_list += [filename]"
   ]
  },
  {
   "cell_type": "code",
   "execution_count": null,
   "id": "8a9e1630",
   "metadata": {},
   "outputs": [],
   "source": [
    "print(file_list)"
   ]
  },
  {
   "cell_type": "code",
   "execution_count": null,
   "id": "6c104233",
   "metadata": {},
   "outputs": [],
   "source": []
  },
  {
   "cell_type": "code",
   "execution_count": null,
   "id": "35d12cb7",
   "metadata": {},
   "outputs": [],
   "source": []
  },
  {
   "cell_type": "code",
   "execution_count": null,
   "id": "f7e9caf9",
   "metadata": {},
   "outputs": [],
   "source": [
    "# считаю количество статей по годам \n",
    "\n",
    "article_number_year = pd.DataFrame()\n",
    "\n",
    "for file_name in tqdm(file_list):\n",
    "            \n",
    "    work = pd.read_csv(file_path + 'decades/' + file_name) # загружаю датасет десятилетия\n",
    "    \n",
    "    temp_number = (work.groupby('year', as_index=False)\n",
    "                   .agg({'clear': 'count'})\n",
    "                   .rename(columns={'clear': 'article_number'}))\n",
    "    \n",
    "    temp_number['decade'] = file_name[4:13]\n",
    "    \n",
    "    article_number_year = article_number_year.append(temp_number)"
   ]
  },
  {
   "cell_type": "code",
   "execution_count": null,
   "id": "95274989",
   "metadata": {},
   "outputs": [],
   "source": [
    "article_number_year.head()"
   ]
  },
  {
   "cell_type": "code",
   "execution_count": null,
   "id": "a89628dd",
   "metadata": {},
   "outputs": [],
   "source": [
    "# записываю в файл\n",
    "\n",
    "#article_number_year.to_excel(file_path + 'article_number.xlsx', encoding='utf-8', index=False)"
   ]
  },
  {
   "cell_type": "code",
   "execution_count": null,
   "id": "3f99ad82",
   "metadata": {},
   "outputs": [],
   "source": []
  },
  {
   "cell_type": "code",
   "execution_count": null,
   "id": "d9ba0f65",
   "metadata": {
    "scrolled": true
   },
   "outputs": [],
   "source": [
    "for file_name in tqdm(file_list):\n",
    "            \n",
    "    work = pd.read_csv(file_path + 'decades/' + file_name) # загружаю датасет десятилетия\n",
    "    \n",
    "    # список слов десятилетия\n",
    "    word_list_all = [] # список для слов\n",
    "    \n",
    "    for words in work['new']:\n",
    "        word_list_all += list(set(str(words).split())) # добавляю слова в список\n",
    "        \n",
    "    word_list_all = list(set(word_list_all)) # удаляю повторы\n",
    "    word_list = [word for word in word_list_all if len(word) > 2] # удаляю слова из 1 и 2 символов\n",
    "    \n",
    "    # датафрейм слов десятилетия\n",
    "    all_words = pd.DataFrame(word_list, columns=['word'])\n",
    "        \n",
    "    \n",
    "    #\n",
    "    # считаю частоты\n",
    "    # датафрейм для частот десятилетия\n",
    "    NYT_decade_words = pd.DataFrame() \n",
    "    \n",
    "    year_list = list(work['year'].unique())\n",
    "    \n",
    "    for need_year in year_list:\n",
    "       \n",
    "        \n",
    "        year_work = work[work['year'] == need_year]\n",
    "        \n",
    "        year_word_list_all = [] # список для слов года\n",
    "        \n",
    "        # добавляю слова в список\n",
    "        for words in year_work['new']:\n",
    "            year_word_list_all += list(set(str(words).split()))\n",
    "            \n",
    "        # датафрейм слов года\n",
    "        year_words = pd.DataFrame(year_word_list_all, columns=['word'])\n",
    "        \n",
    "        # частота слова\n",
    "        year_words['number'] = 1\n",
    "        \n",
    "        # суммирую частоты одинаковых слов\n",
    "        year_NYT = (year_words.groupby('word', as_index=False)\n",
    "                    .agg({'number': 'sum'}))\n",
    "        \n",
    "        # объединяю с словами десятилетия\n",
    "        year_NYT_work = all_words.merge(year_NYT, how='left', on='word')\n",
    "        \n",
    "        # заполняю нули\n",
    "        year_NYT_work['number'].fillna(0, inplace=True)\n",
    "        \n",
    "        # добавляю год\n",
    "        year_NYT_work['year'] = need_year\n",
    "        \n",
    "        # добавляю в общий фрейм\n",
    "        NYT_decade_words = NYT_decade_words.append(year_NYT_work)\n",
    "        \n",
    "    \n",
    "    # добавляю декаду в датафрейм\n",
    "    NYT_decade_words['decade'] = file_name[4:13]\n",
    "    \n",
    "    # записываю в файл\n",
    "    NYT_decade_words.to_csv(file_path + 'words/words_' + file_name[4:13] + '.csv', encoding='utf-8', index=False)   "
   ]
  },
  {
   "cell_type": "code",
   "execution_count": null,
   "id": "7aafbc00",
   "metadata": {},
   "outputs": [],
   "source": []
  }
 ],
 "metadata": {
  "kernelspec": {
   "display_name": "Python 3 (ipykernel)",
   "language": "python",
   "name": "python3"
  },
  "language_info": {
   "codemirror_mode": {
    "name": "ipython",
    "version": 3
   },
   "file_extension": ".py",
   "mimetype": "text/x-python",
   "name": "python",
   "nbconvert_exporter": "python",
   "pygments_lexer": "ipython3",
   "version": "3.9.7"
  }
 },
 "nbformat": 4,
 "nbformat_minor": 5
}
